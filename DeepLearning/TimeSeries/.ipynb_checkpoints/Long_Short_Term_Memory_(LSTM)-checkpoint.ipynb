{
 "cells": [
  {
   "cell_type": "markdown",
   "metadata": {},
   "source": [
    "# Long Short Term Memory (LSTM) - Overcoming limitations of RNN\n",
    "\n",
    "\n",
    "### Readings\n",
    "\n",
    "http://deeplearning.cs.cmu.edu/pdfs/Hochreiter97_lstm.pdf - Hochreiter's original paper on LSTM\n",
    "\n",
    "http://arxiv.org/pdf/1410.4615.pdf - Sutskever SOTA LSTM - Feb 2015\n",
    "\n",
    "http://arxiv.org/pdf/1506.00019v4.pdf - Lipton's excellent survey of RNN\n",
    "\n",
    "https://www.youtube.com/watch?v=izGl1YSH_JA - Hinton video on LSTM\n",
    "\n"
   ]
  },
  {
   "cell_type": "markdown",
   "metadata": {},
   "source": [
    "## LSTM background\n",
    "\n",
    "http://arxiv.org/pdf/1506.00019v4.pdf - architecture of LSTM\n",
    "\n",
    "https://www.youtube.com/watch?v=izGl1YSH_JA - Hinton video gives clear animation of signal coming into LSTM, waiting in LSTM until useful, gradient calculation and signal leaving LSTM.  Anyone bring popcorn?\n",
    "\n",
    "LSTM was invented by Hochreiter to overcome some of the issues with conventional RNN's.  The forget gate was introduced by Gers et. al.  Code for LSTM is below.  "
   ]
  },
  {
   "cell_type": "code",
   "execution_count": 1,
   "metadata": {
    "collapsed": false
   },
   "outputs": [],
   "source": [
    "#based on  code from https://gist.github.com/tmramalho/5e8fda10f99233b2370f\n",
    "import theano\n",
    "import theano.tensor as T\n",
    "import numpy as np\n",
    "import cPickle as pickle\n",
    "import random\n",
    "import matplotlib.pyplot as plt\n",
    "from itertools import izip\n",
    "%matplotlib inline"
   ]
  },
  {
   "cell_type": "code",
   "execution_count": 22,
   "metadata": {
    "collapsed": true
   },
   "outputs": [],
   "source": [
    "class RNN(object):\n",
    "\n",
    "    def __init__(self, nin, n_hidden, nout):\n",
    "        rng = np.random.RandomState(1234)\n",
    "        # cell input\n",
    "        W_ug = np.asarray(rng.normal(size=(nin, n_hidden), scale= .01, loc = 0.0), dtype = theano.config.floatX)\n",
    "        W_hg = np.asarray(rng.normal(size=(n_hidden, n_hidden), scale=.01, loc = 0.0), dtype = theano.config.floatX)\n",
    "        b_g = np.zeros((n_hidden,), dtype=theano.config.floatX)\n",
    "        # input gate equation\n",
    "        W_ui = np.asarray(rng.normal(size=(nin, n_hidden), scale =.01, loc=0.0), dtype = theano.config.floatX)\n",
    "        W_hi = np.asarray(rng.normal(size=(n_hidden, n_hidden), scale =.01, loc=0.0), dtype = theano.config.floatX)\n",
    "        b_i = np.zeros((n_hidden,), dtype=theano.config.floatX)\n",
    "        # forget gate equations\n",
    "        W_uf = np.asarray(rng.normal(size=(nin, n_hidden), scale =.01, loc=0.0), dtype = theano.config.floatX)\n",
    "        W_hf = np.asarray(rng.normal(size=(n_hidden, n_hidden), scale =.01, loc=0.0), dtype = theano.config.floatX)\n",
    "        b_f = np.zeros((n_hidden,), dtype=theano.config.floatX)\n",
    "        # cell output gate equations\n",
    "        W_uo = np.asarray(rng.normal(size=(nin, n_hidden), scale =.01, loc=0.0), dtype = theano.config.floatX)\n",
    "        W_ho = np.asarray(rng.normal(size=(n_hidden, n_hidden), scale =.01, loc=0.0), dtype = theano.config.floatX)\n",
    "        b_o = np.zeros((n_hidden,), dtype=theano.config.floatX)\n",
    "        # output layer\n",
    "        W_hy = np.asarray(rng.normal(size=(n_hidden, nout), scale =.01, loc=0.0), dtype = theano.config.floatX)\n",
    "        b_hy = np.zeros((nout,), dtype=theano.config.floatX)\n",
    "\n",
    "        # cell input\n",
    "        W_ug = theano.shared(W_ug, 'W_ug')\n",
    "        W_hg = theano.shared(W_hg, 'W_hg')\n",
    "        b_g = theano.shared(b_g, 'b_g')\n",
    "        # input gate equation\n",
    "        W_ui = theano.shared(W_ui, 'W_ui')\n",
    "        W_hi = theano.shared(W_hi, 'W_hi')\n",
    "        b_i = theano.shared(b_i, 'b_i')\n",
    "        # forget gate equations\n",
    "        W_uf = theano.shared(W_uf, 'W_uf')\n",
    "        W_hf = theano.shared(W_hf, 'W_hf')\n",
    "        b_f = theano.shared(b_f, 'b_f')\n",
    "        # cell output gate equations\n",
    "        W_uo = theano.shared(W_uo, 'W_uo')\n",
    "        W_ho = theano.shared(W_ho, 'W_ho')\n",
    "        b_o = theano.shared(b_o, 'b_o')\n",
    "        # output layer\n",
    "        W_hy = theano.shared(W_hy, 'W_hy')\n",
    "        b_hy = theano.shared(b_hy, 'b_hy')\n",
    "\n",
    "        self.activ1 = T.nnet.sigmoid\n",
    "        self.activ2 = T.tanh\n",
    "        \n",
    "        lr = T.scalar()\n",
    "        u = T.matrix()\n",
    "        t = T.scalar()\n",
    "\n",
    "\n",
    "        h0_tm1 = theano.shared(np.zeros(n_hidden, dtype=theano.config.floatX))\n",
    "        s0_tm1 = theano.shared(np.zeros(n_hidden, dtype=theano.config.floatX))\n",
    "\n",
    "\n",
    "        #theano.printing.debugprint([h0_tm1, u, W_hh, W_uh, W_hy, b_hh, b_hy], print_type=True)\n",
    "        [h, s], _ = theano.scan(self.recurrent_fn, sequences = u,\n",
    "                           outputs_info = [h0_tm1, s0_tm1],\n",
    "                           non_sequences = [W_ug, W_hg, b_g, W_ui, W_hi,\n",
    "                                            b_i, W_uf, W_hf, b_f, W_uo, W_ho, b_o, W_hy, b_hy])\n",
    "\n",
    "        y = T.dot(h[-1], W_hy) + b_hy\n",
    "        cost = ((t - y)**2).mean(axis=0).sum()\n",
    "\n",
    "        gW_ug, gW_hg, gb_g, gW_ui, gW_hi, gb_i, \\\n",
    "        gW_uf, gW_hf, gb_f, gW_uo, gW_ho, gb_o, gW_hy, gb_hy \\\n",
    "            = T.grad(cost, [W_ug, W_hg, b_g, W_ui, W_hi, b_i, \\\n",
    "            W_uf, W_hf, b_f, W_uo, W_ho, b_o, W_hy, b_hy])\n",
    "            \n",
    "        update = [(W_ug, W_ug - lr*gW_ug), \n",
    "                  (W_hg, W_hg - lr*gW_hg ), \n",
    "                  (b_g, b_g - lr*gb_g), \n",
    "                  (W_ui, W_ui - lr*gW_ui),\n",
    "                  (W_hi, W_hi - lr*gW_hi), \n",
    "                  (b_i, b_i - lr*gb_i), \n",
    "                  (W_uf, W_uf - lr*gW_uf), \n",
    "                  (W_hf, W_hf - lr*gW_hf),\n",
    "                  (b_f, b_f - lr*gb_f),\n",
    "                  (W_uo, W_uo - lr*gW_uo), \n",
    "                  (W_ho, W_ho - lr*gW_ho), \n",
    "                  (b_o, b_o - lr*gb_o),\n",
    "                  (W_hy, W_hy - lr*gW_hy), \n",
    "                  (b_hy, b_hy - lr*gb_hy)]\n",
    "        \n",
    "        #theano.printing.debugprint([h0_tm1], print_type=True)\n",
    "        self.train_step = theano.function([u, t, lr], cost,\n",
    "            on_unused_input='warn',\n",
    "            updates=update,\n",
    "            allow_input_downcast=True)\n",
    "        \n",
    "        \n",
    "                \n",
    "        self.predict_step = theano.function([u, t], cost,\n",
    "           on_unused_input='warn',\n",
    "           allow_input_downcast=True)\n",
    "        \n",
    "\n",
    "    def recurrent_fn(self, u_t, h_tm1, s_tm1, W_ug, W_hg, b_g, W_ui, W_hi,\n",
    "                                            b_i, W_uf, W_hf, b_f, W_uo, W_ho, b_o, W_hy, b_hy):\n",
    "        g_t = self.activ2(T.dot(u_t, W_ug) + T.dot(h_tm1, W_hg) + b_g)\n",
    "        i_t = self.activ1(T.dot(u_t, W_ui) + T.dot(h_tm1, W_hi) + b_i)\n",
    "        f_t = self.activ1(T.dot(u_t, W_uf) + T.dot(h_tm1, W_hf) + b_f)\n",
    "        o_t = self.activ1(T.dot(u_t, W_uo) + T.dot(h_tm1, W_ho) + b_o)\n",
    "        s_t = g_t * i_t + s_tm1*f_t\n",
    "        h_t = self.activ2(s_t)*o_t\n",
    "        \n",
    "        #h_t = self.activ2(T.dot(h_tm1, W_hh) + T.dot(u_t, W_uh) + b_hh)\n",
    "        return [h_t, s_t]"
   ]
  },
  {
   "cell_type": "code",
   "execution_count": 2,
   "metadata": {
    "collapsed": true
   },
   "outputs": [],
   "source": [
    "(xlist, ylist) = pickle.load(open('stockTT.bin', 'rb'))\n",
    "nInputs = len(xlist[0])\n",
    "x = np.array(xlist, dtype = theano.config.floatX)\n",
    "y = np.array(ylist, dtype = theano.config.floatX)"
   ]
  },
  {
   "cell_type": "code",
   "execution_count": 23,
   "metadata": {
    "collapsed": false
   },
   "outputs": [],
   "source": [
    "nHidden = 20\n",
    "nOutputs = 1\n",
    "rnn = RNN(nInputs, nHidden, nOutputs)"
   ]
  },
  {
   "cell_type": "code",
   "execution_count": 17,
   "metadata": {
    "collapsed": true
   },
   "outputs": [],
   "source": [
    "lr = 0.01\n",
    "e = 1.0\n",
    "nPasses = 1\n",
    "vals = [] "
   ]
  },
  {
   "cell_type": "code",
   "execution_count": 26,
   "metadata": {
    "collapsed": false,
    "scrolled": true
   },
   "outputs": [
    {
     "name": "stdout",
     "output_type": "stream",
     "text": [
      "train iteration 0: 0.870665775953\n",
      "train iteration 200: 0.122261982784\n",
      "train iteration 400: 2.9393555349\n",
      "train iteration 600: 3.04606071309\n",
      "train iteration 800: 2.99885092753\n",
      "train iteration 1000: 0.256862316415\n",
      "train iteration 1200: 0.918914829659\n",
      "train iteration 1400: 0.772946626322\n",
      "train iteration 1600: 0.616126532697\n",
      "train iteration 1800: 0.200537697382\n",
      "train iteration 2000: 0.212814463965\n",
      "train iteration 2200: 1.22106003581\n",
      "train iteration 2400: 0.552616622684\n",
      "train iteration 2600: 0.551956887433\n",
      "test iteration 44: 1.27406577595\n",
      "test iteration 244: 0.832834224047\n",
      "test iteration 444: 4.07993422405\n",
      "test iteration 644: 1.51633422405\n"
     ]
    }
   ],
   "source": [
    "# run model\n",
    "train_mse = []\n",
    "test_mse = []\n",
    "train_length = int(len(x) * 0.8)\n",
    "test_length = len(x) - train_length\n",
    "for i in range(nPasses):\n",
    "    # train weights\n",
    "    for j in xrange(train_length):\n",
    "        u = np.asarray(xlist[j], dtype = theano.config.floatX).reshape((1,nInputs))\n",
    "        t = y[j]\n",
    "        \n",
    "        c = rnn.train_step(u, t, lr)\n",
    "        if j%200==0: print \"train iteration {0}: {1}\".format(j, np.sqrt(c))\n",
    "        e = 0.1*np.sqrt(c) + 0.9*e\n",
    "        # for taining modification, do not smooth the error\n",
    "        train_mse.append(np.sqrt(c))\n",
    "                   \n",
    "    # make predictions                       \n",
    "    for k in xrange(train_length,len(x)):\n",
    "        u = np.asarray(xlist[k], dtype = theano.config.floatX).reshape((1,nInputs))\n",
    "        t = y[k]\n",
    "\n",
    "        c = rnn.predict_step(u, t)\n",
    "        if k%200==0: print \"test iteration {0}: {1}\".format(k - train_length, np.sqrt(c))\n",
    "        #e = 0.1*np.sqrt(c) + 0.9*e\n",
    "        # for taining modification, do not smooth the error\n",
    "        test_mse.append(np.sqrt(c))"
   ]
  },
  {
   "cell_type": "code",
   "execution_count": 27,
   "metadata": {
    "collapsed": false
   },
   "outputs": [
    {
     "name": "stdout",
     "output_type": "stream",
     "text": [
      "train error 1.24968266264\n",
      "test error 1.43396332708\n"
     ]
    }
   ],
   "source": [
    "print \"train error {}\".format(np.mean(train_mse))\n",
    "print \"test error {}\".format(np.mean(test_mse))"
   ]
  },
  {
   "cell_type": "code",
   "execution_count": 28,
   "metadata": {
    "collapsed": false
   },
   "outputs": [
    {
     "data": {
      "image/png": "[encoded data removed]",
      "text/plain": [
       "<matplotlib.figure.Figure at 0x10e63f750>"
      ]
     },
     "metadata": {},
     "output_type": "display_data"
    }
   ],
   "source": [
    "plt.figure(figsize = (14,6))\n",
    "plt.plot(test_mse, label = \"test error\")\n",
    "plt.plot(train_mse, label = \"train error\")\n",
    "plt.legend()\n",
    "plt.show()"
   ]
  },
  {
   "cell_type": "markdown",
   "metadata": {},
   "source": [
    "### Q's\n",
    "1.  Make parametric changes to LSTM and see how performance changes. \n",
    "2.  Add \"peephole\" connection mentioned in Lipton"
   ]
  },
  {
   "cell_type": "markdown",
   "metadata": {},
   "source": [
    "#### 1.  Make parametric changes to LSTM and see how performance changes. "
   ]
  },
  {
   "cell_type": "code",
   "execution_count": 70,
   "metadata": {
    "collapsed": true
   },
   "outputs": [],
   "source": [
    "nHidden = 20 # increase number of hidden nodes 20 --> 100\n",
    "nOutputs = 1\n",
    "rnn = RNN(nInputs, nHidden, nOutputs)"
   ]
  },
  {
   "cell_type": "code",
   "execution_count": 71,
   "metadata": {
    "collapsed": true
   },
   "outputs": [],
   "source": [
    "lr = 0.001\n",
    "e = 1.0\n",
    "nPasses = 1"
   ]
  },
  {
   "cell_type": "code",
   "execution_count": 72,
   "metadata": {
    "collapsed": false
   },
   "outputs": [
    {
     "name": "stdout",
     "output_type": "stream",
     "text": [
      "train iteration 0: 1.27395111455\n",
      "train iteration 200: 4.64426812733\n",
      "train iteration 400: 4.87307903011\n",
      "train iteration 600: 1.48564697427\n",
      "train iteration 800: 3.33310481091\n",
      "train iteration 1000: 0.524721442891\n",
      "train iteration 1200: 0.602715636987\n",
      "train iteration 1400: 0.645676918676\n",
      "train iteration 1600: 1.19555392539\n",
      "train iteration 1800: 0.621014439222\n",
      "train iteration 2000: 2.16546465862\n",
      "train iteration 2200: 0.828576175891\n",
      "train iteration 2400: 0.996606788177\n",
      "train iteration 2600: 0.279571467713\n",
      "test iteration 44: 1.49264952847\n",
      "test iteration 244: 0.614250471525\n",
      "test iteration 444: 3.86135047153\n",
      "test iteration 644: 1.29775047153\n"
     ]
    }
   ],
   "source": [
    "# run model\n",
    "train_mse_h = []\n",
    "test_mse_h = []\n",
    "train_length = int(len(x) * 0.8)\n",
    "test_length = len(x) - train_length\n",
    "for i in range(nPasses):\n",
    "    # train weights\n",
    "    for j in xrange(train_length):\n",
    "        u = np.asarray(xlist[j], dtype = theano.config.floatX).reshape((1,nInputs))\n",
    "        t = y[j]\n",
    "        \n",
    "        c = rnn.train_step(u, t, lr)\n",
    "        if j%200==0: print \"train iteration {0}: {1}\".format(j, np.sqrt(c))\n",
    "        #e = 0.1*np.sqrt(c) + 0.9*e\n",
    "        # for taining modification, do not smooth the error\n",
    "        train_mse_h.append(np.sqrt(c))\n",
    "                   \n",
    "    # make predictions                       \n",
    "    for k in xrange(train_length,len(x)):\n",
    "        u = np.asarray(xlist[k], dtype = theano.config.floatX).reshape((1,nInputs))\n",
    "        t = y[k]\n",
    "\n",
    "        c = rnn.predict_step(u, t)\n",
    "        if k%200==0: print \"test iteration {0}: {1}\".format(k - train_length, np.sqrt(c))\n",
    "        #e = 0.1*np.sqrt(c) + 0.9*e\n",
    "        # for taining modification, do not smooth the error\n",
    "        test_mse_h.append(np.sqrt(c))"
   ]
  },
  {
   "cell_type": "code",
   "execution_count": 73,
   "metadata": {
    "collapsed": false
   },
   "outputs": [
    {
     "name": "stdout",
     "output_type": "stream",
     "text": [
      "train error 1.75193876893\n",
      "test error 1.42273464588\n"
     ]
    }
   ],
   "source": [
    "print \"train error {}\".format(np.mean(train_mse_h))\n",
    "print \"test error {}\".format(np.mean(test_mse_h))"
   ]
  },
  {
   "cell_type": "markdown",
   "metadata": {},
   "source": [
    "Turn nest the parameter matricies into a list, each index representing a different cell"
   ]
  },
  {
   "cell_type": "code",
   "execution_count": 78,
   "metadata": {
    "collapsed": false
   },
   "outputs": [],
   "source": [
    "class RNN(object):\n",
    "\n",
    "    def __init__(self, nin, n_hidden, nout):\n",
    "        \n",
    "        # Initalize Parameters for 1st cell\n",
    "        rng = np.random.RandomState(1234)\n",
    "        # cell input\n",
    "        W_ug = np.asarray(rng.normal(size=(nin, n_hidden), scale= .01, loc = 0.0), dtype = theano.config.floatX)\n",
    "        W_hg = np.asarray(rng.normal(size=(n_hidden, n_hidden), scale=.01, loc = 0.0), dtype = theano.config.floatX)\n",
    "        b_g = np.zeros((n_hidden,), dtype=theano.config.floatX)\n",
    "        # input gate equation\n",
    "        W_ui = np.asarray(rng.normal(size=(nin, n_hidden), scale =.01, loc=0.0), dtype = theano.config.floatX)\n",
    "        W_hi = np.asarray(rng.normal(size=(n_hidden, n_hidden), scale =.01, loc=0.0), dtype = theano.config.floatX)\n",
    "        b_i = np.zeros((n_hidden,), dtype=theano.config.floatX)\n",
    "        # forget gate equations\n",
    "        W_uf = np.asarray(rng.normal(size=(nin, n_hidden), scale =.01, loc=0.0), dtype = theano.config.floatX)\n",
    "        W_hf = np.asarray(rng.normal(size=(n_hidden, n_hidden), scale =.01, loc=0.0), dtype = theano.config.floatX)\n",
    "        b_f = np.zeros((n_hidden,), dtype=theano.config.floatX)\n",
    "        # cell output gate equations\n",
    "        W_uo = np.asarray(rng.normal(size=(nin, n_hidden), scale =.01, loc=0.0), dtype = theano.config.floatX)\n",
    "        W_ho = np.asarray(rng.normal(size=(n_hidden, n_hidden), scale =.01, loc=0.0), dtype = theano.config.floatX)\n",
    "        b_o = np.zeros((n_hidden,), dtype=theano.config.floatX)\n",
    "        # output layer\n",
    "        #W_hy = np.asarray(rng.normal(size=(n_hidden, nout), scale =.01, loc=0.0), dtype = theano.config.floatX)\n",
    "        #b_hy = np.zeros((nout,), dtype=theano.config.floatX)\n",
    "        \n",
    "        # Initalize Parameters for 2st cell\n",
    "        rng = np.random.RandomState(6673)\n",
    "        # cell input\n",
    "        W_ug_2 = np.asarray(rng.normal(size=(n_hidden, n_hidden), scale= .01, loc = 0.0), dtype = theano.config.floatX)\n",
    "        W_hg_2 = np.asarray(rng.normal(size=(n_hidden, n_hidden), scale=.01, loc = 0.0), dtype = theano.config.floatX)\n",
    "        b_g_2 = np.zeros((n_hidden,), dtype=theano.config.floatX)\n",
    "        # input gate equation\n",
    "        W_ui_2 = np.asarray(rng.normal(size=(n_hidden, n_hidden), scale =.01, loc=0.0), dtype = theano.config.floatX)\n",
    "        W_hi_2 = np.asarray(rng.normal(size=(n_hidden, n_hidden), scale =.01, loc=0.0), dtype = theano.config.floatX)\n",
    "        b_i_2 = np.zeros((n_hidden,), dtype=theano.config.floatX)\n",
    "        # forget gate equations\n",
    "        W_uf_2 = np.asarray(rng.normal(size=(n_hidden, n_hidden), scale =.01, loc=0.0), dtype = theano.config.floatX)\n",
    "        W_hf_2 = np.asarray(rng.normal(size=(n_hidden, n_hidden), scale =.01, loc=0.0), dtype = theano.config.floatX)\n",
    "        b_f_2 = np.zeros((n_hidden,), dtype=theano.config.floatX)\n",
    "        # cell output gate equations\n",
    "        W_uo_2 = np.asarray(rng.normal(size=(n_hidden, n_hidden), scale =.01, loc=0.0), dtype = theano.config.floatX)\n",
    "        W_ho_2 = np.asarray(rng.normal(size=(n_hidden, n_hidden), scale =.01, loc=0.0), dtype = theano.config.floatX)\n",
    "        b_o_2 = np.zeros((n_hidden,), dtype=theano.config.floatX)\n",
    "        # output layer\n",
    "        W_hy_2 = np.asarray(rng.normal(size=(n_hidden, nout), scale =.01, loc=0.0), dtype = theano.config.floatX)\n",
    "        b_hy_2 = np.zeros((nout,), dtype=theano.config.floatX)        \n",
    "        \n",
    "\n",
    "\n",
    "        \n",
    "        # Parameters for 1st cell\n",
    "        # cell input\n",
    "        W_ug = theano.shared(W_ug, 'W_ug')\n",
    "        W_hg = theano.shared(W_hg, 'W_hg')\n",
    "        b_g = theano.shared(b_g, 'b_g')\n",
    "        # input gate equation\n",
    "        W_ui = theano.shared(W_ui, 'W_ui')\n",
    "        W_hi = theano.shared(W_hi, 'W_hi')\n",
    "        b_i = theano.shared(b_i, 'b_i')\n",
    "        # forget gate equations\n",
    "        W_uf = theano.shared(W_uf, 'W_uf')\n",
    "        W_hf = theano.shared(W_hf, 'W_hf')\n",
    "        b_f = theano.shared(b_f, 'b_f')\n",
    "        # cell output gate equations\n",
    "        W_uo = theano.shared(W_uo, 'W_uo')\n",
    "        W_ho = theano.shared(W_ho, 'W_ho')\n",
    "        b_o = theano.shared(b_o, 'b_o')\n",
    "        # output layer\n",
    "        #W_hy = theano.shared(W_hy, 'W_hy')\n",
    "        #b_hy = theano.shared(b_hy, 'b_hy')\n",
    "        \n",
    "        \n",
    "        # Parameters for 2st cell\n",
    "        # cell input\n",
    "        W_ug_2 = theano.shared(W_ug_2, 'W_ug_2')\n",
    "        W_hg_2 = theano.shared(W_hg_2, 'W_hg_2')\n",
    "        b_g_2 = theano.shared(b_g_2, 'b_g_2')\n",
    "        # input gate equation\n",
    "        W_ui_2 = theano.shared(W_ui_2, 'W_ui_2')\n",
    "        W_hi_2 = theano.shared(W_hi_2, 'W_hi_2')\n",
    "        b_i_2 = theano.shared(b_i_2, 'b_i_2')\n",
    "        # forget gate equations\n",
    "        W_uf_2 = theano.shared(W_uf_2, 'W_uf_2')\n",
    "        W_hf_2 = theano.shared(W_hf_2, 'W_hf_2')\n",
    "        b_f_2 = theano.shared(b_f_2, 'b_f_2')\n",
    "        # cell output gate equations\n",
    "        W_uo_2 = theano.shared(W_uo_2, 'W_uo_2')\n",
    "        W_ho_2 = theano.shared(W_ho_2, 'W_ho_2')\n",
    "        b_o_2 = theano.shared(b_o_2, 'b_o_2')\n",
    "        # output layer\n",
    "        W_hy_2 = theano.shared(W_hy_2, 'W_hy_2')\n",
    "        b_hy_2 = theano.shared(b_hy_2, 'b_hy_2')        \n",
    "        \n",
    "\n",
    "\n",
    "        self.activ1 = T.nnet.sigmoid\n",
    "        self.activ2 = T.tanh\n",
    "        \n",
    "        lr = T.scalar()\n",
    "        u = T.matrix()\n",
    "        t = T.scalar()\n",
    "\n",
    "\n",
    "        h0_tm1 = theano.shared(np.zeros(n_hidden, dtype=theano.config.floatX))\n",
    "        s0_tm1 = theano.shared(np.zeros(n_hidden, dtype=theano.config.floatX))\n",
    "        h_tm1_2 = theano.shared(np.zeros(n_hidden, dtype=theano.config.floatX))\n",
    "        s_tm1_2 = theano.shared(np.zeros(n_hidden, dtype=theano.config.floatX))\n",
    "\n",
    "\n",
    "        #theano.printing.debugprint([h0_tm1, u, W_hh, W_uh, W_hy, b_hh, b_hy], print_type=True)\n",
    "        [ h,s,h1,s1],_ = theano.scan(self.recurrent_fn, sequences = u,\n",
    "                           outputs_info = [h0_tm1, s0_tm1,h_tm1_2, s_tm1_2], \n",
    "                           non_sequences = [W_ug, W_hg, b_g, W_ui, W_hi,\\\n",
    "                                            b_i, W_uf, W_hf, b_f, W_uo, \\\n",
    "                                            W_ho, b_o,\\\n",
    "                                            W_ug_2, W_hg_2, b_g_2, W_ui_2, W_hi_2,\\\n",
    "                                            b_i_2, W_uf_2, W_hf_2, b_f_2, W_uo_2, \\\n",
    "                                            W_ho_2, b_o_2, W_hy_2, b_hy_2])\n",
    "\n",
    "        y = T.dot(h[-1], W_hy_2) + b_hy_2\n",
    "        cost = ((t - y)**2).mean(axis=0).sum()\n",
    "\n",
    "        gW_ug, gW_hg, gb_g, gW_ui, gW_hi, gb_i, \\\n",
    "        gW_uf, gW_hf, gb_f, gW_uo, gW_ho, gb_o, \\\n",
    "        gW_ug_2, gW_hg_2, gb_g_2, gW_ui_2, gW_hi_2, gb_i_2, \\\n",
    "        gW_uf_2, gW_hf_2, gb_f_2, gW_uo_2, gW_ho_2, gb_o_2, \\\n",
    "        gW_hy_2, gb_hy_2 \\\n",
    "            = T.grad(cost, [W_ug, W_hg, b_g, W_ui, W_hi, b_i, \\\n",
    "                            W_uf, W_hf, b_f, W_uo, W_ho, b_o,\\\n",
    "                           W_ug_2, W_hg_2, b_g_2, W_ui_2, W_hi_2, b_i_2, \\\n",
    "                            W_uf_2, W_hf_2, b_f_2, W_uo_2, W_ho_2, b_o_2, W_hy_2, b_hy_2])\n",
    "            \n",
    "        update = [(W_ug, W_ug - lr*gW_ug), \n",
    "                  (W_hg, W_hg - lr*gW_hg ), \n",
    "                  (b_g, b_g - lr*gb_g), \n",
    "                  (W_ui, W_ui - lr*gW_ui),\n",
    "                  (W_hi, W_hi - lr*gW_hi), \n",
    "                  (b_i, b_i - lr*gb_i), \n",
    "                  (W_uf, W_uf - lr*gW_uf), \n",
    "                  (W_hf, W_hf - lr*gW_hf),\n",
    "                  (b_f, b_f - lr*gb_f), \n",
    "                  (W_uo, W_uo - lr*gW_uo), \n",
    "                  (W_ho, W_ho - lr*gW_ho), \n",
    "                  (b_o, b_o - lr*gb_o),\n",
    "                  #(W_hy, W_hy - lr*gW_hy), \n",
    "                  #(b_hy, b_hy - lr*gb_hy),\n",
    "                 \n",
    "                 (W_ug_2, W_ug_2 - lr*gW_ug_2), \n",
    "                  (W_hg_2, W_hg_2 - lr*gW_hg_2 ), \n",
    "                  (b_g_2, b_g_2 - lr*gb_g_2), \n",
    "                  (W_ui_2, W_ui_2 - lr*gW_ui_2),\n",
    "                  (W_hi_2, W_hi_2 - lr*gW_hi_2), \n",
    "                  (b_i_2, b_i_2 - lr*gb_i_2), \n",
    "                  (W_uf_2, W_uf_2 - lr*gW_uf_2), \n",
    "                  (W_hf_2, W_hf_2 - lr*gW_hf_2),\n",
    "                  (b_f_2, b_f_2 - lr*gb_f_2), \n",
    "                  (W_uo_2, W_uo_2 - lr*gW_uo_2), \n",
    "                  (W_ho_2, W_ho_2 - lr*gW_ho_2), \n",
    "                  (b_o_2, b_o_2 - lr*gb_o_2),\n",
    "                  (W_hy_2, W_hy_2 - lr*gW_hy_2), \n",
    "                  (b_hy_2, b_hy_2 - lr*gb_hy_2)\n",
    "                 ]\n",
    "        \n",
    "        #theano.printing.debugprint([h0_tm1], print_type=True)\n",
    "        \n",
    "        # Train\n",
    "        self.train_step = theano.function([u, t, lr], cost,\n",
    "            on_unused_input='warn',\n",
    "            updates=update,\n",
    "            allow_input_downcast=True)\n",
    "        \n",
    "        \n",
    "        # Predict      \n",
    "        self.predict_step = theano.function([u, t], cost,\n",
    "           on_unused_input='warn',\n",
    "           allow_input_downcast=True)\n",
    "        \n",
    "\n",
    "    def recurrent_fn(self, u_t, h_tm1, s_tm1, h_tm1_2, s_tm1_2,W_ug, W_hg, b_g, W_ui, W_hi,\n",
    "                           b_i, W_uf, W_hf, b_f, W_uo, W_ho, b_o, \n",
    "                     \n",
    "                                 W_ug_2, W_hg_2, b_g_2, W_ui_2, W_hi_2,\n",
    "                           b_i_2, W_uf_2, W_hf_2, b_f_2, W_uo_2, W_ho_2, b_o_2, W_hy_2, b_hy_2):\n",
    "\n",
    "        # 1st cell \n",
    "        g_t = self.activ2(T.dot(u_t, W_ug) + T.dot(h_tm1, W_hg) + b_g)\n",
    "        i_t = self.activ1(T.dot(u_t, W_ui) + T.dot(h_tm1, W_hi) + b_i)\n",
    "        f_t = self.activ1(T.dot(u_t, W_uf) + T.dot(h_tm1, W_hf) + b_f)\n",
    "        o_t = self.activ1(T.dot(u_t, W_uo) + T.dot(h_tm1, W_ho) + b_o)\n",
    "        s_t = g_t * i_t + s_tm1*f_t\n",
    "        h_t = self.activ2(s_t)*o_t\n",
    "        \n",
    "        \n",
    "        # 2nd cell\n",
    "        # ouput of 1st cell, h_t, is the input of the 2nd cell\n",
    "        g_t_2 = self.activ2(T.dot(h_t, W_ug_2) + T.dot(h_tm1_2, W_hg_2) + b_g_2)\n",
    "        i_t_2 = self.activ1(T.dot(h_t, W_ui_2) + T.dot(h_tm1_2, W_hi_2) + b_i_2)\n",
    "        f_t_2 = self.activ1(T.dot(h_t, W_uf_2) + T.dot(h_tm1_2, W_hf_2) + b_f_2)\n",
    "        o_t_2 = self.activ1(T.dot(h_t, W_uo_2) + T.dot(h_tm1_2, W_ho_2) + b_o_2)\n",
    "        s_t_2 = g_t_2 * i_t_2 + s_tm1_2*f_t_2\n",
    "        h_t_2 = self.activ2(s_t_2)*o_t_2\n",
    "        \n",
    "        #h_t = self.activ(T.dot(h_tm1, W_hh) + T.dot(u_t, W_uh) + b_hh)\n",
    "        return [h_t_2,s_t_2,h_t,s_t]"
   ]
  },
  {
   "cell_type": "code",
   "execution_count": 79,
   "metadata": {
    "collapsed": false
   },
   "outputs": [],
   "source": [
    "nHidden = 20\n",
    "nOutputs = 1\n",
    "rnn = RNN(nInputs, nHidden, nOutputs)"
   ]
  },
  {
   "cell_type": "code",
   "execution_count": 80,
   "metadata": {
    "collapsed": true
   },
   "outputs": [],
   "source": [
    "# run model\n",
    "train_mse = []\n",
    "test_mse = []\n",
    "train_length = int(len(x) * 0.8)\n",
    "test_length = len(x) - train_length\n",
    "lr = 1e-1\n",
    "e = 1.0\n",
    "nPasses = 1"
   ]
  },
  {
   "cell_type": "code",
   "execution_count": 81,
   "metadata": {
    "collapsed": false,
    "scrolled": false
   },
   "outputs": [
    {
     "name": "stdout",
     "output_type": "stream",
     "text": [
      "train iteration 0: 1.27996425235\n",
      "train iteration 200: 4.24800313233\n",
      "train iteration 400: 5.08333125116\n",
      "train iteration 600: 1.77125189481\n",
      "train iteration 800: 3.42133843836\n",
      "train iteration 1000: 0.325689251337\n",
      "train iteration 1200: 0.859534416952\n",
      "train iteration 1400: 0.772966004118\n",
      "train iteration 1600: 1.2439123503\n",
      "train iteration 1800: 0.560396685469\n",
      "train iteration 2000: 1.99870700687\n",
      "train iteration 2200: 0.862844691794\n",
      "train iteration 2400: 1.24175198779\n",
      "train iteration 2600: 0.444249814864\n",
      "test iteration 44: 1.29207126239\n",
      "test iteration 244: 0.814828737607\n",
      "test iteration 444: 4.06192873761\n",
      "test iteration 644: 1.49832873761\n"
     ]
    }
   ],
   "source": [
    "# run model\n",
    "for i in range(nPasses):\n",
    "    # train weights\n",
    "    for j in xrange(train_length):\n",
    "        u = np.asarray(xlist[j], dtype = theano.config.floatX).reshape((1,nInputs))\n",
    "        t = y[j]\n",
    "        \n",
    "        c = rnn.train_step(u, t, lr)\n",
    "        if j%200==0: print \"train iteration {0}: {1}\".format(j, np.sqrt(c))\n",
    "        e = 0.1*np.sqrt(c) + 0.9*e\n",
    "        # for taining modification, do not smooth the error\n",
    "        train_mse.append(np.sqrt(c))\n",
    "                   \n",
    "    # make predictions                       \n",
    "    for k in xrange(train_length,len(x)):\n",
    "        u = np.asarray(xlist[k], dtype = theano.config.floatX).reshape((1,nInputs))\n",
    "        t = y[k]\n",
    "\n",
    "        c = rnn.predict_step(u, t)\n",
    "        if k%200==0: print \"test iteration {0}: {1}\".format(k - train_length, np.sqrt(c))\n",
    "        #e = 0.1*np.sqrt(c) + 0.9*e\n",
    "        # for taining modification, do not smooth the error\n",
    "        test_mse.append(np.sqrt(c))"
   ]
  },
  {
   "cell_type": "markdown",
   "metadata": {},
   "source": [
    "# Change LSMT for Character Prediction\n",
    "\n",
    "### How to change the above code in order to incorporate the LSTM model\n",
    "    1. change dim output layer\n",
    "    2. change output layer act func to softmax for classification\n",
    "    3. change loss to cross-entropy"
   ]
  },
  {
   "cell_type": "code",
   "execution_count": 74,
   "metadata": {
    "collapsed": false
   },
   "outputs": [],
   "source": [
    "class RNN(object):\n",
    "\n",
    "    def __init__(self, nin, n_hidden, nout):\n",
    "        rng = np.random.RandomState(1234)\n",
    "        # cell input\n",
    "        W_ug = np.asarray(rng.normal(size=(nin, n_hidden), scale= .01, loc = 0.0), dtype = theano.config.floatX)\n",
    "        W_hg = np.asarray(rng.normal(size=(n_hidden, n_hidden), scale=.01, loc = 0.0), dtype = theano.config.floatX)\n",
    "        b_g = np.zeros((n_hidden,), dtype=theano.config.floatX)\n",
    "        # input gate equation\n",
    "        W_ui = np.asarray(rng.normal(size=(nin, n_hidden), scale =.01, loc=0.0), dtype = theano.config.floatX)\n",
    "        W_hi = np.asarray(rng.normal(size=(n_hidden, n_hidden), scale =.01, loc=0.0), dtype = theano.config.floatX)\n",
    "        b_i = np.zeros((n_hidden,), dtype=theano.config.floatX)\n",
    "        # forget gate equations\n",
    "        W_uf = np.asarray(rng.normal(size=(nin, n_hidden), scale =.01, loc=0.0), dtype = theano.config.floatX)\n",
    "        W_hf = np.asarray(rng.normal(size=(n_hidden, n_hidden), scale =.01, loc=0.0), dtype = theano.config.floatX)\n",
    "        b_f = np.zeros((n_hidden,), dtype=theano.config.floatX)\n",
    "        # cell output gate equations\n",
    "        W_uo = np.asarray(rng.normal(size=(nin, n_hidden), scale =.01, loc=0.0), dtype = theano.config.floatX)\n",
    "        W_ho = np.asarray(rng.normal(size=(n_hidden, n_hidden), scale =.01, loc=0.0), dtype = theano.config.floatX)\n",
    "        b_o = np.zeros((n_hidden,), dtype=theano.config.floatX)\n",
    "        # output layer\n",
    "        W_hy = np.asarray(rng.normal(size=(n_hidden,nout), scale =.01, loc=0.0), dtype = theano.config.floatX)\n",
    "        b_hy = np.zeros((nout,), dtype=theano.config.floatX)\n",
    "\n",
    "        # cell input\n",
    "        W_ug = theano.shared(W_ug, 'W_ug')\n",
    "        W_hg = theano.shared(W_hg, 'W_hg')\n",
    "        b_g = theano.shared(b_g, 'b_g')\n",
    "        # input gate equation\n",
    "        W_ui = theano.shared(W_ui, 'W_ui')\n",
    "        W_hi = theano.shared(W_hi, 'W_hi')\n",
    "        b_i = theano.shared(b_i, 'b_i')\n",
    "        # forget gate equations\n",
    "        W_uf = theano.shared(W_uf, 'W_uf')\n",
    "        W_hf = theano.shared(W_hf, 'W_hf')\n",
    "        b_f = theano.shared(b_f, 'b_f')\n",
    "        # cell output gate equations\n",
    "        W_uo = theano.shared(W_uo, 'W_uo')\n",
    "        W_ho = theano.shared(W_ho, 'W_ho')\n",
    "        b_o = theano.shared(b_o, 'b_o')\n",
    "        # output layer\n",
    "        W_hy = theano.shared(W_hy, 'W_hy')\n",
    "        b_hy = theano.shared(b_hy, 'b_hy')\n",
    "\n",
    "        self.activ1 = T.nnet.sigmoid\n",
    "        self.activ2 = T.tanh\n",
    "        self.activ_out = T.nnet.softmax\n",
    "        \n",
    "        lr = T.scalar()\n",
    "        u = T.matrix()\n",
    "        t = T.matrix()\n",
    "        y = T.matrix()\n",
    "\n",
    "\n",
    "        h0_tm1 = theano.shared(np.ones((1, n_hidden), dtype=theano.config.floatX))\n",
    "        s0_tm1 = theano.shared(np.ones((1, n_hidden), dtype=theano.config.floatX))\n",
    "\n",
    "\n",
    "        #theano.printing.debugprint([u,h0_tm1, s0_tm1, W_ug, W_hg, b_g, \\\n",
    "        #W_ui, W_hi, b_i, W_uf, W_hf, b_f, W_uo, W_ho, b_o, W_hy, b_hy], print_type=True)\n",
    "        \n",
    "        [h,s], _ = theano.scan(self.recurrent_fn, sequences = u,\n",
    "                           outputs_info = [h0_tm1, s0_tm1],\n",
    "                           non_sequences = [W_ug, W_hg, b_g, W_ui, W_hi,\\\n",
    "                                            b_i, W_uf, W_hf, b_f, W_uo, W_ho, b_o,b_hy])\n",
    "        \n",
    "        \n",
    "        \n",
    "        #theano.printing.debugprint([h,W_hy], print_type=True)\n",
    "        out_arg = T.dot(h[-1], W_hy) + b_hy # h is storing all prior predictions\n",
    "                                            # so we only reference the lastest \n",
    "        \n",
    "        y = self.activ_out(out_arg)\n",
    "        \n",
    "        # rank error !\n",
    "        #theano.printing.debugprint([t,y,b_hy,W_hy], print_type=True)\n",
    "        #cost = T.mean(T.nnet.categorical_crossentropy(t,y)) # change positions of args due to log(0) error!\n",
    "        cost = ((t - y)**2).mean(axis=0).sum()\n",
    "\n",
    "        gW_ug, gW_hg, gb_g, gW_ui, gW_hi, gb_i, \\\n",
    "        gW_uf, gW_hf, gb_f, gW_uo, gW_ho, gb_o, gW_hy, gb_hy \\\n",
    "            = T.grad(cost, [W_ug, W_hg, b_g, W_ui, W_hi, b_i, \\\n",
    "            W_uf, W_hf, b_f, W_uo, W_ho, b_o, W_hy, b_hy])\n",
    "            \n",
    "        update = [(W_ug, W_ug - lr*gW_ug), \n",
    "                  (W_hg, W_hg - lr*gW_hg ), \n",
    "                  (b_g, b_g - lr*gb_g), \n",
    "                  (W_ui, W_ui - lr*gW_ui),\n",
    "                  (W_hi, W_hi - lr*gW_hi), \n",
    "                  (b_i, b_i - lr*gb_i), \n",
    "                  (W_uf, W_uf - lr*gW_uf), \n",
    "                  (W_hf, W_hf - lr*gW_hf),\n",
    "                  (b_f, b_f - lr*gb_f),\n",
    "                  (W_uo, W_uo - lr*gW_uo), \n",
    "                  (W_ho, W_ho - lr*gW_ho), \n",
    "                  (b_o, b_o - lr*gb_o),\n",
    "                  (W_hy, W_hy - lr*gW_hy), \n",
    "                  (b_hy, b_hy - lr*gb_hy)]\n",
    "        \n",
    "        theano.printing.debugprint([h0_tm1], print_type=True)\n",
    "        self.train_step = theano.function([u, t, lr], cost,\n",
    "            on_unused_input='warn',\n",
    "            updates=update,\n",
    "            allow_input_downcast=True)\n",
    "        \n",
    "        \n",
    "                \n",
    "        self.predict_step = theano.function([u, t], cost,\n",
    "           on_unused_input='warn',\n",
    "           allow_input_downcast=True)\n",
    "        \n",
    "\n",
    "    def recurrent_fn(self, u_t, h_tm1, s_tm1, W_ug, W_hg, b_g, W_ui, W_hi,\n",
    "                                            b_i, W_uf, W_hf, b_f, W_uo, W_ho, b_o, b_hy):\n",
    "        \n",
    "        g_t = self.activ2(T.dot(u_t, W_ug) + T.dot(h_tm1, W_hg) + b_g)\n",
    "        i_t = self.activ1(T.dot(u_t, W_ui) + T.dot(h_tm1, W_hi) + b_i)\n",
    "        f_t = self.activ1(T.dot(u_t, W_uf) + T.dot(h_tm1, W_hf) + b_f)\n",
    "        o_t = self.activ1(T.dot(u_t, W_uo) + T.dot(h_tm1, W_ho) + b_o)\n",
    "        \n",
    "        s_t = g_t * i_t + s_tm1*f_t\n",
    "        h_t = self.activ2(s_t)*o_t\n",
    "    \n",
    "        #h_t = self.activ(T.dot(h_tm1, W_hh) + T.dot(u_t, W_uh) + b_hh)\n",
    "        return [h_t,s_t]"
   ]
  },
  {
   "cell_type": "code",
   "execution_count": 8,
   "metadata": {
    "collapsed": false
   },
   "outputs": [
    {
     "name": "stdout",
     "output_type": "stream",
     "text": [
      "data has 30088 characters, 58 unique.\n"
     ]
    }
   ],
   "source": [
    "# data I/O\n",
    "data = open('input.txt', 'r').read() # should be simple plain text file\n",
    "chars = list(set(data))\n",
    "data_size, vocab_size = len(data), len(chars)\n",
    "print 'data has %d characters, %d unique.' % (data_size, vocab_size)\n",
    "char_to_ix = { ch:i for i,ch in enumerate(chars) }\n",
    "ix_to_char = { i:ch for i,ch in enumerate(chars) }"
   ]
  },
  {
   "cell_type": "code",
   "execution_count": 10,
   "metadata": {
    "collapsed": false
   },
   "outputs": [],
   "source": [
    "# iterate through data\n",
    "p = 0 \n",
    "# limit 'ch' to 1 character\n",
    "seq_length = len(data) - 1\n",
    "inputs = [char_to_ix[ch] for ch in data[p:p+seq_length]]\n",
    "targets = [char_to_ix[ch]  for ch in data[p+1:p+seq_length+1]]"
   ]
  },
  {
   "cell_type": "code",
   "execution_count": 75,
   "metadata": {
    "collapsed": false
   },
   "outputs": [
    {
     "name": "stdout",
     "output_type": "stream",
     "text": [
      "<TensorType(float64, matrix)> [@A] <TensorType(float64, matrix)>\n"
     ]
    }
   ],
   "source": [
    "# change dim of output layer, done!\n",
    "nHidden = 20\n",
    "nOutputs = len(chars)\n",
    "nInputs = len(chars)\n",
    "rnn = RNN(nInputs, nHidden, nOutputs)"
   ]
  },
  {
   "cell_type": "code",
   "execution_count": 79,
   "metadata": {
    "collapsed": false,
    "scrolled": true
   },
   "outputs": [],
   "source": [
    "# create labels with one-hot encoding\n",
    "u = []\n",
    "t = []\n",
    "train_mse = []\n",
    "test_mse = []\n",
    "lr = 0.000001\n",
    "count = 0 \n",
    "for i,o in  izip(inputs,targets):   \n",
    "    u = np.zeros((vocab_size,1)) # encode in 1-of-k representation\n",
    "    u[inputs[i]] = 1 # one-hot encoding\n",
    "    u = u.T\n",
    "    \n",
    "    t = np.zeros((vocab_size,1)) # encode in 1-of-k representation\n",
    "    t[inputs[o]] = 1 # one-hot encoding\n",
    "    t = t.T\n",
    "    \n",
    "    c = rnn.train_step(u, t, lr)\n",
    "    train_mse.append(np.sqrt(c))\n",
    "    \n",
    "    c = rnn.predict_step(u, t)\n",
    "    test_mse.append(np.sqrt(c))\n",
    "    count += 1\n",
    "    \n",
    "    if count == 3:\n",
    "        break\n",
    "    "
   ]
  }
 ],
 "metadata": {
  "kernelspec": {
   "display_name": "Python 2",
   "language": "python",
   "name": "python2"
  },
  "language_info": {
   "codemirror_mode": {
    "name": "ipython",
    "version": 2
   },
   "file_extension": ".py",
   "mimetype": "text/x-python",
   "name": "python",
   "nbconvert_exporter": "python",
   "pygments_lexer": "ipython2",
   "version": "2.7.11"
  }
 },
 "nbformat": 4,
 "nbformat_minor": 0
}
