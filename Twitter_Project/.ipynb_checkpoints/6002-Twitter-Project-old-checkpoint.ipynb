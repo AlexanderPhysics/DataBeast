{
 "cells": [
  {
   "cell_type": "code",
   "execution_count": 5,
   "metadata": {
    "collapsed": true
   },
   "outputs": [],
   "source": [
    "import twitter\n",
    "import json\n",
    "import pymongo \n",
    "import pandas as pd"
   ]
  },
  {
   "cell_type": "code",
   "execution_count": 2,
   "metadata": {
    "collapsed": false
   },
   "outputs": [
    {
     "name": "stdout",
     "output_type": "stream",
     "text": [
      "<twitter.api.Twitter object at 0x104796790>\n"
     ]
    }
   ],
   "source": [
    "#### AUTHENTICATE TWITTER ACCOUNT \n",
    "CONSUMER_KEY = 'LpCTmKNwakL1QUqavVL6Plz4J'\n",
    "CONSUMER_SECRET = 'yq1znQZdXq7QCnWmzXO7QK3pnPUJ701hRWhiXPtxsfoBIzfnwV'\n",
    "OAUTH_TOKEN = '3064452698-7uSHiEaTborY8fWoYcSZurF0Zf2hpNCkmTmPMDw'\n",
    "OAUTH_TOKEN_SECRET = 'VTbSI0QCXfp6wmYzJdjPhrcFgCSFNqC5qbFXNChuqqhro'\n",
    "\n",
    "auth = twitter.oauth.OAuth(OAUTH_TOKEN, OAUTH_TOKEN_SECRET,\n",
    "                           CONSUMER_KEY, CONSUMER_SECRET)\n",
    "\n",
    "twitter_api = twitter.Twitter(auth=auth)\n",
    "\n",
    "# Nothing to see by displaying twitter_api except that it's now a\n",
    "# defined variable\n",
    "\n",
    "print twitter_api"
   ]
  },
  {
   "cell_type": "code",
   "execution_count": 3,
   "metadata": {
    "collapsed": false,
    "scrolled": false
   },
   "outputs": [
    {
     "name": "stdout",
     "output_type": "stream",
     "text": [
      "3151\n"
     ]
    }
   ],
   "source": [
    "#### SEARCH TWITTER API FOR TWEETS AND CIRCUMVENT THE RATE LIMIT\n",
    "q = 'Galvanize'\n",
    "\n",
    "count = 200\n",
    "\n",
    "search = twitter_api.statuses.user_timeline(screen_name = q, count = count)\n",
    "# print '1st search{0}'.format(len(search))\n",
    "\n",
    "maxID = search[-1]['id']\n",
    "\n",
    "results = []\n",
    "\n",
    "results.extend(search)\n",
    "\n",
    "for _ in xrange(18):\n",
    "  \n",
    "    try:\n",
    "        search = twitter_api.statuses.user_timeline(screen_name = q, count = count, max_id = maxID)\n",
    "#         print 'try'\n",
    "#         print '2st search{0}'.format(len(search))\n",
    "   \n",
    "    except KeyError, e:\n",
    "        print 'keyerror'\n",
    "        break\n",
    "    \n",
    "    results.extend(search)\n",
    "#     print len(results)\n",
    "#     print '1st results {0}'.format(len(results))\n",
    "    tweets = [search]\n",
    "    maxID = search[-1]['id']\n",
    "print len(results)"
   ]
  },
  {
   "cell_type": "code",
   "execution_count": 7,
   "metadata": {
    "collapsed": false
   },
   "outputs": [],
   "source": [
    "client = pymongo.MongoClient()\n",
    "\n",
    "# connect to database\n",
    "db = client['twitter']\n",
    "\n",
    "#connect to collection\n",
    "\n",
    "data = db['galvanize']"
   ]
  },
  {
   "cell_type": "code",
   "execution_count": 13,
   "metadata": {
    "collapsed": false
   },
   "outputs": [
    {
     "data": {
      "text/plain": [
       "dict"
      ]
     },
     "execution_count": 13,
     "metadata": {},
     "output_type": "execute_result"
    }
   ],
   "source": [
    "## verify cursor object\n",
    "data.find()\n",
    "## verify that docs are dic data types\n",
    "type(data.find_one())"
   ]
  },
  {
   "cell_type": "code",
   "execution_count": 15,
   "metadata": {
    "collapsed": false
   },
   "outputs": [
    {
     "ename": "NameError",
     "evalue": "name 'collection' is not defined",
     "output_type": "error",
     "traceback": [
      "\u001b[0;31m---------------------------------------------------------------------------\u001b[0m",
      "\u001b[0;31mNameError\u001b[0m                                 Traceback (most recent call last)",
      "\u001b[0;32m<ipython-input-15-70abbe62146c>\u001b[0m in \u001b[0;36m<module>\u001b[0;34m()\u001b[0m\n\u001b[0;32m----> 1\u001b[0;31m \u001b[0mcollection\u001b[0m\u001b[0;34m\u001b[0m\u001b[0m\n\u001b[0m",
      "\u001b[0;31mNameError\u001b[0m: name 'collection' is not defined"
     ]
    }
   ],
   "source": []
  },
  {
   "cell_type": "code",
   "execution_count": null,
   "metadata": {
    "collapsed": true
   },
   "outputs": [],
   "source": []
  }
 ],
 "metadata": {
  "kernelspec": {
   "display_name": "Python 2",
   "language": "python",
   "name": "python2"
  },
  "language_info": {
   "codemirror_mode": {
    "name": "ipython",
    "version": 2
   },
   "file_extension": ".py",
   "mimetype": "text/x-python",
   "name": "python",
   "nbconvert_exporter": "python",
   "pygments_lexer": "ipython2",
   "version": "2.7.9"
  }
 },
 "nbformat": 4,
 "nbformat_minor": 0
}
