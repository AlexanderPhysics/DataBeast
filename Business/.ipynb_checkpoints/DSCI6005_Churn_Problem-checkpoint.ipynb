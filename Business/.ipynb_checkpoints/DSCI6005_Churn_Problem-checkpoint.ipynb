{
 "cells": [
  {
   "cell_type": "markdown",
   "metadata": {},
   "source": [
    "#Churn Model \n",
    "    - Predict user churn by training several models on user behavior\n",
    "    - Use predicted probabilities to gauge likelihood of churn\n",
    "    - Choose the best model based on the metric Recall\n",
    "    - Use the best performing model to create a Profit Curve"
   ]
  },
  {
   "cell_type": "markdown",
   "metadata": {},
   "source": [
    "##Problem\n",
    "    The company is loosing user's subscription to their service, which is driving down profits. \n",
    "    \n",
    "##Solution\n",
    "    Identify the user features that best predict which users are the most likely to unsubscribe\n",
    "    the the company's service and engage them with a speical offer with the intention that they\n",
    "    continue the service. "
   ]
  },
  {
   "cell_type": "markdown",
   "metadata": {},
   "source": [
    "#Work Flow\n",
    "\n",
    "###Clean Data\n",
    "    - Drop irrelavent features\n",
    "    \n",
    "###Exploritory Data Analysis\n",
    "    - Rescale features\n",
    "    - Balance Classes\n",
    "\n",
    "###Feature Importance\n",
    "    - Use Random Forest to identify most predictive features\n",
    "    \n",
    "###Modeling\n",
    "    - Train Logistic Regression, SVM, and Gradient Boosting \n",
    "\n",
    "###Profit Curve\n",
    "    - Identify lowest cost solution to maintain the greatest number of users that are at risk of churning"
   ]
  },
  {
   "cell_type": "markdown",
   "metadata": {},
   "source": [
    "####Import revelent packages"
   ]
  },
  {
   "cell_type": "code",
   "execution_count": 3,
   "metadata": {
    "collapsed": false
   },
   "outputs": [],
   "source": [
    "import sklearn\n",
    "import numpy as np\n",
    "import pandas as pd\n",
    "import matplotlib.pyplot as plt\n",
    "from sklearn.cross_validation import train_test_split\n",
    "from sklearn.metrics import accuracy_score, precision_score, recall_score,f1_score\n",
    "from sklearn.cross_validation import KFold\n",
    "from sklearn.metrics import confusion_matrix\n",
    "from sklearn.ensemble import RandomForestClassifier\n",
    "from sklearn.metrics import roc_curve\n",
    "from sklearn.svm import SVC\n",
    "from sklearn.ensemble import GradientBoostingClassifier\n",
    "from sklearn.preprocessing import scale, MinMaxScaler\n",
    "from sklearn.neighbors import KNeighborsClassifier\n",
    "import time\n",
    "%matplotlib inline"
   ]
  },
  {
   "cell_type": "markdown",
   "metadata": {},
   "source": [
    "####Train_Test_Predict \n",
    "    - A class that performs routine Machine Learning model training, testing, and predicting\n",
    "      in order to validate hyperparameters"
   ]
  },
  {
   "cell_type": "code",
   "execution_count": 4,
   "metadata": {
    "collapsed": true
   },
   "outputs": [],
   "source": [
    "# %load ~/Documents/scripts/machine_learning.py\n",
    "from __future__ import division \n",
    "import numpy as np\n",
    "from sklearn.linear_model import LogisticRegression\n",
    "from sklearn.metrics import accuracy_score, precision_score, recall_score\n",
    "from sklearn.cross_validation import KFold, train_test_split\n",
    "\n",
    "class Train_Test_Predict(object):\n",
    "    \n",
    "\n",
    "    def __init__(self,model,X, y, confusion = False, average = \"weighted\"):\n",
    "        self.model = model\n",
    "        # Train and development data sets for hyperparameter tuning \n",
    "        self.Xtrain,\\\n",
    "        self.Xtest,\\\n",
    "        self.ytrain,\\\n",
    "        self.ytest = train_test_split(X,y,test_size = 0.20)\n",
    "        # Predicted response for test/development set\n",
    "        self.ypred = None\n",
    "        # Stores metrics in KFold \n",
    "        self.acc = []\n",
    "        self.pre = []\n",
    "        self.rec = []\n",
    "        self.confusion = confusion\n",
    "        self.confusion_matrix = None\n",
    "        self.average_type = average\n",
    "\n",
    "    def _train_develop_model(self):\n",
    "\n",
    "        kf = KFold(n = self.Xtrain.shape[0],\\\n",
    "                   n_folds = 10,\\\n",
    "                   random_state = 41,\\\n",
    "                   shuffle = True)\n",
    "\n",
    "        for train_index, test_index in kf:\n",
    "            X_train, X_test = self.Xtrain[train_index], self.Xtrain[test_index]\n",
    "            y_train, y_test = self.ytrain[train_index], self.ytrain[test_index]\n",
    "\n",
    "            self.model.fit(X_train,y_train)\n",
    "            \n",
    "            self.ypred = self.model.predict(X_test)\n",
    "            \n",
    "            self._apply_metrics(y_test)\n",
    "        print \"NOTE: average = {} for precison and recall.\\n\".format(self.average_type)\n",
    "    \n",
    "    def _apply_metrics(self, y):\n",
    "        self.acc.append(accuracy_score(y,self.ypred))\n",
    "        self.pre.append(precision_score(y,self.ypred, average = self.average_type))\n",
    "        self.rec.append(recall_score(y,self.ypred, average = self.average_type))      \n",
    "    \n",
    "    def _print_trainSet_results(self):\n",
    "        print self.model.__class__.__name__ + \"  Training\"\n",
    "        print \"Accuracy:  {:.3}\".format(np.mean(self.acc))\n",
    "        print \"Precision: {:.3}\".format(np.mean(self.pre))\n",
    "        print \"Recall:    {:.3} \\n\".format(np.mean(self.rec))\n",
    "\n",
    "    def _print_testSet_results(self):\n",
    "        print self.model.__class__.__name__ + \"  Development\"\n",
    "        print \"Accuracy:  {:.3}\".format(accuracy_score(self.ytest,self.ypred))\n",
    "        print \"Precision: {:.3}\".format(precision_score(self.ytest,self.ypred, average = self.average_type))\n",
    "        print \"Recall:    {:.3}\".format(recall_score(self.ytest,self.ypred,average = self.average_type))\n",
    "\n",
    "\n",
    "    def fit_predict_model(self):\n",
    "\n",
    "        self._train_develop_model()\n",
    "\n",
    "        self.ypred = self.model.predict(self.Xtest)\n",
    "\n",
    "        self._print_trainSet_results()\n",
    "\n",
    "        self._print_testSet_results()\n",
    "                \n",
    "        if self.confusion == True:\n",
    "            self.confusion_matrix = confusion_matrix(self.ytest,self.ypred)\n",
    "            print \"\\nConfusion Matrix\"\n",
    "            print self.confusion_matrix\n",
    "            print \"\\nsklearn orientation\"\n",
    "            print \"| TN | FP |\"\n",
    "            print \"| FN | TP |\"                 \n",
    "                "
   ]
  },
  {
   "cell_type": "markdown",
   "metadata": {},
   "source": [
    "###Cleaning Data"
   ]
  },
  {
   "cell_type": "code",
   "execution_count": 5,
   "metadata": {
    "collapsed": true
   },
   "outputs": [],
   "source": [
    "true = [\"yes\",\n",
    "        \"True\",\n",
    "        \"True.\"]\n",
    "\n",
    "false = [\"no\",\n",
    "         \"False\",\n",
    "         \"False.\"]"
   ]
  },
  {
   "cell_type": "code",
   "execution_count": 6,
   "metadata": {
    "collapsed": true
   },
   "outputs": [],
   "source": [
    "df = pd.read_csv(\"~/DSCI6003-student/week4/exercise/data/churn.csv\",\n",
    "                 true_values = true, \n",
    "                 false_values = false)"
   ]
  },
  {
   "cell_type": "code",
   "execution_count": 7,
   "metadata": {
    "collapsed": true
   },
   "outputs": [],
   "source": [
    "drop_col = [\"State\",\n",
    "            \"Account Length\",\n",
    "            \"Area Code\",\n",
    "            \"Phone\"]\n",
    "\n",
    "df.drop(drop_col, \n",
    "        axis = 1, \n",
    "        inplace = True)"
   ]
  },
  {
   "cell_type": "code",
   "execution_count": 8,
   "metadata": {
    "collapsed": true
   },
   "outputs": [],
   "source": [
    "df.rename(columns={'Churn?':'Churn'}, \n",
    "          inplace=True)"
   ]
  },
  {
   "cell_type": "markdown",
   "metadata": {},
   "source": [
    "###Exploratory Data Analysis\n",
    "    - Rescale features\n",
    "    - Balance Classes"
   ]
  },
  {
   "cell_type": "code",
   "execution_count": 9,
   "metadata": {
    "collapsed": false
   },
   "outputs": [
    {
     "data": {
      "text/html": [
       "<div style=\"max-height:1000px;max-width:1500px;overflow:auto;\">\n",
       "<table border=\"1\" class=\"dataframe\">\n",
       "  <thead>\n",
       "    <tr style=\"text-align: right;\">\n",
       "      <th></th>\n",
       "      <th>Int'l Plan</th>\n",
       "      <th>VMail Plan</th>\n",
       "      <th>VMail Message</th>\n",
       "      <th>Day Mins</th>\n",
       "      <th>Day Calls</th>\n",
       "      <th>Day Charge</th>\n",
       "      <th>Eve Mins</th>\n",
       "      <th>Eve Calls</th>\n",
       "      <th>Eve Charge</th>\n",
       "      <th>Night Mins</th>\n",
       "      <th>Night Calls</th>\n",
       "      <th>Night Charge</th>\n",
       "      <th>Intl Mins</th>\n",
       "      <th>Intl Calls</th>\n",
       "      <th>Intl Charge</th>\n",
       "      <th>CustServ Calls</th>\n",
       "      <th>Churn</th>\n",
       "    </tr>\n",
       "  </thead>\n",
       "  <tbody>\n",
       "    <tr>\n",
       "      <th>0</th>\n",
       "      <td>False</td>\n",
       "      <td>True</td>\n",
       "      <td>25</td>\n",
       "      <td>265.1</td>\n",
       "      <td>110</td>\n",
       "      <td>45.07</td>\n",
       "      <td>197.4</td>\n",
       "      <td>99</td>\n",
       "      <td>16.78</td>\n",
       "      <td>244.7</td>\n",
       "      <td>91</td>\n",
       "      <td>11.01</td>\n",
       "      <td>10.0</td>\n",
       "      <td>3</td>\n",
       "      <td>2.70</td>\n",
       "      <td>1</td>\n",
       "      <td>False</td>\n",
       "    </tr>\n",
       "    <tr>\n",
       "      <th>1</th>\n",
       "      <td>False</td>\n",
       "      <td>True</td>\n",
       "      <td>26</td>\n",
       "      <td>161.6</td>\n",
       "      <td>123</td>\n",
       "      <td>27.47</td>\n",
       "      <td>195.5</td>\n",
       "      <td>103</td>\n",
       "      <td>16.62</td>\n",
       "      <td>254.4</td>\n",
       "      <td>103</td>\n",
       "      <td>11.45</td>\n",
       "      <td>13.7</td>\n",
       "      <td>3</td>\n",
       "      <td>3.70</td>\n",
       "      <td>1</td>\n",
       "      <td>False</td>\n",
       "    </tr>\n",
       "    <tr>\n",
       "      <th>2</th>\n",
       "      <td>False</td>\n",
       "      <td>False</td>\n",
       "      <td>0</td>\n",
       "      <td>243.4</td>\n",
       "      <td>114</td>\n",
       "      <td>41.38</td>\n",
       "      <td>121.2</td>\n",
       "      <td>110</td>\n",
       "      <td>10.30</td>\n",
       "      <td>162.6</td>\n",
       "      <td>104</td>\n",
       "      <td>7.32</td>\n",
       "      <td>12.2</td>\n",
       "      <td>5</td>\n",
       "      <td>3.29</td>\n",
       "      <td>0</td>\n",
       "      <td>False</td>\n",
       "    </tr>\n",
       "    <tr>\n",
       "      <th>3</th>\n",
       "      <td>True</td>\n",
       "      <td>False</td>\n",
       "      <td>0</td>\n",
       "      <td>299.4</td>\n",
       "      <td>71</td>\n",
       "      <td>50.90</td>\n",
       "      <td>61.9</td>\n",
       "      <td>88</td>\n",
       "      <td>5.26</td>\n",
       "      <td>196.9</td>\n",
       "      <td>89</td>\n",
       "      <td>8.86</td>\n",
       "      <td>6.6</td>\n",
       "      <td>7</td>\n",
       "      <td>1.78</td>\n",
       "      <td>2</td>\n",
       "      <td>False</td>\n",
       "    </tr>\n",
       "    <tr>\n",
       "      <th>4</th>\n",
       "      <td>True</td>\n",
       "      <td>False</td>\n",
       "      <td>0</td>\n",
       "      <td>166.7</td>\n",
       "      <td>113</td>\n",
       "      <td>28.34</td>\n",
       "      <td>148.3</td>\n",
       "      <td>122</td>\n",
       "      <td>12.61</td>\n",
       "      <td>186.9</td>\n",
       "      <td>121</td>\n",
       "      <td>8.41</td>\n",
       "      <td>10.1</td>\n",
       "      <td>3</td>\n",
       "      <td>2.73</td>\n",
       "      <td>3</td>\n",
       "      <td>False</td>\n",
       "    </tr>\n",
       "  </tbody>\n",
       "</table>\n",
       "</div>"
      ],
      "text/plain": [
       "  Int'l Plan VMail Plan  VMail Message  Day Mins  Day Calls  Day Charge  \\\n",
       "0      False       True             25     265.1        110       45.07   \n",
       "1      False       True             26     161.6        123       27.47   \n",
       "2      False      False              0     243.4        114       41.38   \n",
       "3       True      False              0     299.4         71       50.90   \n",
       "4       True      False              0     166.7        113       28.34   \n",
       "\n",
       "   Eve Mins  Eve Calls  Eve Charge  Night Mins  Night Calls  Night Charge  \\\n",
       "0     197.4         99       16.78       244.7           91         11.01   \n",
       "1     195.5        103       16.62       254.4          103         11.45   \n",
       "2     121.2        110       10.30       162.6          104          7.32   \n",
       "3      61.9         88        5.26       196.9           89          8.86   \n",
       "4     148.3        122       12.61       186.9          121          8.41   \n",
       "\n",
       "   Intl Mins  Intl Calls  Intl Charge  CustServ Calls  Churn  \n",
       "0       10.0           3         2.70               1  False  \n",
       "1       13.7           3         3.70               1  False  \n",
       "2       12.2           5         3.29               0  False  \n",
       "3        6.6           7         1.78               2  False  \n",
       "4       10.1           3         2.73               3  False  "
      ]
     },
     "execution_count": 9,
     "metadata": {},
     "output_type": "execute_result"
    }
   ],
   "source": [
    "df.head()"
   ]
  },
  {
   "cell_type": "code",
   "execution_count": 10,
   "metadata": {
    "collapsed": false
   },
   "outputs": [
    {
     "data": {
      "text/html": [
       "<div style=\"max-height:1000px;max-width:1500px;overflow:auto;\">\n",
       "<table border=\"1\" class=\"dataframe\">\n",
       "  <thead>\n",
       "    <tr style=\"text-align: right;\">\n",
       "      <th></th>\n",
       "      <th>Int'l Plan</th>\n",
       "      <th>VMail Plan</th>\n",
       "      <th>VMail Message</th>\n",
       "      <th>Day Mins</th>\n",
       "      <th>Day Calls</th>\n",
       "      <th>Day Charge</th>\n",
       "      <th>Eve Mins</th>\n",
       "      <th>Eve Calls</th>\n",
       "      <th>Eve Charge</th>\n",
       "      <th>Night Mins</th>\n",
       "      <th>Night Calls</th>\n",
       "      <th>Night Charge</th>\n",
       "      <th>Intl Mins</th>\n",
       "      <th>Intl Calls</th>\n",
       "      <th>Intl Charge</th>\n",
       "      <th>CustServ Calls</th>\n",
       "      <th>Churn</th>\n",
       "    </tr>\n",
       "  </thead>\n",
       "  <tbody>\n",
       "    <tr>\n",
       "      <th>count</th>\n",
       "      <td>3333</td>\n",
       "      <td>3333</td>\n",
       "      <td>3333.000000</td>\n",
       "      <td>3333.000000</td>\n",
       "      <td>3333.000000</td>\n",
       "      <td>3333.000000</td>\n",
       "      <td>3333.000000</td>\n",
       "      <td>3333.000000</td>\n",
       "      <td>3333.000000</td>\n",
       "      <td>3333.000000</td>\n",
       "      <td>3333.000000</td>\n",
       "      <td>3333.000000</td>\n",
       "      <td>3333.000000</td>\n",
       "      <td>3333.000000</td>\n",
       "      <td>3333.000000</td>\n",
       "      <td>3333.000000</td>\n",
       "      <td>3333</td>\n",
       "    </tr>\n",
       "    <tr>\n",
       "      <th>mean</th>\n",
       "      <td>0.09690969</td>\n",
       "      <td>0.2766277</td>\n",
       "      <td>8.099010</td>\n",
       "      <td>179.775098</td>\n",
       "      <td>100.435644</td>\n",
       "      <td>30.562307</td>\n",
       "      <td>200.980348</td>\n",
       "      <td>100.114311</td>\n",
       "      <td>17.083540</td>\n",
       "      <td>200.872037</td>\n",
       "      <td>100.107711</td>\n",
       "      <td>9.039325</td>\n",
       "      <td>10.237294</td>\n",
       "      <td>4.479448</td>\n",
       "      <td>2.764581</td>\n",
       "      <td>1.562856</td>\n",
       "      <td>0.1449145</td>\n",
       "    </tr>\n",
       "    <tr>\n",
       "      <th>std</th>\n",
       "      <td>0.2958791</td>\n",
       "      <td>0.4473979</td>\n",
       "      <td>13.688365</td>\n",
       "      <td>54.467389</td>\n",
       "      <td>20.069084</td>\n",
       "      <td>9.259435</td>\n",
       "      <td>50.713844</td>\n",
       "      <td>19.922625</td>\n",
       "      <td>4.310668</td>\n",
       "      <td>50.573847</td>\n",
       "      <td>19.568609</td>\n",
       "      <td>2.275873</td>\n",
       "      <td>2.791840</td>\n",
       "      <td>2.461214</td>\n",
       "      <td>0.753773</td>\n",
       "      <td>1.315491</td>\n",
       "      <td>0.3520674</td>\n",
       "    </tr>\n",
       "    <tr>\n",
       "      <th>min</th>\n",
       "      <td>False</td>\n",
       "      <td>False</td>\n",
       "      <td>0.000000</td>\n",
       "      <td>0.000000</td>\n",
       "      <td>0.000000</td>\n",
       "      <td>0.000000</td>\n",
       "      <td>0.000000</td>\n",
       "      <td>0.000000</td>\n",
       "      <td>0.000000</td>\n",
       "      <td>23.200000</td>\n",
       "      <td>33.000000</td>\n",
       "      <td>1.040000</td>\n",
       "      <td>0.000000</td>\n",
       "      <td>0.000000</td>\n",
       "      <td>0.000000</td>\n",
       "      <td>0.000000</td>\n",
       "      <td>False</td>\n",
       "    </tr>\n",
       "    <tr>\n",
       "      <th>25%</th>\n",
       "      <td>0</td>\n",
       "      <td>0</td>\n",
       "      <td>0.000000</td>\n",
       "      <td>143.700000</td>\n",
       "      <td>87.000000</td>\n",
       "      <td>24.430000</td>\n",
       "      <td>166.600000</td>\n",
       "      <td>87.000000</td>\n",
       "      <td>14.160000</td>\n",
       "      <td>167.000000</td>\n",
       "      <td>87.000000</td>\n",
       "      <td>7.520000</td>\n",
       "      <td>8.500000</td>\n",
       "      <td>3.000000</td>\n",
       "      <td>2.300000</td>\n",
       "      <td>1.000000</td>\n",
       "      <td>0</td>\n",
       "    </tr>\n",
       "    <tr>\n",
       "      <th>50%</th>\n",
       "      <td>0</td>\n",
       "      <td>0</td>\n",
       "      <td>0.000000</td>\n",
       "      <td>179.400000</td>\n",
       "      <td>101.000000</td>\n",
       "      <td>30.500000</td>\n",
       "      <td>201.400000</td>\n",
       "      <td>100.000000</td>\n",
       "      <td>17.120000</td>\n",
       "      <td>201.200000</td>\n",
       "      <td>100.000000</td>\n",
       "      <td>9.050000</td>\n",
       "      <td>10.300000</td>\n",
       "      <td>4.000000</td>\n",
       "      <td>2.780000</td>\n",
       "      <td>1.000000</td>\n",
       "      <td>0</td>\n",
       "    </tr>\n",
       "    <tr>\n",
       "      <th>75%</th>\n",
       "      <td>0</td>\n",
       "      <td>1</td>\n",
       "      <td>20.000000</td>\n",
       "      <td>216.400000</td>\n",
       "      <td>114.000000</td>\n",
       "      <td>36.790000</td>\n",
       "      <td>235.300000</td>\n",
       "      <td>114.000000</td>\n",
       "      <td>20.000000</td>\n",
       "      <td>235.300000</td>\n",
       "      <td>113.000000</td>\n",
       "      <td>10.590000</td>\n",
       "      <td>12.100000</td>\n",
       "      <td>6.000000</td>\n",
       "      <td>3.270000</td>\n",
       "      <td>2.000000</td>\n",
       "      <td>0</td>\n",
       "    </tr>\n",
       "    <tr>\n",
       "      <th>max</th>\n",
       "      <td>True</td>\n",
       "      <td>True</td>\n",
       "      <td>51.000000</td>\n",
       "      <td>350.800000</td>\n",
       "      <td>165.000000</td>\n",
       "      <td>59.640000</td>\n",
       "      <td>363.700000</td>\n",
       "      <td>170.000000</td>\n",
       "      <td>30.910000</td>\n",
       "      <td>395.000000</td>\n",
       "      <td>175.000000</td>\n",
       "      <td>17.770000</td>\n",
       "      <td>20.000000</td>\n",
       "      <td>20.000000</td>\n",
       "      <td>5.400000</td>\n",
       "      <td>9.000000</td>\n",
       "      <td>True</td>\n",
       "    </tr>\n",
       "  </tbody>\n",
       "</table>\n",
       "</div>"
      ],
      "text/plain": [
       "       Int'l Plan VMail Plan  VMail Message     Day Mins    Day Calls  \\\n",
       "count        3333       3333    3333.000000  3333.000000  3333.000000   \n",
       "mean   0.09690969  0.2766277       8.099010   179.775098   100.435644   \n",
       "std     0.2958791  0.4473979      13.688365    54.467389    20.069084   \n",
       "min         False      False       0.000000     0.000000     0.000000   \n",
       "25%             0          0       0.000000   143.700000    87.000000   \n",
       "50%             0          0       0.000000   179.400000   101.000000   \n",
       "75%             0          1      20.000000   216.400000   114.000000   \n",
       "max          True       True      51.000000   350.800000   165.000000   \n",
       "\n",
       "        Day Charge     Eve Mins    Eve Calls   Eve Charge   Night Mins  \\\n",
       "count  3333.000000  3333.000000  3333.000000  3333.000000  3333.000000   \n",
       "mean     30.562307   200.980348   100.114311    17.083540   200.872037   \n",
       "std       9.259435    50.713844    19.922625     4.310668    50.573847   \n",
       "min       0.000000     0.000000     0.000000     0.000000    23.200000   \n",
       "25%      24.430000   166.600000    87.000000    14.160000   167.000000   \n",
       "50%      30.500000   201.400000   100.000000    17.120000   201.200000   \n",
       "75%      36.790000   235.300000   114.000000    20.000000   235.300000   \n",
       "max      59.640000   363.700000   170.000000    30.910000   395.000000   \n",
       "\n",
       "       Night Calls  Night Charge    Intl Mins   Intl Calls  Intl Charge  \\\n",
       "count  3333.000000   3333.000000  3333.000000  3333.000000  3333.000000   \n",
       "mean    100.107711      9.039325    10.237294     4.479448     2.764581   \n",
       "std      19.568609      2.275873     2.791840     2.461214     0.753773   \n",
       "min      33.000000      1.040000     0.000000     0.000000     0.000000   \n",
       "25%      87.000000      7.520000     8.500000     3.000000     2.300000   \n",
       "50%     100.000000      9.050000    10.300000     4.000000     2.780000   \n",
       "75%     113.000000     10.590000    12.100000     6.000000     3.270000   \n",
       "max     175.000000     17.770000    20.000000    20.000000     5.400000   \n",
       "\n",
       "       CustServ Calls      Churn  \n",
       "count     3333.000000       3333  \n",
       "mean         1.562856  0.1449145  \n",
       "std          1.315491  0.3520674  \n",
       "min          0.000000      False  \n",
       "25%          1.000000          0  \n",
       "50%          1.000000          0  \n",
       "75%          2.000000          0  \n",
       "max          9.000000       True  "
      ]
     },
     "execution_count": 10,
     "metadata": {},
     "output_type": "execute_result"
    }
   ],
   "source": [
    "# Need to rescale columns \n",
    "# The means and std vary greatly from feature to feature\n",
    "df.describe()"
   ]
  },
  {
   "cell_type": "code",
   "execution_count": 11,
   "metadata": {
    "collapsed": false
   },
   "outputs": [
    {
     "data": {
      "image/png": "[encoded data removed]",
      "text/plain": [
       "<matplotlib.figure.Figure at 0x10a13a350>"
      ]
     },
     "metadata": {},
     "output_type": "display_data"
    }
   ],
   "source": [
    "# Dist of features - before rescaling\n",
    "df.hist(color='r', alpha=0.5, bins=50, figsize=(18, 14));"
   ]
  },
  {
   "cell_type": "markdown",
   "metadata": {},
   "source": [
    "####Rescale Features"
   ]
  },
  {
   "cell_type": "code",
   "execution_count": 12,
   "metadata": {
    "collapsed": true
   },
   "outputs": [],
   "source": [
    "# columns won't rescale unless dtyp = \"float\"\n",
    "df2 = df[df.columns[2:-1]].astype(float)"
   ]
  },
  {
   "cell_type": "code",
   "execution_count": 13,
   "metadata": {
    "collapsed": false
   },
   "outputs": [],
   "source": [
    "# rescale columns to range (-1,1)\n",
    "# Do not include columns with boolean values\n",
    "df2[df.columns[2:-1]] = df2[df.columns[2:-1]].apply(lambda x: MinMaxScaler(feature_range=(-1,1)).fit_transform(x))"
   ]
  },
  {
   "cell_type": "code",
   "execution_count": 14,
   "metadata": {
    "collapsed": false
   },
   "outputs": [],
   "source": [
    "# Move columns with boolean values back into dataframe\n",
    "df2[df.columns[0]] = df[df.columns[0]].values\n",
    "df2[df.columns[1]] = df[df.columns[1]].values\n",
    "df2[df.columns[-1]] = df[df.columns[-1]].values"
   ]
  },
  {
   "cell_type": "code",
   "execution_count": 15,
   "metadata": {
    "collapsed": false
   },
   "outputs": [
    {
     "data": {
      "text/html": [
       "<div style=\"max-height:1000px;max-width:1500px;overflow:auto;\">\n",
       "<table border=\"1\" class=\"dataframe\">\n",
       "  <thead>\n",
       "    <tr style=\"text-align: right;\">\n",
       "      <th></th>\n",
       "      <th>VMail Message</th>\n",
       "      <th>Day Mins</th>\n",
       "      <th>Day Calls</th>\n",
       "      <th>Day Charge</th>\n",
       "      <th>Eve Mins</th>\n",
       "      <th>Eve Calls</th>\n",
       "      <th>Eve Charge</th>\n",
       "      <th>Night Mins</th>\n",
       "      <th>Night Calls</th>\n",
       "      <th>Night Charge</th>\n",
       "      <th>Intl Mins</th>\n",
       "      <th>Intl Calls</th>\n",
       "      <th>Intl Charge</th>\n",
       "      <th>CustServ Calls</th>\n",
       "      <th>Int'l Plan</th>\n",
       "      <th>VMail Plan</th>\n",
       "      <th>Churn</th>\n",
       "    </tr>\n",
       "  </thead>\n",
       "  <tbody>\n",
       "    <tr>\n",
       "      <th>0</th>\n",
       "      <td>-0.019608</td>\n",
       "      <td>0.511403</td>\n",
       "      <td>0.333333</td>\n",
       "      <td>0.511402</td>\n",
       "      <td>0.085510</td>\n",
       "      <td>0.164706</td>\n",
       "      <td>0.085733</td>\n",
       "      <td>0.191501</td>\n",
       "      <td>-0.183099</td>\n",
       "      <td>0.191871</td>\n",
       "      <td>0.00</td>\n",
       "      <td>-0.7</td>\n",
       "      <td>0.000000</td>\n",
       "      <td>-0.777778</td>\n",
       "      <td>False</td>\n",
       "      <td>True</td>\n",
       "      <td>False</td>\n",
       "    </tr>\n",
       "    <tr>\n",
       "      <th>1</th>\n",
       "      <td>0.019608</td>\n",
       "      <td>-0.078677</td>\n",
       "      <td>0.490909</td>\n",
       "      <td>-0.078806</td>\n",
       "      <td>0.075062</td>\n",
       "      <td>0.211765</td>\n",
       "      <td>0.075380</td>\n",
       "      <td>0.243679</td>\n",
       "      <td>-0.014085</td>\n",
       "      <td>0.244471</td>\n",
       "      <td>0.37</td>\n",
       "      <td>-0.7</td>\n",
       "      <td>0.370370</td>\n",
       "      <td>-0.777778</td>\n",
       "      <td>False</td>\n",
       "      <td>True</td>\n",
       "      <td>False</td>\n",
       "    </tr>\n",
       "    <tr>\n",
       "      <th>2</th>\n",
       "      <td>-1.000000</td>\n",
       "      <td>0.387685</td>\n",
       "      <td>0.381818</td>\n",
       "      <td>0.387659</td>\n",
       "      <td>-0.333517</td>\n",
       "      <td>0.294118</td>\n",
       "      <td>-0.333549</td>\n",
       "      <td>-0.250134</td>\n",
       "      <td>0.000000</td>\n",
       "      <td>-0.249253</td>\n",
       "      <td>0.22</td>\n",
       "      <td>-0.5</td>\n",
       "      <td>0.218519</td>\n",
       "      <td>-1.000000</td>\n",
       "      <td>False</td>\n",
       "      <td>False</td>\n",
       "      <td>False</td>\n",
       "    </tr>\n",
       "    <tr>\n",
       "      <th>3</th>\n",
       "      <td>-1.000000</td>\n",
       "      <td>0.706956</td>\n",
       "      <td>-0.139394</td>\n",
       "      <td>0.706908</td>\n",
       "      <td>-0.659610</td>\n",
       "      <td>0.035294</td>\n",
       "      <td>-0.659657</td>\n",
       "      <td>-0.065627</td>\n",
       "      <td>-0.211268</td>\n",
       "      <td>-0.065152</td>\n",
       "      <td>-0.34</td>\n",
       "      <td>-0.3</td>\n",
       "      <td>-0.340741</td>\n",
       "      <td>-0.555556</td>\n",
       "      <td>True</td>\n",
       "      <td>False</td>\n",
       "      <td>False</td>\n",
       "    </tr>\n",
       "    <tr>\n",
       "      <th>4</th>\n",
       "      <td>-1.000000</td>\n",
       "      <td>-0.049601</td>\n",
       "      <td>0.369697</td>\n",
       "      <td>-0.049631</td>\n",
       "      <td>-0.184493</td>\n",
       "      <td>0.435294</td>\n",
       "      <td>-0.184083</td>\n",
       "      <td>-0.119419</td>\n",
       "      <td>0.239437</td>\n",
       "      <td>-0.118948</td>\n",
       "      <td>0.01</td>\n",
       "      <td>-0.7</td>\n",
       "      <td>0.011111</td>\n",
       "      <td>-0.333333</td>\n",
       "      <td>True</td>\n",
       "      <td>False</td>\n",
       "      <td>False</td>\n",
       "    </tr>\n",
       "  </tbody>\n",
       "</table>\n",
       "</div>"
      ],
      "text/plain": [
       "   VMail Message  Day Mins  Day Calls  Day Charge  Eve Mins  Eve Calls  \\\n",
       "0      -0.019608  0.511403   0.333333    0.511402  0.085510   0.164706   \n",
       "1       0.019608 -0.078677   0.490909   -0.078806  0.075062   0.211765   \n",
       "2      -1.000000  0.387685   0.381818    0.387659 -0.333517   0.294118   \n",
       "3      -1.000000  0.706956  -0.139394    0.706908 -0.659610   0.035294   \n",
       "4      -1.000000 -0.049601   0.369697   -0.049631 -0.184493   0.435294   \n",
       "\n",
       "   Eve Charge  Night Mins  Night Calls  Night Charge  Intl Mins  Intl Calls  \\\n",
       "0    0.085733    0.191501    -0.183099      0.191871       0.00        -0.7   \n",
       "1    0.075380    0.243679    -0.014085      0.244471       0.37        -0.7   \n",
       "2   -0.333549   -0.250134     0.000000     -0.249253       0.22        -0.5   \n",
       "3   -0.659657   -0.065627    -0.211268     -0.065152      -0.34        -0.3   \n",
       "4   -0.184083   -0.119419     0.239437     -0.118948       0.01        -0.7   \n",
       "\n",
       "   Intl Charge  CustServ Calls Int'l Plan VMail Plan  Churn  \n",
       "0     0.000000       -0.777778      False       True  False  \n",
       "1     0.370370       -0.777778      False       True  False  \n",
       "2     0.218519       -1.000000      False      False  False  \n",
       "3    -0.340741       -0.555556       True      False  False  \n",
       "4     0.011111       -0.333333       True      False  False  "
      ]
     },
     "execution_count": 15,
     "metadata": {},
     "output_type": "execute_result"
    }
   ],
   "source": [
    "df2.head()"
   ]
  },
  {
   "cell_type": "code",
   "execution_count": 16,
   "metadata": {
    "collapsed": false,
    "scrolled": true
   },
   "outputs": [
    {
     "data": {
      "text/html": [
       "<div style=\"max-height:1000px;max-width:1500px;overflow:auto;\">\n",
       "<table border=\"1\" class=\"dataframe\">\n",
       "  <thead>\n",
       "    <tr style=\"text-align: right;\">\n",
       "      <th></th>\n",
       "      <th>VMail Message</th>\n",
       "      <th>Day Mins</th>\n",
       "      <th>Day Calls</th>\n",
       "      <th>Day Charge</th>\n",
       "      <th>Eve Mins</th>\n",
       "      <th>Eve Calls</th>\n",
       "      <th>Eve Charge</th>\n",
       "      <th>Night Mins</th>\n",
       "      <th>Night Calls</th>\n",
       "      <th>Night Charge</th>\n",
       "      <th>Intl Mins</th>\n",
       "      <th>Intl Calls</th>\n",
       "      <th>Intl Charge</th>\n",
       "      <th>CustServ Calls</th>\n",
       "      <th>Int'l Plan</th>\n",
       "      <th>VMail Plan</th>\n",
       "      <th>Churn</th>\n",
       "    </tr>\n",
       "  </thead>\n",
       "  <tbody>\n",
       "    <tr>\n",
       "      <th>count</th>\n",
       "      <td>3333.000000</td>\n",
       "      <td>3333.000000</td>\n",
       "      <td>3333.000000</td>\n",
       "      <td>3333.000000</td>\n",
       "      <td>3333.000000</td>\n",
       "      <td>3333.000000</td>\n",
       "      <td>3333.000000</td>\n",
       "      <td>3333.000000</td>\n",
       "      <td>3333.000000</td>\n",
       "      <td>3333.000000</td>\n",
       "      <td>3333.000000</td>\n",
       "      <td>3333.000000</td>\n",
       "      <td>3333.000000</td>\n",
       "      <td>3333.000000</td>\n",
       "      <td>3333</td>\n",
       "      <td>3333</td>\n",
       "      <td>3333</td>\n",
       "    </tr>\n",
       "    <tr>\n",
       "      <th>mean</th>\n",
       "      <td>-0.682392</td>\n",
       "      <td>0.024944</td>\n",
       "      <td>0.217402</td>\n",
       "      <td>0.024893</td>\n",
       "      <td>0.105199</td>\n",
       "      <td>0.177815</td>\n",
       "      <td>0.105373</td>\n",
       "      <td>-0.044260</td>\n",
       "      <td>-0.054821</td>\n",
       "      <td>-0.043715</td>\n",
       "      <td>0.023729</td>\n",
       "      <td>-0.552055</td>\n",
       "      <td>0.023919</td>\n",
       "      <td>-0.652699</td>\n",
       "      <td>0.09690969</td>\n",
       "      <td>0.2766277</td>\n",
       "      <td>0.1449145</td>\n",
       "    </tr>\n",
       "    <tr>\n",
       "      <th>std</th>\n",
       "      <td>0.536799</td>\n",
       "      <td>0.310532</td>\n",
       "      <td>0.243262</td>\n",
       "      <td>0.310511</td>\n",
       "      <td>0.278877</td>\n",
       "      <td>0.234384</td>\n",
       "      <td>0.278917</td>\n",
       "      <td>0.272049</td>\n",
       "      <td>0.275614</td>\n",
       "      <td>0.272071</td>\n",
       "      <td>0.279184</td>\n",
       "      <td>0.246121</td>\n",
       "      <td>0.279175</td>\n",
       "      <td>0.292331</td>\n",
       "      <td>0.2958791</td>\n",
       "      <td>0.4473979</td>\n",
       "      <td>0.3520674</td>\n",
       "    </tr>\n",
       "    <tr>\n",
       "      <th>min</th>\n",
       "      <td>-1.000000</td>\n",
       "      <td>-1.000000</td>\n",
       "      <td>-1.000000</td>\n",
       "      <td>-1.000000</td>\n",
       "      <td>-1.000000</td>\n",
       "      <td>-1.000000</td>\n",
       "      <td>-1.000000</td>\n",
       "      <td>-1.000000</td>\n",
       "      <td>-1.000000</td>\n",
       "      <td>-1.000000</td>\n",
       "      <td>-1.000000</td>\n",
       "      <td>-1.000000</td>\n",
       "      <td>-1.000000</td>\n",
       "      <td>-1.000000</td>\n",
       "      <td>False</td>\n",
       "      <td>False</td>\n",
       "      <td>False</td>\n",
       "    </tr>\n",
       "    <tr>\n",
       "      <th>25%</th>\n",
       "      <td>-1.000000</td>\n",
       "      <td>-0.180730</td>\n",
       "      <td>0.054545</td>\n",
       "      <td>-0.180751</td>\n",
       "      <td>-0.083860</td>\n",
       "      <td>0.023529</td>\n",
       "      <td>-0.083792</td>\n",
       "      <td>-0.226466</td>\n",
       "      <td>-0.239437</td>\n",
       "      <td>-0.225344</td>\n",
       "      <td>-0.150000</td>\n",
       "      <td>-0.700000</td>\n",
       "      <td>-0.148148</td>\n",
       "      <td>-0.777778</td>\n",
       "      <td>0</td>\n",
       "      <td>0</td>\n",
       "      <td>0</td>\n",
       "    </tr>\n",
       "    <tr>\n",
       "      <th>50%</th>\n",
       "      <td>-1.000000</td>\n",
       "      <td>0.022805</td>\n",
       "      <td>0.224242</td>\n",
       "      <td>0.022803</td>\n",
       "      <td>0.107506</td>\n",
       "      <td>0.176471</td>\n",
       "      <td>0.107732</td>\n",
       "      <td>-0.042496</td>\n",
       "      <td>-0.056338</td>\n",
       "      <td>-0.042439</td>\n",
       "      <td>0.030000</td>\n",
       "      <td>-0.600000</td>\n",
       "      <td>0.029630</td>\n",
       "      <td>-0.777778</td>\n",
       "      <td>0</td>\n",
       "      <td>0</td>\n",
       "      <td>0</td>\n",
       "    </tr>\n",
       "    <tr>\n",
       "      <th>75%</th>\n",
       "      <td>-0.215686</td>\n",
       "      <td>0.233751</td>\n",
       "      <td>0.381818</td>\n",
       "      <td>0.233736</td>\n",
       "      <td>0.293924</td>\n",
       "      <td>0.341176</td>\n",
       "      <td>0.294080</td>\n",
       "      <td>0.140936</td>\n",
       "      <td>0.126761</td>\n",
       "      <td>0.141662</td>\n",
       "      <td>0.210000</td>\n",
       "      <td>-0.400000</td>\n",
       "      <td>0.211111</td>\n",
       "      <td>-0.555556</td>\n",
       "      <td>0</td>\n",
       "      <td>1</td>\n",
       "      <td>0</td>\n",
       "    </tr>\n",
       "    <tr>\n",
       "      <th>max</th>\n",
       "      <td>1.000000</td>\n",
       "      <td>1.000000</td>\n",
       "      <td>1.000000</td>\n",
       "      <td>1.000000</td>\n",
       "      <td>1.000000</td>\n",
       "      <td>1.000000</td>\n",
       "      <td>1.000000</td>\n",
       "      <td>1.000000</td>\n",
       "      <td>1.000000</td>\n",
       "      <td>1.000000</td>\n",
       "      <td>1.000000</td>\n",
       "      <td>1.000000</td>\n",
       "      <td>1.000000</td>\n",
       "      <td>1.000000</td>\n",
       "      <td>True</td>\n",
       "      <td>True</td>\n",
       "      <td>True</td>\n",
       "    </tr>\n",
       "  </tbody>\n",
       "</table>\n",
       "</div>"
      ],
      "text/plain": [
       "       VMail Message     Day Mins    Day Calls   Day Charge     Eve Mins  \\\n",
       "count    3333.000000  3333.000000  3333.000000  3333.000000  3333.000000   \n",
       "mean       -0.682392     0.024944     0.217402     0.024893     0.105199   \n",
       "std         0.536799     0.310532     0.243262     0.310511     0.278877   \n",
       "min        -1.000000    -1.000000    -1.000000    -1.000000    -1.000000   \n",
       "25%        -1.000000    -0.180730     0.054545    -0.180751    -0.083860   \n",
       "50%        -1.000000     0.022805     0.224242     0.022803     0.107506   \n",
       "75%        -0.215686     0.233751     0.381818     0.233736     0.293924   \n",
       "max         1.000000     1.000000     1.000000     1.000000     1.000000   \n",
       "\n",
       "         Eve Calls   Eve Charge   Night Mins  Night Calls  Night Charge  \\\n",
       "count  3333.000000  3333.000000  3333.000000  3333.000000   3333.000000   \n",
       "mean      0.177815     0.105373    -0.044260    -0.054821     -0.043715   \n",
       "std       0.234384     0.278917     0.272049     0.275614      0.272071   \n",
       "min      -1.000000    -1.000000    -1.000000    -1.000000     -1.000000   \n",
       "25%       0.023529    -0.083792    -0.226466    -0.239437     -0.225344   \n",
       "50%       0.176471     0.107732    -0.042496    -0.056338     -0.042439   \n",
       "75%       0.341176     0.294080     0.140936     0.126761      0.141662   \n",
       "max       1.000000     1.000000     1.000000     1.000000      1.000000   \n",
       "\n",
       "         Intl Mins   Intl Calls  Intl Charge  CustServ Calls  Int'l Plan  \\\n",
       "count  3333.000000  3333.000000  3333.000000     3333.000000        3333   \n",
       "mean      0.023729    -0.552055     0.023919       -0.652699  0.09690969   \n",
       "std       0.279184     0.246121     0.279175        0.292331   0.2958791   \n",
       "min      -1.000000    -1.000000    -1.000000       -1.000000       False   \n",
       "25%      -0.150000    -0.700000    -0.148148       -0.777778           0   \n",
       "50%       0.030000    -0.600000     0.029630       -0.777778           0   \n",
       "75%       0.210000    -0.400000     0.211111       -0.555556           0   \n",
       "max       1.000000     1.000000     1.000000        1.000000        True   \n",
       "\n",
       "      VMail Plan      Churn  \n",
       "count       3333       3333  \n",
       "mean   0.2766277  0.1449145  \n",
       "std    0.4473979  0.3520674  \n",
       "min        False      False  \n",
       "25%            0          0  \n",
       "50%            0          0  \n",
       "75%            1          0  \n",
       "max         True       True  "
      ]
     },
     "execution_count": 16,
     "metadata": {},
     "output_type": "execute_result"
    }
   ],
   "source": [
    "df2.describe()"
   ]
  },
  {
   "cell_type": "code",
   "execution_count": 17,
   "metadata": {
    "collapsed": false
   },
   "outputs": [
    {
     "data": {
      "image/png": "[encoded data removed]",
      "text/plain": [
       "<matplotlib.figure.Figure at 0x10b8d70d0>"
      ]
     },
     "metadata": {},
     "output_type": "display_data"
    }
   ],
   "source": [
    "# Dist of features - after rescaling to (-1,1)\n",
    "df2.hist(color='r', alpha=0.5, bins=50, figsize=(18, 14));"
   ]
  },
  {
   "cell_type": "markdown",
   "metadata": {},
   "source": [
    "###Balance Classes"
   ]
  },
  {
   "cell_type": "markdown",
   "metadata": {},
   "source": [
    "We will explore 3 approaches to balancing classes\n",
    "    - Undersampling the majority class\n",
    "    - Oversampling the minority class\n",
    "    - SMOTE (Synthetic Minority Oversampling Technique)"
   ]
  },
  {
   "cell_type": "markdown",
   "metadata": {},
   "source": [
    "#####Why are imbalanced classes a problem?"
   ]
  },
  {
   "cell_type": "markdown",
   "metadata": {},
   "source": [
    "We are interested in a fairly high rate of correct detection of the minority class (churn)\n",
    "and we are wiling to allow for a small error rate in the majority class (don't churn). However an imbalanced data set prevents a classifier from being properly trained. Without enough churn data points, the classifer will not be able to learn enough of the predictive indicators of churn. "
   ]
  },
  {
   "cell_type": "code",
   "execution_count": 18,
   "metadata": {
    "collapsed": false
   },
   "outputs": [
    {
     "data": {
      "text/plain": [
       "False    2850\n",
       "True      483\n",
       "dtype: int64"
      ]
     },
     "execution_count": 18,
     "metadata": {},
     "output_type": "execute_result"
    }
   ],
   "source": [
    "# Imbalanced Classes ! \n",
    "df.Churn.value_counts()"
   ]
  },
  {
   "cell_type": "code",
   "execution_count": 19,
   "metadata": {
    "collapsed": false
   },
   "outputs": [
    {
     "name": "stdout",
     "output_type": "stream",
     "text": [
      "Accuracy 85.5\n"
     ]
    }
   ],
   "source": [
    "print \"Accuracy {:.3}\".format(2850 / (2850 + 483) * 100)"
   ]
  },
  {
   "cell_type": "markdown",
   "metadata": {},
   "source": [
    "#####Metrics\n",
    "Before classes are balanced, it is important to understand why the metrics Precision and Recall are chosen to measure the performance of a model and why accuracy alone is not enough. \n",
    "\n",
    "If we were to just assume that every user doesn't churn, then our accuracy would be 85.5% because the vast majority don't churn. But this tells us nothing about how well we can identify those users who actually do or do not churn, nor how often we are correct in stating that a user is likely to churn. "
   ]
  },
  {
   "cell_type": "markdown",
   "metadata": {},
   "source": [
    "#####Precison\n",
    "\n",
    "when a classier $\\textbf{predicts}$ an individual will churn, how often does the individual $\\textbf{actually}$ churn?"
   ]
  },
  {
   "cell_type": "markdown",
   "metadata": {},
   "source": [
    "#####Recall\n",
    "Of those that do churn and do not churn, how many of them was my classifier able to correctly $\\textbf{identify}$?"
   ]
  },
  {
   "cell_type": "markdown",
   "metadata": {},
   "source": [
    "#### Confusion Matrix\n",
    "We can get a better picture of our model but looking at the confusion matrix. We get the following four metrics:\n",
    "\n",
    "* **True Positives (TP)**: Correct positive predictions\n",
    "* **False Positives (FP)**: Incorrect positive predictions (false alarm)\n",
    "* **True Negatives (TN)**: Correct negative predictions\n",
    "* **False Negatives (FN)**: Incorrect negative predictions (a miss)\n",
    "\n",
    "|            | Predicted Yes  | Predicted No   |\n",
    "| ---------- | -------------- | -------------- |\n",
    "| Actual Yes | True positive  | False negative |\n",
    "| Actual No  | False positive | True negative  |\n",
    "\n",
    "\n",
    "* **Precision**: A measure of how good your positive predictions are\n",
    "    ```\n",
    "    Precison = TP / (TP + FP)\n",
    "             = TP / (predicted yes)\n",
    "    ```\n",
    "* **Recall**: A measure of how well you predict positive cases. Aka *sensitivity*.\n",
    "    ```\n",
    "    Recall = TP / (TP + FN) \n",
    "           = TP / (actual yes)\n",
    "    ```"
   ]
  },
  {
   "cell_type": "markdown",
   "metadata": {},
   "source": [
    "####Note:\n",
    "    confusion matricies from train models throughout this notebook have sklearn orientation:\n",
    "                            \n",
    "                                    sklearn orientation\n",
    "                                        | TN | FP |\n",
    "                                        | FN | TP |"
   ]
  },
  {
   "cell_type": "markdown",
   "metadata": {},
   "source": [
    "####For our data set\n",
    "\n",
    "    FP = Predicted to churn, doesn't churn\n",
    "\n",
    "    FN = Predicted to NOT churn, actually churns"
   ]
  },
  {
   "cell_type": "code",
   "execution_count": 20,
   "metadata": {
    "collapsed": true
   },
   "outputs": [],
   "source": [
    "# Warning: this approach can discard important observations\n",
    "def undersample(X, y, majority_weight=.5):\n",
    "    '''\n",
    "    randomly discards observations from majority class\n",
    "    so that output X, y have specified percentage of majority observations\n",
    "    '''\n",
    "    class_ratio = y.sum()/float(len(y))\n",
    "    majority_class_label = round(class_ratio)\n",
    "    X_majority = X[y==majority_class_label]\n",
    "    y_majority = y[y==majority_class_label]\n",
    "    maj_count = len(X_majority)\n",
    "    min_count = len(X) - maj_count\n",
    "    scaling_factor = (min_count/float(maj_count))*(majority_weight/(1-majority_weight))\n",
    "    sample_indices = np.random.choice(xrange(maj_count), \n",
    "                                      size=round(maj_count*scaling_factor),\n",
    "                                      replace=False)\n",
    "    X_majority = X_majority[sample_indices]\n",
    "    y_majority = y_majority[sample_indices]\n",
    "    X = np.vstack((X_majority, X[y!=majority_class_label]))\n",
    "    y = np.hstack((y_majority, y[y!=majority_class_label]))\n",
    "    return X, y"
   ]
  },
  {
   "cell_type": "code",
   "execution_count": 21,
   "metadata": {
    "collapsed": true
   },
   "outputs": [],
   "source": [
    "# Warning: This approach can over fit to the data\n",
    "def oversample(X, y, minority_weight=.5):\n",
    "    '''\n",
    "    duplicates observations from minority class\n",
    "    so that output X, y have specified percentage of majority observations\n",
    "    '''\n",
    "    class_ratio = y.sum()/float(len(y))\n",
    "    majority_class_label = round(class_ratio)\n",
    "    X_minority = X[y!=majority_class_label]\n",
    "    y_minority = y[y!=majority_class_label]\n",
    "    min_count = len(X_minority)\n",
    "    maj_count = len(X) - min_count\n",
    "    scaling_factor = round((maj_count/float(min_count))*(minority_weight/(1-minority_weight)))\n",
    "    # tile repeats the obs in X_minority by the scaling_factor\n",
    "    X_minority = np.tile(X_minority, (scaling_factor, 1))\n",
    "    y_minority = np.tile(y_minority, scaling_factor)\n",
    "    X = np.vstack((X_minority, X[y==majority_class_label]))\n",
    "    y = np.hstack((y_minority, y[y==majority_class_label]))\n",
    "    return X, y"
   ]
  },
  {
   "cell_type": "code",
   "execution_count": 22,
   "metadata": {
    "collapsed": true
   },
   "outputs": [],
   "source": [
    "def smote(X, y, minority_weight=.5):\n",
    "    '''\n",
    "    generates new observations in minority class\n",
    "    so that output X, y have specified percentage of majority observations\n",
    "    '''\n",
    "    # compute number of new examples required\n",
    "    # True = 1, False = 0 \n",
    "    # If True is majority (>=.50) Then round(class_ratio) = 1.0 \n",
    "    # Else if False is majoirty (< .50) Then round(class_ratio) = 0.0\n",
    "    # For walk through, let majority class be False = 0\n",
    "    class_ratio = y.sum()/float(len(y))\n",
    "    # majority_class_label = 0.0\n",
    "    majority_class_label = round(class_ratio)\n",
    "    \n",
    "    # X_minority holds all obs that correspond to the True label (minority class)\n",
    "    X_minority = X[y!=majority_class_label]\n",
    "    # y_minority holds all True values (minority class)\n",
    "    y_minority = y[y!=majority_class_label]\n",
    "    min_count = len(X_minority)\n",
    "    maj_count = len(X) - min_count\n",
    "    # scaling factor, for minority_weight = 0.5, reduces to Maj_count = SF * Min_count\n",
    "    # the SF is the ratio between theh classes, muliplying by this will balance them\n",
    "    scaling_factor = (maj_count/float(min_count))*(minority_weight/(1-minority_weight))\n",
    "    # generate new_obs_targets so that the minority class will be balance with the majority class\n",
    "    new_observations_target = round(scaling_factor*min_count) - min_count\n",
    "\n",
    "    # train KNN\n",
    "    knn_model = KNeighborsClassifier(n_neighbors=int(round(len(X_minority)**.5)))\n",
    "    knn_model.fit(X_minority, y_minority)\n",
    "    if new_observations_target < len(X_minority):\n",
    "        sample_indices = np.random.choice(xrange(X_minority), \n",
    "                                          size=new_observations_target,\n",
    "                                          replace=False)\n",
    "        smote_samples = X_minority[sample_indices]\n",
    "    else:\n",
    "        smote_samples = X_minority\n",
    "    neighbors = knn_model.kneighbors(smote_samples)[1]\n",
    "    \n",
    "    # generate new samples\n",
    "    new_observations = np.empty((0,X.shape[1]))\n",
    "    while len(new_observations) < new_observations_target:\n",
    "        index = len(new_observations) % len(smote_samples)\n",
    "        neighbor_index = np.random.choice(neighbors[index])\n",
    "        neighbor = smote_samples[neighbor_index]\n",
    "        x = X_minority[index]\n",
    "        new_x = x + (neighbor - x)*np.random.random(size=X_minority.shape[1])\n",
    "        new_observations = np.vstack((new_observations, new_x))\n",
    "    minority_class_label = (majority_class_label + 1) % 2\n",
    "    X = np.vstack((X, new_observations))\n",
    "    y = np.hstack((y, np.array([minority_class_label]*len(new_observations))))\n",
    "    \n",
    "    return X, y"
   ]
  },
  {
   "cell_type": "code",
   "execution_count": 23,
   "metadata": {
    "collapsed": true
   },
   "outputs": [],
   "source": [
    "# target values: churn/not churn --> true/false\n",
    "y = df2.Churn.values\n",
    "# feature data\n",
    "X = df2[df2.columns[:-1]].values"
   ]
  },
  {
   "cell_type": "markdown",
   "metadata": {},
   "source": [
    "####Unbalanced"
   ]
  },
  {
   "cell_type": "markdown",
   "metadata": {},
   "source": [
    "First, let's train the unbalanced data on a Random Forest Classifier (RFC)"
   ]
  },
  {
   "cell_type": "code",
   "execution_count": 24,
   "metadata": {
    "collapsed": true
   },
   "outputs": [],
   "source": [
    "model = Train_Test_Predict(RandomForestClassifier(), \n",
    "                           X,\n",
    "                           y, \n",
    "                           confusion = True,\n",
    "                           average = \"binary\")"
   ]
  },
  {
   "cell_type": "code",
   "execution_count": 25,
   "metadata": {
    "collapsed": false
   },
   "outputs": [
    {
     "name": "stdout",
     "output_type": "stream",
     "text": [
      "NOTE: average = binary for precison and recall.\n",
      "\n",
      "RandomForestClassifier  Training\n",
      "Accuracy:  0.946\n",
      "Precision: 0.903\n",
      "Recall:    0.687 \n",
      "\n",
      "RandomForestClassifier  Development\n",
      "Accuracy:  0.939\n",
      "Precision: 0.958\n",
      "Recall:    0.645\n",
      "\n",
      "Confusion Matrix\n",
      "[[557   3]\n",
      " [ 38  69]]\n",
      "\n",
      "sklearn orientation\n",
      "| TN | FP |\n",
      "| FN | TP |\n"
     ]
    }
   ],
   "source": [
    "model.fit_predict_model()"
   ]
  },
  {
   "cell_type": "markdown",
   "metadata": {},
   "source": [
    "We see that the RFC scores well on Accuracy and Precision on the imbalanced data set. However, the metric Recall performs very poorly. About 60% of the time, the RFC is able to correctly identify which users actually do and do not churn. "
   ]
  },
  {
   "cell_type": "markdown",
   "metadata": {},
   "source": [
    "####Undersampling"
   ]
  },
  {
   "cell_type": "code",
   "execution_count": 26,
   "metadata": {
    "collapsed": true
   },
   "outputs": [],
   "source": [
    "X_undersample, y_undersample = undersample(X,y)"
   ]
  },
  {
   "cell_type": "code",
   "execution_count": 27,
   "metadata": {
    "collapsed": false
   },
   "outputs": [],
   "source": [
    "model2 = Train_Test_Predict(RandomForestClassifier(), \n",
    "                           X_undersample,\n",
    "                           y_undersample, \n",
    "                           confusion = True,\n",
    "                           average = \"binary\")"
   ]
  },
  {
   "cell_type": "code",
   "execution_count": 28,
   "metadata": {
    "collapsed": false,
    "scrolled": false
   },
   "outputs": [
    {
     "name": "stdout",
     "output_type": "stream",
     "text": [
      "NOTE: average = binary for precison and recall.\n",
      "\n",
      "RandomForestClassifier  Training\n",
      "Accuracy:  0.847\n",
      "Precision: 0.889\n",
      "Recall:    0.795 \n",
      "\n",
      "RandomForestClassifier  Development\n",
      "Accuracy:  0.892\n",
      "Precision: 0.903\n",
      "Recall:    0.894\n",
      "\n",
      "Confusion Matrix\n",
      "[[80 10]\n",
      " [11 93]]\n",
      "\n",
      "sklearn orientation\n",
      "| TN | FP |\n",
      "| FN | TP |\n"
     ]
    }
   ],
   "source": [
    "model2.fit_predict_model()"
   ]
  },
  {
   "cell_type": "markdown",
   "metadata": {},
   "source": [
    "By undersampling the majority class, we can see that the model scores worst on both Precision and Recall metrics. Comparing these resutls with the unbalanced set, we are lead to conclude that undersampling is dropping out important obserations."
   ]
  },
  {
   "cell_type": "markdown",
   "metadata": {},
   "source": [
    "####Oversampling"
   ]
  },
  {
   "cell_type": "code",
   "execution_count": 29,
   "metadata": {
    "collapsed": true
   },
   "outputs": [],
   "source": [
    "X_oversampling, y_oversampling = oversample(X,y)"
   ]
  },
  {
   "cell_type": "code",
   "execution_count": 30,
   "metadata": {
    "collapsed": true
   },
   "outputs": [],
   "source": [
    "model3 = Train_Test_Predict(RandomForestClassifier(), \n",
    "                           X_oversampling,\n",
    "                           y_oversampling, \n",
    "                           confusion = True,\n",
    "                           average = \"binary\")"
   ]
  },
  {
   "cell_type": "code",
   "execution_count": 31,
   "metadata": {
    "collapsed": false
   },
   "outputs": [
    {
     "name": "stdout",
     "output_type": "stream",
     "text": [
      "NOTE: average = binary for precison and recall.\n",
      "\n",
      "RandomForestClassifier  Training\n",
      "Accuracy:  0.99\n",
      "Precision: 0.981\n",
      "Recall:    0.999 \n",
      "\n",
      "RandomForestClassifier  Development\n",
      "Accuracy:  0.993\n",
      "Precision: 0.986\n",
      "Recall:    1.0\n",
      "\n",
      "Confusion Matrix\n",
      "[[565   8]\n",
      " [  0 577]]\n",
      "\n",
      "sklearn orientation\n",
      "| TN | FP |\n",
      "| FN | TP |\n"
     ]
    }
   ],
   "source": [
    "model3.fit_predict_model()"
   ]
  },
  {
   "cell_type": "markdown",
   "metadata": {},
   "source": [
    "By oversampling the minority class (users who churn), the models has been able to score extreamly (suspiciously) well on all three metircs. However, these results may be misleading. By oversampling on the minority class (having multiple duplicates of users who churn) we are very likely overfitting to this particular data set. "
   ]
  },
  {
   "cell_type": "markdown",
   "metadata": {},
   "source": [
    "####SMOTE (Synthetic Minority Oversampling Technique)"
   ]
  },
  {
   "cell_type": "code",
   "execution_count": 32,
   "metadata": {
    "collapsed": false
   },
   "outputs": [],
   "source": [
    "X_smote, y_smote = smote(X,y)"
   ]
  },
  {
   "cell_type": "code",
   "execution_count": 33,
   "metadata": {
    "collapsed": true
   },
   "outputs": [],
   "source": [
    "model4 = Train_Test_Predict(RandomForestClassifier(), \n",
    "                           X_smote,\n",
    "                           y_smote, \n",
    "                           confusion = True,\n",
    "                           average = \"binary\")"
   ]
  },
  {
   "cell_type": "code",
   "execution_count": 34,
   "metadata": {
    "collapsed": false
   },
   "outputs": [
    {
     "name": "stdout",
     "output_type": "stream",
     "text": [
      "NOTE: average = binary for precison and recall.\n",
      "\n",
      "RandomForestClassifier  Training\n",
      "Accuracy:  0.927\n",
      "Precision: 0.954\n",
      "Recall:    0.898 \n",
      "\n",
      "RandomForestClassifier  Development\n",
      "Accuracy:  0.922\n",
      "Precision: 0.949\n",
      "Recall:    0.889\n",
      "\n",
      "Confusion Matrix\n",
      "[[552  27]\n",
      " [ 62 499]]\n",
      "\n",
      "sklearn orientation\n",
      "| TN | FP |\n",
      "| FN | TP |\n"
     ]
    }
   ],
   "source": [
    "model4.fit_predict_model()"
   ]
  },
  {
   "cell_type": "markdown",
   "metadata": {},
   "source": [
    "SMOTE performs better than the imbalanced data set and the undersampling cases, however it does not perform as well as the oversamplingly case. Nevertheless, we will balanced the data set by using the SMOTE approach. \n",
    "\n",
    "SMOTE uses the KNearestNeighbors classifier to generate new users who churn. However, unlike the Oversampling approach, these new users will not be identitical replications of exisitng users. These users will have very similar features as existing users who churn (as one might expect), however with some slight random variation to minimize overfitting to the data set. This seems like the right comprimise between high performance and overfitting. "
   ]
  },
  {
   "cell_type": "markdown",
   "metadata": {},
   "source": [
    "##Goals\n",
    "1. Use Random Forest for Feature Importance\n",
    "2. Model Data with 3 different classifers \n",
    "3. Assign a churn probability to each costumor\n",
    "4. Plot Predicted Probability Vs. Actual Outcomes\n",
    "5. Compare models \n",
    "6. Create Profit Curves with best performing model"
   ]
  },
  {
   "cell_type": "markdown",
   "metadata": {},
   "source": [
    "##Feature Importance"
   ]
  },
  {
   "cell_type": "markdown",
   "metadata": {},
   "source": [
    "We will explore feature importance based on model4, which was trained using SMOTE"
   ]
  },
  {
   "cell_type": "code",
   "execution_count": 35,
   "metadata": {
    "collapsed": false
   },
   "outputs": [
    {
     "data": {
      "image/png": "[encoded data removed]",
      "text/plain": [
       "<matplotlib.figure.Figure at 0x10cbbe710>"
      ]
     },
     "metadata": {},
     "output_type": "display_data"
    }
   ],
   "source": [
    "feats = model4.model.feature_importances_\n",
    "## rfc3.estimators_ --> list of Decision Tree Classifer Instances \n",
    "std = np.std([tree.feature_importances_ for tree in model4.model.estimators_],\n",
    "             axis=0)\n",
    "indices = np.argsort(feats)[::-1]\n",
    "plt.figure()\n",
    "plt.title(\"Feature importances\")\n",
    "plt.bar(range(len(feats)), feats[indices],\n",
    "       color=\"g\", yerr=std[indices], align=\"center\")\n",
    "plt.xticks(range(16), indices)\n",
    "plt.xlim([-1, 16])\n",
    "plt.ylim([0,.25])\n",
    "plt.show()"
   ]
  },
  {
   "cell_type": "code",
   "execution_count": 36,
   "metadata": {
    "collapsed": false
   },
   "outputs": [
    {
     "name": "stdout",
     "output_type": "stream",
     "text": [
      "Features ranked in order of importance\n",
      "\n",
      "Intl Calls\n",
      "Day Mins\n",
      "Intl Charge\n",
      "VMail Plan\n",
      "Night Charge\n",
      "Eve Mins\n",
      "Day Calls\n",
      "Night Calls\n",
      "Intl Mins\n",
      "Night Mins\n",
      "Eve Calls\n",
      "CustServ Calls\n",
      "Eve Charge\n",
      "VMail Message\n",
      "Int'l Plan\n",
      "Day Charge\n"
     ]
    }
   ],
   "source": [
    "print \"Features ranked in order of importance\\n\"\n",
    "for ind in indices:\n",
    "    print df.columns[ind]"
   ]
  },
  {
   "cell_type": "markdown",
   "metadata": {},
   "source": [
    "#####The performance of SMOTE on the entire data set"
   ]
  },
  {
   "cell_type": "markdown",
   "metadata": {},
   "source": [
    "    RandomForestClassifier  Development\n",
    "    Accuracy:  0.932\n",
    "    Precision: 0.961\n",
    "    Recall:    0.895\n",
    "\n",
    "    Confusion Matrix\n",
    "    [[566  20]\n",
    "     [ 58 496]]\n"
   ]
  },
  {
   "cell_type": "markdown",
   "metadata": {},
   "source": [
    "####Fit model on 12 highest ranked features"
   ]
  },
  {
   "cell_type": "code",
   "execution_count": 37,
   "metadata": {
    "collapsed": false
   },
   "outputs": [],
   "source": [
    "X_top_features = df2[indices[0:12]].values"
   ]
  },
  {
   "cell_type": "code",
   "execution_count": 38,
   "metadata": {
    "collapsed": true
   },
   "outputs": [],
   "source": [
    "X_smote2, y_smote2 = smote(X_top_features,y)"
   ]
  },
  {
   "cell_type": "code",
   "execution_count": 39,
   "metadata": {
    "collapsed": false
   },
   "outputs": [],
   "source": [
    "model5 = Train_Test_Predict(RandomForestClassifier(),\n",
    "                            X_smote2, \n",
    "                            y_smote2,\n",
    "                            confusion = True,\n",
    "                            average = \"binary\")"
   ]
  },
  {
   "cell_type": "code",
   "execution_count": 40,
   "metadata": {
    "collapsed": false
   },
   "outputs": [
    {
     "name": "stdout",
     "output_type": "stream",
     "text": [
      "NOTE: average = binary for precison and recall.\n",
      "\n",
      "RandomForestClassifier  Training\n",
      "Accuracy:  0.938\n",
      "Precision: 0.966\n",
      "Recall:    0.906 \n",
      "\n",
      "RandomForestClassifier  Development\n",
      "Accuracy:  0.929\n",
      "Precision: 0.962\n",
      "Recall:    0.898\n",
      "\n",
      "Confusion Matrix\n",
      "[[532  21]\n",
      " [ 60 527]]\n",
      "\n",
      "sklearn orientation\n",
      "| TN | FP |\n",
      "| FN | TP |\n"
     ]
    }
   ],
   "source": [
    "model5.fit_predict_model()"
   ]
  },
  {
   "cell_type": "markdown",
   "metadata": {},
   "source": [
    "####Results on Feature Importance\n",
    "\n",
    "Comparing the metrics between traning RFC on the full feature set and on the first 12 most important features, we see that we get about the same performance from the model. The values will fluctuate a little each time the model is run, however training on the 12 highest ranking features will almost always perform just as well, or better, as the full feature set. \n",
    "\n",
    "Moving forward we will drop the lowest 4 ranked features: VMail Message, Day Charge, Eve Charge, CustServ Calls. By varying the number of ranked features that are included in the modeling, it was observed that once the lower 4 features where included into the set of features, the model's performance decreased. This indicates that the lower 4 features contain more noise than signal - they are not predictive of churn.  "
   ]
  },
  {
   "cell_type": "markdown",
   "metadata": {},
   "source": [
    "#Modeling"
   ]
  },
  {
   "cell_type": "markdown",
   "metadata": {},
   "source": [
    "    - Train models on SMOTE data\n",
    "    - Test models by predicting on unbalanced data "
   ]
  },
  {
   "cell_type": "markdown",
   "metadata": {},
   "source": [
    "We will use 3 different models to predict the probabiity of churn, plot the distribution of predicted probabilities, and discuss the results\n",
    "    - Random Forest\n",
    "    - Gradient Boosting\n",
    "    - SVM"
   ]
  },
  {
   "cell_type": "markdown",
   "metadata": {},
   "source": [
    "For Random Forest, we will use the default turning of the parameters since they perform just as well, or better, then parameters tuned from a grid search. "
   ]
  },
  {
   "cell_type": "code",
   "execution_count": 259,
   "metadata": {
    "collapsed": true
   },
   "outputs": [],
   "source": [
    "Xtrain,Xtest,ytrain,ytest = train_test_split(X_top_features,y, test_size = 0.20)"
   ]
  },
  {
   "cell_type": "code",
   "execution_count": 261,
   "metadata": {
    "collapsed": false
   },
   "outputs": [],
   "source": [
    "X_smote_train, y_smote_train = smote(Xtrain,ytrain)"
   ]
  },
  {
   "cell_type": "code",
   "execution_count": 262,
   "metadata": {
    "collapsed": true
   },
   "outputs": [],
   "source": [
    "model6 = Train_Test_Predict(RandomForestClassifier(),\n",
    "                            X_smote_train, \n",
    "                            y_smote_train,\n",
    "                            confusion = True,\n",
    "                            average = \"binary\")"
   ]
  },
  {
   "cell_type": "code",
   "execution_count": 263,
   "metadata": {
    "collapsed": false
   },
   "outputs": [
    {
     "name": "stdout",
     "output_type": "stream",
     "text": [
      "NOTE: average = binary for precison and recall.\n",
      "\n",
      "RandomForestClassifier  Training\n",
      "Accuracy:  0.936\n",
      "Precision: 0.965\n",
      "Recall:    0.904 \n",
      "\n",
      "RandomForestClassifier  Development\n",
      "Accuracy:  0.932\n",
      "Precision: 0.965\n",
      "Recall:    0.899\n",
      "\n",
      "Confusion Matrix\n",
      "[[432  15]\n",
      " [ 47 417]]\n",
      "\n",
      "sklearn orientation\n",
      "| TN | FP |\n",
      "| FN | TP |\n"
     ]
    }
   ],
   "source": [
    "model6.fit_predict_model()"
   ]
  },
  {
   "cell_type": "code",
   "execution_count": 267,
   "metadata": {
    "collapsed": true
   },
   "outputs": [],
   "source": [
    "rfc_fitted = model6.model"
   ]
  },
  {
   "cell_type": "code",
   "execution_count": 268,
   "metadata": {
    "collapsed": false
   },
   "outputs": [],
   "source": [
    "ypred = rfc_fitted.predict(Xtest)"
   ]
  },
  {
   "cell_type": "markdown",
   "metadata": {},
   "source": [
    "Results from testing the model on the unbalanced data \n",
    "\n",
    "These are the definitive metrics that inform us about how well this classifier will perform."
   ]
  },
  {
   "cell_type": "code",
   "execution_count": 269,
   "metadata": {
    "collapsed": false
   },
   "outputs": [
    {
     "name": "stdout",
     "output_type": "stream",
     "text": [
      "accuracy  0.936\n",
      "precision 0.78\n",
      "recall    0.755\n"
     ]
    }
   ],
   "source": [
    "print \"accuracy  {:.3}\".format(accuracy_score(ytest, ypred))\n",
    "print \"precision {:.3}\".format(precision_score(ytest, ypred))\n",
    "print \"recall    {:.3}\".format(recall_score(ytest, ypred))"
   ]
  },
  {
   "cell_type": "code",
   "execution_count": 271,
   "metadata": {
    "collapsed": true
   },
   "outputs": [],
   "source": [
    "# save probabilities for yes churn\n",
    "churns_rfc = rfc_fitted.predict_proba(Xtest)[:,1]"
   ]
  },
  {
   "cell_type": "code",
   "execution_count": 272,
   "metadata": {
    "collapsed": true
   },
   "outputs": [],
   "source": [
    "users_rfc = np.arange(1,churns_rfc.size +1,1)"
   ]
  },
  {
   "cell_type": "code",
   "execution_count": 273,
   "metadata": {
    "collapsed": false
   },
   "outputs": [
    {
     "data": {
      "image/png": "[encoded data removed]",
      "text/plain": [
       "<matplotlib.figure.Figure at 0x10b0b5250>"
      ]
     },
     "metadata": {},
     "output_type": "display_data"
    }
   ],
   "source": [
    "plt.plot(churns_rfc,users_rfc, \"o\");\n",
    "plt.xlim([-0.01, 1.01]);\n",
    "plt.title(\"Distribution of Churn Probabilities\");\n",
    "plt.xlabel(\"Probability of Churn\");\n",
    "plt.ylabel(\"Users\");"
   ]
  },
  {
   "cell_type": "code",
   "execution_count": 275,
   "metadata": {
    "collapsed": false
   },
   "outputs": [
    {
     "data": {
      "image/png": "[encoded data removed]",
      "text/plain": [
       "<matplotlib.figure.Figure at 0x10aa72950>"
      ]
     },
     "metadata": {},
     "output_type": "display_data"
    }
   ],
   "source": [
    "plt.plot(ytest,churns_rfc ,\"o\");\n",
    "plt.xlim([-0.5, 1.5]);\n",
    "plt.title(\"Probability of Churn vs Actual Churn \");\n",
    "plt.ylabel(\"Probability of Churn\");\n",
    "plt.xlabel(\"Actual Churn\");"
   ]
  },
  {
   "cell_type": "markdown",
   "metadata": {},
   "source": [
    "As a visual aid, we can interpret the *Probability of Churn vs Actual Churn* plot as a confusion matrix with the follow orientation "
   ]
  },
  {
   "cell_type": "markdown",
   "metadata": {},
   "source": [
    "\n",
    "                                    | FP | TP |\n",
    "                                    | TN | FN |\n",
    "                                    "
   ]
  },
  {
   "cell_type": "markdown",
   "metadata": {},
   "source": [
    "The *Distribution of Churn Probabilities* plot shows us that the RFC probabilities are spread out. There are a lot of low probabilities for churn below 20%. There are many probabilities in the \"uncertian\" region between 40% and 60%. "
   ]
  },
  {
   "cell_type": "markdown",
   "metadata": {},
   "source": [
    "The *Probability of Churn vs Actual Churn* plot shows us that the predicted probabilities for churn are evenly spread out between predicting churn and being right and predicting churn and being wrong. This plot tells us that RFC's probabilites for churn are not the most reliable."
   ]
  },
  {
   "cell_type": "markdown",
   "metadata": {},
   "source": [
    "###GradientBoosting"
   ]
  },
  {
   "cell_type": "markdown",
   "metadata": {},
   "source": [
    "Optimized Hyper-Parameters\n",
    "\n",
    "    (F1 = 0.96734218047336817,\n",
    "      {'learning_rate': 0.1,\n",
    "       'max_depth': 5,\n",
    "       'max_features': 6,\n",
    "       'min_samples_leaf': 2,\n",
    "       'min_samples_split': 4})"
   ]
  },
  {
   "cell_type": "code",
   "execution_count": 251,
   "metadata": {
    "collapsed": false
   },
   "outputs": [],
   "source": [
    "# optimized hyperparameters\n",
    "gb = GradientBoostingClassifier(n_estimators = 1000,\n",
    "                                learning_rate = 0.1,\n",
    "                                max_depth = 5,\n",
    "                                max_features = 6,\n",
    "                                min_samples_leaf = 2,\n",
    "                                min_samples_split = 4,\n",
    "                                random_state = 41)"
   ]
  },
  {
   "cell_type": "code",
   "execution_count": 276,
   "metadata": {
    "collapsed": false
   },
   "outputs": [],
   "source": [
    "model7 = Train_Test_Predict(gb, \n",
    "                         X_smote_train, # top 12 ranked features\n",
    "                         y_smote_train, \n",
    "                         confusion=True,\n",
    "                         average = \"binary\")"
   ]
  },
  {
   "cell_type": "code",
   "execution_count": 277,
   "metadata": {
    "collapsed": false
   },
   "outputs": [
    {
     "name": "stdout",
     "output_type": "stream",
     "text": [
      "NOTE: average = binary for precison and recall.\n",
      "\n",
      "GradientBoostingClassifier  Training\n",
      "Accuracy:  0.974\n",
      "Precision: 0.983\n",
      "Recall:    0.964 \n",
      "\n",
      "GradientBoostingClassifier  Development\n",
      "Accuracy:  0.976\n",
      "Precision: 0.98\n",
      "Recall:    0.972\n",
      "\n",
      "Confusion Matrix\n",
      "[[444   9]\n",
      " [ 13 445]]\n",
      "\n",
      "sklearn orientation\n",
      "| TN | FP |\n",
      "| FN | TP |\n"
     ]
    }
   ],
   "source": [
    "model7.fit_predict_model()"
   ]
  },
  {
   "cell_type": "code",
   "execution_count": 278,
   "metadata": {
    "collapsed": true
   },
   "outputs": [],
   "source": [
    "gdb_fitted_model = model7.model"
   ]
  },
  {
   "cell_type": "code",
   "execution_count": 279,
   "metadata": {
    "collapsed": false
   },
   "outputs": [],
   "source": [
    "ypred2 = gdb_fitted_model.predict(Xtest)"
   ]
  },
  {
   "cell_type": "markdown",
   "metadata": {},
   "source": [
    "Results from testing the model on the unbalanced data\n",
    "\n",
    "These are the definitive metrics that inform us about how well this classifier will perform."
   ]
  },
  {
   "cell_type": "code",
   "execution_count": 280,
   "metadata": {
    "collapsed": false
   },
   "outputs": [
    {
     "name": "stdout",
     "output_type": "stream",
     "text": [
      "accuracy  0.948\n",
      "precision 0.864\n",
      "recall    0.745\n"
     ]
    }
   ],
   "source": [
    "print \"accuracy  {:.3}\".format(accuracy_score(ytest, ypred2))\n",
    "print \"precision {:.3}\".format(precision_score(ytest, ypred2))\n",
    "print \"recall    {:.3}\".format(recall_score(ytest, ypred2))"
   ]
  },
  {
   "cell_type": "code",
   "execution_count": 281,
   "metadata": {
    "collapsed": false
   },
   "outputs": [
    {
     "data": {
      "text/plain": [
       "array([[  9.99937248e-01,   6.27523749e-05],\n",
       "       [  9.99851500e-01,   1.48499711e-04],\n",
       "       [  9.99852554e-01,   1.47445556e-04],\n",
       "       [  9.99983143e-01,   1.68570875e-05],\n",
       "       [  9.99993947e-01,   6.05280637e-06]])"
      ]
     },
     "execution_count": 281,
     "metadata": {},
     "output_type": "execute_result"
    }
   ],
   "source": [
    "# col1 --> False, no churn\n",
    "# col2 --> True, yes churn\n",
    "gdb_fitted_model.predict_proba(Xtest)[0:5,:]"
   ]
  },
  {
   "cell_type": "code",
   "execution_count": 282,
   "metadata": {
    "collapsed": false
   },
   "outputs": [],
   "source": [
    "# save probabilities for yes churn\n",
    "churns_gdb = gdb_fitted_model.predict_proba(Xtest)[:,1]"
   ]
  },
  {
   "cell_type": "code",
   "execution_count": 283,
   "metadata": {
    "collapsed": false
   },
   "outputs": [],
   "source": [
    "users = np.arange(1,churns_gdb.size +1,1)"
   ]
  },
  {
   "cell_type": "code",
   "execution_count": 284,
   "metadata": {
    "collapsed": false
   },
   "outputs": [
    {
     "data": {
      "image/png": "[encoded data removed]",
      "text/plain": [
       "<matplotlib.figure.Figure at 0x10ae519d0>"
      ]
     },
     "metadata": {},
     "output_type": "display_data"
    }
   ],
   "source": [
    "plt.plot(churns_gdb,users, \"o\");\n",
    "plt.xlim([-0.01, 1.01]);\n",
    "plt.title(\"Distribution of Churn Probabilities\");\n",
    "plt.xlabel(\"Probability of Churn\");\n",
    "plt.ylabel(\"Users\");"
   ]
  },
  {
   "cell_type": "code",
   "execution_count": 285,
   "metadata": {
    "collapsed": false
   },
   "outputs": [
    {
     "data": {
      "image/png": "[encoded data removed]",
      "text/plain": [
       "<matplotlib.figure.Figure at 0x10cdd6c50>"
      ]
     },
     "metadata": {},
     "output_type": "display_data"
    }
   ],
   "source": [
    "plt.plot(ytest,churns_gdb ,\"o\");\n",
    "plt.xlim([-0.5, 1.5]);\n",
    "plt.title(\"Probability of Churn vs Actual Churn \");\n",
    "plt.ylabel(\"Probability of Churn\");\n",
    "plt.xlabel(\"Actual Churn\");"
   ]
  },
  {
   "cell_type": "markdown",
   "metadata": {},
   "source": [
    "As a visual aid, we can interpret the *Probability of Churn vs Actual Churn* plot as a confusion matrix with the follow orientation "
   ]
  },
  {
   "cell_type": "markdown",
   "metadata": {},
   "source": [
    "\n",
    "                                    | FP | TP |\n",
    "                                    | TN | FN |\n",
    "                                    "
   ]
  },
  {
   "cell_type": "markdown",
   "metadata": {},
   "source": [
    "\n",
    "The 1st graph shows that Gradient Boosting Classifer assignes strong probabilities to a user's likelihood of churning or not churning. The 2nd graph shows that the model's probabilities are meaningful. \n",
    "\n",
    "At the top of the right column (1.0 means Churn), a high probability of churning correctly predicts churn (True Positives)\n",
    "\n",
    "At the bottom of the left column (0.0 means No Churn), low (below 20%) probabilities are assigned to many user's likelihood of churning--another way of saying the same thing is to say a HIGH probability of NOT churning is assigned--these users in fact do not churn (True Negatives). These are great resutls.\n",
    "\n",
    "The problem is at the bottom of the right column, low probabilities are assigned to churning--another way of saying that is a HIGH probability of NOT churning is assinged--yet these users do in fact churn. These users are the False Negatives: user's that are predicted to NOT churn but actually do chrun. These users are our biggest concern. Fortunately, we can see from the confusion matrix below that these users are relatively low in count.  \n",
    "\n",
    "Also notice at the top of the left column. These users are the False Positives: user's that are predicted to churn but do in fact do NOT churn. These users are of much less concern to the business.\n",
    "\n",
    "Also the 2nd graph shows that GBC predicts very few probabilities in the \"uncertainty\" region between 40% and 60%. "
   ]
  },
  {
   "cell_type": "code",
   "execution_count": 305,
   "metadata": {
    "collapsed": false
   },
   "outputs": [
    {
     "name": "stdout",
     "output_type": "stream",
     "text": [
      "[[444   9]\n",
      " [ 13 445]]\n"
     ]
    }
   ],
   "source": [
    "print model7.confusion_matrix"
   ]
  },
  {
   "cell_type": "markdown",
   "metadata": {},
   "source": [
    "                        confusion matrix has sklearn orientation:\n",
    "                                    | TN | FP |\n",
    "                                    | FN | TP |"
   ]
  },
  {
   "cell_type": "markdown",
   "metadata": {},
   "source": [
    "###SVM"
   ]
  },
  {
   "cell_type": "markdown",
   "metadata": {},
   "source": [
    "Optimized Hyper-Parameters\n",
    "\n",
    "     (F1 = 0.91093502317158193, {'C': 100.0, 'gamma': 1.0, 'kernel': 'poly'})"
   ]
  },
  {
   "cell_type": "code",
   "execution_count": 287,
   "metadata": {
    "collapsed": true
   },
   "outputs": [],
   "source": [
    "svc = SVC(C = 100.0, \n",
    "          gamma = 1.0, \n",
    "          kernel = \"poly\",\n",
    "         probability = True)"
   ]
  },
  {
   "cell_type": "code",
   "execution_count": 288,
   "metadata": {
    "collapsed": true
   },
   "outputs": [],
   "source": [
    "model8 = Train_Test_Predict(svc, \n",
    "                         X_smote_train, # top 12 ranked features\n",
    "                         y_smote_train, \n",
    "                         confusion=True,\n",
    "                         average = \"binary\")"
   ]
  },
  {
   "cell_type": "code",
   "execution_count": 289,
   "metadata": {
    "collapsed": false
   },
   "outputs": [
    {
     "name": "stdout",
     "output_type": "stream",
     "text": [
      "NOTE: average = binary for precison and recall.\n",
      "\n",
      "SVC  Training\n",
      "Accuracy:  0.906\n",
      "Precision: 0.943\n",
      "Recall:    0.864 \n",
      "\n",
      "SVC  Development\n",
      "Accuracy:  0.901\n",
      "Precision: 0.946\n",
      "Recall:    0.85\n",
      "\n",
      "Confusion Matrix\n",
      "[[435  22]\n",
      " [ 68 386]]\n",
      "\n",
      "sklearn orientation\n",
      "| TN | FP |\n",
      "| FN | TP |\n"
     ]
    }
   ],
   "source": [
    "model8.fit_predict_model()"
   ]
  },
  {
   "cell_type": "code",
   "execution_count": 293,
   "metadata": {
    "collapsed": true
   },
   "outputs": [],
   "source": [
    "svc_fitted_model = model8.model"
   ]
  },
  {
   "cell_type": "code",
   "execution_count": 294,
   "metadata": {
    "collapsed": true
   },
   "outputs": [],
   "source": [
    "ypred3 = svc_fitted_model.predict(Xtest)"
   ]
  },
  {
   "cell_type": "markdown",
   "metadata": {},
   "source": [
    "Results from testing the model on the unbalanced data\n",
    "\n",
    "These are the definitive metrics that inform us about how well this classifier will perform."
   ]
  },
  {
   "cell_type": "code",
   "execution_count": 295,
   "metadata": {
    "collapsed": false
   },
   "outputs": [
    {
     "name": "stdout",
     "output_type": "stream",
     "text": [
      "accuracy  0.921\n",
      "precision 0.73\n",
      "recall    0.691\n"
     ]
    }
   ],
   "source": [
    "print \"accuracy  {:.3}\".format(accuracy_score(ytest, ypred3))\n",
    "print \"precision {:.3}\".format(precision_score(ytest, ypred3))\n",
    "print \"recall    {:.3}\".format(recall_score(ytest, ypred3))"
   ]
  },
  {
   "cell_type": "code",
   "execution_count": 296,
   "metadata": {
    "collapsed": false
   },
   "outputs": [],
   "source": [
    "# save probabilities for yes churn\n",
    "churns_svc = svc_fitted_model.predict_proba(Xtest)[:,1]"
   ]
  },
  {
   "cell_type": "code",
   "execution_count": 297,
   "metadata": {
    "collapsed": false
   },
   "outputs": [
    {
     "data": {
      "image/png": "[encoded data removed]",
      "text/plain": [
       "<matplotlib.figure.Figure at 0x10ce85310>"
      ]
     },
     "metadata": {},
     "output_type": "display_data"
    }
   ],
   "source": [
    "plt.plot(churns_svc,users, \"o\");\n",
    "plt.xlim([-0.01, 1.01]);\n",
    "plt.title(\"Distribution of Churn Probabilities\");\n",
    "plt.xlabel(\"Probability of Churn\");\n",
    "plt.ylabel(\"Users\");"
   ]
  },
  {
   "cell_type": "code",
   "execution_count": 298,
   "metadata": {
    "collapsed": false
   },
   "outputs": [
    {
     "data": {
      "image/png": "[encoded data removed]",
      "text/plain": [
       "<matplotlib.figure.Figure at 0x10ab5d6d0>"
      ]
     },
     "metadata": {},
     "output_type": "display_data"
    }
   ],
   "source": [
    "plt.plot(ytest,churns_svc ,\"o\");\n",
    "plt.xlim([-0.5, 1.5]);\n",
    "plt.title(\"Probability of Churn vs Actual Churn\");\n",
    "plt.ylabel(\"Probability of Churn\");\n",
    "plt.xlabel(\"Actual Churn\");"
   ]
  },
  {
   "cell_type": "markdown",
   "metadata": {},
   "source": [
    "As a visual aid, we can interpret the *Probability of Churn vs Actual Churn* plot as a confusion matrix with the follow orientation "
   ]
  },
  {
   "cell_type": "markdown",
   "metadata": {},
   "source": [
    "\n",
    "                                    | FP | TP |\n",
    "                                    | TN | FN |\n",
    "                                    "
   ]
  },
  {
   "cell_type": "markdown",
   "metadata": {},
   "source": [
    "The *Distribution of Churn Probabiliteis* plot shows us that SVM predicts low probabilities of churns for the vast majorty of users. It makes very little strong predictions for churn -- few probabilities above 80%. Most importantly, the 1st plot shows that SVM has many probabilites in the \"uncertian\" region between 40% and 60%. This is not a good sign."
   ]
  },
  {
   "cell_type": "markdown",
   "metadata": {},
   "source": [
    "The *Probability of Churn vs Actual Churn* plot has discouraging results. We can see that SVM's has only a few predicted probabilities in the False Positive region, this is good. However, many probabilities exist in the False Negative region -- which is the error that we are most interested in minimizing. "
   ]
  },
  {
   "cell_type": "markdown",
   "metadata": {},
   "source": [
    "###Results on Modeling"
   ]
  },
  {
   "cell_type": "markdown",
   "metadata": {},
   "source": [
    "Let's review the metrics on all 3 models"
   ]
  },
  {
   "cell_type": "markdown",
   "metadata": {},
   "source": [
    "#####Random Forest"
   ]
  },
  {
   "cell_type": "code",
   "execution_count": 299,
   "metadata": {
    "collapsed": false
   },
   "outputs": [
    {
     "name": "stdout",
     "output_type": "stream",
     "text": [
      "accuracy  0.936\n",
      "precision 0.78\n",
      "recall    0.755\n"
     ]
    }
   ],
   "source": [
    "print \"accuracy  {:.3}\".format(accuracy_score(ytest, ypred))\n",
    "print \"precision {:.3}\".format(precision_score(ytest, ypred))\n",
    "print \"recall    {:.3}\".format(recall_score(ytest, ypred))"
   ]
  },
  {
   "cell_type": "markdown",
   "metadata": {},
   "source": [
    "#####Gradient Boosting"
   ]
  },
  {
   "cell_type": "code",
   "execution_count": 300,
   "metadata": {
    "collapsed": false
   },
   "outputs": [
    {
     "name": "stdout",
     "output_type": "stream",
     "text": [
      "accuracy  0.948\n",
      "precision 0.864\n",
      "recall    0.745\n"
     ]
    }
   ],
   "source": [
    "print \"accuracy  {:.3}\".format(accuracy_score(ytest, ypred2))\n",
    "print \"precision {:.3}\".format(precision_score(ytest, ypred2))\n",
    "print \"recall    {:.3}\".format(recall_score(ytest, ypred2))"
   ]
  },
  {
   "cell_type": "markdown",
   "metadata": {},
   "source": [
    "####SVM"
   ]
  },
  {
   "cell_type": "code",
   "execution_count": 301,
   "metadata": {
    "collapsed": false
   },
   "outputs": [
    {
     "name": "stdout",
     "output_type": "stream",
     "text": [
      "accuracy  0.921\n",
      "precision 0.73\n",
      "recall    0.691\n"
     ]
    }
   ],
   "source": [
    "print \"accuracy  {:.3}\".format(accuracy_score(ytest, ypred3))\n",
    "print \"precision {:.3}\".format(precision_score(ytest, ypred3))\n",
    "print \"recall    {:.3}\".format(recall_score(ytest, ypred3))"
   ]
  },
  {
   "cell_type": "markdown",
   "metadata": {},
   "source": [
    "For our data set\n",
    "\n",
    "    FP = Predicted to churn, doesn't churn\n",
    "\n",
    "    FN = Predicted to NOT churn, actually churns"
   ]
  },
  {
   "cell_type": "markdown",
   "metadata": {},
   "source": [
    "\n",
    "    Precison = TP / (TP + FP)\n",
    "             = TP / (predicted yes)\n",
    "\n",
    "    Recall = TP / (TP + FN) \n",
    "           = TP / (actual yes)"
   ]
  },
  {
   "cell_type": "markdown",
   "metadata": {},
   "source": [
    "Remember -- we are interested in a fairly high rate of correct detection of the minority class (churn) and we are wiling to allow for a small error rate in the majority class (don't churn)"
   ]
  },
  {
   "cell_type": "markdown",
   "metadata": {},
   "source": [
    "In other words, we are willing to classify non-churners as churners in order to catch as many true churners as possible. In order to do this, we need to minimize False Negatives (FN). Which in turn means we need to prioritze recall over precision. "
   ]
  },
  {
   "cell_type": "markdown",
   "metadata": {},
   "source": [
    "Looking at the test results, we see that Gradient Boosting and Random Forest have the highest recall. Also, Gradient Boosting has the highest precision, so we will choose GB to predict churn and to produce our profit curve.  "
   ]
  },
  {
   "cell_type": "markdown",
   "metadata": {},
   "source": [
    "#Profit Curve!"
   ]
  },
  {
   "cell_type": "markdown",
   "metadata": {},
   "source": [
    "In order to apply our findings of predictive probabilities, we will create a profit curve. The first step to creating a profit curve is to construct a cost benefit matrix."
   ]
  },
  {
   "cell_type": "markdown",
   "metadata": {},
   "source": [
    "                    Features that are most predictive of Churn\n",
    "\n",
    "                                    Intl Calls\n",
    "                                    Day Mins"
   ]
  },
  {
   "cell_type": "markdown",
   "metadata": {},
   "source": [
    "Let's say that we want to incentivize users that are at risk of churning to stay with a 5 dollar coupon good towards the purchase of 100 dollars worth of International Call minutes and Day time minutes. Remember that International Calls (Intl Calls) and Day time minutes (Day Mins) were ranked as the two most important features that predict churn by the Random Forest classifier. Also let's say that the cost of mailing the coupon is  $5. "
   ]
  },
  {
   "cell_type": "markdown",
   "metadata": {},
   "source": [
    "Case 1: If users are predicted to stay, do not mail coupon.\n",
    "\n",
    "Case2:  If users are predicted to leave, then mail coupon and consider 2 sub-cases.\n",
    "\n",
    "    Sub-case1: User buys, then the business makes a $90 profit and retains a user.\n",
    "\n",
    "    Sub-case2: user doesn't buy, then the business loses $5 and a user. \n",
    "   "
   ]
  },
  {
   "cell_type": "markdown",
   "metadata": {},
   "source": [
    "                      \n",
    "                                     will buy  won't buy\n",
    "                             leave   | $90    | -$5   |\n",
    "                             stay    | $0     |  $0   |\n",
    "                         \n",
    "Rewriting this in a confusion matrix:\n",
    "\n",
    "                                         Actual\n",
    "                                     No churn  churn\n",
    "            Prediction   No churn    |  $0    |  $0  |\n",
    "                            churn    |  -$5   |  $90 |                        \n",
    "                         \n",
    "                         \n",
    "                        confusion matrix has sklearn orientation:\n",
    "                                     | TN | FP |\n",
    "                                     | FN | TP |                         "
   ]
  },
  {
   "cell_type": "code",
   "execution_count": 303,
   "metadata": {
    "collapsed": false
   },
   "outputs": [
    {
     "data": {
      "text/plain": [
       "array([[ 0,  0],\n",
       "       [-5, 90]])"
      ]
     },
     "execution_count": 303,
     "metadata": {},
     "output_type": "execute_result"
    }
   ],
   "source": [
    "# cost benefit of mailing $5 coupon (good towards a $100 purchase) at a cost of $5 mailing fee\n",
    "cb = np.array([[0,0],[-5,90]])\n",
    "cb"
   ]
  },
  {
   "cell_type": "code",
   "execution_count": 158,
   "metadata": {
    "collapsed": true
   },
   "outputs": [],
   "source": [
    "def confusion_rates(cm):\n",
    "    '''\n",
    "    INPUT:  confusion_matrix 2-by-2 array must have sklearn orientation:\n",
    "            | TN | FP |\n",
    "            | FN | TP |\n",
    "    OUTPUT: confusion_rates 2-by-2 array will have orientation:\n",
    "            |TPR | FPR|\n",
    "            |FNR | TNR|\n",
    "    '''\n",
    "    # TPR = TP / ( TP + FN )\n",
    "    TPR = cm[1][1] / ( cm[1][1] + cm[1][0] )\n",
    "    # FPR = FP / ( FP + TN ) \n",
    "    FPR = cm[0][1] / ( cm[0][1] + cm[0][0])\n",
    "    # FNR = FN /  (FN + TP)\n",
    "    FNR = cm[1][0] / ( cm[1][0] + cm[1][1])\n",
    "    # TNR = TN / (TN + FP) \n",
    "    TNR = cm[0][0] / ( cm[0][0] + cm[0][1])\n",
    "    \n",
    "    return np.array([[TPR, FPR],[FNR, TNR]])"
   ]
  },
  {
   "cell_type": "code",
   "execution_count": 159,
   "metadata": {
    "collapsed": true
   },
   "outputs": [],
   "source": [
    "def profit(cb,cr, p_true, p_false):\n",
    "    '''\n",
    "    INPUT:  confusion_matrix 2-by-2 array must have sklearn orientation:\n",
    "            | TN | FP |\n",
    "            | FN | TP |\n",
    "            confusion_rates 2-by-2 array will have orientation:\n",
    "            |TPR | FPR|\n",
    "            |FNR | TNR|\n",
    "            p_true: prior probability of true classification (float)\n",
    "            p_false: prior probability of false classification (float)\n",
    "    OUTPUT: Profit values 1-dim array\n",
    "    '''\n",
    "    # cost/benefit values\n",
    "    TP = cb[1][1]\n",
    "    FP = cb[0][1]\n",
    "    FN = cb[1][0]\n",
    "    TN = cb[0][0]\n",
    "    # rates\n",
    "    TPR = cr[0][0]\n",
    "    FPR = cr[0][1]\n",
    "    FNR = cr[1][0]\n",
    "    TNR = cr[1][1]\n",
    "\n",
    "    return  p_true * ( TP*TPR + FN*FNR ) + p_false * ( FP*FPR + TN*TNR )    "
   ]
  },
  {
   "cell_type": "code",
   "execution_count": 202,
   "metadata": {
    "collapsed": true
   },
   "outputs": [],
   "source": [
    "def get_sorted_probs(model,Xtrain,Xtest,ytrain,ytest):\n",
    "    # Build the model on the training set\n",
    "    model.fit(Xtrain,ytrain)\n",
    "    # Get the predict probabilities for the test set\n",
    "    pred_prob = model.predict_proba(Xtest)\n",
    "    # seperate prob true and prob false\n",
    "    P_false_churn = pred_prob.T[0] # no churn\n",
    "    P_true_churn  = pred_prob.T[1] # yes churn\n",
    "    # Sort probs indices\n",
    "    false_sort = np.argsort(P_false_churn)\n",
    "    true_sort = np.argsort(P_true_churn)\n",
    "    # Sort probs for looping through threshold\n",
    "    P_false_churn_sort = P_false_churn[false_sort]\n",
    "    P_true_churn_sort = P_true_churn[true_sort]\n",
    "    return P_false_churn_sort, P_false_churn_sort"
   ]
  },
  {
   "cell_type": "code",
   "execution_count": 203,
   "metadata": {
    "collapsed": true
   },
   "outputs": [],
   "source": [
    "def predict_churn_alphas(P_false_sorted):\n",
    "    # loop through threshold values\n",
    "    # predict churn/no churn based on if prob is above or below threshold\n",
    "    pred_churn_alphas = []\n",
    "    alphas = []\n",
    "    for alpha in P_false_sorted: # no churn\n",
    "        pred_churn_alpha = []\n",
    "        alphas.append(alpha)\n",
    "        for prob in P_false_sorted:\n",
    "            if prob >= alpha:\n",
    "                pred_churn_alpha.append(True) # yes churn\n",
    "            else:\n",
    "                pred_churn_alpha.append(False) # no churn\n",
    "        pred_churn_alphas.append(pred_churn_alpha) # list of probs for each alpha\n",
    "    return pred_churn_alphas,alphas"
   ]
  },
  {
   "cell_type": "code",
   "execution_count": 207,
   "metadata": {
    "collapsed": true
   },
   "outputs": [],
   "source": [
    "def profit_curve(Xtrain,Xtest,ytrain, ytest,CB,*models):\n",
    "    for model in models:\n",
    "        \n",
    "        P_false_sorted, P_true_sorted = get_sorted_probs(model,Xtrain,Xtest,ytrain,ytest)\n",
    "    \n",
    "        pred_churn_alphas, alpha_lst = predict_churn_alphas(P_false_sorted)\n",
    "        # calculate confusion matrix for every alpha\n",
    "        profit_values = []\n",
    "        percent_pos_pop = []\n",
    "        \n",
    "        for pred, p_true,p_false in zip(pred_churn_alphas,P_true_sorted,P_false_sorted):\n",
    "            # calcualte confusion matrix for every alpha\n",
    "            cm = confusion_matrix(ytest,pred)\n",
    "            \n",
    "            # calculate confusion rates for every alpha\n",
    "            cr = confusion_rates(cm)\n",
    "\n",
    "            # calculate percent of Positive Prediction population\n",
    "            percent_pos_pop.append((cm[0][0] + cm[1][1])\\\n",
    "                                   / (cm[0][0]+cm[0][1]+cm[1][0]+cm[1][1])  * 100)\n",
    "\n",
    "   \n",
    "            # calculate profit for every alpha\n",
    "            profit_values.append(profit(CB, cr,p_true,p_false))\n",
    "        \n",
    "        \n",
    "        # plot profit curve\n",
    "        plt.plot(percent_pos_pop,profit_values)\n",
    "        plt.title(\"Proft Curve: \"+ model.__class__.__name__)\n",
    "        plt.xlabel(\"% of positive population\")\n",
    "        plt.ylabel(\"Profit\")\n",
    "        plt.show()\n",
    "                         "
   ]
  },
  {
   "cell_type": "code",
   "execution_count": 304,
   "metadata": {
    "collapsed": false
   },
   "outputs": [
    {
     "data": {
      "image/png": "[encoded data removed]",
      "text/plain": [
       "<matplotlib.figure.Figure at 0x10a239890>"
      ]
     },
     "metadata": {},
     "output_type": "display_data"
    }
   ],
   "source": [
    "profit_curve(Xtrain2,Xtest2,ytrain2,ytest2,cb, gb)"
   ]
  },
  {
   "cell_type": "markdown",
   "metadata": {},
   "source": [
    "###Results\n",
    "\n",
    "First of all, the profit curve is telling us that the company can expect maximum profits from mailing $5 coupons if they mail those coupons to about 25% of the at risk for churn users. \n",
    "\n",
    "The earlier results from the *Probability of Churn vs Actual Churn* plots indicated that GB's probabilities are the most reliable. Therefore, we will mail a couple to 25% of users with the highest probability of churn, using the probabilites that GB gives us. "
   ]
  }
 ],
 "metadata": {
  "kernelspec": {
   "display_name": "Python 2",
   "language": "python",
   "name": "python2"
  },
  "language_info": {
   "codemirror_mode": {
    "name": "ipython",
    "version": 2
   },
   "file_extension": ".py",
   "mimetype": "text/x-python",
   "name": "python",
   "nbconvert_exporter": "python",
   "pygments_lexer": "ipython2",
   "version": "2.7.11"
  }
 },
 "nbformat": 4,
 "nbformat_minor": 0
}
