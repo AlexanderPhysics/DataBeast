{
 "cells": [
  {
   "cell_type": "markdown",
   "metadata": {},
   "source": [
    "\n",
    "\n",
    "\n",
    "![](http://aerofarms.com/wp-content/uploads/2015/04/NYTimes-banner.jpg)\n",
    "\n",
    "\n",
    "\n",
    "# Content-Based Recommender for NYT Articles\n",
    "## Introduction \n",
    "\n",
    "\n",
    "In this notebook, I create a content based recommender for New York Times articles. This recommender is an example of a very simple data product. \n",
    "\n",
    "We'll be recommending new articles that a user should read based on the article that they are currently reading."
   ]
  },
  {
   "cell_type": "code",
   "execution_count": 3,
   "metadata": {
    "collapsed": false
   },
   "outputs": [],
   "source": [
    "# import relavent packages \n",
    "import numpy as np\n",
    "import pandas as pd\n",
    "import pickle\n",
    "from sklearn.utils import shuffle\n",
    "from sklearn.metrics.pairwise import cosine_similarity\n",
    "from sklearn.feature_extraction.text import TfidfVectorizer\n",
    "from collections import Counter"
   ]
  },
  {
   "cell_type": "code",
   "execution_count": 4,
   "metadata": {
    "collapsed": false
   },
   "outputs": [],
   "source": [
    "# import data\n",
    "data_path = \"NYT-articles.pkl\"\n",
    "df = pd.read_pickle(data_path)"
   ]
  },
  {
   "cell_type": "markdown",
   "metadata": {},
   "source": [
    "----\n",
    "\n",
    "### Inspect the data"
   ]
  },
  {
   "cell_type": "code",
   "execution_count": 5,
   "metadata": {
    "collapsed": false
   },
   "outputs": [
    {
     "data": {
      "text/plain": [
       "(18356, 24005)"
      ]
     },
     "execution_count": 5,
     "metadata": {},
     "output_type": "execute_result"
    }
   ],
   "source": [
    "len(df.body.unique()),  len(df.body)"
   ]
  },
  {
   "cell_type": "code",
   "execution_count": 6,
   "metadata": {
    "collapsed": false
   },
   "outputs": [
    {
     "data": {
      "text/html": [
       "<div>\n",
       "<style scoped>\n",
       "    .dataframe tbody tr th:only-of-type {\n",
       "        vertical-align: middle;\n",
       "    }\n",
       "\n",
       "    .dataframe tbody tr th {\n",
       "        vertical-align: top;\n",
       "    }\n",
       "\n",
       "    .dataframe thead th {\n",
       "        text-align: right;\n",
       "    }\n",
       "</style>\n",
       "<table border=\"1\" class=\"dataframe\">\n",
       "  <thead>\n",
       "    <tr style=\"text-align: right;\">\n",
       "      <th></th>\n",
       "      <th>_id</th>\n",
       "      <th>abstract</th>\n",
       "      <th>blog</th>\n",
       "      <th>body</th>\n",
       "      <th>byline</th>\n",
       "      <th>document_type</th>\n",
       "      <th>headline</th>\n",
       "      <th>keywords</th>\n",
       "      <th>lead_paragraph</th>\n",
       "      <th>multimedia</th>\n",
       "      <th>...</th>\n",
       "      <th>print_page</th>\n",
       "      <th>pub_date</th>\n",
       "      <th>section_name</th>\n",
       "      <th>slideshow_credits</th>\n",
       "      <th>snippet</th>\n",
       "      <th>source</th>\n",
       "      <th>subsection_name</th>\n",
       "      <th>type_of_material</th>\n",
       "      <th>web_url</th>\n",
       "      <th>word_count</th>\n",
       "    </tr>\n",
       "  </thead>\n",
       "  <tbody>\n",
       "    <tr>\n",
       "      <th>0</th>\n",
       "      <td>580ae247253f0a1d0316f71e</td>\n",
       "      <td>None</td>\n",
       "      <td>[]</td>\n",
       "      <td>TOKYO —  State-backed Japan Bank for Internati...</td>\n",
       "      <td>{'person': [], 'original': 'By REUTERS', 'orga...</td>\n",
       "      <td>article</td>\n",
       "      <td>{'main': 'Japan to Lend to Sanctioned Russian ...</td>\n",
       "      <td>[]</td>\n",
       "      <td>State-backed Japan Bank for International Coop...</td>\n",
       "      <td>[]</td>\n",
       "      <td>...</td>\n",
       "      <td>None</td>\n",
       "      <td>2016-10-21T23:51:28Z</td>\n",
       "      <td>Business Day</td>\n",
       "      <td>None</td>\n",
       "      <td>State-backed Japan Bank for International Coop...</td>\n",
       "      <td>Reuters</td>\n",
       "      <td>None</td>\n",
       "      <td>News</td>\n",
       "      <td>http://www.nytimes.com/reuters/2016/10/21/busi...</td>\n",
       "      <td>None</td>\n",
       "    </tr>\n",
       "    <tr>\n",
       "      <th>1</th>\n",
       "      <td>580adf45253f0a1d0316f71d</td>\n",
       "      <td>None</td>\n",
       "      <td>[]</td>\n",
       "      <td>INTERNATIONAL\\nBecause of an editing error, an...</td>\n",
       "      <td>[]</td>\n",
       "      <td>article</td>\n",
       "      <td>{'main': 'Corrections: October 22, 2016', 'pri...</td>\n",
       "      <td>[]</td>\n",
       "      <td>Corrections appearing in print on Saturday, Oc...</td>\n",
       "      <td>[]</td>\n",
       "      <td>...</td>\n",
       "      <td>None</td>\n",
       "      <td>2016-10-21T23:38:36Z</td>\n",
       "      <td>Corrections</td>\n",
       "      <td>None</td>\n",
       "      <td>Corrections appearing in print on Saturday, Oc...</td>\n",
       "      <td>The New York Times</td>\n",
       "      <td>None</td>\n",
       "      <td>News</td>\n",
       "      <td>http://www.nytimes.com/2016/10/22/pageoneplus/...</td>\n",
       "      <td>None</td>\n",
       "    </tr>\n",
       "  </tbody>\n",
       "</table>\n",
       "<p>2 rows × 21 columns</p>\n",
       "</div>"
      ],
      "text/plain": [
       "                        _id abstract blog  \\\n",
       "0  580ae247253f0a1d0316f71e     None   []   \n",
       "1  580adf45253f0a1d0316f71d     None   []   \n",
       "\n",
       "                                                body  \\\n",
       "0  TOKYO —  State-backed Japan Bank for Internati...   \n",
       "1  INTERNATIONAL\\nBecause of an editing error, an...   \n",
       "\n",
       "                                              byline document_type  \\\n",
       "0  {'person': [], 'original': 'By REUTERS', 'orga...       article   \n",
       "1                                                 []       article   \n",
       "\n",
       "                                            headline keywords  \\\n",
       "0  {'main': 'Japan to Lend to Sanctioned Russian ...       []   \n",
       "1  {'main': 'Corrections: October 22, 2016', 'pri...       []   \n",
       "\n",
       "                                      lead_paragraph multimedia    ...      \\\n",
       "0  State-backed Japan Bank for International Coop...         []    ...       \n",
       "1  Corrections appearing in print on Saturday, Oc...         []    ...       \n",
       "\n",
       "  print_page              pub_date  section_name slideshow_credits  \\\n",
       "0       None  2016-10-21T23:51:28Z  Business Day              None   \n",
       "1       None  2016-10-21T23:38:36Z   Corrections              None   \n",
       "\n",
       "                                             snippet              source  \\\n",
       "0  State-backed Japan Bank for International Coop...             Reuters   \n",
       "1  Corrections appearing in print on Saturday, Oc...  The New York Times   \n",
       "\n",
       "  subsection_name type_of_material  \\\n",
       "0            None             News   \n",
       "1            None             News   \n",
       "\n",
       "                                             web_url word_count  \n",
       "0  http://www.nytimes.com/reuters/2016/10/21/busi...       None  \n",
       "1  http://www.nytimes.com/2016/10/22/pageoneplus/...       None  \n",
       "\n",
       "[2 rows x 21 columns]"
      ]
     },
     "execution_count": 6,
     "metadata": {},
     "output_type": "execute_result"
    }
   ],
   "source": [
    "df.head(2)"
   ]
  },
  {
   "cell_type": "code",
   "execution_count": 7,
   "metadata": {
    "collapsed": false
   },
   "outputs": [
    {
     "data": {
      "text/plain": [
       "'TOKYO —  State-backed Japan Bank for International Cooperation [JBIC.UL] will lend about 4 billion yen ($39 million) to Russia\\'s Sberbank, which is subject to Western sanctions, in the hope of advancing talks on a territorial dispute, the Nikkei business daily said on Saturday.\\nSberbank, Russia\\'s biggest bank, will use the yen-denominated loan to help a company operating the port of Vostochny in the Russian Far East to buy coal-handling equipment.\\nJBIC will issue the loan by the end of the year in a bid to encourage progress on a dispute over a string of Russia-controlled Pacific islands, called the Northern Territories in Japan and Southern Kuriles in Russia, at a December summit.\\n\"JBIC\\'s move to provide financing to Russia comes because  the Japanese government aims to make progress in the negotiations,\" the Nikkei said.\\nJBIC was not available for comment.\\nJapanese foreign ministry and the prime minister\\'s office were not available for comment.\\nThe United States and the European Union have effectively banned lending to certain Russian companies and financial institutions, including Sberbank, under sanctions imposed after Russia\\'s 2014 annexation of Ukraine\\'s Crimea region.\\nJapanese officials have previously said any economic cooperation with Russia would not run afoul of sanctions.\\nJapan also bars underwriting of bonds issued by Sberbank and other institutions. Though yen-denominated loans are not covered by the sanctions, Japanese banks are leery of lending in Russia amid concern over the U.S. reaction, the Nikkei said.\\nThe loan is part of an eight-point economic cooperation plan presented to Russian President Vladimir Putin by Japanese Prime Minister Shinzo Abe in May as part of a \"new approach\" to the decade-long dispute.\\nJBIC has started offering ruble-denominated financing this month. To shore up the lender\\'s capital, the Ministry of Finance earmarked 109 billion yen in investment in JBIC in the recently approved second supplementary budget for fiscal 2016, the Nikkei said.\\nAbe is betting that close ties to Putin, as well as Russia\\'s economic woes and regional concerns about China\\'s rise will help him make progress in a decades-old territorial row when they meet in December.\\nThe dispute over the four islands north of Japan\\'s Hokkaido has prevented Tokyo and Moscow signing a peace treaty formally ending the war they fought with each other in World War Two.\\n(Reporting by Yuka Obayashi; Editing by Robert Birsel)'"
      ]
     },
     "execution_count": 7,
     "metadata": {},
     "output_type": "execute_result"
    }
   ],
   "source": [
    "df.body[0]"
   ]
  },
  {
   "cell_type": "code",
   "execution_count": 8,
   "metadata": {
    "collapsed": false
   },
   "outputs": [
    {
     "data": {
      "text/plain": [
       "'http://www.nytimes.com/reuters/2016/10/21/business/21reuters-japan-russia-loans.html'"
      ]
     },
     "execution_count": 8,
     "metadata": {},
     "output_type": "execute_result"
    }
   ],
   "source": [
    "df.web_url[0]"
   ]
  },
  {
   "cell_type": "markdown",
   "metadata": {},
   "source": [
    "----\n",
    "\n",
    "### Identify the time range in which these articles were published"
   ]
  },
  {
   "cell_type": "code",
   "execution_count": 9,
   "metadata": {
    "collapsed": false
   },
   "outputs": [
    {
     "data": {
      "text/plain": [
       "('2016-10-05', '2016-11-27')"
      ]
     },
     "execution_count": 9,
     "metadata": {},
     "output_type": "execute_result"
    }
   ],
   "source": [
    "min(df.pub_date).split(\"T\")[0], max(df.pub_date).split(\"T\")[0]"
   ]
  },
  {
   "cell_type": "markdown",
   "metadata": {},
   "source": [
    "\n",
    "\n",
    "The US 2016 presidential election took place in this time range. "
   ]
  },
  {
   "cell_type": "markdown",
   "metadata": {},
   "source": [
    "---\n",
    "### The number of articles in each section\n",
    "\n"
   ]
  },
  {
   "cell_type": "code",
   "execution_count": 10,
   "metadata": {
    "collapsed": false
   },
   "outputs": [
    {
     "data": {
      "text/plain": [
       "Counter({'Business Day': 3615,\n",
       "         'Corrections': 35,\n",
       "         'U.S.': 6039,\n",
       "         'World': 5947,\n",
       "         'Opinion': 727,\n",
       "         'Sports': 3719,\n",
       "         'Crosswords & Games': 54,\n",
       "         'N.Y. / Region': 354,\n",
       "         'Today’s Paper': 34,\n",
       "         'Arts': 1037,\n",
       "         'Technology': 416,\n",
       "         'Briefing': 94,\n",
       "         'Real Estate': 90,\n",
       "         'Theater': 134,\n",
       "         'Science': 129,\n",
       "         'Your Money': 44,\n",
       "         'Fashion & Style': 348,\n",
       "         'Times Insider': 45,\n",
       "         'Food': 102,\n",
       "         'Movies': 157,\n",
       "         'Magazine': 76,\n",
       "         'T Magazine': 82,\n",
       "         'Style': 35,\n",
       "         'Books': 180,\n",
       "         'The Upshot': 66,\n",
       "         'Health': 56,\n",
       "         'Well': 92,\n",
       "         'Travel': 85,\n",
       "         'The Learning Network': 116,\n",
       "         'Automobiles': 13,\n",
       "         'Podcasts': 17,\n",
       "         'Job Market': 14,\n",
       "         'NYT Now': 9,\n",
       "         'Obituaries': 1,\n",
       "         'Public Editor': 8,\n",
       "         'Sunday Review': 3,\n",
       "         'Giving': 13,\n",
       "         'Education': 17,\n",
       "         'Universal': 2})"
      ]
     },
     "execution_count": 10,
     "metadata": {},
     "output_type": "execute_result"
    }
   ],
   "source": [
    "Counter(df.section_name)"
   ]
  },
  {
   "cell_type": "markdown",
   "metadata": {},
   "source": [
    "----\n",
    "##  Feature Engineering \n",
    "\n",
    "Split the data into a \"train\" and \"test\". As well as select a metric in which to measure the similarity between articles. Think of the \"train\" set as the corpus. Think of the \"test\" set as the NYT articles that users are currently reading. \n",
    "\n",
    "### Split the data"
   ]
  },
  {
   "cell_type": "code",
   "execution_count": 11,
   "metadata": {
    "collapsed": false
   },
   "outputs": [],
   "source": [
    "# move articles to an array\n",
    "articles = df.body.values\n",
    "\n",
    "# move article section names to an array\n",
    "sections = df.section_name.values\n",
    "\n",
    "# move article web_urls to an array\n",
    "web_url = df.web_url.values\n",
    "\n",
    "# shuffle these three arrays \n",
    "articles, sections, web_ur = shuffle(articles, sections, web_url, random_state=4)"
   ]
  },
  {
   "cell_type": "code",
   "execution_count": 12,
   "metadata": {
    "collapsed": false
   },
   "outputs": [],
   "source": [
    "# split the shuffled articles into two arrays\n",
    "n = 10\n",
    "\n",
    "# one will have all but the last 10 articles -- think of this as your training set/corpus \n",
    "X_train = articles[:-n]\n",
    "X_train_urls = web_url[:-n]\n",
    "X_train_sections = sections[:-n]\n",
    "\n",
    "# the other will have those last 10 articles -- think of this as your test set/corpus \n",
    "X_test = articles[-n:]\n",
    "X_test_urls = web_url[-n:]\n",
    "X_test_sections = sections[-n:]"
   ]
  },
  {
   "cell_type": "markdown",
   "metadata": {},
   "source": [
    "------\n",
    "\n",
    "### Choose a Text Vectorizer \n",
    "\n",
    "We have options of choosing several different Text Vectorizers such as Bag-of-Words, Tf-Idf, Word2Vec, and so on. \n",
    "Here is one reason why one might choose Tf-Idf: \n",
    "\n",
    "Unlike BoW, Tf-Idf identifies the importance of words not merely by text frequency, but also by the inverse document frequency. So, for example, if a word like \"Obama\" only appears a few times in an article (like the word \"he\" or \"a\" or \"the\" which don't convey much information) but appears in several different articles then it would be given a higher weight. Which makes senses because \"Obama\" isn't a stop word nor is it mention without good reason (i.e. it's highly relevant to the article's topic). "
   ]
  },
  {
   "cell_type": "code",
   "execution_count": 13,
   "metadata": {
    "collapsed": true
   },
   "outputs": [],
   "source": [
    "# instantiate your vectorizor \n",
    "tfidf_vectorizer = TfidfVectorizer(stop_words='english')"
   ]
  },
  {
   "cell_type": "code",
   "execution_count": 14,
   "metadata": {
    "collapsed": false
   },
   "outputs": [
    {
     "data": {
      "text/plain": [
       "TfidfVectorizer(analyzer='word', binary=False, decode_error='strict',\n",
       "        dtype=<class 'numpy.int64'>, encoding='utf-8', input='content',\n",
       "        lowercase=True, max_df=1.0, max_features=None, min_df=1,\n",
       "        ngram_range=(1, 1), norm='l2', preprocessor=None, smooth_idf=True,\n",
       "        stop_words='english', strip_accents=None, sublinear_tf=False,\n",
       "        token_pattern='(?u)\\\\b\\\\w\\\\w+\\\\b', tokenizer=None, use_idf=True,\n",
       "        vocabulary=None)"
      ]
     },
     "execution_count": 14,
     "metadata": {},
     "output_type": "execute_result"
    }
   ],
   "source": [
    "# fit the vectorizer \n",
    "tfidf_vectorizer.fit(X_train)"
   ]
  },
  {
   "cell_type": "code",
   "execution_count": 15,
   "metadata": {
    "collapsed": false
   },
   "outputs": [],
   "source": [
    "# transform both article splits \n",
    "X_train_tfidf = tfidf_vectorizer.transform(X_train)\n",
    "X_test_tfidf = tfidf_vectorizer.transform(X_test)"
   ]
  },
  {
   "cell_type": "markdown",
   "metadata": {},
   "source": [
    "----\n",
    "### Similarity Metric"
   ]
  },
  {
   "cell_type": "markdown",
   "metadata": {},
   "source": [
    "We have several different options when selecting a similarity metric such as Jacard and Cosine to name a couple. \n",
    "\n",
    "Jacard works by comparing two different sets and selecting the overlapping elements. Jacard similarity doesn't make sense as an option considering that we've choosen to use Tf-Idf as a vectorizer; it might make more sense to use Jacard had we selected the BoWs vectorization. \n",
    "\n",
    "The reason why we should choose Cosine as our similarity metric is because it make sense as an option having choosen Tf-Idf as our vectorizer. Since Tf-Idf provides weights to each token in each article, we can then take the dot product between the weights from tokens of different articles. If article A has a high weight for tokens like \"Obama\" and \"White House\" and so does article B, then their product will result in a larger similarity score had it been the case that article B had low weights for those same tokens (for simplicity assume that all other token wegihts are helf consent). "
   ]
  },
  {
   "cell_type": "markdown",
   "metadata": {},
   "source": [
    "-----\n",
    "## Builidng a Content Based Recommender\n",
    "\n",
    "This section is where the magic happends. Here you will build a function that outputs the top n articles to recommend to your user based on the similarity scores between the article they're currently reading and all other articles in the corpus (i.e. \"train\" data)."
   ]
  },
  {
   "cell_type": "code",
   "execution_count": 16,
   "metadata": {
    "collapsed": false
   },
   "outputs": [],
   "source": [
    "def get_top_n_rec_articles(X_train_tfidf, X_train, test_article, X_train_sections, X_train_urls, n = 5):\n",
    "    '''This function calculates similarity scores bewteen a document and a corpus\n",
    "    \n",
    "       INPUT: vectorized document corpus, 2D array\n",
    "              text document corpus, 1D array\n",
    "              user article, 1D array\n",
    "              article section names, 1D array\n",
    "              article URLs, 1D array\n",
    "              number of articles to recommend, int\n",
    "              \n",
    "       OUTPUT: top n recommendations, 1D array\n",
    "               top n corresponding section names, 1D array\n",
    "               top n corresponding URLs, 1D array\n",
    "               similarity scores bewteen user article and entire corpus, 1D array\n",
    "              '''\n",
    "    # calculate similarity between the corpus (i.e. the \"test\" data) and the user's article\n",
    "    similarity_scores = X_train_tfidf.dot(test_article.toarray().T)\n",
    "\n",
    "    # get sorted similairty score indicies \n",
    "    sorted_indicies = np.argsort(similarity_scores, axis = 0)[::-1]\n",
    "\n",
    "    # get sorted similarity socres\n",
    "    sorted_sim_scores = similarity_scores[sorted_indicies]\n",
    "\n",
    "    # get top n most similar documents\n",
    "    top_n_recs = X_train[sorted_indicies[:n]]\n",
    "\n",
    "    # get top n corresponding document section names\n",
    "    rec_sections = X_train_sections[sorted_indicies[:n]]\n",
    "\n",
    "    # get top n corresponding urls\n",
    "    rec_urls = X_train_urls[sorted_indicies[:n]]\n",
    "    \n",
    "    # return recommendations and corresponding article meta-data\n",
    "    return top_n_recs, rec_sections, rec_urls, sorted_sim_scores"
   ]
  },
  {
   "cell_type": "code",
   "execution_count": 17,
   "metadata": {
    "collapsed": true
   },
   "outputs": [],
   "source": [
    "# pick an article from the \"test\" set\n",
    "# treat this as the article that the user is currently reading\n",
    "k = 0\n",
    "test_article = X_test_tfidf[k]"
   ]
  },
  {
   "cell_type": "code",
   "execution_count": 18,
   "metadata": {
    "collapsed": true
   },
   "outputs": [],
   "source": [
    "# return the top n most similar articles as recommendations \n",
    "top_n_recs, rec_sections, rec_urls, sorted_sim_scores = \\\n",
    "get_top_n_rec_articles(X_train_tfidf, X_train,  test_article,X_train_sections, X_train_urls, n = 5 )"
   ]
  },
  {
   "cell_type": "markdown",
   "metadata": {},
   "source": [
    "----\n",
    "## Validate the results \n",
    "\n",
    "Now that you have recommended articles for the user to read (based on what they are currently reading) check to see if the results make sense. \n",
    "\n",
    "Compare the user's article and corresponding section name with the recommended articles and corresponding section names. \n",
    "\n",
    "Also take a look at the similarity scores. "
   ]
  },
  {
   "cell_type": "code",
   "execution_count": 19,
   "metadata": {
    "collapsed": false
   },
   "outputs": [
    {
     "data": {
      "text/plain": [
       "array([[[0.56601716]],\n",
       "\n",
       "       [[0.49837752]],\n",
       "\n",
       "       [[0.4792004 ]],\n",
       "\n",
       "       [[0.46857784]],\n",
       "\n",
       "       [[0.46037552]]])"
      ]
     },
     "execution_count": 19,
     "metadata": {},
     "output_type": "execute_result"
    }
   ],
   "source": [
    "# similarity scores\n",
    "sorted_sim_scores[:5]"
   ]
  },
  {
   "cell_type": "code",
   "execution_count": 22,
   "metadata": {
    "collapsed": false
   },
   "outputs": [
    {
     "data": {
      "text/plain": [
       "'LOS ANGELES —  The White House says President Barack Obama has told the Defense Department that it must ensure service members instructed to repay enlistment bonuses are being treated fairly and expeditiously.\\nWhite House spokesman Josh Earnest says the president only recently become aware of Pentagon demands that some soldiers repay their enlistment bonuses after audits revealed overpayments by the California National Guard.  If soldiers refuse, they could face interest charges, wage garnishments and tax liens.\\nEarnest says he did not believe the president was prepared to support a blanket waiver of those repayments, but he said \"we\\'re not going to nickel and dime\" service members when they get back from serving the country. He says they should not be held responsible for fraud perpetrated by others.'"
      ]
     },
     "execution_count": 22,
     "metadata": {},
     "output_type": "execute_result"
    }
   ],
   "source": [
    "# user's article\n",
    "X_test[k]"
   ]
  },
  {
   "cell_type": "code",
   "execution_count": 20,
   "metadata": {
    "collapsed": false
   },
   "outputs": [
    {
     "data": {
      "text/plain": [
       "'U.S.'"
      ]
     },
     "execution_count": 20,
     "metadata": {},
     "output_type": "execute_result"
    }
   ],
   "source": [
    "# user's article's section name\n",
    "X_test_sections[k]"
   ]
  },
  {
   "cell_type": "code",
   "execution_count": 21,
   "metadata": {
    "collapsed": false
   },
   "outputs": [
    {
     "data": {
      "text/plain": [
       "array([['World'],\n",
       "       ['U.S.'],\n",
       "       ['U.S.'],\n",
       "       ['World'],\n",
       "       ['U.S.']], dtype=object)"
      ]
     },
     "execution_count": 21,
     "metadata": {},
     "output_type": "execute_result"
    }
   ],
   "source": [
    "# corresponding section names for top n recs \n",
    "rec_sections"
   ]
  },
  {
   "cell_type": "code",
   "execution_count": 22,
   "metadata": {
    "collapsed": false
   },
   "outputs": [
    {
     "data": {
      "text/plain": [
       "array([['WASHINGTON —  House Speaker Paul Ryan on Tuesday called for the Pentagon to immediately suspend efforts to recover enlistment bonuses paid to thousands of soldiers in California, even as the Pentagon said late Tuesday the number of soldiers affected was smaller than first believed.\\n\"When those Californians answered the call to duty\" to serve in Iraq and Afghanistan, \"they earned more from us than bureaucratic bungling and false promises,\" Ryan said. He urged the Pentagon to suspend collection efforts until \"Congress has time ... to protect service members from lifelong liability for DOD\\'s mistakes.\"\\nRyan\\'s comments came as the White House said President Barack Obama has warned the Defense Department not to \"nickel and dime\" service members who were victims of fraud by overzealous recruiters.\\nWhite House spokesman Josh Earnest said Tuesday he did not believe Obama would support a blanket waiver of repayments, but said California National Guard members should not be held responsible for \"unethical conduct or fraud perpetrated by someone else.\"\\nDefense Secretary Ash Carter, meanwhile, promised to resolve a festering conflict that has lingered for a decade.\\nThe Los Angeles Times reported over the weekend that the Pentagon has demanded that some soldiers repay their enlistment bonuses after audits revealed overpayments by the California National Guard. Recruiters under pressure to fill ranks and hit enlistment goals at the height of the two wars improperly offered bonuses of $15,000 or more to soldiers who re-enlisted, the newspaper reported.\\nIf soldiers refuse to pay the bonus back, they could face interest charges, wage garnishments and tax liens.\\nThe Pentagon said late Tuesday that it instructed at most 6,500 California Guard soldiers to repay the enlistment bonuses. That number is lower than a widely reported figure that nearly 10,000 soldiers have been told to repay part or all of their bonuses.\\nDefense Department spokesman Maj. Jamie Davis said an audit more than five years in the making concluded last month that 1,100 soldiers improperly received bonuses for which they were ineligible. Another 5,400 soldiers had erroneous paperwork that could have made them ineligible.\\nThe California Guard said Tuesday it has collected about $22 million from fewer than 2,000 soldiers who improperly received bonuses and student loan aid.\\nAsked about the matter at a news conference Tuesday in Paris, Carter said the issue is complex and is being handled by the deputy secretary of defense, Robert Work.\\n\"The first thing I want to say is that anybody who volunteers to serve in the armed forces of the United States deserves our gratitude and respect — period,\" Carter said. Officials are going to look into the repayment problem \"and resolve it,\" Carter added, but offered no details.\\nA defense authorization bill passed by the House would establish a statute of limitations on the military\\'s ability to recover future overpayments and scrutinize existing cases of service member debt. House and Senate negotiators are trying to finalize the defense bill and pass it during the post-election, lame-duck session.\\nRyan, R-Wis., called the bill an important step to establish a common standard for correcting accounting errors in the military.\\nMeanwhile, House and Senate oversight committees said they investigating the California Guard\\'s attempt to reclaim the re-enlistment bonuses.\\nThe House Oversight Committee and the Senate Committee on Homeland Security and Government Affairs asked the Guard to turn over documents and audits related to the decade-old payments.\\nThe National Guard has said the bonuses were wrongly paid but its effort to reclaim them from thousands of soldiers and veterans in California and across the country has caused public outcry, including widespread criticism from members of Congress.\\nHouse Oversight Chairman Jason Chaffetz of Utah and three other Republicans said in a letter that officials who mismanaged the bonus programs must be \"held accountable.\" The lawmakers said Guard officials must turn over relevant documents by Nov. 7.\\nSenate Government Affairs Chairman Ron Johnson of Wisconsin said it was \"simply unacceptable that the finest among us should be forced to pay — literally — for the mismanagement and errors perpetrated by the National Guard leadership.\"\\n\"Our soldiers deserve better and it\\'s up to the Department of Defense and Congress to fix this,\" said Deborah Hoffman, a spokeswoman for California Gov. Jerry Brown.\\nOther states may have been affected, but \"California is where the majority of this occurred,\" said National Guard Bureau spokeswoman Laura Ochoa.\\n___\\nAssociated Press writers Lolita C. Baldor in Paris, Alison Noon in Sacramento, California, and Kevin Freking in Los Angeles contributed to this story.\\n___'],\n",
       "       ['WASHINGTON —  The Latest on enlistment bonuses the Pentagon is ordering California National Guard soldiers to repay (all times local):\\n6 p.m.\\nThe Pentagon says it instructed at most 6,500 California National Guard soldiers to repay enlistment bonuses received a decade ago at the height of the wars in Iraq and Afghanistan.\\nDefense Department spokesman Maj. Jamie Davis says the number is lower than a widely reported figure that nearly 10,000 soldiers have been told to repay part or all of their bonuses. The number was first reported by The Los Angeles Times.\\nDavis says an audit more than five years in the making concluded last month that 1,100 soldiers improperly received bonuses for which they were ineligible. Another 5,400 soldiers had erroneous paperwork that could have made them ineligible.'],\n",
       "       ['SACRAMENTO, Calif. —  Nearly 10,000 California National Guard soldiers have been ordered to repay huge enlistment bonuses a decade after signing up to serve in Iraq and Afghanistan, a newspaper reported Saturday.\\nThe Pentagon demanded the money back after audits revealed overpayments by the California Guard under pressure to fill ranks and hit enlistment goals. If soldiers refuse, they could face interest charges, wage garnishments and tax liens, the Los Angeles Times (http://lat.ms/2ew9yQK ) said.\\nFaced with a shortage of troops at the height of the two wars, California Guard officials offered bonuses of $15,000 or more for soldiers to reenlist.\\nA federal investigation in 2010 found thousands of bonuses and student loan payments were improperly doled out to California Guard soldiers. About 9,700 current and retired soldiers received notices to repay some or all of their bonuses with more than $22 million recovered so far.\\nSoldiers said they feel betrayed at having to repay the money.\\n\"These bonuses were used to keep people in,\" said Christopher Van Meter, a 42-year-old former Army captain and Iraq veteran who was awarded a Purple Heart. \"People like me just got screwed.\"\\nVan Meter said he refinanced his home mortgage to repay $25,000 in reenlistment bonuses and $21,000 in student loan repayments that the military says was improperly given to him.\\nThe California Guard said it has to follow the law and collect the money.\\n\"At the end of the day, the soldiers ended up paying the largest price,\" Maj. Gen. Matthew Beevers, deputy commander of the California Guard told the Times. \"We\\'d be more than happy to absolve these people of their debts. We just can\\'t do it. We\\'d be breaking the law.\"\\nThe Pentagon agency that oversees state Guard groups has said that bonus overpayments occurred in every state, but more so in California, which has 17,000 soldiers.\\nCalifornia Guard officials said they are helping soldiers and veterans file appeals with agencies that can erase the debts. But soldiers said it\\'s a long process and there\\'s no guarantee they\\'ll win.\\nRetired Army major and Iraq veteran Robert D\\'Andrea said he was told to repay his $20,000 because auditors could not find a copy of the contract he says he signed.\\nD\\'Andrea appealed and is running out of options.\\n\"Everything takes months of work, and there is no way to get your day in court,\" he said. \"Some benefit of the doubt has to be given to the soldier.\"'],\n",
       "       ['WASHINGTON —  The Pentagon worked Wednesday to stave off a public relations nightmare, suspending efforts to force California National Guard troops who served in Iraq and Afghanistan to repay their enlistment bonuses that may have been improperly awarded.\\nDefense Secretary Ash Carter ordered the suspension in the wake of angry reaction from congressional Republicans and Democrats. They demanded he relieve the burden on Guard members following news reports that soldiers were asked to repay bonuses that in some cases totaled more than $25,000.\\nThe announcement does not end the reimbursement process, but postpones collection efforts while the Pentagon and Congress look for a long-term solution.\\nWhite House spokesman Josh Earnest said President Barack Obama was pleased with the decision, but said it was important for the Pentagon \"to follow through\" by finding a long-term solution. Obama had warned the Defense Department earlier this week not to \"nickel and dime\" service members who were victims of wrongdoing by overzealous recruiters.\\nIn a statement issued during a meeting of defense ministers in Brussels, Carter said efforts to collect reimbursement from Guard members should stop \"as soon as is practical.\" Carter said he has ordered the department to set up a streamlined process by Jan. 1 to help troops get relief from the repayment obligation, because the current program has moved too slowly.\\nActing Under Secretary of Defense for Personnel and Readiness Peter Levine told reporters Wednesday that the process of identifying and processing the California Guard members who might have to repay the money may take up to 10 days.\\n\"If we determine that recoupment was unjustified, there will be a process that allows the recovery of that and the reversal of that money,\" Levine said.\\nLevine said they are looking to set up \"a one-stop place\" for those affected to get a hearing and review, noting that the goal is to eliminate \"a bunch of sequential processes.\" The details of that process have yet to be determined, he said.\\nAmong about 14,000 California Guard members whose bonuses and other incentive payments were reviewed, about 3,000 of those are men and women have since left the National Guard, Levine said. They will be eligible for repayment as well, but it hasn\\'t been determined how those cases will be handled since they do not have current addresses or contact details for many of those individuals, he added.\\nSenate Armed Services Committee Chairman John McCain said the move by the Defense Department is \"a long-overdue first step,\" and he vowed to work with Senate colleagues \"to explore all options available to hold those responsible for this unacceptable situation accountable and to ensure this never happens again.\"\\nRep. Jeff Miller, chairman of the House Committee on Veterans\\' Affairs, called the measure \"a weak and ham-handed attempt to shift the focus away from the Obama administration\\'s shameful treatment of service members and veterans.\"\\n\"Carter seems to have no plan to make those who\\'ve already been forced to pay back their bonuses whole, and by focusing only on the California Guard, he is ignoring what media reports indicate could be a national problem,\" Miller said.\\nThe Los Angeles Times reported over the weekend that the Pentagon demanded that thousands of soldiers repay their enlistment bonuses after audits revealed overpayments by the California National Guard. Recruiters under pressure to fill ranks and hit enlistment goals at the height of the two wars improperly offered bonuses of $15,000 or more to soldiers who re-enlisted.\\nIf soldiers refuse to pay the bonus back, they could face interest charges, wage garnishments and tax liens.\\n\"While some soldiers knew or should have known they were ineligible for benefits they were claiming, many others did not,\" Carter said, adding that the new process will put \"as little burden as possible on any soldier who received an improper payment through no fault of his or her own. At the same time, it will respect our important obligation to the taxpayer.\"\\nBut the country\\'s largest combat veteran\\'s organization, said the measure \"doesn\\'t go deep enough.\" Brian Duffy, national commander of the Veterans of Foreign Wars of the United States and its Auxiliary, said the erroneous bonuses were \"the fault of a system, not of any recipient.\"\\nAs many as 6,500 California National Guard soldiers have been asked to repay the enlistment bonuses.\\n\"We deal with these problems all the time, but we deal with it in ones and twos, not in hundreds and thousands,\" said Gordon Trowbridge, deputy Pentagon press secretary. The Pentagon said it is investigating cases beyond California, but said those will likely add up to \"dozens.\"\\nHouse Speaker Paul Ryan, R-Wis., who had pressed the Pentagon to suspend the program, said Wednesday, \"I\\'m glad the Pentagon came to its senses.\"\\nHouse Majority Leader Kevin McCarthy, R-Calif., also welcomed the development, saying he spoke with Deputy Defense Secretary Robert Work Tuesday night and vowed to work with other members of Congress to provide a legislative solution so the repayment issue does not recur.\\nHouse Minority Leader Nancy Pelosi, D-Calif., welcomed the Pentagon announcement, but said lawmakers need to find a permanent solution.\\n\"The heroes who served our country in uniform deserve every bonus and benefit they received in good faith,\" she said. \"We all must work together to swiftly address this situation and monitor any additional issues that come up in California and other states.\"\\n___\\nBaldor reported from Brussels. Associated Press writer Vivian Salama in Washington contributed to this report.'],\n",
       "       ['SACRAMENTO, Calif. —  The Latest on enlistment bonuses the Pentagon is ordering California National Guard soldiers to repay (all times local):\\n3:50 p.m.\\nMembers of Congress from California and national veterans\\' leaders are calling for federal action after thousands of soldiers were ordered by the Pentagon to repay enlistment bonuses.\\nThe Guard offered bonuses of $15,000 or more and student loan aid for people who enlisted at the height of the wars in Iraq and Afghanistan.\\nDemocratic Sens. Dianne Feinstein and Barbara Boxer and House Minority Leader Nancy Pelosi as well as House Majority Leader Kevin McCarthy, a Bakersfield Republican, are among those expressing outrage.\\nMcCarthy says the House will investigate the reports. His spokesman, Matt Sparks, declined to say what that would entail.\\nMaj. Gen. Matthew Beevers says the California National Guard is working with members of Congress to reintroduce legislation that would clear the debts of soldiers wrongly given the bonuses.\\n___\\n12:45 p.m.\\nThe California National Guard says it welcomes attention to the predicament of nearly 10,000 soldiers ordered to repay enlistment bonuses a decade after signing up to serve in Iraq and Afghanistan.\\nSpokesman Capt. William Martin said Monday the Guard has been trying to inform those people that an appeals process is available.\\nIt could relieve soldiers of having to return bonuses of $15,000 or more improperly provided in the 2000s.\\nMartin says \"bad actors\" working for the Guard misled soldiers with outsized bonuses.\\nHe says they\\'ve been replaced with leaders trying to resolve problems.\\nRepublicans and Democrats in Congress and in the California Legislature are decrying the policy and calling for federal action.\\nSoldiers told The Los Angeles Times they feel betrayed by having to repay the money.']],\n",
       "      dtype=object)"
      ]
     },
     "execution_count": 22,
     "metadata": {},
     "output_type": "execute_result"
    }
   ],
   "source": [
    "# top n article recs\n",
    "top_n_recs"
   ]
  },
  {
   "cell_type": "code",
   "execution_count": 23,
   "metadata": {
    "collapsed": false
   },
   "outputs": [
    {
     "data": {
      "text/plain": [
       "array([['http://www.nytimes.com/2016/10/19/dining/wine-school-assignment-montsant.html'],\n",
       "       ['http://www.nytimes.com/aponline/2016/10/26/us/ap-us-oil-pipeline-news-guide.html'],\n",
       "       ['http://www.nytimes.com/reuters/2016/11/01/business/01reuters-britain-boe-may-welcome.html'],\n",
       "       ['http://www.nytimes.com/reuters/2016/11/01/world/europe/01reuters-hongkong-china.html'],\n",
       "       ['http://www.nytimes.com/reuters/2016/11/02/us/02reuters-colorado-bomb.html']],\n",
       "      dtype=object)"
      ]
     },
     "execution_count": 23,
     "metadata": {},
     "output_type": "execute_result"
    }
   ],
   "source": [
    "# corresonding URLs for top n recs \n",
    "rec_urls"
   ]
  },
  {
   "cell_type": "markdown",
   "metadata": {},
   "source": [
    "----\n",
    "### Additoinal Resources \n",
    "\n",
    "http://infolab.stanford.edu/~ullman/mmds/ch9.pdf\n",
    "\n",
    "http://benanne.github.io/2014/08/05/spotify-cnns.html\n",
    "\n",
    "http://citeseerx.ist.psu.edu/viewdoc/download?doi=10.1.1.25.5743&rep=rep1&type=pdf"
   ]
  }
 ],
 "metadata": {
  "kernelspec": {
   "display_name": "Python 3",
   "language": "python",
   "name": "python3"
  },
  "language_info": {
   "codemirror_mode": {
    "name": "ipython",
    "version": 3
   },
   "file_extension": ".py",
   "mimetype": "text/x-python",
   "name": "python",
   "nbconvert_exporter": "python",
   "pygments_lexer": "ipython3",
   "version": "3.6.6"
  }
 },
 "nbformat": 4,
 "nbformat_minor": 2
}
