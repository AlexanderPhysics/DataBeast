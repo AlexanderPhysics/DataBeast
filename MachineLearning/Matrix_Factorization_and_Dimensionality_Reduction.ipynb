{
 "cells": [
  {
   "cell_type": "markdown",
   "metadata": {},
   "source": [
    "###Chapter 14 in Machine Learning in Action \n",
    "\n",
    "    Covers dimension reduction using SVD"
   ]
  },
  {
   "cell_type": "code",
   "execution_count": 292,
   "metadata": {
    "collapsed": false
   },
   "outputs": [
    {
     "name": "stdout",
     "output_type": "stream",
     "text": [
      "Populating the interactive namespace from numpy and matplotlib\n",
      "Using matplotlib backend: MacOSX\n"
     ]
    }
   ],
   "source": [
    "import pandas as pd\n",
    "import numpy as np\n",
    "import pylab as pl\n",
    "import matplotlib.pyplot as plt\n",
    "%pylab inline\n",
    "pl.gray();\n",
    "%matplotlib"
   ]
  },
  {
   "cell_type": "code",
   "execution_count": 2,
   "metadata": {
    "collapsed": false
   },
   "outputs": [],
   "source": [
    "#df = pd.read_csv('/Users/Alexander/DSCI6003-student/week1/exercise/data/book_reviews.csv', index_col = True)\n",
    "df = pd.read_csv('/Users/Alexander/DSCI6003-student/week1/exercise/data/book_reviews.csv')\n",
    "\n"
   ]
  },
  {
   "cell_type": "code",
   "execution_count": 3,
   "metadata": {
    "collapsed": false
   },
   "outputs": [
    {
     "data": {
      "text/plain": [
       "Index([u'Unnamed: 0', u'User-ID', u'ISBN', u'Book-Rating'], dtype='object')"
      ]
     },
     "execution_count": 3,
     "metadata": {},
     "output_type": "execute_result"
    }
   ],
   "source": [
    "df.columns"
   ]
  },
  {
   "cell_type": "code",
   "execution_count": 4,
   "metadata": {
    "collapsed": true
   },
   "outputs": [],
   "source": [
    "## row = user_ID\n",
    "## column = Book rating "
   ]
  },
  {
   "cell_type": "code",
   "execution_count": 5,
   "metadata": {
    "collapsed": false
   },
   "outputs": [],
   "source": [
    "df = df.drop('Unnamed: 0', axis = 1)\n",
    "df.columns = ['User','Book','Rating']"
   ]
  },
  {
   "cell_type": "code",
   "execution_count": 6,
   "metadata": {
    "collapsed": false
   },
   "outputs": [
    {
     "data": {
      "text/html": [
       "<div style=\"max-height:1000px;max-width:1500px;overflow:auto;\">\n",
       "<table border=\"1\" class=\"dataframe\">\n",
       "  <thead>\n",
       "    <tr style=\"text-align: right;\">\n",
       "      <th></th>\n",
       "      <th>User</th>\n",
       "      <th>Book</th>\n",
       "      <th>Rating</th>\n",
       "    </tr>\n",
       "  </thead>\n",
       "  <tbody>\n",
       "    <tr>\n",
       "      <th>0</th>\n",
       "      <td>277195</td>\n",
       "      <td>0060391626</td>\n",
       "      <td>10</td>\n",
       "    </tr>\n",
       "    <tr>\n",
       "      <th>1</th>\n",
       "      <td>277195</td>\n",
       "      <td>0060502258</td>\n",
       "      <td>0</td>\n",
       "    </tr>\n",
       "    <tr>\n",
       "      <th>2</th>\n",
       "      <td>277195</td>\n",
       "      <td>0060987561</td>\n",
       "      <td>0</td>\n",
       "    </tr>\n",
       "    <tr>\n",
       "      <th>3</th>\n",
       "      <td>277195</td>\n",
       "      <td>0316666343</td>\n",
       "      <td>0</td>\n",
       "    </tr>\n",
       "    <tr>\n",
       "      <th>4</th>\n",
       "      <td>277195</td>\n",
       "      <td>0316734837</td>\n",
       "      <td>0</td>\n",
       "    </tr>\n",
       "  </tbody>\n",
       "</table>\n",
       "</div>"
      ],
      "text/plain": [
       "     User        Book  Rating\n",
       "0  277195  0060391626      10\n",
       "1  277195  0060502258       0\n",
       "2  277195  0060987561       0\n",
       "3  277195  0316666343       0\n",
       "4  277195  0316734837       0"
      ]
     },
     "execution_count": 6,
     "metadata": {},
     "output_type": "execute_result"
    }
   ],
   "source": [
    "df.head()"
   ]
  },
  {
   "cell_type": "code",
   "execution_count": 7,
   "metadata": {
    "collapsed": false
   },
   "outputs": [
    {
     "data": {
      "text/html": [
       "<div style=\"max-height:1000px;max-width:1500px;overflow:auto;\">\n",
       "<table border=\"1\" class=\"dataframe\">\n",
       "  <thead>\n",
       "    <tr style=\"text-align: right;\">\n",
       "      <th>Book</th>\n",
       "      <th>0006493580</th>\n",
       "      <th>000649840X</th>\n",
       "      <th>0006512135</th>\n",
       "      <th>0006513204</th>\n",
       "      <th>0006514855</th>\n",
       "      <th>0006547834</th>\n",
       "      <th>0006550576</th>\n",
       "      <th>0006550681</th>\n",
       "      <th>0006550789</th>\n",
       "      <th>0007110928</th>\n",
       "      <th>...</th>\n",
       "      <th>8495618605</th>\n",
       "      <th>8497593588</th>\n",
       "      <th>8804342838</th>\n",
       "      <th>8806142100</th>\n",
       "      <th>8806143042</th>\n",
       "      <th>8807813025</th>\n",
       "      <th>8817106100</th>\n",
       "      <th>8845205118</th>\n",
       "      <th>8873122933</th>\n",
       "      <th>8885989403</th>\n",
       "    </tr>\n",
       "    <tr>\n",
       "      <th>User</th>\n",
       "      <th></th>\n",
       "      <th></th>\n",
       "      <th></th>\n",
       "      <th></th>\n",
       "      <th></th>\n",
       "      <th></th>\n",
       "      <th></th>\n",
       "      <th></th>\n",
       "      <th></th>\n",
       "      <th></th>\n",
       "      <th></th>\n",
       "      <th></th>\n",
       "      <th></th>\n",
       "      <th></th>\n",
       "      <th></th>\n",
       "      <th></th>\n",
       "      <th></th>\n",
       "      <th></th>\n",
       "      <th></th>\n",
       "      <th></th>\n",
       "      <th></th>\n",
       "    </tr>\n",
       "  </thead>\n",
       "  <tbody>\n",
       "    <tr>\n",
       "      <th>243</th>\n",
       "      <td>-1</td>\n",
       "      <td>-1</td>\n",
       "      <td>-1</td>\n",
       "      <td>-1</td>\n",
       "      <td>-1</td>\n",
       "      <td>-1</td>\n",
       "      <td>-1</td>\n",
       "      <td>-1</td>\n",
       "      <td>-1</td>\n",
       "      <td>-1</td>\n",
       "      <td>...</td>\n",
       "      <td>-1</td>\n",
       "      <td>-1</td>\n",
       "      <td>-1</td>\n",
       "      <td>-1</td>\n",
       "      <td>-1</td>\n",
       "      <td>-1</td>\n",
       "      <td>-1</td>\n",
       "      <td>-1</td>\n",
       "      <td>-1</td>\n",
       "      <td>-1</td>\n",
       "    </tr>\n",
       "    <tr>\n",
       "      <th>254</th>\n",
       "      <td>-1</td>\n",
       "      <td>-1</td>\n",
       "      <td>-1</td>\n",
       "      <td>-1</td>\n",
       "      <td>-1</td>\n",
       "      <td>-1</td>\n",
       "      <td>-1</td>\n",
       "      <td>-1</td>\n",
       "      <td>-1</td>\n",
       "      <td>-1</td>\n",
       "      <td>...</td>\n",
       "      <td>-1</td>\n",
       "      <td>-1</td>\n",
       "      <td>-1</td>\n",
       "      <td>-1</td>\n",
       "      <td>-1</td>\n",
       "      <td>-1</td>\n",
       "      <td>-1</td>\n",
       "      <td>-1</td>\n",
       "      <td>-1</td>\n",
       "      <td>-1</td>\n",
       "    </tr>\n",
       "    <tr>\n",
       "      <th>507</th>\n",
       "      <td>-1</td>\n",
       "      <td>-1</td>\n",
       "      <td>-1</td>\n",
       "      <td>-1</td>\n",
       "      <td>-1</td>\n",
       "      <td>-1</td>\n",
       "      <td>-1</td>\n",
       "      <td>-1</td>\n",
       "      <td>-1</td>\n",
       "      <td>-1</td>\n",
       "      <td>...</td>\n",
       "      <td>-1</td>\n",
       "      <td>-1</td>\n",
       "      <td>-1</td>\n",
       "      <td>-1</td>\n",
       "      <td>-1</td>\n",
       "      <td>-1</td>\n",
       "      <td>-1</td>\n",
       "      <td>-1</td>\n",
       "      <td>-1</td>\n",
       "      <td>-1</td>\n",
       "    </tr>\n",
       "    <tr>\n",
       "      <th>638</th>\n",
       "      <td>-1</td>\n",
       "      <td>-1</td>\n",
       "      <td>-1</td>\n",
       "      <td>-1</td>\n",
       "      <td>-1</td>\n",
       "      <td>-1</td>\n",
       "      <td>-1</td>\n",
       "      <td>-1</td>\n",
       "      <td>-1</td>\n",
       "      <td>-1</td>\n",
       "      <td>...</td>\n",
       "      <td>-1</td>\n",
       "      <td>-1</td>\n",
       "      <td>-1</td>\n",
       "      <td>-1</td>\n",
       "      <td>-1</td>\n",
       "      <td>-1</td>\n",
       "      <td>-1</td>\n",
       "      <td>-1</td>\n",
       "      <td>-1</td>\n",
       "      <td>-1</td>\n",
       "    </tr>\n",
       "    <tr>\n",
       "      <th>805</th>\n",
       "      <td>-1</td>\n",
       "      <td>-1</td>\n",
       "      <td>-1</td>\n",
       "      <td>-1</td>\n",
       "      <td>-1</td>\n",
       "      <td>-1</td>\n",
       "      <td>-1</td>\n",
       "      <td>-1</td>\n",
       "      <td>-1</td>\n",
       "      <td>-1</td>\n",
       "      <td>...</td>\n",
       "      <td>-1</td>\n",
       "      <td>-1</td>\n",
       "      <td>-1</td>\n",
       "      <td>-1</td>\n",
       "      <td>-1</td>\n",
       "      <td>-1</td>\n",
       "      <td>-1</td>\n",
       "      <td>-1</td>\n",
       "      <td>-1</td>\n",
       "      <td>-1</td>\n",
       "    </tr>\n",
       "  </tbody>\n",
       "</table>\n",
       "<p>5 rows × 6092 columns</p>\n",
       "</div>"
      ],
      "text/plain": [
       "Book  0006493580  000649840X  0006512135  0006513204  0006514855  0006547834  \\\n",
       "User                                                                           \n",
       "243           -1          -1          -1          -1          -1          -1   \n",
       "254           -1          -1          -1          -1          -1          -1   \n",
       "507           -1          -1          -1          -1          -1          -1   \n",
       "638           -1          -1          -1          -1          -1          -1   \n",
       "805           -1          -1          -1          -1          -1          -1   \n",
       "\n",
       "Book  0006550576  0006550681  0006550789  0007110928     ...      8495618605  \\\n",
       "User                                                     ...                   \n",
       "243           -1          -1          -1          -1     ...              -1   \n",
       "254           -1          -1          -1          -1     ...              -1   \n",
       "507           -1          -1          -1          -1     ...              -1   \n",
       "638           -1          -1          -1          -1     ...              -1   \n",
       "805           -1          -1          -1          -1     ...              -1   \n",
       "\n",
       "Book  8497593588  8804342838  8806142100  8806143042  8807813025  8817106100  \\\n",
       "User                                                                           \n",
       "243           -1          -1          -1          -1          -1          -1   \n",
       "254           -1          -1          -1          -1          -1          -1   \n",
       "507           -1          -1          -1          -1          -1          -1   \n",
       "638           -1          -1          -1          -1          -1          -1   \n",
       "805           -1          -1          -1          -1          -1          -1   \n",
       "\n",
       "Book  8845205118  8873122933  8885989403  \n",
       "User                                      \n",
       "243           -1          -1          -1  \n",
       "254           -1          -1          -1  \n",
       "507           -1          -1          -1  \n",
       "638           -1          -1          -1  \n",
       "805           -1          -1          -1  \n",
       "\n",
       "[5 rows x 6092 columns]"
      ]
     },
     "execution_count": 7,
     "metadata": {},
     "output_type": "execute_result"
    }
   ],
   "source": [
    "df_pivot = df.pivot('User','Book')['Rating']\n",
    "df_pivot = df_pivot.fillna(-1);\n",
    "df_pivot.head()"
   ]
  },
  {
   "cell_type": "code",
   "execution_count": 8,
   "metadata": {
    "collapsed": false
   },
   "outputs": [
    {
     "data": {
      "text/html": [
       "<div style=\"max-height:1000px;max-width:1500px;overflow:auto;\">\n",
       "<table border=\"1\" class=\"dataframe\">\n",
       "  <thead>\n",
       "    <tr style=\"text-align: right;\">\n",
       "      <th></th>\n",
       "      <th>0006493580</th>\n",
       "      <th>000649840X</th>\n",
       "      <th>0006512135</th>\n",
       "      <th>0006513204</th>\n",
       "      <th>0006514855</th>\n",
       "      <th>0006547834</th>\n",
       "      <th>0006550576</th>\n",
       "      <th>0006550681</th>\n",
       "      <th>0006550789</th>\n",
       "      <th>0007110928</th>\n",
       "      <th>...</th>\n",
       "      <th>8495618605</th>\n",
       "      <th>8497593588</th>\n",
       "      <th>8804342838</th>\n",
       "      <th>8806142100</th>\n",
       "      <th>8806143042</th>\n",
       "      <th>8807813025</th>\n",
       "      <th>8817106100</th>\n",
       "      <th>8845205118</th>\n",
       "      <th>8873122933</th>\n",
       "      <th>8885989403</th>\n",
       "    </tr>\n",
       "  </thead>\n",
       "  <tbody>\n",
       "    <tr>\n",
       "      <th>count</th>\n",
       "      <td>2500.0000</td>\n",
       "      <td>2500.0000</td>\n",
       "      <td>2500.000000</td>\n",
       "      <td>2500.000000</td>\n",
       "      <td>2500.000000</td>\n",
       "      <td>2500.000000</td>\n",
       "      <td>2500.000000</td>\n",
       "      <td>2500.000000</td>\n",
       "      <td>2500.000000</td>\n",
       "      <td>2500.000000</td>\n",
       "      <td>...</td>\n",
       "      <td>2500.0000</td>\n",
       "      <td>2500.000000</td>\n",
       "      <td>2500.0000</td>\n",
       "      <td>2500.000000</td>\n",
       "      <td>2500.000000</td>\n",
       "      <td>2500.000</td>\n",
       "      <td>2500.0000</td>\n",
       "      <td>2500.0000</td>\n",
       "      <td>2500.000000</td>\n",
       "      <td>2500.000000</td>\n",
       "    </tr>\n",
       "    <tr>\n",
       "      <th>mean</th>\n",
       "      <td>-0.9864</td>\n",
       "      <td>-0.9492</td>\n",
       "      <td>-0.996400</td>\n",
       "      <td>-0.984400</td>\n",
       "      <td>-0.986000</td>\n",
       "      <td>-0.978800</td>\n",
       "      <td>-0.983600</td>\n",
       "      <td>-0.975600</td>\n",
       "      <td>-0.978400</td>\n",
       "      <td>-0.975200</td>\n",
       "      <td>...</td>\n",
       "      <td>-0.9984</td>\n",
       "      <td>-0.995200</td>\n",
       "      <td>-0.9972</td>\n",
       "      <td>-0.992800</td>\n",
       "      <td>-0.992800</td>\n",
       "      <td>-0.996</td>\n",
       "      <td>-0.9960</td>\n",
       "      <td>-0.9996</td>\n",
       "      <td>-0.996000</td>\n",
       "      <td>-0.999200</td>\n",
       "    </tr>\n",
       "    <tr>\n",
       "      <th>std</th>\n",
       "      <td>0.3057</td>\n",
       "      <td>0.5983</td>\n",
       "      <td>0.059904</td>\n",
       "      <td>0.372306</td>\n",
       "      <td>0.330224</td>\n",
       "      <td>0.412818</td>\n",
       "      <td>0.353527</td>\n",
       "      <td>0.444391</td>\n",
       "      <td>0.391401</td>\n",
       "      <td>0.443016</td>\n",
       "      <td>...</td>\n",
       "      <td>0.0800</td>\n",
       "      <td>0.183277</td>\n",
       "      <td>0.1400</td>\n",
       "      <td>0.254508</td>\n",
       "      <td>0.256075</td>\n",
       "      <td>0.200</td>\n",
       "      <td>0.1811</td>\n",
       "      <td>0.0200</td>\n",
       "      <td>0.063132</td>\n",
       "      <td>0.028279</td>\n",
       "    </tr>\n",
       "    <tr>\n",
       "      <th>min</th>\n",
       "      <td>-1.0000</td>\n",
       "      <td>-1.0000</td>\n",
       "      <td>-1.000000</td>\n",
       "      <td>-1.000000</td>\n",
       "      <td>-1.000000</td>\n",
       "      <td>-1.000000</td>\n",
       "      <td>-1.000000</td>\n",
       "      <td>-1.000000</td>\n",
       "      <td>-1.000000</td>\n",
       "      <td>-1.000000</td>\n",
       "      <td>...</td>\n",
       "      <td>-1.0000</td>\n",
       "      <td>-1.000000</td>\n",
       "      <td>-1.0000</td>\n",
       "      <td>-1.000000</td>\n",
       "      <td>-1.000000</td>\n",
       "      <td>-1.000</td>\n",
       "      <td>-1.0000</td>\n",
       "      <td>-1.0000</td>\n",
       "      <td>-1.000000</td>\n",
       "      <td>-1.000000</td>\n",
       "    </tr>\n",
       "    <tr>\n",
       "      <th>25%</th>\n",
       "      <td>-1.0000</td>\n",
       "      <td>-1.0000</td>\n",
       "      <td>-1.000000</td>\n",
       "      <td>-1.000000</td>\n",
       "      <td>-1.000000</td>\n",
       "      <td>-1.000000</td>\n",
       "      <td>-1.000000</td>\n",
       "      <td>-1.000000</td>\n",
       "      <td>-1.000000</td>\n",
       "      <td>-1.000000</td>\n",
       "      <td>...</td>\n",
       "      <td>-1.0000</td>\n",
       "      <td>-1.000000</td>\n",
       "      <td>-1.0000</td>\n",
       "      <td>-1.000000</td>\n",
       "      <td>-1.000000</td>\n",
       "      <td>-1.000</td>\n",
       "      <td>-1.0000</td>\n",
       "      <td>-1.0000</td>\n",
       "      <td>-1.000000</td>\n",
       "      <td>-1.000000</td>\n",
       "    </tr>\n",
       "    <tr>\n",
       "      <th>50%</th>\n",
       "      <td>-1.0000</td>\n",
       "      <td>-1.0000</td>\n",
       "      <td>-1.000000</td>\n",
       "      <td>-1.000000</td>\n",
       "      <td>-1.000000</td>\n",
       "      <td>-1.000000</td>\n",
       "      <td>-1.000000</td>\n",
       "      <td>-1.000000</td>\n",
       "      <td>-1.000000</td>\n",
       "      <td>-1.000000</td>\n",
       "      <td>...</td>\n",
       "      <td>-1.0000</td>\n",
       "      <td>-1.000000</td>\n",
       "      <td>-1.0000</td>\n",
       "      <td>-1.000000</td>\n",
       "      <td>-1.000000</td>\n",
       "      <td>-1.000</td>\n",
       "      <td>-1.0000</td>\n",
       "      <td>-1.0000</td>\n",
       "      <td>-1.000000</td>\n",
       "      <td>-1.000000</td>\n",
       "    </tr>\n",
       "    <tr>\n",
       "      <th>75%</th>\n",
       "      <td>-1.0000</td>\n",
       "      <td>-1.0000</td>\n",
       "      <td>-1.000000</td>\n",
       "      <td>-1.000000</td>\n",
       "      <td>-1.000000</td>\n",
       "      <td>-1.000000</td>\n",
       "      <td>-1.000000</td>\n",
       "      <td>-1.000000</td>\n",
       "      <td>-1.000000</td>\n",
       "      <td>-1.000000</td>\n",
       "      <td>...</td>\n",
       "      <td>-1.0000</td>\n",
       "      <td>-1.000000</td>\n",
       "      <td>-1.0000</td>\n",
       "      <td>-1.000000</td>\n",
       "      <td>-1.000000</td>\n",
       "      <td>-1.000</td>\n",
       "      <td>-1.0000</td>\n",
       "      <td>-1.0000</td>\n",
       "      <td>-1.000000</td>\n",
       "      <td>-1.000000</td>\n",
       "    </tr>\n",
       "    <tr>\n",
       "      <th>max</th>\n",
       "      <td>8.0000</td>\n",
       "      <td>10.0000</td>\n",
       "      <td>0.000000</td>\n",
       "      <td>9.000000</td>\n",
       "      <td>10.000000</td>\n",
       "      <td>10.000000</td>\n",
       "      <td>10.000000</td>\n",
       "      <td>10.000000</td>\n",
       "      <td>9.000000</td>\n",
       "      <td>10.000000</td>\n",
       "      <td>...</td>\n",
       "      <td>3.0000</td>\n",
       "      <td>8.000000</td>\n",
       "      <td>6.0000</td>\n",
       "      <td>8.000000</td>\n",
       "      <td>9.000000</td>\n",
       "      <td>9.000</td>\n",
       "      <td>8.0000</td>\n",
       "      <td>0.0000</td>\n",
       "      <td>0.000000</td>\n",
       "      <td>0.000000</td>\n",
       "    </tr>\n",
       "  </tbody>\n",
       "</table>\n",
       "<p>8 rows × 6092 columns</p>\n",
       "</div>"
      ],
      "text/plain": [
       "       0006493580  000649840X   0006512135   0006513204   0006514855  \\\n",
       "count   2500.0000   2500.0000  2500.000000  2500.000000  2500.000000   \n",
       "mean      -0.9864     -0.9492    -0.996400    -0.984400    -0.986000   \n",
       "std        0.3057      0.5983     0.059904     0.372306     0.330224   \n",
       "min       -1.0000     -1.0000    -1.000000    -1.000000    -1.000000   \n",
       "25%       -1.0000     -1.0000    -1.000000    -1.000000    -1.000000   \n",
       "50%       -1.0000     -1.0000    -1.000000    -1.000000    -1.000000   \n",
       "75%       -1.0000     -1.0000    -1.000000    -1.000000    -1.000000   \n",
       "max        8.0000     10.0000     0.000000     9.000000    10.000000   \n",
       "\n",
       "        0006547834   0006550576   0006550681   0006550789   0007110928  \\\n",
       "count  2500.000000  2500.000000  2500.000000  2500.000000  2500.000000   \n",
       "mean     -0.978800    -0.983600    -0.975600    -0.978400    -0.975200   \n",
       "std       0.412818     0.353527     0.444391     0.391401     0.443016   \n",
       "min      -1.000000    -1.000000    -1.000000    -1.000000    -1.000000   \n",
       "25%      -1.000000    -1.000000    -1.000000    -1.000000    -1.000000   \n",
       "50%      -1.000000    -1.000000    -1.000000    -1.000000    -1.000000   \n",
       "75%      -1.000000    -1.000000    -1.000000    -1.000000    -1.000000   \n",
       "max      10.000000    10.000000    10.000000     9.000000    10.000000   \n",
       "\n",
       "          ...       8495618605   8497593588  8804342838   8806142100  \\\n",
       "count     ...        2500.0000  2500.000000   2500.0000  2500.000000   \n",
       "mean      ...          -0.9984    -0.995200     -0.9972    -0.992800   \n",
       "std       ...           0.0800     0.183277      0.1400     0.254508   \n",
       "min       ...          -1.0000    -1.000000     -1.0000    -1.000000   \n",
       "25%       ...          -1.0000    -1.000000     -1.0000    -1.000000   \n",
       "50%       ...          -1.0000    -1.000000     -1.0000    -1.000000   \n",
       "75%       ...          -1.0000    -1.000000     -1.0000    -1.000000   \n",
       "max       ...           3.0000     8.000000      6.0000     8.000000   \n",
       "\n",
       "        8806143042  8807813025  8817106100  8845205118   8873122933  \\\n",
       "count  2500.000000    2500.000   2500.0000   2500.0000  2500.000000   \n",
       "mean     -0.992800      -0.996     -0.9960     -0.9996    -0.996000   \n",
       "std       0.256075       0.200      0.1811      0.0200     0.063132   \n",
       "min      -1.000000      -1.000     -1.0000     -1.0000    -1.000000   \n",
       "25%      -1.000000      -1.000     -1.0000     -1.0000    -1.000000   \n",
       "50%      -1.000000      -1.000     -1.0000     -1.0000    -1.000000   \n",
       "75%      -1.000000      -1.000     -1.0000     -1.0000    -1.000000   \n",
       "max       9.000000       9.000      8.0000      0.0000     0.000000   \n",
       "\n",
       "        8885989403  \n",
       "count  2500.000000  \n",
       "mean     -0.999200  \n",
       "std       0.028279  \n",
       "min      -1.000000  \n",
       "25%      -1.000000  \n",
       "50%      -1.000000  \n",
       "75%      -1.000000  \n",
       "max       0.000000  \n",
       "\n",
       "[8 rows x 6092 columns]"
      ]
     },
     "execution_count": 8,
     "metadata": {},
     "output_type": "execute_result"
    }
   ],
   "source": [
    "# we can see that it is a very spars data set\n",
    "df_pivot.describe()"
   ]
  },
  {
   "cell_type": "code",
   "execution_count": 9,
   "metadata": {
    "collapsed": false
   },
   "outputs": [],
   "source": [
    "U,S,Vtrans = np.linalg.svd(df_pivot)"
   ]
  },
  {
   "cell_type": "code",
   "execution_count": 10,
   "metadata": {
    "collapsed": false
   },
   "outputs": [
    {
     "data": {
      "text/plain": [
       "[<matplotlib.lines.Line2D at 0x11baedfd0>]"
      ]
     },
     "execution_count": 10,
     "metadata": {},
     "output_type": "execute_result"
    },
    {
     "data": {
      "image/png": "[encoded data removed]",
      "text/plain": [
       "<matplotlib.figure.Figure at 0x1072c1450>"
      ]
     },
     "metadata": {},
     "output_type": "display_data"
    }
   ],
   "source": [
    "import matplotlib.pyplot as plt\n",
    "%matplotlib inline\n",
    "plt.plot(np.cumsum(S**2))"
   ]
  },
  {
   "cell_type": "markdown",
   "metadata": {},
   "source": [
    "Total energy is the sum of the energy of each singular value.  Plot the energy of each singular value and look for the 'elbow'.  How many singular values should you keep?"
   ]
  },
  {
   "cell_type": "markdown",
   "metadata": {},
   "source": [
    "First calculate the energy that each singular value represents.  Energy is the same as variance of a dimension and we can compute it simply by squaring the singular values."
   ]
  },
  {
   "cell_type": "code",
   "execution_count": 11,
   "metadata": {
    "collapsed": false
   },
   "outputs": [
    {
     "data": {
      "text/plain": [
       "[<matplotlib.lines.Line2D at 0x10833e550>]"
      ]
     },
     "execution_count": 11,
     "metadata": {},
     "output_type": "execute_result"
    },
    {
     "data": {
      "image/png": "[encoded data removed]",
      "text/plain": [
       "<matplotlib.figure.Figure at 0x1081627d0>"
      ]
     },
     "metadata": {},
     "output_type": "display_data"
    }
   ],
   "source": [
    "energy = S**2\n",
    "plt.plot(energy[:10])"
   ]
  },
  {
   "cell_type": "code",
   "execution_count": 12,
   "metadata": {
    "collapsed": false
   },
   "outputs": [
    {
     "data": {
      "text/plain": [
       "2500"
      ]
     },
     "execution_count": 12,
     "metadata": {},
     "output_type": "execute_result"
    }
   ],
   "source": [
    "energy.size"
   ]
  },
  {
   "cell_type": "code",
   "execution_count": 13,
   "metadata": {
    "collapsed": false
   },
   "outputs": [],
   "source": [
    "from __future__ import division"
   ]
  },
  {
   "cell_type": "code",
   "execution_count": 14,
   "metadata": {
    "collapsed": false
   },
   "outputs": [
    {
     "data": {
      "text/plain": [
       "array([  1.39276730e+07,   1.07691352e+05,   5.48392259e+04, ...,\n",
       "         8.75634390e+00,   6.94934238e+00,   5.09470755e+00])"
      ]
     },
     "execution_count": 14,
     "metadata": {},
     "output_type": "execute_result"
    }
   ],
   "source": [
    "energy"
   ]
  },
  {
   "cell_type": "code",
   "execution_count": 15,
   "metadata": {
    "collapsed": false
   },
   "outputs": [],
   "source": [
    "def ninty_per_var(energy):\n",
    "    '''\n",
    "    Input: array of sorted eigenvalues from SVD\n",
    "    Output: index of largest eigenvalue, largest eigenvalue, percent variance retained  \n",
    "    '''\n",
    "    ninty = 0.90 * sum(energy)\n",
    "    Sum = 0.0\n",
    "    for i, lam in enumerate(energy):\n",
    "        Sum = Sum + lam\n",
    "        if (Sum >= ninty):\n",
    "            print 'index             ',i\n",
    "            print 'eigenvalue        ',lam\n",
    "            print 'variance retained ',100*Sum/sum(energy)\n",
    "            return i\n",
    "            break"
   ]
  },
  {
   "cell_type": "code",
   "execution_count": 16,
   "metadata": {
    "collapsed": false
   },
   "outputs": [
    {
     "name": "stdout",
     "output_type": "stream",
     "text": [
      "index              441\n",
      "eigenvalue         3370.45828287\n",
      "variance retained  90.0117756326\n",
      "\n",
      "We need to keep 441 eigenvalues in order to retain 90.0% of the variance\n"
     ]
    }
   ],
   "source": [
    "ninty_per_var(energy)\n",
    "\n",
    "print '\\nWe need to keep 441 eigenvalues in order to retain 90.0% of the variance'"
   ]
  },
  {
   "cell_type": "code",
   "execution_count": 17,
   "metadata": {
    "collapsed": true
   },
   "outputs": [],
   "source": [
    "k = 441"
   ]
  },
  {
   "cell_type": "code",
   "execution_count": 18,
   "metadata": {
    "collapsed": false
   },
   "outputs": [
    {
     "data": {
      "text/plain": [
       "(2500, 6092)"
      ]
     },
     "execution_count": 18,
     "metadata": {},
     "output_type": "execute_result"
    }
   ],
   "source": [
    "df_pivot.shape"
   ]
  },
  {
   "cell_type": "markdown",
   "metadata": {},
   "source": [
    "##Dimenion Reduction \n",
    "\n",
    "###D = U, S, Vtrans\n",
    "  \n",
    "(m x n) = (m x m )  (m x n)  (n x n)\n",
    "\n",
    "(m x n) = (m x k )  (k x k)  (k x n)\n",
    "\n",
    "k = 441  "
   ]
  },
  {
   "cell_type": "code",
   "execution_count": 19,
   "metadata": {
    "collapsed": false
   },
   "outputs": [],
   "source": [
    "energy_r = energy[:k]\n",
    "VtR = Vtrans[:k,:]\n",
    "Ur = U[:,:k]"
   ]
  },
  {
   "cell_type": "code",
   "execution_count": 20,
   "metadata": {
    "collapsed": false
   },
   "outputs": [
    {
     "data": {
      "text/html": [
       "<div style=\"max-height:1000px;max-width:1500px;overflow:auto;\">\n",
       "<table border=\"1\" class=\"dataframe\">\n",
       "  <thead>\n",
       "    <tr style=\"text-align: right;\">\n",
       "      <th>Book</th>\n",
       "      <th>0006493580</th>\n",
       "      <th>000649840X</th>\n",
       "      <th>0006512135</th>\n",
       "      <th>0006513204</th>\n",
       "      <th>0006514855</th>\n",
       "      <th>0006547834</th>\n",
       "      <th>0006550576</th>\n",
       "      <th>0006550681</th>\n",
       "      <th>0006550789</th>\n",
       "      <th>0007110928</th>\n",
       "      <th>...</th>\n",
       "      <th>8495618605</th>\n",
       "      <th>8497593588</th>\n",
       "      <th>8804342838</th>\n",
       "      <th>8806142100</th>\n",
       "      <th>8806143042</th>\n",
       "      <th>8807813025</th>\n",
       "      <th>8817106100</th>\n",
       "      <th>8845205118</th>\n",
       "      <th>8873122933</th>\n",
       "      <th>8885989403</th>\n",
       "    </tr>\n",
       "    <tr>\n",
       "      <th>User</th>\n",
       "      <th></th>\n",
       "      <th></th>\n",
       "      <th></th>\n",
       "      <th></th>\n",
       "      <th></th>\n",
       "      <th></th>\n",
       "      <th></th>\n",
       "      <th></th>\n",
       "      <th></th>\n",
       "      <th></th>\n",
       "      <th></th>\n",
       "      <th></th>\n",
       "      <th></th>\n",
       "      <th></th>\n",
       "      <th></th>\n",
       "      <th></th>\n",
       "      <th></th>\n",
       "      <th></th>\n",
       "      <th></th>\n",
       "      <th></th>\n",
       "      <th></th>\n",
       "    </tr>\n",
       "  </thead>\n",
       "  <tbody>\n",
       "    <tr>\n",
       "      <th>243</th>\n",
       "      <td>-1</td>\n",
       "      <td>-1</td>\n",
       "      <td>-1</td>\n",
       "      <td>-1</td>\n",
       "      <td>-1</td>\n",
       "      <td>-1</td>\n",
       "      <td>-1</td>\n",
       "      <td>-1</td>\n",
       "      <td>-1</td>\n",
       "      <td>-1</td>\n",
       "      <td>...</td>\n",
       "      <td>-1</td>\n",
       "      <td>-1</td>\n",
       "      <td>-1</td>\n",
       "      <td>-1</td>\n",
       "      <td>-1</td>\n",
       "      <td>-1</td>\n",
       "      <td>-1</td>\n",
       "      <td>-1</td>\n",
       "      <td>-1</td>\n",
       "      <td>-1</td>\n",
       "    </tr>\n",
       "  </tbody>\n",
       "</table>\n",
       "<p>1 rows × 6092 columns</p>\n",
       "</div>"
      ],
      "text/plain": [
       "Book  0006493580  000649840X  0006512135  0006513204  0006514855  0006547834  \\\n",
       "User                                                                           \n",
       "243           -1          -1          -1          -1          -1          -1   \n",
       "\n",
       "Book  0006550576  0006550681  0006550789  0007110928     ...      8495618605  \\\n",
       "User                                                     ...                   \n",
       "243           -1          -1          -1          -1     ...              -1   \n",
       "\n",
       "Book  8497593588  8804342838  8806142100  8806143042  8807813025  8817106100  \\\n",
       "User                                                                           \n",
       "243           -1          -1          -1          -1          -1          -1   \n",
       "\n",
       "Book  8845205118  8873122933  8885989403  \n",
       "User                                      \n",
       "243           -1          -1          -1  \n",
       "\n",
       "[1 rows x 6092 columns]"
      ]
     },
     "execution_count": 20,
     "metadata": {},
     "output_type": "execute_result"
    }
   ],
   "source": [
    "df_pivot.head(1)"
   ]
  },
  {
   "cell_type": "code",
   "execution_count": 21,
   "metadata": {
    "collapsed": false
   },
   "outputs": [
    {
     "name": "stdout",
     "output_type": "stream",
     "text": [
      "Rows: Users 2500        Cols: Books 6092\n"
     ]
    }
   ],
   "source": [
    "df_pivot.shape\n",
    "print \"Rows: Users {0}        Cols: Books {1}\".format(df_pivot.shape[0],df_pivot.shape[1])"
   ]
  },
  {
   "cell_type": "code",
   "execution_count": 22,
   "metadata": {
    "collapsed": false
   },
   "outputs": [
    {
     "name": "stdout",
     "output_type": "stream",
     "text": [
      "Rows: Users 2500        Cols: Features_Books  441\n"
     ]
    }
   ],
   "source": [
    "# every row in Ur connects Users to Concepts\n",
    "Ur.shape\n",
    "print 'Rows: Users {0}        Cols: Features_Books  {1}'.format(Ur.shape[0],Ur.shape[1])"
   ]
  },
  {
   "cell_type": "code",
   "execution_count": 23,
   "metadata": {
    "collapsed": false
   },
   "outputs": [
    {
     "name": "stdout",
     "output_type": "stream",
     "text": [
      "Rows: Features_Books  6092        Cols: Books 441\n"
     ]
    }
   ],
   "source": [
    "# every row in Vr connects books to concepts\n",
    "VtR.shape\n",
    "print 'Rows: Features_Books  {1}        Cols: Books {0}'.format(VtR.shape[0],VtR.shape[1])"
   ]
  },
  {
   "cell_type": "markdown",
   "metadata": {
    "collapsed": true
   },
   "source": [
    "6.Pick a number of Singular values to keep (doesn't have to be as many give 90% total energy).  Look at V to find which books most contribute to each 'topic'.  For each of these 'topics', print out the title and author of the 10 most relevant books.  __Note: You can get the book metadata from the `data/book_meta.csv` file__"
   ]
  },
  {
   "cell_type": "code",
   "execution_count": 24,
   "metadata": {
    "collapsed": false
   },
   "outputs": [],
   "source": [
    "a = []"
   ]
  },
  {
   "cell_type": "code",
   "execution_count": 25,
   "metadata": {
    "collapsed": true
   },
   "outputs": [],
   "source": [
    "a.append([4,4])\n",
    "a.append([5,5,])"
   ]
  },
  {
   "cell_type": "code",
   "execution_count": 26,
   "metadata": {
    "collapsed": false
   },
   "outputs": [
    {
     "data": {
      "text/plain": [
       "[[4, 4], [5, 5]]"
      ]
     },
     "execution_count": 26,
     "metadata": {},
     "output_type": "execute_result"
    }
   ],
   "source": [
    "a"
   ]
  },
  {
   "cell_type": "code",
   "execution_count": 27,
   "metadata": {
    "collapsed": false
   },
   "outputs": [
    {
     "data": {
      "text/plain": [
       "(441, 6092)"
      ]
     },
     "execution_count": 27,
     "metadata": {},
     "output_type": "execute_result"
    }
   ],
   "source": [
    "VtR.shape"
   ]
  },
  {
   "cell_type": "code",
   "execution_count": 28,
   "metadata": {
    "collapsed": false
   },
   "outputs": [],
   "source": [
    "V = pd.DataFrame(VtR)\n",
    "## each each row is a topic/combination of features (author, genre)\n",
    "## each col is a book\n",
    "\n",
    "# for each row, find 10 most relevent books\n",
    "\n",
    "# row_sums = np.empty(V.shape[1]) # initialize array\n",
    "# # find 10 largest values in each row\n",
    "# for i, row in enumerate(VtR):\n",
    "#     row_sums[i] = np.sum(row)\n",
    "    \n",
    "most_rel_books = []\n",
    "book_temp = []\n",
    "N = 10\n",
    "\n",
    "for row in VtR:\n",
    "    Row = row.tolist() # topic_i\n",
    "    for i in range(N):\n",
    "        book_temp.append(np.argmax(Row))\n",
    "        Row.pop(np.argmax(Row))\n",
    "    most_rel_books.append(book_temp) # 10 most relevent books to topic_i\n",
    "    book_temp = [] \n",
    "# result: 441 rows (features) each having 10 cols (relevent books)\n",
    "\n",
    "# match those 10 largest values to the books (cols)\n",
    "# use meta data to identify the topic of each row\n",
    "\n",
    "#### MATCHING\n",
    "\n",
    "# use book_index from V to identify corresponding ISBN in df_pivot\n",
    "# use ISBN to Identify book in meta data file\n",
    "# use 10 most relevent books to identify each topic (create df, then read off(infer) topics )\n",
    "\n",
    "\n",
    "\n",
    "\n"
   ]
  },
  {
   "cell_type": "code",
   "execution_count": 29,
   "metadata": {
    "collapsed": false
   },
   "outputs": [
    {
     "data": {
      "text/html": [
       "<div style=\"max-height:1000px;max-width:1500px;overflow:auto;\">\n",
       "<table border=\"1\" class=\"dataframe\">\n",
       "  <thead>\n",
       "    <tr style=\"text-align: right;\">\n",
       "      <th>Book</th>\n",
       "      <th>0006493580</th>\n",
       "      <th>000649840X</th>\n",
       "      <th>0006512135</th>\n",
       "      <th>0006513204</th>\n",
       "      <th>0006514855</th>\n",
       "      <th>0006547834</th>\n",
       "      <th>0006550576</th>\n",
       "      <th>0006550681</th>\n",
       "      <th>0006550789</th>\n",
       "      <th>0007110928</th>\n",
       "      <th>...</th>\n",
       "      <th>8495618605</th>\n",
       "      <th>8497593588</th>\n",
       "      <th>8804342838</th>\n",
       "      <th>8806142100</th>\n",
       "      <th>8806143042</th>\n",
       "      <th>8807813025</th>\n",
       "      <th>8817106100</th>\n",
       "      <th>8845205118</th>\n",
       "      <th>8873122933</th>\n",
       "      <th>8885989403</th>\n",
       "    </tr>\n",
       "    <tr>\n",
       "      <th>User</th>\n",
       "      <th></th>\n",
       "      <th></th>\n",
       "      <th></th>\n",
       "      <th></th>\n",
       "      <th></th>\n",
       "      <th></th>\n",
       "      <th></th>\n",
       "      <th></th>\n",
       "      <th></th>\n",
       "      <th></th>\n",
       "      <th></th>\n",
       "      <th></th>\n",
       "      <th></th>\n",
       "      <th></th>\n",
       "      <th></th>\n",
       "      <th></th>\n",
       "      <th></th>\n",
       "      <th></th>\n",
       "      <th></th>\n",
       "      <th></th>\n",
       "      <th></th>\n",
       "    </tr>\n",
       "  </thead>\n",
       "  <tbody>\n",
       "    <tr>\n",
       "      <th>243</th>\n",
       "      <td>-1</td>\n",
       "      <td>-1</td>\n",
       "      <td>-1</td>\n",
       "      <td>-1</td>\n",
       "      <td>-1</td>\n",
       "      <td>-1</td>\n",
       "      <td>-1</td>\n",
       "      <td>-1</td>\n",
       "      <td>-1</td>\n",
       "      <td>-1</td>\n",
       "      <td>...</td>\n",
       "      <td>-1</td>\n",
       "      <td>-1</td>\n",
       "      <td>-1</td>\n",
       "      <td>-1</td>\n",
       "      <td>-1</td>\n",
       "      <td>-1</td>\n",
       "      <td>-1</td>\n",
       "      <td>-1</td>\n",
       "      <td>-1</td>\n",
       "      <td>-1</td>\n",
       "    </tr>\n",
       "    <tr>\n",
       "      <th>254</th>\n",
       "      <td>-1</td>\n",
       "      <td>-1</td>\n",
       "      <td>-1</td>\n",
       "      <td>-1</td>\n",
       "      <td>-1</td>\n",
       "      <td>-1</td>\n",
       "      <td>-1</td>\n",
       "      <td>-1</td>\n",
       "      <td>-1</td>\n",
       "      <td>-1</td>\n",
       "      <td>...</td>\n",
       "      <td>-1</td>\n",
       "      <td>-1</td>\n",
       "      <td>-1</td>\n",
       "      <td>-1</td>\n",
       "      <td>-1</td>\n",
       "      <td>-1</td>\n",
       "      <td>-1</td>\n",
       "      <td>-1</td>\n",
       "      <td>-1</td>\n",
       "      <td>-1</td>\n",
       "    </tr>\n",
       "  </tbody>\n",
       "</table>\n",
       "<p>2 rows × 6092 columns</p>\n",
       "</div>"
      ],
      "text/plain": [
       "Book  0006493580  000649840X  0006512135  0006513204  0006514855  0006547834  \\\n",
       "User                                                                           \n",
       "243           -1          -1          -1          -1          -1          -1   \n",
       "254           -1          -1          -1          -1          -1          -1   \n",
       "\n",
       "Book  0006550576  0006550681  0006550789  0007110928     ...      8495618605  \\\n",
       "User                                                     ...                   \n",
       "243           -1          -1          -1          -1     ...              -1   \n",
       "254           -1          -1          -1          -1     ...              -1   \n",
       "\n",
       "Book  8497593588  8804342838  8806142100  8806143042  8807813025  8817106100  \\\n",
       "User                                                                           \n",
       "243           -1          -1          -1          -1          -1          -1   \n",
       "254           -1          -1          -1          -1          -1          -1   \n",
       "\n",
       "Book  8845205118  8873122933  8885989403  \n",
       "User                                      \n",
       "243           -1          -1          -1  \n",
       "254           -1          -1          -1  \n",
       "\n",
       "[2 rows x 6092 columns]"
      ]
     },
     "execution_count": 29,
     "metadata": {},
     "output_type": "execute_result"
    }
   ],
   "source": [
    "df_pivot.head(2)"
   ]
  },
  {
   "cell_type": "code",
   "execution_count": 30,
   "metadata": {
    "collapsed": false
   },
   "outputs": [
    {
     "data": {
      "text/plain": [
       "-1.0"
      ]
     },
     "execution_count": 30,
     "metadata": {},
     "output_type": "execute_result"
    }
   ],
   "source": [
    "df_pivot.iloc[243][0]"
   ]
  },
  {
   "cell_type": "code",
   "execution_count": 31,
   "metadata": {
    "collapsed": false
   },
   "outputs": [],
   "source": [
    "booksR = df_pivot.columns[:]"
   ]
  },
  {
   "cell_type": "code",
   "execution_count": 32,
   "metadata": {
    "collapsed": false
   },
   "outputs": [
    {
     "data": {
      "text/plain": [
       "'3423105518'"
      ]
     },
     "execution_count": 32,
     "metadata": {},
     "output_type": "execute_result"
    }
   ],
   "source": [
    "booksR[6034] # this is the brige between book index in Vt and book ISBN in df_pivot\n",
    "             # now make a list (same shape as most_rel_books?) filled with corresponding ISBN's"
   ]
  },
  {
   "cell_type": "code",
   "execution_count": 33,
   "metadata": {
    "collapsed": false
   },
   "outputs": [],
   "source": [
    "# contains 10 most relevent ISBN's from each row in topic space\n",
    "most_rel_isbn = []\n",
    "temp_isbn = []\n",
    "for row in most_rel_books:\n",
    "    for col in row:\n",
    "        temp_isbn.append(booksR[col])\n",
    "    most_rel_isbn.append(temp_isbn)\n",
    "    temp_isbn = []"
   ]
  },
  {
   "cell_type": "code",
   "execution_count": 34,
   "metadata": {
    "collapsed": false
   },
   "outputs": [
    {
     "name": "stdout",
     "output_type": "stream",
     "text": [
      "rows 441\n",
      "cols 10\n"
     ]
    }
   ],
   "source": [
    "print 'rows',len(most_rel_isbn)\n",
    "print 'cols',len(most_rel_isbn[0])"
   ]
  },
  {
   "cell_type": "code",
   "execution_count": 35,
   "metadata": {
    "collapsed": false
   },
   "outputs": [
    {
     "name": "stdout",
     "output_type": "stream",
     "text": [
      "rows 441\n",
      "cols 10\n"
     ]
    }
   ],
   "source": [
    "print 'rows',len(most_rel_books)\n",
    "print 'cols',len(most_rel_books[0])"
   ]
  },
  {
   "cell_type": "code",
   "execution_count": 428,
   "metadata": {
    "collapsed": false
   },
   "outputs": [],
   "source": [
    "most_rel_isbn;"
   ]
  },
  {
   "cell_type": "code",
   "execution_count": 429,
   "metadata": {
    "collapsed": false
   },
   "outputs": [],
   "source": [
    "# contains indicies of 10 most relevent books form each row in topic space\n",
    "most_rel_books;"
   ]
  },
  {
   "cell_type": "code",
   "execution_count": 43,
   "metadata": {
    "collapsed": false,
    "scrolled": true
   },
   "outputs": [
    {
     "name": "stderr",
     "output_type": "stream",
     "text": [
      "Skipping line 227933: expected 10 fields, saw 11\n",
      "\n"
     ]
    }
   ],
   "source": [
    "meta = pd.read_csv('/Users/Alexander/Downloads/book_meta.csv', delimiter = ';', error_bad_lines = False)"
   ]
  },
  {
   "cell_type": "markdown",
   "metadata": {},
   "source": [
    "Now that we have decomposed our matrices, let us try to examine the 'concept/topic' space. Each row of U connects users to concepts, and each row of V connects books to concepts. Examine U and V."
   ]
  },
  {
   "cell_type": "code",
   "execution_count": 39,
   "metadata": {
    "collapsed": false
   },
   "outputs": [
    {
     "name": "stderr",
     "output_type": "stream",
     "text": [
      "Skipping line 227933: expected 10 fields, saw 11\n",
      "\n",
      "//anaconda/lib/python2.7/site-packages/pandas/io/parsers.py:1164: DtypeWarning: Columns (3) have mixed types. Specify dtype option on import or set low_memory=False.\n",
      "  data = self._reader.read(nrows)\n"
     ]
    }
   ],
   "source": [
    "topic = pd.read_csv('data/book_meta.csv', delimiter=';', error_bad_lines=False, usecols=['ISBN', 'Book-Title','Book-Author','Year-Of-Publication','Publisher'])\n",
    "                                                                                        "
   ]
  },
  {
   "cell_type": "code",
   "execution_count": 40,
   "metadata": {
    "collapsed": false
   },
   "outputs": [],
   "source": [
    "# title_author = []\n",
    "# temp = []\n",
    "# for row in most_rel_isbn:\n",
    "#     for col in row:\n",
    "#         for i, isbn in enumerate(topic.ISBN):\n",
    "#             if isbn == col:\n",
    "#                 temp.append([topic['Book-Title'][i],topic['Book-Author'][i]])\n",
    "#     title_author.append(temp)             "
   ]
  },
  {
   "cell_type": "code",
   "execution_count": 41,
   "metadata": {
    "collapsed": false
   },
   "outputs": [
    {
     "data": {
      "text/plain": [
       "ISBN                                                          140003180X\n",
       "Book-Title             The Kalahari Typing School for Men (No. 1 Ladi...\n",
       "Book-Author                                       ALEXANDER MCCALL SMITH\n",
       "Year-Of-Publication                                                 2004\n",
       "Publisher                                                         Anchor\n",
       "Name: 243, dtype: object"
      ]
     },
     "execution_count": 41,
     "metadata": {},
     "output_type": "execute_result"
    }
   ],
   "source": [
    "topic.iloc[243]"
   ]
  },
  {
   "cell_type": "code",
   "execution_count": 44,
   "metadata": {
    "collapsed": false
   },
   "outputs": [],
   "source": [
    "metaspace = topic.set_index('ISBN')"
   ]
  },
  {
   "cell_type": "code",
   "execution_count": 45,
   "metadata": {
    "collapsed": false
   },
   "outputs": [
    {
     "data": {
      "text/html": [
       "<div style=\"max-height:1000px;max-width:1500px;overflow:auto;\">\n",
       "<table border=\"1\" class=\"dataframe\">\n",
       "  <thead>\n",
       "    <tr style=\"text-align: right;\">\n",
       "      <th></th>\n",
       "      <th>Book-Title</th>\n",
       "      <th>Book-Author</th>\n",
       "      <th>Year-Of-Publication</th>\n",
       "      <th>Publisher</th>\n",
       "    </tr>\n",
       "    <tr>\n",
       "      <th>ISBN</th>\n",
       "      <th></th>\n",
       "      <th></th>\n",
       "      <th></th>\n",
       "      <th></th>\n",
       "    </tr>\n",
       "  </thead>\n",
       "  <tbody>\n",
       "    <tr>\n",
       "      <th>0195153448</th>\n",
       "      <td>Classical Mythology</td>\n",
       "      <td>Mark P. O. Morford</td>\n",
       "      <td>2002</td>\n",
       "      <td>Oxford University Press</td>\n",
       "    </tr>\n",
       "    <tr>\n",
       "      <th>0002005018</th>\n",
       "      <td>Clara Callan</td>\n",
       "      <td>Richard Bruce Wright</td>\n",
       "      <td>2001</td>\n",
       "      <td>HarperFlamingo Canada</td>\n",
       "    </tr>\n",
       "  </tbody>\n",
       "</table>\n",
       "</div>"
      ],
      "text/plain": [
       "                     Book-Title           Book-Author Year-Of-Publication  \\\n",
       "ISBN                                                                        \n",
       "0195153448  Classical Mythology    Mark P. O. Morford                2002   \n",
       "0002005018         Clara Callan  Richard Bruce Wright                2001   \n",
       "\n",
       "                          Publisher  \n",
       "ISBN                                 \n",
       "0195153448  Oxford University Press  \n",
       "0002005018    HarperFlamingo Canada  "
      ]
     },
     "execution_count": 45,
     "metadata": {},
     "output_type": "execute_result"
    }
   ],
   "source": [
    "metaspace.head(2)"
   ]
  },
  {
   "cell_type": "code",
   "execution_count": 430,
   "metadata": {
    "collapsed": false
   },
   "outputs": [],
   "source": [
    "most_rel_isbn;"
   ]
  },
  {
   "cell_type": "code",
   "execution_count": 47,
   "metadata": {
    "collapsed": false,
    "scrolled": true
   },
   "outputs": [
    {
     "name": "stdout",
     "output_type": "stream",
     "text": [
      "Author:   Andrea De Carlo\n",
      "Book:     Due di due (Bestsellers)\n"
     ]
    }
   ],
   "source": [
    "print 'Author:  ',metaspace['Book-Author']['8804342838']\n",
    "print 'Book:    ',metaspace['Book-Title']['8804342838']"
   ]
  },
  {
   "cell_type": "code",
   "execution_count": 51,
   "metadata": {
    "collapsed": false
   },
   "outputs": [],
   "source": [
    "topicspace = []\n",
    "temp = []\n",
    "isbn_error =[]\n",
    "for row in most_rel_isbn:\n",
    "    for isbn in row:\n",
    "        try:\n",
    "            temp.append([metaspace['Book-Title'][isbn],metaspace['Book-Author'][isbn]])\n",
    "        except:\n",
    "            isbn_error.append(isbn)\n",
    "    topicspace.append(temp)\n",
    "    temp = []"
   ]
  },
  {
   "cell_type": "code",
   "execution_count": 52,
   "metadata": {
    "collapsed": false
   },
   "outputs": [],
   "source": [
    "book_topic_space = pd.DataFrame(topicspace)"
   ]
  },
  {
   "cell_type": "code",
   "execution_count": 53,
   "metadata": {
    "collapsed": false
   },
   "outputs": [
    {
     "data": {
      "text/plain": [
       "[['Divine Secrets of the Ya-Ya Sisterhood: A Novel', 'Rebecca Wells'],\n",
       " ['Circle of Friends', 'Maeve Binchy'],\n",
       " ['The Celestine Prophecy', 'James Redfield'],\n",
       " ['Guardian Angel', 'Sara Paretsky'],\n",
       " ['Castle of Wizardry (The Belgariad, Book 4)', 'David Eddings'],\n",
       " [\"A Maiden's Grave\", 'Jeff Deaver'],\n",
       " ['Desperation', 'Stephen King'],\n",
       " ['Doctor Zhivago', 'BORIS PASTERNAK'],\n",
       " ['The Bone Collector (Lincoln Rhyme Novels (Paperback))', 'Jeff Deaver'],\n",
       " ['Tales of a Fourth Grade Nothing', 'JUDY BLUME']]"
      ]
     },
     "execution_count": 53,
     "metadata": {},
     "output_type": "execute_result"
    }
   ],
   "source": [
    "topicspace[50] # the 50th topic "
   ]
  },
  {
   "cell_type": "markdown",
   "metadata": {},
   "source": [
    "###Book Topic Space\n",
    "\n",
    "Row1 appears to be comprised of forigen books \n",
    "\n",
    "Row2 appears to be comprised of death novels \n",
    "\n",
    "Row3 appears to be comprised of murder thrillers"
   ]
  },
  {
   "cell_type": "code",
   "execution_count": 54,
   "metadata": {
    "collapsed": false
   },
   "outputs": [
    {
     "data": {
      "text/html": [
       "<div style=\"max-height:1000px;max-width:1500px;overflow:auto;\">\n",
       "<table border=\"1\" class=\"dataframe\">\n",
       "  <thead>\n",
       "    <tr style=\"text-align: right;\">\n",
       "      <th></th>\n",
       "      <th>0</th>\n",
       "      <th>1</th>\n",
       "      <th>2</th>\n",
       "      <th>3</th>\n",
       "      <th>4</th>\n",
       "      <th>5</th>\n",
       "      <th>6</th>\n",
       "      <th>7</th>\n",
       "      <th>8</th>\n",
       "      <th>9</th>\n",
       "    </tr>\n",
       "  </thead>\n",
       "  <tbody>\n",
       "    <tr>\n",
       "      <th>0</th>\n",
       "      <td>[Name Der Rose, Umberto Eco]</td>\n",
       "      <td>[Monsieur Ibrahim und die Blumen des Koran. Er...</td>\n",
       "      <td>[Das Geisterhaus. Roman., Isabel Allende]</td>\n",
       "      <td>[Due di due (Bestsellers), Andrea De Carlo]</td>\n",
       "      <td>[Der Vorleser, Bernhard Schlink]</td>\n",
       "      <td>[New Vegetarian: Bold and Beautiful Recipes fo...</td>\n",
       "      <td>[Je Voudrais Que Quelqu'un M'Attende Quelque P...</td>\n",
       "      <td>[Schlafes Bruder, Robert Schneider]</td>\n",
       "      <td>None</td>\n",
       "      <td>None</td>\n",
       "    </tr>\n",
       "    <tr>\n",
       "      <th>1</th>\n",
       "      <td>[The Red Tent (Bestselling Backlist), Anita Di...</td>\n",
       "      <td>[1st to Die: A Novel, James Patterson]</td>\n",
       "      <td>[Oryx and Crake, Margaret Atwood]</td>\n",
       "      <td>[The Virgin Suicides, Jeffrey Eugenides]</td>\n",
       "      <td>[FLOOD TIDE, Clive Cussler]</td>\n",
       "      <td>[Nobody's Fool (Vintage Contemporaries), Richa...</td>\n",
       "      <td>[Kristy's Great Idea (The Baby-Sitter's Club #...</td>\n",
       "      <td>[Beneath the Skin, Nicci French]</td>\n",
       "      <td>[Pay It Forward, Catherine Ryan Hyde]</td>\n",
       "      <td>[Arranged Marriage: Stories, Chitra Banerjee D...</td>\n",
       "    </tr>\n",
       "    <tr>\n",
       "      <th>2</th>\n",
       "      <td>[Dance upon the Air (Three Sisters Island Tril...</td>\n",
       "      <td>[Headwind, John J. Nance]</td>\n",
       "      <td>[Heart of the Sea (Irish Trilogy), Nora Roberts]</td>\n",
       "      <td>[Jewels of the Sun (Irish Trilogy), Nora Roberts]</td>\n",
       "      <td>[Once upon a Midnight, Nora Roberts]</td>\n",
       "      <td>[The Soldier Spies (Men at War (Paperback Jove...</td>\n",
       "      <td>[Acid Row, Minette Walters]</td>\n",
       "      <td>[Headhunters, Jules Bass]</td>\n",
       "      <td>[Eleventh Hour: An FBI Thriller (FBI Thriller ...</td>\n",
       "      <td>[Purity in Death, J.D. Robb]</td>\n",
       "    </tr>\n",
       "  </tbody>\n",
       "</table>\n",
       "</div>"
      ],
      "text/plain": [
       "                                                   0  \\\n",
       "0                       [Name Der Rose, Umberto Eco]   \n",
       "1  [The Red Tent (Bestselling Backlist), Anita Di...   \n",
       "2  [Dance upon the Air (Three Sisters Island Tril...   \n",
       "\n",
       "                                                   1  \\\n",
       "0  [Monsieur Ibrahim und die Blumen des Koran. Er...   \n",
       "1             [1st to Die: A Novel, James Patterson]   \n",
       "2                          [Headwind, John J. Nance]   \n",
       "\n",
       "                                                  2  \\\n",
       "0         [Das Geisterhaus. Roman., Isabel Allende]   \n",
       "1                 [Oryx and Crake, Margaret Atwood]   \n",
       "2  [Heart of the Sea (Irish Trilogy), Nora Roberts]   \n",
       "\n",
       "                                                   3  \\\n",
       "0        [Due di due (Bestsellers), Andrea De Carlo]   \n",
       "1           [The Virgin Suicides, Jeffrey Eugenides]   \n",
       "2  [Jewels of the Sun (Irish Trilogy), Nora Roberts]   \n",
       "\n",
       "                                      4  \\\n",
       "0      [Der Vorleser, Bernhard Schlink]   \n",
       "1           [FLOOD TIDE, Clive Cussler]   \n",
       "2  [Once upon a Midnight, Nora Roberts]   \n",
       "\n",
       "                                                   5  \\\n",
       "0  [New Vegetarian: Bold and Beautiful Recipes fo...   \n",
       "1  [Nobody's Fool (Vintage Contemporaries), Richa...   \n",
       "2  [The Soldier Spies (Men at War (Paperback Jove...   \n",
       "\n",
       "                                                   6  \\\n",
       "0  [Je Voudrais Que Quelqu'un M'Attende Quelque P...   \n",
       "1  [Kristy's Great Idea (The Baby-Sitter's Club #...   \n",
       "2                        [Acid Row, Minette Walters]   \n",
       "\n",
       "                                     7  \\\n",
       "0  [Schlafes Bruder, Robert Schneider]   \n",
       "1     [Beneath the Skin, Nicci French]   \n",
       "2            [Headhunters, Jules Bass]   \n",
       "\n",
       "                                                   8  \\\n",
       "0                                               None   \n",
       "1              [Pay It Forward, Catherine Ryan Hyde]   \n",
       "2  [Eleventh Hour: An FBI Thriller (FBI Thriller ...   \n",
       "\n",
       "                                                   9  \n",
       "0                                               None  \n",
       "1  [Arranged Marriage: Stories, Chitra Banerjee D...  \n",
       "2                       [Purity in Death, J.D. Robb]  "
      ]
     },
     "execution_count": 54,
     "metadata": {},
     "output_type": "execute_result"
    }
   ],
   "source": [
    "# each row is a book topic\n",
    "# each row contains the 10 most relevent authors in that specific book space\n",
    "book_topic_space.head(3)"
   ]
  },
  {
   "cell_type": "markdown",
   "metadata": {},
   "source": [
    "###Relating Users to Book Topic Space"
   ]
  },
  {
   "cell_type": "code",
   "execution_count": null,
   "metadata": {
    "collapsed": false
   },
   "outputs": [],
   "source": [
    "Ur = Ur.T"
   ]
  },
  {
   "cell_type": "code",
   "execution_count": 55,
   "metadata": {
    "collapsed": false
   },
   "outputs": [
    {
     "name": "stdout",
     "output_type": "stream",
     "text": [
      "Rows: Users 2500        Cols: Features  441\n"
     ]
    }
   ],
   "source": [
    "# every row in Ur connects Users to Concepts\n",
    "# by taking the transpose, we can apply the same steps as used for Vtrans \n",
    "print 'Rows: Users {0}        Cols: Features  {1}'.format(Ur.shape[0],Ur.shape[1])"
   ]
  },
  {
   "cell_type": "code",
   "execution_count": 56,
   "metadata": {
    "collapsed": false
   },
   "outputs": [
    {
     "data": {
      "text/plain": [
       "(2500, 441)"
      ]
     },
     "execution_count": 56,
     "metadata": {},
     "output_type": "execute_result"
    }
   ],
   "source": [
    "Ur.shape"
   ]
  },
  {
   "cell_type": "code",
   "execution_count": 57,
   "metadata": {
    "collapsed": false
   },
   "outputs": [
    {
     "data": {
      "text/plain": [
       "array([[-0.02033966,  0.00327259, -0.0055954 , ..., -0.01323167,\n",
       "         0.01012999,  0.00793676],\n",
       "       [-0.01995877,  0.00508901, -0.0124744 , ..., -0.00329457,\n",
       "         0.0269036 ,  0.02002854],\n",
       "       [-0.02021076, -0.00307725,  0.00203474, ...,  0.01494965,\n",
       "        -0.0279363 ,  0.01868414],\n",
       "       ..., \n",
       "       [-0.02044646, -0.00206253,  0.00515836, ..., -0.01529038,\n",
       "         0.01391078,  0.01083859],\n",
       "       [-0.02015641,  0.00300546, -0.00986437, ...,  0.00976956,\n",
       "        -0.01524418,  0.0423071 ],\n",
       "       [-0.02051077,  0.00098357, -0.00135933, ..., -0.00886136,\n",
       "        -0.00024606,  0.01587149]])"
      ]
     },
     "execution_count": 57,
     "metadata": {},
     "output_type": "execute_result"
    }
   ],
   "source": [
    "Ur"
   ]
  },
  {
   "cell_type": "code",
   "execution_count": 58,
   "metadata": {
    "collapsed": false
   },
   "outputs": [],
   "source": [
    "# # find 10 largest values in each row\n",
    "most_rel_users = []\n",
    "user_temp = []\n",
    "N = 10\n",
    "for row in Ur:\n",
    "    Row = row.tolist() # user_j , 2500 users\n",
    "    for _ in range(N): # feature_i , 10 features\n",
    "        user_temp.append(np.argmax(Row))\n",
    "        Row.pop(np.argmax(Row))\n",
    "    most_rel_users.append(user_temp) # 10 most relevent books to topic_i\n",
    "    user_temp = [] \n",
    "\n",
    "# result: 441 rows (features) each having 10 cols (relevent users)\n",
    "\n",
    "# match those 10 largest values to the users (cols)\n",
    "# use meta data to identify the topic of each row\n",
    "\n",
    "#### MATCHING\n",
    "\n",
    "# use book_index from Ur to identify corresponding Uers in df_pivot\n",
    "# use ISBN to Identify book in meta data file\n",
    "# use 10 most relevent books to identify each topic (create df, then read off(infer) topics )"
   ]
  },
  {
   "cell_type": "code",
   "execution_count": 59,
   "metadata": {
    "collapsed": false
   },
   "outputs": [
    {
     "name": "stdout",
     "output_type": "stream",
     "text": [
      "2500\n",
      "10\n"
     ]
    },
    {
     "data": {
      "text/plain": [
       "[311, 385, 313, 25, 385, 361, 216, 429, 239, 409]"
      ]
     },
     "execution_count": 59,
     "metadata": {},
     "output_type": "execute_result"
    }
   ],
   "source": [
    "# Type of books will reflect topic favored by user \n",
    "print len(most_rel_users)    # num of users\n",
    "print len(most_rel_users[0]) # num of books per user\n",
    "most_rel_users[10]           # indcies of books that are associated with the prefered \n",
    "                             # topic space of each 2500 users"
   ]
  },
  {
   "cell_type": "code",
   "execution_count": 60,
   "metadata": {
    "collapsed": true
   },
   "outputs": [],
   "source": [
    "# contains 10 most relevent ISBN's for each book in each user's favored topic space\n",
    "most_rel_isbn_user = []\n",
    "temp_isbn = []\n",
    "for row in most_rel_users:  # 2500 rows/users\n",
    "    for col in row:         # 10 cols/books \n",
    "        temp_isbn.append(booksR[col])\n",
    "    most_rel_isbn_user.append(temp_isbn)\n",
    "    temp_isbn = []"
   ]
  },
  {
   "cell_type": "code",
   "execution_count": 61,
   "metadata": {
    "collapsed": false,
    "scrolled": true
   },
   "outputs": [],
   "source": [
    "#most_rel_isbn_user ## contains 10 books for each 2500 users"
   ]
  },
  {
   "cell_type": "code",
   "execution_count": 62,
   "metadata": {
    "collapsed": false
   },
   "outputs": [
    {
     "name": "stdout",
     "output_type": "stream",
     "text": [
      "2500\n",
      "10\n",
      "<type 'str'>\n"
     ]
    }
   ],
   "source": [
    "print len(most_rel_isbn_user)\n",
    "print len(most_rel_isbn_user[0])\n",
    "print type(most_rel_isbn_user[0][0])"
   ]
  },
  {
   "cell_type": "code",
   "execution_count": 63,
   "metadata": {
    "collapsed": false
   },
   "outputs": [
    {
     "data": {
      "text/plain": [
       "'0064405176'"
      ]
     },
     "execution_count": 63,
     "metadata": {},
     "output_type": "execute_result"
    }
   ],
   "source": [
    "most_rel_isbn_user[0][0]"
   ]
  },
  {
   "cell_type": "code",
   "execution_count": 64,
   "metadata": {
    "collapsed": false
   },
   "outputs": [],
   "source": [
    "topic_space_user = []\n",
    "temp = []\n",
    "user_error =[]\n",
    "for user in most_rel_isbn_user: # i_user out of 2500\n",
    "    for isbn in user:           # j_book out of 10\n",
    "        try:\n",
    "            temp.append([metaspace['Book-Title'][isbn],metaspace['Book-Author'][isbn]])\n",
    "        except:\n",
    "            user_error.append(isbn)\n",
    "    topic_space_user.append(temp)\n",
    "    temp = []"
   ]
  },
  {
   "cell_type": "code",
   "execution_count": 65,
   "metadata": {
    "collapsed": false
   },
   "outputs": [
    {
     "data": {
      "text/plain": [
       "[['Circle of Three: A Novel', 'Patricia Gaffney'],\n",
       " ['Stuart Little', 'E. B. White'],\n",
       " ['The Terrible Hours', 'Peter Maas'],\n",
       " ['The Silver Chair', 'C. S. Lewis'],\n",
       " ['Little Town on the Prairie', 'Laura Ingalls Wilder'],\n",
       " ['Catherine, Called Birdy (Trophy Newbery)', 'Karen Cushman'],\n",
       " [\"The Woman's Comfort Book : A Self-Nurturing Guide for Restoring Balance in Your Life\",\n",
       "  'Jennifer Louden'],\n",
       " ['Divine Secrets of the Ya-Ya Sisterhood: A Novel', 'Rebecca Wells'],\n",
       " [\"Carpenter's Lady, The, NEW EDITION\", 'Barbara Delinsky'],\n",
       " ['The Secret Garden', 'Frances Hodgson Burnett']]"
      ]
     },
     "execution_count": 65,
     "metadata": {},
     "output_type": "execute_result"
    }
   ],
   "source": [
    "topic_space_user[35] ## books prefered by user 35\n",
    "                     ## women's interest literature "
   ]
  },
  {
   "cell_type": "code",
   "execution_count": 66,
   "metadata": {
    "collapsed": true
   },
   "outputs": [],
   "source": [
    "user_topic = pd.DataFrame(topic_space_user)"
   ]
  },
  {
   "cell_type": "code",
   "execution_count": 67,
   "metadata": {
    "collapsed": false
   },
   "outputs": [
    {
     "data": {
      "text/html": [
       "<div style=\"max-height:1000px;max-width:1500px;overflow:auto;\">\n",
       "<table border=\"1\" class=\"dataframe\">\n",
       "  <thead>\n",
       "    <tr style=\"text-align: right;\">\n",
       "      <th></th>\n",
       "      <th>0</th>\n",
       "      <th>1</th>\n",
       "      <th>2</th>\n",
       "      <th>3</th>\n",
       "      <th>4</th>\n",
       "      <th>5</th>\n",
       "      <th>6</th>\n",
       "      <th>7</th>\n",
       "      <th>8</th>\n",
       "      <th>9</th>\n",
       "    </tr>\n",
       "  </thead>\n",
       "  <tbody>\n",
       "    <tr>\n",
       "      <th>2498</th>\n",
       "      <td>[The Bean Trees, Barbara Kingsolver]</td>\n",
       "      <td>[Fault Lines, Anne Rivers Siddons]</td>\n",
       "      <td>[Joshua, Joseph F Girzone]</td>\n",
       "      <td>[Angus, Thongs and Full-Frontal Snogging: Conf...</td>\n",
       "      <td>[The Vendetta Defense, Lisa Scottoline]</td>\n",
       "      <td>[Dragonwings : Golden Mountain Chronicles: 190...</td>\n",
       "      <td>[Lost, Gregory Maguire]</td>\n",
       "      <td>[The Saving Graces: A Novel, Patricia Gaffney]</td>\n",
       "      <td>[A Little Princess, Frances Hodgson Burnett]</td>\n",
       "      <td>[CADDIE WOODLAWN, Carol Ryrie Brink]</td>\n",
       "    </tr>\n",
       "    <tr>\n",
       "      <th>2499</th>\n",
       "      <td>[The Magician's Nephew (Narnia), C. S. Lewis]</td>\n",
       "      <td>[Prince Caspian (rack) : The Return to Narnia ...</td>\n",
       "      <td>[Switcheroo : A Novel, Olivia Goldsmith]</td>\n",
       "      <td>[Finding Moon, Tony Hillerman]</td>\n",
       "      <td>[Equal Rites (Discworld Novels (Paperback)), T...</td>\n",
       "      <td>[The Yearling (Scribner Classics), Marjorie Ki...</td>\n",
       "      <td>[Catherine, Called Birdy (Trophy Newbery), Kar...</td>\n",
       "      <td>[When Strangers Marry, Lisa Kleypas]</td>\n",
       "      <td>[To Cut a Long Story Short, Jeffrey Archer]</td>\n",
       "      <td>[Running from the Law, Lisa Scottoline]</td>\n",
       "    </tr>\n",
       "  </tbody>\n",
       "</table>\n",
       "</div>"
      ],
      "text/plain": [
       "                                                  0  \\\n",
       "2498           [The Bean Trees, Barbara Kingsolver]   \n",
       "2499  [The Magician's Nephew (Narnia), C. S. Lewis]   \n",
       "\n",
       "                                                      1  \\\n",
       "2498                 [Fault Lines, Anne Rivers Siddons]   \n",
       "2499  [Prince Caspian (rack) : The Return to Narnia ...   \n",
       "\n",
       "                                             2  \\\n",
       "2498                [Joshua, Joseph F Girzone]   \n",
       "2499  [Switcheroo : A Novel, Olivia Goldsmith]   \n",
       "\n",
       "                                                      3  \\\n",
       "2498  [Angus, Thongs and Full-Frontal Snogging: Conf...   \n",
       "2499                     [Finding Moon, Tony Hillerman]   \n",
       "\n",
       "                                                      4  \\\n",
       "2498            [The Vendetta Defense, Lisa Scottoline]   \n",
       "2499  [Equal Rites (Discworld Novels (Paperback)), T...   \n",
       "\n",
       "                                                      5  \\\n",
       "2498  [Dragonwings : Golden Mountain Chronicles: 190...   \n",
       "2499  [The Yearling (Scribner Classics), Marjorie Ki...   \n",
       "\n",
       "                                                      6  \\\n",
       "2498                            [Lost, Gregory Maguire]   \n",
       "2499  [Catherine, Called Birdy (Trophy Newbery), Kar...   \n",
       "\n",
       "                                                   7  \\\n",
       "2498  [The Saving Graces: A Novel, Patricia Gaffney]   \n",
       "2499            [When Strangers Marry, Lisa Kleypas]   \n",
       "\n",
       "                                                 8  \\\n",
       "2498  [A Little Princess, Frances Hodgson Burnett]   \n",
       "2499   [To Cut a Long Story Short, Jeffrey Archer]   \n",
       "\n",
       "                                            9  \n",
       "2498     [CADDIE WOODLAWN, Carol Ryrie Brink]  \n",
       "2499  [Running from the Law, Lisa Scottoline]  "
      ]
     },
     "execution_count": 67,
     "metadata": {},
     "output_type": "execute_result"
    }
   ],
   "source": [
    "user_topic.tail(2)"
   ]
  },
  {
   "cell_type": "markdown",
   "metadata": {},
   "source": [
    "You can map a new user into 'concept space' by multiplying by V. Create a new user (or take an existing one) and map them into 'concept space' by multiplying their rating vector by V. What is their representation in this new space?"
   ]
  },
  {
   "cell_type": "markdown",
   "metadata": {},
   "source": [
    "maping any given user onto concept space will result "
   ]
  },
  {
   "cell_type": "markdown",
   "metadata": {},
   "source": [
    "##Extra: Visualizing High Dimensional Data"
   ]
  },
  {
   "cell_type": "code",
   "execution_count": 222,
   "metadata": {
    "collapsed": false
   },
   "outputs": [],
   "source": [
    "import os\n",
    "path = '/Users/Alexander/DSCI6003-student/week1/exercise/data/senate/'\n",
    "filelist = os.listdir(path)\n",
    "df_dic = {f_id:pd.read_csv(path+file) for f_id, file in enumerate(filelist)}\n",
    "senate = pd.concat(df_dic)"
   ]
  },
  {
   "cell_type": "code",
   "execution_count": 223,
   "metadata": {
    "collapsed": true
   },
   "outputs": [],
   "source": [
    "import regex as re"
   ]
  },
  {
   "cell_type": "code",
   "execution_count": 224,
   "metadata": {
    "collapsed": true
   },
   "outputs": [],
   "source": [
    "#re bin / relable all the vote items\n",
    "#make a list comprehension to filter through all the column names to find the relveant ones\n",
    "\n",
    "vote_col = [col for col in senate.columns if re.search(r'[vV]',col) ]\n",
    "nonvote_col = [col for col in senate.columns if not re.search(r'[vV]',col) ]"
   ]
  },
  {
   "cell_type": "code",
   "execution_count": 225,
   "metadata": {
    "collapsed": false
   },
   "outputs": [
    {
     "data": {
      "text/plain": [
       "['Unnamed: 0', 'attainoffice', 'cong', 'congress', 'dist', 'eh1', 'eh2']"
      ]
     },
     "execution_count": 225,
     "metadata": {},
     "output_type": "execute_result"
    }
   ],
   "source": [
    "nonvote_col[:7]"
   ]
  },
  {
   "cell_type": "code",
   "execution_count": 229,
   "metadata": {
    "collapsed": true
   },
   "outputs": [],
   "source": [
    "vote_df = senate[vote_col]\n",
    "nonvote_df = senate[nonvote_col]"
   ]
  },
  {
   "cell_type": "code",
   "execution_count": 236,
   "metadata": {
    "collapsed": false
   },
   "outputs": [
    {
     "data": {
      "text/html": [
       "<div style=\"max-height:1000px;max-width:1500px;overflow:auto;\">\n",
       "<table border=\"1\" class=\"dataframe\">\n",
       "  <thead>\n",
       "    <tr style=\"text-align: right;\">\n",
       "      <th></th>\n",
       "      <th>Unnamed: 0</th>\n",
       "      <th>attainoffice</th>\n",
       "      <th>cong</th>\n",
       "      <th>congress</th>\n",
       "      <th>dist</th>\n",
       "      <th>eh1</th>\n",
       "      <th>eh2</th>\n",
       "      <th>id</th>\n",
       "      <th>idno</th>\n",
       "      <th>lstate</th>\n",
       "      <th>name</th>\n",
       "      <th>occup</th>\n",
       "      <th>occupancy</th>\n",
       "      <th>office</th>\n",
       "      <th>party</th>\n",
       "      <th>state</th>\n",
       "      <th>statenm</th>\n",
       "    </tr>\n",
       "  </thead>\n",
       "  <tbody>\n",
       "    <tr>\n",
       "      <th>0</th>\n",
       "      <td>1</td>\n",
       "      <td>NaN</td>\n",
       "      <td>111</td>\n",
       "      <td>NaN</td>\n",
       "      <td>0</td>\n",
       "      <td>0</td>\n",
       "      <td>0</td>\n",
       "      <td>99911</td>\n",
       "      <td>NaN</td>\n",
       "      <td>USA</td>\n",
       "      <td>OBAMA</td>\n",
       "      <td>NaN</td>\n",
       "      <td>NaN</td>\n",
       "      <td>NaN</td>\n",
       "      <td>100</td>\n",
       "      <td>99</td>\n",
       "      <td>NaN</td>\n",
       "    </tr>\n",
       "    <tr>\n",
       "      <th>1</th>\n",
       "      <td>2</td>\n",
       "      <td>NaN</td>\n",
       "      <td>111</td>\n",
       "      <td>NaN</td>\n",
       "      <td>0</td>\n",
       "      <td>0</td>\n",
       "      <td>1</td>\n",
       "      <td>49700</td>\n",
       "      <td>NaN</td>\n",
       "      <td>ALABAMA</td>\n",
       "      <td>SESSIONS</td>\n",
       "      <td>NaN</td>\n",
       "      <td>NaN</td>\n",
       "      <td>NaN</td>\n",
       "      <td>200</td>\n",
       "      <td>41</td>\n",
       "      <td>NaN</td>\n",
       "    </tr>\n",
       "    <tr>\n",
       "      <th>2</th>\n",
       "      <td>3</td>\n",
       "      <td>NaN</td>\n",
       "      <td>111</td>\n",
       "      <td>NaN</td>\n",
       "      <td>0</td>\n",
       "      <td>0</td>\n",
       "      <td>1</td>\n",
       "      <td>94659</td>\n",
       "      <td>NaN</td>\n",
       "      <td>ALABAMA</td>\n",
       "      <td>SHELBY</td>\n",
       "      <td>NaN</td>\n",
       "      <td>NaN</td>\n",
       "      <td>NaN</td>\n",
       "      <td>200</td>\n",
       "      <td>41</td>\n",
       "      <td>NaN</td>\n",
       "    </tr>\n",
       "    <tr>\n",
       "      <th>3</th>\n",
       "      <td>4</td>\n",
       "      <td>NaN</td>\n",
       "      <td>111</td>\n",
       "      <td>NaN</td>\n",
       "      <td>0</td>\n",
       "      <td>0</td>\n",
       "      <td>1</td>\n",
       "      <td>40300</td>\n",
       "      <td>NaN</td>\n",
       "      <td>ALASKA</td>\n",
       "      <td>MURKOWSKI</td>\n",
       "      <td>NaN</td>\n",
       "      <td>NaN</td>\n",
       "      <td>NaN</td>\n",
       "      <td>200</td>\n",
       "      <td>81</td>\n",
       "      <td>NaN</td>\n",
       "    </tr>\n",
       "    <tr>\n",
       "      <th>4</th>\n",
       "      <td>5</td>\n",
       "      <td>NaN</td>\n",
       "      <td>111</td>\n",
       "      <td>NaN</td>\n",
       "      <td>0</td>\n",
       "      <td>0</td>\n",
       "      <td>1</td>\n",
       "      <td>40900</td>\n",
       "      <td>NaN</td>\n",
       "      <td>ALASKA</td>\n",
       "      <td>BEGICH</td>\n",
       "      <td>NaN</td>\n",
       "      <td>NaN</td>\n",
       "      <td>NaN</td>\n",
       "      <td>100</td>\n",
       "      <td>81</td>\n",
       "      <td>NaN</td>\n",
       "    </tr>\n",
       "  </tbody>\n",
       "</table>\n",
       "</div>"
      ],
      "text/plain": [
       "   Unnamed: 0  attainoffice  cong  congress  dist  eh1  eh2     id  idno  \\\n",
       "0           1           NaN   111       NaN     0    0    0  99911   NaN   \n",
       "1           2           NaN   111       NaN     0    0    1  49700   NaN   \n",
       "2           3           NaN   111       NaN     0    0    1  94659   NaN   \n",
       "3           4           NaN   111       NaN     0    0    1  40300   NaN   \n",
       "4           5           NaN   111       NaN     0    0    1  40900   NaN   \n",
       "\n",
       "    lstate         name  occup  occupancy  office  party  state statenm  \n",
       "0  USA      OBAMA          NaN        NaN     NaN    100     99     NaN  \n",
       "1  ALABAMA  SESSIONS       NaN        NaN     NaN    200     41     NaN  \n",
       "2  ALABAMA  SHELBY         NaN        NaN     NaN    200     41     NaN  \n",
       "3  ALASKA   MURKOWSKI      NaN        NaN     NaN    200     81     NaN  \n",
       "4  ALASKA   BEGICH         NaN        NaN     NaN    100     81     NaN  "
      ]
     },
     "execution_count": 236,
     "metadata": {},
     "output_type": "execute_result"
    }
   ],
   "source": [
    "nonvote_df.loc[10].head()"
   ]
  },
  {
   "cell_type": "code",
   "execution_count": 235,
   "metadata": {
    "collapsed": false
   },
   "outputs": [
    {
     "data": {
      "text/html": [
       "<div style=\"max-height:1000px;max-width:1500px;overflow:auto;\">\n",
       "<table border=\"1\" class=\"dataframe\">\n",
       "  <thead>\n",
       "    <tr style=\"text-align: right;\">\n",
       "      <th></th>\n",
       "      <th>V1</th>\n",
       "      <th>V10</th>\n",
       "      <th>V100</th>\n",
       "      <th>V101</th>\n",
       "      <th>V102</th>\n",
       "      <th>V103</th>\n",
       "      <th>V104</th>\n",
       "      <th>V105</th>\n",
       "      <th>V106</th>\n",
       "      <th>V107</th>\n",
       "      <th>...</th>\n",
       "      <th>var90</th>\n",
       "      <th>var91</th>\n",
       "      <th>var92</th>\n",
       "      <th>var93</th>\n",
       "      <th>var94</th>\n",
       "      <th>var95</th>\n",
       "      <th>var96</th>\n",
       "      <th>var97</th>\n",
       "      <th>var98</th>\n",
       "      <th>var99</th>\n",
       "    </tr>\n",
       "  </thead>\n",
       "  <tbody>\n",
       "    <tr>\n",
       "      <th>0</th>\n",
       "      <td>9</td>\n",
       "      <td>9</td>\n",
       "      <td>1</td>\n",
       "      <td>9</td>\n",
       "      <td>9</td>\n",
       "      <td>9</td>\n",
       "      <td>9</td>\n",
       "      <td>9</td>\n",
       "      <td>9</td>\n",
       "      <td>1</td>\n",
       "      <td>...</td>\n",
       "      <td>NaN</td>\n",
       "      <td>NaN</td>\n",
       "      <td>NaN</td>\n",
       "      <td>NaN</td>\n",
       "      <td>NaN</td>\n",
       "      <td>NaN</td>\n",
       "      <td>NaN</td>\n",
       "      <td>NaN</td>\n",
       "      <td>NaN</td>\n",
       "      <td>NaN</td>\n",
       "    </tr>\n",
       "    <tr>\n",
       "      <th>1</th>\n",
       "      <td>6</td>\n",
       "      <td>6</td>\n",
       "      <td>1</td>\n",
       "      <td>1</td>\n",
       "      <td>6</td>\n",
       "      <td>6</td>\n",
       "      <td>6</td>\n",
       "      <td>6</td>\n",
       "      <td>6</td>\n",
       "      <td>6</td>\n",
       "      <td>...</td>\n",
       "      <td>NaN</td>\n",
       "      <td>NaN</td>\n",
       "      <td>NaN</td>\n",
       "      <td>NaN</td>\n",
       "      <td>NaN</td>\n",
       "      <td>NaN</td>\n",
       "      <td>NaN</td>\n",
       "      <td>NaN</td>\n",
       "      <td>NaN</td>\n",
       "      <td>NaN</td>\n",
       "    </tr>\n",
       "    <tr>\n",
       "      <th>2</th>\n",
       "      <td>6</td>\n",
       "      <td>6</td>\n",
       "      <td>1</td>\n",
       "      <td>6</td>\n",
       "      <td>6</td>\n",
       "      <td>6</td>\n",
       "      <td>6</td>\n",
       "      <td>1</td>\n",
       "      <td>1</td>\n",
       "      <td>6</td>\n",
       "      <td>...</td>\n",
       "      <td>NaN</td>\n",
       "      <td>NaN</td>\n",
       "      <td>NaN</td>\n",
       "      <td>NaN</td>\n",
       "      <td>NaN</td>\n",
       "      <td>NaN</td>\n",
       "      <td>NaN</td>\n",
       "      <td>NaN</td>\n",
       "      <td>NaN</td>\n",
       "      <td>NaN</td>\n",
       "    </tr>\n",
       "    <tr>\n",
       "      <th>3</th>\n",
       "      <td>1</td>\n",
       "      <td>6</td>\n",
       "      <td>1</td>\n",
       "      <td>1</td>\n",
       "      <td>1</td>\n",
       "      <td>1</td>\n",
       "      <td>1</td>\n",
       "      <td>1</td>\n",
       "      <td>1</td>\n",
       "      <td>6</td>\n",
       "      <td>...</td>\n",
       "      <td>NaN</td>\n",
       "      <td>NaN</td>\n",
       "      <td>NaN</td>\n",
       "      <td>NaN</td>\n",
       "      <td>NaN</td>\n",
       "      <td>NaN</td>\n",
       "      <td>NaN</td>\n",
       "      <td>NaN</td>\n",
       "      <td>NaN</td>\n",
       "      <td>NaN</td>\n",
       "    </tr>\n",
       "    <tr>\n",
       "      <th>4</th>\n",
       "      <td>1</td>\n",
       "      <td>1</td>\n",
       "      <td>1</td>\n",
       "      <td>1</td>\n",
       "      <td>1</td>\n",
       "      <td>6</td>\n",
       "      <td>1</td>\n",
       "      <td>1</td>\n",
       "      <td>1</td>\n",
       "      <td>1</td>\n",
       "      <td>...</td>\n",
       "      <td>NaN</td>\n",
       "      <td>NaN</td>\n",
       "      <td>NaN</td>\n",
       "      <td>NaN</td>\n",
       "      <td>NaN</td>\n",
       "      <td>NaN</td>\n",
       "      <td>NaN</td>\n",
       "      <td>NaN</td>\n",
       "      <td>NaN</td>\n",
       "      <td>NaN</td>\n",
       "    </tr>\n",
       "  </tbody>\n",
       "</table>\n",
       "<p>5 rows × 1597 columns</p>\n",
       "</div>"
      ],
      "text/plain": [
       "   V1  V10  V100  V101  V102  V103  V104  V105  V106  V107  ...    var90  \\\n",
       "0   9    9     1     9     9     9     9     9     9     1  ...      NaN   \n",
       "1   6    6     1     1     6     6     6     6     6     6  ...      NaN   \n",
       "2   6    6     1     6     6     6     6     1     1     6  ...      NaN   \n",
       "3   1    6     1     1     1     1     1     1     1     6  ...      NaN   \n",
       "4   1    1     1     1     1     6     1     1     1     1  ...      NaN   \n",
       "\n",
       "   var91  var92  var93  var94  var95  var96  var97  var98  var99  \n",
       "0    NaN    NaN    NaN    NaN    NaN    NaN    NaN    NaN    NaN  \n",
       "1    NaN    NaN    NaN    NaN    NaN    NaN    NaN    NaN    NaN  \n",
       "2    NaN    NaN    NaN    NaN    NaN    NaN    NaN    NaN    NaN  \n",
       "3    NaN    NaN    NaN    NaN    NaN    NaN    NaN    NaN    NaN  \n",
       "4    NaN    NaN    NaN    NaN    NaN    NaN    NaN    NaN    NaN  \n",
       "\n",
       "[5 rows x 1597 columns]"
      ]
     },
     "execution_count": 235,
     "metadata": {},
     "output_type": "execute_result"
    }
   ],
   "source": [
    "vote_df.loc[10].head()"
   ]
  },
  {
   "cell_type": "code",
   "execution_count": 239,
   "metadata": {
    "collapsed": false
   },
   "outputs": [],
   "source": [
    "# drop all of the Na\n",
    "N = 10\n",
    "vote_dict = {}\n",
    "for i in range(N+1):\n",
    "    df_temp = vote_df.loc[i].dropna(axis = 1)\n",
    "    vote_dict[i] = df_temp"
   ]
  },
  {
   "cell_type": "code",
   "execution_count": 243,
   "metadata": {
    "collapsed": false
   },
   "outputs": [
    {
     "data": {
      "text/html": [
       "<div style=\"max-height:1000px;max-width:1500px;overflow:auto;\">\n",
       "<table border=\"1\" class=\"dataframe\">\n",
       "  <thead>\n",
       "    <tr style=\"text-align: right;\">\n",
       "      <th></th>\n",
       "      <th>V1</th>\n",
       "      <th>V10</th>\n",
       "      <th>V100</th>\n",
       "      <th>V101</th>\n",
       "      <th>V102</th>\n",
       "      <th>V103</th>\n",
       "      <th>V104</th>\n",
       "      <th>V105</th>\n",
       "      <th>V106</th>\n",
       "      <th>V107</th>\n",
       "      <th>...</th>\n",
       "      <th>V90</th>\n",
       "      <th>V91</th>\n",
       "      <th>V92</th>\n",
       "      <th>V93</th>\n",
       "      <th>V94</th>\n",
       "      <th>V95</th>\n",
       "      <th>V96</th>\n",
       "      <th>V97</th>\n",
       "      <th>V98</th>\n",
       "      <th>V99</th>\n",
       "    </tr>\n",
       "  </thead>\n",
       "  <tbody>\n",
       "    <tr>\n",
       "      <th>0</th>\n",
       "      <td>9</td>\n",
       "      <td>9</td>\n",
       "      <td>1</td>\n",
       "      <td>9</td>\n",
       "      <td>9</td>\n",
       "      <td>9</td>\n",
       "      <td>9</td>\n",
       "      <td>9</td>\n",
       "      <td>9</td>\n",
       "      <td>1</td>\n",
       "      <td>...</td>\n",
       "      <td>9</td>\n",
       "      <td>9</td>\n",
       "      <td>9</td>\n",
       "      <td>9</td>\n",
       "      <td>9</td>\n",
       "      <td>9</td>\n",
       "      <td>9</td>\n",
       "      <td>1</td>\n",
       "      <td>1</td>\n",
       "      <td>9</td>\n",
       "    </tr>\n",
       "    <tr>\n",
       "      <th>1</th>\n",
       "      <td>6</td>\n",
       "      <td>6</td>\n",
       "      <td>1</td>\n",
       "      <td>1</td>\n",
       "      <td>6</td>\n",
       "      <td>6</td>\n",
       "      <td>6</td>\n",
       "      <td>6</td>\n",
       "      <td>6</td>\n",
       "      <td>6</td>\n",
       "      <td>...</td>\n",
       "      <td>1</td>\n",
       "      <td>1</td>\n",
       "      <td>1</td>\n",
       "      <td>6</td>\n",
       "      <td>1</td>\n",
       "      <td>6</td>\n",
       "      <td>6</td>\n",
       "      <td>6</td>\n",
       "      <td>1</td>\n",
       "      <td>6</td>\n",
       "    </tr>\n",
       "    <tr>\n",
       "      <th>2</th>\n",
       "      <td>6</td>\n",
       "      <td>6</td>\n",
       "      <td>1</td>\n",
       "      <td>6</td>\n",
       "      <td>6</td>\n",
       "      <td>6</td>\n",
       "      <td>6</td>\n",
       "      <td>1</td>\n",
       "      <td>1</td>\n",
       "      <td>6</td>\n",
       "      <td>...</td>\n",
       "      <td>6</td>\n",
       "      <td>1</td>\n",
       "      <td>1</td>\n",
       "      <td>6</td>\n",
       "      <td>1</td>\n",
       "      <td>6</td>\n",
       "      <td>1</td>\n",
       "      <td>6</td>\n",
       "      <td>6</td>\n",
       "      <td>6</td>\n",
       "    </tr>\n",
       "    <tr>\n",
       "      <th>3</th>\n",
       "      <td>1</td>\n",
       "      <td>6</td>\n",
       "      <td>1</td>\n",
       "      <td>1</td>\n",
       "      <td>1</td>\n",
       "      <td>1</td>\n",
       "      <td>1</td>\n",
       "      <td>1</td>\n",
       "      <td>1</td>\n",
       "      <td>6</td>\n",
       "      <td>...</td>\n",
       "      <td>1</td>\n",
       "      <td>1</td>\n",
       "      <td>1</td>\n",
       "      <td>6</td>\n",
       "      <td>6</td>\n",
       "      <td>6</td>\n",
       "      <td>1</td>\n",
       "      <td>6</td>\n",
       "      <td>1</td>\n",
       "      <td>1</td>\n",
       "    </tr>\n",
       "    <tr>\n",
       "      <th>4</th>\n",
       "      <td>1</td>\n",
       "      <td>1</td>\n",
       "      <td>1</td>\n",
       "      <td>1</td>\n",
       "      <td>1</td>\n",
       "      <td>6</td>\n",
       "      <td>1</td>\n",
       "      <td>1</td>\n",
       "      <td>1</td>\n",
       "      <td>1</td>\n",
       "      <td>...</td>\n",
       "      <td>6</td>\n",
       "      <td>6</td>\n",
       "      <td>1</td>\n",
       "      <td>1</td>\n",
       "      <td>6</td>\n",
       "      <td>1</td>\n",
       "      <td>1</td>\n",
       "      <td>1</td>\n",
       "      <td>1</td>\n",
       "      <td>1</td>\n",
       "    </tr>\n",
       "  </tbody>\n",
       "</table>\n",
       "<p>5 rows × 696 columns</p>\n",
       "</div>"
      ],
      "text/plain": [
       "   V1  V10  V100  V101  V102  V103  V104  V105  V106  V107 ...   V90  V91  \\\n",
       "0   9    9     1     9     9     9     9     9     9     1 ...     9    9   \n",
       "1   6    6     1     1     6     6     6     6     6     6 ...     1    1   \n",
       "2   6    6     1     6     6     6     6     1     1     6 ...     6    1   \n",
       "3   1    6     1     1     1     1     1     1     1     6 ...     1    1   \n",
       "4   1    1     1     1     1     6     1     1     1     1 ...     6    6   \n",
       "\n",
       "   V92  V93  V94  V95  V96  V97  V98  V99  \n",
       "0    9    9    9    9    9    1    1    9  \n",
       "1    1    6    1    6    6    6    1    6  \n",
       "2    1    6    1    6    1    6    6    6  \n",
       "3    1    6    6    6    1    6    1    1  \n",
       "4    1    1    6    1    1    1    1    1  \n",
       "\n",
       "[5 rows x 696 columns]"
      ]
     },
     "execution_count": 243,
     "metadata": {},
     "output_type": "execute_result"
    }
   ],
   "source": [
    "vote_dict[10].head()"
   ]
  },
  {
   "cell_type": "code",
   "execution_count": 248,
   "metadata": {
    "collapsed": false
   },
   "outputs": [],
   "source": [
    "senate_dict = {}\n",
    "N = 10\n",
    "for k,df in vote_dict.iteritems():\n",
    "    new_df = df.replace([1,2,3,4,5,6,7,8,9],[1,1,1,-1,-1,-1,0,0,0])\n",
    "    senate_dict[k] = new_df\n",
    "    "
   ]
  },
  {
   "cell_type": "code",
   "execution_count": 263,
   "metadata": {
    "collapsed": false
   },
   "outputs": [
    {
     "data": {
      "text/html": [
       "<div style=\"max-height:1000px;max-width:1500px;overflow:auto;\">\n",
       "<table border=\"1\" class=\"dataframe\">\n",
       "  <thead>\n",
       "    <tr style=\"text-align: right;\">\n",
       "      <th></th>\n",
       "      <th>V1</th>\n",
       "      <th>V10</th>\n",
       "      <th>V100</th>\n",
       "      <th>V101</th>\n",
       "      <th>V102</th>\n",
       "      <th>V103</th>\n",
       "      <th>V104</th>\n",
       "      <th>V105</th>\n",
       "      <th>V106</th>\n",
       "      <th>V107</th>\n",
       "      <th>...</th>\n",
       "      <th>V90</th>\n",
       "      <th>V91</th>\n",
       "      <th>V92</th>\n",
       "      <th>V93</th>\n",
       "      <th>V94</th>\n",
       "      <th>V95</th>\n",
       "      <th>V96</th>\n",
       "      <th>V97</th>\n",
       "      <th>V98</th>\n",
       "      <th>V99</th>\n",
       "    </tr>\n",
       "  </thead>\n",
       "  <tbody>\n",
       "    <tr>\n",
       "      <th>0</th>\n",
       "      <td>0</td>\n",
       "      <td>0</td>\n",
       "      <td>1</td>\n",
       "      <td>0</td>\n",
       "      <td>0</td>\n",
       "      <td>0</td>\n",
       "      <td>0</td>\n",
       "      <td>0</td>\n",
       "      <td>0</td>\n",
       "      <td>1</td>\n",
       "      <td>...</td>\n",
       "      <td>0</td>\n",
       "      <td>0</td>\n",
       "      <td>0</td>\n",
       "      <td>0</td>\n",
       "      <td>0</td>\n",
       "      <td>0</td>\n",
       "      <td>0</td>\n",
       "      <td>1</td>\n",
       "      <td>1</td>\n",
       "      <td>0</td>\n",
       "    </tr>\n",
       "    <tr>\n",
       "      <th>1</th>\n",
       "      <td>-1</td>\n",
       "      <td>-1</td>\n",
       "      <td>1</td>\n",
       "      <td>1</td>\n",
       "      <td>-1</td>\n",
       "      <td>-1</td>\n",
       "      <td>-1</td>\n",
       "      <td>-1</td>\n",
       "      <td>-1</td>\n",
       "      <td>-1</td>\n",
       "      <td>...</td>\n",
       "      <td>1</td>\n",
       "      <td>1</td>\n",
       "      <td>1</td>\n",
       "      <td>-1</td>\n",
       "      <td>1</td>\n",
       "      <td>-1</td>\n",
       "      <td>-1</td>\n",
       "      <td>-1</td>\n",
       "      <td>1</td>\n",
       "      <td>-1</td>\n",
       "    </tr>\n",
       "    <tr>\n",
       "      <th>2</th>\n",
       "      <td>-1</td>\n",
       "      <td>-1</td>\n",
       "      <td>1</td>\n",
       "      <td>-1</td>\n",
       "      <td>-1</td>\n",
       "      <td>-1</td>\n",
       "      <td>-1</td>\n",
       "      <td>1</td>\n",
       "      <td>1</td>\n",
       "      <td>-1</td>\n",
       "      <td>...</td>\n",
       "      <td>-1</td>\n",
       "      <td>1</td>\n",
       "      <td>1</td>\n",
       "      <td>-1</td>\n",
       "      <td>1</td>\n",
       "      <td>-1</td>\n",
       "      <td>1</td>\n",
       "      <td>-1</td>\n",
       "      <td>-1</td>\n",
       "      <td>-1</td>\n",
       "    </tr>\n",
       "    <tr>\n",
       "      <th>3</th>\n",
       "      <td>1</td>\n",
       "      <td>-1</td>\n",
       "      <td>1</td>\n",
       "      <td>1</td>\n",
       "      <td>1</td>\n",
       "      <td>1</td>\n",
       "      <td>1</td>\n",
       "      <td>1</td>\n",
       "      <td>1</td>\n",
       "      <td>-1</td>\n",
       "      <td>...</td>\n",
       "      <td>1</td>\n",
       "      <td>1</td>\n",
       "      <td>1</td>\n",
       "      <td>-1</td>\n",
       "      <td>-1</td>\n",
       "      <td>-1</td>\n",
       "      <td>1</td>\n",
       "      <td>-1</td>\n",
       "      <td>1</td>\n",
       "      <td>1</td>\n",
       "    </tr>\n",
       "    <tr>\n",
       "      <th>4</th>\n",
       "      <td>1</td>\n",
       "      <td>1</td>\n",
       "      <td>1</td>\n",
       "      <td>1</td>\n",
       "      <td>1</td>\n",
       "      <td>-1</td>\n",
       "      <td>1</td>\n",
       "      <td>1</td>\n",
       "      <td>1</td>\n",
       "      <td>1</td>\n",
       "      <td>...</td>\n",
       "      <td>-1</td>\n",
       "      <td>-1</td>\n",
       "      <td>1</td>\n",
       "      <td>1</td>\n",
       "      <td>-1</td>\n",
       "      <td>1</td>\n",
       "      <td>1</td>\n",
       "      <td>1</td>\n",
       "      <td>1</td>\n",
       "      <td>1</td>\n",
       "    </tr>\n",
       "  </tbody>\n",
       "</table>\n",
       "<p>5 rows × 696 columns</p>\n",
       "</div>"
      ],
      "text/plain": [
       "   V1  V10  V100  V101  V102  V103  V104  V105  V106  V107 ...   V90  V91  \\\n",
       "0   0    0     1     0     0     0     0     0     0     1 ...     0    0   \n",
       "1  -1   -1     1     1    -1    -1    -1    -1    -1    -1 ...     1    1   \n",
       "2  -1   -1     1    -1    -1    -1    -1     1     1    -1 ...    -1    1   \n",
       "3   1   -1     1     1     1     1     1     1     1    -1 ...     1    1   \n",
       "4   1    1     1     1     1    -1     1     1     1     1 ...    -1   -1   \n",
       "\n",
       "   V92  V93  V94  V95  V96  V97  V98  V99  \n",
       "0    0    0    0    0    0    1    1    0  \n",
       "1    1   -1    1   -1   -1   -1    1   -1  \n",
       "2    1   -1    1   -1    1   -1   -1   -1  \n",
       "3    1   -1   -1   -1    1   -1    1    1  \n",
       "4    1    1   -1    1    1    1    1    1  \n",
       "\n",
       "[5 rows x 696 columns]"
      ]
     },
     "execution_count": 263,
     "metadata": {},
     "output_type": "execute_result"
    }
   ],
   "source": [
    "senate_dict[10].head()"
   ]
  },
  {
   "cell_type": "markdown",
   "metadata": {},
   "source": [
    "####Calling the 101st Congress"
   ]
  },
  {
   "cell_type": "code",
   "execution_count": 259,
   "metadata": {
    "collapsed": false
   },
   "outputs": [],
   "source": [
    "import sklearn as sk\n",
    "from sklearn.decomposition import PCA\n",
    "from sklearn.lda import LDA"
   ]
  },
  {
   "cell_type": "code",
   "execution_count": 268,
   "metadata": {
    "collapsed": false
   },
   "outputs": [
    {
     "data": {
      "text/plain": [
       "(103, 638)"
      ]
     },
     "execution_count": 268,
     "metadata": {},
     "output_type": "execute_result"
    }
   ],
   "source": [
    "senate_dict[0].shape"
   ]
  },
  {
   "cell_type": "code",
   "execution_count": 407,
   "metadata": {
    "collapsed": true
   },
   "outputs": [],
   "source": [
    "pca = PCA(n_components = 2)"
   ]
  },
  {
   "cell_type": "code",
   "execution_count": 408,
   "metadata": {
    "collapsed": false
   },
   "outputs": [
    {
     "data": {
      "text/plain": [
       "PCA(copy=True, n_components=2, whiten=False)"
      ]
     },
     "execution_count": 408,
     "metadata": {},
     "output_type": "execute_result"
    }
   ],
   "source": [
    "pca.fit(senate_dict[0])"
   ]
  },
  {
   "cell_type": "code",
   "execution_count": 409,
   "metadata": {
    "collapsed": false
   },
   "outputs": [],
   "source": [
    "X = pca.transform(senate_dict[0])"
   ]
  },
  {
   "cell_type": "code",
   "execution_count": 410,
   "metadata": {
    "collapsed": false
   },
   "outputs": [],
   "source": [
    "x = X[:,0].reshape(103,1)\n",
    "y = X[:,1].reshape(103,1)"
   ]
  },
  {
   "cell_type": "code",
   "execution_count": 411,
   "metadata": {
    "collapsed": false
   },
   "outputs": [
    {
     "data": {
      "image/png": "[encoded data removed]",
      "text/plain": [
       "<matplotlib.figure.Figure at 0x1208e3ed0>"
      ]
     },
     "metadata": {},
     "output_type": "display_data"
    }
   ],
   "source": [
    "plt.plot(x,y,'o');"
   ]
  },
  {
   "cell_type": "code",
   "execution_count": 351,
   "metadata": {
    "collapsed": false
   },
   "outputs": [
    {
     "data": {
      "text/html": [
       "<div style=\"max-height:1000px;max-width:1500px;overflow:auto;\">\n",
       "<table border=\"1\" class=\"dataframe\">\n",
       "  <thead>\n",
       "    <tr style=\"text-align: right;\">\n",
       "      <th></th>\n",
       "      <th>V1</th>\n",
       "      <th>V10</th>\n",
       "      <th>V100</th>\n",
       "      <th>V101</th>\n",
       "      <th>V102</th>\n",
       "      <th>V103</th>\n",
       "      <th>V104</th>\n",
       "      <th>V105</th>\n",
       "      <th>V106</th>\n",
       "      <th>V107</th>\n",
       "      <th>...</th>\n",
       "      <th>V90</th>\n",
       "      <th>V91</th>\n",
       "      <th>V92</th>\n",
       "      <th>V93</th>\n",
       "      <th>V94</th>\n",
       "      <th>V95</th>\n",
       "      <th>V96</th>\n",
       "      <th>V97</th>\n",
       "      <th>V98</th>\n",
       "      <th>V99</th>\n",
       "    </tr>\n",
       "  </thead>\n",
       "  <tbody>\n",
       "    <tr>\n",
       "      <th>0</th>\n",
       "      <td>0</td>\n",
       "      <td>0</td>\n",
       "      <td>1</td>\n",
       "      <td>0</td>\n",
       "      <td>0</td>\n",
       "      <td>0</td>\n",
       "      <td>0</td>\n",
       "      <td>0</td>\n",
       "      <td>0</td>\n",
       "      <td>1</td>\n",
       "      <td>...</td>\n",
       "      <td>0</td>\n",
       "      <td>0</td>\n",
       "      <td>0</td>\n",
       "      <td>0</td>\n",
       "      <td>0</td>\n",
       "      <td>0</td>\n",
       "      <td>0</td>\n",
       "      <td>1</td>\n",
       "      <td>1</td>\n",
       "      <td>0</td>\n",
       "    </tr>\n",
       "    <tr>\n",
       "      <th>1</th>\n",
       "      <td>-1</td>\n",
       "      <td>-1</td>\n",
       "      <td>1</td>\n",
       "      <td>1</td>\n",
       "      <td>-1</td>\n",
       "      <td>-1</td>\n",
       "      <td>-1</td>\n",
       "      <td>-1</td>\n",
       "      <td>-1</td>\n",
       "      <td>-1</td>\n",
       "      <td>...</td>\n",
       "      <td>1</td>\n",
       "      <td>1</td>\n",
       "      <td>1</td>\n",
       "      <td>-1</td>\n",
       "      <td>1</td>\n",
       "      <td>-1</td>\n",
       "      <td>-1</td>\n",
       "      <td>-1</td>\n",
       "      <td>1</td>\n",
       "      <td>-1</td>\n",
       "    </tr>\n",
       "    <tr>\n",
       "      <th>2</th>\n",
       "      <td>-1</td>\n",
       "      <td>-1</td>\n",
       "      <td>1</td>\n",
       "      <td>-1</td>\n",
       "      <td>-1</td>\n",
       "      <td>-1</td>\n",
       "      <td>-1</td>\n",
       "      <td>1</td>\n",
       "      <td>1</td>\n",
       "      <td>-1</td>\n",
       "      <td>...</td>\n",
       "      <td>-1</td>\n",
       "      <td>1</td>\n",
       "      <td>1</td>\n",
       "      <td>-1</td>\n",
       "      <td>1</td>\n",
       "      <td>-1</td>\n",
       "      <td>1</td>\n",
       "      <td>-1</td>\n",
       "      <td>-1</td>\n",
       "      <td>-1</td>\n",
       "    </tr>\n",
       "    <tr>\n",
       "      <th>3</th>\n",
       "      <td>1</td>\n",
       "      <td>-1</td>\n",
       "      <td>1</td>\n",
       "      <td>1</td>\n",
       "      <td>1</td>\n",
       "      <td>1</td>\n",
       "      <td>1</td>\n",
       "      <td>1</td>\n",
       "      <td>1</td>\n",
       "      <td>-1</td>\n",
       "      <td>...</td>\n",
       "      <td>1</td>\n",
       "      <td>1</td>\n",
       "      <td>1</td>\n",
       "      <td>-1</td>\n",
       "      <td>-1</td>\n",
       "      <td>-1</td>\n",
       "      <td>1</td>\n",
       "      <td>-1</td>\n",
       "      <td>1</td>\n",
       "      <td>1</td>\n",
       "    </tr>\n",
       "    <tr>\n",
       "      <th>4</th>\n",
       "      <td>1</td>\n",
       "      <td>1</td>\n",
       "      <td>1</td>\n",
       "      <td>1</td>\n",
       "      <td>1</td>\n",
       "      <td>-1</td>\n",
       "      <td>1</td>\n",
       "      <td>1</td>\n",
       "      <td>1</td>\n",
       "      <td>1</td>\n",
       "      <td>...</td>\n",
       "      <td>-1</td>\n",
       "      <td>-1</td>\n",
       "      <td>1</td>\n",
       "      <td>1</td>\n",
       "      <td>-1</td>\n",
       "      <td>1</td>\n",
       "      <td>1</td>\n",
       "      <td>1</td>\n",
       "      <td>1</td>\n",
       "      <td>1</td>\n",
       "    </tr>\n",
       "  </tbody>\n",
       "</table>\n",
       "<p>5 rows × 696 columns</p>\n",
       "</div>"
      ],
      "text/plain": [
       "   V1  V10  V100  V101  V102  V103  V104  V105  V106  V107 ...   V90  V91  \\\n",
       "0   0    0     1     0     0     0     0     0     0     1 ...     0    0   \n",
       "1  -1   -1     1     1    -1    -1    -1    -1    -1    -1 ...     1    1   \n",
       "2  -1   -1     1    -1    -1    -1    -1     1     1    -1 ...    -1    1   \n",
       "3   1   -1     1     1     1     1     1     1     1    -1 ...     1    1   \n",
       "4   1    1     1     1     1    -1     1     1     1     1 ...    -1   -1   \n",
       "\n",
       "   V92  V93  V94  V95  V96  V97  V98  V99  \n",
       "0    0    0    0    0    0    1    1    0  \n",
       "1    1   -1    1   -1   -1   -1    1   -1  \n",
       "2    1   -1    1   -1    1   -1   -1   -1  \n",
       "3    1   -1   -1   -1    1   -1    1    1  \n",
       "4    1    1   -1    1    1    1    1    1  \n",
       "\n",
       "[5 rows x 696 columns]"
      ]
     },
     "execution_count": 351,
     "metadata": {},
     "output_type": "execute_result"
    }
   ],
   "source": [
    "senate_dict[10].head()"
   ]
  },
  {
   "cell_type": "code",
   "execution_count": 404,
   "metadata": {
    "collapsed": false
   },
   "outputs": [],
   "source": [
    "sen_print = []\n",
    "N = 10\n",
    "for i in range(N+1):\n",
    "    pca = PCA(n_components = 2)\n",
    "    pca.fit(senate_dict[i])\n",
    "    X = pca.transform(senate_dict[i])\n",
    "    x = X[:,0]\n",
    "    y = X[:,1]\n",
    "    \n",
    "    sen_print.append([x,y])"
   ]
  },
  {
   "cell_type": "code",
   "execution_count": 405,
   "metadata": {
    "collapsed": false
   },
   "outputs": [],
   "source": [
    "#sen_print[df][col][value]"
   ]
  },
  {
   "cell_type": "code",
   "execution_count": 414,
   "metadata": {
    "collapsed": false
   },
   "outputs": [
    {
     "data": {
      "text/plain": [
       "<matplotlib.text.Text at 0x14d5cba90>"
      ]
     },
     "execution_count": 414,
     "metadata": {},
     "output_type": "execute_result"
    },
    {
     "data": {
      "image/png": "[encoded data removed]",
      "text/plain": [
       "<matplotlib.figure.Figure at 0x14d567f90>"
      ]
     },
     "metadata": {},
     "output_type": "display_data"
    }
   ],
   "source": [
    "plt.plot(sen_print[0][0],sen_print[0][1],'o')\n",
    "plt.title('Senate: 101')\n",
    "    "
   ]
  },
  {
   "cell_type": "code",
   "execution_count": 417,
   "metadata": {
    "collapsed": false
   },
   "outputs": [
    {
     "data": {
      "text/plain": [
       "<matplotlib.text.Text at 0x154284190>"
      ]
     },
     "execution_count": 417,
     "metadata": {},
     "output_type": "execute_result"
    },
    {
     "data": {
      "image/png": "[encoded data removed]",
      "text/plain": [
       "<matplotlib.figure.Figure at 0x15421fcd0>"
      ]
     },
     "metadata": {},
     "output_type": "display_data"
    }
   ],
   "source": [
    "plt.plot(sen_print[1][0],sen_print[1][1],'o')\n",
    "plt.title('Senate: 102')"
   ]
  },
  {
   "cell_type": "code",
   "execution_count": 418,
   "metadata": {
    "collapsed": false
   },
   "outputs": [
    {
     "data": {
      "text/plain": [
       "<matplotlib.text.Text at 0x154399990>"
      ]
     },
     "execution_count": 418,
     "metadata": {},
     "output_type": "execute_result"
    },
    {
     "data": {
      "image/png": "[encoded data removed]",
      "text/plain": [
       "<matplotlib.figure.Figure at 0x154362150>"
      ]
     },
     "metadata": {},
     "output_type": "display_data"
    }
   ],
   "source": [
    "plt.plot(sen_print[2][0],sen_print[2][1],'o')\n",
    "plt.title('Senate: 103')"
   ]
  },
  {
   "cell_type": "code",
   "execution_count": 419,
   "metadata": {
    "collapsed": false
   },
   "outputs": [
    {
     "data": {
      "text/plain": [
       "<matplotlib.text.Text at 0x108af8310>"
      ]
     },
     "execution_count": 419,
     "metadata": {},
     "output_type": "execute_result"
    },
    {
     "data": {
      "image/png": "[encoded data removed]",
      "text/plain": [
       "<matplotlib.figure.Figure at 0x154255fd0>"
      ]
     },
     "metadata": {},
     "output_type": "display_data"
    }
   ],
   "source": [
    "plt.plot(sen_print[3][0],sen_print[3][1],'o')\n",
    "plt.title('Senate: 104')"
   ]
  },
  {
   "cell_type": "code",
   "execution_count": 420,
   "metadata": {
    "collapsed": false
   },
   "outputs": [
    {
     "data": {
      "text/plain": [
       "<matplotlib.text.Text at 0x120b47650>"
      ]
     },
     "execution_count": 420,
     "metadata": {},
     "output_type": "execute_result"
    },
    {
     "data": {
      "image/png": "[encoded data removed]",
      "text/plain": [
       "<matplotlib.figure.Figure at 0x10fe18c10>"
      ]
     },
     "metadata": {},
     "output_type": "display_data"
    }
   ],
   "source": [
    "plt.plot(sen_print[4][0],sen_print[4][1],'o')\n",
    "plt.title('Senate: 105')"
   ]
  },
  {
   "cell_type": "code",
   "execution_count": 421,
   "metadata": {
    "collapsed": false
   },
   "outputs": [
    {
     "data": {
      "text/plain": [
       "<matplotlib.text.Text at 0x153717690>"
      ]
     },
     "execution_count": 421,
     "metadata": {},
     "output_type": "execute_result"
    },
    {
     "data": {
      "image/png": "[encoded data removed]",
      "text/plain": [
       "<matplotlib.figure.Figure at 0x1088f9290>"
      ]
     },
     "metadata": {},
     "output_type": "display_data"
    }
   ],
   "source": [
    "plt.plot(sen_print[5][0],sen_print[5][1],'o')\n",
    "plt.title('Senate: 106')"
   ]
  },
  {
   "cell_type": "code",
   "execution_count": 422,
   "metadata": {
    "collapsed": false
   },
   "outputs": [
    {
     "data": {
      "text/plain": [
       "<matplotlib.text.Text at 0x1546210d0>"
      ]
     },
     "execution_count": 422,
     "metadata": {},
     "output_type": "execute_result"
    },
    {
     "data": {
      "image/png": "[encoded data removed]",
      "text/plain": [
       "<matplotlib.figure.Figure at 0x154558bd0>"
      ]
     },
     "metadata": {},
     "output_type": "display_data"
    }
   ],
   "source": [
    "plt.plot(sen_print[6][0],sen_print[6][1],'o')\n",
    "plt.title('Senate: 107')"
   ]
  },
  {
   "cell_type": "code",
   "execution_count": 423,
   "metadata": {
    "collapsed": false
   },
   "outputs": [
    {
     "data": {
      "text/plain": [
       "<matplotlib.text.Text at 0x1546d5090>"
      ]
     },
     "execution_count": 423,
     "metadata": {},
     "output_type": "execute_result"
    },
    {
     "data": {
      "image/png": "[encoded data removed]",
      "text/plain": [
       "<matplotlib.figure.Figure at 0x15466edd0>"
      ]
     },
     "metadata": {},
     "output_type": "display_data"
    }
   ],
   "source": [
    "plt.plot(sen_print[7][0],sen_print[7][1],'o')\n",
    "plt.title('Senate: 108')"
   ]
  },
  {
   "cell_type": "code",
   "execution_count": 424,
   "metadata": {
    "collapsed": false
   },
   "outputs": [
    {
     "data": {
      "text/plain": [
       "<matplotlib.text.Text at 0x1547f5050>"
      ]
     },
     "execution_count": 424,
     "metadata": {},
     "output_type": "execute_result"
    },
    {
     "data": {
      "image/png": "[encoded data removed]",
      "text/plain": [
       "<matplotlib.figure.Figure at 0x15466ed10>"
      ]
     },
     "metadata": {},
     "output_type": "display_data"
    }
   ],
   "source": [
    "plt.plot(sen_print[8][0],sen_print[8][1],'o')\n",
    "plt.title('Senate: 109')"
   ]
  },
  {
   "cell_type": "code",
   "execution_count": 425,
   "metadata": {
    "collapsed": false
   },
   "outputs": [
    {
     "data": {
      "text/plain": [
       "<matplotlib.text.Text at 0x155110790>"
      ]
     },
     "execution_count": 425,
     "metadata": {},
     "output_type": "execute_result"
    },
    {
     "data": {
      "image/png": "[encoded data removed]",
      "text/plain": [
       "<matplotlib.figure.Figure at 0x1550db710>"
      ]
     },
     "metadata": {},
     "output_type": "display_data"
    }
   ],
   "source": [
    "plt.plot(sen_print[9][0],sen_print[9][1],'o')\n",
    "plt.title('Senate: 101')"
   ]
  },
  {
   "cell_type": "code",
   "execution_count": 426,
   "metadata": {
    "collapsed": false
   },
   "outputs": [
    {
     "data": {
      "text/plain": [
       "<matplotlib.text.Text at 0x155784f10>"
      ]
     },
     "execution_count": 426,
     "metadata": {},
     "output_type": "execute_result"
    },
    {
     "data": {
      "image/png": "[encoded data removed]",
      "text/plain": [
       "<matplotlib.figure.Figure at 0x155721c10>"
      ]
     },
     "metadata": {},
     "output_type": "display_data"
    }
   ],
   "source": [
    "plt.plot(sen_print[10][0],sen_print[10][1],'o')\n",
    "plt.title('Senate: 111')"
   ]
  },
  {
   "cell_type": "code",
   "execution_count": null,
   "metadata": {
    "collapsed": true
   },
   "outputs": [],
   "source": []
  }
 ],
 "metadata": {
  "kernelspec": {
   "display_name": "Python 2",
   "language": "python",
   "name": "python2"
  },
  "language_info": {
   "codemirror_mode": {
    "name": "ipython",
    "version": 2
   },
   "file_extension": ".py",
   "mimetype": "text/x-python",
   "name": "python",
   "nbconvert_exporter": "python",
   "pygments_lexer": "ipython2",
   "version": "2.7.11"
  }
 },
 "nbformat": 4,
 "nbformat_minor": 0
}
