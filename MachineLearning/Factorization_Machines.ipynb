{
 "cells": [
  {
   "cell_type": "markdown",
   "metadata": {},
   "source": [
    "#Lecture 6.2: Training a Factorization Machine\n",
    "##What you'll learn in this session\n",
    "1.  Reduce Rendel's equations to code\n",
    "2.  Use what you've learned to improve performance\n",
    "3.  How to adapt the technique for different types of prediction problems\n",
    "\n",
    "##Order of topics\n",
    "1.  Walk through code and compare to Rendle's paper\n",
    "2.  Develop equations for least squares regression\n",
    "3.  Adding L2 penalty to problem statement\n",
    "4.  Checking code for correctness\n",
    "5.  Initialization\n",
    "6.  Modifying equations for different problem types.  \n",
    "\n",
    "##Pre-reading\n",
    "http://www.ismll.uni-hildesheim.de/pub/pdfs/Rendle2010FM.pdf - #Rendle's original paper\n",
    "\n",
    "##Code Walk-through\n",
    "The code in the code section below encapsulates Rendles equations 1 through 4.  A good place to start is the function \"predict\".  That shows python numpy code for generating predictions given the various matrix quantities in Rendles equation 1.  Equation 1 has four basic quantities - a scalar bias ($w_0$), a vector of linear weights ($w_1$ through $w_n$), factor matrix ($v$) and an attribute vectore ($x_1$ through $x_n$).  In the code the notations for the scalar bias is changed from $w_0$ to b.  Other than that the variable names in the code match those in the paper.  The code develops three scalar quantities whose sum constitutes the prediction - one quantity for each of the expressions in Rendle's equation 1.  The first is just the bias values b.  The second is denoted as $a_2$ and the third as $a_3$.  The quantity a2 is the linear term and is simply the dot product of the weight array w with the array of attributes x.  The quantity a3 is the quadratic term and involves the vectors that the paper denotes as $v_i$ in bold letters.  These vectors form the rows of a matrix denoted as bold V (upper case).  The sum involving the attribute vector is equivalent to a quadratic form involving the attribute vector x and a matrix $M = VV^T$.  The tricky bit is that the sum is only over the upper triangle of M.  It doesn't include the diagonal.  In the math for Lemma 3.1, Rendle shows that the third sum in equation 3, is equivalent to forming the quadratic form $x^TVV^Tx$, subtracting the diagonal contribution and then dividing by two.  You'll see that in the code.  First $VV^T$ is formed and then the diagonal elements are set to zero (instead of substracting them after the multiplication).  Then the quadratic form is evaluated and multiplied by a half.  \n",
    "\n",
    "The function named \"grad\" implements equation 4 from the paper.  The gradients with respect to the bias term and the linear term are straightforward.  The implementation of the gradient with respect to the matrix V follows equation 4 except that it builds the matrix a row at a time whereas the equation in the paper is for single elements from V.  There is also a numerical version of the gradient function in order to check calculations.  The numerical gradient is a time consuming way to do the calculation, but the computation is a very straightforward implementation of the definition of a gradient so it's easy to check visually.\n",
    "\n",
    "##In class exercises\n",
    "1  The code for predict and grad define how predictions are made and the gradient of the predictions, but gradient descent needs the gradient of some performance measure with respect to the parameters (b, w and V in this case).  Suppose that the problem being solved is a regression problem and that the performance measure is mean squared error or a training set or test set.  Call the prediction function $P(b, w, V, x)$.  Write the expression for the performance over a set of examples and the gradient of the performance in terms of the gradient of $P$.  \n",
    "\n",
    "2  How would your answer in the exercise above change if you chose to minimize mean absolute error instead of mean squared error?\n",
    "\n",
    "3  The matrix V introduces a large number of free parameters into the solution.  It is likely that some sort of regularization will be required to avoid overfitting.  L2 is the easiest type of regularization to append to the problem.  To see why, write an expression for the L2 penalty of an array of weights and then take its gradient in symbolic form.  If you wanted to add an L2 penalty, what would you add to the gradient of the performance measure?  \n",
    "\n",
    "4  Run the code below and adjust the parameters to improve the performance. "
   ]
  },
  {
   "cell_type": "code",
   "execution_count": 33,
   "metadata": {
    "collapsed": true
   },
   "outputs": [],
   "source": [
    "__author__ = 'mike-bowles'\n",
    "import urllib2\n",
    "import numpy as np\n",
    "from math import sqrt\n",
    "import matplotlib.pyplot as plt\n",
    "%matplotlib inline"
   ]
  },
  {
   "cell_type": "code",
   "execution_count": 34,
   "metadata": {
    "collapsed": true
   },
   "outputs": [],
   "source": [
    "def predict(b, w, v, x): #b=scalar, w=np.array, v=np 2-dim array\n",
    "    # dimensions\n",
    "    # dim(x) = nAtt\n",
    "    # dim(b) = python float\n",
    "    # dim(w) = nAtt\n",
    "    # dim(v) = nAtt x nDim\n",
    "    # function return = nRow x 1\n",
    "    a2 = np.dot(w, x)\n",
    "    M = np.dot(v, np.transpose(v))\n",
    "    i,j = np.indices(M.shape)\n",
    "    M[i==j] = 0.0 # set diagonal elements to zero\n",
    "                  # alternative, zero out the lower (or upper) triangle and diagonal \n",
    "    a3 = 0.5 * np.dot(x, np.dot(M, x))\n",
    "    return b + a2 + a3"
   ]
  },
  {
   "cell_type": "code",
   "execution_count": 35,
   "metadata": {
    "collapsed": true
   },
   "outputs": [],
   "source": [
    "def grad(b, w, v, x):\n",
    "    #x is single row from data in array form (not single column matrix\n",
    "    #call of the form grad(,,,X[i,:])\n",
    "    bGrad = 1.0\n",
    "    wGrad = np.array(x)\n",
    "    vGrad = np.zeros_like(v)\n",
    "    vSum = np.zeros_like(v[1, :])\n",
    "    for j in range(len(x)):\n",
    "        vSum += v[j, :] * x[j]\n",
    "    for i in range(len(x)):\n",
    "        vGrad[i, :] = x[i] * vSum - v[i, :] * x[i] * x[i]\n",
    "    return bGrad, wGrad, vGrad"
   ]
  },
  {
   "cell_type": "code",
   "execution_count": 36,
   "metadata": {
    "collapsed": true
   },
   "outputs": [],
   "source": [
    "__author__ = 'mike.bowles'\n",
    "import matplotlib.pyplot as plot\n",
    "import math\n",
    "%matplotlib inline\n",
    "#define a two-dimensional optimization problem\n",
    "#quadratic form in w1, w2\n",
    "\n",
    "\n",
    "\n",
    "\n",
    "def ada_delta(b, w, v, x, gradient):\n",
    "   \n",
    "    #initialize weights\n",
    "    w1 = 1.0\n",
    "    w2 = 1.0\n",
    "    w3 = 1.0\n",
    "\n",
    "    #initialize smoothed squared gradients\n",
    "    smSqg1 = 0.0\n",
    "    smSqg2 = 0.0\n",
    "    smSqg3 = 0.0\n",
    "\n",
    "    #initialize smoothed squared dw's\n",
    "    smSqdw1 = 0.0\n",
    "    smSqdw2 = 0.0\n",
    "    smSqdw3 = 0.0\n",
    "\n",
    "    #set meta parameters\n",
    "    nSteps = 10\n",
    "    rho = 0.9\n",
    "    eps = 1e-3\n",
    "        #update steps\n",
    "\n",
    "    \n",
    "    smSqg1 = rho * smSqg1 + (1 - rho) * gradient[0] * gradient[0]\n",
    "    smSqg2 = rho * smSqg2 + (1 - rho) * gradient[1] * gradient[1]\n",
    "    smSqg3 = rho * smSqg3 + (1 - rho) * gradient[2] * gradient[2]\n",
    "    #weight increments\n",
    "    dw1 = - np.sqrt(smSqdw1 + eps) * gradient[0] / np.sqrt(smSqg1 + eps)\n",
    "    dw2 = - np.sqrt(smSqdw2 + eps) * gradient[1] / np.sqrt(smSqg2 + eps)\n",
    "    dw3 = - np.sqrt(smSqdw3 + eps) * gradient[2] / np.sqrt(smSqg3 + eps)\n",
    "    \n",
    "    smSqdw1 = rho * smSqdw1 + (1 - rho) * dw1 * dw1\n",
    "    smSqdw2 = rho * smSqdw2 + (1 - rho) * dw2 * dw2\n",
    "    smSqdw3 = rho * smSqdw3 + (1 - rho) * dw3 * dw3\n",
    "    \n",
    "    w1 += dw1\n",
    "    w2 += dw2\n",
    "    w3 += dw3\n",
    "    return w1, w2, w3 "
   ]
  },
  {
   "cell_type": "code",
   "execution_count": 37,
   "metadata": {
    "collapsed": true
   },
   "outputs": [],
   "source": [
    "def gradNum(b, w, v, x):\n",
    "    eps = max(b * 1e-4, 1e-6)\n",
    "    pr = predict(b, w, v, x)\n",
    "    pbPlus = predict(b + eps, w, v, x)\n",
    "    bGrad = (pbPlus - pr) / eps\n",
    "    wGrad = np.zeros_like(w)\n",
    "    for i in range(len(w)):\n",
    "        eps = max(w[i] * 1e-4, 1e-6)\n",
    "        wPlus = np.array(w)\n",
    "        wPlus[i] = w[i] + eps\n",
    "        pwPlus = predict(b, wPlus, v, x)\n",
    "        wGrad[i] = (pwPlus - pr) / eps\n",
    "    (vi, vj) = v.shape\n",
    "    vGrad = np.zeros_like(v)\n",
    "    for i in range(vi):\n",
    "        for j in range(vj):\n",
    "            eps = max(v[i,j] * 1e-4, 1e-6)\n",
    "            vPlus = np.array(v)\n",
    "            vPlus[i, j] = v[i,j] + eps\n",
    "            pvPlus = predict(b, w, vPlus, x)\n",
    "            vGrad[i,j] = (pvPlus - pr) / eps\n",
    "    return bGrad, wGrad, vGrad"
   ]
  },
  {
   "cell_type": "markdown",
   "metadata": {},
   "source": [
    "####Read and Format Data"
   ]
  },
  {
   "cell_type": "code",
   "execution_count": 38,
   "metadata": {
    "collapsed": true
   },
   "outputs": [],
   "source": [
    "target_url = \"http://archive.ics.uci.edu/ml/machine-learning-databases/wine-quality/winequality-red.csv\"\n",
    "data = urllib2.urlopen(target_url)\n",
    "x = []\n",
    "y = []\n",
    "names = []\n",
    "firstLine = True\n",
    "\n",
    "for row in data:\n",
    "    if firstLine:\n",
    "        names = row.strip().split(\";\")\n",
    "        firstLine = False\n",
    "    else:\n",
    "        rowSplit = row.strip().split(\";\")\n",
    "        y.append(float(rowSplit.pop()))\n",
    "\n",
    "        floatRow = [float(num) for num in rowSplit]\n",
    "        x.append(floatRow)\n",
    "\n",
    "# training and test sets\n",
    "indices = range(len(x))\n",
    "xTe = [x[i] for i in indices if i%2 == 0 ]\n",
    "xTr = [x[i] for i in indices if i%2 != 0 ]\n",
    "yTe = [y[i] for i in indices if i%2 == 0]\n",
    "yTr = [y[i] for i in indices if i%2 != 0]\n",
    "\n",
    "xTe = np.array(xTe); xTr = np.array(xTr); yTe = np.array(yTe); yTr = np.array(yTr)"
   ]
  },
  {
   "cell_type": "markdown",
   "metadata": {},
   "source": [
    "#### meta parameters"
   ]
  },
  {
   "cell_type": "code",
   "execution_count": 43,
   "metadata": {
    "collapsed": true
   },
   "outputs": [],
   "source": [
    "nDim = 5          # dimension of abstract factor space\n",
    "lam1 = 0.0001      # multiplier for L1 penalty on linear weight vector w\n",
    "lam2 = 0.0001        # multiplier for L1 penalty on cross-product terms v\n",
    "nPasses = 600     # number of passes through gradient descent calculations\n",
    "gradTest = False  # test gradient calculation against numerical gradient?\n",
    "gradStep = 0.0001 # step size for gradient descent."
   ]
  },
  {
   "cell_type": "markdown",
   "metadata": {},
   "source": [
    "#### some setup and initialization"
   ]
  },
  {
   "cell_type": "code",
   "execution_count": 53,
   "metadata": {
    "collapsed": true
   },
   "outputs": [],
   "source": [
    "rowTr, nAtt = xTr.shape\n",
    "rowTe, nAtt = xTe.shape\n",
    "vSize = nDim * nAtt\n",
    "wSize = nAtt\n",
    "# explore alternative v initiazations\n",
    "v = np.random.normal(0.0, 1.0 / float(vSize), (len(xTr[0, :]), nDim))\n",
    "# v = np.zeros((len(xTr[0, :]), nDim))\n",
    "b = 0.0\n",
    "# w = np.random.normal(0.0, 1.0 / float(wSize), (len(xTr[0, :])))\n",
    "w = np.zeros_like(xTr[0, :])"
   ]
  },
  {
   "cell_type": "markdown",
   "metadata": {},
   "source": [
    "####Train and Test"
   ]
  },
  {
   "cell_type": "code",
   "execution_count": 54,
   "metadata": {
    "collapsed": false,
    "scrolled": true
   },
   "outputs": [
    {
     "name": "stdout",
     "output_type": "stream",
     "text": [
      "Training Error     Test Error\n",
      "3.99306008609 4.02132641411\n",
      "3.0526095594 3.00401743806\n"
     ]
    },
    {
     "ename": "KeyboardInterrupt",
     "evalue": "",
     "output_type": "error",
     "traceback": [
      "\u001b[0;31m---------------------------------------------------------------------------\u001b[0m",
      "\u001b[0;31mKeyboardInterrupt\u001b[0m                         Traceback (most recent call last)",
      "\u001b[0;32m<ipython-input-54-b64bd2664caa>\u001b[0m in \u001b[0;36m<module>\u001b[0;34m()\u001b[0m\n\u001b[1;32m     33\u001b[0m \u001b[0;34m\u001b[0m\u001b[0m\n\u001b[1;32m     34\u001b[0m         \u001b[0;31m# gradient\u001b[0m\u001b[0;34m\u001b[0m\u001b[0;34m\u001b[0m\u001b[0m\n\u001b[0;32m---> 35\u001b[0;31m         \u001b[0mbg\u001b[0m\u001b[0;34m,\u001b[0m \u001b[0mwg\u001b[0m\u001b[0;34m,\u001b[0m \u001b[0mvg\u001b[0m \u001b[0;34m=\u001b[0m \u001b[0mgrad\u001b[0m\u001b[0;34m(\u001b[0m\u001b[0mb\u001b[0m\u001b[0;34m,\u001b[0m \u001b[0mw\u001b[0m\u001b[0;34m,\u001b[0m \u001b[0mv\u001b[0m\u001b[0;34m,\u001b[0m \u001b[0mx\u001b[0m\u001b[0;34m)\u001b[0m\u001b[0;34m\u001b[0m\u001b[0m\n\u001b[0m\u001b[1;32m     36\u001b[0m         \u001b[0;31m# updated weights\u001b[0m\u001b[0;34m\u001b[0m\u001b[0;34m\u001b[0m\u001b[0m\n\u001b[1;32m     37\u001b[0m \u001b[0;34m\u001b[0m\u001b[0m\n",
      "\u001b[0;32m<ipython-input-35-ed03ec2ada89>\u001b[0m in \u001b[0;36mgrad\u001b[0;34m(b, w, v, x)\u001b[0m\n\u001b[1;32m      9\u001b[0m         \u001b[0mvSum\u001b[0m \u001b[0;34m+=\u001b[0m \u001b[0mv\u001b[0m\u001b[0;34m[\u001b[0m\u001b[0mj\u001b[0m\u001b[0;34m,\u001b[0m \u001b[0;34m:\u001b[0m\u001b[0;34m]\u001b[0m \u001b[0;34m*\u001b[0m \u001b[0mx\u001b[0m\u001b[0;34m[\u001b[0m\u001b[0mj\u001b[0m\u001b[0;34m]\u001b[0m\u001b[0;34m\u001b[0m\u001b[0m\n\u001b[1;32m     10\u001b[0m     \u001b[0;32mfor\u001b[0m \u001b[0mi\u001b[0m \u001b[0;32min\u001b[0m \u001b[0mrange\u001b[0m\u001b[0;34m(\u001b[0m\u001b[0mlen\u001b[0m\u001b[0;34m(\u001b[0m\u001b[0mx\u001b[0m\u001b[0;34m)\u001b[0m\u001b[0;34m)\u001b[0m\u001b[0;34m:\u001b[0m\u001b[0;34m\u001b[0m\u001b[0m\n\u001b[0;32m---> 11\u001b[0;31m         \u001b[0mvGrad\u001b[0m\u001b[0;34m[\u001b[0m\u001b[0mi\u001b[0m\u001b[0;34m,\u001b[0m \u001b[0;34m:\u001b[0m\u001b[0;34m]\u001b[0m \u001b[0;34m=\u001b[0m \u001b[0mx\u001b[0m\u001b[0;34m[\u001b[0m\u001b[0mi\u001b[0m\u001b[0;34m]\u001b[0m \u001b[0;34m*\u001b[0m \u001b[0mvSum\u001b[0m \u001b[0;34m-\u001b[0m \u001b[0mv\u001b[0m\u001b[0;34m[\u001b[0m\u001b[0mi\u001b[0m\u001b[0;34m,\u001b[0m \u001b[0;34m:\u001b[0m\u001b[0;34m]\u001b[0m \u001b[0;34m*\u001b[0m \u001b[0mx\u001b[0m\u001b[0;34m[\u001b[0m\u001b[0mi\u001b[0m\u001b[0;34m]\u001b[0m \u001b[0;34m*\u001b[0m \u001b[0mx\u001b[0m\u001b[0;34m[\u001b[0m\u001b[0mi\u001b[0m\u001b[0;34m]\u001b[0m\u001b[0;34m\u001b[0m\u001b[0m\n\u001b[0m\u001b[1;32m     12\u001b[0m     \u001b[0;32mreturn\u001b[0m \u001b[0mbGrad\u001b[0m\u001b[0;34m,\u001b[0m \u001b[0mwGrad\u001b[0m\u001b[0;34m,\u001b[0m \u001b[0mvGrad\u001b[0m\u001b[0;34m\u001b[0m\u001b[0m\n",
      "\u001b[0;31mKeyboardInterrupt\u001b[0m: "
     ]
    }
   ],
   "source": [
    "print 'Training Error     Test Error'\n",
    "test_error = []\n",
    "train_error = []\n",
    "\n",
    "# #initialize weights\n",
    "# w1 = 1.0\n",
    "# w2 = 1.0\n",
    "# w3 = 1.0\n",
    "\n",
    "# #initialize smoothed squared gradients\n",
    "# smSqg1 = 0.0\n",
    "# smSqg2 = 0.0\n",
    "# smSqg3 = 0.0\n",
    "\n",
    "# #initialize smoothed squared dw's\n",
    "# smSqdw1 = 0.0\n",
    "# smSqdw2 = 0.0\n",
    "# smSqdw3 = 0.0\n",
    "\n",
    "# #set meta parameters\n",
    "# # nSteps = 10\n",
    "# rho = 0.9\n",
    "# eps = 1\n",
    "\n",
    "for iPass in range(nPasses):\n",
    "    # calculate full batch gradient (whole training set)\n",
    "    bGrad = 0.0\n",
    "    wGrad = np.zeros_like(xTr[0, :]) \n",
    "    vGrad = np.zeros_like(v)\n",
    "    \n",
    "    for i in range(rowTr): # SGD -- one row at at time\n",
    "        x = xTr[i, :]\n",
    "\n",
    "        # gradient\n",
    "        bg, wg, vg = grad(b, w, v, x)\n",
    "        # updated weights\n",
    "\n",
    "\n",
    "        \n",
    "        if gradTest:\n",
    "            bgNum, wgNum, vgNum = gradNum(b, w, v, x)\n",
    "            print bg - bgNum, np.linalg.norm(wg - wgNum), np.linalg.norm(vg - vgNum)\n",
    "            \n",
    "        # error\n",
    "        err = yTr[i] - predict(b, w, v, x)\n",
    "        bGrad -= err * bg/float(rowTr)\n",
    "        wGrad -= err * wg/float(rowTr)\n",
    "        vGrad -= err * vg/float(rowTr)\n",
    "\n",
    "        \n",
    "    # include regularization penalties and take the step\n",
    "    # L1 Regularization -> d/dw [ lambda * (|w1| + |w2|+ ... + |wn|)] = lambda * (-1 + 1 + 1 -1 + .... - 1)\n",
    "    # the derivative of the L1 norm is lambda times the summation of the signs \n",
    "    \n",
    "\n",
    "    \n",
    "    b -= gradStep * bGrad\n",
    "    w -= gradStep * (wGrad + lam1 * np.sum(np.sign(w)))\n",
    "    v -= gradStep * (vGrad + lam2 * np.sum(np.sign(v))) \n",
    "#     gradient = [bGrad,wGrad,vGrad]\n",
    "#     smSqg1 = rho * smSqg1 + (1 - rho) * gradient[0] * gradient[0]\n",
    "#     smSqg2 = rho * smSqg2 + (1 - rho) * gradient[1] * gradient[1]\n",
    "#     smSqg3 = rho * smSqg3 + (1 - rho) * gradient[2] * gradient[2]\n",
    "#     #weight increments\n",
    "#     dw1 = - np.sqrt(smSqdw1 + eps) * gradient[0] / np.sqrt(smSqg1 + eps)\n",
    "#     dw2 = - np.sqrt(smSqdw2 + eps) * gradient[1] / np.sqrt(smSqg2 + eps)\n",
    "#     dw3 = - np.sqrt(smSqdw3 + eps) * gradient[2] / np.sqrt(smSqg3 + eps)\n",
    "    \n",
    "#     smSqdw1 = rho * smSqdw1 + (1 - rho) * dw1 * dw1\n",
    "#     smSqdw2 = rho * smSqdw2 + (1 - rho) * dw2 * dw2\n",
    "#     smSqdw3 = rho * smSqdw3 + (1 - rho) * dw3 * dw3\n",
    "    \n",
    "#     b += dw1\n",
    "#     w += dw2\n",
    "#     v += dw3\n",
    "    \n",
    "\n",
    "    \n",
    "    # calc and print result to monitor progress\n",
    "    eTr = 0.0\n",
    "    eTe = 0.0\n",
    "    \n",
    "    for i in range(rowTr):\n",
    "        x = xTr[i, :]\n",
    "        err = (yTr[i] - predict(b, w, v, x))\n",
    "        eTr += err * err / rowTr\n",
    "        \n",
    "    for i in range(rowTe):\n",
    "        x = xTe[i, :]\n",
    "        err = (yTe[i] - predict(b, w, v, x))\n",
    "        eTe += err * err / rowTe\n",
    "    test_error.append(sqrt(eTe))\n",
    "    train_error.append(sqrt(eTr))\n",
    "    if iPass%10 == 0: \n",
    "        print sqrt(eTr), sqrt(eTe)"
   ]
  },
  {
   "cell_type": "code",
   "execution_count": 107,
   "metadata": {
    "collapsed": false
   },
   "outputs": [
    {
     "data": {
      "image/png": "[encoded data removed]",
      "text/plain": [
       "<matplotlib.figure.Figure at 0x10b06a850>"
      ]
     },
     "metadata": {},
     "output_type": "display_data"
    }
   ],
   "source": [
    "plt.figure(figsize = (15,8))\n",
    "plt.plot(test_error, 'b', label = \"test\");\n",
    "plt.plot(train_error, 'r',label = \"train\");\n",
    "plt.legend();\n",
    "plt.show();"
   ]
  },
  {
   "cell_type": "code",
   "execution_count": 108,
   "metadata": {
    "collapsed": false,
    "scrolled": false
   },
   "outputs": [
    {
     "name": "stdout",
     "output_type": "stream",
     "text": [
      "final train and test error =  0.780371620585 0.769223245936\n",
      "b =  0.0193309598063\n",
      "w = \n",
      "[  1.40638695e-01   2.26249292e-03  -1.90582219e-04   3.45567603e-02\n",
      "  -3.78238653e-03   1.05869938e-01   2.91614369e-03   1.40280192e-02\n",
      "   5.97413198e-02   8.56276747e-03   2.11660504e-01]\n",
      "v = \n",
      "[[-0.02393709  0.02340671 -0.05853038  0.05186878  0.04344224]\n",
      " [-0.02011465  0.02124659  0.00061197 -0.03572728  0.00725958]\n",
      " [ 0.011071    0.01247243  0.01028587  0.03547971 -0.00609078]\n",
      " [-0.0264474   0.02889734 -0.01131283  0.00867604  0.00272095]\n",
      " [ 0.02924829  0.00388548 -0.02062076 -0.00555628  0.0117368 ]\n",
      " [ 0.01828017 -0.00841047  0.01346694 -0.00423067 -0.02953166]\n",
      " [-0.01652961 -0.01489029 -0.009362   -0.01762477  0.00514811]\n",
      " [-0.02044416 -0.01606401 -0.01789154 -0.02002195  0.02691063]\n",
      " [ 0.0163002   0.01512869 -0.03280114  0.03307607  0.01757553]\n",
      " [ 0.01014374  0.06069201 -0.01932828  0.01049423  0.01326326]\n",
      " [-0.03232395  0.01471409 -0.07408533  0.04764992  0.05389799]]\n"
     ]
    }
   ],
   "source": [
    "print 'final train and test error = ', train_error[-1], test_error[-1]\n",
    "print 'b = ', b\n",
    "print 'w = '\n",
    "print w\n",
    "print 'v = '\n",
    "print v"
   ]
  },
  {
   "cell_type": "markdown",
   "metadata": {},
   "source": [
    "##In-class coding\n",
    "1.  Modify the code above to minimize mean absolute error instead of mean squared error. "
   ]
  },
  {
   "cell_type": "markdown",
   "metadata": {},
   "source": [
    "##Homework problems\n",
    "1  Implement backtracking line search to improve gradient descent behavior"
   ]
  },
  {
   "cell_type": "code",
   "execution_count": null,
   "metadata": {
    "collapsed": true
   },
   "outputs": [],
   "source": []
  },
  {
   "cell_type": "markdown",
   "metadata": {},
   "source": [
    "2  Suppose you're given a classification problem.  Suppose y takes values +/- 1.0 and call the prediction function f(x).  Produce the code that takes the gradients of the prediction function wrt to b, w and v (named bGrad, wGrad and vGrad in the code above) and calculates the loss function gradients for logistic loss ($\\frac{1}{ln\\,2}ln(1\\,+\\,e^{-y\\,f(x)})$)"
   ]
  },
  {
   "cell_type": "markdown",
   "metadata": {},
   "source": [
    "3  With the same suppositions as in 2, produce the code for hinge loss function ($max(0.0, 1\\,-\\,y\\,f(x))$). "
   ]
  },
  {
   "cell_type": "code",
   "execution_count": 19,
   "metadata": {
    "collapsed": false
   },
   "outputs": [
    {
     "name": "stdout",
     "output_type": "stream",
     "text": [
      "[[  7.40000000e+00   7.00000000e-01   0.00000000e+00   1.90000000e+00\n",
      "    7.60000000e-02   1.10000000e+01   3.40000000e+01   9.97800000e-01\n",
      "    3.51000000e+00   5.60000000e-01   9.40000000e+00]\n",
      " [  1.12000000e+01   2.80000000e-01   5.60000000e-01   1.90000000e+00\n",
      "    7.50000000e-02   1.70000000e+01   6.00000000e+01   9.98000000e-01\n",
      "    3.16000000e+00   5.80000000e-01   9.80000000e+00]\n",
      " [  7.90000000e+00   6.00000000e-01   6.00000000e-02   1.60000000e+00\n",
      "    6.90000000e-02   1.50000000e+01   5.90000000e+01   9.96400000e-01\n",
      "    3.30000000e+00   4.60000000e-01   9.40000000e+00]\n",
      " [  7.50000000e+00   5.00000000e-01   3.60000000e-01   6.10000000e+00\n",
      "    7.10000000e-02   1.70000000e+01   1.02000000e+02   9.97800000e-01\n",
      "    3.35000000e+00   8.00000000e-01   1.05000000e+01]\n",
      " [  5.60000000e+00   6.15000000e-01   0.00000000e+00   1.60000000e+00\n",
      "    8.90000000e-02   1.60000000e+01   5.90000000e+01   9.94300000e-01\n",
      "    3.58000000e+00   5.20000000e-01   9.90000000e+00]\n",
      " [  8.90000000e+00   6.20000000e-01   1.90000000e-01   3.90000000e+00\n",
      "    1.70000000e-01   5.10000000e+01   1.48000000e+02   9.98600000e-01\n",
      "    3.17000000e+00   9.30000000e-01   9.20000000e+00]\n",
      " [  7.40000000e+00   5.90000000e-01   8.00000000e-02   4.40000000e+00\n",
      "    8.60000000e-02   6.00000000e+00   2.90000000e+01   9.97400000e-01\n",
      "    3.38000000e+00   5.00000000e-01   9.00000000e+00]\n",
      " [  7.60000000e+00   3.90000000e-01   3.10000000e-01   2.30000000e+00\n",
      "    8.20000000e-02   2.30000000e+01   7.10000000e+01   9.98200000e-01\n",
      "    3.52000000e+00   6.50000000e-01   9.70000000e+00]\n",
      " [  6.90000000e+00   4.00000000e-01   1.40000000e-01   2.40000000e+00\n",
      "    8.50000000e-02   2.10000000e+01   4.00000000e+01   9.96800000e-01\n",
      "    3.43000000e+00   6.30000000e-01   9.70000000e+00]\n",
      " [  7.90000000e+00   4.30000000e-01   2.10000000e-01   1.60000000e+00\n",
      "    1.06000000e-01   1.00000000e+01   3.70000000e+01   9.96600000e-01\n",
      "    3.17000000e+00   9.10000000e-01   9.50000000e+00]]\n"
     ]
    }
   ],
   "source": [
    "print xTe[0:10]"
   ]
  },
  {
   "cell_type": "code",
   "execution_count": null,
   "metadata": {
    "collapsed": true
   },
   "outputs": [],
   "source": []
  }
 ],
 "metadata": {
  "kernelspec": {
   "display_name": "Python 3",
   "language": "python",
   "name": "python3"
  },
  "language_info": {
   "codemirror_mode": {
    "name": "ipython",
    "version": 3
   },
   "file_extension": ".py",
   "mimetype": "text/x-python",
   "name": "python",
   "nbconvert_exporter": "python",
   "pygments_lexer": "ipython3",
   "version": "3.6.6"
  }
 },
 "nbformat": 4,
 "nbformat_minor": 2
}
