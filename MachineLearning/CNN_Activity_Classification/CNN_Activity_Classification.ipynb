{
 "cells": [
  {
   "cell_type": "markdown",
   "metadata": {},
   "source": [
    "![](https://ph-files.imgix.net/b16e18a0-1338-4adc-b31f-0f0883c88ad5?auto=format&auto=compress&codec=mozjpeg&cs=strip)"
   ]
  },
  {
   "cell_type": "code",
   "execution_count": 1,
   "metadata": {},
   "outputs": [
    {
     "name": "stderr",
     "output_type": "stream",
     "text": [
      "Using TensorFlow backend.\n"
     ]
    }
   ],
   "source": [
    "import numpy as np\n",
    "import pandas as pd\n",
    "import os\n",
    "from time import time\n",
    "from collections import defaultdict\n",
    "import matplotlib.pyplot as plt\n",
    "from sklearn.model_selection import train_test_split\n",
    "from sklearn.utils import shuffle\n",
    "from sklearn.preprocessing import OneHotEncoder\n",
    "import pickle\n",
    "\n",
    "import keras\n",
    "from keras.regularizers import l1, l2\n",
    "from keras.layers import Dense, Flatten\n",
    "from keras.layers import Conv2D, MaxPooling2D\n",
    "from keras.models import Sequential\n",
    "%matplotlib inline"
   ]
  },
  {
   "cell_type": "markdown",
   "metadata": {},
   "source": [
    "----\n",
    "\n",
    "### Introduction \n",
    "\n",
    "In this notebook, we quickly implement a solution to classifying physical activities that is very similar to the solution presented in this paper [Exercise Motion Classification from Large-Scale Wearable Sensor Data\n",
    "Using Convolutional Neural Networks](https://arxiv.org/pdf/1610.07031.pdf). Just as the data in the paper, the data set used in this notebook was collected from sensors that are attached to people while they perform their physical activities. \n",
    "\n",
    "The solution in this notebook has some differences. \n",
    "\n",
    "First of all, the data set used here is for general activities such as walking up and down a flight of stairs, running on a treadmil, laying down, and sitting. The data set in the paper exclusively contains weightroom activities, such as bench pressing and squats. \n",
    "\n",
    "Second, unlike the dataset in the paper, the data used in this notebook is relatively clean. So things like zero-padding the sensor data is not necessary here. \n",
    "\n",
    "Thrid, unlike the dataset in the paper, there are no reps or sets in data set used in this notebook. \n",
    "\n",
    "The value of this work is to demonstrate that the approach to using Convolutional Neural Networks (CNNs) to classify time series data is an effective general solution that can be potentially be used for BioStrap's data.  \n",
    "\n",
    "This notebook doesn't contain any indepth analysis of the dataset (which is not it's goal), it instead focuses on training a CNN. For those interested in data analysis, feel free to check out this [Jupyter Notebook](https://github.com/DataBeast03/DataBeast/blob/master/MachineLearning/Data_Scienec_Case_Study_IoT.ipynb).\n",
    "\n",
    "Change.\n",
    "\n",
    "----\n",
    "\n",
    "### Load and Format Data"
   ]
  },
  {
   "cell_type": "code",
   "execution_count": 2,
   "metadata": {},
   "outputs": [],
   "source": [
    "# these functions are used to load the data from the hierarchy of folders in which it is stored\n",
    "\n",
    "def generate_feature_names():\n",
    "    '''Creates feature names for dataframe header'''\n",
    "    feat_names = []\n",
    "    for unit_label in [\"T\", \"RA\", \"LA\", \"RL\", \"LL\"]:\n",
    "        for sensor  in [\"acc\",\"gyro\",\"mag\"]:\n",
    "            for position in ['X','Y','Z']:\n",
    "                feat_names.append(unit_label + \"_\" + position + sensor)\n",
    "    return feat_names\n",
    "\n",
    "def get_activity_files_names():\n",
    "    '''Creates activity file names'''\n",
    "    activity_files = []\n",
    "    for num in np.arange(1,20,1):\n",
    "        if num < 10:\n",
    "            activity_files.append(\"a0{}\".format(num))\n",
    "        else:\n",
    "            activity_files.append(\"a{}\".format(num))\n",
    "    return activity_files\n",
    "\n",
    "def get_segment_files_names():\n",
    "    '''Creates segment file names'''\n",
    "    segment_files = []\n",
    "    for num in np.arange(1,61,1):\n",
    "        if num < 10:\n",
    "            segment_files.append(\"s0{}.txt\".format(num))\n",
    "        else:\n",
    "            segment_files.append(\"s{}.txt\".format(num))\n",
    "    return segment_files\n",
    "\n",
    "def get_data(data_home, feat_names, body_part, activity_files, person_files, segment_files):\n",
    "    '''loads data, extracts features, and transforms data'''\n",
    "    player_data = defaultdict(list)\n",
    "    # for activity_i\n",
    "    for act_i, activity in enumerate(activity_files):\n",
    "        act_i += 1\n",
    "        # for person_j\n",
    "        for per_i, person in enumerate(person_files):\n",
    "            per_i += 1\n",
    "            # for segment_k\n",
    "            for seg_i, segment in enumerate(segment_files): \n",
    "                seg_i += 1\n",
    "                \n",
    "                # load segment data\n",
    "                segment_path = data_home + activity + \"/\" + person + \"/\" + segment\n",
    "                \n",
    "                # put data in dataframe\n",
    "                df = pd.read_csv(segment_path, header=None)\n",
    "                \n",
    "                # assign column names\n",
    "                df.columns = feat_names\n",
    "                df = df[body_part].copy()\n",
    "                \n",
    "                # each segment is now a row \n",
    "                player_data[act_i].append(df)   \n",
    "                \n",
    "    return player_data"
   ]
  },
  {
   "cell_type": "code",
   "execution_count": 3,
   "metadata": {},
   "outputs": [],
   "source": [
    "# generate names of activities and segments to create file names\n",
    "activity_files = get_activity_files_names()\n",
    "segment_files =  get_segment_files_names()\n",
    "person_files = [\"p{}\".format(num) for num in np.arange(1,9,1)]"
   ]
  },
  {
   "cell_type": "code",
   "execution_count": 4,
   "metadata": {},
   "outputs": [],
   "source": [
    "data_home = \"/Users/Alexander/IPython_Notebooks/CNN_Activity_Classification/data/\"\n",
    "feat_names = generate_feature_names()\n",
    "right_arm = feat_names[9:18]"
   ]
  },
  {
   "cell_type": "code",
   "execution_count": 5,
   "metadata": {},
   "outputs": [
    {
     "name": "stdout",
     "output_type": "stream",
     "text": [
      "68.99085593223572\n"
     ]
    }
   ],
   "source": [
    "# extract revelent data\n",
    "start = time()\n",
    "player_data = get_data(data_home,\n",
    "                       feat_names, \n",
    "                       right_arm, \n",
    "                       activity_files, \n",
    "                       person_files, \n",
    "                       segment_files)\n",
    "end = time()\n",
    "print (end - start)"
   ]
  },
  {
   "cell_type": "code",
   "execution_count": 6,
   "metadata": {},
   "outputs": [
    {
     "data": {
      "text/plain": [
       "dict_keys([1, 2, 3, 4, 5, 6, 7, 8, 9, 10, 11, 12, 13, 14, 15, 16, 17, 18, 19])"
      ]
     },
     "execution_count": 6,
     "metadata": {},
     "output_type": "execute_result"
    }
   ],
   "source": [
    "# keys in the dict are the activity numbers\n",
    "player_data.keys()"
   ]
  },
  {
   "cell_type": "code",
   "execution_count": 7,
   "metadata": {},
   "outputs": [
    {
     "data": {
      "text/plain": [
       "480"
      ]
     },
     "execution_count": 7,
     "metadata": {},
     "output_type": "execute_result"
    }
   ],
   "source": [
    "# this many 2D samples for each activity \n",
    "len(player_data[1])"
   ]
  },
  {
   "cell_type": "code",
   "execution_count": 8,
   "metadata": {},
   "outputs": [
    {
     "data": {
      "text/plain": [
       "(125, 9)"
      ]
     },
     "execution_count": 8,
     "metadata": {},
     "output_type": "execute_result"
    }
   ],
   "source": [
    "# fortunately for us, we won't have to zero-pad our samples \n",
    "# due to the way that the data was measured \n",
    "\n",
    "# the shape of each sample\n",
    "# 25 Hz --> 25 samples per second \n",
    "# 5 second samples\n",
    "# 25 * 5 = 125 samples (rows)\n",
    "# 9 features --> 3 dims for each of the 3 devices\n",
    "player_data[1][1].shape"
   ]
  },
  {
   "cell_type": "code",
   "execution_count": 9,
   "metadata": {},
   "outputs": [
    {
     "data": {
      "text/html": [
       "<div>\n",
       "<style scoped>\n",
       "    .dataframe tbody tr th:only-of-type {\n",
       "        vertical-align: middle;\n",
       "    }\n",
       "\n",
       "    .dataframe tbody tr th {\n",
       "        vertical-align: top;\n",
       "    }\n",
       "\n",
       "    .dataframe thead th {\n",
       "        text-align: right;\n",
       "    }\n",
       "</style>\n",
       "<table border=\"1\" class=\"dataframe\">\n",
       "  <thead>\n",
       "    <tr style=\"text-align: right;\">\n",
       "      <th></th>\n",
       "      <th>RA_Xacc</th>\n",
       "      <th>RA_Yacc</th>\n",
       "      <th>RA_Zacc</th>\n",
       "      <th>RA_Xgyro</th>\n",
       "      <th>RA_Ygyro</th>\n",
       "      <th>RA_Zgyro</th>\n",
       "      <th>RA_Xmag</th>\n",
       "      <th>RA_Ymag</th>\n",
       "      <th>RA_Zmag</th>\n",
       "    </tr>\n",
       "  </thead>\n",
       "  <tbody>\n",
       "    <tr>\n",
       "      <th>0</th>\n",
       "      <td>0.62906</td>\n",
       "      <td>5.7852</td>\n",
       "      <td>7.8624</td>\n",
       "      <td>0.023668</td>\n",
       "      <td>0.003574</td>\n",
       "      <td>-0.008247</td>\n",
       "      <td>-0.56515</td>\n",
       "      <td>-0.56762</td>\n",
       "      <td>-0.20656</td>\n",
       "    </tr>\n",
       "    <tr>\n",
       "      <th>1</th>\n",
       "      <td>0.59229</td>\n",
       "      <td>5.8239</td>\n",
       "      <td>7.8745</td>\n",
       "      <td>0.027182</td>\n",
       "      <td>0.000057</td>\n",
       "      <td>-0.004739</td>\n",
       "      <td>-0.56430</td>\n",
       "      <td>-0.56565</td>\n",
       "      <td>-0.20720</td>\n",
       "    </tr>\n",
       "    <tr>\n",
       "      <th>2</th>\n",
       "      <td>0.60946</td>\n",
       "      <td>5.8190</td>\n",
       "      <td>7.8795</td>\n",
       "      <td>0.002920</td>\n",
       "      <td>-0.003381</td>\n",
       "      <td>0.002559</td>\n",
       "      <td>-0.56486</td>\n",
       "      <td>-0.56409</td>\n",
       "      <td>-0.20765</td>\n",
       "    </tr>\n",
       "    <tr>\n",
       "      <th>3</th>\n",
       "      <td>0.61184</td>\n",
       "      <td>5.8095</td>\n",
       "      <td>7.8551</td>\n",
       "      <td>-0.004387</td>\n",
       "      <td>-0.019235</td>\n",
       "      <td>0.006979</td>\n",
       "      <td>-0.53649</td>\n",
       "      <td>-0.55611</td>\n",
       "      <td>-0.18054</td>\n",
       "    </tr>\n",
       "    <tr>\n",
       "      <th>4</th>\n",
       "      <td>0.65361</td>\n",
       "      <td>5.7851</td>\n",
       "      <td>7.8796</td>\n",
       "      <td>0.009090</td>\n",
       "      <td>-0.010397</td>\n",
       "      <td>0.008698</td>\n",
       "      <td>-0.56850</td>\n",
       "      <td>-0.56411</td>\n",
       "      <td>-0.20785</td>\n",
       "    </tr>\n",
       "  </tbody>\n",
       "</table>\n",
       "</div>"
      ],
      "text/plain": [
       "   RA_Xacc  RA_Yacc  RA_Zacc  RA_Xgyro  RA_Ygyro  RA_Zgyro  RA_Xmag  RA_Ymag  \\\n",
       "0  0.62906   5.7852   7.8624  0.023668  0.003574 -0.008247 -0.56515 -0.56762   \n",
       "1  0.59229   5.8239   7.8745  0.027182  0.000057 -0.004739 -0.56430 -0.56565   \n",
       "2  0.60946   5.8190   7.8795  0.002920 -0.003381  0.002559 -0.56486 -0.56409   \n",
       "3  0.61184   5.8095   7.8551 -0.004387 -0.019235  0.006979 -0.53649 -0.55611   \n",
       "4  0.65361   5.7851   7.8796  0.009090 -0.010397  0.008698 -0.56850 -0.56411   \n",
       "\n",
       "   RA_Zmag  \n",
       "0 -0.20656  \n",
       "1 -0.20720  \n",
       "2 -0.20765  \n",
       "3 -0.18054  \n",
       "4 -0.20785  "
      ]
     },
     "execution_count": 9,
     "metadata": {},
     "output_type": "execute_result"
    }
   ],
   "source": [
    "# the right arm readings of each activity \n",
    "player_data[1][1].head()"
   ]
  },
  {
   "cell_type": "code",
   "execution_count": 10,
   "metadata": {
    "scrolled": false
   },
   "outputs": [],
   "source": [
    "acc_cols = [\"RA_Xacc\",\"RA_Yacc\", \"RA_Zacc\"]\n",
    "gyro_cols = [\"RA_Xgyro\",\"RA_Ygyro\", \"RA_Zgyro\"]\n",
    "mag_cols = [\"RA_Xmag\",\"RA_Ymag\", \"RA_Zmag\"]\n",
    "\n",
    "# the paper says to think of each device has a RBG color channel \n",
    "R = player_data[1][1][acc_cols].values\n",
    "B = player_data[1][1][gyro_cols].values\n",
    "G = player_data[1][1][mag_cols].values"
   ]
  },
  {
   "cell_type": "code",
   "execution_count": 11,
   "metadata": {},
   "outputs": [
    {
     "name": "stdout",
     "output_type": "stream",
     "text": [
      "(3, 125, 3)\n"
     ]
    },
    {
     "data": {
      "text/plain": [
       "array([[[  6.29060000e-01,   5.78520000e+00,   7.86240000e+00],\n",
       "        [  5.92290000e-01,   5.82390000e+00,   7.87450000e+00],\n",
       "        [  6.09460000e-01,   5.81900000e+00,   7.87950000e+00],\n",
       "        ..., \n",
       "        [  6.35990000e-01,   5.83370000e+00,   7.83620000e+00],\n",
       "        [  6.14080000e-01,   5.82870000e+00,   7.86280000e+00],\n",
       "        [  6.24020000e-01,   5.80440000e+00,   7.88460000e+00]],\n",
       "\n",
       "       [[  2.36680000e-02,   3.57400000e-03,  -8.24700000e-03],\n",
       "        [  2.71820000e-02,   5.70000000e-05,  -4.73900000e-03],\n",
       "        [  2.92000000e-03,  -3.38100000e-03,   2.55900000e-03],\n",
       "        ..., \n",
       "        [  1.64980000e-02,   9.14000000e-04,  -1.42670000e-02],\n",
       "        [ -1.60700000e-03,  -5.11100000e-03,   2.74100000e-03],\n",
       "        [  1.37250000e-02,   7.21400000e-03,   1.20000000e-05]],\n",
       "\n",
       "       [[ -5.65150000e-01,  -5.67620000e-01,  -2.06560000e-01],\n",
       "        [ -5.64300000e-01,  -5.65650000e-01,  -2.07200000e-01],\n",
       "        [ -5.64860000e-01,  -5.64090000e-01,  -2.07650000e-01],\n",
       "        ..., \n",
       "        [ -5.67730000e-01,  -5.65200000e-01,  -2.06570000e-01],\n",
       "        [ -5.67370000e-01,  -5.66930000e-01,  -2.04960000e-01],\n",
       "        [ -5.68540000e-01,  -5.65960000e-01,  -2.07250000e-01]]])"
      ]
     },
     "execution_count": 11,
     "metadata": {},
     "output_type": "execute_result"
    }
   ],
   "source": [
    "# notice how the top 2D array is contains the acceleration values \n",
    "rbg_sample = np.array((R,B,G))\n",
    "print(rbg_sample.shape)\n",
    "rbg_sample"
   ]
  },
  {
   "cell_type": "code",
   "execution_count": 12,
   "metadata": {},
   "outputs": [],
   "source": [
    "def reformate_data(player_data, acc, gyro, mag):\n",
    "    '''Reformats the dims of the data'''\n",
    "    X_data = []\n",
    "    Y_data = []\n",
    "    for activty, data_list in player_data.items():\n",
    "        for df in data_list:\n",
    "            \n",
    "            acc = df[acc_cols].values\n",
    "            gyro = df[gyro_cols].values\n",
    "            mag = df[mag_cols].values\n",
    "\n",
    "            formated_sample = np.array((acc,gyro,mag))\n",
    "\n",
    "            X_data.append(formated_sample)\n",
    "            Y_data.append(activty)\n",
    "\n",
    "    return np.array(X_data), np.array(Y_data)"
   ]
  },
  {
   "cell_type": "code",
   "execution_count": 13,
   "metadata": {},
   "outputs": [
    {
     "name": "stdout",
     "output_type": "stream",
     "text": [
      "17.51854109764099\n"
     ]
    }
   ],
   "source": [
    "start = time()\n",
    "X_data, Y_data = reformate_data(player_data, \n",
    "                                acc_cols, \n",
    "                                gyro_cols, \n",
    "                                mag_cols)\n",
    "end = time()\n",
    "print (end - start)"
   ]
  },
  {
   "cell_type": "code",
   "execution_count": 14,
   "metadata": {},
   "outputs": [
    {
     "data": {
      "text/plain": [
       "(9120,)"
      ]
     },
     "execution_count": 14,
     "metadata": {},
     "output_type": "execute_result"
    }
   ],
   "source": [
    "Y_data.shape"
   ]
  },
  {
   "cell_type": "code",
   "execution_count": 15,
   "metadata": {},
   "outputs": [],
   "source": [
    "num_classes = len(np.unique(Y_data))"
   ]
  },
  {
   "cell_type": "code",
   "execution_count": 16,
   "metadata": {},
   "outputs": [
    {
     "data": {
      "text/plain": [
       "(9120, 3, 125, 3)"
      ]
     },
     "execution_count": 16,
     "metadata": {},
     "output_type": "execute_result"
    }
   ],
   "source": [
    "# (samples, channels, rows, cols)\n",
    "X_data.shape"
   ]
  },
  {
   "cell_type": "code",
   "execution_count": 17,
   "metadata": {},
   "outputs": [],
   "source": [
    "Y_data = Y_data.reshape((Y_data.shape[0],1))"
   ]
  },
  {
   "cell_type": "code",
   "execution_count": 18,
   "metadata": {},
   "outputs": [
    {
     "data": {
      "text/plain": [
       "OneHotEncoder(categorical_features='all', dtype=<class 'numpy.float64'>,\n",
       "       handle_unknown='error', n_values='auto', sparse=True)"
      ]
     },
     "execution_count": 18,
     "metadata": {},
     "output_type": "execute_result"
    }
   ],
   "source": [
    "# labels must be one-hot encoded for the softmax layer of the CNN\n",
    "encoder = OneHotEncoder()\n",
    "encoder.fit(Y_data)  "
   ]
  },
  {
   "cell_type": "code",
   "execution_count": 19,
   "metadata": {},
   "outputs": [],
   "source": [
    "Y_data = encoder.transform(Y_data).toarray()"
   ]
  },
  {
   "cell_type": "code",
   "execution_count": 20,
   "metadata": {},
   "outputs": [],
   "source": [
    "X_data, Y_data = shuffle(X_data, Y_data)"
   ]
  },
  {
   "cell_type": "code",
   "execution_count": 21,
   "metadata": {},
   "outputs": [],
   "source": [
    "save_data = \"model_ready_data.pkl\"\n",
    "pickle.dump((X_data, Y_data), open(save_data, 'wb'))"
   ]
  },
  {
   "cell_type": "code",
   "execution_count": 22,
   "metadata": {},
   "outputs": [],
   "source": [
    "# save_data = \"model_ready_data.pkl\"\n",
    "# X_data, Y_data = pickle.load(open(save_data, 'rb'))"
   ]
  },
  {
   "cell_type": "code",
   "execution_count": 23,
   "metadata": {},
   "outputs": [],
   "source": [
    "X_train, X_test, Y_train, Y_test = train_test_split(X_data, Y_data, test_size = 0.20, random_state = 1234)"
   ]
  },
  {
   "cell_type": "markdown",
   "metadata": {},
   "source": [
    "------\n"
   ]
  },
  {
   "cell_type": "markdown",
   "metadata": {},
   "source": [
    "### Train CNN\n",
    "\n",
    "Here we will build and train our CNN. We will follow the paper in selection two convolutional layers with max pooling. But instead of using a single fully connected layer, we'll use two. \n",
    "\n",
    "Also, the paper used TensorFlow to build their model. TensorFlow is a great package to use for building deep learning models, however it requires a lot of boilerplate code. The beauty of Keras is that it is a wrapper around TensorFlow that takes care of that boilerplate code for you. Which allows for much quicker iterations. "
   ]
  },
  {
   "cell_type": "code",
   "execution_count": 24,
   "metadata": {
    "scrolled": false
   },
   "outputs": [],
   "source": [
    "# CNN model\n",
    "model = Sequential()\n",
    "\n",
    "\n",
    "model.add(Conv2D(filters=32, \n",
    "                 kernel_size=(1, 1), \n",
    "                 strides=(1, 1),\n",
    "                 activation='relu',\n",
    "                 input_shape=(3, 125, 3)))\n",
    "\n",
    "model.add(MaxPooling2D(pool_size=(2, 2), \n",
    "                       strides=(1, 1)))\n",
    "\n",
    "model.add(Conv2D(filters=64, \n",
    "                 kernel_size=(1, 1), \n",
    "                 activation='relu'))\n",
    "\n",
    "model.add(MaxPooling2D(pool_size=(2, 2)))\n",
    "\n",
    "\n",
    "model.add(Flatten())\n",
    "model.add(Dense(1000, activation='relu'))\n",
    "model.add(Dense(num_classes, activation='softmax'))"
   ]
  },
  {
   "cell_type": "code",
   "execution_count": 25,
   "metadata": {},
   "outputs": [],
   "source": [
    "model.compile(loss=keras.losses.categorical_crossentropy,\n",
    "              optimizer=keras.optimizers.SGD(lr=0.01),\n",
    "              metrics=['accuracy'])"
   ]
  },
  {
   "cell_type": "code",
   "execution_count": 26,
   "metadata": {},
   "outputs": [],
   "source": [
    "class AccuracyHistory(keras.callbacks.Callback):\n",
    "    def on_train_begin(self, logs={}):\n",
    "        self.acc = []\n",
    "\n",
    "    def on_epoch_end(self, batch, logs={}):\n",
    "        self.acc.append(logs.get('acc'))"
   ]
  },
  {
   "cell_type": "code",
   "execution_count": 27,
   "metadata": {},
   "outputs": [],
   "source": [
    "history = AccuracyHistory()"
   ]
  },
  {
   "cell_type": "code",
   "execution_count": 28,
   "metadata": {},
   "outputs": [
    {
     "name": "stdout",
     "output_type": "stream",
     "text": [
      "Train on 7296 samples, validate on 1824 samples\n",
      "Epoch 1/10\n",
      "7296/7296 [==============================] - 17s - loss: 1.8526 - acc: 0.3982 - val_loss: 1.4093 - val_acc: 0.4890\n",
      "Epoch 2/10\n",
      "7296/7296 [==============================] - 17s - loss: 1.1362 - acc: 0.6235 - val_loss: 1.0706 - val_acc: 0.6447\n",
      "Epoch 3/10\n",
      "7296/7296 [==============================] - 17s - loss: 0.8063 - acc: 0.7503 - val_loss: 0.7545 - val_acc: 0.7955\n",
      "Epoch 4/10\n",
      "7296/7296 [==============================] - 17s - loss: 0.6159 - acc: 0.8096 - val_loss: 0.6204 - val_acc: 0.8196\n",
      "Epoch 5/10\n",
      "7296/7296 [==============================] - 17s - loss: 0.4884 - acc: 0.8509 - val_loss: 0.6359 - val_acc: 0.7791\n",
      "Epoch 6/10\n",
      "7296/7296 [==============================] - 17s - loss: 0.3891 - acc: 0.8853 - val_loss: 0.4708 - val_acc: 0.8646\n",
      "Epoch 7/10\n",
      "7296/7296 [==============================] - 17s - loss: 0.3221 - acc: 0.9057 - val_loss: 0.4189 - val_acc: 0.8723\n",
      "Epoch 8/10\n",
      "7296/7296 [==============================] - 17s - loss: 0.2703 - acc: 0.9178 - val_loss: 0.3659 - val_acc: 0.8980\n",
      "Epoch 9/10\n",
      "7296/7296 [==============================] - 17s - loss: 0.2348 - acc: 0.9301 - val_loss: 0.3391 - val_acc: 0.9057\n",
      "Epoch 10/10\n",
      "7296/7296 [==============================] - 17s - loss: 0.1899 - acc: 0.9467 - val_loss: 0.3547 - val_acc: 0.8975\n"
     ]
    },
    {
     "data": {
      "text/plain": [
       "<keras.callbacks.History at 0x1c35177940>"
      ]
     },
     "execution_count": 28,
     "metadata": {},
     "output_type": "execute_result"
    }
   ],
   "source": [
    "model.fit(X_train, Y_train,\n",
    "          batch_size=32,\n",
    "          epochs=10,\n",
    "          verbose=1,\n",
    "          validation_data=(X_test, Y_test),\n",
    "          callbacks=[history])"
   ]
  },
  {
   "cell_type": "code",
   "execution_count": 29,
   "metadata": {},
   "outputs": [
    {
     "data": {
      "image/png": "[encoded data removed]",
      "text/plain": [
       "<matplotlib.figure.Figure at 0x1c351b57f0>"
      ]
     },
     "metadata": {},
     "output_type": "display_data"
    }
   ],
   "source": [
    "plt.figure(figsize= (16,4))\n",
    "plt.grid()\n",
    "plt.plot(range(1,11), history.acc)\n",
    "plt.title(\"Train Accuracy vs. Epochs\")\n",
    "plt.xlabel('Epochs')\n",
    "plt.ylabel('Accuracy')\n",
    "plt.show()"
   ]
  },
  {
   "cell_type": "markdown",
   "metadata": {},
   "source": [
    "## Observations\n",
    "\n",
    "The plot above shows the Accuracy score for the train set after each epoch of training. We can see that the performance monotonically increases with each epoch. More importantly, we can see from the model's training output that the test scores are also monotonically increasing. The plot suggest that the model's perforance would increase with more traininng samples. \n",
    "\n",
    "Note that the CNN model has not been optimzed. It's likely that the performance would go up with optimized hyperparameters. Also it would be worth while to explore with different architectures. The authers of the paper stated that a 3-layer CNN performed the best. \n"
   ]
  }
 ],
 "metadata": {
  "kernelspec": {
   "display_name": "Python [conda root]",
   "language": "python",
   "name": "conda-root-py"
  },
  "language_info": {
   "codemirror_mode": {
    "name": "ipython",
    "version": 3
   },
   "file_extension": ".py",
   "mimetype": "text/x-python",
   "name": "python",
   "nbconvert_exporter": "python",
   "pygments_lexer": "ipython3",
   "version": "3.5.4"
  }
 },
 "nbformat": 4,
 "nbformat_minor": 2
}
