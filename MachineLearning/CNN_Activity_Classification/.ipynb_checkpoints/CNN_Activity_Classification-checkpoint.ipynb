{
 "cells": [
  {
   "cell_type": "markdown",
   "metadata": {},
   "source": [
    "![title](sport_watch_logos.png)\n",
    "\n",
    "\n",
    "# Introduction | Use CNN to Classify Physical Activities \n",
    "\n",
    "We are going to train a Convolutional Neural Network (CNN) using [**Keras**](https://keras.io/) to predict which physical activity a user is engaged base on biometric data collected from a wrist wearable. \n",
    "\n",
    "Using a CNN may seam like a non-intutative approach to solving this problem considering that CNNs are specifically designed to classify images -- not time series data. The reserchers of the following article address that concern, while also demonstrating the success of using this appraoch -- reaching a test accuracy of over 90%. \n",
    "\n",
    "In the paper, Terry, Vahid, and Dana leaverage the fact that deep learning networks engineer whatever features they need in order to improve their predictive performance. The challenge for the data scientist is no longer feature engineering, but feature formating. The authors show that depending how one formats the time series data into a matrix it will directly affect how the CNN convolves the features and that directly affects performance. \n",
    "\n",
    "In this notebook, we're going to implement their most successful appraoch on the [**Daily Sports and Activities**](http://archive.ics.uci.edu/ml/datasets/Daily+and+Sports+Activities) data set from the [**UCI Machine Learning Repository**](http://archive.ics.uci.edu/ml/index.html)."
   ]
  },
  {
   "cell_type": "code",
   "execution_count": 1,
   "metadata": {
    "scrolled": true
   },
   "outputs": [
    {
     "data": {
      "text/html": [
       "<iframe src=https://arxiv.org/pdf/1610.07031.pdf width=1000 height=400></iframe>"
      ],
      "text/plain": [
       "<IPython.core.display.HTML object>"
      ]
     },
     "execution_count": 1,
     "metadata": {},
     "output_type": "execute_result"
    }
   ],
   "source": [
    "from IPython.display import HTML\n",
    "HTML('<iframe src=https://arxiv.org/pdf/1610.07031.pdf width=1000 height=400></iframe>')"
   ]
  },
  {
   "cell_type": "markdown",
   "metadata": {},
   "source": [
    "-----\n",
    "\n",
    "# About the Data\n",
    "\n",
    "8 users all participate in the same 19 activites. Each of the 5 devices (4 limbs and 1 torso) have 9 sensors (x,y,z accelerometers, x,y,z gyroscopes, and x,y,z magnetometers). The data is collected in 5 second segments with a frequency of 25 Hz for a total of 5 minutes for each activity for each user. \n",
    "\n",
    "### The 19 activities are: \n",
    "\n",
    "    sitting (A1), \n",
    "    standing (A2), \n",
    "    lying on back and on right side (A3 and A4), \n",
    "    ascending and descending stairs (A5 and A6), \n",
    "    standing in an elevator still (A7) \n",
    "    and moving around in an elevator (A8), \n",
    "    walking in a parking lot (A9), \n",
    "    walking on a treadmill with a speed of 4 km/h (in flat and 15 deg inclined positions) (A1 \n",
    "    0 and A11), \n",
    "    running on a treadmill with a speed of 8 km/h (A12), \n",
    "    exercising on a stepper (A13), \n",
    "    exercising on a cross trainer (A14), \n",
    "    cycling on an exercise bike in horizontal and vertical positions (A15 and A16), \n",
    "    rowing (A17), \n",
    "    jumping (A18), \n",
    "    and playing basketball (A19). \n",
    "    \n",
    "### File structure: \n",
    "\n",
    "    19 activities (a) (in the order given above) \n",
    "    8 users (p) \n",
    "    60 segments (s) \n",
    "    5 units on torso (T), right arm (RA), left arm (LA), right leg (RL), left leg (LL) \n",
    "    9 sensors on each unit (x,y,z accelerometers, x,y,z gyroscopes, x,y,z magnetometers) \n",
    "\n",
    "Since commerically available IoT wearables are a single device (i.e. a wrist watch), we will only use the right arm portion of this data and ignore the data collected from the other devices strapped on the users. \n",
    "\n",
    "----\n",
    "\n",
    "# Formating the Data"
   ]
  },
  {
   "cell_type": "code",
   "execution_count": 2,
   "metadata": {},
   "outputs": [
    {
     "name": "stderr",
     "output_type": "stream",
     "text": [
      "Using TensorFlow backend.\n"
     ]
    }
   ],
   "source": [
    "# import packages \n",
    "import numpy as np\n",
    "import pandas as pd\n",
    "import os\n",
    "from time import time\n",
    "from collections import defaultdict\n",
    "import matplotlib.pyplot as plt\n",
    "from sklearn.model_selection import train_test_split\n",
    "from sklearn.utils import shuffle\n",
    "from sklearn.preprocessing import OneHotEncoder\n",
    "import pickle\n",
    "\n",
    "import keras\n",
    "from keras.regularizers import l1, l2\n",
    "from keras.layers import Dense, Flatten\n",
    "from keras.layers import Conv2D, MaxPooling2D\n",
    "from keras.models import Sequential\n",
    "%matplotlib inline"
   ]
  },
  {
   "cell_type": "code",
   "execution_count": 3,
   "metadata": {},
   "outputs": [],
   "source": [
    "# these functions are used to load the data from the hierarchy of folders in which it is stored\n",
    "\n",
    "def generate_feature_names():\n",
    "    '''Creates feature names for dataframe header'''\n",
    "    feat_names = []\n",
    "    for unit_label in [\"T\", \"RA\", \"LA\", \"RL\", \"LL\"]:\n",
    "        for sensor  in [\"acc\",\"gyro\",\"mag\"]:\n",
    "            for position in ['X','Y','Z']:\n",
    "                feat_names.append(unit_label + \"_\" + position + sensor)\n",
    "    return feat_names\n",
    "\n",
    "def get_activity_files_names():\n",
    "    '''Creates activity file names'''\n",
    "    activity_files = []\n",
    "    for num in np.arange(1,20,1):\n",
    "        if num < 10:\n",
    "            activity_files.append(\"a0{}\".format(num))\n",
    "        else:\n",
    "            activity_files.append(\"a{}\".format(num))\n",
    "    return activity_files\n",
    "\n",
    "def get_segment_files_names():\n",
    "    '''Creates segment file names'''\n",
    "    segment_files = []\n",
    "    for num in np.arange(1,61,1):\n",
    "        if num < 10:\n",
    "            segment_files.append(\"s0{}.txt\".format(num))\n",
    "        else:\n",
    "            segment_files.append(\"s{}.txt\".format(num))\n",
    "    return segment_files\n",
    "\n",
    "def get_data(data_home, feat_names, body_part, activity_files, person_files, segment_files):\n",
    "    '''loads data, extracts features, and transforms data'''\n",
    "    player_data = defaultdict(list)\n",
    "    # for activity_i\n",
    "    for act_i, activity in enumerate(activity_files):\n",
    "        act_i += 1\n",
    "        # for person_j\n",
    "        for per_i, person in enumerate(person_files):\n",
    "            per_i += 1\n",
    "            # for segment_k\n",
    "            for seg_i, segment in enumerate(segment_files): \n",
    "                seg_i += 1\n",
    "                \n",
    "                # load segment data\n",
    "                segment_path = data_home + activity + \"/\" + person + \"/\" + segment\n",
    "                \n",
    "                # put data in dataframe\n",
    "                df = pd.read_csv(segment_path, header=None)\n",
    "                \n",
    "                # assign column names\n",
    "                df.columns = feat_names\n",
    "                df = df[body_part].copy()\n",
    "                \n",
    "                # each segment is now a row \n",
    "                player_data[act_i].append(df)   \n",
    "                \n",
    "    return player_data"
   ]
  },
  {
   "cell_type": "code",
   "execution_count": 4,
   "metadata": {},
   "outputs": [],
   "source": [
    "# generate names of activities and segments to create file names\n",
    "activity_files = get_activity_files_names()\n",
    "segment_files =  get_segment_files_names()\n",
    "person_files = [\"p{}\".format(num) for num in np.arange(1,9,1)]"
   ]
  },
  {
   "cell_type": "code",
   "execution_count": 5,
   "metadata": {},
   "outputs": [],
   "source": [
    "data_home = \"/Users/Alexander/DataBeast/MachineLearning/CNN_Activity_Classification/data/\"\n",
    "feat_names = generate_feature_names()\n",
    "right_arm = feat_names[9:18]"
   ]
  },
  {
   "cell_type": "code",
   "execution_count": 6,
   "metadata": {},
   "outputs": [
    {
     "name": "stdout",
     "output_type": "stream",
     "text": [
      "94.68192720413208\n"
     ]
    }
   ],
   "source": [
    "# extract revelent data\n",
    "start = time()\n",
    "player_data = get_data(data_home,\n",
    "                       feat_names, \n",
    "                       right_arm, \n",
    "                       activity_files, \n",
    "                       person_files, \n",
    "                       segment_files)\n",
    "end = time()\n",
    "print (end - start)"
   ]
  },
  {
   "cell_type": "markdown",
   "metadata": {},
   "source": [
    "We've extracted the right arm data from the nested folders and stored it in dictionary where the keys are the activity ids and the 5 second segments of data are the samples. We don't distinguish samples between players since the goal is to train a model to learn the signitures of rowing or walking and not to learn WHO is doing the rowing or walking. "
   ]
  },
  {
   "cell_type": "code",
   "execution_count": 7,
   "metadata": {},
   "outputs": [
    {
     "data": {
      "text/plain": [
       "dict_keys([1, 2, 3, 4, 5, 6, 7, 8, 9, 10, 11, 12, 13, 14, 15, 16, 17, 18, 19])"
      ]
     },
     "execution_count": 7,
     "metadata": {},
     "output_type": "execute_result"
    }
   ],
   "source": [
    "# keys in the dict are the activity numbers\n",
    "player_data.keys()"
   ]
  },
  {
   "cell_type": "code",
   "execution_count": 8,
   "metadata": {},
   "outputs": [
    {
     "data": {
      "text/plain": [
       "480"
      ]
     },
     "execution_count": 8,
     "metadata": {},
     "output_type": "execute_result"
    }
   ],
   "source": [
    "# this many 2D samples for each activity \n",
    "len(player_data[1])"
   ]
  },
  {
   "cell_type": "markdown",
   "metadata": {},
   "source": [
    "Each segment of data is 5 seconds and long recorded at 25 Hz, so each segment has 125 rows. Since we're only interested in the measurements one of the five devices (the right arm sensor) that drops the number of features from 45 to 9. \n",
    "   \n",
    "    25 Hz --> 25 samples per second \n",
    "    5 second samples\n",
    "    25 * 5 = 125 samples (rows)\n",
    "    9 features --> 3 dims for each of the 3 devices"
   ]
  },
  {
   "cell_type": "code",
   "execution_count": 9,
   "metadata": {},
   "outputs": [
    {
     "data": {
      "text/plain": [
       "(125, 9)"
      ]
     },
     "execution_count": 9,
     "metadata": {},
     "output_type": "execute_result"
    }
   ],
   "source": [
    "# fortunately for us, we won't have to zero-pad our samples like the authors did\n",
    "# due to the way that the data was measured \n",
    "\n",
    "# the dims of single segment of data\n",
    "player_data[1][1].shape"
   ]
  },
  {
   "cell_type": "code",
   "execution_count": 10,
   "metadata": {},
   "outputs": [
    {
     "data": {
      "text/html": [
       "<div>\n",
       "<style scoped>\n",
       "    .dataframe tbody tr th:only-of-type {\n",
       "        vertical-align: middle;\n",
       "    }\n",
       "\n",
       "    .dataframe tbody tr th {\n",
       "        vertical-align: top;\n",
       "    }\n",
       "\n",
       "    .dataframe thead th {\n",
       "        text-align: right;\n",
       "    }\n",
       "</style>\n",
       "<table border=\"1\" class=\"dataframe\">\n",
       "  <thead>\n",
       "    <tr style=\"text-align: right;\">\n",
       "      <th></th>\n",
       "      <th>RA_Xacc</th>\n",
       "      <th>RA_Yacc</th>\n",
       "      <th>RA_Zacc</th>\n",
       "      <th>RA_Xgyro</th>\n",
       "      <th>RA_Ygyro</th>\n",
       "      <th>RA_Zgyro</th>\n",
       "      <th>RA_Xmag</th>\n",
       "      <th>RA_Ymag</th>\n",
       "      <th>RA_Zmag</th>\n",
       "    </tr>\n",
       "  </thead>\n",
       "  <tbody>\n",
       "    <tr>\n",
       "      <th>0</th>\n",
       "      <td>0.62906</td>\n",
       "      <td>5.7852</td>\n",
       "      <td>7.8624</td>\n",
       "      <td>0.023668</td>\n",
       "      <td>0.003574</td>\n",
       "      <td>-0.008247</td>\n",
       "      <td>-0.56515</td>\n",
       "      <td>-0.56762</td>\n",
       "      <td>-0.20656</td>\n",
       "    </tr>\n",
       "    <tr>\n",
       "      <th>1</th>\n",
       "      <td>0.59229</td>\n",
       "      <td>5.8239</td>\n",
       "      <td>7.8745</td>\n",
       "      <td>0.027182</td>\n",
       "      <td>0.000057</td>\n",
       "      <td>-0.004739</td>\n",
       "      <td>-0.56430</td>\n",
       "      <td>-0.56565</td>\n",
       "      <td>-0.20720</td>\n",
       "    </tr>\n",
       "    <tr>\n",
       "      <th>2</th>\n",
       "      <td>0.60946</td>\n",
       "      <td>5.8190</td>\n",
       "      <td>7.8795</td>\n",
       "      <td>0.002920</td>\n",
       "      <td>-0.003381</td>\n",
       "      <td>0.002559</td>\n",
       "      <td>-0.56486</td>\n",
       "      <td>-0.56409</td>\n",
       "      <td>-0.20765</td>\n",
       "    </tr>\n",
       "    <tr>\n",
       "      <th>3</th>\n",
       "      <td>0.61184</td>\n",
       "      <td>5.8095</td>\n",
       "      <td>7.8551</td>\n",
       "      <td>-0.004387</td>\n",
       "      <td>-0.019235</td>\n",
       "      <td>0.006979</td>\n",
       "      <td>-0.53649</td>\n",
       "      <td>-0.55611</td>\n",
       "      <td>-0.18054</td>\n",
       "    </tr>\n",
       "    <tr>\n",
       "      <th>4</th>\n",
       "      <td>0.65361</td>\n",
       "      <td>5.7851</td>\n",
       "      <td>7.8796</td>\n",
       "      <td>0.009090</td>\n",
       "      <td>-0.010397</td>\n",
       "      <td>0.008698</td>\n",
       "      <td>-0.56850</td>\n",
       "      <td>-0.56411</td>\n",
       "      <td>-0.20785</td>\n",
       "    </tr>\n",
       "  </tbody>\n",
       "</table>\n",
       "</div>"
      ],
      "text/plain": [
       "   RA_Xacc  RA_Yacc  RA_Zacc  RA_Xgyro  RA_Ygyro  RA_Zgyro  RA_Xmag  RA_Ymag  \\\n",
       "0  0.62906   5.7852   7.8624  0.023668  0.003574 -0.008247 -0.56515 -0.56762   \n",
       "1  0.59229   5.8239   7.8745  0.027182  0.000057 -0.004739 -0.56430 -0.56565   \n",
       "2  0.60946   5.8190   7.8795  0.002920 -0.003381  0.002559 -0.56486 -0.56409   \n",
       "3  0.61184   5.8095   7.8551 -0.004387 -0.019235  0.006979 -0.53649 -0.55611   \n",
       "4  0.65361   5.7851   7.8796  0.009090 -0.010397  0.008698 -0.56850 -0.56411   \n",
       "\n",
       "   RA_Zmag  \n",
       "0 -0.20656  \n",
       "1 -0.20720  \n",
       "2 -0.20765  \n",
       "3 -0.18054  \n",
       "4 -0.20785  "
      ]
     },
     "execution_count": 10,
     "metadata": {},
     "output_type": "execute_result"
    }
   ],
   "source": [
    "# the right arm readings of each activity (a single segment of data)\n",
    "player_data[1][1].head()"
   ]
  },
  {
   "cell_type": "code",
   "execution_count": 11,
   "metadata": {},
   "outputs": [
    {
     "data": {
      "image/png": "[encoded data removed]",
      "text/plain": [
       "<matplotlib.figure.Figure at 0x1c1c31be80>"
      ]
     },
     "metadata": {},
     "output_type": "display_data"
    }
   ],
   "source": [
    "ax = \\\n",
    "player_data[1][1][[\"RA_Xacc\", \"RA_Yacc\", \"RA_Zacc\"]].plot(\\\n",
    "    title = \"(X,Y,Z) Right Arm Acceleration Measurements (Sitting) vs. Time\",\n",
    "    figsize=(15,5));\n",
    "\n",
    "ax.set_xlabel(\"Time (seconds)\")\n",
    "ax.set_ylabel(\"Acceleration\");\n",
    "plt.grid()\n",
    "#plt.savefig(\"./images/RA_Sitting_ACC.png\")"
   ]
  },
  {
   "cell_type": "markdown",
   "metadata": {},
   "source": [
    "Above we see the right arm acceleration readings for the activity of sitting. We can see that there is no variation in the acceleration (which is to be expected). UCI doesn't make it clear what the physical units are for acceleration here; the stanard unit is meters per second squared but it seem highly unlikely that someone who is sitting is accelerating at 8 $\\frac{m}{s^2}$. It seems that the values on the plot for each dimension are resting values, but one can't be too sure. "
   ]
  },
  {
   "cell_type": "code",
   "execution_count": 12,
   "metadata": {},
   "outputs": [
    {
     "data": {
      "image/png": "[encoded data removed]",
      "text/plain": [
       "<matplotlib.figure.Figure at 0x1c1c11d780>"
      ]
     },
     "metadata": {},
     "output_type": "display_data"
    }
   ],
   "source": [
    "ax = \\\n",
    "player_data[9][1][[\"RA_Xacc\", \"RA_Yacc\", \"RA_Zacc\"]].plot(\\\n",
    "    title = \"(X,Y,Z) Right Arm Acceleration Measurements (Stationary Bike) vs. Time\",\n",
    "    figsize=(15,5));\n",
    "\n",
    "ax.set_xlabel(\"Time (seconds)\")\n",
    "ax.set_ylabel(\"Acceleration\");\n",
    "plt.grid()\n",
    "#plt.savefig(\"./images/RA_bike_ACC.png\")"
   ]
  },
  {
   "cell_type": "markdown",
   "metadata": {},
   "source": [
    "The above plot shows the readings for someone that is running on a treadmill. We can see that there are regular oscillations. Note that the X dimensions for this data represents the vertical dimenions, which makes sense. As someone runs on a treadmill, typically the arms swing up and down within a bounded range and do so with a somewhat regular periodicity. The Y and Z dimenions represent the plane that is parallel to the ground (i.e. left/right and forward/backward). There is less acceleration in these dimenions, which is also expected, arms usually don't swing very much from side-to-side. \n",
    "\n",
    "You read more about how these devices work in this [**paper**](http://yoksis.bilkent.edu.tr/pdf/files/8333.pdf)."
   ]
  },
  {
   "cell_type": "markdown",
   "metadata": {},
   "source": [
    "-----\n",
    "\n",
    "## Intuition Behind Data Formating\n",
    "\n",
    "The paper states that the way to format the data for acheiving the best performance is to isolate each sensor from each other by dedicating an entire channel to each sensor. This way there is no inter-sensor convolutions. The intuition here is that convolving unrelated features like X dimension acceleration with Z dimension magnetometer data is not physically meaningful and will lead to poorer performance by the CNN. \n",
    "\n",
    "My formal training in Physics leads me to accept the intution of the authors. Not only because the author's experimental results support their intution but also because of the Physics and mathematics at play here. \n",
    "\n",
    "Mathematically, convolutions can be thought of as integrations over two functions to create a thrid function, where that resulting function is a blend of the first two. \n",
    "\n",
    "$${\\displaystyle {\\begin{aligned}(f*g)(t)&\\,{\\stackrel {\\mathrm {def} }{=}}\\ \\int _{-\\infty }^{\\infty }f(\\tau )g(t-\\tau )\\,d\\tau \\\\&=\\int _{-\\infty }^{\\infty }f(t-\\tau )g(\\tau )\\,d\\tau .\\end{aligned}}}$$\n",
    "\n",
    "\n",
    "One way to try to intuit this idea is to think about the beating of a drum idea shared on [**Quora**](https://www.quora.com/What-is-the-physical-significance-of-convolution). If you beat a drum at time t, then beat the same drum at time t + 1, you're going to hear the combination (the sum) of the second beat and the trailing off of the first beat. Add those two beats together and you'll get the combined sound two beats added together, but with a time shift on one beat -- that's convolution! \n",
    "\n",
    "This is the idea that we are trying to preserve when we isolate each sensor to its own channel. We want to convolve biometrics from within the same device in order to generate an additional feature that will be a combination of the original features from each sensor. To extend the anaology, just as convolution for drum beats generates a smooth percussion sound, we want to generate a smooth time signitures for each sensor for each activity.  \n"
   ]
  },
  {
   "cell_type": "code",
   "execution_count": 13,
   "metadata": {
    "scrolled": false
   },
   "outputs": [],
   "source": [
    "acc_cols = [\"RA_Xacc\",\"RA_Yacc\", \"RA_Zacc\"]\n",
    "gyro_cols = [\"RA_Xgyro\",\"RA_Ygyro\", \"RA_Zgyro\"]\n",
    "mag_cols = [\"RA_Xmag\",\"RA_Ymag\", \"RA_Zmag\"]\n",
    "\n",
    "# the paper says to think of each device has a RBG color channel \n",
    "R = player_data[1][1][acc_cols].values\n",
    "B = player_data[1][1][gyro_cols].values\n",
    "G = player_data[1][1][mag_cols].values"
   ]
  },
  {
   "cell_type": "code",
   "execution_count": 14,
   "metadata": {},
   "outputs": [
    {
     "name": "stdout",
     "output_type": "stream",
     "text": [
      "(3, 125, 3)\n"
     ]
    },
    {
     "data": {
      "text/plain": [
       "array([[[  6.29060000e-01,   5.78520000e+00,   7.86240000e+00],\n",
       "        [  5.92290000e-01,   5.82390000e+00,   7.87450000e+00],\n",
       "        [  6.09460000e-01,   5.81900000e+00,   7.87950000e+00],\n",
       "        ..., \n",
       "        [  6.35990000e-01,   5.83370000e+00,   7.83620000e+00],\n",
       "        [  6.14080000e-01,   5.82870000e+00,   7.86280000e+00],\n",
       "        [  6.24020000e-01,   5.80440000e+00,   7.88460000e+00]],\n",
       "\n",
       "       [[  2.36680000e-02,   3.57400000e-03,  -8.24700000e-03],\n",
       "        [  2.71820000e-02,   5.70000000e-05,  -4.73900000e-03],\n",
       "        [  2.92000000e-03,  -3.38100000e-03,   2.55900000e-03],\n",
       "        ..., \n",
       "        [  1.64980000e-02,   9.14000000e-04,  -1.42670000e-02],\n",
       "        [ -1.60700000e-03,  -5.11100000e-03,   2.74100000e-03],\n",
       "        [  1.37250000e-02,   7.21400000e-03,   1.20000000e-05]],\n",
       "\n",
       "       [[ -5.65150000e-01,  -5.67620000e-01,  -2.06560000e-01],\n",
       "        [ -5.64300000e-01,  -5.65650000e-01,  -2.07200000e-01],\n",
       "        [ -5.64860000e-01,  -5.64090000e-01,  -2.07650000e-01],\n",
       "        ..., \n",
       "        [ -5.67730000e-01,  -5.65200000e-01,  -2.06570000e-01],\n",
       "        [ -5.67370000e-01,  -5.66930000e-01,  -2.04960000e-01],\n",
       "        [ -5.68540000e-01,  -5.65960000e-01,  -2.07250000e-01]]])"
      ]
     },
     "execution_count": 14,
     "metadata": {},
     "output_type": "execute_result"
    }
   ],
   "source": [
    "# notice how the top 2D array is contains the acceleration values \n",
    "rbg_sample = np.array((R,B,G))\n",
    "print(rbg_sample.shape)\n",
    "rbg_sample"
   ]
  },
  {
   "cell_type": "code",
   "execution_count": 15,
   "metadata": {},
   "outputs": [],
   "source": [
    "def reformate_data(player_data, acc, gyro, mag):\n",
    "    '''Reformats the dims of the data'''\n",
    "    X_data = []\n",
    "    Y_data = []\n",
    "    for activty, data_list in player_data.items():\n",
    "        for df in data_list:\n",
    "            \n",
    "            acc = df[acc_cols].values\n",
    "            gyro = df[gyro_cols].values\n",
    "            mag = df[mag_cols].values\n",
    "\n",
    "            formated_sample = np.array((acc,gyro,mag))\n",
    "\n",
    "            X_data.append(formated_sample)\n",
    "            Y_data.append(activty)\n",
    "\n",
    "    return np.array(X_data), np.array(Y_data)"
   ]
  },
  {
   "cell_type": "code",
   "execution_count": 16,
   "metadata": {},
   "outputs": [
    {
     "name": "stdout",
     "output_type": "stream",
     "text": [
      "17.206218004226685\n"
     ]
    }
   ],
   "source": [
    "start = time()\n",
    "X_data, Y_data = reformate_data(player_data, \n",
    "                                acc_cols, \n",
    "                                gyro_cols, \n",
    "                                mag_cols)\n",
    "end = time()\n",
    "print (end - start)"
   ]
  },
  {
   "cell_type": "code",
   "execution_count": 17,
   "metadata": {},
   "outputs": [
    {
     "data": {
      "text/plain": [
       "(9120,)"
      ]
     },
     "execution_count": 17,
     "metadata": {},
     "output_type": "execute_result"
    }
   ],
   "source": [
    "Y_data.shape"
   ]
  },
  {
   "cell_type": "code",
   "execution_count": 18,
   "metadata": {},
   "outputs": [
    {
     "data": {
      "text/plain": [
       "(9120, 3, 125, 3)"
      ]
     },
     "execution_count": 18,
     "metadata": {},
     "output_type": "execute_result"
    }
   ],
   "source": [
    "# (samples, channels, rows, cols)\n",
    "X_data.shape"
   ]
  },
  {
   "cell_type": "code",
   "execution_count": 19,
   "metadata": {},
   "outputs": [],
   "source": [
    "Y_data = Y_data.reshape((Y_data.shape[0],1))"
   ]
  },
  {
   "cell_type": "code",
   "execution_count": 20,
   "metadata": {},
   "outputs": [
    {
     "data": {
      "text/plain": [
       "OneHotEncoder(categorical_features='all', dtype=<class 'numpy.float64'>,\n",
       "       handle_unknown='error', n_values='auto', sparse=True)"
      ]
     },
     "execution_count": 20,
     "metadata": {},
     "output_type": "execute_result"
    }
   ],
   "source": [
    "# labels must be one-hot encoded for the softmax layer of the CNN\n",
    "encoder = OneHotEncoder()\n",
    "encoder.fit(Y_data)  "
   ]
  },
  {
   "cell_type": "code",
   "execution_count": 21,
   "metadata": {},
   "outputs": [],
   "source": [
    "Y_data = encoder.transform(Y_data).toarray()"
   ]
  },
  {
   "cell_type": "code",
   "execution_count": 22,
   "metadata": {},
   "outputs": [],
   "source": [
    "X_data, Y_data = shuffle(X_data, Y_data)"
   ]
  },
  {
   "cell_type": "code",
   "execution_count": 23,
   "metadata": {},
   "outputs": [],
   "source": [
    "save_data = \"model_ready_data.pkl\"\n",
    "pickle.dump((X_data, Y_data), open(save_data, 'wb'))"
   ]
  },
  {
   "cell_type": "code",
   "execution_count": 24,
   "metadata": {},
   "outputs": [],
   "source": [
    "save_data = \"model_ready_data.pkl\"\n",
    "X_data, Y_data = pickle.load(open(save_data, 'rb'))"
   ]
  },
  {
   "cell_type": "code",
   "execution_count": 25,
   "metadata": {},
   "outputs": [],
   "source": [
    "num_classes = 19"
   ]
  },
  {
   "cell_type": "markdown",
   "metadata": {},
   "source": [
    "We are going to devide the data set up into train, test, and holdout sets. The train and test sets will be used to track the model's training as it progresses through the epochs. The holdout set will be used as a final check on the model's ability to generalize. "
   ]
  },
  {
   "cell_type": "code",
   "execution_count": 26,
   "metadata": {},
   "outputs": [],
   "source": [
    "X_train, X_test, Y_train, Y_test  = train_test_split(X_data, Y_data, test_size = 0.20, random_state = 1234)"
   ]
  },
  {
   "cell_type": "markdown",
   "metadata": {},
   "source": [
    "------\n"
   ]
  },
  {
   "cell_type": "markdown",
   "metadata": {},
   "source": [
    "# Train CNN\n",
    "\n",
    "Here we will build and train our CNN. We will follow the paper in selecting two convolutional layers with max pooling. But instead of using a single fully connected layer, we'll use two. \n",
    "\n",
    "Also, the paper used TensorFlow to build their model. TensorFlow is a great package to use for building deep learning models, however it requires a lot of boilerplate code. The beauty of Keras is that it is a wrapper around TensorFlow that takes care of that boilerplate code for you. Which allows for much quicker iterations. \n",
    "\n",
    "Below is a diagram of what our model looks like: there is a convolution layer followed by a maxpool layer, those two layers repeat, followed by two fully connected forwardfeeding layers, finished off with a softmax layer for classifications. The digagram has certain values listed for hyperparameters such as stride size and number of hidden nodes, **note** that the diagram is simply a reference for the CNN architecture (we will not be using those values). \n",
    "\n",
    "![](http://adventuresinmachinelearning.com/wp-content/uploads/2017/04/CNN-example-block-diagram-1024x340.jpg)\n",
    "\n"
   ]
  },
  {
   "cell_type": "code",
   "execution_count": 27,
   "metadata": {
    "scrolled": false
   },
   "outputs": [],
   "source": [
    "# CNN model\n",
    "model = Sequential()\n",
    "\n",
    "\n",
    "model.add(Conv2D(filters=32, \n",
    "                 kernel_size=(1, 1), \n",
    "                 strides=(1, 1),\n",
    "                 activation='relu',\n",
    "                 input_shape=(3, 125, 3)))\n",
    "\n",
    "model.add(MaxPooling2D(pool_size=(2, 2), \n",
    "                       strides=(1, 1)))\n",
    "\n",
    "model.add(Conv2D(filters=64, \n",
    "                 kernel_size=(1, 1), \n",
    "                 activation='relu'))\n",
    "\n",
    "model.add(MaxPooling2D(pool_size=(2, 2)))\n",
    "\n",
    "\n",
    "model.add(Flatten())\n",
    "model.add(Dense(1000, activation='relu'))\n",
    "model.add(Dense(num_classes, activation='softmax'))"
   ]
  },
  {
   "cell_type": "code",
   "execution_count": 28,
   "metadata": {},
   "outputs": [],
   "source": [
    "model.compile(loss=keras.losses.categorical_crossentropy,\n",
    "              optimizer=keras.optimizers.SGD(lr=0.01),\n",
    "              metrics=['accuracy'])"
   ]
  },
  {
   "cell_type": "code",
   "execution_count": 29,
   "metadata": {},
   "outputs": [],
   "source": [
    "class AccuracyHistory(keras.callbacks.Callback):\n",
    "    def on_train_begin(self, logs={}):\n",
    "        self.acc = []\n",
    "        self.losses = []\n",
    "        self.test_acc = []\n",
    "        self.test_losses = []\n",
    "        \n",
    "    def on_epoch_end(self, epoch, logs={}):\n",
    "        self.losses.append(logs.get('loss'))\n",
    "        self.test_losses.append(logs.get('val_loss'))\n",
    "        self.acc.append(logs.get('acc'))\n",
    "        self.test_acc.append(logs.get('val_acc'))"
   ]
  },
  {
   "cell_type": "code",
   "execution_count": 30,
   "metadata": {},
   "outputs": [],
   "source": [
    "history = AccuracyHistory()"
   ]
  },
  {
   "cell_type": "code",
   "execution_count": 31,
   "metadata": {},
   "outputs": [
    {
     "name": "stdout",
     "output_type": "stream",
     "text": [
      "Train on 7296 samples, validate on 1824 samples\n",
      "Epoch 1/10\n",
      "7296/7296 [==============================] - 15s - loss: 1.7982 - acc: 0.4015 - val_loss: 1.3588 - val_acc: 0.5400\n",
      "Epoch 2/10\n",
      "7296/7296 [==============================] - 13s - loss: 1.1876 - acc: 0.5933 - val_loss: 0.9991 - val_acc: 0.6601\n",
      "Epoch 3/10\n",
      "7296/7296 [==============================] - 13s - loss: 0.8599 - acc: 0.7268 - val_loss: 0.8057 - val_acc: 0.7418\n",
      "Epoch 4/10\n",
      "7296/7296 [==============================] - 13s - loss: 0.6454 - acc: 0.8069 - val_loss: 0.6580 - val_acc: 0.8015\n",
      "Epoch 5/10\n",
      "7296/7296 [==============================] - 13s - loss: 0.4909 - acc: 0.8491 - val_loss: 0.5610 - val_acc: 0.8273\n",
      "Epoch 6/10\n",
      "7296/7296 [==============================] - 13s - loss: 0.4021 - acc: 0.8784 - val_loss: 0.4715 - val_acc: 0.8470\n",
      "Epoch 7/10\n",
      "7296/7296 [==============================] - 13s - loss: 0.3255 - acc: 0.8999 - val_loss: 0.4057 - val_acc: 0.8810\n",
      "Epoch 8/10\n",
      "7296/7296 [==============================] - 13s - loss: 0.2777 - acc: 0.9160 - val_loss: 0.3734 - val_acc: 0.8854\n",
      "Epoch 9/10\n",
      "7296/7296 [==============================] - 13s - loss: 0.2258 - acc: 0.9319 - val_loss: 0.3334 - val_acc: 0.9095\n",
      "Epoch 10/10\n",
      "7296/7296 [==============================] - 13s - loss: 0.1893 - acc: 0.9450 - val_loss: 0.3370 - val_acc: 0.8942\n"
     ]
    },
    {
     "data": {
      "text/plain": [
       "<keras.callbacks.History at 0x1c32aa1ba8>"
      ]
     },
     "execution_count": 31,
     "metadata": {},
     "output_type": "execute_result"
    }
   ],
   "source": [
    "model.fit(X_train, Y_train,\n",
    "          batch_size=32,\n",
    "          epochs=10,\n",
    "          verbose=1,\n",
    "          validation_data=(X_test, Y_test),\n",
    "          callbacks=[history])"
   ]
  },
  {
   "cell_type": "code",
   "execution_count": 32,
   "metadata": {},
   "outputs": [
    {
     "data": {
      "image/png": "[encoded data removed]",
      "text/plain": [
       "<matplotlib.figure.Figure at 0x1c32888208>"
      ]
     },
     "metadata": {},
     "output_type": "display_data"
    }
   ],
   "source": [
    "plt.figure(figsize= (16,4))\n",
    "plt.grid()\n",
    "plt.plot(range(1,11), history.acc, 'b-', label = \"Train Acc\")\n",
    "plt.plot(range(1,11), history.test_acc,  \"r-\", label=\"Test Acc\")\n",
    "plt.title(\"Train Accuracy vs. Epochs\")\n",
    "plt.xlabel('Epochs')\n",
    "plt.ylabel('Accuracy')\n",
    "plt.legend()\n",
    "plt.show()"
   ]
  },
  {
   "cell_type": "markdown",
   "metadata": {},
   "source": [
    "----\n",
    "## Conclusion\n",
    "\n",
    "\n",
    "The plot above shows the Accuracy score for the train and test sets after each epoch of training. We can see that the performance monotonically increases with each epoch. Indicating that the model's performance would continue to increase exposure to more data. \n",
    "\n",
    "\n",
    "Note that the CNN model has not been optimzed. It's likely that the performance would go up even more with the following changes made:\n",
    "\n",
    "1. Gridsearch hyperparameters to find optimum values.\n",
    "2. Use more regulariation, such as drop out.\n",
    "3. Try different versions of adaptive gradient descent (i.e. Adam, nesterov)\n",
    "3. Explore different architectures. \n",
    "\n",
    "The authors of the paper stated that a 3-layer CNN performed the best on their data set (though only slightly). \n",
    "\n",
    "A more complete analysis on this data set would include using metrics like Precision, Recall, and ROC Curves. Taking a look at a confusion matrix to see which exercises the model is confusing as identical. \n",
    "\n",
    "But recall that the goal of this  notebook is simple to demonstrates a proof of concept: that CNNs can be used to learn what the time series signitures of each physical activity looks like and classify those activities with high accuracy. And that is exactly what we have accomplished. "
   ]
  },
  {
   "cell_type": "code",
   "execution_count": null,
   "metadata": {},
   "outputs": [],
   "source": []
  }
 ],
 "metadata": {
  "kernelspec": {
   "display_name": "Python [conda root]",
   "language": "python",
   "name": "conda-root-py"
  },
  "language_info": {
   "codemirror_mode": {
    "name": "ipython",
    "version": 3
   },
   "file_extension": ".py",
   "mimetype": "text/x-python",
   "name": "python",
   "nbconvert_exporter": "python",
   "pygments_lexer": "ipython3",
   "version": "3.5.4"
  }
 },
 "nbformat": 4,
 "nbformat_minor": 2
}
