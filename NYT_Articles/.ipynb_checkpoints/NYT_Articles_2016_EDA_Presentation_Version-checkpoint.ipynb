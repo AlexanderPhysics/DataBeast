{
 "cells": [
  {
   "cell_type": "code",
   "execution_count": 1,
   "metadata": {
    "collapsed": false,
    "nbpresent": {
     "id": "d03ee0cc-9899-4575-813f-57cb3c17aaec"
    }
   },
   "outputs": [],
   "source": [
    "import numpy as np\n",
    "import pandas as pd\n",
    "import matplotlib.pyplot as plt\n",
    "import matplotlib.patches as mpatches\n",
    "import seaborn as sb\n",
    "from sklearn.decomposition import LatentDirichletAllocation\n",
    "from sklearn.feature_extraction.text import CountVectorizer\n",
    "from sklearn.feature_extraction.stop_words import ENGLISH_STOP_WORDS\n",
    "from time import time\n",
    "from collections import Counter, defaultdict\n",
    "import nltk\n",
    "from pprint import pprint\n",
    "import copy\n",
    "\n",
    "import seaborn as sns\n",
    "from itertools import combinations\n",
    "\n",
    "\n",
    "import pickle\n",
    "from IPython.core.display import HTML\n",
    "\n",
    "import pymongo\n",
    "import pyLDAvis\n",
    "%matplotlib inline"
   ]
  },
  {
   "cell_type": "markdown",
   "metadata": {
    "nbpresent": {
     "id": "55368403-b95c-47ed-8272-ad7e649842d3"
    }
   },
   "source": [
    "![](http://www.listchallenges.com/f/lists/d7aacdae-74bd-42ff-b397-b73905b5867b.jpg)"
   ]
  },
  {
   "cell_type": "markdown",
   "metadata": {
    "nbpresent": {
     "id": "1f158463-1403-4a88-828c-a4bf33e97d46"
    }
   },
   "source": [
    "![](https://media.licdn.com/mpr/mpr/shrinknp_400_400/AAEAAQAAAAAAAASeAAAAJDA2YWEwZmFjLTg5MDgtNGE2OC04MTBhLTk3MzNiNGIxM2RkYQ.jpg)"
   ]
  },
  {
   "cell_type": "markdown",
   "metadata": {
    "nbpresent": {
     "id": "f02496cf-ad86-4d43-8b12-d2d65e20d27c"
    }
   },
   "source": [
    "# EDA - Presentation Version\n",
    "\n",
    "This notebook is a cleaned up version of **EDA - Scrapy Version**. Here we refactor scrapy code in order to increase efficiency and readability in preperation for production, as well as provide ample explanations for methodoogy and results. "
   ]
  },
  {
   "cell_type": "markdown",
   "metadata": {
    "nbpresent": {
     "id": "d11b23d4-765c-4a34-bbaa-e68b07cf736e"
    }
   },
   "source": [
    "### Import Data"
   ]
  },
  {
   "cell_type": "code",
   "execution_count": 11,
   "metadata": {
    "collapsed": false,
    "nbpresent": {
     "id": "78284d42-e31f-4173-a5b3-dbe1ab9df346"
    }
   },
   "outputs": [],
   "source": [
    "def get_data_from_mongodb(db_name, coll_name):\n",
    "    '''Returns documents from specifed database and collections in mongodb\n",
    "       Will try to return docs in pandas dataframe\n",
    "       If that fails, it will return a pointer to the data in mongo'''\n",
    "\n",
    "    # pull scraped articles out of mongodb \n",
    "    client = pymongo.MongoClient()\n",
    "    db = client.get_database(name = db_name)\n",
    "    pointer_to_mongo_data = db[coll_name].find()\n",
    "    \n",
    "    try:\n",
    "        # move articles to pandas\n",
    "        df = pd.DataFrame(list(pointer_to_mongo_data))\n",
    "        print (\"Successfull - returned a df\")\n",
    "    \n",
    "        return df\n",
    "    except: \n",
    "        print (\"Unsuccessfull - did not return a df\")\n",
    "        return pointer_to_mongo_data"
   ]
  },
  {
   "cell_type": "code",
   "execution_count": 12,
   "metadata": {
    "collapsed": false,
    "nbpresent": {
     "id": "3801145e-d6b9-444d-b3ec-a68d62e23d93"
    }
   },
   "outputs": [
    {
     "name": "stdout",
     "output_type": "stream",
     "text": [
      "Successfull - returned a df\n"
     ]
    }
   ],
   "source": [
    "db_name = \"nyt2016\"\n",
    "coll_name = \"articles\"\n",
    "df = get_data_from_mongodb(db_name, coll_name)"
   ]
  },
  {
   "cell_type": "code",
   "execution_count": 13,
   "metadata": {
    "collapsed": false
   },
   "outputs": [
    {
     "data": {
      "text/html": [
       "<div>\n",
       "<table border=\"1\" class=\"dataframe\">\n",
       "  <thead>\n",
       "    <tr style=\"text-align: right;\">\n",
       "      <th></th>\n",
       "      <th>_id</th>\n",
       "      <th>abstract</th>\n",
       "      <th>blog</th>\n",
       "      <th>body</th>\n",
       "      <th>byline</th>\n",
       "      <th>document_type</th>\n",
       "      <th>headline</th>\n",
       "      <th>keywords</th>\n",
       "      <th>lead_paragraph</th>\n",
       "      <th>multimedia</th>\n",
       "      <th>...</th>\n",
       "      <th>print_page</th>\n",
       "      <th>pub_date</th>\n",
       "      <th>section_name</th>\n",
       "      <th>slideshow_credits</th>\n",
       "      <th>snippet</th>\n",
       "      <th>source</th>\n",
       "      <th>subsection_name</th>\n",
       "      <th>type_of_material</th>\n",
       "      <th>web_url</th>\n",
       "      <th>word_count</th>\n",
       "    </tr>\n",
       "  </thead>\n",
       "  <tbody>\n",
       "    <tr>\n",
       "      <th>0</th>\n",
       "      <td>580ae247253f0a1d0316f71e</td>\n",
       "      <td>None</td>\n",
       "      <td>[]</td>\n",
       "      <td>TOKYO —  State-backed Japan Bank for Internati...</td>\n",
       "      <td>{'original': 'By REUTERS', 'person': [], 'orga...</td>\n",
       "      <td>article</td>\n",
       "      <td>{'main': 'Japan to Lend to Sanctioned Russian ...</td>\n",
       "      <td>[]</td>\n",
       "      <td>State-backed Japan Bank for International Coop...</td>\n",
       "      <td>[]</td>\n",
       "      <td>...</td>\n",
       "      <td>None</td>\n",
       "      <td>2016-10-21T23:51:28Z</td>\n",
       "      <td>Business Day</td>\n",
       "      <td>None</td>\n",
       "      <td>State-backed Japan Bank for International Coop...</td>\n",
       "      <td>Reuters</td>\n",
       "      <td>None</td>\n",
       "      <td>News</td>\n",
       "      <td>http://www.nytimes.com/reuters/2016/10/21/busi...</td>\n",
       "      <td>None</td>\n",
       "    </tr>\n",
       "    <tr>\n",
       "      <th>1</th>\n",
       "      <td>580adf45253f0a1d0316f71d</td>\n",
       "      <td>None</td>\n",
       "      <td>[]</td>\n",
       "      <td>INTERNATIONAL\\nBecause of an editing error, an...</td>\n",
       "      <td>[]</td>\n",
       "      <td>article</td>\n",
       "      <td>{'main': 'Corrections: October 22, 2016', 'pri...</td>\n",
       "      <td>[]</td>\n",
       "      <td>Corrections appearing in print on Saturday, Oc...</td>\n",
       "      <td>[]</td>\n",
       "      <td>...</td>\n",
       "      <td>None</td>\n",
       "      <td>2016-10-21T23:38:36Z</td>\n",
       "      <td>Corrections</td>\n",
       "      <td>None</td>\n",
       "      <td>Corrections appearing in print on Saturday, Oc...</td>\n",
       "      <td>The New York Times</td>\n",
       "      <td>None</td>\n",
       "      <td>News</td>\n",
       "      <td>http://www.nytimes.com/2016/10/22/pageoneplus/...</td>\n",
       "      <td>None</td>\n",
       "    </tr>\n",
       "  </tbody>\n",
       "</table>\n",
       "<p>2 rows × 21 columns</p>\n",
       "</div>"
      ],
      "text/plain": [
       "                        _id abstract blog  \\\n",
       "0  580ae247253f0a1d0316f71e     None   []   \n",
       "1  580adf45253f0a1d0316f71d     None   []   \n",
       "\n",
       "                                                body  \\\n",
       "0  TOKYO —  State-backed Japan Bank for Internati...   \n",
       "1  INTERNATIONAL\\nBecause of an editing error, an...   \n",
       "\n",
       "                                              byline document_type  \\\n",
       "0  {'original': 'By REUTERS', 'person': [], 'orga...       article   \n",
       "1                                                 []       article   \n",
       "\n",
       "                                            headline keywords  \\\n",
       "0  {'main': 'Japan to Lend to Sanctioned Russian ...       []   \n",
       "1  {'main': 'Corrections: October 22, 2016', 'pri...       []   \n",
       "\n",
       "                                      lead_paragraph multimedia    ...      \\\n",
       "0  State-backed Japan Bank for International Coop...         []    ...       \n",
       "1  Corrections appearing in print on Saturday, Oc...         []    ...       \n",
       "\n",
       "  print_page              pub_date  section_name slideshow_credits  \\\n",
       "0       None  2016-10-21T23:51:28Z  Business Day              None   \n",
       "1       None  2016-10-21T23:38:36Z   Corrections              None   \n",
       "\n",
       "                                             snippet              source  \\\n",
       "0  State-backed Japan Bank for International Coop...             Reuters   \n",
       "1  Corrections appearing in print on Saturday, Oc...  The New York Times   \n",
       "\n",
       "  subsection_name type_of_material  \\\n",
       "0            None             News   \n",
       "1            None             News   \n",
       "\n",
       "                                             web_url word_count  \n",
       "0  http://www.nytimes.com/reuters/2016/10/21/busi...       None  \n",
       "1  http://www.nytimes.com/2016/10/22/pageoneplus/...       None  \n",
       "\n",
       "[2 rows x 21 columns]"
      ]
     },
     "execution_count": 13,
     "metadata": {},
     "output_type": "execute_result"
    }
   ],
   "source": [
    "df.head(2)"
   ]
  },
  {
   "cell_type": "code",
   "execution_count": 14,
   "metadata": {
    "collapsed": false,
    "nbpresent": {
     "id": "e20eae31-63d3-4215-aa86-4b6e2ed3f2b3"
    }
   },
   "outputs": [],
   "source": [
    "# create masks that identify \"US\" articles from the sections\n",
    "US_section_mask = df.section_name == \"U.S.\"\n",
    "US_corpus_df = df[US_section_mask]\n",
    "US_corpus = US_corpus_df.body.values"
   ]
  },
  {
   "cell_type": "code",
   "execution_count": 15,
   "metadata": {
    "collapsed": false
   },
   "outputs": [
    {
     "name": "stdout",
     "output_type": "stream",
     "text": [
      "('MADISONVILLE, Texas —  A school bus crashed into a car and overturned twice '\n",
      " 'at an East Texas intersection, sending 16 of 18 of the children aboard to '\n",
      " 'area hospitals.\\n'\n",
      " 'Sgt. Jimmy Morgan of the Texas Department of Public Safety says the bus '\n",
      " 'driver and both occupants of the car also were transported to hospitals. He '\n",
      " 'said none of the injuries appeared at the scene to be life-threatening.\\n'\n",
      " 'The crash happened about 4 p.m. Friday in Madisonville, about 90 miles north '\n",
      " 'of Houston. Morgan says the car pulled from an Interstate 45 exit ramp onto '\n",
      " 'Texas 75 in front of the bus. The bus slammed into the passenger side door '\n",
      " 'before careening into a guardrail and overturning twice.\\n'\n",
      " 'Madisonville school district officials say the bus passengers ranged in age '\n",
      " 'from 6 to 18 years old.\\n'\n",
      " '___\\n'\n",
      " 'This story has been corrected to increase number of injuries to 19, '\n",
      " 'including 16 children.')\n"
     ]
    }
   ],
   "source": [
    "pprint(US_corpus[0])"
   ]
  },
  {
   "cell_type": "markdown",
   "metadata": {
    "nbpresent": {
     "id": "fdfffd9d-e8ee-4dfc-9142-563a5bf789de"
    }
   },
   "source": [
    "### Topic Modeling"
   ]
  },
  {
   "cell_type": "code",
   "execution_count": 7,
   "metadata": {
    "collapsed": true,
    "nbpresent": {
     "id": "aed568cd-8017-40e0-8e28-8e7a813cb602"
    }
   },
   "outputs": [],
   "source": [
    "# write class that returns the 5 data objects we need for the data viz\n",
    "class topic_model_distributions(object):\n",
    "    '''This class fits Latent Dirichlet Allocation for topic modeling\n",
    "       and returns topic-term dist, doc-topic dist, and other distributions\n",
    "       needed for the pyLDAvis visulization.'''\n",
    "    \n",
    "    def __init__(self, term_freq_data, stopwords,n_topics):\n",
    "        \n",
    "        self.lda_model = None\n",
    "        self.term_freq_data = term_freq_data\n",
    "        self.stopwords = stopwords\n",
    "        self.doc_topic_dist = None\n",
    "        self.doc_lengths = None\n",
    "        self.vocab = None\n",
    "        self.doc_topic_probs = []\n",
    "        self.topic_indices = []\n",
    "        self.topic_word_count = dict()\n",
    "        self.topic_term_dists_dict = {}\n",
    "        self.topic_term_dists_matrix = None\n",
    "        self.smoothing_prob = 0.001\n",
    "        self.lda_model = LatentDirichletAllocation(n_topics=n_topics, \n",
    "                                           learning_method=\"online\", \n",
    "                                           n_jobs=3,\n",
    "                                           random_state=1234)        \n",
    "    def fit_lda(self):\n",
    "        self.lda_model.fit(self.term_freq_data)\n",
    "        \n",
    "    def set_doc_topic_dist(self):\n",
    "        self.doc_topic_dist = self.lda_model.transform(self.term_freq_data)\n",
    "        \n",
    "        \n",
    "        \n",
    "    def set_topic_weight_and_index_(self):\n",
    "        '''Sets probability that doc_i is a memeber of topic_j\n",
    "           Sets topic index for each doc, i.e. doc_i is a member of topic_j'''\n",
    "\n",
    "        for doc_probs in self.doc_topic_dist:\n",
    "            \n",
    "            # get topic index for each doc\n",
    "            topic_index = np.argmax(doc_probs)\n",
    "            self.topic_indices.append(topic_index)   \n",
    "            \n",
    "            # get probability that doc belongs to top topic\n",
    "            doc_topic_prob = doc_probs[topic_index]\n",
    "            self.doc_topic_probs.append(doc_topic_prob)\n",
    "\n",
    "\n",
    "        \n",
    "    def set_topic_word_count_(self):\n",
    "        '''Sets total number of words that appear in each topic'''\n",
    "\n",
    "        for doc_index, topic_index in enumerate(self.topic_indices):\n",
    "            if topic_index not in self.topic_word_count.keys():\n",
    "                self.topic_word_count[topic_index] = np.sum(self.term_freq_data[doc_index])\n",
    "            else:\n",
    "                self.topic_word_count[topic_index] += np.sum(self.term_freq_data[doc_index])\n",
    "              \n",
    "    def set_topic_term_matrix(self):\n",
    "        '''Sets the topic-term distribution matrix'''\n",
    "        \n",
    "        self.set_topic_weight_and_index_()\n",
    "        self.set_topic_word_count_()\n",
    "        \n",
    "        \n",
    "        # iterate through topics ids for all docs in corpus\n",
    "        for doc_index, topic_index in enumerate(self.topic_indices):\n",
    "            # term frequency for doc i of topic j \n",
    "            doc_i_term_freq = self.term_freq_data[doc_index].toarray()[0]\n",
    "            # normalized probabilities of words in doc i of topicj \n",
    "            # i.e. these words now have probs that correspond to their prob of appear in topic j\n",
    "            doc_i_term_freq_normalized = doc_i_term_freq/self.topic_word_count[topic_index] \n",
    "\n",
    "            if topic_index not in self.topic_term_dists_dict.keys():\n",
    "                self.topic_term_dists_dict[topic_index] = doc_i_term_freq_normalized\n",
    "            else:\n",
    "                self.topic_term_dists_dict[topic_index] += doc_i_term_freq_normalized\n",
    "\n",
    "        self.topic_term_dists_matrix = np.vstack(self.topic_term_dists_dict.values())        \n",
    "\n",
    "        \n",
    "    def get_doc_topic_dist(self):\n",
    "        '''Returns the doc topic probability distributions'''\n",
    "        return  self.doc_topic_dist\n",
    "    \n",
    "    def get_topic_term_matrix(self):\n",
    "        \"\"\"Returns the topic-term probability distribution matrix\"\"\"\n",
    "        return self.topic_term_dists_matrix\n",
    "    \n",
    "    def get_doc_lengths(self):\n",
    "        '''Returns the number of words in each document'''\n",
    "        # doc_lengths  -  the number of words in each document - shape `n_docs`\n",
    "        return [doc.sum() for doc in self.term_freq_data]\n",
    "        \n"
   ]
  },
  {
   "cell_type": "code",
   "execution_count": 8,
   "metadata": {
    "collapsed": false,
    "nbpresent": {
     "id": "2da9ac4c-6728-48b2-aaa2-4c984963de88"
    }
   },
   "outputs": [],
   "source": [
    "# get term freq\n",
    "count_vectorizer = CountVectorizer(stop_words=ENGLISH_STOP_WORDS)\n",
    "termFreq = count_vectorizer.fit_transform(US_corpus)"
   ]
  },
  {
   "cell_type": "code",
   "execution_count": 9,
   "metadata": {
    "collapsed": false,
    "nbpresent": {
     "id": "d8c6fb5f-5655-4f71-a254-fdcdb8725444"
    }
   },
   "outputs": [
    {
     "name": "stdout",
     "output_type": "stream",
     "text": [
      "1.331 minutes \n"
     ]
    }
   ],
   "source": [
    "tmdist_object = topic_model_distributions(termFreq, ENGLISH_STOP_WORDS, n_topics=5)\n",
    "\n",
    "start = time()\n",
    "tmdist_object.fit_lda()\n",
    "tmdist_object.set_doc_topic_dist()\n",
    "tmdist_object.set_topic_term_matrix()\n",
    "end = time()\n",
    "print ( \"{:.4} minutes \".format((end - start )/60 ) )"
   ]
  },
  {
   "cell_type": "code",
   "execution_count": 10,
   "metadata": {
    "collapsed": false,
    "nbpresent": {
     "id": "14a0fb6a-2851-46a5-9fb8-aae0d45ff205"
    }
   },
   "outputs": [
    {
     "name": "stdout",
     "output_type": "stream",
     "text": [
      "0.02274 minutes \n"
     ]
    }
   ],
   "source": [
    "start = time()\n",
    "doc_topic_dist = tmdist_object.get_doc_topic_dist()\n",
    "topic_term_dist = tmdist_object.get_topic_term_matrix()\n",
    "doc_lengths = tmdist_object.get_doc_lengths()\n",
    "topic_ids = tmdist_object.topic_indices\n",
    "end = time()\n",
    "print ( \"{:.4} minutes \".format((end - start )/60 ) )"
   ]
  },
  {
   "cell_type": "code",
   "execution_count": 11,
   "metadata": {
    "collapsed": true,
    "nbpresent": {
     "id": "265af97c-a794-4db8-b0a3-19788cab81f2"
    }
   },
   "outputs": [],
   "source": [
    "# vocab             -  List of all the words in the corpus  -  shape `n_terms`\n",
    "vocab = count_vectorizer.get_feature_names()\n",
    "\n",
    "# term_frequency    -  The count of each particular term over the entire corpus. \n",
    "#                      The ordering of these counts should correspond with `vocab` and `topic_term_dists`.\n",
    "term_frequency = termFreq.toarray().sum(axis = 0)"
   ]
  },
  {
   "cell_type": "code",
   "execution_count": 12,
   "metadata": {
    "collapsed": false,
    "nbpresent": {
     "id": "1e885973-0477-422d-afaa-f068b3b64820"
    }
   },
   "outputs": [],
   "source": [
    "topic_terms_probs = tmdist_object.lda_model.components_"
   ]
  },
  {
   "cell_type": "code",
   "execution_count": 13,
   "metadata": {
    "collapsed": false,
    "nbpresent": {
     "id": "eef5b468-0dc0-445c-b1e7-58fd28567c1a"
    }
   },
   "outputs": [],
   "source": [
    "pyLDAvis.enable_notebook()\n",
    "\n",
    "prepared_data = \\\n",
    "pyLDAvis.prepare(topic_term_dists = topic_term_dist,\n",
    "                 doc_topic_dists=doc_topic_dist,\n",
    "                 doc_lengths=doc_lengths, \n",
    "                 vocab=vocab,\n",
    "                 term_frequency=term_frequency)"
   ]
  },
  {
   "cell_type": "code",
   "execution_count": 14,
   "metadata": {
    "collapsed": false,
    "nbpresent": {
     "id": "7351920b-6611-496a-a57f-01cd7fe190f0"
    }
   },
   "outputs": [
    {
     "data": {
      "text/html": [
       "\n",
       "<link rel=\"stylesheet\" type=\"text/css\" href=\"https://cdn.rawgit.com/bmabey/pyLDAvis/files/ldavis.v1.0.0.css\">\n",
       "\n",
       "\n",
       "<div id=\"ldavis_el67649880386248451786974\"></div>\n",
       "<script type=\"text/javascript\">\n",
       "\n",
       "var ldavis_el67649880386248451786974_data = {\"tinfo\": {\"loglift\": [30.0, 29.0, 28.0, 27.0, 26.0, 25.0, 24.0, 23.0, 22.0, 21.0, 20.0, 19.0, 18.0, 17.0, 16.0, 15.0, 14.0, 13.0, 12.0, 11.0, 10.0, 9.0, 8.0, 7.0, 6.0, 5.0, 4.0, 3.0, 2.0, 1.0, 1.3736, 1.3736, 1.3736, 1.3736, 1.3736, 1.3736, 1.3736, 1.3736, 1.3736, 1.3736, 1.3736, 1.3736, 1.3736, 1.3736, 1.3736, 1.3736, 1.3736, 1.3736, 1.3736, 1.3736, 1.3736, 1.3736, 1.3736, 1.3736, 1.3736, 1.3736, 1.3736, 1.3736, 1.3736, 1.3736, 1.3736, 1.3736, 1.3736, 1.3736, 1.3736, 1.3736, 1.3736, 1.3736, 1.3736, 1.3736, 1.3736, 1.3736, 1.3736, 1.3736, 1.3736, 1.3736, 1.3736, 1.3736, 1.3736, 1.3736, 1.3736, 1.3736, 1.3736, 1.3736, 1.3736, 1.3736, 1.3736, 1.3736, 1.3736, 1.3297, 1.3422, 1.3131, 1.3116, 1.3553, 1.2812, 1.3395, 1.3537, 1.3523, 1.3411, 1.3217, 1.2368, 1.2518, 1.2736, 1.2067, 1.327, 1.1526, 1.2268, 1.2477, 1.1039, 1.2918, 1.2, 1.183, 1.1637, 1.2616, 1.1672, 1.2802, 1.1993, 1.1501, 1.1422, 1.255, 0.7938, 0.8213, 1.1347, 1.0125, 1.108, 0.9262, 1.1452, 1.134, 0.7477, 0.4674, 0.9404, 0.517, 0.542, 0.7529, 0.6022, -0.0734, 0.6582, 0.5723, 0.6676, 0.5215, 0.4298, 0.3342, 0.0311, 0.1123, -0.0642, 0.3459, 0.4216, 0.3448, 0.2711, -0.3013, 0.3559, 0.0896, 0.1665, 0.3148, 0.3113, -0.0033, -0.1527, -0.5701, 1.4953, 1.4953, 1.4953, 1.4953, 1.4953, 1.4953, 1.4953, 1.4953, 1.4953, 1.4953, 1.4953, 1.4953, 1.4953, 1.4953, 1.4953, 1.4953, 1.4953, 1.4953, 1.4953, 1.4953, 1.4953, 1.4953, 1.4953, 1.4953, 1.4953, 1.4953, 1.4953, 1.4953, 1.4953, 1.4953, 1.4953, 1.4953, 1.4953, 1.4953, 1.4953, 1.4953, 1.4953, 1.4953, 1.4953, 1.4953, 1.4953, 1.4953, 1.4953, 1.4953, 1.4953, 1.4953, 1.4953, 1.4953, 1.4953, 1.4953, 1.4953, 1.4953, 1.4953, 1.4953, 1.4953, 1.4953, 1.4953, 1.4953, 1.4953, 1.4953, 1.4693, 1.4554, 1.475, 1.4749, 1.4812, 1.481, 1.4558, 1.4691, 1.4531, 1.37, 1.4616, 1.4397, 1.4657, 1.4669, 1.4216, 1.4375, 1.4073, 1.3869, 1.4124, 1.4272, 1.3976, 1.3682, 1.2885, 1.3506, 1.3099, 1.3988, 1.415, 1.3272, 1.2517, 1.2792, 1.3509, 1.2461, 1.2282, 1.3342, 1.2946, 1.2421, 1.1188, 1.0333, 0.8983, 1.2148, 1.021, 1.1455, 1.0153, 1.1902, 1.1175, 1.0596, 0.8764, 0.985, 0.0581, 1.148, 0.6513, 0.3539, 0.5941, 0.868, 0.2654, 0.544, 0.1801, 0.9876, 0.0008, 0.8853, 0.3791, 0.1521, 0.7938, 0.3236, 0.4594, 0.103, 0.2827, 0.0484, -0.0715, 0.257, -0.1629, 0.0067, 0.2507, 0.0768, -0.1456, 1.5178, 1.5178, 1.5178, 1.5178, 1.5178, 1.5178, 1.5178, 1.5178, 1.5178, 1.5178, 1.5178, 1.5178, 1.5178, 1.5178, 1.5178, 1.5178, 1.5178, 1.5178, 1.5178, 1.5178, 1.5178, 1.5178, 1.5178, 1.5178, 1.5178, 1.5178, 1.5178, 1.5178, 1.5178, 1.5178, 1.5178, 1.5178, 1.5178, 1.5178, 1.5178, 1.5178, 1.5178, 1.5178, 1.5178, 1.5178, 1.5178, 1.5178, 1.5178, 1.5178, 1.5178, 1.5178, 1.5178, 1.5178, 1.5178, 1.5178, 1.5178, 1.5178, 1.5178, 1.5178, 1.5178, 1.5178, 1.5178, 1.5178, 1.5178, 1.5178, 1.4911, 1.4915, 1.4998, 1.5006, 1.4558, 1.4354, 1.4752, 1.4941, 1.5029, 1.4447, 1.2674, 1.3608, 1.3988, 1.3144, 1.318, 1.3526, 1.2507, 1.4531, 1.2818, 1.2367, 1.3206, 1.3999, 1.3454, 1.1861, 1.3535, 1.0933, 1.1636, 1.0839, 1.0025, 1.3048, 1.1329, 1.0973, 1.2011, 0.9501, 1.1559, 0.7323, 0.8536, 1.1279, 0.1405, 0.8294, 0.5025, 0.987, 0.8927, 0.5233, 0.3397, 0.5185, 0.678, -0.1349, 0.1561, 0.0302, 0.2905, 0.2905, -0.3162, -0.4645, 1.5386, 1.5386, 1.5386, 1.5386, 1.5386, 1.5386, 1.5386, 1.5386, 1.5386, 1.5386, 1.5386, 1.5386, 1.5386, 1.5386, 1.5386, 1.5386, 1.5386, 1.5386, 1.5386, 1.5386, 1.5386, 1.5386, 1.5386, 1.5386, 1.5386, 1.5386, 1.5386, 1.5386, 1.5386, 1.5386, 1.5386, 1.5386, 1.5321, 1.5386, 1.5386, 1.5386, 1.5386, 1.5386, 1.5386, 1.5386, 1.5386, 1.5386, 1.5386, 1.5235, 1.5163, 1.5386, 1.5386, 1.5386, 1.5386, 1.5386, 1.5386, 1.5386, 1.5386, 1.5386, 1.5386, 1.5386, 1.5386, 1.5386, 1.5386, 1.5386, 1.5228, 1.5077, 1.4862, 1.5155, 1.4167, 1.4239, 1.4334, 1.4827, 1.4462, 1.4776, 1.3962, 1.3978, 1.4609, 1.3353, 1.4173, 1.3581, 1.4606, 1.3433, 1.2909, 1.2433, 1.3686, 1.316, 1.2465, 1.1471, 1.2005, 1.2389, 1.0666, 0.925, 1.2224, 1.1496, 1.0944, 1.2324, 1.1788, 1.0085, 0.9318, 0.8486, 0.6141, 0.9105, 0.9945, 1.0051, 0.4857, 0.8048, -0.0225, 0.2451, 0.686, 0.5763, 0.6577, 0.3882, 0.0243, 0.3495, 0.0144, 0.3728, 0.1695, -0.154, 2.4219, 2.4219, 2.4219, 2.4219, 2.4219, 2.4219, 2.4219, 2.4219, 2.4219, 2.4219, 2.4219, 2.4219, 2.4219, 2.4219, 2.4219, 2.4219, 2.4219, 2.4219, 2.4219, 2.4219, 2.4219, 2.4219, 2.4219, 2.4219, 2.4219, 2.4219, 2.4219, 2.4219, 2.4219, 2.4219, 2.4219, 2.4219, 2.4219, 2.4219, 2.4219, 2.4219, 2.4219, 2.4219, 2.4219, 2.4219, 2.4219, 2.4219, 2.4219, 2.4219, 2.4219, 2.4219, 2.4219, 2.4219, 2.4219, 2.4219, 2.4219, 2.4219, 2.4219, 2.4219, 2.4219, 2.4219, 2.3963, 2.4219, 2.3832, 2.3779, 2.3309, 2.3644, 2.3644, 2.2812, 2.3881, 2.3127, 2.2912, 2.2474, 2.3671, 2.1359, 2.169, 2.2913, 2.0814, 2.167, 2.1531, 2.3611, 2.0569, 2.1088, 1.9541, 2.1764, 2.3274, 2.3591, 2.3014, 2.0698, 2.2033, 2.1373, 2.2416, 1.8987, 1.8319, 1.7232, 1.8273, 1.868, 1.7123, 1.6235, 1.7773, 1.1271, 1.5064, 1.9314, 0.8085, -0.3116, 1.1823, 0.0446, 0.1588, -0.0377, 1.2104, 0.0542, -0.2495, 0.1027, 0.4057, 0.23, -0.6177, 0.3204, 0.0737, 0.0505, -0.2085, 0.0677, -0.3183, 0.161, -0.053, -0.2808, -0.086, 0.0206], \"Term\": [\"trump\", \"clinton\", \"police\", \"election\", \"republican\", \"mr\", \"campaign\", \"voters\", \"mrs\", \"pipeline\", \"percent\", \"republicans\", \"democrats\", \"presidential\", \"vote\", \"voting\", \"hillary\", \"donald\", \"emails\", \"shooting\", \"officers\", \"voter\", \"dakota\", \"comey\", \"officer\", \"water\", \"democratic\", \"protesters\", \"old\", \"man\", \"delong\", \"undress\", \"diamonds\", \"dials\", \"apostles\", \"kunduz\", \"kurd\", \"dhs\", \"kurds\", \"appell\", \"unexploded\", \"gillers\", \"gimbel\", \"deterrence\", \"undressed\", \"reich\", \"denuclearization\", \"reines\", \"despondent\", \"rejoinder\", \"underpinning\", \"lai\", \"remade\", \"glaser\", \"arbiters\", \"undefeated\", \"gleeful\", \"renault\", \"depictions\", \"rennie\", \"hombres\", \"crosstalk\", \"raqqa\", \"iraqis\", \"clapper\", \"ehrman\", \"manafort\", \"booz\", \"qatar\", \"wyda\", \"wathke\", \"bahlul\", \"teneo\", \"domains\", \"houthis\", \"mooney\", \"jong\", \"zampolli\", \"nsa\", \"ariana\", \"militias\", \"militarily\", \"kazwini\", \"tribunals\", \"saakashvili\", \"kirchhoff\", \"dunford\", \"fitton\", \"rhodes\", \"mosul\", \"quijano\", \"abedin\", \"weiner\", \"snowden\", \"comey\", \"sexting\", \"yemen\", \"osama\", \"tanden\", \"russians\", \"classified\", \"putin\", \"iraqi\", \"russia\", \"puppet\", \"emails\", \"podesta\", \"korea\", \"mrs\", \"hayden\", \"intelligence\", \"nuclear\", \"iraq\", \"hacking\", \"syria\", \"isis\", \"iran\", \"wallace\", \"russian\", \"huma\", \"clinton\", \"mr\", \"aides\", \"fbi\", \"server\", \"email\", \"forces\", \"wikileaks\", \"obama\", \"trump\", \"military\", \"campaign\", \"president\", \"united\", \"hillary\", \"said\", \"country\", \"american\", \"debate\", \"government\", \"donald\", \"presidential\", \"people\", \"election\", \"new\", \"like\", \"going\", \"women\", \"just\", \"state\", \"washington\", \"time\", \"states\", \"department\", \"did\", \"years\", \"___\", \"year\", \"z\\u00f3calo\", \"kassy\", \"kayvan\", \"kayal\", \"kaya\", \"katten\", \"kathay\", \"stenger\", \"kasinga\", \"kc\", \"kary\", \"karan\", \"stepien\", \"kapphahn\", \"kaniela\", \"kaneohe\", \"kboi\", \"kcc\", \"kestenberg\", \"kennett\", \"kest\", \"kersten\", \"kernel\", \"kensweet\", \"keno\", \"stealthy\", \"kennametal\", \"kcci\", \"kenmore\", \"steenhuysen\", \"nasdaq\", \"abele\", \"mangano\", \"malaria\", \"rebates\", \"ge\", \"hoboken\", \"vides\", \"inflators\", \"mgp\", \"venditto\", \"bourbon\", \"deductible\", \"subsidy\", \"directv\", \"zurixx\", \"samsung\", \"marketplaces\", \"aa\", \"subways\", \"hare\", \"18f\", \"cps\", \"nw\", \"copenhaver\", \"disk\", \"unitedhealth\", \"ovarian\", \"santoro\", \"mylan\", \"wildstein\", \"transit\", \"septa\", \"enrollment\", \"composite\", \"cannabis\", \"insurers\", \"epa\", \"chappell\", \"bus\", \"ntsb\", \"commuter\", \"walkout\", \"insurer\", \"closures\", \"inflation\", \"proposition\", \"baroni\", \"airlines\", \"dow\", \"colonial\", \"consumers\", \"christie\", \"transportation\", \"sales\", \"consumer\", \"cents\", \"prices\", \"marijuana\", \"market\", \"explosion\", \"rate\", \"crash\", \"flint\", \"lane\", \"insurance\", \"workers\", \"company\", \"percent\", \"strike\", \"health\", \"companies\", \"water\", \"gas\", \"increase\", \"safety\", \"california\", \"union\", \"said\", \"industry\", \"000\", \"new\", \"million\", \"tax\", \"year\", \"city\", \"people\", \"billion\", \"state\", \"pay\", \"federal\", \"says\", \"care\", \"officials\", \"school\", \"time\", \"york\", \"years\", \"___\", \"tuesday\", \"say\", \"law\", \"government\", \"department\", \"states\", \"juicing\", \"hamish\", \"shramo\", \"shrieking\", \"shudders\", \"hammon\", \"shuh\", \"shuler\", \"shuns\", \"hanrahan\", \"halogen\", \"shutouts\", \"halliday\", \"hallandale\", \"halford\", \"shyly\", \"haney\", \"hanri\", \"halbach\", \"shorthanded\", \"harrouf\", \"harrold\", \"harrisons\", \"harmon\", \"harleaux\", \"harkens\", \"haris\", \"hanukkah\", \"hargreaves\", \"hardwoods\", \"eramo\", \"erdely\", \"mcqueary\", \"tensing\", \"kohlhepp\", \"kane\", \"dubose\", \"lawler\", \"mateen\", \"brandt\", \"boeckmann\", \"epps\", \"kenoi\", \"ackal\", \"kuenzel\", \"spanier\", \"sampson\", \"ojeda\", \"spartanburg\", \"midazolam\", \"curley\", \"carver\", \"vega\", \"roanoke\", \"gesell\", \"dimasi\", \"fogle\", \"malice\", \"rhoden\", \"mistrial\", \"jackie\", \"slager\", \"sandusky\", \"heaggan\", \"murder\", \"shooting\", \"vance\", \"aggravated\", \"bystander\", \"gang\", \"police\", \"jury\", \"victim\", \"officer\", \"shot\", \"jurors\", \"officers\", \"raped\", \"prison\", \"trial\", \"boy\", \"fatally\", \"suspect\", \"death\", \"rape\", \"man\", \"charged\", \"attorney\", \"old\", \"sentence\", \"prosecutors\", \"charges\", \"guilty\", \"judge\", \"cubs\", \"court\", \"case\", \"sheriff\", \"said\", \"county\", \"year\", \"authorities\", \"woman\", \"say\", \"says\", \"told\", \"school\", \"state\", \"years\", \"___\", \"federal\", \"city\", \"people\", \"new\", \"ghouls\", \"intraparty\", \"subtly\", \"interfax\", \"interjection\", \"substitution\", \"interrogate\", \"interviewers\", \"intimated\", \"subsidizes\", \"intones\", \"subservient\", \"intrude\", \"indexed\", \"intrudes\", \"subodh\", \"inverted\", \"invigorated\", \"invigorating\", \"invokes\", \"iqbal\", \"ironically\", \"subgroups\", \"subflooring\", \"interdenominational\", \"intercivic\", \"suburbanites\", \"suburbia\", \"indianavoters\", \"inducement\", \"bayh\", \"electors\", \"ayotte\", \"masto\", \"rnc\", \"sorrentino\", \"pitcock\", \"sproul\", \"genforward\", \"comstock\", \"crooks\", \"foval\", \"greitens\", \"mcconnell\", \"toomey\", \"stumbo\", \"crist\", \"borges\", \"knowledgepanel\", \"booths\", \"keefe\", \"barrington\", \"woodhouse\", \"fieldworks\", \"gottheimer\", \"thune\", \"hollingsworth\", \"interval\", \"realclearpolitics\", \"purged\", \"portman\", \"stoynoff\", \"burr\", \"husted\", \"voter\", \"ballots\", \"electoral\", \"mcginty\", \"mcmullin\", \"watchers\", \"votes\", \"polling\", \"feingold\", \"voting\", \"turnout\", \"poll\", \"heck\", \"gop\", \"democrats\", \"voters\", \"registration\", \"elections\", \"republicans\", \"republican\", \"vote\", \"senate\", \"election\", \"trump\", \"polls\", \"nominee\", \"party\", \"ryan\", \"ballot\", \"democratic\", \"presidential\", \"campaign\", \"clinton\", \"donald\", \"race\", \"candidate\", \"state\", \"hillary\", \"said\", \"mr\", \"women\", \"states\", \"house\", \"president\", \"new\", \"percent\", \"people\", \"obama\", \"___\", \"says\", \"carnivore\", \"bleaching\", \"coulthurst\", \"counterintuitive\", \"402\", \"sequel\", \"blowin\", \"sequins\", \"surveyor\", \"viacom\", \"filthy\", \"filmyard\", \"nabisco\", \"nagato\", \"liv\", \"blazes\", \"9780345544964\", \"surfboard\", \"tuna\", \"lightricks\", \"biology\", \"seymour\", \"icahn\", \"bikila\", \"fallis\", \"bigfoot\", \"nee\", \"puritan\", \"puppies\", \"supersonic\", \"bison\", \"oahe\", \"sunoco\", \"cellars\", \"dyson\", \"toca\", \"deforest\", \"pandas\", \"cannonball\", \"lionsgate\", \"mei\", \"moll\", \"preskey\", \"shearer\", \"reacher\", \"lunar\", \"meaney\", \"etp\", \"madea\", \"lun\", \"schuster\", \"comscore\", \"macmillan\", \"lycoming\", \"bao\", \"edinburgh\", \"narrated\", \"vibram\", \"shark\", \"archambault\", \"musician\", \"artifacts\", \"kirchmeier\", \"tribe\", \"penguin\", \"reservation\", \"morton\", \"sioux\", \"songwriter\", \"protesters\", \"actor\", \"bismarck\", \"dakota\", \"actress\", \"camp\", \"panda\", \"rock\", \"singer\", \"pipeline\", \"tribal\", \"guo\", \"inferno\", \"theaters\", \"museum\", \"sacred\", \"winds\", \"gallery\", \"storm\", \"protest\", \"land\", \"hurricane\", \"film\", \"construction\", \"standing\", \"music\", \"water\", \"oil\", \"movie\", \"north\", \"said\", \"access\", \"people\", \"says\", \"new\", \"today\", \"___\", \"year\", \"years\", \"national\", \"000\", \"state\", \"american\", \"million\", \"like\", \"time\", \"officials\", \"say\", \"county\", \"just\", \"president\", \"city\", \"york\"], \"Total\": [15355.0, 11982.0, 5308.0, 5177.0, 4466.0, 8756.0, 5221.0, 3137.0, 2750.0, 1115.0, 4006.0, 1916.0, 1770.0, 3347.0, 2247.0, 1559.0, 2659.0, 2774.0, 1857.0, 1204.0, 1901.0, 1221.0, 770.0, 1213.0, 1613.0, 1301.0, 2789.0, 633.0, 3251.0, 2514.0, 6.376388759367236, 3.188194379683618, 5.3136572994726965, 6.376388759367236, 7.439120219261777, 3.188194379683618, 3.188194379683618, 6.376388759367236, 12.752777518734472, 3.188194379683618, 10.627314598945393, 10.627314598945395, 6.376388759367236, 3.188194379683618, 5.3136572994726965, 6.376388759367236, 14.878240438523553, 29.756480877047107, 3.188194379683618, 3.188194379683618, 3.188194379683618, 11.690046058839933, 3.188194379683618, 6.376388759367236, 5.3136572994726965, 3.188194379683618, 5.3136572994726965, 3.188194379683618, 3.188194379683618, 3.188194379683618, 65.8893505134614, 58.45023029419968, 52.07384153483243, 43.571989855676115, 40.38379547599249, 40.3837954759925, 40.38379547599249, 37.19560109630887, 36.13286963641434, 30.819212336941636, 29.756480877047107, 29.756480877047107, 25.505555037468945, 23.380092117679865, 23.380092117679865, 23.380092117679865, 22.317360657785336, 21.254629197890786, 21.254629197890793, 20.19189773799625, 20.191897737996253, 20.191897737996253, 19.12916627810171, 19.12916627810171, 19.12916627810171, 19.12916627810171, 18.06643481820717, 18.06643481820717, 18.066434818207174, 310.9410022803904, 126.11236566039514, 484.3478685843141, 472.6578225254744, 53.037430829109134, 1213.492733974649, 84.67392964083515, 48.78650498953097, 45.598310609847324, 59.28323698694224, 94.02450823069219, 527.6516779552305, 364.9257877179759, 202.01516881837694, 720.8374990548514, 62.35656898304987, 1857.2154534422814, 445.5467967334636, 257.9473518286249, 2750.1477656242528, 111.87573185922005, 384.34835440137624, 465.5108769635162, 524.3940328951887, 153.33885193208263, 452.0085011719885, 120.18077671778664, 290.98401839905995, 457.15859655309055, 472.81877969793294, 144.78361451930198, 11982.107462106567, 8756.622912895751, 477.7428133586078, 1433.4317085949685, 496.1929437457148, 1667.3494849709928, 331.2014938758865, 330.8712667050949, 3555.3189099228944, 15355.733836711992, 862.08921017525, 5221.230363261196, 4040.063878795832, 1595.387965691023, 2659.46705826385, 28897.288756526654, 2088.502663986016, 2332.8366133659674, 1662.2065645623761, 2299.908319273996, 2774.7534516322103, 3347.4436076473257, 6562.842043096192, 5177.152992817989, 7407.299734289001, 2972.904571928409, 2403.871237198496, 2785.9725010961415, 3194.176230774589, 8538.173099408456, 2561.0845023872475, 3972.1165753432333, 3429.256382225301, 2711.4715720939594, 2717.9565756527963, 3929.039008122198, 4576.805795193537, 7259.803340268897, 1.0272026509657934, 1.0272026509657934, 1.0272026509657934, 2.054405301931587, 1.0272026509657934, 2.054405301931587, 1.0272026509657934, 1.0272026509657934, 4.108810603863174, 1.0272026509657934, 2.054405301931587, 4.108810603863174, 14.380837113521105, 2.054405301931587, 5.136013254828967, 2.054405301931587, 1.0272026509657934, 4.108810603863174, 2.054405301931587, 2.054405301931587, 5.136013254828967, 1.0272026509657934, 2.054405301931587, 5.136013254828967, 2.054405301931587, 2.054405301931587, 4.108810603863174, 2.054405301931587, 2.054405301931587, 1.0272026509657934, 104.77467039851086, 66.76817231277657, 65.74096966181078, 55.468943152152846, 53.41453785022125, 53.41453785022125, 51.36013254828967, 43.142511340563324, 39.033700736700155, 36.97929543476857, 34.92489013283697, 33.89768748187118, 32.87048483090538, 30.816079528973805, 30.816079528973805, 30.816079528973805, 30.816079528973802, 29.788876878008008, 29.788876878008015, 29.788876878008008, 29.788876878008004, 28.76167422704222, 27.73447157607642, 26.707268925110625, 26.707268925110633, 26.707268925110633, 26.707268925110622, 25.680066274144835, 25.680066274144835, 25.680066274144835, 227.723144267396, 381.61996106290366, 141.51596510933774, 96.45176777511449, 68.75896425801902, 66.68883873812932, 164.56559700809933, 82.24726969512095, 120.00767614058651, 958.2651673720887, 88.18150585955313, 145.5159659098452, 73.00244583642878, 67.63670781444787, 149.26857005896758, 107.74058427221095, 192.92568329327162, 274.73754684895835, 160.6969901401773, 123.15197992485373, 189.1534360692053, 285.75915951368404, 781.8702451562905, 338.32579861927735, 443.88127111859984, 164.03696739331374, 133.5627657820707, 346.3269774848239, 623.7879590287334, 437.32019894408955, 226.67829883786766, 550.8578140162549, 615.8021632280924, 234.11806571228823, 315.12818142464033, 436.63267297254, 1038.7442963051983, 1747.8634021816313, 4006.423397371169, 501.74021316623464, 1412.9256116735107, 706.8414206441086, 1301.4453662119167, 480.8265044717497, 593.480822302718, 757.4737227411136, 1483.9688792388702, 942.8005993406617, 28897.288756526654, 497.1653859639171, 2795.024147234465, 7407.299734289001, 3156.9440416928464, 1296.3438019657751, 7259.803340268897, 3135.6466779793927, 6562.842043096192, 798.6822874600427, 8538.173099408456, 1001.9876346207456, 3202.0945702182485, 5289.3891977256035, 1160.1190875510085, 2841.0885475617406, 2173.5323087872202, 3972.1165753432333, 2797.363033805928, 3929.039008122198, 4576.805795193537, 2452.1387778798958, 4373.499241513011, 3381.693982337854, 2299.908319273996, 2711.4715720939594, 3429.256382225301, 1.9491238862615443, 0.9745619431307722, 0.9745619431307722, 1.9491238862615443, 1.9491238862615443, 7.796495545046177, 1.9491238862615443, 1.9491238862615443, 1.9491238862615443, 0.9745619431307722, 0.9745619431307722, 3.8982477725230886, 0.9745619431307722, 0.9745619431307722, 3.8982477725230886, 0.9745619431307722, 3.8982477725230886, 0.9745619431307722, 1.9491238862615443, 1.9491238862615443, 1.9491238862615443, 3.8982477725230886, 1.9491238862615443, 1.9491238862615443, 3.8982477725230886, 0.9745619431307722, 0.9745619431307722, 0.9745619431307722, 1.9491238862615443, 1.9491238862615443, 237.7931141239085, 221.22556109068532, 216.3527513750314, 159.8281586734466, 142.28604369709274, 134.48954815204655, 132.54042426578505, 127.66761455013115, 114.99830928943113, 80.88864127985408, 74.0667076779387, 73.09214573480791, 68.21933601915404, 65.29565018976174, 60.42284047410787, 57.49915464471555, 54.57546881532324, 53.600906872192475, 52.62634492906169, 52.6263449290617, 49.702659099669376, 49.702659099669376, 46.778973270277056, 44.829849384015525, 44.829849384015525, 41.906163554623205, 40.931601611492425, 40.931601611492425, 40.931601611492425, 39.95703966836165, 340.3174349216505, 328.1581690260495, 216.30886077961512, 124.92026775426636, 748.5948648332717, 1204.3143798558901, 262.3619746093968, 90.81059974468924, 72.20575330844088, 234.8577609302475, 5308.9685674493985, 762.7744671105913, 396.256831976453, 1613.58148397338, 1222.1472426970288, 602.3833218441727, 1901.684665686891, 139.31631802461376, 915.5337563424337, 1315.368982023195, 548.3873248842613, 239.02460646620892, 411.06661311855237, 1514.0281442801202, 354.8954469637659, 2514.977217742694, 1347.0457662775627, 2072.541617246185, 3251.5331891934106, 473.92131677176053, 1297.4663379901292, 1540.3502479562376, 833.33010457478, 2197.25070668136, 824.335162123494, 3843.449713204381, 2380.087528263516, 892.2947299961644, 28897.288756526654, 2514.0121246941208, 7259.803340268897, 1426.7046156790361, 1782.6801686476153, 4373.499241513011, 5289.3891977256035, 3115.6280204162554, 2173.5323087872202, 8538.173099408456, 3929.039008122198, 4576.805795193537, 3202.0945702182485, 3135.6466779793927, 6562.842043096192, 7407.299734289001, 0.947869076318556, 0.947869076318556, 2.8436072289556678, 1.895738152637112, 2.8436072289556678, 0.947869076318556, 1.895738152637112, 3.791476305274224, 0.947869076318556, 0.947869076318556, 0.947869076318556, 1.895738152637112, 1.895738152637112, 1.895738152637112, 0.947869076318556, 1.895738152637112, 0.947869076318556, 2.8436072289556678, 1.895738152637112, 0.947869076318556, 0.947869076318556, 1.895738152637112, 2.8436072289556678, 1.895738152637112, 3.791476305274224, 0.947869076318556, 1.895738152637112, 1.895738152637112, 1.895738152637112, 1.895738152637112, 109.00494377663391, 90.99543132658137, 157.42560024352736, 69.19444257125454, 61.61148996070616, 46.445584739609245, 45.49771566329069, 42.65410843433502, 37.91476305274224, 36.96689397642369, 36.01902490010514, 34.12328674746802, 32.22754859483091, 141.4622171386167, 285.9267086554837, 29.383941365875238, 29.38394136587524, 28.43607228955668, 27.48820321323813, 25.592465060601015, 24.64459598428246, 24.64459598428246, 23.696726907963903, 23.696726907963903, 21.80098875532679, 20.853119679008234, 20.853119679008234, 20.853119679008238, 19.90525060268968, 19.905250602689676, 65.48229984062759, 67.45737156791195, 137.84848408875112, 46.56044712318523, 1221.793289815276, 800.4712749586296, 550.7488611666203, 134.31146121023323, 289.0131582540274, 121.90099370132826, 897.2550313389884, 594.6820356040889, 138.3054094305204, 1559.9669322401626, 314.62873402942625, 801.5552677904342, 134.23975693721704, 893.0391715121767, 1770.5204667763635, 3137.9601043711464, 441.52581960384094, 811.1738537956713, 1916.9142683121995, 4466.953963757141, 2247.551531070116, 1381.4713905188037, 5177.152992817989, 15355.733836711992, 999.9987464809182, 1391.5826739310878, 2049.8931528136586, 728.7347296657887, 1013.3573754575986, 2789.5391088322735, 3347.4436076473257, 5221.230363261196, 11982.107462106567, 2774.7534516322103, 1652.873575556082, 1548.118595780691, 8538.173099408456, 2659.46705826385, 28897.288756526654, 8756.622912895751, 2785.9725010961415, 3429.256382225301, 2676.177254178535, 4040.063878795832, 7407.299734289001, 4006.423397371169, 6562.842043096192, 3555.3189099228944, 4576.805795193537, 5289.3891977256035, 4.817946471383494, 4.817946471383494, 17.344607296980577, 6.745125059936893, 4.817946471383494, 9.635892942766988, 4.817946471383494, 9.635892942766988, 4.817946471383494, 4.817946471383494, 4.817946471383494, 4.817946471383494, 9.635892942766988, 8.672303648490288, 4.817946471383494, 6.745125059936893, 4.817946471383494, 4.817946471383494, 6.745125059936893, 4.817946471383494, 6.745125059936893, 10.599482237043686, 4.817946471383494, 21.198964474087372, 17.344607296980577, 9.635892942766988, 6.745125059936893, 8.672303648490288, 17.344607296980577, 4.817946471383494, 35.652803888237855, 27.94408953402426, 24.089732356917473, 24.08973235691747, 21.198964474087372, 21.198964474087372, 21.198964474087372, 20.235375179810674, 20.23537517981067, 20.235375179810678, 19.271785885533976, 19.271785885533976, 19.271785885533973, 19.271785885533976, 18.308196591257275, 17.344607296980577, 17.344607296980577, 17.344607296980577, 17.34460729698058, 17.34460729698058, 17.34460729698058, 16.38101800270388, 16.38101800270388, 16.38101800270388, 15.417428708427181, 15.417428708427181, 121.5948151921416, 15.417428708427181, 54.088227192873326, 49.34133833934732, 145.64239279351628, 55.11542984383914, 55.11542984383914, 222.9600997819286, 31.897588876748905, 99.95688849524845, 117.50330851115041, 204.22862828032075, 37.66340442445096, 633.6484875087929, 367.2966121246526, 83.45217216685205, 770.7199323382074, 259.8763372053683, 255.93696395431928, 34.816441307339346, 517.7640463897502, 312.3411839638216, 1115.343688171219, 169.99145186499806, 45.543150257761226, 34.88749892519684, 53.26553395289322, 249.39865321754695, 101.92385592513868, 129.3706977986689, 69.23959015403437, 447.16803517802737, 389.3958921630581, 581.3928811882802, 368.48541582690314, 276.6623998439483, 462.35680541731017, 503.16582869850095, 260.7045930601533, 1301.4453662119167, 464.56446907545956, 162.09714315298672, 2283.2900193977525, 28897.288756526654, 785.5687259165618, 6562.842043096192, 5289.3891977256035, 7407.299734289001, 731.3891041618875, 4576.805795193537, 7259.803340268897, 3929.039008122198, 2366.4006079200894, 2795.024147234465, 8538.173099408456, 2332.8366133659674, 3156.9440416928464, 2972.904571928409, 3972.1165753432333, 2841.0885475617406, 4373.499241513011, 2514.0121246941208, 3194.176230774589, 4040.063878795832, 3135.6466779793927, 2797.363033805928], \"Category\": [\"Default\", \"Default\", \"Default\", \"Default\", \"Default\", \"Default\", \"Default\", \"Default\", \"Default\", \"Default\", \"Default\", \"Default\", \"Default\", \"Default\", \"Default\", \"Default\", \"Default\", \"Default\", \"Default\", \"Default\", \"Default\", \"Default\", \"Default\", \"Default\", \"Default\", \"Default\", \"Default\", \"Default\", \"Default\", \"Default\", \"Topic1\", \"Topic1\", \"Topic1\", \"Topic1\", \"Topic1\", \"Topic1\", \"Topic1\", \"Topic1\", \"Topic1\", \"Topic1\", \"Topic1\", \"Topic1\", \"Topic1\", \"Topic1\", \"Topic1\", \"Topic1\", \"Topic1\", \"Topic1\", \"Topic1\", \"Topic1\", \"Topic1\", \"Topic1\", \"Topic1\", \"Topic1\", \"Topic1\", \"Topic1\", \"Topic1\", \"Topic1\", \"Topic1\", \"Topic1\", \"Topic1\", \"Topic1\", \"Topic1\", \"Topic1\", \"Topic1\", \"Topic1\", \"Topic1\", \"Topic1\", \"Topic1\", \"Topic1\", \"Topic1\", \"Topic1\", \"Topic1\", \"Topic1\", \"Topic1\", \"Topic1\", \"Topic1\", \"Topic1\", \"Topic1\", \"Topic1\", \"Topic1\", \"Topic1\", \"Topic1\", \"Topic1\", \"Topic1\", \"Topic1\", \"Topic1\", \"Topic1\", \"Topic1\", \"Topic1\", \"Topic1\", \"Topic1\", \"Topic1\", \"Topic1\", \"Topic1\", \"Topic1\", \"Topic1\", \"Topic1\", \"Topic1\", \"Topic1\", \"Topic1\", \"Topic1\", \"Topic1\", \"Topic1\", \"Topic1\", \"Topic1\", \"Topic1\", \"Topic1\", \"Topic1\", \"Topic1\", \"Topic1\", \"Topic1\", \"Topic1\", \"Topic1\", \"Topic1\", \"Topic1\", \"Topic1\", \"Topic1\", \"Topic1\", \"Topic1\", \"Topic1\", \"Topic1\", \"Topic1\", \"Topic1\", \"Topic1\", \"Topic1\", \"Topic1\", \"Topic1\", \"Topic1\", \"Topic1\", \"Topic1\", \"Topic1\", \"Topic1\", \"Topic1\", \"Topic1\", \"Topic1\", \"Topic1\", \"Topic1\", \"Topic1\", \"Topic1\", \"Topic1\", \"Topic1\", \"Topic1\", \"Topic1\", \"Topic1\", \"Topic1\", \"Topic1\", \"Topic1\", \"Topic1\", \"Topic1\", \"Topic1\", \"Topic1\", \"Topic1\", \"Topic1\", \"Topic1\", \"Topic1\", \"Topic1\", \"Topic1\", \"Topic2\", \"Topic2\", \"Topic2\", \"Topic2\", \"Topic2\", \"Topic2\", \"Topic2\", \"Topic2\", \"Topic2\", \"Topic2\", \"Topic2\", \"Topic2\", \"Topic2\", \"Topic2\", \"Topic2\", \"Topic2\", \"Topic2\", \"Topic2\", \"Topic2\", \"Topic2\", \"Topic2\", \"Topic2\", \"Topic2\", \"Topic2\", \"Topic2\", \"Topic2\", \"Topic2\", \"Topic2\", \"Topic2\", \"Topic2\", \"Topic2\", \"Topic2\", \"Topic2\", \"Topic2\", \"Topic2\", \"Topic2\", \"Topic2\", \"Topic2\", \"Topic2\", \"Topic2\", \"Topic2\", \"Topic2\", \"Topic2\", \"Topic2\", \"Topic2\", \"Topic2\", \"Topic2\", \"Topic2\", \"Topic2\", \"Topic2\", \"Topic2\", \"Topic2\", \"Topic2\", \"Topic2\", \"Topic2\", \"Topic2\", \"Topic2\", \"Topic2\", \"Topic2\", \"Topic2\", \"Topic2\", \"Topic2\", \"Topic2\", \"Topic2\", \"Topic2\", \"Topic2\", \"Topic2\", \"Topic2\", \"Topic2\", \"Topic2\", \"Topic2\", \"Topic2\", \"Topic2\", \"Topic2\", \"Topic2\", \"Topic2\", \"Topic2\", \"Topic2\", \"Topic2\", \"Topic2\", \"Topic2\", \"Topic2\", \"Topic2\", \"Topic2\", \"Topic2\", \"Topic2\", \"Topic2\", \"Topic2\", \"Topic2\", \"Topic2\", \"Topic2\", \"Topic2\", \"Topic2\", \"Topic2\", \"Topic2\", \"Topic2\", \"Topic2\", \"Topic2\", \"Topic2\", \"Topic2\", \"Topic2\", \"Topic2\", \"Topic2\", \"Topic2\", \"Topic2\", \"Topic2\", \"Topic2\", \"Topic2\", \"Topic2\", \"Topic2\", \"Topic2\", \"Topic2\", \"Topic2\", \"Topic2\", \"Topic2\", \"Topic2\", \"Topic2\", \"Topic2\", \"Topic2\", \"Topic2\", \"Topic2\", \"Topic2\", \"Topic2\", \"Topic2\", \"Topic2\", \"Topic2\", \"Topic2\", \"Topic2\", \"Topic2\", \"Topic2\", \"Topic2\", \"Topic2\", \"Topic2\", \"Topic2\", \"Topic2\", \"Topic3\", \"Topic3\", \"Topic3\", \"Topic3\", \"Topic3\", \"Topic3\", \"Topic3\", \"Topic3\", \"Topic3\", \"Topic3\", \"Topic3\", \"Topic3\", \"Topic3\", \"Topic3\", \"Topic3\", \"Topic3\", \"Topic3\", \"Topic3\", \"Topic3\", \"Topic3\", \"Topic3\", \"Topic3\", \"Topic3\", \"Topic3\", \"Topic3\", \"Topic3\", \"Topic3\", \"Topic3\", \"Topic3\", \"Topic3\", \"Topic3\", \"Topic3\", \"Topic3\", \"Topic3\", \"Topic3\", \"Topic3\", \"Topic3\", \"Topic3\", \"Topic3\", \"Topic3\", \"Topic3\", \"Topic3\", \"Topic3\", \"Topic3\", \"Topic3\", \"Topic3\", \"Topic3\", \"Topic3\", \"Topic3\", \"Topic3\", \"Topic3\", \"Topic3\", \"Topic3\", \"Topic3\", \"Topic3\", \"Topic3\", \"Topic3\", \"Topic3\", \"Topic3\", \"Topic3\", \"Topic3\", \"Topic3\", \"Topic3\", \"Topic3\", \"Topic3\", \"Topic3\", \"Topic3\", \"Topic3\", \"Topic3\", \"Topic3\", \"Topic3\", \"Topic3\", \"Topic3\", \"Topic3\", \"Topic3\", \"Topic3\", \"Topic3\", \"Topic3\", \"Topic3\", \"Topic3\", \"Topic3\", \"Topic3\", \"Topic3\", \"Topic3\", \"Topic3\", \"Topic3\", \"Topic3\", \"Topic3\", \"Topic3\", \"Topic3\", \"Topic3\", \"Topic3\", \"Topic3\", \"Topic3\", \"Topic3\", \"Topic3\", \"Topic3\", \"Topic3\", \"Topic3\", \"Topic3\", \"Topic3\", \"Topic3\", \"Topic3\", \"Topic3\", \"Topic3\", \"Topic3\", \"Topic3\", \"Topic3\", \"Topic3\", \"Topic3\", \"Topic3\", \"Topic3\", \"Topic3\", \"Topic3\", \"Topic4\", \"Topic4\", \"Topic4\", \"Topic4\", \"Topic4\", \"Topic4\", \"Topic4\", \"Topic4\", \"Topic4\", \"Topic4\", \"Topic4\", \"Topic4\", \"Topic4\", \"Topic4\", \"Topic4\", \"Topic4\", \"Topic4\", \"Topic4\", \"Topic4\", \"Topic4\", \"Topic4\", \"Topic4\", \"Topic4\", \"Topic4\", \"Topic4\", \"Topic4\", \"Topic4\", \"Topic4\", \"Topic4\", \"Topic4\", \"Topic4\", \"Topic4\", \"Topic4\", \"Topic4\", \"Topic4\", \"Topic4\", \"Topic4\", \"Topic4\", \"Topic4\", \"Topic4\", \"Topic4\", \"Topic4\", \"Topic4\", \"Topic4\", \"Topic4\", \"Topic4\", \"Topic4\", \"Topic4\", \"Topic4\", \"Topic4\", \"Topic4\", \"Topic4\", \"Topic4\", \"Topic4\", \"Topic4\", \"Topic4\", \"Topic4\", \"Topic4\", \"Topic4\", \"Topic4\", \"Topic4\", \"Topic4\", \"Topic4\", \"Topic4\", \"Topic4\", \"Topic4\", \"Topic4\", \"Topic4\", \"Topic4\", \"Topic4\", \"Topic4\", \"Topic4\", \"Topic4\", \"Topic4\", \"Topic4\", \"Topic4\", \"Topic4\", \"Topic4\", \"Topic4\", \"Topic4\", \"Topic4\", \"Topic4\", \"Topic4\", \"Topic4\", \"Topic4\", \"Topic4\", \"Topic4\", \"Topic4\", \"Topic4\", \"Topic4\", \"Topic4\", \"Topic4\", \"Topic4\", \"Topic4\", \"Topic4\", \"Topic4\", \"Topic4\", \"Topic4\", \"Topic4\", \"Topic4\", \"Topic4\", \"Topic4\", \"Topic4\", \"Topic4\", \"Topic4\", \"Topic4\", \"Topic4\", \"Topic4\", \"Topic4\", \"Topic4\", \"Topic4\", \"Topic4\", \"Topic4\", \"Topic4\", \"Topic5\", \"Topic5\", \"Topic5\", \"Topic5\", \"Topic5\", \"Topic5\", \"Topic5\", \"Topic5\", \"Topic5\", \"Topic5\", \"Topic5\", \"Topic5\", \"Topic5\", \"Topic5\", \"Topic5\", \"Topic5\", \"Topic5\", \"Topic5\", \"Topic5\", \"Topic5\", \"Topic5\", \"Topic5\", \"Topic5\", \"Topic5\", \"Topic5\", \"Topic5\", \"Topic5\", \"Topic5\", \"Topic5\", \"Topic5\", \"Topic5\", \"Topic5\", \"Topic5\", \"Topic5\", \"Topic5\", \"Topic5\", \"Topic5\", \"Topic5\", \"Topic5\", \"Topic5\", \"Topic5\", \"Topic5\", \"Topic5\", \"Topic5\", \"Topic5\", \"Topic5\", \"Topic5\", \"Topic5\", \"Topic5\", \"Topic5\", \"Topic5\", \"Topic5\", \"Topic5\", \"Topic5\", \"Topic5\", \"Topic5\", \"Topic5\", \"Topic5\", \"Topic5\", \"Topic5\", \"Topic5\", \"Topic5\", \"Topic5\", \"Topic5\", \"Topic5\", \"Topic5\", \"Topic5\", \"Topic5\", \"Topic5\", \"Topic5\", \"Topic5\", \"Topic5\", \"Topic5\", \"Topic5\", \"Topic5\", \"Topic5\", \"Topic5\", \"Topic5\", \"Topic5\", \"Topic5\", \"Topic5\", \"Topic5\", \"Topic5\", \"Topic5\", \"Topic5\", \"Topic5\", \"Topic5\", \"Topic5\", \"Topic5\", \"Topic5\", \"Topic5\", \"Topic5\", \"Topic5\", \"Topic5\", \"Topic5\", \"Topic5\", \"Topic5\", \"Topic5\", \"Topic5\", \"Topic5\", \"Topic5\", \"Topic5\", \"Topic5\", \"Topic5\", \"Topic5\", \"Topic5\", \"Topic5\", \"Topic5\", \"Topic5\", \"Topic5\", \"Topic5\", \"Topic5\", \"Topic5\", \"Topic5\", \"Topic5\", \"Topic5\", \"Topic5\", \"Topic5\", \"Topic5\", \"Topic5\", \"Topic5\", \"Topic5\"], \"logprob\": [30.0, 29.0, 28.0, 27.0, 26.0, 25.0, 24.0, 23.0, 22.0, 21.0, 20.0, 19.0, 18.0, 17.0, 16.0, 15.0, 14.0, 13.0, 12.0, 11.0, 10.0, 9.0, 8.0, 7.0, 6.0, 5.0, 4.0, 3.0, 2.0, 1.0, -11.1395, -11.8327, -11.3219, -11.1395, -10.9854, -11.8327, -11.8327, -11.1395, -10.4464, -11.8327, -10.6287, -10.6287, -11.1395, -11.8327, -11.3219, -11.1395, -10.2923, -9.5991, -11.8327, -11.8327, -11.8327, -10.5334, -11.8327, -11.1395, -11.3219, -11.8327, -11.3219, -11.8327, -11.8327, -11.8327, -8.8042, -8.924, -9.0395, -9.2177, -9.2937, -9.2937, -9.2937, -9.376, -9.4049, -9.564, -9.5991, -9.5991, -9.7533, -9.8403, -9.8403, -9.8403, -9.8868, -9.9356, -9.9356, -9.9869, -9.9869, -9.9869, -10.0409, -10.0409, -10.0409, -10.0409, -10.0981, -10.0981, -10.0981, -7.2965, -8.1864, -6.8699, -6.8958, -9.0395, -5.9834, -8.5875, -9.1246, -9.1936, -8.9423, -8.5005, -6.8606, -7.2143, -7.7838, -6.5787, -8.906, -5.6864, -7.0397, -7.5653, -5.3425, -8.3566, -7.2143, -7.0397, -6.9398, -8.0715, -7.0849, -8.2966, -7.4932, -7.0907, -7.0648, -8.1355, -4.1808, -4.4669, -7.062, -6.0854, -7.0508, -6.0206, -7.4179, -7.4301, -5.4419, -4.2592, -6.666, -5.2883, -5.5198, -6.238, -5.8777, -4.1677, -6.0633, -6.0387, -6.2823, -6.1037, -6.0077, -5.9156, -5.5455, -5.7015, -5.5198, -6.0226, -6.1594, -6.0886, -6.0256, -5.6148, -6.1617, -5.9892, -6.0592, -6.1457, -6.1469, -6.0929, -6.0897, -6.0458, -12.8437, -12.8437, -12.8437, -12.1505, -12.8437, -12.1505, -12.8437, -12.8437, -11.4574, -12.8437, -12.1505, -11.4574, -10.2046, -12.1505, -11.2342, -12.1505, -12.8437, -11.4574, -12.1505, -12.1505, -11.2342, -12.8437, -12.1505, -11.2342, -12.1505, -12.1505, -11.4574, -12.1505, -12.1505, -12.8437, -8.2187, -8.6693, -8.6848, -8.8547, -8.8924, -8.8924, -8.9316, -9.106, -9.2061, -9.2601, -9.3173, -9.3472, -9.3779, -9.4425, -9.4425, -9.4425, -9.4425, -9.4764, -9.4764, -9.4764, -9.4764, -9.5115, -9.5478, -9.5856, -9.5856, -9.5856, -9.5856, -9.6248, -9.6248, -9.6248, -7.4684, -6.9659, -7.9384, -8.3219, -8.654, -8.6848, -7.8067, -8.487, -8.1252, -6.1307, -8.4248, -7.9458, -8.6096, -8.6848, -7.9384, -8.2485, -7.6962, -7.363, -7.8739, -8.1252, -7.7257, -7.3424, -6.4156, -7.1912, -6.9603, -7.8669, -8.0562, -7.1912, -6.6782, -7.0059, -7.5914, -6.8082, -6.7146, -7.5758, -7.3182, -7.0446, -6.3012, -5.8664, -5.1718, -6.9329, -6.0914, -6.6595, -6.1793, -7.0001, -6.8623, -6.6761, -6.1869, -6.5319, -4.0362, -7.0089, -5.7789, -5.1017, -5.7144, -6.3304, -5.2103, -5.7712, -5.3965, -6.6952, -5.3126, -6.5708, -5.9151, -5.6403, -6.5157, -6.0902, -6.2223, -5.9757, -6.1466, -6.0413, -6.0085, -6.3041, -6.1454, -6.233, -6.3744, -6.3838, -6.3713, -12.1806, -12.8738, -12.8738, -12.1806, -12.1806, -10.7943, -12.1806, -12.1806, -12.1806, -12.8738, -12.8738, -11.4875, -12.8738, -12.8738, -11.4875, -12.8738, -11.4875, -12.8738, -12.1806, -12.1806, -12.1806, -11.4875, -12.1806, -12.1806, -11.4875, -12.8738, -12.8738, -12.8738, -12.1806, -12.1806, -7.3766, -7.4488, -7.4711, -7.7739, -7.8902, -7.9465, -7.9611, -7.9986, -8.1031, -8.4549, -8.543, -8.5563, -8.6253, -8.6691, -8.7466, -8.7962, -8.8484, -8.8664, -8.8848, -8.8848, -8.942, -8.942, -9.0026, -9.0451, -9.0451, -9.1126, -9.1361, -9.1361, -9.1361, -9.1602, -7.0448, -7.0808, -7.4893, -8.0375, -6.2918, -5.8368, -7.3208, -8.3629, -8.5833, -7.4621, -4.5212, -6.368, -6.9849, -5.6652, -5.9394, -6.6123, -5.5646, -7.9759, -6.2644, -5.9472, -6.7382, -7.4893, -7.0017, -5.8572, -7.1404, -5.4425, -5.9965, -5.6454, -5.2764, -6.9, -6.0647, -5.9287, -6.4392, -5.7207, -6.4954, -5.3793, -5.7373, -6.4441, -3.9538, -5.7067, -4.9731, -6.1157, -5.9872, -5.4592, -5.4526, -5.8031, -6.0037, -5.4484, -5.9336, -5.9068, -6.0037, -6.0247, -5.8928, -5.9201, -12.8807, -12.8807, -11.7821, -12.1876, -11.7821, -12.8807, -12.1876, -11.4944, -12.8807, -12.8807, -12.8807, -12.1876, -12.1876, -12.1876, -12.8807, -12.1876, -12.8807, -11.7821, -12.1876, -12.8807, -12.8807, -12.1876, -11.7821, -12.1876, -11.4944, -12.8807, -12.1876, -12.1876, -12.1876, -12.1876, -8.1358, -8.3164, -7.7748, -8.5903, -8.7063, -8.9889, -9.0095, -9.0741, -9.1918, -9.2172, -9.2431, -9.2972, -9.3544, -7.8903, -7.1937, -9.4467, -9.4467, -9.4795, -9.5134, -9.5849, -9.6226, -9.6226, -9.6618, -9.6618, -9.7452, -9.7897, -9.7897, -9.7897, -9.8362, -9.8362, -8.6612, -8.6466, -7.9535, -9.0095, -5.8411, -6.2567, -6.6211, -7.9829, -7.2531, -8.0849, -6.1702, -6.5799, -7.9754, -5.6781, -7.1971, -6.3211, -8.0055, -6.2279, -5.5959, -5.0712, -6.9069, -6.3513, -5.5609, -4.8142, -5.4476, -5.896, -4.7471, -3.8015, -6.2356, -5.978, -5.6458, -6.5421, -6.266, -5.4237, -5.318, -4.9566, -4.3605, -5.527, -5.961, -6.0159, -4.8278, -5.6751, -4.1168, -5.0432, -5.7474, -5.6494, -5.816, -5.6736, -5.4312, -5.7207, -5.5622, -5.8168, -5.7676, -5.9463, -10.3715, -10.3715, -9.0906, -10.035, -10.3715, -9.6784, -10.3715, -9.6784, -10.3715, -10.3715, -10.3715, -10.3715, -9.6784, -9.7837, -10.3715, -10.035, -10.3715, -10.3715, -10.035, -10.3715, -10.035, -9.583, -10.3715, -8.8899, -9.0906, -9.6784, -10.035, -9.7837, -9.0906, -10.3715, -8.37, -8.6136, -8.7621, -8.7621, -8.8899, -8.8899, -8.8899, -8.9364, -8.9364, -8.9364, -8.9852, -8.9852, -8.9852, -8.9852, -9.0365, -9.0906, -9.0906, -9.0906, -9.0906, -9.0906, -9.0906, -9.1477, -9.1477, -9.1477, -9.2084, -9.2084, -7.1688, -9.2084, -7.992, -8.0891, -7.0537, -7.992, -7.992, -6.6776, -8.5152, -7.4483, -7.3081, -6.7992, -8.37, -5.7784, -6.2906, -7.6502, -5.6371, -6.6386, -6.6677, -8.4546, -6.0594, -6.5129, -5.3948, -7.0537, -8.2197, -8.4546, -8.0891, -6.7769, -7.5383, -7.3658, -7.8866, -6.3642, -6.5693, -6.2772, -6.6291, -6.875, -6.5171, -6.5214, -7.0251, -6.0674, -6.7182, -7.3462, -5.824, -4.4059, -6.5171, -5.5321, -5.6336, -5.4933, -6.5604, -5.8829, -5.7252, -5.987, -6.191, -6.2002, -5.9312, -6.2906, -6.2347, -6.318, -6.2872, -6.3462, -6.3008, -6.3751, -6.3497, -6.3426, -6.4012, -6.4088], \"Freq\": [15355.0, 11982.0, 5308.0, 5177.0, 4466.0, 8756.0, 5221.0, 3137.0, 2750.0, 1115.0, 4006.0, 1916.0, 1770.0, 3347.0, 2247.0, 1559.0, 2659.0, 2774.0, 1857.0, 1204.0, 1901.0, 1221.0, 770.0, 1213.0, 1613.0, 1301.0, 2789.0, 633.0, 3251.0, 2514.0, 6.376388759367236, 3.188194379683618, 5.3136572994726965, 6.376388759367236, 7.439120219261777, 3.188194379683618, 3.188194379683618, 6.376388759367236, 12.752777518734472, 3.188194379683618, 10.627314598945393, 10.627314598945395, 6.376388759367236, 3.188194379683618, 5.3136572994726965, 6.376388759367236, 14.878240438523553, 29.756480877047107, 3.188194379683618, 3.188194379683618, 3.188194379683618, 11.690046058839933, 3.188194379683618, 6.376388759367236, 5.3136572994726965, 3.188194379683618, 5.3136572994726965, 3.188194379683618, 3.188194379683618, 3.188194379683618, 65.8893505134614, 58.45023029419968, 52.07384153483243, 43.571989855676115, 40.38379547599249, 40.3837954759925, 40.38379547599249, 37.19560109630887, 36.13286963641434, 30.819212336941636, 29.756480877047107, 29.756480877047107, 25.505555037468945, 23.380092117679865, 23.380092117679865, 23.380092117679865, 22.317360657785336, 21.254629197890786, 21.254629197890793, 20.19189773799625, 20.191897737996253, 20.191897737996253, 19.12916627810171, 19.12916627810171, 19.12916627810171, 19.12916627810171, 18.06643481820717, 18.06643481820717, 18.066434818207174, 297.5648087704712, 122.21411788787205, 455.9117962947574, 444.2217502359177, 52.07384153483243, 1106.3034497502156, 81.8303224118795, 47.82291569525427, 44.63472131557062, 57.38749883430513, 89.26944263114126, 460.1627221343357, 323.07036380794017, 182.78981110186086, 610.0078579794653, 59.5129617540942, 1488.8867753122515, 384.70878848182343, 227.4245324174315, 2099.9573647516104, 103.08495160977031, 323.0703638079407, 384.70878848182355, 425.09258395781626, 137.09235832639553, 367.7050851235108, 109.46134036913756, 244.42823577574424, 365.5796222037217, 375.1442053427731, 128.5905066472393, 6710.08643777412, 5040.5353142798, 376.2069368026676, 998.9675723008668, 380.45786264224574, 1065.9196542742225, 263.55740205384626, 260.3692076741625, 1901.226581751335, 6204.226262864318, 558.9967479045271, 2216.8578253400115, 1758.8205661254638, 857.6242881348908, 1229.5802990979826, 6798.293148945369, 1021.2849329586504, 1046.7904879961202, 820.4286870385829, 980.9011374826584, 1079.7351632528505, 1183.882846322514, 1714.1858448098944, 1466.5694146544656, 1758.820566125463, 1063.7941913544332, 927.7645644879311, 995.7793779211831, 1060.6059969747498, 1599.4108471412833, 925.6391015681411, 1099.9270609908474, 1025.5358587982298, 940.5173420066653, 939.4546105467696, 991.5284520816033, 994.716646461289, 1039.3513677768597, 1.0272026509657934, 1.0272026509657934, 1.0272026509657934, 2.054405301931587, 1.0272026509657934, 2.054405301931587, 1.0272026509657934, 1.0272026509657934, 4.108810603863174, 1.0272026509657934, 2.054405301931587, 4.108810603863174, 14.380837113521105, 2.054405301931587, 5.136013254828967, 2.054405301931587, 1.0272026509657934, 4.108810603863174, 2.054405301931587, 2.054405301931587, 5.136013254828967, 1.0272026509657934, 2.054405301931587, 5.136013254828967, 2.054405301931587, 2.054405301931587, 4.108810603863174, 2.054405301931587, 2.054405301931587, 1.0272026509657934, 104.77467039851086, 66.76817231277657, 65.74096966181078, 55.468943152152846, 53.41453785022125, 53.41453785022125, 51.36013254828967, 43.142511340563324, 39.033700736700155, 36.97929543476857, 34.92489013283697, 33.89768748187118, 32.87048483090538, 30.816079528973805, 30.816079528973805, 30.816079528973805, 30.816079528973802, 29.788876878008008, 29.788876878008015, 29.788876878008008, 29.788876878008004, 28.76167422704222, 27.73447157607642, 26.707268925110625, 26.707268925110633, 26.707268925110633, 26.707268925110622, 25.680066274144835, 25.680066274144835, 25.680066274144835, 221.87577260861138, 366.7113463947884, 138.67235788038207, 94.50264388885294, 67.79537496374232, 65.74096966181077, 158.1892082487321, 80.12180677533188, 115.04669690816888, 845.3877817448481, 85.25782003016081, 137.64515522941628, 70.8769829166397, 65.74096966181077, 138.672357880382, 101.69306244561352, 176.67885596611646, 246.52863623179036, 147.91718173907418, 115.04669690816878, 171.5428427112875, 251.6646494866196, 635.8384409478261, 292.75275552525153, 368.76575169672077, 148.94438439003991, 123.26431811589514, 292.7527555252518, 488.94846185971767, 352.3305092812683, 196.19570633446648, 429.3707081037026, 471.4860167932994, 199.27731428736394, 257.8278653924142, 338.97687481871196, 712.8786397702607, 1101.1612418353295, 2205.404091623563, 379.037778206378, 879.2854692267182, 498.1932857184103, 805.3268783571818, 354.38491458319913, 406.7722497824553, 489.9756645106841, 799.1636624513874, 565.9886606821526, 6865.822519055355, 351.30330663030225, 1201.8271016299748, 2365.647705174236, 1281.9489084053068, 692.3345867509456, 2122.2006768953383, 1211.0719254886683, 1761.6525464063366, 480.7308406519918, 1915.7329440512071, 544.4174050118713, 1048.773906636073, 1380.5603628980246, 575.2334845408449, 880.312671877684, 771.429190875311, 987.1417475781242, 832.0341472822926, 924.4823858692132, 955.2984653981853, 710.8242344683295, 833.061349933258, 763.2115696675851, 662.5457098729372, 656.3824939671429, 664.6001151748688, 1.9491238862615443, 0.9745619431307722, 0.9745619431307722, 1.9491238862615443, 1.9491238862615443, 7.796495545046177, 1.9491238862615443, 1.9491238862615443, 1.9491238862615443, 0.9745619431307722, 0.9745619431307722, 3.8982477725230886, 0.9745619431307722, 0.9745619431307722, 3.8982477725230886, 0.9745619431307722, 3.8982477725230886, 0.9745619431307722, 1.9491238862615443, 1.9491238862615443, 1.9491238862615443, 3.8982477725230886, 1.9491238862615443, 1.9491238862615443, 3.8982477725230886, 0.9745619431307722, 0.9745619431307722, 0.9745619431307722, 1.9491238862615443, 1.9491238862615443, 237.7931141239085, 221.22556109068532, 216.3527513750314, 159.8281586734466, 142.28604369709274, 134.48954815204655, 132.54042426578505, 127.66761455013115, 114.99830928943113, 80.88864127985408, 74.0667076779387, 73.09214573480791, 68.21933601915404, 65.29565018976174, 60.42284047410787, 57.49915464471555, 54.57546881532324, 53.600906872192475, 52.62634492906169, 52.6263449290617, 49.702659099669376, 49.702659099669376, 46.778973270277056, 44.829849384015525, 44.829849384015525, 41.906163554623205, 40.931601611492425, 40.931601611492425, 40.931601611492425, 39.95703966836165, 331.3510606644626, 319.6563173468932, 212.4545036025083, 122.79480483447729, 703.6337229404174, 1109.0514912828182, 251.43698132773923, 88.68513682490017, 71.14302184854634, 218.30187526129313, 4133.117200817592, 651.9819399544865, 351.8168614702098, 1316.633185169673, 1000.8751155953026, 510.67045820052493, 1455.9955430373752, 130.59130037952355, 723.1249618030303, 993.0786200502556, 450.2476177264169, 212.4545036025089, 345.96948981142486, 1086.6365665908108, 301.1396404274089, 1645.0605600047406, 945.325084836847, 1342.9463576342062, 1942.3019526596217, 383.0028436503946, 882.9531204764787, 1011.5952969697423, 607.1520905704695, 1245.4901633211268, 574.0169845040249, 1752.2623737491238, 1225.0243625153819, 604.2284047410784, 7289.723334618201, 1263.03227829748, 2630.342684509931, 839.0978330355931, 954.096142325024, 1617.7728255970792, 1628.4930069715174, 1147.0594070649197, 938.503151234934, 1635.314940573433, 1006.7224872540861, 1034.0102216617481, 938.5031512349336, 919.0119123723172, 1048.6286508087098, 1020.3663544579176, 0.947869076318556, 0.947869076318556, 2.8436072289556678, 1.895738152637112, 2.8436072289556678, 0.947869076318556, 1.895738152637112, 3.791476305274224, 0.947869076318556, 0.947869076318556, 0.947869076318556, 1.895738152637112, 1.895738152637112, 1.895738152637112, 0.947869076318556, 1.895738152637112, 0.947869076318556, 2.8436072289556678, 1.895738152637112, 0.947869076318556, 0.947869076318556, 1.895738152637112, 2.8436072289556678, 1.895738152637112, 3.791476305274224, 0.947869076318556, 1.895738152637112, 1.895738152637112, 1.895738152637112, 1.895738152637112, 109.00494377663391, 90.99543132658137, 156.39839759256157, 69.19444257125454, 61.61148996070616, 46.445584739609245, 45.49771566329069, 42.65410843433502, 37.91476305274224, 36.96689397642369, 36.01902490010514, 34.12328674746802, 32.22754859483091, 139.33675421882762, 279.621377513974, 29.383941365875238, 29.38394136587524, 28.43607228955668, 27.48820321323813, 25.592465060601015, 24.64459598428246, 24.64459598428246, 23.696726907963903, 23.696726907963903, 21.80098875532679, 20.853119679008234, 20.853119679008234, 20.853119679008238, 19.90525060268968, 19.905250602689676, 64.4550971896618, 65.40296626598037, 130.8059325319607, 45.49771566329069, 1081.5186160794697, 713.7454144678732, 495.7355269146055, 127.01445622668643, 263.5076032165585, 114.69215823454523, 778.2005116575358, 516.5886465936144, 127.96232530300497, 1272.9881694958187, 278.67350843765564, 669.1955678809018, 124.1708489977308, 734.5985341468823, 1381.9931132724519, 2335.5494040489148, 372.5125469931929, 649.2903172782125, 1431.2823052410145, 3019.91087715091, 1602.846608054674, 1023.6986024240394, 3229.3899430173146, 8313.75966839008, 728.9113196889734, 943.1297309369614, 1314.694408853832, 536.493897196303, 707.1103309336443, 1641.7092401837303, 1824.6479719132074, 2618.962257868159, 4753.563417737562, 1480.5714972095673, 959.2435052343784, 908.0585751131755, 2979.1525068692117, 1276.779645801086, 6065.414219362442, 2401.9002393912174, 1187.679952627148, 1309.9550634722407, 1109.0068192927088, 1278.6753839537282, 1629.3869421915924, 1219.9075012219794, 1429.3865670883777, 1108.058950216391, 1163.983225719183, 973.4615413791562, 4.817946471383494, 4.817946471383494, 17.344607296980577, 6.745125059936893, 4.817946471383494, 9.635892942766988, 4.817946471383494, 9.635892942766988, 4.817946471383494, 4.817946471383494, 4.817946471383494, 4.817946471383494, 9.635892942766988, 8.672303648490288, 4.817946471383494, 6.745125059936893, 4.817946471383494, 4.817946471383494, 6.745125059936893, 4.817946471383494, 6.745125059936893, 10.599482237043686, 4.817946471383494, 21.198964474087372, 17.344607296980577, 9.635892942766988, 6.745125059936893, 8.672303648490288, 17.344607296980577, 4.817946471383494, 35.652803888237855, 27.94408953402426, 24.089732356917473, 24.08973235691747, 21.198964474087372, 21.198964474087372, 21.198964474087372, 20.235375179810674, 20.23537517981067, 20.235375179810678, 19.271785885533976, 19.271785885533976, 19.271785885533973, 19.271785885533976, 18.308196591257275, 17.344607296980577, 17.344607296980577, 17.344607296980577, 17.34460729698058, 17.34460729698058, 17.34460729698058, 16.38101800270388, 16.38101800270388, 16.38101800270388, 15.417428708427181, 15.417428708427181, 118.52148319603396, 15.417428708427181, 52.03382189094174, 47.21587541955824, 132.97532261018446, 52.03382189094176, 52.03382189094176, 193.68144814961656, 30.834857416854366, 89.61380436773302, 103.10405448760683, 171.51889438125252, 35.65280388823786, 476.0131113726896, 285.2224311059029, 73.23278636502914, 548.2823084434419, 201.39016250383014, 195.60862673816996, 32.76203600540776, 359.418806765209, 228.37066274357772, 698.6022383506072, 132.97532261018455, 41.43433965389805, 32.76203600540776, 47.21587541955825, 175.37325155835927, 81.90509001351946, 97.32251872194661, 57.81535765660194, 264.98705592609224, 215.8440019179807, 289.0767882830099, 203.3173410923835, 158.9922335556554, 227.4070734493011, 226.44348415502444, 136.82967978729133, 356.52803888237884, 185.97273379540303, 99.24969731050003, 454.81414689860236, 1878.0355345452883, 227.4070734493011, 608.9884339828742, 550.2094870319955, 633.0781663397919, 217.77118050653414, 428.7972359531314, 502.03002231816066, 386.3993070049567, 315.09369922848083, 312.2029313456507, 408.5618607733208, 285.2224311059031, 301.60344910860687, 277.51371675168957, 286.1860204001798, 269.80500239747596, 282.33166322307306, 262.09628804326235, 268.8414131031992, 270.76859169175265, 255.35116298332542, 253.42398439477205]}, \"plot.opts\": {\"xlab\": \"PC1\", \"ylab\": \"PC2\"}, \"mdsDat\": {\"x\": [-0.08308241721056304, 0.028919077302958767, 0.06273479133102945, -0.11992045440003447, 0.11134900297660913], \"cluster\": [1, 1, 1, 1, 1], \"topics\": [1, 2, 3, 4, 5], \"Freq\": [25.3185244023395, 22.418545441507106, 21.919928642160617, 21.46804026346981, 8.874961250522974], \"y\": [-0.01432635588912011, -0.01282123152136528, 0.12271894255372631, -0.00918209342183446, -0.08638926172140647]}, \"R\": 30, \"topic.order\": [4, 5, 1, 2, 3], \"lambda.step\": 0.01, \"token.table\": {\"Term\": [\"000\", \"000\", \"000\", \"000\", \"000\", \"18f\", \"402\", \"9780345544964\", \"___\", \"___\", \"___\", \"___\", \"___\", \"aa\", \"abedin\", \"abedin\", \"abele\", \"access\", \"access\", \"access\", \"access\", \"access\", \"ackal\", \"actor\", \"actor\", \"actor\", \"actor\", \"actor\", \"actress\", \"actress\", \"actress\", \"actress\", \"aggravated\", \"aggravated\", \"aides\", \"aides\", \"aides\", \"aides\", \"airlines\", \"airlines\", \"airlines\", \"airlines\", \"american\", \"american\", \"american\", \"american\", \"american\", \"apostles\", \"appell\", \"arbiters\", \"archambault\", \"archambault\", \"ariana\", \"artifacts\", \"artifacts\", \"attorney\", \"attorney\", \"attorney\", \"attorney\", \"attorney\", \"authorities\", \"authorities\", \"authorities\", \"authorities\", \"authorities\", \"ayotte\", \"ayotte\", \"bahlul\", \"ballot\", \"ballot\", \"ballot\", \"ballot\", \"ballot\", \"ballots\", \"ballots\", \"ballots\", \"ballots\", \"ballots\", \"bao\", \"baroni\", \"baroni\", \"baroni\", \"barrington\", \"bayh\", \"bigfoot\", \"bikila\", \"billion\", \"billion\", \"billion\", \"billion\", \"billion\", \"biology\", \"bismarck\", \"bismarck\", \"bismarck\", \"bison\", \"blazes\", \"bleaching\", \"blowin\", \"boeckmann\", \"booths\", \"booz\", \"borges\", \"bourbon\", \"boy\", \"boy\", \"boy\", \"boy\", \"boy\", \"brandt\", \"burr\", \"burr\", \"burr\", \"bus\", \"bus\", \"bus\", \"bus\", \"bus\", \"bystander\", \"bystander\", \"california\", \"california\", \"california\", \"california\", \"california\", \"camp\", \"camp\", \"camp\", \"camp\", \"camp\", \"campaign\", \"campaign\", \"campaign\", \"campaign\", \"campaign\", \"candidate\", \"candidate\", \"candidate\", \"candidate\", \"candidate\", \"cannabis\", \"cannabis\", \"cannonball\", \"care\", \"care\", \"care\", \"care\", \"care\", \"carnivore\", \"carver\", \"case\", \"case\", \"case\", \"case\", \"case\", \"cellars\", \"cents\", \"cents\", \"cents\", \"cents\", \"chappell\", \"chappell\", \"chappell\", \"charged\", \"charged\", \"charged\", \"charged\", \"charged\", \"charges\", \"charges\", \"charges\", \"charges\", \"charges\", \"christie\", \"christie\", \"christie\", \"christie\", \"christie\", \"city\", \"city\", \"city\", \"city\", \"city\", \"clapper\", \"classified\", \"classified\", \"classified\", \"classified\", \"classified\", \"clinton\", \"clinton\", \"clinton\", \"clinton\", \"clinton\", \"closures\", \"closures\", \"closures\", \"closures\", \"colonial\", \"colonial\", \"colonial\", \"colonial\", \"comey\", \"comey\", \"comey\", \"commuter\", \"commuter\", \"commuter\", \"commuter\", \"commuter\", \"companies\", \"companies\", \"companies\", \"companies\", \"companies\", \"company\", \"company\", \"company\", \"company\", \"company\", \"composite\", \"composite\", \"comscore\", \"comstock\", \"construction\", \"construction\", \"construction\", \"construction\", \"construction\", \"consumer\", \"consumer\", \"consumer\", \"consumer\", \"consumers\", \"consumers\", \"consumers\", \"consumers\", \"consumers\", \"copenhaver\", \"coulthurst\", \"counterintuitive\", \"country\", \"country\", \"country\", \"country\", \"country\", \"county\", \"county\", \"county\", \"county\", \"county\", \"court\", \"court\", \"court\", \"court\", \"court\", \"cps\", \"crash\", \"crash\", \"crash\", \"crash\", \"crash\", \"crist\", \"crooks\", \"crosstalk\", \"cubs\", \"cubs\", \"cubs\", \"cubs\", \"cubs\", \"curley\", \"dakota\", \"dakota\", \"dakota\", \"dakota\", \"dakota\", \"death\", \"death\", \"death\", \"death\", \"death\", \"debate\", \"debate\", \"debate\", \"debate\", \"debate\", \"deductible\", \"deforest\", \"delong\", \"democratic\", \"democratic\", \"democratic\", \"democratic\", \"democratic\", \"democrats\", \"democrats\", \"democrats\", \"democrats\", \"democrats\", \"denuclearization\", \"department\", \"department\", \"department\", \"department\", \"department\", \"depictions\", \"despondent\", \"deterrence\", \"dhs\", \"dials\", \"diamonds\", \"did\", \"did\", \"did\", \"did\", \"did\", \"dimasi\", \"directv\", \"disk\", \"domains\", \"donald\", \"donald\", \"donald\", \"donald\", \"donald\", \"dow\", \"dow\", \"dow\", \"dubose\", \"dunford\", \"dyson\", \"edinburgh\", \"ehrman\", \"election\", \"election\", \"election\", \"election\", \"election\", \"elections\", \"elections\", \"elections\", \"elections\", \"elections\", \"electoral\", \"electoral\", \"electoral\", \"electors\", \"email\", \"email\", \"email\", \"email\", \"email\", \"emails\", \"emails\", \"emails\", \"emails\", \"emails\", \"enrollment\", \"enrollment\", \"epa\", \"epa\", \"epps\", \"eramo\", \"erdely\", \"etp\", \"explosion\", \"explosion\", \"explosion\", \"explosion\", \"fallis\", \"fatally\", \"fatally\", \"fatally\", \"fatally\", \"fatally\", \"fbi\", \"fbi\", \"fbi\", \"fbi\", \"fbi\", \"federal\", \"federal\", \"federal\", \"federal\", \"federal\", \"feingold\", \"feingold\", \"feingold\", \"fieldworks\", \"film\", \"film\", \"film\", \"film\", \"film\", \"filmyard\", \"filthy\", \"fitton\", \"flint\", \"flint\", \"flint\", \"flint\", \"flint\", \"fogle\", \"forces\", \"forces\", \"forces\", \"forces\", \"forces\", \"foval\", \"gallery\", \"gallery\", \"gallery\", \"gallery\", \"gang\", \"gang\", \"gang\", \"gang\", \"gang\", \"gas\", \"gas\", \"gas\", \"gas\", \"gas\", \"ge\", \"genforward\", \"gesell\", \"ghouls\", \"gillers\", \"gimbel\", \"glaser\", \"gleeful\", \"going\", \"going\", \"going\", \"going\", \"going\", \"gop\", \"gop\", \"gop\", \"gop\", \"gop\", \"gottheimer\", \"government\", \"government\", \"government\", \"government\", \"government\", \"greitens\", \"guilty\", \"guilty\", \"guilty\", \"guilty\", \"guilty\", \"guo\", \"guo\", \"hacking\", \"hacking\", \"hacking\", \"hacking\", \"halbach\", \"halford\", \"hallandale\", \"halliday\", \"halogen\", \"hamish\", \"hammon\", \"haney\", \"hanrahan\", \"hanri\", \"hanukkah\", \"hardwoods\", \"hare\", \"hargreaves\", \"haris\", \"harkens\", \"harleaux\", \"harmon\", \"harrisons\", \"harrold\", \"harrouf\", \"hayden\", \"hayden\", \"hayden\", \"hayden\", \"heaggan\", \"heaggan\", \"health\", \"health\", \"health\", \"health\", \"health\", \"heck\", \"heck\", \"heck\", \"heck\", \"heck\", \"hillary\", \"hillary\", \"hillary\", \"hillary\", \"hillary\", \"hoboken\", \"hollingsworth\", \"hombres\", \"house\", \"house\", \"house\", \"house\", \"house\", \"houthis\", \"huma\", \"huma\", \"huma\", \"hurricane\", \"hurricane\", \"hurricane\", \"hurricane\", \"hurricane\", \"husted\", \"husted\", \"icahn\", \"increase\", \"increase\", \"increase\", \"increase\", \"increase\", \"indexed\", \"indianavoters\", \"inducement\", \"industry\", \"industry\", \"industry\", \"industry\", \"industry\", \"inferno\", \"inferno\", \"inflation\", \"inflation\", \"inflation\", \"inflation\", \"inflators\", \"insurance\", \"insurance\", \"insurance\", \"insurance\", \"insurance\", \"insurer\", \"insurer\", \"insurers\", \"insurers\", \"intelligence\", \"intelligence\", \"intelligence\", \"intelligence\", \"intelligence\", \"intercivic\", \"interdenominational\", \"interfax\", \"interjection\", \"interrogate\", \"interval\", \"interviewers\", \"intimated\", \"intones\", \"intraparty\", \"intrude\", \"intrudes\", \"inverted\", \"invigorated\", \"invigorating\", \"invokes\", \"iqbal\", \"iran\", \"iran\", \"iran\", \"iran\", \"iran\", \"iraq\", \"iraq\", \"iraq\", \"iraq\", \"iraq\", \"iraqi\", \"iraqi\", \"iraqi\", \"iraqi\", \"iraqis\", \"ironically\", \"isis\", \"isis\", \"isis\", \"isis\", \"jackie\", \"jackie\", \"jackie\", \"jackie\", \"jackie\", \"jong\", \"judge\", \"judge\", \"judge\", \"judge\", \"judge\", \"juicing\", \"jurors\", \"jurors\", \"jurors\", \"jurors\", \"jurors\", \"jury\", \"jury\", \"jury\", \"jury\", \"jury\", \"just\", \"just\", \"just\", \"just\", \"just\", \"kane\", \"kaneohe\", \"kaniela\", \"kapphahn\", \"karan\", \"kary\", \"kasinga\", \"kassy\", \"kathay\", \"katten\", \"kaya\", \"kayal\", \"kayvan\", \"kazwini\", \"kboi\", \"kc\", \"kcc\", \"kcci\", \"keefe\", \"kenmore\", \"kennametal\", \"kennett\", \"keno\", \"kenoi\", \"kensweet\", \"kernel\", \"kersten\", \"kest\", \"kestenberg\", \"kirchhoff\", \"kirchmeier\", \"kirchmeier\", \"knowledgepanel\", \"kohlhepp\", \"korea\", \"korea\", \"korea\", \"korea\", \"kuenzel\", \"kunduz\", \"kurd\", \"kurds\", \"lai\", \"land\", \"land\", \"land\", \"land\", \"land\", \"lane\", \"lane\", \"lane\", \"lane\", \"lane\", \"law\", \"law\", \"law\", \"law\", \"law\", \"lawler\", \"lightricks\", \"like\", \"like\", \"like\", \"like\", \"like\", \"lionsgate\", \"liv\", \"lun\", \"lunar\", \"lycoming\", \"macmillan\", \"madea\", \"malaria\", \"malice\", \"man\", \"man\", \"man\", \"man\", \"man\", \"manafort\", \"mangano\", \"marijuana\", \"marijuana\", \"marijuana\", \"marijuana\", \"marijuana\", \"market\", \"market\", \"market\", \"market\", \"market\", \"marketplaces\", \"masto\", \"mateen\", \"mcconnell\", \"mcconnell\", \"mcginty\", \"mcginty\", \"mcginty\", \"mcmullin\", \"mcmullin\", \"mcqueary\", \"meaney\", \"mei\", \"mgp\", \"midazolam\", \"militarily\", \"military\", \"military\", \"military\", \"military\", \"military\", \"militias\", \"million\", \"million\", \"million\", \"million\", \"million\", \"mistrial\", \"moll\", \"mooney\", \"morton\", \"morton\", \"morton\", \"morton\", \"mosul\", \"mosul\", \"mosul\", \"mosul\", \"movie\", \"movie\", \"movie\", \"movie\", \"mr\", \"mr\", \"mr\", \"mr\", \"mr\", \"mrs\", \"mrs\", \"mrs\", \"mrs\", \"mrs\", \"murder\", \"murder\", \"murder\", \"murder\", \"murder\", \"museum\", \"museum\", \"museum\", \"museum\", \"museum\", \"music\", \"music\", \"music\", \"music\", \"music\", \"musician\", \"musician\", \"musician\", \"musician\", \"mylan\", \"nabisco\", \"nagato\", \"narrated\", \"narrated\", \"narrated\", \"nasdaq\", \"national\", \"national\", \"national\", \"national\", \"national\", \"nee\", \"new\", \"new\", \"new\", \"new\", \"new\", \"nominee\", \"nominee\", \"nominee\", \"nominee\", \"nominee\", \"north\", \"north\", \"north\", \"north\", \"north\", \"nsa\", \"ntsb\", \"ntsb\", \"nuclear\", \"nuclear\", \"nuclear\", \"nuclear\", \"nw\", \"oahe\", \"obama\", \"obama\", \"obama\", \"obama\", \"obama\", \"officer\", \"officer\", \"officer\", \"officer\", \"officer\", \"officers\", \"officers\", \"officers\", \"officers\", \"officers\", \"officials\", \"officials\", \"officials\", \"officials\", \"officials\", \"oil\", \"oil\", \"oil\", \"oil\", \"oil\", \"ojeda\", \"old\", \"old\", \"old\", \"old\", \"old\", \"osama\", \"osama\", \"ovarian\", \"panda\", \"panda\", \"pandas\", \"party\", \"party\", \"party\", \"party\", \"party\", \"pay\", \"pay\", \"pay\", \"pay\", \"pay\", \"penguin\", \"penguin\", \"people\", \"people\", \"people\", \"people\", \"people\", \"percent\", \"percent\", \"percent\", \"percent\", \"percent\", \"pipeline\", \"pipeline\", \"pipeline\", \"pipeline\", \"pipeline\", \"pitcock\", \"podesta\", \"podesta\", \"podesta\", \"podesta\", \"police\", \"police\", \"police\", \"police\", \"police\", \"poll\", \"poll\", \"poll\", \"poll\", \"poll\", \"polling\", \"polling\", \"polling\", \"polling\", \"polls\", \"polls\", \"polls\", \"polls\", \"polls\", \"portman\", \"portman\", \"president\", \"president\", \"president\", \"president\", \"president\", \"presidential\", \"presidential\", \"presidential\", \"presidential\", \"presidential\", \"preskey\", \"prices\", \"prices\", \"prices\", \"prices\", \"prices\", \"prison\", \"prison\", \"prison\", \"prison\", \"prison\", \"proposition\", \"proposition\", \"proposition\", \"proposition\", \"prosecutors\", \"prosecutors\", \"prosecutors\", \"prosecutors\", \"prosecutors\", \"protest\", \"protest\", \"protest\", \"protest\", \"protest\", \"protesters\", \"protesters\", \"protesters\", \"protesters\", \"protesters\", \"puppet\", \"puppet\", \"puppies\", \"purged\", \"puritan\", \"putin\", \"putin\", \"putin\", \"putin\", \"qatar\", \"quijano\", \"quijano\", \"race\", \"race\", \"race\", \"race\", \"race\", \"rape\", \"rape\", \"rape\", \"rape\", \"rape\", \"raped\", \"raped\", \"raped\", \"raped\", \"raqqa\", \"rate\", \"rate\", \"rate\", \"rate\", \"rate\", \"reacher\", \"realclearpolitics\", \"rebates\", \"registration\", \"registration\", \"registration\", \"registration\", \"registration\", \"reich\", \"reines\", \"rejoinder\", \"remade\", \"renault\", \"rennie\", \"republican\", \"republican\", \"republican\", \"republican\", \"republican\", \"republicans\", \"republicans\", \"republicans\", \"republicans\", \"republicans\", \"reservation\", \"reservation\", \"reservation\", \"rhoden\", \"rhodes\", \"rnc\", \"roanoke\", \"rock\", \"rock\", \"rock\", \"rock\", \"rock\", \"russia\", \"russia\", \"russia\", \"russia\", \"russia\", \"russian\", \"russian\", \"russian\", \"russian\", \"russian\", \"russians\", \"russians\", \"russians\", \"ryan\", \"ryan\", \"ryan\", \"ryan\", \"ryan\", \"saakashvili\", \"sacred\", \"sacred\", \"sacred\", \"sacred\", \"sacred\", \"safety\", \"safety\", \"safety\", \"safety\", \"safety\", \"said\", \"said\", \"said\", \"said\", \"said\", \"sales\", \"sales\", \"sales\", \"sales\", \"sales\", \"sampson\", \"samsung\", \"sandusky\", \"sandusky\", \"santoro\", \"say\", \"say\", \"say\", \"say\", \"say\", \"says\", \"says\", \"says\", \"says\", \"says\", \"school\", \"school\", \"school\", \"school\", \"school\", \"schuster\", \"senate\", \"senate\", \"senate\", \"senate\", \"senate\", \"sentence\", \"sentence\", \"sentence\", \"sentence\", \"sentence\", \"septa\", \"septa\", \"sequel\", \"sequins\", \"server\", \"server\", \"server\", \"server\", \"sexting\", \"sexting\", \"seymour\", \"shark\", \"shark\", \"shearer\", \"sheriff\", \"sheriff\", \"sheriff\", \"sheriff\", \"sheriff\", \"shooting\", \"shooting\", \"shooting\", \"shooting\", \"shooting\", \"shorthanded\", \"shot\", \"shot\", \"shot\", \"shot\", \"shot\", \"shramo\", \"shrieking\", \"shudders\", \"shuh\", \"shuler\", \"shuns\", \"shutouts\", \"shyly\", \"singer\", \"singer\", \"singer\", \"singer\", \"singer\", \"sioux\", \"sioux\", \"sioux\", \"sioux\", \"sioux\", \"slager\", \"slager\", \"snowden\", \"snowden\", \"songwriter\", \"songwriter\", \"songwriter\", \"sorrentino\", \"spanier\", \"spartanburg\", \"sproul\", \"standing\", \"standing\", \"standing\", \"standing\", \"standing\", \"state\", \"state\", \"state\", \"state\", \"state\", \"states\", \"states\", \"states\", \"states\", \"states\", \"stealthy\", \"steenhuysen\", \"stenger\", \"stepien\", \"storm\", \"storm\", \"storm\", \"storm\", \"storm\", \"stoynoff\", \"stoynoff\", \"strike\", \"strike\", \"strike\", \"strike\", \"strike\", \"stumbo\", \"subflooring\", \"subgroups\", \"subodh\", \"subservient\", \"subsidizes\", \"subsidy\", \"substitution\", \"subtly\", \"suburbanites\", \"suburbia\", \"subways\", \"sunoco\", \"supersonic\", \"surfboard\", \"surveyor\", \"suspect\", \"suspect\", \"suspect\", \"suspect\", \"suspect\", \"syria\", \"syria\", \"syria\", \"syria\", \"syria\", \"tanden\", \"tanden\", \"tax\", \"tax\", \"tax\", \"tax\", \"tax\", \"teneo\", \"tensing\", \"theaters\", \"theaters\", \"theaters\", \"theaters\", \"theaters\", \"thune\", \"time\", \"time\", \"time\", \"time\", \"time\", \"toca\", \"today\", \"today\", \"today\", \"today\", \"today\", \"told\", \"told\", \"told\", \"told\", \"told\", \"toomey\", \"toomey\", \"toomey\", \"transit\", \"transit\", \"transit\", \"transit\", \"transit\", \"transportation\", \"transportation\", \"transportation\", \"transportation\", \"transportation\", \"trial\", \"trial\", \"trial\", \"trial\", \"trial\", \"tribal\", \"tribal\", \"tribal\", \"tribal\", \"tribe\", \"tribe\", \"tribe\", \"tribe\", \"tribe\", \"tribunals\", \"trump\", \"trump\", \"trump\", \"trump\", \"trump\", \"tuesday\", \"tuesday\", \"tuesday\", \"tuesday\", \"tuesday\", \"tuna\", \"turnout\", \"turnout\", \"turnout\", \"undefeated\", \"underpinning\", \"undress\", \"undressed\", \"unexploded\", \"union\", \"union\", \"union\", \"union\", \"union\", \"united\", \"united\", \"united\", \"united\", \"united\", \"unitedhealth\", \"vance\", \"vance\", \"vance\", \"vance\", \"vega\", \"venditto\", \"viacom\", \"vibram\", \"victim\", \"victim\", \"victim\", \"victim\", \"victim\", \"vides\", \"vote\", \"vote\", \"vote\", \"vote\", \"vote\", \"voter\", \"voter\", \"voter\", \"voter\", \"voter\", \"voters\", \"voters\", \"voters\", \"voters\", \"voters\", \"votes\", \"votes\", \"votes\", \"votes\", \"votes\", \"voting\", \"voting\", \"voting\", \"voting\", \"voting\", \"walkout\", \"walkout\", \"wallace\", \"wallace\", \"wallace\", \"wallace\", \"wallace\", \"washington\", \"washington\", \"washington\", \"washington\", \"washington\", \"watchers\", \"watchers\", \"watchers\", \"watchers\", \"water\", \"water\", \"water\", \"water\", \"water\", \"wathke\", \"weiner\", \"weiner\", \"wikileaks\", \"wikileaks\", \"wikileaks\", \"wikileaks\", \"wikileaks\", \"wildstein\", \"wildstein\", \"winds\", \"winds\", \"winds\", \"winds\", \"woman\", \"woman\", \"woman\", \"woman\", \"woman\", \"women\", \"women\", \"women\", \"women\", \"women\", \"woodhouse\", \"workers\", \"workers\", \"workers\", \"workers\", \"workers\", \"wyda\", \"year\", \"year\", \"year\", \"year\", \"year\", \"years\", \"years\", \"years\", \"years\", \"years\", \"yemen\", \"yemen\", \"york\", \"york\", \"york\", \"york\", \"york\", \"zampolli\", \"zurixx\", \"z\\u00f3calo\"], \"Freq\": [0.13524033428262575, 0.4300499518722649, 0.15241371006454646, 0.17066042183283725, 0.11162694258248473, 1.0082862273967939, 1.037786540323315, 1.037786540323315, 0.2174005287803401, 0.2086608090303767, 0.22592175553655447, 0.2543258447239356, 0.0937334943183577, 1.0070873139278322, 0.9414720897458035, 0.05780968972123355, 1.003472128698348, 0.1922174279835553, 0.2660492877388282, 0.07255889665604405, 0.17948779699126685, 0.28896262352494734, 0.9954721303960903, 0.10890380874633512, 0.008167785655975134, 0.06806488046645945, 0.03539373784255891, 0.7759396373176377, 0.11543952143781518, 0.042327824527198896, 0.0692637128626891, 0.7734447936333616, 0.02202386071254819, 0.9800618017083944, 0.7870343404156315, 0.016745411498204923, 0.03349082299640985, 0.163267762107498, 0.012445783821186593, 0.9209880027678079, 0.031114459552966482, 0.03733735146355978, 0.4488098283442666, 0.16332048194762708, 0.07158666794029848, 0.19418419507158813, 0.12216886444901238, 0.9409714850252342, 0.9409714850252344, 0.9409714850252344, 0.04053396335228907, 0.9525481387787933, 0.9904963000265624, 0.05443121841742006, 0.9434744525686143, 0.08684988446175017, 0.15198729780806278, 0.6479966379562804, 0.09794736969852935, 0.015439979459866695, 0.0749980050699378, 0.16681799258546912, 0.5880684696605403, 0.036447628632119304, 0.13317402769428205, 0.006352207000977375, 0.9909442921524705, 1.0081837339556081, 0.08684004491531146, 0.1835482767528174, 0.027630923382144557, 0.6976808153991501, 0.003947274768877794, 0.06870952365260395, 0.031231601660274524, 0.007495584398465886, 0.8919745434174404, 0.001249264066410981, 0.9729248815531079, 0.8990398394136949, 0.09463577256986262, 0.007279674813066355, 1.014421174359856, 0.9999546463081157, 1.037786540323315, 0.9906144248540736, 0.2291274050686335, 0.6022419772569001, 0.007512373936676508, 0.057594866847853234, 0.1039211727906917, 1.0377865403233149, 0.10784620419472893, 0.011982911577192102, 0.8747525451350235, 1.009738255449712, 1.0377865403233149, 1.037786540323315, 1.037786540323315, 0.9990993567821489, 1.0159240205440927, 0.9947412841695337, 0.9846648199119669, 1.0030182742755989, 0.05652938825043529, 0.04011763037127666, 0.8205878939579316, 0.05470585959719544, 0.02735292979859772, 1.0013766916885232, 0.021763024960568353, 0.9503187566114847, 0.029017366614091135, 0.021914602257316344, 0.8818018527348719, 0.0500905194452945, 0.028175917187978156, 0.016696839815098168, 0.01384931192017769, 0.9833011463326161, 0.07345167511592714, 0.5384209946571172, 0.17790130486793362, 0.11725313275386534, 0.09231999532919283, 0.07814424181248662, 0.03907212090624331, 0.07032981763123797, 0.04688654508749198, 0.7658135697623689, 0.4246125617440207, 0.04807296030570554, 0.014172904631960997, 0.5016059085284574, 0.011683070034454335, 0.3113456561491242, 0.04909184619778721, 0.03617293930363268, 0.5865183729946156, 0.01679457896240089, 0.9896708542064404, 0.014995012942521825, 0.9883681336412526, 0.24480245437519618, 0.4956387720624571, 0.08878398873466622, 0.1344689538117275, 0.03534119939923607, 1.037786540323315, 1.0059823942162605, 0.18990898218343, 0.1323480738667709, 0.5146869539263312, 0.12898685294317036, 0.034032361851455376, 0.9962750787103825, 0.05240981615655994, 0.920915341036696, 0.014974233187588554, 0.007487116593794277, 0.00833280030211168, 0.9582720347428433, 0.03333120120844672, 0.07497889272099806, 0.15144251599092676, 0.7015351843697343, 0.043799551193454314, 0.02820988042968244, 0.13438502072801367, 0.11231211877268776, 0.6569934346702891, 0.05323464589225663, 0.042847397913279725, 0.019184768947182025, 0.813434203360518, 0.05627532224506728, 0.10487673691126174, 0.007673907578872811, 0.13553822979630778, 0.3862042265490087, 0.29308148984189847, 0.10364688160894124, 0.08132293787778466, 0.9904963000265625, 0.8717872399887061, 0.020847086173642972, 0.013266327565045527, 0.08528353434672124, 0.009475948260746806, 0.5600016542348986, 0.03588684222369693, 0.002754106496237206, 0.3967582510033842, 0.004590177493728677, 0.9312074199216148, 0.02679733582508244, 0.02009800186881183, 0.02679733582508244, 0.015860140118746743, 0.9093147001414799, 0.010573426745831161, 0.06872727384790255, 0.9114187246737198, 0.00247220268898839, 0.08570302655159752, 0.013744196298288706, 0.9483495445819208, 0.006872098149144353, 0.02061629444743306, 0.013744196298288706, 0.1612808710277867, 0.7045427523845419, 0.019806422757798366, 0.05234554585989568, 0.06224875723879487, 0.09611735092702747, 0.6299119248253408, 0.08524693623885174, 0.06178972559594623, 0.12701221372500057, 0.9889619591247624, 0.014543558222422976, 0.9767402732454731, 1.0008955587017243, 0.07569911287108663, 0.3482159192069985, 0.05407079490791902, 0.02811681335211789, 0.4909628177639047, 0.03657712097062679, 0.9083318374372321, 0.024384747313751197, 0.030480934142188994, 0.09098570993926425, 0.8818614963344074, 0.003499450382279394, 0.020996702293676364, 0.006998900764558788, 1.0109607266737086, 0.9801317325275755, 1.0377865403233149, 0.48886698475709306, 0.11874535966675717, 0.07134297818688233, 0.2255204209800106, 0.09528357489388983, 0.009546493337982638, 0.168256945081944, 0.5023842119113363, 0.2151938706603586, 0.10421588560631045, 0.16443561049562572, 0.11526103710373765, 0.45584048985496245, 0.2339044522714676, 0.03070158550393012, 1.0095739492708642, 0.024358472405112384, 0.7648560335205289, 0.19161998292021742, 0.004871694481022477, 0.014615083443067431, 0.9869336328610726, 0.9994718096850789, 0.992297202390247, 0.213505389660466, 0.019409580878224184, 0.6963187140062925, 0.02547507490266924, 0.04488465578089342, 1.0059823942162605, 0.020759810832268546, 0.1479136521799134, 0.0246522753633189, 0.09471663692222525, 0.7110235210051977, 0.07529582619100118, 0.10171541432819459, 0.7179523076282306, 0.0528391762743868, 0.0528391762743868, 0.4933201549567269, 0.036698206649219925, 0.03369015692387403, 0.4181189118230795, 0.018649908297144552, 1.0039401660718081, 0.9906144248540736, 0.9409714850252344, 0.26563527919498836, 0.10288437939131129, 0.03298035855052487, 0.5886277036952373, 0.010395982586578492, 0.17734898064844665, 0.032758728909585685, 0.007907279391968959, 0.7805614371215072, 0.0022592226834197023, 1.0081837339556081, 0.3470440220301863, 0.2419350461761979, 0.28250342282159696, 0.07007265056932561, 0.05863974442380407, 0.9409714850252344, 0.9409714850252344, 0.9409714850252344, 0.9409714850252344, 0.9409714850252344, 0.9409714850252344, 0.34548013327787325, 0.1585750132510792, 0.25607473137529263, 0.1957352831776662, 0.043782892289741124, 1.0022392039121997, 1.0059683280234681, 1.0109607266737086, 0.983742916162745, 0.3892237702649599, 0.050094540802619845, 0.01982158089312296, 0.5337411145948201, 0.007568239977374221, 0.032480192380510364, 0.9338055309396731, 0.032480192380510364, 1.0034674382307194, 0.9963227488502481, 0.9906144248540736, 0.9729248815531079, 0.9904963000265624, 0.2833603723967782, 0.06142372080584558, 0.01506619566935835, 0.6237018694404886, 0.016418290152505892, 0.14546819950846607, 0.027121189738866555, 0.020957282980033246, 0.8000750972965633, 0.0073966881105999695, 0.08715406128725224, 0.01270996727105762, 0.9005919666349399, 1.0000502077230915, 0.6393380689583177, 0.08336584576473373, 0.07616879433180708, 0.1823253029674752, 0.019192137154471073, 0.8017378905824807, 0.016691655210246407, 0.019383857663511958, 0.16153214719593298, 0.0010768809813062198, 0.984948251249273, 0.02073575265787943, 0.02431691662730834, 0.9726766650923336, 0.9987393209779032, 1.0008700246718822, 0.9989804022212747, 0.9801317325275755, 0.07058461300454724, 0.8646615093057037, 0.03529230650227362, 0.03088076818948942, 0.9801317325275755, 0.04602036653307942, 0.037653027163428616, 0.8869379731829852, 0.012551009054476205, 0.01673467873930161, 0.6969289112344299, 0.022324049208710468, 0.11441075219464114, 0.1653374894520119, 0.0013952530755444042, 0.16645354729909548, 0.3275980696374318, 0.29324555518546086, 0.14396826511235086, 0.06901732448986886, 0.01446075036569504, 0.05784300146278016, 0.9254880234044826, 1.0127981004808801, 0.2602449774187301, 0.06144673077942238, 0.06144673077942238, 0.03975964932786154, 0.5747076584663622, 1.037786540323315, 1.037786540323315, 0.9963227488502481, 0.09396968120792602, 0.849998480017149, 0.017085396583259277, 0.012814047437444458, 0.025628094874888915, 1.0016710410981908, 0.7970978539696159, 0.06038620105830423, 0.03321241058206733, 0.030193100529152115, 0.08152137142871071, 0.9963870201490139, 0.07221302132026941, 0.07221302132026941, 0.01444260426405388, 0.8376710473151251, 0.05109475604497476, 0.00425789633708123, 0.928221401483708, 0.00425789633708123, 0.01277368901124369, 0.09358885082559736, 0.7362322931613658, 0.047834301533083094, 0.04575454929251426, 0.07695083290104672, 0.9922392317353068, 1.0022481202675377, 1.003795475967964, 1.0549980213342502, 1.0350686335277577, 0.9409714850252344, 0.9409714850252344, 0.9409714850252344, 0.3860439717567833, 0.17430218121346144, 0.14726246336411777, 0.22214168202383866, 0.07071926206751418, 0.13549237688545238, 0.02799429274492818, 0.011197717097971271, 0.8230322067008884, 0.0033593151293913816, 1.0091285421458045, 0.4265387414702117, 0.2882723604431706, 0.13565758138502146, 0.08522078830597501, 0.06435039116981787, 0.9929393141969413, 0.046800181327782915, 0.17520067881682835, 0.7284028222042109, 0.03240012553461894, 0.016800065092024634, 0.08782879483217876, 0.9002451470298323, 0.8934461049746252, 0.006521504415873176, 0.013043008831746352, 0.08477955740635129, 1.0261020421005855, 1.0261020421005855, 1.0261020421005855, 1.0261020421005855, 1.0261020421005855, 1.0261020421005855, 1.0261020421005855, 1.0261020421005855, 1.0261020421005855, 1.0261020421005855, 1.0261020421005855, 1.0261020421005855, 1.0070873139278325, 1.0261020421005855, 1.0261020421005855, 1.0261020421005855, 1.0261020421005855, 1.0261020421005855, 1.0261020421005855, 1.0261020421005855, 1.0261020421005855, 0.9206643682975955, 0.008938489012598014, 0.04469244506299007, 0.02681546703779404, 0.01601021224141344, 0.9846280528469266, 0.19533937082016475, 0.6221134309816116, 0.07289838838578612, 0.08846891794391519, 0.020524788962988323, 0.014898715891860453, 0.02234807383779068, 0.029797431783720907, 0.9237203852953481, 0.007449357945930227, 0.46249867851454685, 0.04549783747988632, 0.00338413667205766, 0.4801713922464035, 0.008648349273036243, 0.9929880915328427, 1.0070435658190569, 1.0016793227687986, 0.30528620580880844, 0.09080116035684264, 0.11583687123712437, 0.4143970651676481, 0.07361246333455967, 0.983742916162745, 0.8909848012034692, 0.0069068589240579015, 0.10360288386086852, 0.03799336255570161, 0.23881542177869586, 0.04613479738906624, 0.124835334111591, 0.5509037570576734, 0.021477456978759128, 0.9664855640441609, 1.037786540323315, 0.16681246685592624, 0.6857845859632523, 0.03369948825372247, 0.10278343917385355, 0.011794820888802866, 1.0549980213342502, 1.0549980213342502, 1.0549980213342502, 0.1005701551467802, 0.706002489130397, 0.022125434132291642, 0.06838770549981053, 0.10258155824971579, 0.05732712466113579, 0.9458975569087406, 0.027844660582314818, 0.9467184597987037, 0.018563107054876543, 0.009281553527438272, 0.9991366246073494, 0.0847394212350365, 0.7763963188831722, 0.04809534718745315, 0.06641738421124482, 0.022902546279739592, 0.9758014860963079, 0.029569742002918422, 0.03645962527456271, 0.9601034655634847, 0.8403834602155992, 0.03382348291889409, 0.036425289297270555, 0.06504515945941171, 0.026018063783764683, 1.0549980213342502, 1.0549980213342502, 1.0549980213342502, 1.0549980213342502, 1.0549980213342502, 1.0070435658190569, 1.0549980213342502, 1.0549980213342502, 1.0549980213342502, 1.0549980213342502, 1.0549980213342502, 1.0549980213342502, 1.0549980213342502, 1.0549980213342502, 1.0549980213342502, 1.0549980213342502, 1.0549980213342502, 0.8385340244541357, 0.024056303980241597, 0.03436614854320228, 0.051549222814803425, 0.048112607960483195, 0.8104592602886183, 0.0476740741346246, 0.02860444448077476, 0.07818548158078435, 0.036232296342314695, 0.9058725692253702, 0.004950123329100383, 0.034650863303702685, 0.059401479949204604, 1.0098230571002516, 1.0549980213342502, 0.9069670123364089, 0.008320798278315679, 0.06656638622652543, 0.016641596556631357, 0.005876866110196351, 0.005876866110196351, 0.9726213412374961, 0.005876866110196351, 0.008815299165294527, 0.9857796509788165, 0.09602909643328139, 0.12288083429851172, 0.5666171803764708, 0.1879621650566124, 0.025941509463019142, 1.0261020421005855, 0.004980217564483059, 0.12782558415506518, 0.8482970584836144, 0.008300362607471764, 0.01162050765046047, 0.03670809814343248, 0.07210519278174238, 0.8547742853399278, 0.01966505257683883, 0.017043045566593654, 0.3321670200215306, 0.17563213782476783, 0.17970204476188364, 0.22854092800727363, 0.08421576662185837, 0.996359953923757, 0.9735177367969047, 0.9735177367969047, 0.9735177367969047, 0.9735177367969047, 0.9735177367969047, 0.9735177367969047, 0.9735177367969047, 0.9735177367969047, 0.9735177367969047, 0.9735177367969047, 0.9735177367969047, 0.9735177367969047, 0.9932476786377473, 0.9735177367969047, 0.9735177367969047, 0.9735177367969047, 0.9735177367969047, 1.014421174359856, 0.9735177367969047, 0.9735177367969047, 0.9735177367969047, 0.9735177367969047, 0.9967848408977118, 0.9735177367969047, 0.9735177367969047, 0.9735177367969047, 0.9735177367969047, 0.9735177367969047, 0.9932476786377473, 0.05443121841742006, 0.9434744525686143, 0.9822395371043018, 0.9979896573855009, 0.8800245414064739, 0.031014080754413177, 0.05039788122592141, 0.03876760094301647, 0.9930019762263731, 0.9409714850252344, 0.9409714850252344, 1.0193857754440039, 1.0265143473002556, 0.13416056942523902, 0.21844092714109428, 0.1290005475242683, 0.020640087603882924, 0.4970821097935138, 0.006346623748337403, 0.818714463535525, 0.12375916309257935, 0.034906430615855716, 0.015866559370843508, 0.20817968854571114, 0.2256265658528091, 0.2522404464907551, 0.251649026921023, 0.06239476460674013, 1.0026035220524805, 1.037786540323315, 0.3578991434998615, 0.1876952275121454, 0.1382486353180856, 0.22301422193647386, 0.0935112423806029, 0.9883681336412523, 1.037786540323315, 0.9801317325275752, 0.9801317325275755, 0.9767402732454731, 0.9767402732454731, 0.9801317325275752, 0.9915458430338844, 1.0016710410981908, 0.14672101098839943, 0.06401648446919324, 0.6540814717504527, 0.0759450219479249, 0.05924506947770058, 0.9904963000265625, 1.003940166071808, 0.011221761976456426, 0.7839202294981703, 0.12343938174102069, 0.06412435415117958, 0.017634197391574385, 0.08231954546559264, 0.8049022223302392, 0.009146616162843627, 0.04573308081421813, 0.05716635101777267, 1.0070873139278325, 0.9971899105762098, 1.0000147020471806, 0.014138050713854076, 0.9825945246128582, 0.022336142969245198, 0.029781523958993597, 0.9455633856980467, 0.08996130195964075, 0.9134532198978907, 0.9983695544762454, 0.9801317325275755, 0.9858972133071493, 1.000559896152374, 1.007100152432056, 0.9904963000265622, 0.6484247725201938, 0.09279782075423167, 0.07075833832510164, 0.08931790247594798, 0.09859768455137115, 0.9904963000265622, 0.11466785448812863, 0.4060889211430412, 0.1051649936189467, 0.27843382346703055, 0.09566213274976477, 1.0010751630249617, 0.9858972133071493, 0.983742916162745, 0.017020797331933943, 0.09361438532563669, 0.008510398665966971, 0.8765710625945982, 0.9583811649622171, 0.003216044177725561, 0.003216044177725561, 0.03537648595498117, 0.1912433457926048, 0.0987062429897315, 0.0987062429897315, 0.6107448784989638, 0.5756785521249513, 0.03711476481662551, 0.08781924351995389, 0.27430666181395225, 0.025238040075305345, 0.7635953334032303, 0.015635523493494716, 0.002181700952580658, 0.21307945970204425, 0.005454252381451644, 0.005343344161051501, 0.0066791802013143765, 0.9404285723450642, 0.0066791802013143765, 0.04141091724814913, 0.15236650041912267, 0.06014467121807474, 0.06816396071381804, 0.0160385789914866, 0.7016878308775387, 0.24932433769972867, 0.06520790370608288, 0.11507277124602862, 0.04219334945687716, 0.5254989886901974, 0.020598398189277445, 0.02746453091903659, 0.04119679637855489, 0.9131956530579667, 1.012458446268781, 1.037786540323315, 1.037786540323315, 0.01644806973751012, 0.00822403486875506, 0.9786601493818522, 1.002150611408579, 0.281440089970806, 0.20030420817742048, 0.12508448443146933, 0.259888371369438, 0.1331135560672731, 1.0377865403233149, 0.2374684518107785, 0.3194146429700409, 0.13770200161852988, 0.21991819670253449, 0.08545624218091119, 0.2594168544655774, 0.048146618418819065, 0.007904668695627011, 0.6776456890887519, 0.00718606245057001, 0.19051456289146174, 0.1721200533709068, 0.127447673106702, 0.31051683928746293, 0.19927385313934504, 0.9880200592764958, 0.9639209397873029, 0.03402073905131657, 0.8270483442005027, 0.08163074566134831, 0.0730380355917327, 0.01933359765663513, 1.0109607266737088, 1.0020007975535457, 0.5346918372622803, 0.08578695968700446, 0.02559545354595871, 0.31164574207606865, 0.04219030804278908, 0.05267784790805289, 0.07188976890981336, 0.816196772881243, 0.018592181614606903, 0.04090279955213519, 0.06888628928008031, 0.06257609484221036, 0.7656369251282209, 0.023663229142012323, 0.07887743047337441, 0.24251268077910096, 0.309740434086515, 0.17598888300370172, 0.17669283853571652, 0.09503399682199892, 0.1291532262882854, 0.4197479854369276, 0.017220430171771387, 0.034440860343542774, 0.40037500149368477, 1.0074456413351203, 0.10702643330124716, 0.12732454996182851, 0.5972567053764999, 0.09903020552586662, 0.06919812497925462, 0.9868786671732941, 0.021930637048295423, 1.012458446268781, 0.0574441248129055, 0.9478280594129407, 0.9883681336412525, 0.23659769746257012, 0.041465575843955584, 0.0658570910462824, 0.6414968498211953, 0.014634909121396089, 0.24052193028431834, 0.5429208716791252, 0.13273616899508026, 0.06087899480225485, 0.02295437508937478, 0.03135033195969648, 0.9718602907505908, 0.26116734011647424, 0.26848124462382006, 0.15983928808762046, 0.21774103210410833, 0.0927951634369503, 0.10233566434067433, 0.5503661948077729, 0.028953505032971272, 0.3045110012088358, 0.013727954972529483, 0.05917458510767866, 0.2958729255383933, 0.00896584622843616, 0.009862430851279776, 0.6267126513676876, 0.9890606450008596, 0.864106762348279, 0.004488866297913137, 0.13017712263948097, 0.0022444331489565685, 0.07251879439643519, 0.08042993560331903, 0.7784939668583549, 0.03748374048023533, 0.03107948331275794, 0.12600503553350278, 0.029941790621822444, 0.007485447655455611, 0.8346274135833006, 0.0024951492184852038, 0.11266524964377, 0.01345256712164418, 0.005044712670616567, 0.8693721502362551, 0.2090002619858165, 0.04600005766195005, 0.008000010028165225, 0.7290009138165562, 0.008000010028165225, 0.015271302358558333, 0.9773633509477333, 0.43538915541213713, 0.11732487758121261, 0.06386037640496384, 0.31657915279825094, 0.06707814730908991, 0.3537027471635728, 0.07050156109003647, 0.013741829703990158, 0.5451921567343921, 0.017027919415813893, 0.9858972133071495, 0.08662334138065986, 0.8460213008177779, 0.002887444712688662, 0.04908656011570725, 0.017324668276131973, 0.06007424589097134, 0.08082716719876144, 0.7897032687122232, 0.02730647540498697, 0.042598101631779677, 0.051833430517380756, 0.9174517201576394, 0.020733372206952302, 0.015550029155214227, 0.12794166225317738, 0.16262464298446042, 0.6805571552382869, 0.018497589723350947, 0.010790260671954719, 0.15408483039383278, 0.0873147372231719, 0.1386763473544495, 0.06933817367722475, 0.554705389417798, 0.06943913047593195, 0.05839199608203368, 0.0725954545884743, 0.048923023744406595, 0.7512051387850819, 0.9622081679367182, 0.04811040839683591, 0.9801317325275755, 1.0047600203183336, 1.037786540323315, 0.8851114688820588, 0.013701415926966854, 0.09865019467416135, 0.002740283185393371, 0.9963227488502481, 0.9673912574801012, 0.03171774614688857, 0.27588316901163257, 0.04114047257191012, 0.06957579920249506, 0.58020166465385, 0.03327538222728024, 0.050719162936564144, 0.019724118919774943, 0.8481371135503226, 0.07044328185633908, 0.011270925097014254, 0.007177910055183375, 0.007177910055183375, 0.9403062172290221, 0.05024537038628363, 0.9985819841084119, 0.10529032814679927, 0.7787853581892566, 0.021784205823475712, 0.07624472038216498, 0.018153504852896424, 0.9831661960957723, 1.0047600203183333, 0.9922392317353068, 0.07247594269506595, 0.04982721060285784, 0.02944335171987054, 0.8447977070393624, 0.0067946196276624325, 0.9409714850252344, 1.0081837339556081, 0.9409714850252344, 0.9409714850252344, 0.9409714850252344, 0.9409714850252344, 0.21244902179421593, 0.07499517629195188, 0.02529688036116586, 0.676075917616999, 0.011193309894321176, 0.20084361954224692, 0.045385441299157094, 0.005738389129778483, 0.7465122586102736, 0.0015650152172123136, 0.02000862601975723, 0.08003450407902891, 0.9003881708890752, 1.0016710410981908, 0.9963227488502479, 1.006305804964977, 1.003795475967964, 0.05987283245361643, 0.09077493952645072, 0.1120201381390243, 0.04249039722514714, 0.6933660274467194, 0.8462378841275885, 0.027745504397625853, 0.008323651319287756, 0.10543291671097824, 0.013872752198812927, 0.7931157054285664, 0.010574876072380885, 0.03595457864609501, 0.14170333936990387, 0.01903477693028559, 0.9465617175219423, 0.04254209966390752, 0.01063552491597688, 0.0974291427452098, 0.0397950019663533, 0.08919569406251601, 0.7355214156539782, 0.037050519072122035, 0.9932476786377473, 0.05886747460189199, 0.019622491533963997, 0.07848996613585599, 0.039244983067927994, 0.8045221528925239, 0.05412729018721725, 0.6468871266277183, 0.21914951636775765, 0.026403556188886464, 0.05280711237777293, 0.23524698310891276, 0.2376001450464541, 0.2522728018334766, 0.20988128163512149, 0.06498879586327422, 0.06983849514956707, 0.8313033777480725, 0.03604567491590559, 0.027034256186929187, 0.03604567491590559, 1.0077787913487894, 1.0059683280234681, 0.980080054214676, 0.018492076494616528, 1.012458446268781, 0.20372702744353485, 0.19046533542139676, 0.36995547744516205, 0.1714873968379923, 0.0644792612110851, 0.14311671380232413, 0.26108874737253585, 0.3077860106607446, 0.18395318696124355, 0.10398176035835967, 0.09247619609213596, 0.35472212530864095, 0.43201566234087396, 0.08879555147155344, 0.03174555985252429, 0.9801317325275752, 0.1845857986999182, 0.04849901377605694, 0.018820512808619114, 0.7412386583086912, 0.007238658772545812, 0.07807203156008093, 0.06752175702493486, 0.8081510293921891, 0.035870933419496646, 0.010550274535146072, 0.9822213337739395, 0.021199021592243298, 1.037786540323315, 1.037786540323315, 0.765831124343315, 0.002015345064061355, 0.2297493373029945, 0.002015345064061355, 0.9684208628065655, 0.03543003156609386, 1.037786540323315, 0.0369766232653216, 0.9613922048983615, 0.9858972133071493, 0.0067242356121791635, 0.04370753147916456, 0.6769063849593692, 0.07620800360469719, 0.19500283275319574, 0.038196006598795594, 0.0215890472080149, 0.9208558982187893, 0.009964175634468416, 0.009964175634468416, 1.0261020421005855, 0.06464032911915193, 0.027001656467493848, 0.8190502461806467, 0.05236684890665473, 0.037638672651658094, 1.0261020421005855, 1.0261020421005855, 1.0261020421005855, 1.0261020421005855, 1.0261020421005855, 1.0261020421005855, 1.0261020421005855, 1.0261020421005855, 0.112056948609294, 0.006403254206245371, 0.04802440654684029, 0.10245206729992594, 0.7299709795119723, 0.01468941952585732, 0.05875767810342928, 0.024482365876428866, 0.05875767810342928, 0.842193386149153, 0.02742579904901155, 0.9751395217426329, 0.9804396477564719, 0.01885460861070138, 0.026550972098284435, 0.026550972098284435, 0.9558349955382397, 0.9904063057423573, 0.9913189220293793, 1.0071001524320564, 1.0081092203860613, 0.18284230516601074, 0.0934085689435055, 0.10732048346700632, 0.1649555579215097, 0.4491560974730264, 0.18727659668914212, 0.22440397702088577, 0.19149295533880387, 0.3489036782595087, 0.0479025191031014, 0.29919022832997155, 0.19391959243609266, 0.08427483039703877, 0.38200701667861864, 0.04082517735496688, 0.9735177367969047, 0.9735177367969047, 0.9735177367969047, 0.9735177367969049, 0.029071845430151143, 0.23928365084816708, 0.08050664888349547, 0.0603799866626216, 0.5926183876146194, 0.029648353523328768, 0.9635714895081849, 0.12954911385279866, 0.7553709869263183, 0.051819645541119466, 0.02790288606060279, 0.033882075930731954, 0.9869336328610727, 1.0549980213342502, 1.0549980213342502, 1.0549980213342502, 1.0549980213342502, 1.0549980213342502, 1.0059683280234681, 1.0549980213342502, 1.0549980213342502, 1.0549980213342502, 1.0549980213342502, 1.0070873139278325, 0.9962750787103823, 1.037786540323315, 1.037786540323315, 1.037786540323315, 0.07054817655949194, 0.038923131894892105, 0.8417127272270418, 0.038923131894892105, 0.009730782973723026, 0.8141439796947019, 0.05088399873091887, 0.06194573758546644, 0.03760991210546177, 0.03539756433455225, 0.9614859595564064, 0.03373634945811952, 0.39109995298406597, 0.5338090088066542, 0.008485403319180919, 0.06171202413949759, 0.005399802112206039, 1.0193857754440039, 1.0010751630249617, 0.037547732118272815, 0.018773866059136408, 0.037547732118272815, 0.018773866059136408, 0.8823717047794112, 1.0070435658190569, 0.2769304422806242, 0.24848213320997828, 0.20744607676294033, 0.19511008433407614, 0.0720019149929623, 0.9906144248540736, 0.2652486875946945, 0.2187618042018099, 0.07793389274689479, 0.13946065017865383, 0.29806295822496603, 0.20252738640978613, 0.19578717228204365, 0.36814407640574437, 0.19354043423946282, 0.03979935961143182, 0.013989599008813285, 0.006994799504406643, 0.97927193061693, 0.013102040014033317, 0.9616897370300455, 0.005240816005613326, 0.010481632011226653, 0.010481632011226653, 0.008867192547074841, 0.8660291387643095, 0.04729169358439916, 0.03251303933927442, 0.04433596273537421, 0.06386040810449851, 0.13152203097712192, 0.7549212529496074, 0.03345068995949922, 0.01672534497974961, 0.02353059495707276, 0.18236211091731389, 0.01176529747853638, 0.7823922823226692, 0.008970214858874514, 0.08970214858874513, 0.008970214858874514, 0.02691064457662354, 0.8701108413108278, 0.9932476786377473, 0.4040184641106293, 0.04239458738491613, 0.008661259788316198, 0.5414264201508336, 0.0035166017185644717, 0.11622506954782114, 0.28995096297719586, 0.3339941472268965, 0.19003818389222682, 0.07014284899026398, 1.0377865403233149, 0.09852882666813473, 0.01589174623679592, 0.8867594400132125, 0.9409714850252344, 0.9409714850252344, 0.9409714850252344, 0.9409714850252344, 1.035068633527758, 0.1209163423100545, 0.6003390328727267, 0.13894772668962405, 0.0912175915672341, 0.04879080479177638, 0.5378002206681857, 0.16798421811080858, 0.09590143795131982, 0.12285412966312866, 0.07521681407946652, 1.0109607266737088, 0.007623055905786615, 0.007623055905786615, 0.9566935161762201, 0.026680695670253152, 1.0047249162234901, 1.0021506114085785, 1.037786540323315, 0.9729248815531079, 0.037854236923015004, 0.032807005333279675, 0.8883127597934188, 0.02523615794867667, 0.015141694769206002, 0.9966967305301643, 0.17574680470704512, 0.08498136632669777, 0.019576859258506295, 0.7132205770769452, 0.006229000673161093, 0.07366221500005715, 0.035194169388916195, 0.004092345277780953, 0.8855835181117983, 0.0016369381111123811, 0.16571275054633272, 0.07425205937941447, 0.011791099558104444, 0.7444326639927563, 0.004142818763658318, 0.06798513005713515, 0.04458041315221977, 0.011145103288054943, 0.8670890358106745, 0.010030592959249449, 0.13077200278024448, 0.03846235375889544, 0.012820784586298479, 0.8160429389178981, 0.001923117687944772, 0.027396342370244048, 0.9725701541436638, 0.8005974354624126, 0.002187424687055772, 0.028436520931725034, 0.1487448787197925, 0.02187424687055772, 0.36156557861985944, 0.20772450089175512, 0.09917673538816879, 0.270588494582681, 0.06091169575021391, 0.01640675714998874, 0.03281351429997748, 0.00820337857499437, 0.9433885361243527, 0.05148122367596203, 0.6185430605843198, 0.043797458948206504, 0.012294023564408842, 0.2743104007808723, 1.0081837339556081, 0.9393687755502452, 0.059239472331997445, 0.785804106198613, 0.012089293941517122, 0.0030223234853792805, 0.19342870306427395, 0.0030223234853792805, 0.9748679727490684, 0.02634778304727212, 0.06956753077119601, 0.17778368974861203, 0.007729725641244001, 0.7497833872006682, 0.20362598203769813, 0.07965534283568357, 0.5351492751073389, 0.14360399835165488, 0.03758385894359718, 0.3575053234043493, 0.07358292298985102, 0.1252704396266244, 0.4264220122533805, 0.0172291722122578, 1.0127981004808801, 0.09145657919654906, 0.6864056943909419, 0.07123986168994348, 0.10300898920032368, 0.04813504168239425, 1.0058660701993887, 0.14311682442372003, 0.29229441908290077, 0.3622687663468563, 0.1330614556239784, 0.0691478785954836, 0.2524790407907163, 0.23517200976877203, 0.25629676822202757, 0.1577994004941977, 0.09824285256574243, 0.9838786363216684, 0.020497471590034757, 0.24987818583166935, 0.29742296224885395, 0.1647980596114443, 0.19732869610741272, 0.09044231904923082, 0.9880200592764962, 1.0059683280234681, 0.9735177367969047], \"Topic\": [1, 2, 3, 4, 5, 2, 5, 5, 1, 2, 3, 4, 5, 2, 1, 4, 2, 1, 2, 3, 4, 5, 3, 1, 2, 3, 4, 5, 1, 3, 4, 5, 1, 3, 1, 2, 3, 4, 1, 2, 3, 5, 1, 2, 3, 4, 5, 1, 1, 1, 1, 5, 1, 2, 5, 1, 2, 3, 4, 5, 1, 2, 3, 4, 5, 2, 4, 1, 1, 2, 3, 4, 5, 1, 2, 3, 4, 5, 5, 2, 3, 4, 4, 4, 5, 5, 1, 2, 3, 4, 5, 5, 2, 3, 5, 5, 5, 5, 5, 3, 4, 1, 4, 2, 1, 2, 3, 4, 5, 3, 1, 4, 5, 1, 2, 3, 4, 5, 1, 3, 1, 2, 3, 4, 5, 1, 2, 3, 4, 5, 1, 2, 3, 4, 5, 1, 2, 3, 4, 5, 2, 4, 5, 1, 2, 3, 4, 5, 5, 3, 1, 2, 3, 4, 5, 5, 1, 2, 4, 5, 1, 2, 3, 1, 2, 3, 4, 5, 1, 2, 3, 4, 5, 1, 2, 3, 4, 5, 1, 2, 3, 4, 5, 1, 1, 2, 3, 4, 5, 1, 2, 3, 4, 5, 2, 3, 4, 5, 1, 2, 4, 5, 1, 3, 4, 1, 2, 3, 4, 5, 1, 2, 3, 4, 5, 1, 2, 3, 4, 5, 2, 5, 5, 4, 1, 2, 3, 4, 5, 1, 2, 3, 5, 1, 2, 3, 4, 5, 2, 5, 5, 1, 2, 3, 4, 5, 1, 2, 3, 4, 5, 1, 2, 3, 4, 5, 2, 1, 2, 3, 4, 5, 4, 4, 1, 1, 2, 3, 4, 5, 3, 1, 2, 3, 4, 5, 1, 2, 3, 4, 5, 1, 2, 3, 4, 5, 2, 5, 1, 1, 2, 3, 4, 5, 1, 2, 3, 4, 5, 1, 1, 2, 3, 4, 5, 1, 1, 1, 1, 1, 1, 1, 2, 3, 4, 5, 3, 2, 2, 1, 1, 2, 3, 4, 5, 1, 2, 5, 3, 1, 5, 5, 1, 1, 2, 3, 4, 5, 1, 2, 3, 4, 5, 1, 2, 4, 4, 1, 2, 3, 4, 5, 1, 2, 3, 4, 5, 2, 3, 1, 2, 3, 3, 3, 5, 1, 2, 3, 5, 5, 1, 2, 3, 4, 5, 1, 2, 3, 4, 5, 1, 2, 3, 4, 5, 1, 2, 4, 4, 1, 2, 3, 4, 5, 5, 5, 1, 1, 2, 3, 4, 5, 3, 1, 2, 3, 4, 5, 4, 1, 2, 3, 5, 1, 2, 3, 4, 5, 1, 2, 3, 4, 5, 2, 4, 3, 4, 1, 1, 1, 1, 1, 2, 3, 4, 5, 1, 2, 3, 4, 5, 4, 1, 2, 3, 4, 5, 4, 1, 2, 3, 4, 5, 2, 5, 1, 2, 3, 4, 3, 3, 3, 3, 3, 3, 3, 3, 3, 3, 3, 3, 2, 3, 3, 3, 3, 3, 3, 3, 3, 1, 2, 3, 5, 1, 3, 1, 2, 3, 4, 5, 1, 2, 3, 4, 5, 1, 2, 3, 4, 5, 2, 4, 1, 1, 2, 3, 4, 5, 1, 1, 2, 4, 1, 2, 3, 4, 5, 1, 4, 5, 1, 2, 3, 4, 5, 4, 4, 4, 1, 2, 3, 4, 5, 1, 5, 1, 2, 4, 5, 2, 1, 2, 3, 4, 5, 2, 4, 1, 2, 1, 2, 3, 4, 5, 4, 4, 4, 4, 4, 4, 4, 4, 4, 4, 4, 4, 4, 4, 4, 4, 4, 1, 2, 3, 4, 5, 1, 2, 3, 4, 5, 1, 2, 4, 5, 1, 4, 1, 2, 3, 4, 1, 2, 3, 4, 5, 1, 1, 2, 3, 4, 5, 3, 1, 2, 3, 4, 5, 1, 2, 3, 4, 5, 1, 2, 3, 4, 5, 3, 2, 2, 2, 2, 2, 2, 2, 2, 2, 2, 2, 2, 1, 2, 2, 2, 2, 4, 2, 2, 2, 2, 3, 2, 2, 2, 2, 2, 1, 2, 5, 4, 3, 1, 2, 3, 5, 3, 1, 1, 1, 1, 1, 2, 3, 4, 5, 1, 2, 3, 4, 5, 1, 2, 3, 4, 5, 3, 5, 1, 2, 3, 4, 5, 5, 5, 5, 5, 5, 5, 5, 2, 3, 1, 2, 3, 4, 5, 1, 2, 1, 2, 3, 4, 5, 1, 2, 3, 4, 5, 2, 4, 3, 1, 4, 1, 2, 4, 1, 4, 3, 5, 5, 2, 3, 1, 1, 2, 3, 4, 5, 1, 1, 2, 3, 4, 5, 3, 5, 1, 1, 2, 3, 5, 1, 2, 3, 4, 1, 2, 3, 5, 1, 2, 3, 4, 5, 1, 2, 3, 4, 5, 1, 2, 3, 4, 5, 1, 2, 3, 4, 5, 1, 2, 3, 4, 5, 2, 3, 4, 5, 2, 5, 5, 1, 4, 5, 2, 1, 2, 3, 4, 5, 5, 1, 2, 3, 4, 5, 1, 2, 3, 4, 5, 1, 2, 3, 4, 5, 1, 2, 3, 1, 2, 4, 5, 2, 5, 1, 2, 3, 4, 5, 1, 2, 3, 4, 5, 1, 2, 3, 4, 5, 1, 2, 3, 4, 5, 1, 2, 3, 4, 5, 3, 1, 2, 3, 4, 5, 1, 5, 2, 2, 5, 5, 1, 2, 3, 4, 5, 1, 2, 3, 4, 5, 1, 5, 1, 2, 3, 4, 5, 1, 2, 3, 4, 5, 1, 2, 3, 4, 5, 4, 1, 2, 4, 5, 1, 2, 3, 4, 5, 1, 2, 3, 4, 5, 1, 2, 3, 4, 1, 2, 3, 4, 5, 2, 4, 1, 2, 3, 4, 5, 1, 2, 3, 4, 5, 5, 1, 2, 3, 4, 5, 1, 2, 3, 4, 5, 1, 2, 4, 5, 1, 2, 3, 4, 5, 1, 2, 3, 4, 5, 1, 2, 3, 4, 5, 1, 4, 5, 4, 5, 1, 3, 4, 5, 1, 1, 3, 1, 2, 3, 4, 5, 1, 2, 3, 4, 5, 1, 2, 3, 4, 1, 1, 2, 3, 4, 5, 5, 4, 2, 1, 2, 3, 4, 5, 1, 1, 1, 1, 1, 1, 1, 2, 3, 4, 5, 1, 2, 3, 4, 5, 1, 2, 5, 3, 1, 4, 3, 1, 2, 3, 4, 5, 1, 2, 3, 4, 5, 1, 2, 3, 4, 5, 1, 4, 5, 1, 2, 3, 4, 5, 1, 1, 2, 3, 4, 5, 1, 2, 3, 4, 5, 1, 2, 3, 4, 5, 1, 2, 3, 4, 5, 3, 2, 3, 5, 2, 1, 2, 3, 4, 5, 1, 2, 3, 4, 5, 1, 2, 3, 4, 5, 5, 1, 2, 3, 4, 5, 1, 2, 3, 4, 5, 2, 4, 5, 5, 1, 2, 4, 5, 1, 4, 5, 2, 5, 5, 1, 2, 3, 4, 5, 1, 2, 3, 4, 5, 3, 1, 2, 3, 4, 5, 3, 3, 3, 3, 3, 3, 3, 3, 1, 2, 3, 4, 5, 1, 2, 3, 4, 5, 1, 3, 1, 5, 1, 4, 5, 4, 3, 3, 4, 1, 2, 3, 4, 5, 1, 2, 3, 4, 5, 1, 2, 3, 4, 5, 2, 2, 2, 2, 1, 2, 3, 4, 5, 2, 4, 1, 2, 3, 4, 5, 4, 4, 4, 4, 4, 4, 2, 4, 4, 4, 4, 2, 5, 5, 5, 5, 1, 2, 3, 4, 5, 1, 2, 3, 4, 5, 1, 4, 1, 2, 3, 4, 5, 1, 3, 1, 2, 3, 4, 5, 4, 1, 2, 3, 4, 5, 5, 1, 2, 3, 4, 5, 1, 2, 3, 4, 5, 1, 2, 4, 1, 2, 3, 4, 5, 1, 2, 3, 4, 5, 1, 2, 3, 4, 5, 1, 2, 3, 5, 1, 2, 3, 4, 5, 1, 1, 2, 3, 4, 5, 1, 2, 3, 4, 5, 5, 1, 2, 4, 1, 1, 1, 1, 1, 1, 2, 3, 4, 5, 1, 2, 3, 4, 5, 2, 1, 2, 3, 5, 3, 2, 5, 5, 1, 2, 3, 4, 5, 2, 1, 2, 3, 4, 5, 1, 2, 3, 4, 5, 1, 2, 3, 4, 5, 1, 2, 3, 4, 5, 1, 2, 3, 4, 5, 1, 2, 1, 2, 3, 4, 5, 1, 2, 3, 4, 5, 1, 2, 3, 4, 1, 2, 3, 4, 5, 1, 1, 4, 1, 2, 3, 4, 5, 2, 3, 1, 2, 4, 5, 1, 2, 3, 4, 5, 1, 2, 3, 4, 5, 4, 1, 2, 3, 4, 5, 1, 1, 2, 3, 4, 5, 1, 2, 3, 4, 5, 1, 5, 1, 2, 3, 4, 5, 1, 2, 2]}};\n",
       "\n",
       "function LDAvis_load_lib(url, callback){\n",
       "  var s = document.createElement('script');\n",
       "  s.src = url;\n",
       "  s.async = true;\n",
       "  s.onreadystatechange = s.onload = callback;\n",
       "  s.onerror = function(){console.warn(\"failed to load library \" + url);};\n",
       "  document.getElementsByTagName(\"head\")[0].appendChild(s);\n",
       "}\n",
       "\n",
       "if(typeof(LDAvis) !== \"undefined\"){\n",
       "   // already loaded: just create the visualization\n",
       "   !function(LDAvis){\n",
       "       new LDAvis(\"#\" + \"ldavis_el67649880386248451786974\", ldavis_el67649880386248451786974_data);\n",
       "   }(LDAvis);\n",
       "}else if(typeof define === \"function\" && define.amd){\n",
       "   // require.js is available: use it to load d3/LDAvis\n",
       "   require.config({paths: {d3: \"https://cdnjs.cloudflare.com/ajax/libs/d3/3.5.5/d3.min\"}});\n",
       "   require([\"d3\"], function(d3){\n",
       "      window.d3 = d3;\n",
       "      LDAvis_load_lib(\"https://cdn.rawgit.com/bmabey/pyLDAvis/files/ldavis.v1.0.0.js\", function(){\n",
       "        new LDAvis(\"#\" + \"ldavis_el67649880386248451786974\", ldavis_el67649880386248451786974_data);\n",
       "      });\n",
       "    });\n",
       "}else{\n",
       "    // require.js not available: dynamically load d3 & LDAvis\n",
       "    LDAvis_load_lib(\"https://cdnjs.cloudflare.com/ajax/libs/d3/3.5.5/d3.min.js\", function(){\n",
       "         LDAvis_load_lib(\"https://cdn.rawgit.com/bmabey/pyLDAvis/files/ldavis.v1.0.0.js\", function(){\n",
       "                 new LDAvis(\"#\" + \"ldavis_el67649880386248451786974\", ldavis_el67649880386248451786974_data);\n",
       "            })\n",
       "         });\n",
       "}\n",
       "</script>"
      ],
      "text/plain": [
       "<IPython.core.display.HTML object>"
      ]
     },
     "execution_count": 14,
     "metadata": {},
     "output_type": "execute_result"
    }
   ],
   "source": [
    "pyLDAvis.display(prepared_data)"
   ]
  },
  {
   "cell_type": "code",
   "execution_count": 5,
   "metadata": {
    "collapsed": true,
    "nbpresent": {
     "id": "227285a2-6cf7-494f-9e85-85c5c606e251"
    }
   },
   "outputs": [],
   "source": [
    "topic_labels = [\"political scandals\", \"infrastructure \", \"justice system\", 'presidential election', \"environmental issues\"]"
   ]
  },
  {
   "cell_type": "markdown",
   "metadata": {
    "collapsed": true,
    "nbpresent": {
     "id": "937c7003-1313-4446-b5ee-b1674dad6e43"
    }
   },
   "source": [
    "![](./topic_chart.png)"
   ]
  },
  {
   "cell_type": "markdown",
   "metadata": {
    "nbpresent": {
     "id": "053d6799-19f1-4ac1-89dd-92efa607847c"
    }
   },
   "source": [
    "\n",
    "### Entity Recognition"
   ]
  },
  {
   "cell_type": "code",
   "execution_count": 111,
   "metadata": {
    "collapsed": false
   },
   "outputs": [],
   "source": [
    "class named_entity_extraction(object):\n",
    "    \n",
    "    def __init__(self, topic_ids,corpus):\n",
    "        \n",
    "        self.topic_ids = topic_ids\n",
    "        self.corpus = corpus\n",
    "        self.doc_ids = list(range(len(corpus)))\n",
    "        self.unique_entity_type = 'persons'\n",
    "        \n",
    "        # each entity from each entity type is stored here\n",
    "        self.entity_results_dict = dict()\n",
    "        # unique entities from self.unique_entity_type are stored here\n",
    "        self.unique_entities_dict = dict()\n",
    "        \n",
    "        # { topic_id : { name_i: count_i  }  }\n",
    "        self.persons_dict = dict()\n",
    "        self.persons_topics_dict  = None\n",
    "        \n",
    "    def get_entities(self):\n",
    "        '''This function identities, tags, and extracts named entites from each doc \n",
    "           in the corpus. The extracted entities are stored in dicts. \n",
    "           \n",
    "           self.entity_results_dict: stores all named entites from each doc\n",
    "           self.unique_entities_dict: sotres unique person named entites from each doc\n",
    "           '''\n",
    "\n",
    "        for topic_id, doc_id, doc in zip(self.topic_ids, self.doc_ids, self.corpus):\n",
    "            \n",
    "            # tokenize doc \n",
    "            self.tokenized = nltk.word_tokenize(doc)\n",
    "            # identify part-of-speech for each token\n",
    "            self.tagged = nltk.pos_tag(self.tokenized)\n",
    "            # identify the entities \n",
    "            self.namedEnt_doc_i = nltk.ne_chunk(self.tagged, binary=False)\n",
    "\n",
    "            for entity in self.namedEnt_doc_i:\n",
    "                # check if token is entities\n",
    "                if isinstance(entity, nltk.tree.Tree):\n",
    "                    self.etext = \" \".join([word for word, tag in entity.leaves()])\n",
    "                    self.label = entity.label()\n",
    "                else:\n",
    "                    continue\n",
    "\n",
    "                if self.label == 'PERSON':\n",
    "                    self.key = 'persons'\n",
    "                elif self.label == 'ORGANIZATION':\n",
    "                    self.key = 'organizations'\n",
    "                elif self.label == 'LOCATION':\n",
    "                    self.key = 'locations'\n",
    "                elif self.label == 'GPE':\n",
    "                    self.key = 'other'\n",
    "                else:\n",
    "                    self.key = None\n",
    "\n",
    "                # if topic is new to results dict, then create a new dict for that topic\n",
    "                if topic_id not in self.entity_results_dict.keys():\n",
    "                    self.entity_results_dict[topic_id] = defaultdict(list)\n",
    "                    \n",
    "                # if topic is new to results dict, then create a new dict for that topic\n",
    "                if topic_id not in self.unique_entities_dict.keys():\n",
    "                    self.unique_entities_dict[topic_id] = defaultdict(set)\n",
    "\n",
    "\n",
    "                # store all types of named entitis\n",
    "                # topic_i : {entity_type: entity}\n",
    "                self.entity_results_dict[topic_id][self.key].append(self.etext.lower()) \n",
    "\n",
    "                # store only person entities\n",
    "                if self.key == self.unique_entity_type:\n",
    "                    # topic_i : {doc_j : (set of entities that appear in doc_j) } \n",
    "                    self.unique_entities_dict[topic_id][doc_id].add(self.etext.lower())\n",
    "        \n",
    "        \n",
    "    def get_name_entity_count(self, entity_type = 'persons'):\n",
    "        '''Returns the count of occurances of each name entity in each topic'''\n",
    "\n",
    "\n",
    "        for topic_id, entity_dict in self.entity_results_dict.items():\n",
    "            self.persons_dict[topic_id] = Counter(self.entity_results_dict[topic_id][entity_type])\n",
    "\n",
    "        return self.persons_dict\n",
    " \n",
    "    def get_entity_topic_count(self):\n",
    "        '''Returns a dict where keys are topic ids and values are sum \n",
    "           of all entities that appear in the topic'''\n",
    "\n",
    "        entity_count_dic = {}\n",
    "        topic_ids = self.entity_results_dict.keys()\n",
    "\n",
    "        self.entity_results_dict_flatten = self.flatten_results(self.entity_results_dict)\n",
    "\n",
    "        for topic_id in topic_ids:\n",
    "            entity_count_dic[topic_id] = len(self.entity_results_dict_flatten[topic_id])\n",
    "\n",
    "        return entity_count_dic\n",
    "    \n",
    "    \n",
    "    \n",
    "    # clean named_entity_results\n",
    "    def flatten_results(self, entity_dict_data):\n",
    "        '''Returns entity dict with flatten values. \n",
    "\n",
    "           The extract entities in the get_entities function returned nested lists\n",
    "           in the dict values. Here we are correcting the format.'''\n",
    "\n",
    "\n",
    "        # make deep copy of dict\n",
    "        # so original dict is not over written\n",
    "        self.entity_dict_flat = copy.deepcopy(entity_dict_data)\n",
    "\n",
    "        topics = self.entity_dict_flat.keys()\n",
    "        for topic in topics:\n",
    "            flattend_values = np.array(list(entity_dict_data[topic].values())).flatten()[0]\n",
    "\n",
    "            self.entity_dict_flat[topic] = flattend_values\n",
    "\n",
    "        return self.entity_dict_flat\n",
    "    \n",
    "    \n",
    "    def invert_nested_dict(data):\n",
    "        '''Returns the inverstion of a nested dictionary. \n",
    "        \n",
    "           Helper function for self.get_entity_topic_occurance'''\n",
    "\n",
    "        flipped = defaultdict(dict)\n",
    "        for key, val in data.items():\n",
    "            for subkey, subval in val.items():\n",
    "                flipped[subkey][key] = subval\n",
    "                \n",
    "        return flipped\n",
    "    \n",
    "    \n",
    "    def get_entity_topic_occurance(self):\n",
    "        '''Returns a nested dictionary with entity as key and {topic:occurance} as the dict value'''\n",
    "        self.persons_topics_dict  = self.get_name_entity_count()\n",
    "        \n",
    "        return invert_nested_dict(self.persons_topics_dict)\n",
    "    "
   ]
  },
  {
   "cell_type": "markdown",
   "metadata": {},
   "source": [
    "### How entity extraction works"
   ]
  },
  {
   "cell_type": "code",
   "execution_count": 84,
   "metadata": {
    "collapsed": true
   },
   "outputs": [],
   "source": [
    "example_doc= 'Alexander studied data science at Galvanize, in San Francisco.'\n",
    "tokenized = nltk.word_tokenize(example_doc)\n",
    "tagged = nltk.pos_tag(tokenized)\n",
    "namedEnt_doc_i = nltk.ne_chunk(tagged, binary=False)"
   ]
  },
  {
   "cell_type": "code",
   "execution_count": 166,
   "metadata": {
    "collapsed": false
   },
   "outputs": [
    {
     "name": "stdout",
     "output_type": "stream",
     "text": [
      "['Alexander', 'studied', 'data', 'science', 'at', 'Galvanize', ',', 'in', 'San', 'Francisco', '.'] \n",
      "\n",
      "[('Alexander', 'NNP'),\n",
      " ('studied', 'VBD'),\n",
      " ('data', 'NNS'),\n",
      " ('science', 'NN'),\n",
      " ('at', 'IN'),\n",
      " ('Galvanize', 'NNP'),\n",
      " (',', ','),\n",
      " ('in', 'IN'),\n",
      " ('San', 'NNP'),\n",
      " ('Francisco', 'NNP'),\n",
      " ('.', '.')]\n"
     ]
    },
    {
     "data": {
      "image/png": "[encoded data removed]",
      "text/plain": [
       "Tree('S', [Tree('PERSON', [('Alexander', 'NNP')]), ('studied', 'VBD'), ('data', 'NNS'), ('science', 'NN'), ('at', 'IN'), Tree('ORGANIZATION', [('Galvanize', 'NNP')]), (',', ','), ('in', 'IN'), Tree('GPE', [('San', 'NNP'), ('Francisco', 'NNP')]), ('.', '.')])"
      ]
     },
     "execution_count": 166,
     "metadata": {},
     "output_type": "execute_result"
    }
   ],
   "source": [
    "print (example_doc)\n",
    "print (tokenized, '\\n') \n",
    "pprint (tagged)\n",
    "\n",
    "namedEnt_doc_i"
   ]
  },
  {
   "cell_type": "code",
   "execution_count": null,
   "metadata": {
    "collapsed": true
   },
   "outputs": [],
   "source": []
  },
  {
   "cell_type": "code",
   "execution_count": null,
   "metadata": {
    "collapsed": true
   },
   "outputs": [],
   "source": []
  },
  {
   "cell_type": "code",
   "execution_count": 137,
   "metadata": {
    "collapsed": false
   },
   "outputs": [],
   "source": [
    "extraction_object = named_entity_extraction(topic_ids, US_corpus)"
   ]
  },
  {
   "cell_type": "code",
   "execution_count": 138,
   "metadata": {
    "collapsed": false,
    "scrolled": true
   },
   "outputs": [
    {
     "name": "stdout",
     "output_type": "stream",
     "text": [
      "Total run time: 17.79 minute \n",
      "Each document takes about 0.003312 seconds to find all entities\n"
     ]
    }
   ],
   "source": [
    "start = time()\n",
    "extraction_object.get_entities()\n",
    "end = time()\n",
    "print (  \"Total run time: {:.4} minute \".format((end - start)/60)   )\n",
    "print (\"Each document takes about {:.4} seconds to find all entities\".format((20)/US_corpus.shape[0]) )"
   ]
  },
  {
   "cell_type": "code",
   "execution_count": 139,
   "metadata": {
    "collapsed": false
   },
   "outputs": [],
   "source": [
    "persons_topics_dict = extraction_object.get_name_entity_count(entity_type = 'persons')\n",
    "entity_count_dic = extraction_object.get_entity_topic_count()\n",
    "entity_topic_occurance = extraction_object.get_entity_topic_occurance()\n",
    "topic_ids = extraction_object.topic_ids\n",
    "unique_entities_dict = extraction_object.unique_entities_dict"
   ]
  },
  {
   "cell_type": "markdown",
   "metadata": {
    "nbpresent": {
     "id": "21bd0558-7c5b-4ba0-9ad5-7477d55e2357"
    }
   },
   "source": [
    "#### Save entity extraction results to file"
   ]
  },
  {
   "cell_type": "code",
   "execution_count": 7,
   "metadata": {
    "collapsed": true,
    "nbpresent": {
     "id": "12a9fc78-7920-4510-a8a7-af05e93d9e79"
    }
   },
   "outputs": [],
   "source": [
    "# with open('persons_topics_dict.pickle', 'wb') as handle:\n",
    "#     pickle.dump(persons_topics_dict, handle)\n",
    "    \n",
    "# with open('entity_count_dic.pickle', 'wb') as handle:\n",
    "#     pickle.dump(entity_count_dic, handle)\n",
    "    \n",
    "# with open('entity_topic_occurance.pickle', 'wb') as handle:\n",
    "#     pickle.dump(entity_topic_occurance, handle)\n",
    "    \n",
    "# with open('topic_ids.pickle', 'wb') as handle:\n",
    "#     pickle.dump(topic_ids, handle)\n",
    "    \n",
    "# with open('unique_entities_dict.pickle', 'wb') as handle:\n",
    "#     pickle.dump(unique_entities_dict, handle)\n",
    "\n",
    "# with open('topic_labels.pickle', 'wb') as handle:\n",
    "#     pickle.dump(topic_labels, handle)"
   ]
  },
  {
   "cell_type": "markdown",
   "metadata": {
    "nbpresent": {
     "id": "d8581023-6981-41ce-a797-97a3bc640e8f"
    }
   },
   "source": [
    "#### Load entity results data"
   ]
  },
  {
   "cell_type": "code",
   "execution_count": 2,
   "metadata": {
    "collapsed": false
   },
   "outputs": [],
   "source": [
    "with open('persons_topics_dict.pickle', 'rb') as handle:\n",
    "    persons_topics_dict = pickle.load(handle)\n",
    "    \n",
    "with open('entity_count_dic.pickle', 'rb') as handle:\n",
    "    entity_count_dic = pickle.load( handle)\n",
    "    \n",
    "with open('entity_topic_occurance.pickle', 'rb') as handle:\n",
    "    entity_topic_occurance = pickle.load(handle)\n",
    "    \n",
    "with open('topic_ids.pickle', 'rb') as handle:\n",
    "    topic_ids = pickle.load(handle)\n",
    "    \n",
    "with open('unique_entities_dict.pickle', 'rb') as handle:\n",
    "    unique_entities_dict = pickle.load(handle)\n",
    "    \n",
    "with open('topic_labels.pickle', 'rb') as handle:\n",
    "    topic_labels = pickle.load(handle)    "
   ]
  },
  {
   "cell_type": "code",
   "execution_count": 3,
   "metadata": {
    "collapsed": false
   },
   "outputs": [
    {
     "data": {
      "text/plain": [
       "['political scandals',\n",
       " 'infrastructure ',\n",
       " 'justice system',\n",
       " 'presidential election',\n",
       " 'environmental issues']"
      ]
     },
     "execution_count": 3,
     "metadata": {},
     "output_type": "execute_result"
    }
   ],
   "source": [
    "topic_labels"
   ]
  },
  {
   "cell_type": "code",
   "execution_count": 4,
   "metadata": {
    "collapsed": false
   },
   "outputs": [],
   "source": [
    "def replace_topic_names_in_dict_keys(dic, topic_label):\n",
    "    for topic_label, num_label in zip(topic_labels, dic.keys()):\n",
    "        dic[topic_label] = dic.pop(num_label)\n",
    "\n",
    "    return dic"
   ]
  },
  {
   "cell_type": "code",
   "execution_count": 5,
   "metadata": {
    "collapsed": false
   },
   "outputs": [],
   "source": [
    "# run only once\n",
    "unique_entities_dict =  replace_topic_names_in_dict_keys(unique_entities_dict, topic_labels)"
   ]
  },
  {
   "cell_type": "code",
   "execution_count": 6,
   "metadata": {
    "collapsed": false
   },
   "outputs": [
    {
     "data": {
      "text/plain": [
       "dict_keys(['justice system', 'environmental issues', 'infrastructure ', 'presidential election', 'political scandals'])"
      ]
     },
     "execution_count": 6,
     "metadata": {},
     "output_type": "execute_result"
    }
   ],
   "source": [
    "unique_entities_dict.keys()"
   ]
  },
  {
   "cell_type": "markdown",
   "metadata": {},
   "source": [
    "## Named Entity Searche Engine "
   ]
  },
  {
   "cell_type": "code",
   "execution_count": 113,
   "metadata": {
    "collapsed": false
   },
   "outputs": [],
   "source": [
    "class entity_topic_occurances(object):\n",
    "    \n",
    "    def __init__(self, query_list, entity_topic_occurance, unique_entities_dict, topic_labels):\n",
    "          \n",
    "        # user's set of person entites\n",
    "        self.query_list = query_list\n",
    "        # dictionary of unique appearances of entites in each doc of each topic passed into dataframe\n",
    "        # {entity : {topic : num_occurances } }\n",
    "        self.entity_topic_occurance_df = pd.DataFrame(entity_topic_occurance).T.fillna(0)\n",
    "        # topic labels named during topic modeling\n",
    "        self.topic_labels = topic_labels\n",
    "        # co-occurance matrix between user passed entities and topics\n",
    "        self.entity_topic_co_occurance_df = self.entity_topic_occurance_df.T[self.query_list].T\n",
    "        # assign topic labels as column names in dataframe\n",
    "        self.entity_topic_co_occurance_df.columns = self.topic_labels\n",
    "        # {topic : {doc_id : set_of_entities } }\n",
    "        self.unique_entities_dict = unique_entities_dict\n",
    "    \n",
    "    def get_entity_topic_co_occurance(self):\n",
    "        '''Returns the entity topic co-occurance dataframe'''\n",
    "        return self.entity_topic_co_occurance_df\n",
    "        \n",
    "        \n",
    "        \n",
    "        \n",
    "    def get_docs_with_co_occurances(self, subset_topic_labels=None):\n",
    "        '''Returns list of doc ids for co-occurances of entites'''\n",
    "\n",
    "        self.co_occurances_doc_ids = []\n",
    "\n",
    "        if subset_topic_labels == None:\n",
    "            self.topic_lables_to_search = self.topic_labels\n",
    "        else:\n",
    "            self.topic_lables_to_search = subset_topic_labels\n",
    "\n",
    "\n",
    "        for topic_label in self.topic_lables_to_search:\n",
    "\n",
    "            for doc_id, set_of_entities in self.unique_entities_dict[topic_label].items():\n",
    "\n",
    "                if set_of_entities.issuperset(self.query_set ):\n",
    "                    self.co_occurances_doc_ids.append(doc_id)\n",
    "\n",
    "        return self.co_occurances_doc_ids\n",
    "    \n",
    "    \n",
    "    def get_num_co_occurances(self,  query_set, n_entities = 2, subset_topic_labels=None):\n",
    "\n",
    "        '''Returns nested dict of entity co-occurances in docs'''\n",
    "\n",
    "        self.co_entity_dict = defaultdict(dict)\n",
    "        \n",
    "\n",
    "        self.query_set = query_set\n",
    "\n",
    "        # create a set of n Choose k pairs for entities\n",
    "        # create every possible pair between the entites \n",
    "        self.entity_pair_combinations = combinations( self.query_set , n_entities)\n",
    "\n",
    "        for co_entities in self.entity_pair_combinations:\n",
    "\n",
    "            self.entity_pairs = set(co_entities)\n",
    "\n",
    "            # for each unique combination of entity pairs, get all doc ids in which they jointly appear\n",
    "            self.co_entity_doc_ids = self.get_docs_with_co_occurances(subset_topic_labels)\n",
    "\n",
    "\n",
    "            # populate nested dict for use in a co-occurance matrix \n",
    "            self.co_entity_dict[co_entities[0]][co_entities[1]] = len(self.co_entity_doc_ids)\n",
    "            self.co_entity_dict[co_entities[1]][co_entities[0]] = len(self.co_entity_doc_ids)\n",
    "\n",
    "        return self.co_entity_dict"
   ]
  },
  {
   "cell_type": "code",
   "execution_count": 114,
   "metadata": {
    "collapsed": true
   },
   "outputs": [],
   "source": [
    "# user creates a query list\n",
    "query_list = ['elon musk', 'bill clinton', 'paul ryan', 'bill maher', 'bernie sanders', 'edward snowden', 'clinton', 'trump']"
   ]
  },
  {
   "cell_type": "code",
   "execution_count": 115,
   "metadata": {
    "collapsed": false
   },
   "outputs": [],
   "source": [
    "# instantiate entity_topic_occurances class\n",
    "occurance_object = entity_topic_occurances(query_list, # user's named entites \n",
    "                                           entity_topic_occurance, # entity-topic-doc occurance\n",
    "                                           unique_entities_dict,  # topic-doc-entity unique occurances\n",
    "                                           topic_labels) # hand labled topic names"
   ]
  },
  {
   "cell_type": "markdown",
   "metadata": {},
   "source": [
    "### Co-Occurance between Entities and Topics"
   ]
  },
  {
   "cell_type": "code",
   "execution_count": 116,
   "metadata": {
    "collapsed": false
   },
   "outputs": [
    {
     "data": {
      "text/html": [
       "<div>\n",
       "<table border=\"1\" class=\"dataframe\">\n",
       "  <thead>\n",
       "    <tr style=\"text-align: right;\">\n",
       "      <th></th>\n",
       "      <th>political scandals</th>\n",
       "      <th>infrastructure</th>\n",
       "      <th>justice system</th>\n",
       "      <th>presidential election</th>\n",
       "      <th>environmental issues</th>\n",
       "    </tr>\n",
       "  </thead>\n",
       "  <tbody>\n",
       "    <tr>\n",
       "      <th>elon musk</th>\n",
       "      <td>0.0</td>\n",
       "      <td>0.0</td>\n",
       "      <td>0.0</td>\n",
       "      <td>1.0</td>\n",
       "      <td>2.0</td>\n",
       "    </tr>\n",
       "    <tr>\n",
       "      <th>bill clinton</th>\n",
       "      <td>7.0</td>\n",
       "      <td>141.0</td>\n",
       "      <td>8.0</td>\n",
       "      <td>183.0</td>\n",
       "      <td>11.0</td>\n",
       "    </tr>\n",
       "    <tr>\n",
       "      <th>paul ryan</th>\n",
       "      <td>0.0</td>\n",
       "      <td>80.0</td>\n",
       "      <td>5.0</td>\n",
       "      <td>9.0</td>\n",
       "      <td>6.0</td>\n",
       "    </tr>\n",
       "    <tr>\n",
       "      <th>bill maher</th>\n",
       "      <td>0.0</td>\n",
       "      <td>3.0</td>\n",
       "      <td>0.0</td>\n",
       "      <td>0.0</td>\n",
       "      <td>0.0</td>\n",
       "    </tr>\n",
       "    <tr>\n",
       "      <th>bernie sanders</th>\n",
       "      <td>0.0</td>\n",
       "      <td>62.0</td>\n",
       "      <td>4.0</td>\n",
       "      <td>65.0</td>\n",
       "      <td>14.0</td>\n",
       "    </tr>\n",
       "    <tr>\n",
       "      <th>edward snowden</th>\n",
       "      <td>0.0</td>\n",
       "      <td>0.0</td>\n",
       "      <td>0.0</td>\n",
       "      <td>8.0</td>\n",
       "      <td>0.0</td>\n",
       "    </tr>\n",
       "    <tr>\n",
       "      <th>clinton</th>\n",
       "      <td>13.0</td>\n",
       "      <td>3669.0</td>\n",
       "      <td>28.0</td>\n",
       "      <td>4567.0</td>\n",
       "      <td>313.0</td>\n",
       "    </tr>\n",
       "    <tr>\n",
       "      <th>trump</th>\n",
       "      <td>49.0</td>\n",
       "      <td>4486.0</td>\n",
       "      <td>10.0</td>\n",
       "      <td>1991.0</td>\n",
       "      <td>248.0</td>\n",
       "    </tr>\n",
       "  </tbody>\n",
       "</table>\n",
       "</div>"
      ],
      "text/plain": [
       "                political scandals  infrastructure   justice system  \\\n",
       "elon musk                      0.0              0.0             0.0   \n",
       "bill clinton                   7.0            141.0             8.0   \n",
       "paul ryan                      0.0             80.0             5.0   \n",
       "bill maher                     0.0              3.0             0.0   \n",
       "bernie sanders                 0.0             62.0             4.0   \n",
       "edward snowden                 0.0              0.0             0.0   \n",
       "clinton                       13.0           3669.0            28.0   \n",
       "trump                         49.0           4486.0            10.0   \n",
       "\n",
       "                presidential election  environmental issues  \n",
       "elon musk                         1.0                   2.0  \n",
       "bill clinton                    183.0                  11.0  \n",
       "paul ryan                         9.0                   6.0  \n",
       "bill maher                        0.0                   0.0  \n",
       "bernie sanders                   65.0                  14.0  \n",
       "edward snowden                    8.0                   0.0  \n",
       "clinton                        4567.0                 313.0  \n",
       "trump                          1991.0                 248.0  "
      ]
     },
     "execution_count": 116,
     "metadata": {},
     "output_type": "execute_result"
    }
   ],
   "source": [
    "entity_topic_co_occurance_df = occurance_object.entity_topic_co_occurance_df\n",
    "entity_topic_co_occurance_df"
   ]
  },
  {
   "cell_type": "code",
   "execution_count": 117,
   "metadata": {
    "collapsed": false
   },
   "outputs": [],
   "source": [
    "def plot_occurances(df, mask=None):\n",
    "    '''Plot occurance matrix has heat map'''\n",
    "    \n",
    "    if mask:\n",
    "        mask = np.zeros_like(df, dtype=np.bool)\n",
    "        mask[np.triu_indices_from(mask)] = True     \n",
    "    \n",
    "    # ploting entity occurance in topics\n",
    "    plt.figure(figsize = (15,6))\n",
    "    sns.heatmap(df, annot=True, mask=mask, fmt=\"g\", linewidths=0.5,cmap='Blues');"
   ]
  },
  {
   "cell_type": "code",
   "execution_count": 118,
   "metadata": {
    "collapsed": false,
    "scrolled": false
   },
   "outputs": [
    {
     "name": "stderr",
     "output_type": "stream",
     "text": [
      "/Users/Alexander/anaconda3/lib/python3.5/site-packages/seaborn/matrix.py:143: DeprecationWarning: elementwise == comparison failed; this will raise an error in the future.\n",
      "  if xticklabels == []:\n",
      "/Users/Alexander/anaconda3/lib/python3.5/site-packages/seaborn/matrix.py:151: DeprecationWarning: elementwise == comparison failed; this will raise an error in the future.\n",
      "  if yticklabels == []:\n"
     ]
    },
    {
     "data": {
      "image/png": "[encoded data removed]",
      "text/plain": [
       "<matplotlib.figure.Figure at 0x118be5f60>"
      ]
     },
     "metadata": {},
     "output_type": "display_data"
    }
   ],
   "source": [
    "plot_occurances(entity_topic_co_occurance_df)"
   ]
  },
  {
   "cell_type": "markdown",
   "metadata": {
    "collapsed": true
   },
   "source": [
    "### Co-Occurances between Entities in Documents"
   ]
  },
  {
   "cell_type": "markdown",
   "metadata": {
    "collapsed": true
   },
   "source": [
    "#### Co-Occurance between Entities in Documents for Corpus"
   ]
  },
  {
   "cell_type": "code",
   "execution_count": 119,
   "metadata": {
    "collapsed": false
   },
   "outputs": [],
   "source": [
    "query_set = set(query_list)"
   ]
  },
  {
   "cell_type": "code",
   "execution_count": 147,
   "metadata": {
    "collapsed": false
   },
   "outputs": [
    {
     "name": "stdout",
     "output_type": "stream",
     "text": [
      "('paul ryan', 'trump')\n",
      "('paul ryan', 'clinton')\n",
      "('trump', 'clinton')\n"
     ]
    }
   ],
   "source": [
    "# debug get_num_co_occurances output\n",
    "for i in combinations(set(( 'trump', \"clinton\", 'paul ryan')), 2):\n",
    "    print (i)"
   ]
  },
  {
   "cell_type": "code",
   "execution_count": 121,
   "metadata": {
    "collapsed": false
   },
   "outputs": [],
   "source": [
    "co_entity_dict = occurance_object.get_num_co_occurances(query_set=query_set)"
   ]
  },
  {
   "cell_type": "code",
   "execution_count": 132,
   "metadata": {
    "collapsed": true
   },
   "outputs": [],
   "source": [
    "# users specifices which co occurances they are interested in\n",
    "query_co_occurances = set(( 'trump', \"clinton\", 'paul ryan'))"
   ]
  },
  {
   "cell_type": "code",
   "execution_count": 133,
   "metadata": {
    "collapsed": false
   },
   "outputs": [
    {
     "data": {
      "text/plain": [
       "defaultdict(dict,\n",
       "            {'clinton': {'paul ryan': 51, 'trump': 51},\n",
       "             'paul ryan': {'clinton': 51, 'trump': 51},\n",
       "             'trump': {'clinton': 51, 'paul ryan': 51}})"
      ]
     },
     "execution_count": 133,
     "metadata": {},
     "output_type": "execute_result"
    }
   ],
   "source": [
    "co_occur_in_docs = occurance_object.get_num_co_occurances(query_co_occurances)\n",
    "co_occur_in_docs"
   ]
  },
  {
   "cell_type": "code",
   "execution_count": 124,
   "metadata": {
    "collapsed": false
   },
   "outputs": [
    {
     "name": "stderr",
     "output_type": "stream",
     "text": [
      "/Users/Alexander/anaconda3/lib/python3.5/site-packages/seaborn/matrix.py:143: DeprecationWarning: elementwise == comparison failed; this will raise an error in the future.\n",
      "  if xticklabels == []:\n",
      "/Users/Alexander/anaconda3/lib/python3.5/site-packages/seaborn/matrix.py:151: DeprecationWarning: elementwise == comparison failed; this will raise an error in the future.\n",
      "  if yticklabels == []:\n"
     ]
    },
    {
     "data": {
      "text/plain": [
       "<matplotlib.axes._subplots.AxesSubplot at 0x11936f748>"
      ]
     },
     "execution_count": 124,
     "metadata": {},
     "output_type": "execute_result"
    },
    {
     "data": {
      "image/png": "[encoded data removed]",
      "text/plain": [
       "<matplotlib.figure.Figure at 0x118c05400>"
      ]
     },
     "metadata": {},
     "output_type": "display_data"
    }
   ],
   "source": [
    "plot_occurances()"
   ]
  },
  {
   "cell_type": "code",
   "execution_count": 125,
   "metadata": {
    "collapsed": false
   },
   "outputs": [
    {
     "ename": "NameError",
     "evalue": "name 'get_num_co_occurances' is not defined",
     "output_type": "error",
     "traceback": [
      "\u001b[0;31m---------------------------------------------------------------------------\u001b[0m",
      "\u001b[0;31mNameError\u001b[0m                                 Traceback (most recent call last)",
      "\u001b[0;32m<ipython-input-125-23c95c8d6ce0>\u001b[0m in \u001b[0;36m<module>\u001b[0;34m()\u001b[0m\n\u001b[0;32m----> 1\u001b[0;31m co_entity_dict, co_entity_doc_ids_list = get_num_co_occurances(user_co_occurance_entities_set, \n\u001b[0m\u001b[1;32m      2\u001b[0m                                                                \u001b[0munique_entities_dict\u001b[0m\u001b[0;34m,\u001b[0m\u001b[0;34m\u001b[0m\u001b[0m\n\u001b[1;32m      3\u001b[0m                                                                \u001b[0mco_occurances_doc_ids\u001b[0m\u001b[0;34m,\u001b[0m\u001b[0;34m\u001b[0m\u001b[0m\n\u001b[1;32m      4\u001b[0m                                                               1)\n",
      "\u001b[0;31mNameError\u001b[0m: name 'get_num_co_occurances' is not defined"
     ]
    }
   ],
   "source": [
    " co_entity_dict, co_entity_doc_ids_list = get_num_co_occurances(user_co_occurance_entities_set, \n",
    "                                                                unique_entities_dict, \n",
    "                                                                co_occurances_doc_ids,\n",
    "                                                               1)"
   ]
  },
  {
   "cell_type": "code",
   "execution_count": 105,
   "metadata": {
    "collapsed": false
   },
   "outputs": [
    {
     "name": "stderr",
     "output_type": "stream",
     "text": [
      "/Users/Alexander/anaconda3/lib/python3.5/site-packages/seaborn/matrix.py:143: DeprecationWarning: elementwise == comparison failed; this will raise an error in the future.\n",
      "  if xticklabels == []:\n",
      "/Users/Alexander/anaconda3/lib/python3.5/site-packages/seaborn/matrix.py:151: DeprecationWarning: elementwise == comparison failed; this will raise an error in the future.\n",
      "  if yticklabels == []:\n"
     ]
    },
    {
     "data": {
      "text/plain": [
       "<matplotlib.axes._subplots.AxesSubplot at 0x11de77d68>"
      ]
     },
     "execution_count": 105,
     "metadata": {},
     "output_type": "execute_result"
    },
    {
     "data": {
      "image/png": "[encoded data removed]",
      "text/plain": [
       "<matplotlib.figure.Figure at 0x11dd15828>"
      ]
     },
     "metadata": {},
     "output_type": "display_data"
    }
   ],
   "source": [
    "mask = np.zeros_like( pd.DataFrame(co_entity_dict).fillna(0), dtype=np.bool)\n",
    "mask[np.triu_indices_from(mask)] = True\n",
    "\n",
    "# co-occurances of entities in docs within the corpus \n",
    "sns.heatmap(pd.DataFrame(co_entity_dict), mask=mask, annot=True, fmt=\"g\", linewidths=0.5,cmap='Blues')"
   ]
  },
  {
   "cell_type": "code",
   "execution_count": null,
   "metadata": {
    "collapsed": true
   },
   "outputs": [],
   "source": []
  },
  {
   "cell_type": "code",
   "execution_count": null,
   "metadata": {
    "collapsed": true
   },
   "outputs": [],
   "source": []
  },
  {
   "cell_type": "markdown",
   "metadata": {},
   "source": [
    "#### Ad-Hoc Queries\n",
    "\n",
    "Find out how many documents contain all of the user's entites. "
   ]
  },
  {
   "cell_type": "code",
   "execution_count": 71,
   "metadata": {
    "collapsed": true
   },
   "outputs": [],
   "source": [
    " co_occurances_doc_ids = get_docs_with_co_occurances(user_co_occurance_entities_set, unique_entities_dict)"
   ]
  },
  {
   "cell_type": "markdown",
   "metadata": {},
   "source": [
    "The user can now pull all the relavent documents from the corpus. "
   ]
  },
  {
   "cell_type": "code",
   "execution_count": 72,
   "metadata": {
    "collapsed": false
   },
   "outputs": [
    {
     "name": "stdout",
     "output_type": "stream",
     "text": [
      "[146, 4887, 4979, 792, 4958]\n"
     ]
    },
    {
     "data": {
      "text/plain": [
       "(None, 9)"
      ]
     },
     "execution_count": 72,
     "metadata": {},
     "output_type": "execute_result"
    }
   ],
   "source": [
    "# bernie and paul and clinton co-occur in all of these docs within the corpus\n",
    "print(co_occurances_doc_ids[0:5]), len(co_occurances_doc_ids)"
   ]
  },
  {
   "cell_type": "code",
   "execution_count": null,
   "metadata": {
    "collapsed": true
   },
   "outputs": [],
   "source": []
  },
  {
   "cell_type": "code",
   "execution_count": null,
   "metadata": {
    "collapsed": true
   },
   "outputs": [],
   "source": []
  },
  {
   "cell_type": "code",
   "execution_count": null,
   "metadata": {
    "collapsed": true
   },
   "outputs": [],
   "source": []
  },
  {
   "cell_type": "code",
   "execution_count": null,
   "metadata": {
    "collapsed": true
   },
   "outputs": [],
   "source": []
  },
  {
   "cell_type": "code",
   "execution_count": null,
   "metadata": {
    "collapsed": true
   },
   "outputs": [],
   "source": []
  }
 ],
 "metadata": {
  "anaconda-cloud": {},
  "kernelspec": {
   "display_name": "Python [conda root]",
   "language": "python",
   "name": "conda-root-py"
  },
  "language_info": {
   "codemirror_mode": {
    "name": "ipython",
    "version": 3
   },
   "file_extension": ".py",
   "mimetype": "text/x-python",
   "name": "python",
   "nbconvert_exporter": "python",
   "pygments_lexer": "ipython3",
   "version": "3.5.2"
  },
  "nbpresent": {
   "slides": {
    "032f06f6-030c-4c83-baa9-12dd8b3af8b3": {
     "id": "032f06f6-030c-4c83-baa9-12dd8b3af8b3",
     "prev": null,
     "regions": {
      "c7c31c19-918a-497f-a282-904e534354aa": {
       "attrs": {
        "height": 0.8,
        "width": 0.8,
        "x": 0.1,
        "y": 0.1
       },
       "content": {
        "cell": "d03ee0cc-9899-4575-813f-57cb3c17aaec",
        "part": "whole"
       },
       "id": "c7c31c19-918a-497f-a282-904e534354aa"
      }
     }
    },
    "0ae7ee44-a6cb-4ec3-8a74-8795e6376141": {
     "id": "0ae7ee44-a6cb-4ec3-8a74-8795e6376141",
     "prev": "30278d37-cfc7-4907-b741-00ba5f3421f6",
     "regions": {
      "883bc066-0f6a-4c25-8ba1-c193c58dfdf5": {
       "attrs": {
        "height": 0.8,
        "width": 0.8,
        "x": 0.1,
        "y": 0.1
       },
       "content": {
        "cell": "29fbef3b-964b-47d5-9a4f-2d2d2c84414e",
        "part": "whole"
       },
       "id": "883bc066-0f6a-4c25-8ba1-c193c58dfdf5"
      }
     }
    },
    "134040a9-1bae-4a10-916a-5d7c17a7fb76": {
     "id": "134040a9-1bae-4a10-916a-5d7c17a7fb76",
     "prev": "b11f1ef3-68e3-4f98-b78f-d9f52972a15d",
     "regions": {
      "18363ece-5acc-4c07-aef1-4fc40ca18d05": {
       "attrs": {
        "height": 0.8,
        "width": 0.8,
        "x": 0.1,
        "y": 0.1
       },
       "content": {
        "cell": "2da9ac4c-6728-48b2-aaa2-4c984963de88",
        "part": "whole"
       },
       "id": "18363ece-5acc-4c07-aef1-4fc40ca18d05"
      }
     }
    },
    "136c8cef-7c64-420e-a195-26644c4ae940": {
     "id": "136c8cef-7c64-420e-a195-26644c4ae940",
     "prev": "41f3cc81-52f7-4fb6-ac4a-4096e81ec02e",
     "regions": {
      "843cfccc-3e5a-4341-ada8-ad53f54ce876": {
       "attrs": {
        "height": 0.8,
        "width": 0.8,
        "x": 0.1,
        "y": 0.1
       },
       "content": {
        "cell": "fdfffd9d-e8ee-4dfc-9142-563a5bf789de",
        "part": "whole"
       },
       "id": "843cfccc-3e5a-4341-ada8-ad53f54ce876"
      }
     }
    },
    "183ff50d-3a62-443d-b22e-c148a7885d84": {
     "id": "183ff50d-3a62-443d-b22e-c148a7885d84",
     "prev": "b52ecd95-1a71-4050-ae02-2aa1e269a929",
     "regions": {
      "f217a4dd-6584-4ed5-b144-018c60fc071e": {
       "attrs": {
        "height": 0.8,
        "width": 0.8,
        "x": 0.1,
        "y": 0.1
       },
       "content": {
        "cell": "799a510b-db5e-4648-8bc8-33ee21c399e3",
        "part": "whole"
       },
       "id": "f217a4dd-6584-4ed5-b144-018c60fc071e"
      }
     }
    },
    "185ba9ff-c947-42ec-983a-a98de7aee5c4": {
     "id": "185ba9ff-c947-42ec-983a-a98de7aee5c4",
     "prev": "655bcc9b-a1c2-4302-959e-d314697c3b44",
     "regions": {
      "33b37008-f697-455f-ab69-7978724ea007": {
       "attrs": {
        "height": 0.8,
        "width": 0.8,
        "x": 0.1,
        "y": 0.1
       },
       "content": {
        "cell": "14a0fb6a-2851-46a5-9fb8-aae0d45ff205",
        "part": "whole"
       },
       "id": "33b37008-f697-455f-ab69-7978724ea007"
      }
     }
    },
    "1b211e3e-4c2d-4cac-af2c-cdfd13606a78": {
     "id": "1b211e3e-4c2d-4cac-af2c-cdfd13606a78",
     "prev": "e05e6b1c-e539-4ecb-98ef-b11faf6be91b",
     "regions": {
      "43947960-f36d-4be1-876c-5250a4edcb3a": {
       "attrs": {
        "height": 0.8,
        "width": 0.8,
        "x": 0.1,
        "y": 0.1
       },
       "content": {
        "cell": "1f158463-1403-4a88-828c-a4bf33e97d46",
        "part": "whole"
       },
       "id": "43947960-f36d-4be1-876c-5250a4edcb3a"
      }
     }
    },
    "1f3ea6ca-5c78-45d6-8adc-27b0968d7d7d": {
     "id": "1f3ea6ca-5c78-45d6-8adc-27b0968d7d7d",
     "prev": "65cccf81-4726-4601-89ea-390fd271eb04",
     "regions": {
      "3c7f56ee-b894-4aa3-8308-65bf35d43f3a": {
       "attrs": {
        "height": 0.8,
        "width": 0.8,
        "x": 0.1,
        "y": 0.1
       },
       "content": {
        "cell": "053d6799-19f1-4ac1-89dd-92efa607847c",
        "part": "whole"
       },
       "id": "3c7f56ee-b894-4aa3-8308-65bf35d43f3a"
      }
     }
    },
    "23104248-23af-45ff-bb44-5f68fc9b6df0": {
     "id": "23104248-23af-45ff-bb44-5f68fc9b6df0",
     "prev": "1b211e3e-4c2d-4cac-af2c-cdfd13606a78",
     "regions": {
      "954e0401-fa4a-4385-962e-bd290c31ad7d": {
       "attrs": {
        "height": 0.8,
        "width": 0.8,
        "x": 0.1,
        "y": 0.1
       },
       "content": {
        "cell": "f02496cf-ad86-4d43-8b12-d2d65e20d27c",
        "part": "whole"
       },
       "id": "954e0401-fa4a-4385-962e-bd290c31ad7d"
      }
     }
    },
    "2c961576-ba21-4d53-8afe-55a6458eb39f": {
     "id": "2c961576-ba21-4d53-8afe-55a6458eb39f",
     "prev": "ed7b61bb-1997-432b-aad4-3b338b9af5d5",
     "regions": {
      "04d6e2a0-9d7c-4f87-bdad-548a88d29ff3": {
       "attrs": {
        "height": 0.8,
        "width": 0.8,
        "x": 0.1,
        "y": 0.1
       },
       "content": {
        "cell": "eef5b468-0dc0-445c-b1e7-58fd28567c1a",
        "part": "whole"
       },
       "id": "04d6e2a0-9d7c-4f87-bdad-548a88d29ff3"
      }
     }
    },
    "30278d37-cfc7-4907-b741-00ba5f3421f6": {
     "id": "30278d37-cfc7-4907-b741-00ba5f3421f6",
     "prev": "183ff50d-3a62-443d-b22e-c148a7885d84",
     "regions": {
      "891f0476-5c21-4f87-a02d-5a4378a8f72a": {
       "attrs": {
        "height": 0.8,
        "width": 0.8,
        "x": 0.1,
        "y": 0.1
       },
       "content": {
        "cell": "987b6f36-1783-414d-90c2-c979ab734f5a",
        "part": "whole"
       },
       "id": "891f0476-5c21-4f87-a02d-5a4378a8f72a"
      }
     }
    },
    "41f3cc81-52f7-4fb6-ac4a-4096e81ec02e": {
     "id": "41f3cc81-52f7-4fb6-ac4a-4096e81ec02e",
     "prev": "ee650823-d6bf-45e3-baf9-36f4afe4fd96",
     "regions": {
      "0ab2d6cc-35ed-4f75-b45a-bf2915712533": {
       "attrs": {
        "height": 0.8,
        "width": 0.8,
        "x": 0.1,
        "y": 0.1
       },
       "content": {
        "cell": "e20eae31-63d3-4215-aa86-4b6e2ed3f2b3",
        "part": "whole"
       },
       "id": "0ab2d6cc-35ed-4f75-b45a-bf2915712533"
      }
     }
    },
    "5f9b4298-0108-4a2b-bffe-c56052514be3": {
     "id": "5f9b4298-0108-4a2b-bffe-c56052514be3",
     "prev": "f85f8355-db64-4e24-b0aa-0fcd4f543e4a",
     "regions": {
      "d5d40f40-6d49-410b-8af1-2851d21f8418": {
       "attrs": {
        "height": 0.8,
        "width": 0.8,
        "x": 0.1,
        "y": 0.1
       },
       "content": {
        "cell": "12a9fc78-7920-4510-a8a7-af05e93d9e79",
        "part": "whole"
       },
       "id": "d5d40f40-6d49-410b-8af1-2851d21f8418"
      }
     }
    },
    "655bcc9b-a1c2-4302-959e-d314697c3b44": {
     "id": "655bcc9b-a1c2-4302-959e-d314697c3b44",
     "prev": "134040a9-1bae-4a10-916a-5d7c17a7fb76",
     "regions": {
      "da0fb5bc-925d-4888-b699-6f7636aa9760": {
       "attrs": {
        "height": 0.8,
        "width": 0.8,
        "x": 0.1,
        "y": 0.1
       },
       "content": {
        "cell": "d8c6fb5f-5655-4f71-a254-fdcdb8725444",
        "part": "whole"
       },
       "id": "da0fb5bc-925d-4888-b699-6f7636aa9760"
      }
     }
    },
    "65cccf81-4726-4601-89ea-390fd271eb04": {
     "id": "65cccf81-4726-4601-89ea-390fd271eb04",
     "prev": "93f22efd-8856-4f53-9c06-00c2d94507da",
     "regions": {
      "e4bab738-99cf-443b-b9a8-2df5ef4eccbe": {
       "attrs": {
        "height": 0.8,
        "width": 0.8,
        "x": 0.1,
        "y": 0.1
       },
       "content": {
        "cell": "c2fa69ca-db89-4eb0-b2d6-9ec4dd33d5a4",
        "part": "whole"
       },
       "id": "e4bab738-99cf-443b-b9a8-2df5ef4eccbe"
      }
     }
    },
    "6e055f55-679e-48b3-ab90-b1464fd88eba": {
     "id": "6e055f55-679e-48b3-ab90-b1464fd88eba",
     "prev": "185ba9ff-c947-42ec-983a-a98de7aee5c4",
     "regions": {
      "5fa08bb9-7cf8-44ef-8d9e-8f5675d94520": {
       "attrs": {
        "height": 0.8,
        "width": 0.8,
        "x": 0.1,
        "y": 0.1
       },
       "content": {
        "cell": "265af97c-a794-4db8-b0a3-19788cab81f2",
        "part": "whole"
       },
       "id": "5fa08bb9-7cf8-44ef-8d9e-8f5675d94520"
      }
     }
    },
    "7d1875dc-7ccd-48c5-bcec-38dc903788dd": {
     "id": "7d1875dc-7ccd-48c5-bcec-38dc903788dd",
     "prev": "23104248-23af-45ff-bb44-5f68fc9b6df0",
     "regions": {
      "0af43bb5-cc7d-4b02-95d9-01c783b1df7b": {
       "attrs": {
        "height": 0.8,
        "width": 0.8,
        "x": 0.1,
        "y": 0.1
       },
       "content": {
        "cell": "d11b23d4-765c-4a34-bbaa-e68b07cf736e",
        "part": "whole"
       },
       "id": "0af43bb5-cc7d-4b02-95d9-01c783b1df7b"
      }
     }
    },
    "8e7c49c5-16cf-4e78-bf22-beac0d6099a8": {
     "id": "8e7c49c5-16cf-4e78-bf22-beac0d6099a8",
     "prev": "b90d7c69-8fbf-4583-99b3-db3d8a84aa24",
     "regions": {
      "22ac1ba9-8dc1-4b02-acc5-2aac5be9aca4": {
       "attrs": {
        "height": 0.8,
        "width": 0.8,
        "x": 0.1,
        "y": 0.1
       },
       "content": {
        "cell": "35474a6f-c057-4a75-a675-0652741e76d0",
        "part": "whole"
       },
       "id": "22ac1ba9-8dc1-4b02-acc5-2aac5be9aca4"
      }
     }
    },
    "93f22efd-8856-4f53-9c06-00c2d94507da": {
     "id": "93f22efd-8856-4f53-9c06-00c2d94507da",
     "prev": "ae4bccc0-fc83-445c-9ea8-aa300e3ad8f3",
     "regions": {
      "a8fe2947-194d-42b0-a340-1be49de26d32": {
       "attrs": {
        "height": 0.8,
        "width": 0.8,
        "x": 0.1,
        "y": 0.1
       },
       "content": {
        "cell": "937c7003-1313-4446-b5ee-b1674dad6e43",
        "part": "whole"
       },
       "id": "a8fe2947-194d-42b0-a340-1be49de26d32"
      }
     }
    },
    "a79c0aff-e06e-4ce3-b094-55946f3050e0": {
     "id": "a79c0aff-e06e-4ce3-b094-55946f3050e0",
     "prev": "2c961576-ba21-4d53-8afe-55a6458eb39f",
     "regions": {
      "63039265-92de-4bd7-aef9-80df9e4fd160": {
       "attrs": {
        "height": 0.8,
        "width": 0.8,
        "x": 0.1,
        "y": 0.1
       },
       "content": {
        "cell": "7351920b-6611-496a-a57f-01cd7fe190f0",
        "part": "whole"
       },
       "id": "63039265-92de-4bd7-aef9-80df9e4fd160"
      }
     }
    },
    "ae4bccc0-fc83-445c-9ea8-aa300e3ad8f3": {
     "id": "ae4bccc0-fc83-445c-9ea8-aa300e3ad8f3",
     "prev": "a79c0aff-e06e-4ce3-b094-55946f3050e0",
     "regions": {
      "3bed958e-b7df-45c6-9413-ae8016dc6275": {
       "attrs": {
        "height": 0.8,
        "width": 0.8,
        "x": 0.1,
        "y": 0.1
       },
       "content": {
        "cell": "227285a2-6cf7-494f-9e85-85c5c606e251",
        "part": "whole"
       },
       "id": "3bed958e-b7df-45c6-9413-ae8016dc6275"
      }
     }
    },
    "b11f1ef3-68e3-4f98-b78f-d9f52972a15d": {
     "id": "b11f1ef3-68e3-4f98-b78f-d9f52972a15d",
     "prev": "136c8cef-7c64-420e-a195-26644c4ae940",
     "regions": {
      "6fdea6ac-9b04-40e7-b856-785693308100": {
       "attrs": {
        "height": 0.8,
        "width": 0.8,
        "x": 0.1,
        "y": 0.1
       },
       "content": {
        "cell": "aed568cd-8017-40e0-8e28-8e7a813cb602",
        "part": "whole"
       },
       "id": "6fdea6ac-9b04-40e7-b856-785693308100"
      }
     }
    },
    "b52ecd95-1a71-4050-ae02-2aa1e269a929": {
     "id": "b52ecd95-1a71-4050-ae02-2aa1e269a929",
     "prev": "ff05e866-5e2d-45b1-acbe-0efcee695257",
     "regions": {
      "52820d49-e0b0-489d-9713-c185f0921344": {
       "attrs": {
        "height": 0.8,
        "width": 0.8,
        "x": 0.1,
        "y": 0.1
       },
       "content": {
        "cell": "ecf938f2-3097-46a0-a9b7-d7c01ff7d94d",
        "part": "whole"
       },
       "id": "52820d49-e0b0-489d-9713-c185f0921344"
      }
     }
    },
    "b90d7c69-8fbf-4583-99b3-db3d8a84aa24": {
     "id": "b90d7c69-8fbf-4583-99b3-db3d8a84aa24",
     "prev": "1f3ea6ca-5c78-45d6-8adc-27b0968d7d7d",
     "regions": {
      "fb8800b4-75c9-44e3-bbd5-6d3cb45e6c80": {
       "attrs": {
        "height": 0.8,
        "width": 0.8,
        "x": 0.1,
        "y": 0.1
       },
       "content": {
        "cell": "f0755788-a0b3-486e-a46f-2bbebe799afd",
        "part": "whole"
       },
       "id": "fb8800b4-75c9-44e3-bbd5-6d3cb45e6c80"
      }
     }
    },
    "e05e6b1c-e539-4ecb-98ef-b11faf6be91b": {
     "id": "e05e6b1c-e539-4ecb-98ef-b11faf6be91b",
     "prev": "032f06f6-030c-4c83-baa9-12dd8b3af8b3",
     "regions": {
      "f34baede-b1ed-483a-8ad5-fa46e63efb4b": {
       "attrs": {
        "height": 0.8,
        "width": 0.8,
        "x": 0.1,
        "y": 0.1
       },
       "content": {
        "cell": "55368403-b95c-47ed-8272-ad7e649842d3",
        "part": "whole"
       },
       "id": "f34baede-b1ed-483a-8ad5-fa46e63efb4b"
      }
     }
    },
    "eaa8b56e-5aeb-49c0-aed5-c684ed341ab2": {
     "id": "eaa8b56e-5aeb-49c0-aed5-c684ed341ab2",
     "prev": "7d1875dc-7ccd-48c5-bcec-38dc903788dd",
     "regions": {
      "cb261485-9bdc-4192-acbc-2cd13e5c3e62": {
       "attrs": {
        "height": 0.8,
        "width": 0.8,
        "x": 0.1,
        "y": 0.1
       },
       "content": {
        "cell": "78284d42-e31f-4173-a5b3-dbe1ab9df346",
        "part": "whole"
       },
       "id": "cb261485-9bdc-4192-acbc-2cd13e5c3e62"
      }
     }
    },
    "ed7b61bb-1997-432b-aad4-3b338b9af5d5": {
     "id": "ed7b61bb-1997-432b-aad4-3b338b9af5d5",
     "prev": "6e055f55-679e-48b3-ab90-b1464fd88eba",
     "regions": {
      "d3da464a-0596-4ec3-a4a0-ecb62dc09ee8": {
       "attrs": {
        "height": 0.8,
        "width": 0.8,
        "x": 0.1,
        "y": 0.1
       },
       "content": {
        "cell": "1e885973-0477-422d-afaa-f068b3b64820",
        "part": "whole"
       },
       "id": "d3da464a-0596-4ec3-a4a0-ecb62dc09ee8"
      }
     }
    },
    "ee650823-d6bf-45e3-baf9-36f4afe4fd96": {
     "id": "ee650823-d6bf-45e3-baf9-36f4afe4fd96",
     "prev": "eaa8b56e-5aeb-49c0-aed5-c684ed341ab2",
     "regions": {
      "b2d4b6c3-e2b6-407c-bce7-febe63d68828": {
       "attrs": {
        "height": 0.8,
        "width": 0.8,
        "x": 0.1,
        "y": 0.1
       },
       "content": {
        "cell": "3801145e-d6b9-444d-b3ec-a68d62e23d93",
        "part": "whole"
       },
       "id": "b2d4b6c3-e2b6-407c-bce7-febe63d68828"
      }
     }
    },
    "f85f8355-db64-4e24-b0aa-0fcd4f543e4a": {
     "id": "f85f8355-db64-4e24-b0aa-0fcd4f543e4a",
     "prev": "8e7c49c5-16cf-4e78-bf22-beac0d6099a8",
     "regions": {
      "291d6aac-a7a8-4532-9634-9b963e7fddaa": {
       "attrs": {
        "height": 0.8,
        "width": 0.8,
        "x": 0.1,
        "y": 0.1
       },
       "content": {
        "cell": "21bd0558-7c5b-4ba0-9ad5-7477d55e2357",
        "part": "whole"
       },
       "id": "291d6aac-a7a8-4532-9634-9b963e7fddaa"
      }
     }
    },
    "ff05e866-5e2d-45b1-acbe-0efcee695257": {
     "id": "ff05e866-5e2d-45b1-acbe-0efcee695257",
     "prev": "5f9b4298-0108-4a2b-bffe-c56052514be3",
     "regions": {
      "339340ed-9655-4409-8676-657f4972baf1": {
       "attrs": {
        "height": 0.8,
        "width": 0.8,
        "x": 0.1,
        "y": 0.1
       },
       "content": {
        "cell": "d8581023-6981-41ce-a797-97a3bc640e8f",
        "part": "whole"
       },
       "id": "339340ed-9655-4409-8676-657f4972baf1"
      }
     }
    }
   },
   "themes": {
    "default": "1dfecaab-6754-48e8-9fea-1c85ecc7466f",
    "theme": {
     "1dfecaab-6754-48e8-9fea-1c85ecc7466f": {
      "backgrounds": {
       "dc7afa04-bf90-40b1-82a5-726e3cff5267": {
        "background-color": "31af15d2-7e15-44c5-ab5e-e04b16a89eff",
        "id": "dc7afa04-bf90-40b1-82a5-726e3cff5267"
       }
      },
      "id": "1dfecaab-6754-48e8-9fea-1c85ecc7466f",
      "palette": {
       "19cc588f-0593-49c9-9f4b-e4d7cc113b1c": {
        "id": "19cc588f-0593-49c9-9f4b-e4d7cc113b1c",
        "rgb": [
         252,
         252,
         252
        ]
       },
       "31af15d2-7e15-44c5-ab5e-e04b16a89eff": {
        "id": "31af15d2-7e15-44c5-ab5e-e04b16a89eff",
        "rgb": [
         68,
         68,
         68
        ]
       },
       "50f92c45-a630-455b-aec3-788680ec7410": {
        "id": "50f92c45-a630-455b-aec3-788680ec7410",
        "rgb": [
         197,
         226,
         245
        ]
       },
       "c5cc3653-2ee1-402a-aba2-7caae1da4f6c": {
        "id": "c5cc3653-2ee1-402a-aba2-7caae1da4f6c",
        "rgb": [
         43,
         126,
         184
        ]
       },
       "efa7f048-9acb-414c-8b04-a26811511a21": {
        "id": "efa7f048-9acb-414c-8b04-a26811511a21",
        "rgb": [
         25.118061674008803,
         73.60176211453744,
         107.4819383259912
        ]
       }
      },
      "rules": {
       "a": {
        "color": "19cc588f-0593-49c9-9f4b-e4d7cc113b1c"
       },
       "blockquote": {
        "color": "50f92c45-a630-455b-aec3-788680ec7410",
        "font-size": 3
       },
       "code": {
        "font-family": "Anonymous Pro"
       },
       "h1": {
        "color": "19cc588f-0593-49c9-9f4b-e4d7cc113b1c",
        "font-family": "Merriweather",
        "font-size": 8
       },
       "h2": {
        "color": "19cc588f-0593-49c9-9f4b-e4d7cc113b1c",
        "font-family": "Merriweather",
        "font-size": 6
       },
       "h3": {
        "color": "50f92c45-a630-455b-aec3-788680ec7410",
        "font-family": "Lato",
        "font-size": 5.5
       },
       "h4": {
        "color": "c5cc3653-2ee1-402a-aba2-7caae1da4f6c",
        "font-family": "Lato",
        "font-size": 5
       },
       "h5": {
        "font-family": "Lato"
       },
       "h6": {
        "font-family": "Lato"
       },
       "h7": {
        "font-family": "Lato"
       },
       "li": {
        "color": "50f92c45-a630-455b-aec3-788680ec7410",
        "font-size": 3.25
       },
       "pre": {
        "font-family": "Anonymous Pro",
        "font-size": 4
       }
      },
      "text-base": {
       "color": "19cc588f-0593-49c9-9f4b-e4d7cc113b1c",
       "font-family": "Lato",
       "font-size": 4
      }
     }
    }
   }
  }
 },
 "nbformat": 4,
 "nbformat_minor": 1
}
