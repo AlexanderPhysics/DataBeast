{
 "cells": [
  {
   "cell_type": "code",
   "execution_count": 1,
   "metadata": {
    "collapsed": false,
    "nbpresent": {
     "id": "d03ee0cc-9899-4575-813f-57cb3c17aaec"
    }
   },
   "outputs": [],
   "source": [
    "import numpy as np\n",
    "import pandas as pd\n",
    "import matplotlib.pyplot as plt\n",
    "import matplotlib.patches as mpatches\n",
    "import seaborn as sb\n",
    "from sklearn.decomposition import LatentDirichletAllocation\n",
    "from sklearn.feature_extraction.text import CountVectorizer\n",
    "from sklearn.feature_extraction.stop_words import ENGLISH_STOP_WORDS\n",
    "from time import time\n",
    "from collections import Counter, defaultdict\n",
    "import nltk\n",
    "from pprint import pprint\n",
    "import copy\n",
    "\n",
    "import seaborn as sns\n",
    "from itertools import combinations\n",
    "\n",
    "\n",
    "import pickle\n",
    "from IPython.core.display import HTML\n",
    "\n",
    "import pymongo\n",
    "import pyLDAvis\n",
    "%matplotlib inline"
   ]
  },
  {
   "cell_type": "markdown",
   "metadata": {
    "nbpresent": {
     "id": "55368403-b95c-47ed-8272-ad7e649842d3"
    }
   },
   "source": [
    "![](http://www.listchallenges.com/f/lists/d7aacdae-74bd-42ff-b397-b73905b5867b.jpg)"
   ]
  },
  {
   "cell_type": "markdown",
   "metadata": {
    "nbpresent": {
     "id": "1f158463-1403-4a88-828c-a4bf33e97d46"
    }
   },
   "source": [
    "![](https://media.licdn.com/mpr/mpr/shrinknp_400_400/AAEAAQAAAAAAAASeAAAAJDA2YWEwZmFjLTg5MDgtNGE2OC04MTBhLTk3MzNiNGIxM2RkYQ.jpg)"
   ]
  },
  {
   "cell_type": "markdown",
   "metadata": {
    "nbpresent": {
     "id": "f02496cf-ad86-4d43-8b12-d2d65e20d27c"
    }
   },
   "source": [
    "### EDA - Presentation Version\n",
    "\n",
    "This notebook is a cleaned up version of **EDA - Scrapy Version**. Here we refactor scrapy code in order to increase efficiency and readability in preperation for production, as well as provide ample explanations for methodoogy and results. "
   ]
  },
  {
   "cell_type": "markdown",
   "metadata": {},
   "source": [
    "## Introduction\n",
    "\n",
    "**Machine learning (ML)** and **Natural Language Processing (NLP)** are technologies that are ubiquitous in startups because of their ability to structure, and extract analytics insights, from text data. ML and NLP can be used to build sentiment classification models, recommendation systems, and data-driven products. Here, we will leaverge ML and NLP to build a named entity search engine for New York Times (NYT) Articles. \n",
    "\n",
    "The goal of this work is to use unsurpervised ML to bring more structure to the articles using Topic Modeling, to identify and extract named entites from the articels using Entity Recognition, and finally to build an application that will help reveal relationships between named entites in the NYT corpus. \n",
    "\n"
   ]
  },
  {
   "cell_type": "markdown",
   "metadata": {
    "nbpresent": {
     "id": "d11b23d4-765c-4a34-bbaa-e68b07cf736e"
    }
   },
   "source": [
    "#### Import Data\n",
    "\n",
    "Here we import the NYT corpus from our database for unstructured data, MongoDB. The articles were [scraped](https://github.com/DataBeast03/DataBeast/blob/master/NYT_Articles/Srcape_NYT_Articles_2016.ipynb) from the NYT api and stored in [MongoDB](https://www.mongodb.com/). "
   ]
  },
  {
   "cell_type": "code",
   "execution_count": 2,
   "metadata": {
    "collapsed": false,
    "nbpresent": {
     "id": "78284d42-e31f-4173-a5b3-dbe1ab9df346"
    }
   },
   "outputs": [],
   "source": [
    "def get_data_from_mongodb(db_name, coll_name):\n",
    "    '''Returns documents from specifed database and collections in mongodb\n",
    "       Will try to return docs in pandas dataframe\n",
    "       If that fails, it will return a pointer to the data in mongo'''\n",
    "\n",
    "    # pull scraped articles out of mongodb \n",
    "    client = pymongo.MongoClient()\n",
    "    db = client.get_database(name = db_name)\n",
    "    pointer_to_mongo_data = db[coll_name].find()\n",
    "    \n",
    "    try:\n",
    "        # move articles to pandas\n",
    "        df = pd.DataFrame(list(pointer_to_mongo_data))\n",
    "        print (\"Successfull - returned a df\")\n",
    "    \n",
    "        return df\n",
    "    except: \n",
    "        print (\"Unsuccessfull - did not return a df\")\n",
    "        return pointer_to_mongo_data"
   ]
  },
  {
   "cell_type": "code",
   "execution_count": 3,
   "metadata": {
    "collapsed": false,
    "nbpresent": {
     "id": "3801145e-d6b9-444d-b3ec-a68d62e23d93"
    }
   },
   "outputs": [
    {
     "name": "stdout",
     "output_type": "stream",
     "text": [
      "Successfull - returned a df\n"
     ]
    }
   ],
   "source": [
    "db_name = \"nyt2016\"\n",
    "coll_name = \"articles\"\n",
    "df = get_data_from_mongodb(db_name, coll_name)"
   ]
  },
  {
   "cell_type": "markdown",
   "metadata": {},
   "source": [
    "#### Inspect Data"
   ]
  },
  {
   "cell_type": "markdown",
   "metadata": {},
   "source": [
    "The pandas dataframe shows that there is a lot of [metadata](https://en.wikipedia.org/wiki/Metadata) surrounding the actual articles, including the section that the article is from. "
   ]
  },
  {
   "cell_type": "code",
   "execution_count": 4,
   "metadata": {
    "collapsed": false
   },
   "outputs": [
    {
     "data": {
      "text/html": [
       "<div>\n",
       "<table border=\"1\" class=\"dataframe\">\n",
       "  <thead>\n",
       "    <tr style=\"text-align: right;\">\n",
       "      <th></th>\n",
       "      <th>_id</th>\n",
       "      <th>abstract</th>\n",
       "      <th>blog</th>\n",
       "      <th>body</th>\n",
       "      <th>byline</th>\n",
       "      <th>document_type</th>\n",
       "      <th>headline</th>\n",
       "      <th>keywords</th>\n",
       "      <th>lead_paragraph</th>\n",
       "      <th>multimedia</th>\n",
       "      <th>...</th>\n",
       "      <th>print_page</th>\n",
       "      <th>pub_date</th>\n",
       "      <th>section_name</th>\n",
       "      <th>slideshow_credits</th>\n",
       "      <th>snippet</th>\n",
       "      <th>source</th>\n",
       "      <th>subsection_name</th>\n",
       "      <th>type_of_material</th>\n",
       "      <th>web_url</th>\n",
       "      <th>word_count</th>\n",
       "    </tr>\n",
       "  </thead>\n",
       "  <tbody>\n",
       "    <tr>\n",
       "      <th>0</th>\n",
       "      <td>580ae247253f0a1d0316f71e</td>\n",
       "      <td>None</td>\n",
       "      <td>[]</td>\n",
       "      <td>TOKYO —  State-backed Japan Bank for Internati...</td>\n",
       "      <td>{'person': [], 'original': 'By REUTERS', 'orga...</td>\n",
       "      <td>article</td>\n",
       "      <td>{'print_headline': 'Japan to Lend to Sanctione...</td>\n",
       "      <td>[]</td>\n",
       "      <td>State-backed Japan Bank for International Coop...</td>\n",
       "      <td>[]</td>\n",
       "      <td>...</td>\n",
       "      <td>None</td>\n",
       "      <td>2016-10-21T23:51:28Z</td>\n",
       "      <td>Business Day</td>\n",
       "      <td>None</td>\n",
       "      <td>State-backed Japan Bank for International Coop...</td>\n",
       "      <td>Reuters</td>\n",
       "      <td>None</td>\n",
       "      <td>News</td>\n",
       "      <td>http://www.nytimes.com/reuters/2016/10/21/busi...</td>\n",
       "      <td>None</td>\n",
       "    </tr>\n",
       "    <tr>\n",
       "      <th>1</th>\n",
       "      <td>580adf45253f0a1d0316f71d</td>\n",
       "      <td>None</td>\n",
       "      <td>[]</td>\n",
       "      <td>INTERNATIONAL\\nBecause of an editing error, an...</td>\n",
       "      <td>[]</td>\n",
       "      <td>article</td>\n",
       "      <td>{'print_headline': 'Corrections', 'main': 'Cor...</td>\n",
       "      <td>[]</td>\n",
       "      <td>Corrections appearing in print on Saturday, Oc...</td>\n",
       "      <td>[]</td>\n",
       "      <td>...</td>\n",
       "      <td>None</td>\n",
       "      <td>2016-10-21T23:38:36Z</td>\n",
       "      <td>Corrections</td>\n",
       "      <td>None</td>\n",
       "      <td>Corrections appearing in print on Saturday, Oc...</td>\n",
       "      <td>The New York Times</td>\n",
       "      <td>None</td>\n",
       "      <td>News</td>\n",
       "      <td>http://www.nytimes.com/2016/10/22/pageoneplus/...</td>\n",
       "      <td>None</td>\n",
       "    </tr>\n",
       "  </tbody>\n",
       "</table>\n",
       "<p>2 rows × 21 columns</p>\n",
       "</div>"
      ],
      "text/plain": [
       "                        _id abstract blog  \\\n",
       "0  580ae247253f0a1d0316f71e     None   []   \n",
       "1  580adf45253f0a1d0316f71d     None   []   \n",
       "\n",
       "                                                body  \\\n",
       "0  TOKYO —  State-backed Japan Bank for Internati...   \n",
       "1  INTERNATIONAL\\nBecause of an editing error, an...   \n",
       "\n",
       "                                              byline document_type  \\\n",
       "0  {'person': [], 'original': 'By REUTERS', 'orga...       article   \n",
       "1                                                 []       article   \n",
       "\n",
       "                                            headline keywords  \\\n",
       "0  {'print_headline': 'Japan to Lend to Sanctione...       []   \n",
       "1  {'print_headline': 'Corrections', 'main': 'Cor...       []   \n",
       "\n",
       "                                      lead_paragraph multimedia    ...      \\\n",
       "0  State-backed Japan Bank for International Coop...         []    ...       \n",
       "1  Corrections appearing in print on Saturday, Oc...         []    ...       \n",
       "\n",
       "  print_page              pub_date  section_name slideshow_credits  \\\n",
       "0       None  2016-10-21T23:51:28Z  Business Day              None   \n",
       "1       None  2016-10-21T23:38:36Z   Corrections              None   \n",
       "\n",
       "                                             snippet              source  \\\n",
       "0  State-backed Japan Bank for International Coop...             Reuters   \n",
       "1  Corrections appearing in print on Saturday, Oc...  The New York Times   \n",
       "\n",
       "  subsection_name type_of_material  \\\n",
       "0            None             News   \n",
       "1            None             News   \n",
       "\n",
       "                                             web_url word_count  \n",
       "0  http://www.nytimes.com/reuters/2016/10/21/busi...       None  \n",
       "1  http://www.nytimes.com/2016/10/22/pageoneplus/...       None  \n",
       "\n",
       "[2 rows x 21 columns]"
      ]
     },
     "execution_count": 4,
     "metadata": {},
     "output_type": "execute_result"
    }
   ],
   "source": [
    "df.head(2)"
   ]
  },
  {
   "cell_type": "markdown",
   "metadata": {},
   "source": [
    "We can see that the article's publication dates range between October 5th to November 11th. These dates cover the 2nd and 3rd presidental debates as well as the election results. "
   ]
  },
  {
   "cell_type": "code",
   "execution_count": 22,
   "metadata": {
    "collapsed": false
   },
   "outputs": [
    {
     "data": {
      "text/plain": [
       "('2016-11-27T23:54:23+0000', '2016-10-05T22:03:14Z')"
      ]
     },
     "execution_count": 22,
     "metadata": {},
     "output_type": "execute_result"
    }
   ],
   "source": [
    "# range of publicatin dates of our articles \n",
    "df.pub_date.max(), df.pub_date.min()"
   ]
  },
  {
   "cell_type": "markdown",
   "metadata": {},
   "source": [
    "The print out below shows how many articles belong to each section. The top 3 most populated sections are U.S., World, and Business in that order. For the purpose of this prototype, we'll be focusing on the articles belonging to the U.S. section. Though the exact analysis and productization can be performed for the other sections. Indeed, that is the ultimate goal. "
   ]
  },
  {
   "cell_type": "code",
   "execution_count": 7,
   "metadata": {
    "collapsed": false
   },
   "outputs": [
    {
     "data": {
      "text/plain": [
       "Counter({'Arts': 1037,\n",
       "         'Automobiles': 13,\n",
       "         'Books': 180,\n",
       "         'Briefing': 94,\n",
       "         'Business Day': 3615,\n",
       "         'Corrections': 35,\n",
       "         'Crosswords & Games': 54,\n",
       "         'Education': 17,\n",
       "         'Fashion & Style': 348,\n",
       "         'Food': 102,\n",
       "         'Giving': 13,\n",
       "         'Health': 56,\n",
       "         'Job Market': 14,\n",
       "         'Magazine': 76,\n",
       "         'Movies': 157,\n",
       "         'N.Y. / Region': 354,\n",
       "         'NYT Now': 9,\n",
       "         'Obituaries': 1,\n",
       "         'Opinion': 727,\n",
       "         'Podcasts': 17,\n",
       "         'Public Editor': 8,\n",
       "         'Real Estate': 90,\n",
       "         'Science': 129,\n",
       "         'Sports': 3719,\n",
       "         'Style': 35,\n",
       "         'Sunday Review': 3,\n",
       "         'T Magazine': 82,\n",
       "         'Technology': 416,\n",
       "         'The Learning Network': 116,\n",
       "         'The Upshot': 66,\n",
       "         'Theater': 134,\n",
       "         'Times Insider': 45,\n",
       "         'Today’s Paper': 34,\n",
       "         'Travel': 85,\n",
       "         'U.S.': 6039,\n",
       "         'Universal': 2,\n",
       "         'Well': 92,\n",
       "         'World': 5947,\n",
       "         'Your Money': 44})"
      ]
     },
     "execution_count": 7,
     "metadata": {},
     "output_type": "execute_result"
    }
   ],
   "source": [
    "# count of how many articles are included in each section \n",
    "Counter(df.section_name)"
   ]
  },
  {
   "cell_type": "code",
   "execution_count": 9,
   "metadata": {
    "collapsed": false,
    "nbpresent": {
     "id": "e20eae31-63d3-4215-aa86-4b6e2ed3f2b3"
    }
   },
   "outputs": [],
   "source": [
    "# create masks that identify \"US\" articles from the sections\n",
    "US_section_mask = df.section_name == \"U.S.\"\n",
    "US_corpus_df = df[US_section_mask]\n",
    "US_corpus = US_corpus_df.body.values"
   ]
  },
  {
   "cell_type": "markdown",
   "metadata": {},
   "source": [
    "This is a print of a typical NYT article in the U.S. section. This article is short in length; the length of each article varies. We can already make several observations regarding topic modeling and named entities. For instance, this article is about a police shooting and the justice system. 2016 was a year many publicized police shootings. So it is reasonable to expect that the justice system or something similar will be a topic. Several named entites also appear in this article. \"Wisconsin\" is an example of a location entity and the officer's name \"Devon Kraemer\" is an example of a person entity and finally \"Brown Deer police\" is an example an organization entity. "
   ]
  },
  {
   "cell_type": "code",
   "execution_count": 12,
   "metadata": {
    "collapsed": false
   },
   "outputs": [
    {
     "name": "stdout",
     "output_type": "stream",
     "text": [
      "('BROWN DEER, Wis. —  A Wisconsin police officer faces a felony charge for '\n",
      " 'allegedly shooting and injuring an unarmed man in March after removing him '\n",
      " 'from a bus, according to a criminal complaint issued Friday.\\n'\n",
      " 'Brown Deer officer Devon Kraemer was charged with aggravated battery with '\n",
      " 'use of a dangerous weapon, the Milwaukee Journal Sentinel '\n",
      " '(https://goo.gl/uBTkcm ) reported. Authorities allege that Kraemer shot '\n",
      " '26-year-old Manuel Burnley while he was face down on the ground. Burnley is '\n",
      " 'black, while the two officers involved are white.\\n'\n",
      " 'Kraemer told officials she fired at Burnley because she feared for her '\n",
      " 'safety and that of her partner, the document says. Burnley was hospitalized '\n",
      " 'for nearly two weeks, lost part of a lung and the bullet remains inside him, '\n",
      " 'according to his attorney.\\n'\n",
      " 'The complaint says that a bus driver flagged down the officers because of an '\n",
      " 'argument with Burnley. Kraemer and her partner, Michael Leeman, allegedly '\n",
      " 'removed Burnley after he refused to leave the bus. With Burnley on his '\n",
      " 'stomach, Kraemer said she struggled to take control of his arm, drew her gun '\n",
      " \"and fired once into Burnley's back, according to the complaint.\\n\"\n",
      " \"A document filed by Burnley's attorney as a precursor to a civil suit says \"\n",
      " 'Burnley asked what had happened, and Leeman responded, \"We just shot you\" '\n",
      " 'and used a racial slur.\\n'\n",
      " \"An expert retained by prosecutors found that Kraemer's use of deadly force \"\n",
      " \"wasn't consistent with generally accepted use of force standards in \"\n",
      " 'Wisconsin or across the nation.\\n'\n",
      " 'Brown Deer police Chief Michael Kass said in a statement that Kraemer was '\n",
      " \"put on administrative leave with pay. She has five years' experience with \"\n",
      " 'the Brown Deer police, while Leeman has two years with the department.\\n'\n",
      " 'Kraemer, 27, faces up to 20 years in prison and $50,000 in fines. Court '\n",
      " \"records didn't list a defense attorney for Kraemer, who didn't immediately \"\n",
      " 'return a telephone message from The Associated Press requesting comment.')\n"
     ]
    }
   ],
   "source": [
    "pprint(US_corpus[12])"
   ]
  },
  {
   "cell_type": "markdown",
   "metadata": {},
   "source": [
    "## Topic Modeling"
   ]
  },
  {
   "cell_type": "markdown",
   "metadata": {
    "nbpresent": {
     "id": "fdfffd9d-e8ee-4dfc-9142-563a5bf789de"
    }
   },
   "source": [
    "The topic_model_distributions class has methods to fit Latent Dirichlet Allocation (LDA) for topic modeling and methods to get certain distributions that are necessary to visualize the LDA results using the pyLDAvis data viz tool. \n",
    "\n",
    "This class uses the sklearn implementation of LDA. To learn more about how this implementation works, visit the [documentaion](http://scikit-learn.org/stable/modules/generated/sklearn.decomposition.LatentDirichletAllocation.html) . \n",
    "\n",
    "LDA is an example of a probalistic unsurpervised machine learning model. To learn more about how LDA works, check out this [article](https://www.cs.princeton.edu/~blei/papers/Blei2011.pdf). \n",
    "\n",
    "Briefly, each article could potentialy belong to a whole set of topics. The above article about the police shooting could belong to several topics: police shootings, justice system, police brutality, Wisconsin, and Race in America. Upon reading the article, and all other articles in the corpus, you can develop an intution about the probabilitilies that an article belongs to one or another topic. For instance, you might conclude that there is a higher probability that this article belongs to the topic Justice System rather than the topic Wisconsin. LDA attemps to capture this intuition by assigning probabiliies to each topic based on the distribution of words it see in the article and in the corpus as a whole. "
   ]
  },
  {
   "cell_type": "code",
   "execution_count": 13,
   "metadata": {
    "collapsed": true,
    "nbpresent": {
     "id": "aed568cd-8017-40e0-8e28-8e7a813cb602"
    }
   },
   "outputs": [],
   "source": [
    "# write class that returns the 5 data objects we need for the data viz\n",
    "class topic_model_distributions(object):\n",
    "    '''This class fits Latent Dirichlet Allocation for topic modeling\n",
    "       and returns topic-term dist, doc-topic dist, and other distributions\n",
    "       needed for the pyLDAvis visulization.'''\n",
    "    \n",
    "    def __init__(self, term_freq_data, stopwords,n_topics):\n",
    "        \n",
    "        self.lda_model = None\n",
    "        self.term_freq_data = term_freq_data\n",
    "        self.stopwords = stopwords\n",
    "        self.doc_topic_dist = None\n",
    "        self.doc_lengths = None\n",
    "        self.vocab = None\n",
    "        self.doc_topic_probs = []\n",
    "        self.topic_indices = []\n",
    "        self.topic_word_count = dict()\n",
    "        self.topic_term_dists_dict = {}\n",
    "        self.topic_term_dists_matrix = None\n",
    "        self.smoothing_prob = 0.001\n",
    "        self.lda_model = LatentDirichletAllocation(n_topics=n_topics, \n",
    "                                           learning_method=\"online\", \n",
    "                                           n_jobs=3,\n",
    "                                           random_state=1234)        \n",
    "    def fit_lda(self):\n",
    "        self.lda_model.fit(self.term_freq_data)\n",
    "        \n",
    "    def set_doc_topic_dist(self):\n",
    "        self.doc_topic_dist = self.lda_model.transform(self.term_freq_data)\n",
    "        \n",
    "        \n",
    "        \n",
    "    def set_topic_weight_and_index_(self):\n",
    "        '''Sets probability that doc_i is a memeber of topic_j\n",
    "           Sets topic index for each doc, i.e. doc_i is a member of topic_j'''\n",
    "\n",
    "        for doc_probs in self.doc_topic_dist:\n",
    "            \n",
    "            # get topic index for each doc\n",
    "            topic_index = np.argmax(doc_probs)\n",
    "            self.topic_indices.append(topic_index)   \n",
    "            \n",
    "            # get probability that doc belongs to top topic\n",
    "            doc_topic_prob = doc_probs[topic_index]\n",
    "            self.doc_topic_probs.append(doc_topic_prob)\n",
    "\n",
    "\n",
    "        \n",
    "    def set_topic_word_count_(self):\n",
    "        '''Sets total number of words that appear in each topic'''\n",
    "\n",
    "        for doc_index, topic_index in enumerate(self.topic_indices):\n",
    "            if topic_index not in self.topic_word_count.keys():\n",
    "                self.topic_word_count[topic_index] = np.sum(self.term_freq_data[doc_index])\n",
    "            else:\n",
    "                self.topic_word_count[topic_index] += np.sum(self.term_freq_data[doc_index])\n",
    "              \n",
    "    def set_topic_term_matrix(self):\n",
    "        '''Sets the topic-term distribution matrix'''\n",
    "        \n",
    "        self.set_topic_weight_and_index_()\n",
    "        self.set_topic_word_count_()\n",
    "        \n",
    "        \n",
    "        # iterate through topics ids for all docs in corpus\n",
    "        for doc_index, topic_index in enumerate(self.topic_indices):\n",
    "            # term frequency for doc i of topic j \n",
    "            doc_i_term_freq = self.term_freq_data[doc_index].toarray()[0]\n",
    "            # normalized probabilities of words in doc i of topicj \n",
    "            # i.e. these words now have probs that correspond to their prob of appear in topic j\n",
    "            doc_i_term_freq_normalized = doc_i_term_freq/self.topic_word_count[topic_index] \n",
    "\n",
    "            if topic_index not in self.topic_term_dists_dict.keys():\n",
    "                self.topic_term_dists_dict[topic_index] = doc_i_term_freq_normalized\n",
    "            else:\n",
    "                self.topic_term_dists_dict[topic_index] += doc_i_term_freq_normalized\n",
    "\n",
    "        self.topic_term_dists_matrix = np.vstack(self.topic_term_dists_dict.values())        \n",
    "\n",
    "        \n",
    "    def get_doc_topic_dist(self):\n",
    "        '''Returns the doc topic probability distributions'''\n",
    "        return  self.doc_topic_dist\n",
    "    \n",
    "    def get_topic_term_matrix(self):\n",
    "        \"\"\"Returns the topic-term probability distribution matrix\"\"\"\n",
    "        return self.topic_term_dists_matrix\n",
    "    \n",
    "    def get_doc_lengths(self):\n",
    "        '''Returns the number of words in each document'''\n",
    "        # doc_lengths  -  the number of words in each document - shape `n_docs`\n",
    "        return [doc.sum() for doc in self.term_freq_data]\n",
    "        \n"
   ]
  },
  {
   "cell_type": "markdown",
   "metadata": {},
   "source": [
    "#### Vectorize Corpus\n",
    "\n",
    "Due to the way in which LDA works, we have to vectorize our corpus into a [Bag-of-Words model](https://en.wikipedia.org/wiki/Bag-of-words_model)."
   ]
  },
  {
   "cell_type": "code",
   "execution_count": 14,
   "metadata": {
    "collapsed": false,
    "nbpresent": {
     "id": "2da9ac4c-6728-48b2-aaa2-4c984963de88"
    }
   },
   "outputs": [],
   "source": [
    "# get term freq\n",
    "count_vectorizer = CountVectorizer(stop_words=ENGLISH_STOP_WORDS)\n",
    "termFreq = count_vectorizer.fit_transform(US_corpus)"
   ]
  },
  {
   "cell_type": "markdown",
   "metadata": {},
   "source": [
    "#### Instantiate and fit topic_model_distributions class"
   ]
  },
  {
   "cell_type": "code",
   "execution_count": 15,
   "metadata": {
    "collapsed": false,
    "nbpresent": {
     "id": "d8c6fb5f-5655-4f71-a254-fdcdb8725444"
    }
   },
   "outputs": [
    {
     "name": "stdout",
     "output_type": "stream",
     "text": [
      "1.344 minutes \n"
     ]
    }
   ],
   "source": [
    "tmdist_object = topic_model_distributions(termFreq, \n",
    "                                          ENGLISH_STOP_WORDS, \n",
    "                                          n_topics=5)\n",
    "start = time()\n",
    "tmdist_object.fit_lda()\n",
    "tmdist_object.set_doc_topic_dist()\n",
    "tmdist_object.set_topic_term_matrix()\n",
    "end = time()\n",
    "print ( \"{:.4} minutes \".format((end - start )/60 ) )"
   ]
  },
  {
   "cell_type": "markdown",
   "metadata": {},
   "source": [
    "#### Get topic, doc, article, distributions"
   ]
  },
  {
   "cell_type": "code",
   "execution_count": 16,
   "metadata": {
    "collapsed": false,
    "nbpresent": {
     "id": "14a0fb6a-2851-46a5-9fb8-aae0d45ff205"
    }
   },
   "outputs": [
    {
     "name": "stdout",
     "output_type": "stream",
     "text": [
      "0.01798 minutes \n"
     ]
    }
   ],
   "source": [
    "start = time()\n",
    "doc_topic_dist = tmdist_object.get_doc_topic_dist()\n",
    "topic_term_dist = tmdist_object.get_topic_term_matrix()\n",
    "doc_lengths = tmdist_object.get_doc_lengths()\n",
    "topic_ids = tmdist_object.topic_indices\n",
    "end = time()\n",
    "print ( \"{:.4} minutes \".format((end - start )/60 ) )"
   ]
  },
  {
   "cell_type": "code",
   "execution_count": 17,
   "metadata": {
    "collapsed": true,
    "nbpresent": {
     "id": "265af97c-a794-4db8-b0a3-19788cab81f2"
    }
   },
   "outputs": [],
   "source": [
    "# vocab             -  List of all the words in the corpus  -  shape `n_terms`\n",
    "vocab = count_vectorizer.get_feature_names()\n",
    "\n",
    "# term_frequency    -  The count of each particular term over the entire corpus. \n",
    "#                      The ordering of these counts should correspond with `vocab` and `topic_term_dists`.\n",
    "term_frequency = termFreq.toarray().sum(axis = 0)"
   ]
  },
  {
   "cell_type": "markdown",
   "metadata": {},
   "source": [
    "### Topic Modeling Via Data Viz"
   ]
  },
  {
   "cell_type": "code",
   "execution_count": 19,
   "metadata": {
    "collapsed": false,
    "nbpresent": {
     "id": "eef5b468-0dc0-445c-b1e7-58fd28567c1a"
    }
   },
   "outputs": [],
   "source": [
    "pyLDAvis.enable_notebook()\n",
    "\n",
    "prepared_data = \\\n",
    "pyLDAvis.prepare(topic_term_dists = topic_term_dist,\n",
    "                 doc_topic_dists=doc_topic_dist,\n",
    "                 doc_lengths=doc_lengths, \n",
    "                 vocab=vocab,\n",
    "                 term_frequency=term_frequency)"
   ]
  },
  {
   "cell_type": "markdown",
   "metadata": {},
   "source": [
    "\n",
    "The following data viz was downloaded from [here](https://github.com/bmabey/pyLDAvis). \n",
    "\n",
    "The dashboard has two visualizations: the left one shows how spatially seperated the topics are, the right one shows the term frequencies in each topic for the top-30 most salient terms. The side bar on the top right allows us to adjust the relevance of each topic: a 1 means we only want to consider the probability of seeing a word given the topic, a zero means that we only want to consider the probability of see a word given the corpus. To learn more about what Saliency and Relevance means, check out the links at the bottom right of the dashboard. \n",
    "\n",
    "This visualization helps think of which labels are most descriptive of each topic. We can topics three, two, and five are very distinct. While topics four and one partially overlap. By selecting the third topic, we can see the distribution of terms in that topic. The top-30 most relevant terms are all highly related to each other: police, court, officers, attorney, judge, case, shooting, and so on. Also, with the exception, of the five terms, almost all other terms have about the same frequencies. We can also hover the curser above each of the 30 terms and see how the area of the topic circles (on the left) grow or shrink in size. Hovering over police and officer resutls in a dramatic increase in the area of the topic 3, indiciating that these terms are highly indicative of the topic. \n",
    "\n",
    "This leads us to conclude that a suitable topic label for topic three is Justice System. This label is not soo broad that it loses meaning, but also not so narrow that we'll likely to find articles in the topic that are unrelated to the topic label. \n",
    "\n",
    "A similar reasoning processes is used to label the remaining topics. "
   ]
  },
  {
   "cell_type": "code",
   "execution_count": 50,
   "metadata": {
    "collapsed": true
   },
   "outputs": [],
   "source": [
    "pyLDAvis.save_html(prepared_data, open('pyLDAvis_viz.html', 'w'))"
   ]
  },
  {
   "cell_type": "code",
   "execution_count": 20,
   "metadata": {
    "collapsed": false,
    "nbpresent": {
     "id": "7351920b-6611-496a-a57f-01cd7fe190f0"
    }
   },
   "outputs": [
    {
     "data": {
      "text/html": [
       "\n",
       "<link rel=\"stylesheet\" type=\"text/css\" href=\"https://cdn.rawgit.com/bmabey/pyLDAvis/files/ldavis.v1.0.0.css\">\n",
       "\n",
       "\n",
       "<div id=\"ldavis_el272549632615604402787305\"></div>\n",
       "<script type=\"text/javascript\">\n",
       "\n",
       "var ldavis_el272549632615604402787305_data = {\"topic.order\": [4, 5, 1, 2, 3], \"tinfo\": {\"Category\": [\"Default\", \"Default\", \"Default\", \"Default\", \"Default\", \"Default\", \"Default\", \"Default\", \"Default\", \"Default\", \"Default\", \"Default\", \"Default\", \"Default\", \"Default\", \"Default\", \"Default\", \"Default\", \"Default\", \"Default\", \"Default\", \"Default\", \"Default\", \"Default\", \"Default\", \"Default\", \"Default\", \"Default\", \"Default\", \"Default\", \"Topic1\", \"Topic1\", \"Topic1\", \"Topic1\", \"Topic1\", \"Topic1\", \"Topic1\", \"Topic1\", \"Topic1\", \"Topic1\", \"Topic1\", \"Topic1\", \"Topic1\", \"Topic1\", \"Topic1\", \"Topic1\", \"Topic1\", \"Topic1\", \"Topic1\", \"Topic1\", \"Topic1\", \"Topic1\", \"Topic1\", \"Topic1\", \"Topic1\", \"Topic1\", \"Topic1\", \"Topic1\", \"Topic1\", \"Topic1\", \"Topic1\", \"Topic1\", \"Topic1\", \"Topic1\", \"Topic1\", \"Topic1\", \"Topic1\", \"Topic1\", \"Topic1\", \"Topic1\", \"Topic1\", \"Topic1\", \"Topic1\", \"Topic1\", \"Topic1\", \"Topic1\", \"Topic1\", \"Topic1\", \"Topic1\", \"Topic1\", \"Topic1\", \"Topic1\", \"Topic1\", \"Topic1\", \"Topic1\", \"Topic1\", \"Topic1\", \"Topic1\", \"Topic1\", \"Topic1\", \"Topic1\", \"Topic1\", \"Topic1\", \"Topic1\", \"Topic1\", \"Topic1\", \"Topic1\", \"Topic1\", \"Topic1\", \"Topic1\", \"Topic1\", \"Topic1\", \"Topic1\", \"Topic1\", \"Topic1\", \"Topic1\", \"Topic1\", \"Topic1\", \"Topic1\", \"Topic1\", \"Topic1\", \"Topic1\", \"Topic1\", \"Topic1\", \"Topic1\", \"Topic1\", \"Topic1\", \"Topic1\", \"Topic1\", \"Topic1\", \"Topic1\", \"Topic1\", \"Topic1\", \"Topic1\", \"Topic1\", \"Topic1\", \"Topic1\", \"Topic1\", \"Topic1\", \"Topic1\", \"Topic1\", \"Topic1\", \"Topic1\", \"Topic1\", \"Topic1\", \"Topic1\", \"Topic1\", \"Topic1\", \"Topic1\", \"Topic1\", \"Topic1\", \"Topic1\", \"Topic1\", \"Topic1\", \"Topic1\", \"Topic1\", \"Topic1\", \"Topic1\", \"Topic1\", \"Topic1\", \"Topic1\", \"Topic1\", \"Topic1\", \"Topic1\", \"Topic1\", \"Topic1\", \"Topic1\", \"Topic1\", \"Topic1\", \"Topic2\", \"Topic2\", \"Topic2\", \"Topic2\", \"Topic2\", \"Topic2\", \"Topic2\", \"Topic2\", \"Topic2\", \"Topic2\", \"Topic2\", \"Topic2\", \"Topic2\", \"Topic2\", \"Topic2\", \"Topic2\", \"Topic2\", \"Topic2\", \"Topic2\", \"Topic2\", \"Topic2\", \"Topic2\", \"Topic2\", \"Topic2\", \"Topic2\", \"Topic2\", \"Topic2\", \"Topic2\", \"Topic2\", \"Topic2\", \"Topic2\", \"Topic2\", \"Topic2\", \"Topic2\", \"Topic2\", \"Topic2\", \"Topic2\", \"Topic2\", \"Topic2\", \"Topic2\", \"Topic2\", \"Topic2\", \"Topic2\", \"Topic2\", \"Topic2\", \"Topic2\", \"Topic2\", \"Topic2\", \"Topic2\", \"Topic2\", \"Topic2\", \"Topic2\", \"Topic2\", \"Topic2\", \"Topic2\", \"Topic2\", \"Topic2\", \"Topic2\", \"Topic2\", \"Topic2\", \"Topic2\", \"Topic2\", \"Topic2\", \"Topic2\", \"Topic2\", \"Topic2\", \"Topic2\", \"Topic2\", \"Topic2\", \"Topic2\", \"Topic2\", \"Topic2\", \"Topic2\", \"Topic2\", \"Topic2\", \"Topic2\", \"Topic2\", \"Topic2\", \"Topic2\", \"Topic2\", \"Topic2\", \"Topic2\", \"Topic2\", \"Topic2\", \"Topic2\", \"Topic2\", \"Topic2\", \"Topic2\", \"Topic2\", \"Topic2\", \"Topic2\", \"Topic2\", \"Topic2\", \"Topic2\", \"Topic2\", \"Topic2\", \"Topic2\", \"Topic2\", \"Topic2\", \"Topic2\", \"Topic2\", \"Topic2\", \"Topic2\", \"Topic2\", \"Topic2\", \"Topic2\", \"Topic2\", \"Topic2\", \"Topic2\", \"Topic2\", \"Topic2\", \"Topic2\", \"Topic2\", \"Topic2\", \"Topic2\", \"Topic2\", \"Topic2\", \"Topic2\", \"Topic2\", \"Topic2\", \"Topic2\", \"Topic2\", \"Topic2\", \"Topic2\", \"Topic2\", \"Topic2\", \"Topic2\", \"Topic2\", \"Topic2\", \"Topic2\", \"Topic2\", \"Topic2\", \"Topic2\", \"Topic2\", \"Topic2\", \"Topic2\", \"Topic3\", \"Topic3\", \"Topic3\", \"Topic3\", \"Topic3\", \"Topic3\", \"Topic3\", \"Topic3\", \"Topic3\", \"Topic3\", \"Topic3\", \"Topic3\", \"Topic3\", \"Topic3\", \"Topic3\", \"Topic3\", \"Topic3\", \"Topic3\", \"Topic3\", \"Topic3\", \"Topic3\", \"Topic3\", \"Topic3\", \"Topic3\", \"Topic3\", \"Topic3\", \"Topic3\", \"Topic3\", \"Topic3\", \"Topic3\", \"Topic3\", \"Topic3\", \"Topic3\", \"Topic3\", \"Topic3\", \"Topic3\", \"Topic3\", \"Topic3\", \"Topic3\", \"Topic3\", \"Topic3\", \"Topic3\", \"Topic3\", \"Topic3\", \"Topic3\", \"Topic3\", \"Topic3\", \"Topic3\", \"Topic3\", \"Topic3\", \"Topic3\", \"Topic3\", \"Topic3\", \"Topic3\", \"Topic3\", \"Topic3\", \"Topic3\", \"Topic3\", \"Topic3\", \"Topic3\", \"Topic3\", \"Topic3\", \"Topic3\", \"Topic3\", \"Topic3\", \"Topic3\", \"Topic3\", \"Topic3\", \"Topic3\", \"Topic3\", \"Topic3\", \"Topic3\", \"Topic3\", \"Topic3\", \"Topic3\", \"Topic3\", \"Topic3\", \"Topic3\", \"Topic3\", \"Topic3\", \"Topic3\", \"Topic3\", \"Topic3\", \"Topic3\", \"Topic3\", \"Topic3\", \"Topic3\", \"Topic3\", \"Topic3\", \"Topic3\", \"Topic3\", \"Topic3\", \"Topic3\", \"Topic3\", \"Topic3\", \"Topic3\", \"Topic3\", \"Topic3\", \"Topic3\", \"Topic3\", \"Topic3\", \"Topic3\", \"Topic3\", \"Topic3\", \"Topic3\", \"Topic3\", \"Topic3\", \"Topic3\", \"Topic3\", \"Topic3\", \"Topic3\", \"Topic3\", \"Topic3\", \"Topic3\", \"Topic4\", \"Topic4\", \"Topic4\", \"Topic4\", \"Topic4\", \"Topic4\", \"Topic4\", \"Topic4\", \"Topic4\", \"Topic4\", \"Topic4\", \"Topic4\", \"Topic4\", \"Topic4\", \"Topic4\", \"Topic4\", \"Topic4\", \"Topic4\", \"Topic4\", \"Topic4\", \"Topic4\", \"Topic4\", \"Topic4\", \"Topic4\", \"Topic4\", \"Topic4\", \"Topic4\", \"Topic4\", \"Topic4\", \"Topic4\", \"Topic4\", \"Topic4\", \"Topic4\", \"Topic4\", \"Topic4\", \"Topic4\", \"Topic4\", \"Topic4\", \"Topic4\", \"Topic4\", \"Topic4\", \"Topic4\", \"Topic4\", \"Topic4\", \"Topic4\", \"Topic4\", \"Topic4\", \"Topic4\", \"Topic4\", \"Topic4\", \"Topic4\", \"Topic4\", \"Topic4\", \"Topic4\", \"Topic4\", \"Topic4\", \"Topic4\", \"Topic4\", \"Topic4\", \"Topic4\", \"Topic4\", \"Topic4\", \"Topic4\", \"Topic4\", \"Topic4\", \"Topic4\", \"Topic4\", \"Topic4\", \"Topic4\", \"Topic4\", \"Topic4\", \"Topic4\", \"Topic4\", \"Topic4\", \"Topic4\", \"Topic4\", \"Topic4\", \"Topic4\", \"Topic4\", \"Topic4\", \"Topic4\", \"Topic4\", \"Topic4\", \"Topic4\", \"Topic4\", \"Topic4\", \"Topic4\", \"Topic4\", \"Topic4\", \"Topic4\", \"Topic4\", \"Topic4\", \"Topic4\", \"Topic4\", \"Topic4\", \"Topic4\", \"Topic4\", \"Topic4\", \"Topic4\", \"Topic4\", \"Topic4\", \"Topic4\", \"Topic4\", \"Topic4\", \"Topic4\", \"Topic4\", \"Topic4\", \"Topic4\", \"Topic5\", \"Topic5\", \"Topic5\", \"Topic5\", \"Topic5\", \"Topic5\", \"Topic5\", \"Topic5\", \"Topic5\", \"Topic5\", \"Topic5\", \"Topic5\", \"Topic5\", \"Topic5\", \"Topic5\", \"Topic5\", \"Topic5\", \"Topic5\", \"Topic5\", \"Topic5\", \"Topic5\", \"Topic5\", \"Topic5\", \"Topic5\", \"Topic5\", \"Topic5\", \"Topic5\", \"Topic5\", \"Topic5\", \"Topic5\", \"Topic5\", \"Topic5\", \"Topic5\", \"Topic5\", \"Topic5\", \"Topic5\", \"Topic5\", \"Topic5\", \"Topic5\", \"Topic5\", \"Topic5\", \"Topic5\", \"Topic5\", \"Topic5\", \"Topic5\", \"Topic5\", \"Topic5\", \"Topic5\", \"Topic5\", \"Topic5\", \"Topic5\", \"Topic5\", \"Topic5\", \"Topic5\", \"Topic5\", \"Topic5\", \"Topic5\", \"Topic5\", \"Topic5\", \"Topic5\", \"Topic5\", \"Topic5\", \"Topic5\", \"Topic5\", \"Topic5\", \"Topic5\", \"Topic5\", \"Topic5\", \"Topic5\", \"Topic5\", \"Topic5\", \"Topic5\", \"Topic5\", \"Topic5\", \"Topic5\", \"Topic5\", \"Topic5\", \"Topic5\", \"Topic5\", \"Topic5\", \"Topic5\", \"Topic5\", \"Topic5\", \"Topic5\", \"Topic5\", \"Topic5\", \"Topic5\", \"Topic5\", \"Topic5\", \"Topic5\", \"Topic5\", \"Topic5\", \"Topic5\", \"Topic5\", \"Topic5\", \"Topic5\", \"Topic5\", \"Topic5\", \"Topic5\", \"Topic5\", \"Topic5\", \"Topic5\", \"Topic5\", \"Topic5\", \"Topic5\", \"Topic5\", \"Topic5\", \"Topic5\", \"Topic5\", \"Topic5\", \"Topic5\", \"Topic5\", \"Topic5\", \"Topic5\", \"Topic5\", \"Topic5\", \"Topic5\", \"Topic5\", \"Topic5\", \"Topic5\", \"Topic5\", \"Topic5\", \"Topic5\", \"Topic5\", \"Topic5\"], \"loglift\": [30.0, 29.0, 28.0, 27.0, 26.0, 25.0, 24.0, 23.0, 22.0, 21.0, 20.0, 19.0, 18.0, 17.0, 16.0, 15.0, 14.0, 13.0, 12.0, 11.0, 10.0, 9.0, 8.0, 7.0, 6.0, 5.0, 4.0, 3.0, 2.0, 1.0, 1.3737, 1.3737, 1.3737, 1.3737, 1.3737, 1.3737, 1.3737, 1.3737, 1.3737, 1.3737, 1.3737, 1.3737, 1.3737, 1.3737, 1.3737, 1.3737, 1.3737, 1.3737, 1.3737, 1.3737, 1.3737, 1.3737, 1.3737, 1.3737, 1.3737, 1.3737, 1.3737, 1.3737, 1.3737, 1.3737, 1.3737, 1.3737, 1.3737, 1.3737, 1.3737, 1.3737, 1.3737, 1.3737, 1.3737, 1.3737, 1.3737, 1.3737, 1.3737, 1.3737, 1.3737, 1.3737, 1.3737, 1.3737, 1.3737, 1.3737, 1.3737, 1.3737, 1.3737, 1.3737, 1.3737, 1.3737, 1.3737, 1.3737, 1.3737, 1.3737, 1.3298, 1.3423, 1.3132, 1.3117, 1.3553, 1.2813, 1.3395, 1.3537, 1.3523, 1.3412, 1.3218, 1.237, 1.252, 1.2738, 1.207, 1.3271, 1.153, 1.2271, 1.248, 1.1043, 1.292, 1.2003, 1.1807, 1.1641, 1.2618, 1.1676, 1.2804, 1.1504, 1.1426, 1.1911, 1.2552, 0.7909, 0.8221, 1.1351, 1.0131, 1.1085, 0.927, 1.1456, 1.1344, 0.7464, 0.4648, 0.9412, 0.5181, 0.5432, 0.754, 0.6023, -0.0719, 0.6573, 0.5715, 0.6685, 0.5186, 0.43, 0.3355, 0.031, 0.1129, 0.3473, -0.0648, 0.4229, 0.346, 0.2716, -0.3015, 0.3562, 0.0902, 0.166, 0.3163, 0.3126, -0.007, -0.5703, -0.1735, 1.4952, 1.4952, 1.4952, 1.4952, 1.4952, 1.4952, 1.4952, 1.4952, 1.4952, 1.4952, 1.4952, 1.4952, 1.4952, 1.4952, 1.4952, 1.4952, 1.4952, 1.4952, 1.4952, 1.4952, 1.4952, 1.4952, 1.4952, 1.4952, 1.4952, 1.4952, 1.4952, 1.4952, 1.4952, 1.4952, 1.4952, 1.4952, 1.4952, 1.4952, 1.4952, 1.4952, 1.4952, 1.4952, 1.4952, 1.4952, 1.4952, 1.4952, 1.4952, 1.4952, 1.4952, 1.4952, 1.4952, 1.4952, 1.4952, 1.4952, 1.4952, 1.4952, 1.4952, 1.4952, 1.4952, 1.4952, 1.4952, 1.4952, 1.4952, 1.4952, 1.4692, 1.4553, 1.4749, 1.4748, 1.4811, 1.4809, 1.4556, 1.4689, 1.4529, 1.3697, 1.4614, 1.4395, 1.4656, 1.4667, 1.4215, 1.4373, 1.407, 1.3867, 1.4122, 1.427, 1.3973, 1.3678, 1.2881, 1.3503, 1.3123, 1.3985, 1.4148, 1.3268, 1.2513, 1.2787, 1.3505, 1.248, 1.2277, 1.3337, 1.2942, 1.2415, 1.1181, 1.0324, 0.8997, 1.2141, 1.0223, 1.1446, 1.0145, 1.1925, 1.1193, 1.061, 0.8754, 0.9841, 0.0565, 0.8875, 1.1473, 0.6544, 0.354, 0.5944, 0.2648, 0.5426, 0.1802, 0.9952, 0.0008, 0.8898, 0.3786, 0.152, 0.7997, 0.322, 0.4594, 0.1023, 0.2811, 0.0522, -0.0507, 0.2555, -0.1622, 0.0104, 0.255, 0.0748, -0.1444, -1.6332, 1.5177, 1.5177, 1.5177, 1.5177, 1.5177, 1.5177, 1.5177, 1.5177, 1.5177, 1.5177, 1.5177, 1.5177, 1.5177, 1.5177, 1.5177, 1.5177, 1.5177, 1.5177, 1.5177, 1.5177, 1.5177, 1.5177, 1.5177, 1.5177, 1.5177, 1.5177, 1.5177, 1.5177, 1.5177, 1.5177, 1.5177, 1.5177, 1.5177, 1.5177, 1.5177, 1.5177, 1.5177, 1.5177, 1.5177, 1.5177, 1.5177, 1.5177, 1.5177, 1.5177, 1.5177, 1.5177, 1.5177, 1.5177, 1.5177, 1.5177, 1.5177, 1.5177, 1.5177, 1.5177, 1.5177, 1.5177, 1.5177, 1.5177, 1.5177, 1.5177, 1.491, 1.4914, 1.4997, 1.5005, 1.4558, 1.4353, 1.4752, 1.494, 1.5028, 1.4445, 1.2674, 1.3608, 1.3988, 1.3144, 1.3179, 1.3527, 1.2507, 1.453, 1.2818, 1.2368, 1.3205, 1.3999, 1.3453, 1.1861, 1.3534, 1.0931, 1.1637, 1.0839, 1.0025, 1.3047, 1.1329, 1.0972, 1.2013, 0.9501, 1.1555, 0.7323, 0.8535, 1.128, 0.1405, 0.8297, 0.5028, 0.9871, 0.8924, 0.5233, 0.34, 0.5185, 0.6784, -0.1348, 0.1561, 0.0304, 0.2908, 0.2909, -0.3161, -0.4643, 1.5387, 1.5387, 1.5387, 1.5387, 1.5387, 1.5387, 1.5387, 1.5387, 1.5387, 1.5387, 1.5387, 1.5387, 1.5387, 1.5387, 1.5387, 1.5387, 1.5387, 1.5387, 1.5387, 1.5387, 1.5387, 1.5387, 1.5387, 1.5387, 1.5387, 1.5387, 1.5387, 1.5387, 1.5387, 1.5387, 1.5387, 1.5322, 1.5387, 1.5387, 1.5387, 1.5387, 1.5387, 1.5387, 1.5387, 1.5387, 1.5235, 1.5164, 1.5387, 1.5387, 1.5387, 1.5387, 1.5387, 1.5387, 1.5387, 1.5387, 1.5387, 1.5387, 1.5387, 1.5387, 1.5229, 1.5078, 1.4862, 1.5156, 1.4167, 1.424, 1.4333, 1.4829, 1.4462, 1.4778, 1.3963, 1.3978, 1.4611, 1.3352, 1.4172, 1.3581, 1.4607, 1.3432, 1.2907, 1.2432, 1.3687, 1.3159, 1.2463, 1.147, 1.2005, 1.2387, 1.0664, 0.9246, 1.2222, 1.1493, 1.0942, 1.2323, 1.179, 1.0083, 0.9314, 0.8481, 0.6134, 0.91, 0.9942, 1.0048, 0.4858, 0.8042, -0.0225, 0.2442, 0.6856, 0.5762, 0.6574, 0.0245, 0.3877, 0.3503, 0.0145, 0.3721, 0.1697, -0.1538, 2.422, 2.422, 2.422, 2.422, 2.422, 2.422, 2.422, 2.422, 2.422, 2.422, 2.422, 2.422, 2.422, 2.422, 2.422, 2.422, 2.422, 2.422, 2.422, 2.422, 2.422, 2.422, 2.422, 2.422, 2.422, 2.422, 2.422, 2.422, 2.422, 2.422, 2.422, 2.422, 2.422, 2.422, 2.422, 2.422, 2.422, 2.422, 2.422, 2.422, 2.422, 2.422, 2.422, 2.422, 2.422, 2.422, 2.422, 2.422, 2.422, 2.422, 2.422, 2.422, 2.422, 2.422, 2.422, 2.422, 2.422, 2.422, 2.422, 2.422, 2.3964, 2.3833, 2.3779, 2.331, 2.3645, 2.3645, 2.2813, 2.388, 2.3129, 2.2914, 2.2475, 2.3671, 2.1359, 2.1689, 2.2915, 2.0817, 2.1668, 2.1531, 2.3613, 2.057, 2.1087, 1.9545, 2.1767, 2.3276, 2.359, 2.3014, 2.0697, 2.2032, 2.1375, 2.2417, 1.8991, 1.8318, 1.7234, 1.8277, 1.8677, 1.7128, 1.6234, 1.777, 1.1281, 1.5071, 1.9313, 0.8085, -0.3116, 1.1824, 0.0446, 0.159, -0.0375, 1.2104, 0.0544, -0.2492, 0.1027, 0.4056, 0.2306, -0.6176, 0.32, 0.0742, 0.0503, -0.2085, 0.0678, -0.3183, 0.1613, -0.0532, -0.2813, -0.0856, 0.0207], \"Freq\": [15362.0, 11990.0, 5309.0, 5178.0, 4467.0, 8763.0, 5224.0, 3138.0, 2753.0, 1114.0, 4003.0, 1917.0, 1770.0, 3348.0, 2247.0, 1560.0, 2661.0, 2776.0, 1859.0, 1204.0, 1901.0, 1221.0, 770.0, 1215.0, 1613.0, 1300.0, 2790.0, 633.0, 3251.0, 2515.0, 1.0644414814454322, 1.0644414814454322, 2.1288829628908643, 3.1933244443362967, 1.0644414814454322, 1.0644414814454322, 4.257765925781729, 2.1288829628908643, 1.0644414814454322, 1.0644414814454322, 2.1288829628908643, 1.0644414814454322, 2.1288829628908643, 1.0644414814454322, 2.1288829628908643, 2.1288829628908643, 1.0644414814454322, 1.0644414814454322, 1.0644414814454322, 1.0644414814454322, 2.1288829628908643, 1.0644414814454322, 1.0644414814454322, 2.1288829628908643, 2.1288829628908643, 1.0644414814454322, 4.257765925781729, 14.90218074023605, 1.0644414814454322, 1.0644414814454322, 65.99537184961677, 58.54428147949877, 52.15763259082617, 43.642100739262716, 40.44877629492642, 40.44877629492642, 40.448776294926425, 37.25545185059012, 36.19101036914469, 30.86880296191753, 29.8043614804721, 29.8043614804721, 29.8043614804721, 25.546595554690374, 23.41771259179951, 23.41771259179951, 23.41771259179951, 22.353271110354076, 21.288829628908644, 21.288829628908644, 20.224388147463213, 20.224388147463205, 20.22438814746321, 19.159946666017778, 19.15994666601778, 19.15994666601778, 19.159946666017778, 18.09550518457235, 18.095505184572346, 18.095505184572342, 298.0436148047214, 122.4107703662247, 456.64539554009076, 444.9365392441913, 52.15763259082616, 1108.0835821846952, 81.96199407129824, 47.899866665044435, 44.70654222070813, 57.479839998053336, 89.41308444141626, 460.903161465873, 323.59021035941174, 183.08393480861423, 610.9894103496785, 59.608722960944185, 1491.2825155050505, 385.3278162832471, 227.7904770293224, 2103.3363673361737, 103.25082370020692, 323.5902103594122, 384.2633748018013, 425.7765925781739, 137.31295110646067, 368.2967525801202, 109.63747258887949, 366.1678696172288, 375.74784295023863, 242.69265776955868, 128.79741925489722, 6695.336918291782, 5048.645946495692, 376.8122844316839, 1000.5749925587064, 381.0700503574658, 1067.634805889769, 263.98148739846755, 260.78816295413105, 1900.0280443800916, 6190.791656086658, 559.8962192402984, 2220.424930295165, 1761.6506517921853, 859.0042755264641, 1230.4943525509125, 6808.1677153249975, 1020.7993807061677, 1046.3459762608577, 821.7488236758746, 978.2217214483519, 1080.4081036671082, 1185.787810330209, 1713.7507851271414, 1467.86480291325, 1065.5059229268766, 1757.392885866405, 929.2574133018614, 997.3816681143699, 1061.2481570010943, 1598.7911051310343, 926.0640888575251, 1100.6324918145763, 1025.05714663195, 942.0307110792075, 940.9662695977606, 987.8016947813604, 1038.8948858907413, 973.9639555225699, 1.025450219860047, 2.050900439720094, 1.025450219860047, 2.050900439720094, 1.025450219860047, 1.025450219860047, 4.101800879440188, 2.050900439720094, 4.101800879440188, 2.050900439720094, 2.050900439720094, 1.025450219860047, 2.050900439720094, 14.356303078040657, 2.050900439720094, 1.025450219860047, 1.025450219860047, 2.050900439720094, 2.050900439720094, 1.025450219860047, 1.025450219860047, 2.050900439720094, 1.025450219860047, 4.101800879440188, 2.050900439720094, 1.025450219860047, 2.050900439720094, 1.025450219860047, 1.025450219860047, 14.35630307804066, 104.59592242572477, 66.65426429090306, 65.62881407104301, 55.37431187244254, 53.32341143272246, 53.32341143272245, 51.27251099300235, 43.068909234121975, 38.96710835468179, 36.916207914961696, 34.8653074752416, 33.83985725538155, 32.814407035521505, 30.763506595801417, 30.76350659580141, 30.76350659580141, 30.763506595801417, 29.73805637594136, 29.738056375941365, 29.738056375941365, 29.73805637594136, 28.71260615608132, 27.68715593622127, 26.66170571636122, 26.661705716361226, 26.661705716361226, 26.661705716361226, 25.636255496501178, 25.636255496501178, 25.636255496501178, 221.49724748977007, 366.0857284900366, 138.4357796811063, 94.34142022712429, 67.67971451076305, 65.62881407104301, 157.91933385844723, 79.98511714908364, 114.85042462432529, 843.9455309448189, 85.11236824838385, 137.41032946124625, 70.75606517034323, 65.628814071043, 138.43577968110628, 101.51957176614464, 176.37743781592803, 246.10805276641116, 147.66483165984675, 114.85042462432524, 171.25018671662784, 251.2353038657113, 634.7536860933689, 292.25331266011307, 369.16207914961666, 148.69028187970665, 123.0540263832056, 292.25331266011307, 488.11430465338213, 351.72942541199563, 195.8609919932689, 429.6636421213593, 470.681650915761, 198.9373426528491, 257.3880051848716, 338.39857255381537, 711.6624525828717, 1099.2826356899752, 2206.7688731388316, 378.3911311283571, 879.8362886399219, 497.3433566321221, 803.952972370277, 354.805776071576, 407.10373728443807, 490.1652050931018, 797.8002710511159, 565.0230711428852, 6855.134719764414, 705.5097512637116, 350.7039751921356, 1204.904008335562, 2365.7136572171403, 1281.8127748250668, 2120.6310546705936, 1209.0058092150005, 1761.7234777195733, 484.01250377394155, 1915.541010698578, 546.5649671854042, 1048.0101246969746, 1380.2559959316318, 578.3539240010657, 878.8108384200614, 771.138565334755, 986.483111505371, 830.6146780866388, 928.0324489733463, 975.2031590869088, 709.6115521431515, 833.6910287462188, 766.011314235454, 665.5171926891694, 655.262690490569, 665.5171926891695, 672.6953442281903, 17.543525263533105, 17.543525263533105, 17.543525263533105, 8.771762631766553, 8.771762631766553, 17.543525263533105, 17.543525263533105, 17.543525263533105, 8.771762631766553, 8.771762631766553, 17.543525263533105, 35.08705052706621, 17.543525263533105, 35.08705052706621, 17.543525263533105, 8.771762631766553, 8.771762631766553, 17.543525263533105, 17.543525263533105, 17.543525263533105, 17.543525263533105, 8.771762631766553, 17.543525263533105, 8.771762631766553, 17.543525263533105, 8.771762631766553, 8.771762631766553, 0.9746402924185058, 2.923920877255518, 5.847841754511036, 237.81223135011552, 221.24334637900085, 216.3701449169083, 159.84100795663494, 142.29748269310187, 134.50036035375382, 132.55107976891682, 127.67787830682427, 115.00755450538371, 80.89514427073598, 74.07266222380646, 73.09802193138795, 68.2248204692954, 65.3008995920399, 60.427698129947366, 57.50377725269184, 54.57985637543633, 53.60521608301782, 52.63057579059931, 52.63057579059932, 49.7066549133438, 49.7066549133438, 46.78273403608828, 44.83345345125127, 44.83345345125127, 41.909532573995754, 40.93489228157725, 40.93489228157725, 40.93489228157725, 39.960251989158735, 331.37769942229204, 319.6820159132699, 212.47158374723426, 122.80467684473174, 703.6902911261611, 1109.1406527722593, 251.4571954439745, 88.69226661008393, 71.1487413465509, 218.31942550174549, 4133.44948014687, 652.0343556279804, 351.84514556308164, 1316.7390350574012, 1000.9555803138052, 510.7115132272974, 1456.1125968732495, 130.60179918407988, 723.1830969745287, 993.1584579744563, 450.2838150973498, 212.47158374723486, 345.99730380857034, 1086.723926046634, 301.1638503573186, 1645.192813602435, 945.4010836459488, 1343.0543229527032, 1942.458102790075, 383.03363492047396, 883.0241049311655, 1011.67662353041, 607.2009021767276, 1245.5902937108506, 574.0631322345001, 1752.4032457684689, 1225.1228475700632, 604.2769812994733, 7290.309387290449, 1263.1338189743828, 2630.5541492375246, 839.1652917723318, 954.1728462777153, 1617.902885414717, 1628.6239286313205, 1147.1516241765823, 938.5786015990216, 1635.4464106782502, 1006.8034220683151, 1034.0933502560335, 938.5786015990212, 919.08579575065, 1048.7129546423112, 1020.4483861621748, 17.059786449579644, 61.60478440125983, 19.903084191176248, 8.52989322478982, 8.52989322478982, 8.52989322478982, 19.903084191176248, 12.320956880251961, 12.320956880251961, 8.52989322478982, 8.529893224789822, 17.059786449579644, 34.11957289915928, 8.52989322478982, 19.903084191176248, 8.52989322478982, 8.52989322478982, 8.52989322478982, 17.05978644957964, 8.52989322478982, 29.380743329831606, 108.99308009453655, 8.52989322478982, 8.52989322478982, 1.895531827731071, 5.686595483193214, 2.8432977415966065, 1.895531827731071, 16.11202053571411, 5.686595483193213, 90.98552773109141, 156.3813757878132, 69.18691171218404, 46.44052977941124, 45.49276386554571, 42.649466123949104, 37.91063655462142, 36.96287064075589, 36.01510472689036, 32.22404107142821, 139.32158933823362, 279.590944590333, 29.380743329831603, 28.432977415966068, 27.485211502100537, 25.589679674369464, 24.64191376050393, 24.64191376050393, 23.694147846638394, 23.694147846638394, 21.79861601890732, 20.850850105041786, 20.850850105041786, 20.850850105041786, 64.4480821428564, 65.39584805672196, 130.7916961134439, 45.49276386554571, 1081.4009077205733, 713.6677331407487, 495.6815729516758, 127.0006324579817, 263.4789240546188, 114.67967557772975, 778.115815283606, 516.5324230567182, 127.9483983718472, 1272.8496223214124, 278.6431786764676, 669.1227351890693, 124.15733471638512, 734.5185832457914, 1381.842702415948, 2335.2952117646723, 372.4720041491559, 649.2196509978935, 1431.1265299369536, 3019.5822015755866, 1602.6721603466165, 1023.5871869747774, 3229.038468539874, 8312.854830514638, 728.8319877626008, 943.0270842962061, 1314.5513225314928, 536.4355072478935, 707.033371743691, 1641.5305628150988, 1824.449384191143, 2618.6772200104638, 4753.046058035665, 1480.4103574579492, 959.1391048319217, 907.9597454831819, 2978.8282672793684, 1276.6406859768674, 6064.754082825564, 2401.6388257352637, 1187.5506900735134, 1309.8124929621665, 1108.8861192226748, 1629.2096059348503, 1278.5362178046037, 1219.774731144942, 1429.2309981092228, 1107.93835330881, 1163.8565422268741, 973.3555935399042, 0.9635448122388209, 0.9635448122388209, 0.9635448122388209, 0.9635448122388209, 1.9270896244776419, 0.9635448122388209, 0.9635448122388209, 0.9635448122388209, 0.9635448122388209, 1.9270896244776419, 0.9635448122388209, 2.8906344367164625, 0.9635448122388209, 0.9635448122388209, 0.9635448122388209, 0.9635448122388209, 0.9635448122388209, 0.9635448122388209, 1.9270896244776419, 0.9635448122388209, 2.8906344367164625, 2.8906344367164625, 0.9635448122388209, 0.9635448122388209, 0.9635448122388209, 0.9635448122388209, 0.9635448122388209, 1.9270896244776419, 0.9635448122388209, 0.9635448122388209, 35.65115805283637, 27.942799554925806, 24.088620305970522, 24.08862030597053, 21.19798586925406, 21.19798586925406, 21.19798586925406, 21.19798586925406, 20.234441057015236, 20.234441057015243, 20.23444105701524, 19.270896244776416, 19.27089624477642, 19.27089624477642, 19.27089624477642, 18.307351432537597, 17.343806620298775, 17.343806620298775, 17.343806620298775, 17.343806620298775, 17.343806620298775, 17.343806620298775, 17.34380662029878, 17.34380662029878, 17.343806620298782, 16.380261808059956, 16.380261808059956, 16.380261808059956, 15.416716995821135, 15.416716995821135, 118.51601190537498, 52.031419860896335, 47.21369579970222, 132.96918408895732, 52.03141986089636, 52.03141986089636, 193.6725072600031, 30.833433991642277, 89.60966753821039, 103.0992949095539, 171.51097657851025, 35.65115805283638, 475.99113724597794, 285.20926442269104, 73.22940573015042, 548.2569981638895, 201.38086575791365, 195.59959688448075, 32.760523616119904, 359.4022149650806, 228.3601205006007, 698.5699888731458, 132.9691840889574, 41.4324269262693, 32.760523616119904, 47.213695799702236, 175.3651558274655, 81.90130904029985, 97.31802603612095, 57.81268873432927, 264.97482336567583, 215.83403794149606, 289.0634436716465, 203.30795538239127, 158.98489401940554, 227.39657568836193, 226.43303087612313, 136.82336333791267, 356.51158052836405, 185.9641487620926, 99.24511566059861, 454.793151376724, 1877.9488390534643, 227.39657568836193, 608.9603213349354, 550.1840877883674, 633.0489416409062, 217.76112756597374, 428.77744144627576, 502.0068471764263, 386.3814697077677, 315.0791536020948, 312.1885191653783, 408.54300038926056, 285.2092644226913, 301.5895262307511, 277.50090592478074, 286.1728092349301, 269.79254742687016, 282.31862998597484, 262.0841889289596, 268.8290026146313, 270.75609223910897, 255.3393752432878, 253.41228561881016], \"Total\": [15362.0, 11990.0, 5309.0, 5178.0, 4467.0, 8763.0, 5224.0, 3138.0, 2753.0, 1114.0, 4003.0, 1917.0, 1770.0, 3348.0, 2247.0, 1560.0, 2661.0, 2776.0, 1859.0, 1204.0, 1901.0, 1221.0, 770.0, 1215.0, 1613.0, 1300.0, 2790.0, 633.0, 3251.0, 2515.0, 1.0644414814454322, 1.0644414814454322, 2.1288829628908643, 3.1933244443362967, 1.0644414814454322, 1.0644414814454322, 4.257765925781729, 2.1288829628908643, 1.0644414814454322, 1.0644414814454322, 2.1288829628908643, 1.0644414814454322, 2.1288829628908643, 1.0644414814454322, 2.1288829628908643, 2.1288829628908643, 1.0644414814454322, 1.0644414814454322, 1.0644414814454322, 1.0644414814454322, 2.1288829628908643, 1.0644414814454322, 1.0644414814454322, 2.1288829628908643, 2.1288829628908643, 1.0644414814454322, 4.257765925781729, 14.90218074023605, 1.0644414814454322, 1.0644414814454322, 65.99537184961677, 58.54428147949877, 52.15763259082617, 43.642100739262716, 40.44877629492642, 40.44877629492642, 40.448776294926425, 37.25545185059012, 36.19101036914469, 30.86880296191753, 29.8043614804721, 29.8043614804721, 29.8043614804721, 25.546595554690374, 23.41771259179951, 23.41771259179951, 23.41771259179951, 22.353271110354076, 21.288829628908644, 21.288829628908644, 20.224388147463213, 20.224388147463205, 20.22438814746321, 19.159946666017778, 19.15994666601778, 19.15994666601778, 19.159946666017778, 18.09550518457235, 18.095505184572346, 18.095505184572342, 311.41689628338634, 126.30933153589872, 485.07837295605685, 473.3695166601574, 53.12117740306498, 1215.2617535871595, 84.80529181289484, 48.86341147728326, 45.67008703294695, 59.375371825784406, 94.16769290911722, 528.3683179441374, 365.44206136063343, 202.30628417239885, 721.7775275131614, 62.45202070254079, 1859.5288313263238, 446.1559822810037, 258.29985071203157, 2753.3891700895283, 112.04010981887596, 384.843389194344, 466.02195936579176, 525.0318327820871, 153.5564047052752, 452.5612741548175, 120.35557697581866, 457.73823755923615, 473.4072622152558, 291.285539477915, 144.98712409660584, 11990.717247965289, 8763.969994427622, 478.32693580623425, 1434.9720865915385, 496.7909550534287, 1668.8036607399993, 331.5907645876199, 331.2762310810849, 3557.581451770953, 15362.851420083776, 862.8446573118725, 5224.087989346332, 4041.955190682284, 1596.29595451966, 2661.0604528166236, 28896.314744258892, 2089.5971841967994, 2333.7437695226386, 1663.3507321705536, 2300.197252966388, 2776.057533270714, 3348.747982754923, 6562.3785369331845, 5178.581456700095, 2973.612875428284, 7405.813476821477, 2404.6116256130103, 2787.1208674576596, 3194.841315790135, 8537.14979417649, 2561.5650119045185, 3972.131977190523, 3429.5689969062123, 2711.898748203233, 2718.724765121972, 3928.857943198853, 7257.860403204265, 4575.894448538662, 1.025450219860047, 2.050900439720094, 1.025450219860047, 2.050900439720094, 1.025450219860047, 1.025450219860047, 4.101800879440188, 2.050900439720094, 4.101800879440188, 2.050900439720094, 2.050900439720094, 1.025450219860047, 2.050900439720094, 14.356303078040657, 2.050900439720094, 1.025450219860047, 1.025450219860047, 2.050900439720094, 2.050900439720094, 1.025450219860047, 1.025450219860047, 2.050900439720094, 1.025450219860047, 4.101800879440188, 2.050900439720094, 1.025450219860047, 2.050900439720094, 1.025450219860047, 1.025450219860047, 14.35630307804066, 104.59592242572477, 66.65426429090306, 65.62881407104301, 55.37431187244254, 53.32341143272246, 53.32341143272245, 51.27251099300235, 43.068909234121975, 38.96710835468179, 36.916207914961696, 34.8653074752416, 33.83985725538155, 32.814407035521505, 30.763506595801417, 30.76350659580141, 30.76350659580141, 30.763506595801417, 29.73805637594136, 29.738056375941365, 29.738056375941365, 29.73805637594136, 28.71260615608132, 27.68715593622127, 26.66170571636122, 26.661705716361226, 26.661705716361226, 26.661705716361226, 25.636255496501178, 25.636255496501178, 25.636255496501178, 227.3450892442811, 381.00245938651824, 141.27907742270293, 96.2907008119613, 68.64325932300187, 66.57657998490855, 164.30598274711983, 82.1140001119745, 119.81342727544474, 956.8572082123948, 88.03628912563936, 145.28424008262988, 72.8849481332341, 67.52434589877407, 149.0318178413322, 107.57197285045083, 192.63910924111553, 274.3188724894419, 160.44818495826308, 122.96236979906226, 188.8651255477999, 285.370224820491, 780.8038174583066, 337.83078974535294, 443.2619039970968, 163.79321599924737, 133.3641933932935, 345.8733697560162, 622.9671394415417, 436.77424626019996, 226.36955023997018, 550.1763139609064, 615.0305080903825, 233.81374154790677, 314.6934148720832, 436.1123022898324, 1037.6722851585455, 1746.2449754939846, 4003.000057809899, 501.1976447201099, 1411.7855068466206, 706.1694912443841, 1300.1655237256907, 480.25256271286537, 592.9016318912724, 756.6747974043813, 1482.777554374582, 942.0169579908533, 28896.314744258892, 1295.4243508399275, 496.6412159844912, 2793.355549949541, 7405.813476821477, 3155.179305133882, 7257.860403204265, 3134.2912812429913, 6562.3785369331845, 797.9918980432351, 8537.14979417649, 1001.333032779224, 3201.1399046415, 5288.17305771748, 1159.4277073316587, 2840.667870182999, 2172.5516383552817, 3972.131977190523, 2797.034078680243, 3928.857943198853, 4575.894448538662, 2451.3915210024247, 4373.468460502932, 3381.3341694242936, 2300.197252966388, 2711.898748203233, 3429.5689969062123, 15362.851420083776, 17.543525263533105, 17.543525263533105, 17.543525263533105, 8.771762631766553, 8.771762631766553, 17.543525263533105, 17.543525263533105, 17.543525263533105, 8.771762631766553, 8.771762631766553, 17.543525263533105, 35.08705052706621, 17.543525263533105, 35.08705052706621, 17.543525263533105, 8.771762631766553, 8.771762631766553, 17.543525263533105, 17.543525263533105, 17.543525263533105, 17.543525263533105, 8.771762631766553, 17.543525263533105, 8.771762631766553, 17.543525263533105, 8.771762631766553, 8.771762631766553, 0.9746402924185058, 2.923920877255518, 5.847841754511036, 237.81223135011552, 221.24334637900085, 216.3701449169083, 159.84100795663494, 142.29748269310187, 134.50036035375382, 132.55107976891682, 127.67787830682427, 115.00755450538371, 80.89514427073598, 74.07266222380646, 73.09802193138795, 68.2248204692954, 65.3008995920399, 60.427698129947366, 57.50377725269184, 54.57985637543633, 53.60521608301782, 52.63057579059931, 52.63057579059932, 49.7066549133438, 49.7066549133438, 46.78273403608828, 44.83345345125127, 44.83345345125127, 41.909532573995754, 40.93489228157725, 40.93489228157725, 40.93489228157725, 39.960251989158735, 340.34364908935055, 328.19754776483336, 216.32576299618955, 124.93355980762261, 748.6475717122131, 1204.4313865980318, 262.38179253225724, 90.8211495729748, 72.21318282799633, 234.8921323680873, 5309.161592696497, 762.7744831989575, 396.2848730874521, 1613.619784893158, 1222.289124192743, 602.2972474161367, 1901.7968791696048, 139.3260522824441, 915.5501760896711, 1315.2837346644405, 548.4322989158467, 239.04252753098152, 411.11062711002717, 1514.0232537208294, 354.93360009037053, 2515.400086766018, 1346.9273524723912, 2072.377035185121, 3251.496802604498, 473.95555409749926, 1297.441591138183, 1540.458575899537, 833.1897859821523, 2197.1826387091473, 824.6331746423195, 3843.671542902675, 2380.337615001902, 892.271495356373, 28896.314744258892, 2513.3599893761475, 7257.860403204265, 1426.5237856795034, 1783.0688968731529, 4373.468460502932, 5288.17305771748, 3115.6236967493282, 2172.5516383552817, 8537.14979417649, 3928.857943198853, 4575.894448538662, 3201.1399046415, 3134.2912812429913, 6562.3785369331845, 7405.813476821477, 17.059786449579644, 61.60478440125983, 19.903084191176248, 8.52989322478982, 8.52989322478982, 8.52989322478982, 19.903084191176248, 12.320956880251961, 12.320956880251961, 8.52989322478982, 8.529893224789822, 17.059786449579644, 34.11957289915928, 8.52989322478982, 19.903084191176248, 8.52989322478982, 8.52989322478982, 8.52989322478982, 17.05978644957964, 8.52989322478982, 29.380743329831606, 108.99308009453655, 8.52989322478982, 8.52989322478982, 1.895531827731071, 5.686595483193214, 2.8432977415966065, 1.895531827731071, 16.11202053571411, 5.686595483193213, 90.98552773109141, 157.40682600767323, 69.18691171218404, 46.44052977941124, 45.49276386554571, 42.649466123949104, 37.91063655462142, 36.96287064075589, 36.01510472689036, 32.22404107142821, 141.45047230112448, 285.8996109558348, 29.380743329831603, 28.432977415966068, 27.485211502100537, 25.589679674369464, 24.64191376050393, 24.64191376050393, 23.694147846638394, 23.694147846638394, 21.79861601890732, 20.850850105041786, 20.850850105041786, 20.850850105041786, 65.47353236271645, 67.44674849644205, 137.83919980673548, 46.55720534699115, 1221.7476339641273, 800.4408820193022, 550.7595911557405, 134.29575778175817, 289.0255196093092, 121.88499971247931, 897.199844534872, 594.7197590239164, 138.28088309361846, 1560.0565800883232, 314.63923273768535, 801.6049623621551, 134.22467432076897, 893.1127547681133, 1770.7772950973283, 3138.107718509143, 441.5006614477369, 811.257263899945, 1917.229292561625, 4467.548829076114, 2247.690117680702, 1381.6581428302725, 5178.581456700095, 15362.851420083776, 1000.1777003383114, 1391.947943617549, 2050.3938961445715, 728.7458469955455, 1013.1072522274221, 2790.030427316438, 3348.747982754923, 5224.087989346332, 11990.717247965289, 2776.057533270714, 1653.393823685773, 1548.6697009273569, 8537.14979417649, 2661.0604528166236, 28896.314744258892, 8763.969994427622, 2787.1208674576596, 3429.5689969062123, 2676.9720752468497, 7405.813476821477, 4041.955190682284, 4003.000057809899, 6562.3785369331845, 3557.581451770953, 4575.894448538662, 5288.17305771748, 0.9635448122388209, 0.9635448122388209, 0.9635448122388209, 0.9635448122388209, 1.9270896244776419, 0.9635448122388209, 0.9635448122388209, 0.9635448122388209, 0.9635448122388209, 1.9270896244776419, 0.9635448122388209, 2.8906344367164625, 0.9635448122388209, 0.9635448122388209, 0.9635448122388209, 0.9635448122388209, 0.9635448122388209, 0.9635448122388209, 1.9270896244776419, 0.9635448122388209, 2.8906344367164625, 2.8906344367164625, 0.9635448122388209, 0.9635448122388209, 0.9635448122388209, 0.9635448122388209, 0.9635448122388209, 1.9270896244776419, 0.9635448122388209, 0.9635448122388209, 35.65115805283637, 27.942799554925806, 24.088620305970522, 24.08862030597053, 21.19798586925406, 21.19798586925406, 21.19798586925406, 21.19798586925406, 20.234441057015236, 20.234441057015243, 20.23444105701524, 19.270896244776416, 19.27089624477642, 19.27089624477642, 19.27089624477642, 18.307351432537597, 17.343806620298775, 17.343806620298775, 17.343806620298775, 17.343806620298775, 17.343806620298775, 17.343806620298775, 17.34380662029878, 17.34380662029878, 17.343806620298782, 16.380261808059956, 16.380261808059956, 16.380261808059956, 15.416716995821135, 15.416716995821135, 121.59266078213138, 54.08232030061643, 49.342578762593085, 145.6306914014047, 55.1077705204765, 55.1077705204765, 222.92082046826508, 31.89787547308771, 99.94215225998163, 117.4827705833238, 204.2038620035116, 37.663365448147346, 633.6338148014348, 367.3437617741962, 83.43309800130935, 770.5193760060527, 259.9138228184345, 255.9429693743295, 34.81142405584, 517.7187616045779, 312.38123528572584, 1114.8544751884092, 169.93973719537757, 45.53422780570949, 34.88940657901077, 53.2650754811557, 249.4267510839785, 101.92704436350273, 129.341228638471, 69.23678753327518, 446.9940804161856, 389.4252798290746, 581.2917584762856, 368.34382829967177, 276.74164443281677, 462.1281994910871, 503.2187663786226, 260.7739874750649, 1300.1655237256907, 464.2785651099223, 162.115366818973, 2283.204511237275, 28896.314744258892, 785.4345591038589, 6562.3785369331845, 5288.17305771748, 7405.813476821477, 731.4120086264059, 4575.894448538662, 7257.860403204265, 3928.857943198853, 2366.6072408178256, 2793.355549949541, 8537.14979417649, 2333.7437695226386, 3155.179305133882, 2973.612875428284, 3972.131977190523, 2840.667870182999, 4373.468460502932, 2513.3599893761475, 3194.841315790135, 4041.955190682284, 3134.2912812429913, 2797.034078680243], \"logprob\": [30.0, 29.0, 28.0, 27.0, 26.0, 25.0, 24.0, 23.0, 22.0, 21.0, 20.0, 19.0, 18.0, 17.0, 16.0, 15.0, 14.0, 13.0, 12.0, 11.0, 10.0, 9.0, 8.0, 7.0, 6.0, 5.0, 4.0, 3.0, 2.0, 1.0, -12.9297, -12.9297, -12.2365, -11.8311, -12.9297, -12.9297, -11.5434, -12.2365, -12.9297, -12.9297, -12.2365, -12.9297, -12.2365, -12.9297, -12.2365, -12.2365, -12.9297, -12.9297, -12.9297, -12.9297, -12.2365, -12.9297, -12.9297, -12.2365, -12.2365, -12.9297, -11.5434, -10.2906, -12.9297, -12.9297, -8.8025, -8.9224, -9.0379, -9.2161, -9.2921, -9.2921, -9.2921, -9.3743, -9.4033, -9.5624, -9.5975, -9.5975, -9.5975, -9.7516, -9.8386, -9.8386, -9.8386, -9.8852, -9.934, -9.934, -9.9852, -9.9852, -9.9852, -10.0393, -10.0393, -10.0393, -10.0393, -10.0965, -10.0965, -10.0965, -7.2949, -8.1848, -6.8682, -6.8942, -9.0379, -5.9817, -8.5859, -9.123, -9.192, -8.9407, -8.4989, -6.8589, -7.2127, -7.7822, -6.5771, -8.9043, -5.6847, -7.038, -7.5637, -5.3409, -8.355, -7.2127, -7.0408, -6.9382, -8.0699, -7.0832, -8.295, -7.089, -7.0632, -7.5003, -8.1339, -4.183, -4.4653, -7.0604, -6.0838, -7.0492, -6.0189, -7.4163, -7.4284, -5.4425, -4.2613, -6.6644, -5.2867, -5.5181, -6.2364, -5.877, -4.1663, -6.0638, -6.0391, -6.2807, -6.1064, -6.007, -5.914, -5.5457, -5.7006, -6.0209, -5.5205, -6.1577, -6.087, -6.0249, -5.6151, -6.1612, -5.9885, -6.0596, -6.1441, -6.1452, -6.0967, -6.0462, -6.1108, -12.8454, -12.1523, -12.8454, -12.1523, -12.8454, -12.8454, -11.4591, -12.1523, -11.4591, -12.1523, -12.1523, -12.8454, -12.1523, -10.2064, -12.1523, -12.8454, -12.8454, -12.1523, -12.1523, -12.8454, -12.8454, -12.1523, -12.8454, -11.4591, -12.1523, -12.8454, -12.1523, -12.8454, -12.8454, -10.2064, -8.2205, -8.671, -8.6866, -8.8565, -8.8942, -8.8942, -8.9334, -9.1078, -9.2079, -9.2619, -9.3191, -9.3489, -9.3797, -9.4442, -9.4442, -9.4442, -9.4442, -9.4781, -9.4781, -9.4781, -9.4781, -9.5132, -9.5496, -9.5873, -9.5873, -9.5873, -9.5873, -9.6266, -9.6266, -9.6266, -7.4702, -6.9677, -7.9402, -8.3236, -8.6558, -8.6866, -7.8085, -8.4887, -8.1269, -6.1325, -8.4266, -7.9476, -8.6113, -8.6866, -7.9402, -8.2503, -7.6979, -7.3648, -7.8756, -8.1269, -7.7274, -7.3442, -6.4173, -7.1929, -6.9593, -7.8687, -8.0579, -7.1929, -6.68, -7.0077, -7.5932, -6.8076, -6.7164, -7.5776, -7.32, -7.0463, -6.303, -5.8682, -5.1713, -6.9346, -6.0908, -6.6613, -6.181, -6.999, -6.8615, -6.6758, -6.1887, -6.5337, -4.0378, -6.3116, -7.0106, -5.7764, -5.1017, -5.7145, -5.2111, -5.773, -5.3965, -6.6885, -5.3128, -6.5669, -5.9159, -5.6405, -6.5104, -6.092, -6.2227, -5.9764, -6.1484, -6.0375, -5.9879, -6.3059, -6.1447, -6.2294, -6.37, -6.3855, -6.37, -6.3593, -9.9834, -9.9834, -9.9834, -10.6766, -10.6766, -9.9834, -9.9834, -9.9834, -10.6766, -10.6766, -9.9834, -9.2903, -9.9834, -9.2903, -9.9834, -10.6766, -10.6766, -9.9834, -9.9834, -9.9834, -9.9834, -10.6766, -9.9834, -10.6766, -9.9834, -10.6766, -10.6766, -12.8738, -11.7752, -11.082, -7.3766, -7.4488, -7.4711, -7.7739, -7.8902, -7.9465, -7.9611, -7.9986, -8.1031, -8.4549, -8.543, -8.5563, -8.6253, -8.6691, -8.7466, -8.7962, -8.8484, -8.8664, -8.8848, -8.8848, -8.942, -8.942, -9.0026, -9.0451, -9.0451, -9.1126, -9.1361, -9.1361, -9.1361, -9.1602, -7.0448, -7.0808, -7.4893, -8.0375, -6.2918, -5.8368, -7.3208, -8.3629, -8.5833, -7.4621, -4.5212, -6.368, -6.9849, -5.6652, -5.9394, -6.6123, -5.5646, -7.9759, -6.2644, -5.9472, -6.7382, -7.4893, -7.0017, -5.8572, -7.1404, -5.4425, -5.9965, -5.6454, -5.2764, -6.9, -6.0647, -5.9287, -6.4392, -5.7207, -6.4954, -5.3793, -5.7373, -6.4441, -3.9538, -5.7067, -4.9731, -6.1157, -5.9872, -5.4592, -5.4526, -5.8031, -6.0037, -5.4484, -5.9336, -5.9068, -6.0037, -6.0247, -5.8928, -5.9201, -9.9903, -8.7063, -9.8362, -10.6835, -10.6835, -10.6835, -9.8362, -10.3158, -10.3158, -10.6835, -10.6835, -9.9903, -9.2972, -10.6835, -9.8362, -10.6835, -10.6835, -10.6835, -9.9903, -10.6835, -9.4467, -8.1358, -10.6835, -10.6835, -12.1876, -11.089, -11.7821, -12.1876, -10.0475, -11.089, -8.3164, -7.7748, -8.5903, -8.9889, -9.0095, -9.0741, -9.1918, -9.2172, -9.2431, -9.3544, -7.8903, -7.1937, -9.4467, -9.4795, -9.5134, -9.5849, -9.6226, -9.6226, -9.6618, -9.6618, -9.7452, -9.7897, -9.7897, -9.7897, -8.6612, -8.6466, -7.9535, -9.0095, -5.8411, -6.2567, -6.6211, -7.9829, -7.2531, -8.0849, -6.1702, -6.5799, -7.9754, -5.6781, -7.1971, -6.3211, -8.0055, -6.2279, -5.5959, -5.0712, -6.9069, -6.3513, -5.5609, -4.8142, -5.4476, -5.896, -4.7471, -3.8015, -6.2356, -5.978, -5.6458, -6.5421, -6.266, -5.4237, -5.318, -4.9566, -4.3605, -5.527, -5.961, -6.0159, -4.8278, -5.6751, -4.1168, -5.0432, -5.7474, -5.6494, -5.816, -5.4312, -5.6736, -5.7207, -5.5622, -5.8168, -5.7676, -5.9463, -11.9809, -11.9809, -11.9809, -11.9809, -11.2878, -11.9809, -11.9809, -11.9809, -11.9809, -11.2878, -11.9809, -10.8823, -11.9809, -11.9809, -11.9809, -11.9809, -11.9809, -11.9809, -11.2878, -11.9809, -10.8823, -10.8823, -11.9809, -11.9809, -11.9809, -11.9809, -11.9809, -11.2878, -11.9809, -11.9809, -8.37, -8.6136, -8.7621, -8.7621, -8.8899, -8.8899, -8.8899, -8.8899, -8.9364, -8.9364, -8.9364, -8.9852, -8.9852, -8.9852, -8.9852, -9.0365, -9.0906, -9.0906, -9.0906, -9.0906, -9.0906, -9.0906, -9.0906, -9.0906, -9.0906, -9.1477, -9.1477, -9.1477, -9.2084, -9.2084, -7.1688, -7.992, -8.0891, -7.0537, -7.992, -7.992, -6.6776, -8.5152, -7.4483, -7.3081, -6.7992, -8.37, -5.7784, -6.2906, -7.6502, -5.6371, -6.6386, -6.6677, -8.4546, -6.0594, -6.5129, -5.3948, -7.0537, -8.2197, -8.4546, -8.0891, -6.7769, -7.5383, -7.3658, -7.8866, -6.3642, -6.5693, -6.2772, -6.6291, -6.875, -6.5171, -6.5214, -7.0251, -6.0674, -6.7182, -7.3462, -5.824, -4.4059, -6.5171, -5.5321, -5.6336, -5.4933, -6.5604, -5.8829, -5.7252, -5.987, -6.191, -6.2002, -5.9312, -6.2906, -6.2347, -6.318, -6.2872, -6.3462, -6.3008, -6.3751, -6.3497, -6.3426, -6.4012, -6.4088], \"Term\": [\"trump\", \"clinton\", \"police\", \"election\", \"republican\", \"mr\", \"campaign\", \"voters\", \"mrs\", \"pipeline\", \"percent\", \"republicans\", \"democrats\", \"presidential\", \"vote\", \"voting\", \"hillary\", \"donald\", \"emails\", \"shooting\", \"officers\", \"voter\", \"dakota\", \"comey\", \"officer\", \"water\", \"democratic\", \"protesters\", \"old\", \"man\", \"dahr\", \"nadav\", \"deregulation\", \"accruing\", \"derails\", \"mythic\", \"hailee\", \"haim\", \"shored\", \"haima\", \"myla\", \"mygrandmother\", \"depreciation\", \"muzzled\", \"deprecation\", \"shortening\", \"shortens\", \"muzzle\", \"muy\", \"nada\", \"shone\", \"denizens\", \"nadon\", \"hacktivists\", \"hag\", \"descendant\", \"desai\", \"najib\", \"nairobi\", \"shipwrecks\", \"hombres\", \"crosstalk\", \"raqqa\", \"iraqis\", \"manafort\", \"clapper\", \"ehrman\", \"booz\", \"qatar\", \"wyda\", \"wathke\", \"reines\", \"bahlul\", \"teneo\", \"houthis\", \"domains\", \"mooney\", \"jong\", \"zampolli\", \"nsa\", \"militias\", \"militarily\", \"ariana\", \"kirchhoff\", \"kazwini\", \"saakashvili\", \"tribunals\", \"dunford\", \"fitton\", \"unclassified\", \"mosul\", \"quijano\", \"abedin\", \"weiner\", \"snowden\", \"comey\", \"sexting\", \"yemen\", \"osama\", \"tanden\", \"russians\", \"classified\", \"putin\", \"iraqi\", \"russia\", \"puppet\", \"emails\", \"podesta\", \"korea\", \"mrs\", \"hayden\", \"intelligence\", \"nuclear\", \"iraq\", \"hacking\", \"syria\", \"isis\", \"wallace\", \"russian\", \"iran\", \"huma\", \"clinton\", \"mr\", \"aides\", \"fbi\", \"server\", \"email\", \"forces\", \"wikileaks\", \"obama\", \"trump\", \"military\", \"campaign\", \"president\", \"united\", \"hillary\", \"said\", \"country\", \"american\", \"debate\", \"government\", \"donald\", \"presidential\", \"people\", \"election\", \"like\", \"new\", \"going\", \"women\", \"just\", \"state\", \"washington\", \"time\", \"states\", \"department\", \"did\", \"years\", \"year\", \"___\", \"z\\u00f3calo\", \"sticky\", \"stewarding\", \"katten\", \"kathay\", \"kassy\", \"kasinga\", \"kary\", \"karan\", \"kaibab\", \"kapphahn\", \"stiffness\", \"kaneohe\", \"kaloyeros\", \"stillbirths\", \"kalanick\", \"kaya\", \"kayal\", \"steverson\", \"kayvan\", \"kboi\", \"steve_wine\", \"kc\", \"kcc\", \"kcci\", \"keady\", \"sterilization\", \"keane\", \"keisha\", \"stepien\", \"nasdaq\", \"abele\", \"mangano\", \"malaria\", \"rebates\", \"ge\", \"hoboken\", \"vides\", \"inflators\", \"mgp\", \"venditto\", \"bourbon\", \"deductible\", \"zurixx\", \"directv\", \"subsidy\", \"samsung\", \"hare\", \"aa\", \"marketplaces\", \"subways\", \"18f\", \"cps\", \"unitedhealth\", \"copenhaver\", \"disk\", \"nw\", \"ovarian\", \"santoro\", \"mylan\", \"wildstein\", \"transit\", \"septa\", \"enrollment\", \"composite\", \"cannabis\", \"insurers\", \"epa\", \"chappell\", \"bus\", \"ntsb\", \"commuter\", \"walkout\", \"insurer\", \"closures\", \"inflation\", \"proposition\", \"baroni\", \"airlines\", \"dow\", \"colonial\", \"consumers\", \"christie\", \"transportation\", \"sales\", \"consumer\", \"cents\", \"prices\", \"marijuana\", \"market\", \"explosion\", \"rate\", \"crash\", \"flint\", \"lane\", \"insurance\", \"workers\", \"company\", \"percent\", \"strike\", \"health\", \"companies\", \"water\", \"gas\", \"increase\", \"safety\", \"california\", \"union\", \"said\", \"tax\", \"industry\", \"000\", \"new\", \"million\", \"year\", \"city\", \"people\", \"billion\", \"state\", \"pay\", \"federal\", \"says\", \"care\", \"officials\", \"school\", \"time\", \"york\", \"years\", \"___\", \"tuesday\", \"say\", \"law\", \"government\", \"department\", \"states\", \"trump\", \"toro\", \"gawker\", \"puu\", \"brumbacks\", \"decals\", \"spincken\", \"deliberated\", \"pino\", \"elhuzayel\", \"elhassan\", \"spitzer\", \"chillicothe\", \"deleon\", \"sowa\", \"freightcar\", \"brotherson\", \"disarro\", \"arismendez\", \"corwin\", \"barbiturate\", \"carjacking\", \"telescopes\", \"cramsey\", \"shmurda\", \"haften\", \"haubrichs\", \"realin\", \"helmets\", \"sharion\", \"helter\", \"eramo\", \"erdely\", \"mcqueary\", \"tensing\", \"kohlhepp\", \"kane\", \"dubose\", \"lawler\", \"mateen\", \"brandt\", \"boeckmann\", \"epps\", \"kenoi\", \"ackal\", \"kuenzel\", \"spanier\", \"sampson\", \"ojeda\", \"spartanburg\", \"midazolam\", \"curley\", \"carver\", \"vega\", \"roanoke\", \"gesell\", \"dimasi\", \"rhoden\", \"malice\", \"fogle\", \"mistrial\", \"jackie\", \"slager\", \"sandusky\", \"heaggan\", \"murder\", \"shooting\", \"vance\", \"aggravated\", \"bystander\", \"gang\", \"police\", \"jury\", \"victim\", \"officer\", \"shot\", \"jurors\", \"officers\", \"raped\", \"prison\", \"trial\", \"boy\", \"fatally\", \"suspect\", \"death\", \"rape\", \"man\", \"charged\", \"attorney\", \"old\", \"sentence\", \"prosecutors\", \"charges\", \"guilty\", \"judge\", \"cubs\", \"court\", \"case\", \"sheriff\", \"said\", \"county\", \"year\", \"authorities\", \"woman\", \"say\", \"says\", \"told\", \"school\", \"state\", \"years\", \"___\", \"federal\", \"city\", \"people\", \"new\", \"247\", \"rnc\", \"purged\", \"lorenz\", \"rohrabacher\", \"nevadans\", \"slom\", \"detzner\", \"elector\", \"spillar\", \"hardison\", \"cann\", \"foval\", \"teske\", \"mcgillivray\", \"bursten\", \"banc\", \"kuster\", \"guinta\", \"ducey\", \"crist\", \"bayh\", \"unaffiliated\", \"voeller\", \"jocelyn\", \"juras\", \"subgroups\", \"subflooring\", \"irregularities\", \"irregularity\", \"electors\", \"ayotte\", \"masto\", \"sorrentino\", \"pitcock\", \"sproul\", \"genforward\", \"comstock\", \"crooks\", \"greitens\", \"mcconnell\", \"toomey\", \"stumbo\", \"borges\", \"knowledgepanel\", \"booths\", \"keefe\", \"barrington\", \"fieldworks\", \"woodhouse\", \"gottheimer\", \"interval\", \"hollingsworth\", \"thune\", \"portman\", \"stoynoff\", \"burr\", \"husted\", \"voter\", \"ballots\", \"electoral\", \"mcginty\", \"mcmullin\", \"watchers\", \"votes\", \"polling\", \"feingold\", \"voting\", \"turnout\", \"poll\", \"heck\", \"gop\", \"democrats\", \"voters\", \"registration\", \"elections\", \"republicans\", \"republican\", \"vote\", \"senate\", \"election\", \"trump\", \"polls\", \"nominee\", \"party\", \"ryan\", \"ballot\", \"democratic\", \"presidential\", \"campaign\", \"clinton\", \"donald\", \"race\", \"candidate\", \"state\", \"hillary\", \"said\", \"mr\", \"women\", \"states\", \"house\", \"new\", \"president\", \"percent\", \"people\", \"obama\", \"___\", \"says\", \"zz\", \"lace\", \"lapland\", \"lard\", \"lars\", \"laszlo\", \"latanya\", \"latching\", \"laterally\", \"latifah\", \"latimer\", \"laufenburger\", \"launcher\", \"launchpads\", \"lauria\", \"laval\", \"lavin\", \"lavonia\", \"laysan\", \"lazuli\", \"le\", \"leafs\", \"leake\", \"leal\", \"leanne\", \"lebanese\", \"lebowitz\", \"leeanne\", \"leestma\", \"lapis\", \"bison\", \"oahe\", \"cellars\", \"sunoco\", \"toca\", \"deforest\", \"dyson\", \"bikila\", \"cannonball\", \"lionsgate\", \"pandas\", \"preskey\", \"moll\", \"mei\", \"shearer\", \"reacher\", \"lunar\", \"meaney\", \"coulthurst\", \"puppies\", \"fallis\", \"etp\", \"madea\", \"schuster\", \"lun\", \"macmillan\", \"lycoming\", \"comscore\", \"horinek\", \"edinburgh\", \"narrated\", \"shark\", \"archambault\", \"musician\", \"kirchmeier\", \"artifacts\", \"tribe\", \"penguin\", \"reservation\", \"morton\", \"sioux\", \"songwriter\", \"protesters\", \"actor\", \"bismarck\", \"dakota\", \"actress\", \"camp\", \"panda\", \"rock\", \"singer\", \"pipeline\", \"tribal\", \"guo\", \"inferno\", \"theaters\", \"museum\", \"sacred\", \"winds\", \"gallery\", \"storm\", \"protest\", \"land\", \"hurricane\", \"film\", \"construction\", \"standing\", \"music\", \"water\", \"oil\", \"movie\", \"north\", \"said\", \"access\", \"people\", \"says\", \"new\", \"today\", \"___\", \"year\", \"years\", \"national\", \"000\", \"state\", \"american\", \"million\", \"like\", \"time\", \"officials\", \"say\", \"county\", \"just\", \"president\", \"city\", \"york\"]}, \"lambda.step\": 0.01, \"plot.opts\": {\"xlab\": \"PC1\", \"ylab\": \"PC2\"}, \"mdsDat\": {\"x\": [-0.0829913657134666, 0.028657345276955577, 0.0627703141794385, -0.11987424635461033, 0.11143795261168289], \"cluster\": [1, 1, 1, 1, 1], \"topics\": [1, 2, 3, 4, 5], \"y\": [-0.014268778438783259, -0.012927733201891134, 0.1227451082455703, -0.009205221712639999, -0.08634337489225592], \"Freq\": [25.318067232388962, 22.419986565904157, 21.92169088088579, 21.46570376389358, 8.874551556927516]}, \"token.table\": {\"Topic\": [1, 2, 3, 4, 5, 2, 4, 1, 2, 3, 4, 5, 2, 1, 4, 2, 1, 2, 3, 4, 5, 1, 3, 1, 2, 3, 4, 5, 1, 3, 4, 5, 1, 3, 1, 2, 3, 4, 1, 2, 3, 5, 1, 2, 3, 4, 5, 1, 5, 1, 3, 2, 5, 1, 2, 3, 4, 5, 1, 2, 3, 4, 5, 2, 4, 1, 1, 2, 3, 4, 5, 1, 2, 3, 4, 5, 4, 3, 2, 3, 4, 4, 4, 5, 1, 2, 3, 4, 5, 2, 3, 5, 5, 3, 4, 1, 4, 2, 1, 2, 3, 4, 5, 3, 3, 3, 1, 4, 5, 4, 1, 2, 3, 4, 5, 1, 3, 1, 2, 3, 4, 5, 1, 2, 3, 4, 5, 1, 2, 3, 4, 5, 1, 2, 3, 4, 5, 4, 2, 4, 5, 1, 2, 3, 4, 5, 3, 3, 1, 2, 3, 4, 5, 5, 1, 2, 4, 5, 1, 2, 3, 1, 2, 3, 4, 5, 1, 2, 3, 4, 5, 3, 1, 2, 3, 4, 5, 1, 2, 3, 4, 5, 1, 1, 2, 3, 4, 5, 1, 2, 3, 4, 5, 2, 3, 4, 5, 1, 2, 4, 5, 1, 3, 4, 1, 2, 3, 4, 5, 1, 2, 3, 4, 5, 1, 2, 3, 4, 5, 2, 5, 5, 4, 1, 2, 3, 4, 5, 1, 2, 3, 5, 1, 2, 3, 4, 5, 2, 3, 5, 1, 2, 3, 4, 5, 1, 2, 3, 4, 5, 1, 2, 3, 4, 5, 2, 3, 1, 2, 3, 4, 5, 4, 4, 1, 1, 2, 3, 4, 5, 3, 1, 1, 2, 3, 4, 5, 1, 2, 3, 4, 5, 1, 2, 3, 4, 5, 3, 2, 5, 3, 3, 1, 2, 3, 4, 5, 1, 2, 3, 4, 5, 1, 1, 2, 3, 4, 5, 1, 1, 1, 1, 1, 1, 4, 1, 2, 3, 4, 5, 3, 2, 3, 2, 1, 1, 2, 3, 4, 5, 1, 2, 5, 3, 4, 1, 5, 5, 1, 1, 2, 3, 4, 5, 1, 2, 3, 4, 5, 4, 1, 2, 4, 4, 3, 3, 1, 2, 3, 4, 5, 1, 2, 3, 4, 5, 2, 3, 1, 2, 3, 3, 3, 5, 1, 2, 3, 5, 5, 1, 2, 3, 4, 5, 1, 2, 3, 4, 5, 1, 2, 3, 4, 5, 1, 2, 4, 4, 1, 2, 3, 4, 5, 1, 1, 2, 3, 4, 5, 3, 1, 2, 3, 4, 5, 4, 3, 1, 2, 3, 5, 1, 2, 3, 4, 5, 1, 2, 3, 4, 5, 3, 2, 4, 3, 1, 2, 3, 4, 5, 1, 2, 3, 4, 5, 4, 1, 2, 3, 4, 5, 4, 1, 2, 3, 4, 5, 4, 2, 5, 1, 2, 3, 4, 1, 3, 1, 1, 1, 1, 4, 2, 3, 1, 2, 3, 5, 1, 3, 1, 2, 3, 4, 5, 1, 2, 3, 4, 5, 3, 3, 1, 2, 3, 4, 5, 2, 4, 1, 5, 1, 2, 3, 4, 5, 1, 1, 2, 4, 1, 2, 3, 4, 5, 1, 4, 1, 2, 3, 4, 5, 1, 2, 3, 4, 5, 1, 5, 1, 2, 4, 5, 2, 1, 2, 3, 4, 5, 2, 4, 1, 2, 1, 2, 3, 4, 5, 4, 1, 2, 3, 4, 5, 1, 2, 3, 4, 5, 1, 2, 4, 5, 1, 4, 4, 1, 2, 3, 4, 1, 2, 3, 4, 5, 4, 1, 1, 2, 3, 4, 5, 4, 1, 2, 3, 4, 5, 1, 2, 3, 4, 5, 1, 2, 3, 4, 5, 2, 2, 2, 3, 2, 2, 2, 2, 2, 2, 2, 2, 2, 2, 2, 1, 2, 2, 2, 2, 2, 2, 4, 2, 3, 1, 2, 5, 4, 3, 1, 2, 3, 5, 3, 4, 5, 1, 2, 3, 4, 5, 1, 2, 3, 4, 5, 5, 5, 5, 5, 5, 5, 5, 5, 5, 5, 5, 5, 5, 5, 5, 5, 5, 1, 2, 3, 4, 5, 3, 5, 5, 5, 5, 5, 5, 5, 5, 5, 5, 5, 1, 2, 3, 4, 5, 5, 4, 5, 5, 5, 5, 5, 2, 3, 1, 2, 3, 4, 5, 1, 2, 1, 2, 3, 4, 5, 1, 2, 3, 4, 5, 2, 4, 3, 1, 4, 4, 1, 2, 4, 1, 4, 3, 5, 5, 2, 3, 1, 1, 2, 3, 4, 5, 1, 1, 2, 3, 4, 5, 3, 5, 1, 1, 2, 3, 5, 1, 2, 3, 4, 1, 2, 3, 5, 1, 2, 3, 4, 5, 1, 2, 3, 4, 5, 1, 2, 3, 4, 5, 1, 2, 3, 4, 5, 1, 2, 3, 4, 5, 2, 3, 4, 5, 1, 1, 1, 1, 1, 2, 1, 1, 1, 1, 1, 1, 1, 4, 5, 2, 1, 2, 3, 4, 5, 4, 1, 2, 3, 4, 5, 1, 2, 3, 4, 5, 1, 2, 3, 4, 5, 1, 2, 3, 1, 2, 4, 5, 2, 5, 1, 2, 3, 4, 5, 1, 2, 3, 4, 5, 1, 2, 3, 4, 5, 1, 2, 3, 4, 5, 1, 2, 3, 4, 5, 3, 1, 2, 3, 4, 5, 1, 5, 2, 2, 5, 5, 1, 2, 3, 4, 5, 1, 2, 3, 4, 5, 1, 5, 1, 2, 3, 4, 5, 1, 2, 3, 4, 5, 3, 1, 2, 3, 4, 5, 4, 1, 2, 4, 5, 1, 2, 3, 4, 5, 1, 2, 3, 4, 5, 1, 2, 3, 4, 1, 2, 3, 4, 5, 2, 4, 1, 2, 3, 4, 5, 1, 2, 3, 4, 5, 5, 1, 2, 3, 4, 5, 1, 2, 3, 4, 5, 1, 2, 4, 5, 1, 2, 3, 4, 5, 1, 2, 3, 4, 5, 1, 2, 3, 4, 5, 1, 4, 5, 4, 1, 3, 4, 5, 3, 1, 1, 3, 1, 2, 3, 4, 5, 1, 2, 3, 4, 5, 1, 2, 3, 4, 1, 1, 2, 3, 4, 5, 5, 3, 2, 1, 2, 3, 4, 5, 1, 1, 2, 3, 4, 5, 1, 2, 3, 4, 5, 1, 2, 5, 3, 4, 3, 1, 2, 3, 4, 5, 4, 1, 2, 3, 4, 5, 1, 2, 3, 4, 5, 1, 4, 5, 1, 2, 3, 4, 5, 1, 1, 2, 3, 4, 5, 1, 2, 3, 4, 5, 1, 2, 3, 4, 5, 1, 2, 3, 4, 5, 3, 2, 3, 5, 2, 1, 2, 3, 4, 5, 1, 2, 3, 4, 5, 1, 2, 3, 4, 5, 5, 1, 2, 3, 4, 5, 1, 2, 3, 4, 5, 2, 4, 1, 2, 4, 5, 1, 4, 3, 2, 5, 5, 1, 2, 3, 4, 5, 1, 3, 1, 1, 2, 3, 4, 5, 1, 1, 1, 1, 2, 3, 4, 5, 1, 2, 3, 4, 5, 1, 2, 3, 4, 5, 1, 3, 4, 1, 5, 1, 4, 5, 4, 3, 3, 3, 4, 3, 3, 4, 1, 2, 3, 4, 5, 1, 2, 3, 4, 5, 1, 2, 3, 4, 5, 2, 2, 2, 2, 2, 2, 2, 2, 1, 2, 3, 4, 5, 2, 4, 1, 2, 3, 4, 5, 4, 4, 4, 2, 2, 5, 1, 2, 3, 4, 5, 1, 2, 3, 4, 5, 1, 4, 1, 2, 3, 4, 5, 3, 1, 3, 4, 1, 2, 3, 4, 5, 4, 1, 2, 3, 4, 5, 5, 1, 2, 3, 4, 5, 1, 2, 3, 4, 5, 1, 2, 4, 3, 1, 2, 3, 4, 5, 1, 2, 3, 4, 5, 1, 2, 3, 4, 5, 1, 2, 3, 5, 1, 2, 3, 4, 5, 1, 1, 2, 3, 4, 5, 1, 2, 3, 4, 5, 1, 2, 4, 4, 1, 1, 2, 3, 4, 5, 1, 2, 3, 4, 5, 2, 1, 2, 3, 5, 3, 2, 1, 2, 3, 4, 5, 2, 4, 1, 2, 3, 4, 5, 1, 2, 3, 4, 5, 1, 2, 3, 4, 5, 1, 2, 3, 4, 5, 1, 2, 3, 4, 5, 1, 2, 1, 2, 3, 4, 5, 1, 2, 3, 4, 5, 1, 2, 3, 4, 1, 2, 3, 4, 5, 1, 1, 4, 1, 2, 3, 4, 5, 2, 3, 1, 2, 4, 5, 1, 2, 3, 4, 5, 1, 2, 3, 4, 5, 4, 1, 2, 3, 4, 5, 1, 1, 2, 3, 4, 5, 1, 2, 3, 4, 5, 1, 5, 1, 2, 3, 4, 5, 1, 2, 5, 2], \"Freq\": [0.13388914991747325, 0.43138081724747396, 0.15250475364931443, 0.17076236500169714, 0.11169362239104719, 1.010009326299271, 0.99649547491369, 0.2128545601201646, 0.2130730966295282, 0.22596675068198172, 0.2543764968992521, 0.09375216251699241, 1.0088083639612222, 0.9421158012365138, 0.057722631147970216, 1.0051870006034127, 0.19225026229083092, 0.26482155335425717, 0.07384447160839863, 0.179518456841107, 0.28901198370873254, 0.9394598175956789, 0.9953921064806192, 0.10888983062297854, 0.00816673729672339, 0.06805614413936158, 0.03538919495246802, 0.775840043188722, 0.11542287237626762, 0.04232171987129813, 0.06925372342576058, 0.7733332449209931, 0.02202130241032679, 0.9799479572595422, 0.7881638514974184, 0.016724962365992965, 0.03344992473198593, 0.16306838306843138, 0.01246508335709908, 0.9224161684253319, 0.0311627083927477, 0.03739525007129724, 0.44820687414795185, 0.1636854932356765, 0.07155884128365962, 0.1941087131826216, 0.1221213758433712, 0.04053294436885436, 0.9525241926680774, 0.9889050711533464, 1.026019555910792, 0.054438783708103095, 0.9436055842737869, 0.0868567818229664, 0.1519993681901912, 0.6480480999346881, 0.09795514838923433, 0.01544120565741625, 0.07570851680440492, 0.1668391388837812, 0.5881430148045901, 0.036452248831750515, 0.13319090919293458, 0.006352964641770061, 0.9910624841161294, 1.0065640902810846, 0.08686148461233774, 0.1835935924760775, 0.027637745103925644, 0.6978530638741226, 0.003948249300560806, 0.0687121325703023, 0.031232787531955592, 0.007495869007669342, 0.8920084119126518, 0.0012493115012782237, 1.0551128557909661, 1.026019555910792, 0.896766590528576, 0.09478020875505275, 0.007290785288850211, 1.014531592106698, 1.0000634894018725, 0.9906601565603823, 0.22431305435422078, 0.6065224486449322, 0.007518873330309077, 0.05764469553236959, 0.10401108106927556, 0.10787085959409969, 0.011985651066011077, 0.8749525278188086, 1.009784870007494, 0.9990190412815606, 1.016034601872782, 0.9931432357440036, 0.984771998738235, 1.00473237057148, 0.05652475257434965, 0.040114340536635235, 0.8205206018857207, 0.05470137345904805, 0.027350686729524024, 1.001296193117761, 1.026019555910792, 1.026019555910792, 0.021764490828489313, 0.9503827661773666, 0.029019321104652416, 1.0551128557909661, 0.021946848306898685, 0.8820542843344044, 0.05016422470148271, 0.028217376394584024, 0.016721408233827572, 0.013847887059373735, 0.9831999812155351, 0.07418509922508013, 0.5381791743783085, 0.1780442381401923, 0.11734733877421764, 0.09239416903487252, 0.07814240824388105, 0.039071204121940525, 0.07032816741949295, 0.04688544494632863, 0.7657956007900343, 0.42495455752799816, 0.04785524296486466, 0.01416515191759994, 0.5013315252999222, 0.011676679283426977, 0.31188057705963734, 0.04907437651455991, 0.036160066905465194, 0.5863096562529, 0.016788602491823127, 0.99649547491369, 0.9913395974224082, 0.015020296930642548, 0.9884137616475472, 0.2414984549958706, 0.4985218106700472, 0.08883693165919526, 0.13454913921198505, 0.03536227376725248, 1.026019555910792, 1.0059015254027375, 0.18988902967012047, 0.13233416890727423, 0.5146328790838443, 0.12897330112550218, 0.03402878629044195, 0.9963210717407274, 0.052487851663128714, 0.9222865363664046, 0.014996529046608205, 0.0074982645233041025, 0.008346309948225192, 0.9598256440458971, 0.03338523979290077, 0.07498548441726018, 0.15145582991208986, 0.7015968591515928, 0.0438034017883005, 0.028212360473820662, 0.13502472786620714, 0.11165506342782515, 0.6569472336567387, 0.053230902331870125, 0.04284438480370035, 0.9975190126910479, 0.019210971648202745, 0.8132644664405828, 0.05635218350139472, 0.10501997834350833, 0.007684388659281098, 0.13591589350657216, 0.38573313438837026, 0.2932082303580747, 0.10369170279257266, 0.08135810526801854, 0.9889050711533464, 0.87249743094691, 0.020818810716737548, 0.013248334092469349, 0.08516786202301724, 0.009463095780335249, 0.5583485842880732, 0.03786262244462811, 0.0027521289442130567, 0.3963899658134745, 0.004586881573688428, 0.9259767611968787, 0.026839906121648657, 0.02012992959123649, 0.026839906121648657, 0.015884351286657893, 0.9054080233395, 0.010589567524438596, 0.06883218890885087, 0.9117377361127768, 0.0024686039786447024, 0.08557827125968302, 0.013766118051500338, 0.9429790865277731, 0.006883059025750169, 0.020649177077250506, 0.013766118051500338, 0.1614343318614823, 0.7037970432908481, 0.019825268825094316, 0.052395353323463546, 0.062307987736010706, 0.09620643286459593, 0.6293504149892317, 0.08532594343348092, 0.06184699255581167, 0.12712992914250176, 0.9906289513442973, 0.014568072813886725, 0.9767853644516935, 1.0010045042119422, 0.0757365597653277, 0.3483881749205074, 0.05409754268951979, 0.028130722198550288, 0.49120568762083966, 0.03663155377587537, 0.9096835854342383, 0.02442103585058358, 0.030526294813229476, 0.0911097155155378, 0.8795591767076919, 0.003504219827520685, 0.02102531896512411, 0.00700843965504137, 1.0126883961303037, 1.026019555910792, 0.9801769803004842, 0.4886109187558331, 0.1191617225956929, 0.07130560910344676, 0.22540229454847932, 0.09523366584956983, 0.0095489703430654, 0.1679027285322333, 0.5025145643038167, 0.21524970648326588, 0.10424292624513061, 0.16416595251619226, 0.11551455295909567, 0.4558141819467018, 0.2336307850388917, 0.030699813624264164, 1.0112992488105093, 1.026019555910792, 0.024389034044138277, 0.7658156689859419, 0.1918604011472211, 0.004877806808827655, 0.014633420426482966, 0.9870410586431617, 0.9995806002230203, 1.0077841679662738, 0.2146408917841231, 0.01940256648896028, 0.6960670727914501, 0.02546586851676037, 0.04486843500572065, 1.0059015254027375, 0.939459817595679, 0.020765214345335705, 0.14795215221051689, 0.02465869203508615, 0.09474129045059415, 0.7112085913277478, 0.07529606940965812, 0.10171574288673114, 0.7179546267394594, 0.05283934695414605, 0.05283934695414605, 0.4941832074870637, 0.036672963086022976, 0.03366698250520142, 0.4178313007341962, 0.018637079601093644, 1.026019555910792, 1.0056558378238434, 0.9906601565603823, 1.026019555910792, 1.026019555910792, 0.26558850138158646, 0.10286626166871161, 0.03297455077882045, 0.5885240475959042, 0.010394151875932534, 0.17732325847488428, 0.03218925392696944, 0.007906132543466178, 0.7804482267907328, 0.0022588950124189083, 0.939459817595679, 0.34735810126544053, 0.2415281914319146, 0.28245892310968945, 0.07006161278177675, 0.058630507538434226, 0.939459817595679, 0.939459817595679, 0.939459817595679, 0.939459817595679, 0.939459817595679, 0.939459817595679, 0.9739503284224303, 0.34611815512622635, 0.1585302070769432, 0.25600237616137467, 0.19567997718082086, 0.0437705212114994, 1.00215863600589, 1.0076874657790431, 1.026019555910792, 1.0126883961303037, 0.9821625365773006, 0.3890409283872292, 0.05007100837576376, 0.019812269501201487, 0.5331301611232401, 0.0075646847186405675, 0.03253027740549048, 0.9352454754078513, 0.03253027740549048, 1.0033867715892304, 1.0551128557909661, 0.9947221598071894, 0.9906601565603823, 0.972969796621804, 0.9889050711533462, 0.2834753131285959, 0.061599880713911516, 0.015062039798385888, 0.6235298270383081, 0.016413761318753852, 0.14545324307204394, 0.02711840125072006, 0.020955128239192773, 0.7999928368962417, 0.007395927613832743, 0.9739503284224303, 0.08715236333746723, 0.012709719653380637, 0.900574421153828, 1.00015906121852, 1.026019555910792, 1.026019555910792, 0.6399794206625935, 0.08269397008561602, 0.07610242174545821, 0.18216642685527007, 0.019175413353186323, 0.8018160164456994, 0.01667088967794546, 0.019359742851807634, 0.16079341979695785, 0.0010755412695448686, 0.9762105707753168, 0.02077043767607057, 0.02435638255684422, 0.9742553022737688, 0.9986590344198376, 1.0007895668310183, 0.998900096283194, 0.9801769803004842, 0.07068088434614415, 0.8658408332402658, 0.03534044217307208, 0.030922886901438067, 0.9801769803004842, 0.046016916377251436, 0.037650204308660264, 0.886871479270664, 0.012550068102886754, 0.01673342413718234, 0.6975745447269681, 0.022300085345917063, 0.11428793739782495, 0.16516000709319825, 0.0013937553341198164, 0.1665031882009204, 0.3273833794269504, 0.29333300885678093, 0.14401120030135892, 0.06903790730282065, 0.014463315212168313, 0.05785326084867325, 0.925652173578772, 1.0129083415593272, 0.2601704566277487, 0.06142913559266288, 0.06142913559266288, 0.03974826420701716, 0.5745430917196116, 0.9947221598071896, 0.09409198900951832, 0.8511048096770066, 0.017107634365366966, 0.012830725774025225, 0.02566145154805045, 1.0015905188652972, 0.7961621015842266, 0.057299545189773884, 0.033173420899342776, 0.030157655363038886, 0.08142566948020499, 0.9964954749136902, 1.026019555910792, 0.07221594441534425, 0.07221594441534425, 0.01444318888306885, 0.8377049552179934, 0.05108727942064667, 0.004257273285053889, 0.9280855761417479, 0.004257273285053889, 0.012771819855161667, 0.09161845956938044, 0.7391943897075013, 0.04789146750217614, 0.04580922978469022, 0.077042795546979, 1.026019555910792, 0.9939349073130759, 1.0023572130014178, 1.0037147829562096, 0.3863409750267547, 0.17383264538340523, 0.14721712073140059, 0.2220732838151636, 0.07069748735688729, 0.13548121371462923, 0.02799198630467546, 0.011196794521870184, 0.8229643973574585, 0.0033590383565610554, 1.0092383838000543, 0.4251809268699666, 0.2895403857826153, 0.13564054108735132, 0.08521008350359249, 0.0643423079516923, 0.9930473936856151, 0.04680806300815048, 0.17523018459461462, 0.7285254934858293, 0.03240558208256572, 0.016802894413182223, 0.9964954749136902, 0.08784600492332152, 0.9004215504640457, 0.892180305099925, 0.00651226500072938, 0.01302453000145876, 0.08465944500948193, 0.939459817595679, 1.026019555910792, 0.939459817595679, 0.939459817595679, 0.939459817595679, 0.939459817595679, 1.055112855790966, 1.0088083639612224, 1.026019555910792, 0.91931362943601, 0.008925375043068059, 0.04462687521534029, 0.026776125129204173, 0.01600850886727053, 0.9845232953371378, 0.19478879664535087, 0.6233241492651228, 0.07295725837989506, 0.08854036211152312, 0.020541364009873365, 0.014900390037232775, 0.022350585055849165, 0.02980078007446555, 0.9238241823084321, 0.007450195018616388, 1.0260195559107923, 1.026019555910792, 0.46222174272594796, 0.04584638423785825, 0.0033821103126288874, 0.4798838743585655, 0.00864317079894049, 0.9946850468657651, 1.00715318052774, 1.0000701284083038, 0.972969796621804, 0.3059426758960413, 0.09077420054058367, 0.11580247805588864, 0.414274026335421, 0.07359060702261311, 0.9821625365773006, 0.8897341802162134, 0.006897164187722585, 0.10345746281583877, 0.038007966808147754, 0.23890721993692873, 0.04615253112417941, 0.12488331951248548, 0.5511155187181425, 0.02147895245315937, 0.9665528603921716, 0.16528880125931492, 0.6864545113524608, 0.033732408420268346, 0.10288384568181846, 0.011806342947093922, 0.1006762998936467, 0.7067476252533998, 0.022148785976602272, 0.06845988392767975, 0.10268982589151963, 0.057323990176525, 0.9458458379126625, 0.02788830510871705, 0.9482023736963797, 0.01859220340581137, 0.009296101702905684, 1.0008440874036335, 0.08484053260073013, 0.7750297302445076, 0.04815273471933332, 0.06649663366003172, 0.022929873675873007, 0.9774252400599448, 0.02961894666848318, 0.036517233880853164, 0.9616204921958, 0.8419009111168118, 0.03377997482876097, 0.03637843443097335, 0.06496149005530955, 0.02598459602212382, 1.00715318052774, 0.8342329675394822, 0.030897517316277115, 0.03433057479586346, 0.05149586219379519, 0.048062804714208845, 0.811379374356545, 0.04761616046693339, 0.028569696280160036, 0.07809050316577076, 0.03618828195486938, 0.9045690337728379, 0.004943000184551027, 0.03460100129185719, 0.05931600221461232, 1.0082007798587775, 0.9930473936856149, 1.0551128557909661, 0.9139584784018836, 0.008308713440017124, 0.06646970752013699, 0.016617426880034248, 0.00587641345843048, 0.00587641345843048, 0.9725464273702443, 0.00587641345843048, 0.008814620187645719, 1.0551128557909661, 0.9841959993859494, 0.09648719968247645, 0.12288464110504076, 0.5670898622847437, 0.18796798806067344, 0.02594231312217527, 1.055112855790966, 0.004980929288436965, 0.12784385173654875, 0.8484182887970964, 0.008301548814061607, 0.01162216833968625, 0.03670809736918881, 0.07210519126090657, 0.8547742673111107, 0.01966505216206543, 0.017043045207123374, 0.33209787126394347, 0.1755955756635931, 0.1796646353492022, 0.22849335157651152, 0.0841982350329885, 0.9751814184958482, 0.9751814184958482, 0.9751814184958483, 1.0037147829562096, 0.9751814184958482, 0.9751814184958482, 0.9751814184958482, 0.9751814184958482, 0.9751814184958482, 0.9751814184958482, 0.9751814184958482, 0.9751814184958482, 0.9751814184958482, 0.9751814184958482, 0.9751814184958482, 0.9916520296843276, 0.9751814184958482, 0.9751814184958482, 0.9751814184958482, 0.9751814184958482, 0.9751814184958482, 0.9751814184958482, 1.014531592106698, 0.9751814184958482, 0.9967047114561983, 0.9916520296843279, 0.054438783708103095, 0.9436055842737869, 0.982346451943313, 0.9979094310913184, 0.8826950513966355, 0.030971756189355635, 0.050329103807702905, 0.03871469523669454, 0.9929221508814118, 1.0551128557909661, 1.0378344497299243, 0.13418390827431986, 0.21847892757485413, 0.12902298872530754, 0.020643678196049207, 0.4971685832215184, 0.006355391963994421, 0.816667867373283, 0.1239301432978912, 0.03495465580196931, 0.015888479909986052, 1.0378344497299243, 1.0378344497299243, 1.0378344497299243, 1.0378344497299243, 1.0378344497299243, 1.0378344497299243, 1.0378344497299243, 1.0378344497299243, 1.0378344497299243, 1.0378344497299243, 1.0378344497299246, 1.0378344497299243, 1.0378344497299243, 1.0378344497299243, 1.0378344497299243, 1.0378344497299243, 1.0378344497299243, 0.20701887625593127, 0.22653779887434766, 0.252267287780442, 0.25167580527685357, 0.06240140412857357, 1.0025229248593999, 1.0378344497299243, 1.0378344497299243, 1.0378344497299246, 1.0378344497299246, 1.0378344497299243, 1.0378344497299243, 1.0378344497299243, 1.0378344497299243, 1.0378344497299243, 1.0378344497299243, 1.0378344497299243, 0.3584864757644238, 0.18731422795570735, 0.1382157050086099, 0.22262480952725003, 0.09348896835132252, 0.9884137616475468, 1.0551128557909661, 0.9801769803004838, 0.9801769803004842, 0.9767853644516935, 0.9767853644516935, 0.9801769803004841, 0.9932403336531787, 1.0015905188652972, 0.14669634542090412, 0.06400572252781996, 0.6539715127842475, 0.07593225467586096, 0.05923510966860357, 0.9889050711533464, 1.0056558378238434, 0.01123654773552766, 0.7833478992767855, 0.12360202509080427, 0.0642088442030152, 0.01765743215582918, 0.08242244204699213, 0.8059083222372564, 0.009158049116332459, 0.045790245581662295, 0.057237806977077865, 1.0088083639612222, 0.9972984527339276, 0.9999343129639074, 0.014139224616672424, 0.9826761108587334, 1.0048693864675866, 0.022338754771950808, 0.029785006362601077, 0.9456739520125842, 0.08995745439761012, 0.9099542502527485, 0.998289297642933, 0.9801769803004842, 0.985942727243428, 1.002269791231844, 1.0070191937642958, 0.9889050711533466, 0.6490160137800908, 0.09271657339715583, 0.07069638721533132, 0.08923970189476249, 0.09851135923447807, 0.9889050711533462, 0.11441505064786862, 0.40631605243924535, 0.10522381389222266, 0.2785895554556136, 0.09571563793810615, 1.000994688693456, 0.985942727243428, 0.9821625365773006, 0.017023772848304718, 0.09363075066567596, 0.008511886424152359, 0.876724301687693, 0.9569166077900375, 0.003211129556342408, 0.003211129556342408, 0.035322425119766486, 0.1912218478006241, 0.09869514725193501, 0.09869514725193501, 0.6106762236213479, 0.5761087729887592, 0.03696954692975995, 0.08774562218822654, 0.274076702855813, 0.025216882319373298, 0.7637859634392401, 0.015617116703702959, 0.0021791325633073897, 0.21282861368302172, 0.005447831408268474, 0.005342967974706309, 0.0066787099683828875, 0.9403623635483105, 0.0066787099683828875, 0.0414080018039739, 0.15234933636771755, 0.06013789593462535, 0.06815628205924207, 0.016036772249233427, 0.7016087859039625, 0.24925799014449349, 0.06519055126855983, 0.11504214929745853, 0.04218212140906813, 0.5253591484583939, 0.02060005326577103, 0.027466737687694705, 0.04120010653154206, 0.913269028115849, 0.939459817595679, 0.939459817595679, 0.939459817595679, 0.939459817595679, 0.939459817595679, 1.014188675235682, 0.939459817595679, 0.939459817595679, 0.939459817595679, 0.939459817595679, 0.939459817595679, 1.0065640902810846, 0.0164483611686365, 0.00822418058431825, 0.9786774895338718, 1.0038632249221968, 0.28183806273216067, 0.1998641734217571, 0.12507356307154358, 0.259865680030403, 0.13310193367410886, 1.0551128557909661, 0.237246050754453, 0.31947874563747053, 0.13772963674988165, 0.21996233163289922, 0.0854733922183089, 0.26006719695220365, 0.048133983966291836, 0.007902594382525526, 0.6774678638837791, 0.007184176711386841, 0.1900837169267917, 0.17256448034367727, 0.1274524461421576, 0.31052846843570353, 0.19928131613292682, 0.9864328084754629, 0.9655109369579836, 0.03407685659851707, 0.8239955055392341, 0.08368704353132847, 0.07295793538628635, 0.0193123946610758, 1.0126883961303037, 1.0020470549116511, 0.5340706954310732, 0.08685676046747454, 0.0255791754127514, 0.31144754238822586, 0.042163475955084725, 0.05267659754533071, 0.07188806253245132, 0.816177399614124, 0.01859174031011672, 0.04090182868225679, 0.06888222471855115, 0.06257240260692815, 0.7655917495435914, 0.023661832918586274, 0.07887277639528759, 0.24290062461809356, 0.3094342739700061, 0.1760149453754301, 0.17671900515693184, 0.09504807050273226, 0.1270788798660804, 0.4221603466737586, 0.017231034558112597, 0.034462069116225194, 0.4006215534761179, 1.0073646548942323, 0.10702763100404919, 0.12701842415135722, 0.5972633891088033, 0.09903131374512598, 0.0691988993560663, 0.9853276602590325, 0.0218961702279785, 1.014188675235682, 0.05745240403816453, 0.9479646666297148, 0.988413761647547, 0.23653991601904528, 0.04145544919921412, 0.06584100755169302, 0.6413401846701949, 0.014631335011487338, 0.2376831605559094, 0.546271801781859, 0.13282294266359643, 0.06091879325172468, 0.022969381062125697, 0.031350050282931904, 0.971851558770889, 0.26118578657929853, 0.2685002076737013, 0.1598505776672603, 0.21775641133128215, 0.09280171763523501, 0.10142393058623353, 0.5513364896645749, 0.02897826588178101, 0.3047714170325244, 0.013739695030154788, 1.026019555910792, 0.05920055170325802, 0.2951057804601801, 0.0089697805610997, 0.009866758617209669, 0.626987661220869, 0.9891683023040306, 0.8629269028998795, 0.004482737157921452, 0.1299993775797221, 0.002241368578960726, 0.07251615782982043, 0.0804270114112554, 0.7784656631445399, 0.03748237768346563, 0.031078353355637328, 0.1259972239971856, 0.029939934415172818, 0.007484983603793204, 0.8345756718229423, 0.002494994534597735, 0.1126581032215303, 0.013451713817496156, 0.005044392681561058, 0.8693170054556891, 0.20996268955903258, 0.04599182723674047, 0.007998578649867909, 0.7288704794692131, 0.007998578649867909, 0.015273347319342809, 0.9774942284379398, 0.43592764315197013, 0.11702257389947893, 0.06383049485426123, 0.3164310190643415, 0.0670467600988558, 0.3541622140894312, 0.0704740999368514, 0.013736477106335443, 0.5446811791729532, 0.017021286849154788, 0.9859427272434282, 0.08673694659164541, 0.8442396134920153, 0.002891231553054847, 0.049150936401932396, 0.017347389318329083, 0.06007316850170445, 0.08082571762047508, 0.7896891059405876, 0.027305985682592935, 0.04259733766484498, 0.051910539035370865, 0.9136254870225272, 0.020764215614148346, 0.01557316171061126, 0.12794410255830954, 0.1618569972123193, 0.680570135897514, 0.018497942538550777, 0.010790466480821288, 0.15407320250584405, 0.08730814808664496, 0.13866588225525964, 0.06933294112762982, 0.5546635290210385, 0.06944073843942264, 0.05839334823315086, 0.07259713564121457, 0.048924156627775044, 0.7512225340264813, 0.9607375281863212, 0.04803687640931606, 0.9801769803004842, 1.0048693864675866, 0.8865974507522912, 0.01368205942518968, 0.0985108278613657, 0.002736411885037936, 1.026019555910792, 0.9947221598071896, 0.9658827144162824, 0.031668285718566634, 0.27640117765847705, 0.041127527529051286, 0.06955390685060145, 0.5800191014758851, 0.03326491197202678, 0.0507137109459825, 0.019721998701215417, 0.848045944152263, 0.07043570964719792, 0.011269713543551668, 0.007177408557968637, 0.007177408557968637, 0.9402405210938914, 0.05024185990578046, 0.9969777656117411, 0.10360315148727071, 0.781567634026779, 0.021811189786793833, 0.07633916425377842, 0.01817599148899486, 0.9832115839546652, 1.026019555910792, 0.9939349073130758, 0.07248007261204983, 0.04983004992078426, 0.029445029498645244, 0.8425808441150793, 0.006795006807379672, 1.0065640902810846, 0.2124207336747235, 0.07498519049634601, 0.02529351201817045, 0.6759858964148208, 0.011191819477066569, 0.20081061847620663, 0.045377983915402535, 0.005737446242177332, 0.7463895975050693, 0.0015647580660483633, 0.020011576244599556, 0.08004630497839822, 0.9005209310069799, 1.0015905188652972, 1.0064153393698443, 1.0037147829562096, 0.05987806952160855, 0.09078287959727747, 0.11202993652429986, 0.04249411385404478, 0.6934266760728216, 1.0551128557909661, 0.8465212294779552, 0.026323900752996968, 0.008312810764104306, 0.10529560301198787, 0.01385468460684051, 0.7942421462665158, 0.01056173066843771, 0.035909884272688215, 0.1415271909570653, 0.01901111520318788, 0.9451224432767548, 0.04247741318097774, 0.010619353295244435, 0.0974276564219432, 0.03979439487656835, 0.08919433334403251, 0.7355101949600219, 0.037049953850598116, 0.9916520296843276, 0.058865633134638745, 0.01962187771154625, 0.078487510846185, 0.0392437554230925, 0.8044969861733963, 0.05286286808707235, 0.6475701340666362, 0.21938090256135023, 0.026431434043536175, 0.05286286808707235, 0.23560097750363168, 0.23722748248933537, 0.2522813052293588, 0.20988835613389045, 0.06499098645003236, 0.06768007746543563, 0.8324649528248582, 0.036096041314899, 0.02707203098617425, 0.036096041314899, 1.007697778126671, 1.007687465779043, 0.9800034774579034, 0.01849063165014912, 1.014188675235682, 0.20349980982774787, 0.1906953274116199, 0.3699580812374113, 0.17148860378742797, 0.06447971502407292, 0.14296052563875628, 0.26095968965804717, 0.30804589453112957, 0.18399549133136223, 0.10400567341443909, 0.09205765076838814, 0.3548822437121363, 0.43221067035758226, 0.08883563299149455, 0.031759889515093905, 0.9801769803004841, 0.1845608490951622, 0.04849245838970929, 0.01881796892734987, 0.7411384685233181, 0.007237680356673028, 0.07806639183805954, 0.06751687942751095, 0.8080926506480217, 0.03586834219586519, 0.010549512410548585, 0.9767900705290422, 0.021234566750631352, 0.7669221754631671, 0.0020129190957038504, 0.22947277691023896, 0.0020129190957038504, 0.9669207928783015, 0.035375150958962244, 1.026019555910792, 0.0369806618666323, 0.9614972085324398, 0.985942727243428, 0.00672441071044593, 0.04370866961789854, 0.6769240115182236, 0.07620998805172054, 0.19500791060293196, 0.939459817595679, 1.026019555910792, 0.939459817595679, 0.0381922959762191, 0.0215869498996021, 0.9207664399484126, 0.0099632076459702, 0.0099632076459702, 0.939459817595679, 0.939459817595679, 0.939459817595679, 0.06463282576630575, 0.026998522155545438, 0.8189551720515449, 0.05236077024105782, 0.037634303610760304, 0.11204258145655432, 0.006402433226088819, 0.04801824919566614, 0.1024389316174211, 0.7298773877741254, 0.014691201089763965, 0.05876480435905586, 0.02448533514960661, 0.05876480435905586, 0.8422955291464673, 0.02742250836818823, 0.9750225197578039, 1.0048693864675866, 0.97889396549783, 0.018824883951881345, 0.02655099957481866, 0.02655099957481866, 0.9558359846934718, 0.9905141095180497, 0.9975190126910479, 1.0086293939462025, 1.007019193764296, 1.0551128557909661, 1.026019555910792, 1.026019555910792, 1.0082189510891453, 0.18481027778289702, 0.09339874253544257, 0.10730919355135955, 0.1649382049030156, 0.4491088470853196, 0.18729904459340022, 0.22443087519759528, 0.19151590863677884, 0.34894549958958054, 0.04790826093727373, 0.29887137448601986, 0.19419349795872118, 0.08426714851361926, 0.3819721956845717, 0.04082145602735881, 0.9751814184958479, 0.9751814184958482, 0.9751814184958482, 0.9751814184958482, 0.9751814184958482, 0.9751814184958482, 0.9751814184958482, 0.9751814184958482, 0.029083159195074815, 0.239376771836385, 0.08053797930943794, 0.06040348448207846, 0.5928490143611405, 0.029653023230697382, 0.963723254997665, 0.1296893564539769, 0.7541934883015886, 0.05187574258159076, 0.0279330921593181, 0.03391875476488626, 0.9870410586431618, 1.0551128557909661, 1.0551128557909661, 1.0076874657790431, 1.0088083639612224, 0.9963210717407271, 0.07054062358801202, 0.03891896473821353, 0.8416226124638677, 0.03891896473821353, 0.009729741184553383, 0.8131495578963529, 0.050821847368522056, 0.0618700750573312, 0.03756397414195108, 0.03535432860418925, 0.9599939882018074, 0.03368399958602833, 0.3805702738877408, 0.544995158954858, 0.00849142598938164, 0.06175582537732102, 0.005403634720515589, 1.026019555910792, 1.0177481357286522, 1.000994688693456, 1.0551128557909661, 0.037548055305160824, 0.018774027652580412, 0.037548055305160824, 0.018774027652580412, 0.8823792996712794, 1.00715318052774, 0.2771811224607733, 0.2482294157550613, 0.20744527239571048, 0.1951093277993636, 0.07200163580724903, 0.9906601565603823, 0.26660759968408315, 0.21875495358694003, 0.07793145221534739, 0.13945628291167428, 0.29805362426220583, 0.20284863048749896, 0.19546648096026403, 0.3681445872929768, 0.19354070282272448, 0.03979941484248397, 0.013990924949589777, 0.006995462474794888, 0.9793647464712844, 1.026019555910792, 0.013123274868227596, 0.96062372035426, 0.005249309947291038, 0.010498619894582076, 0.010498619894582076, 0.008880185261566339, 0.8643380321257903, 0.04736098806168714, 0.03256067929240991, 0.0444009263078317, 0.06386454708301426, 0.1307702630747435, 0.75497018158849, 0.033452857995864616, 0.016726428997932308, 0.023537755595098103, 0.1824176058620103, 0.011768877797549052, 0.782630373537012, 0.008971795437495796, 0.08523205665621006, 0.008971795437495796, 0.026915386312487386, 0.8702641574370922, 0.9916520296843279, 0.4029850859526336, 0.04380697186983079, 0.008657247041140409, 0.5411104861127836, 0.003514972482869038, 0.11626049839784777, 0.28963141706130496, 0.3340959585538152, 0.19009611316981426, 0.07016423061203445, 0.09852553901262749, 0.01589121596977863, 0.8867298511136474, 1.0551128557909661, 0.9947221598071897, 0.12101692971975873, 0.5997768885233656, 0.13906331397621396, 0.09129347329736184, 0.048831392693937735, 0.5381207648668639, 0.16788866703646044, 0.09584688827081511, 0.1227842490266651, 0.07517403001632557, 1.012688396130304, 0.007622480129805958, 0.007622480129805958, 0.9566212562906476, 0.02667868045432085, 1.004644148495984, 1.0038632249221966, 0.03785155835784274, 0.03280468391013038, 0.8882499027973764, 0.02523437223856183, 0.015140623343137097, 0.9984000236981302, 1.0551128557909661, 0.17618086981163397, 0.08497612660106589, 0.019575652201292666, 0.7131766017880032, 0.006228616609502212, 0.07366496770530481, 0.035195484570312296, 0.004092498205850267, 0.8847981121048277, 0.001636999282340107, 0.16538629217182108, 0.07456722999654361, 0.01179054491398339, 0.7440789830851681, 0.004142623888696867, 0.06798931182564319, 0.044583155295503725, 0.011145788823875931, 0.8671423704975475, 0.010031209941488338, 0.13076448803443427, 0.03781914114721383, 0.012820047846513164, 0.8159960454305629, 0.0019230071769769745, 0.027440507968037358, 0.9741380328653262, 0.7995836265538898, 0.002184654717360355, 0.02840051132568461, 0.14855652078050413, 0.02184654717360355, 0.3614977545744665, 0.20768553502550344, 0.0991581313843569, 0.2705377364148005, 0.06090026966913258, 0.016408910076858522, 0.032817820153717044, 0.008204455038429261, 0.943512329419365, 0.051531900190683474, 0.6183828022882016, 0.0438405718040143, 0.01230612541867068, 0.27458042340408956, 1.0065640902810846, 0.9400689827678015, 0.05915040790449088, 0.7878621389414331, 0.012074515539332307, 0.003018628884833077, 0.19319224862931691, 0.003018628884833077, 0.9720904935075887, 0.026391597108803313, 0.06958338106680903, 0.17782419605962307, 0.007731486785201003, 0.7499542181644973, 0.20414242020503084, 0.07963797711295159, 0.5350326068010973, 0.1435726911332085, 0.03757566525751942, 0.3577168150979537, 0.07355260490980994, 0.1252188249440179, 0.4262463152822157, 0.017222073344735987, 1.0129083415593272, 0.09155106227539361, 0.6861511193692659, 0.07131345903556977, 0.10311540698386439, 0.04818476961862822, 1.004250149843657, 0.1431551369521096, 0.29223488496190997, 0.36250352773917266, 0.13309707631928575, 0.06916638955722716, 0.2514725689459712, 0.236200955447228, 0.2563085798872399, 0.15780667282034627, 0.09824738017524784, 0.9823301023980968, 0.020465210466627016, 0.25026509520766693, 0.2971004201679589, 0.1648174412724778, 0.1973519036494745, 0.09045295583934247, 0.9864328084754629, 1.007687465779043, 1.0378344497299243, 0.9751814184958482], \"Term\": [\"000\", \"000\", \"000\", \"000\", \"000\", \"18f\", \"247\", \"___\", \"___\", \"___\", \"___\", \"___\", \"aa\", \"abedin\", \"abedin\", \"abele\", \"access\", \"access\", \"access\", \"access\", \"access\", \"accruing\", \"ackal\", \"actor\", \"actor\", \"actor\", \"actor\", \"actor\", \"actress\", \"actress\", \"actress\", \"actress\", \"aggravated\", \"aggravated\", \"aides\", \"aides\", \"aides\", \"aides\", \"airlines\", \"airlines\", \"airlines\", \"airlines\", \"american\", \"american\", \"american\", \"american\", \"american\", \"archambault\", \"archambault\", \"ariana\", \"arismendez\", \"artifacts\", \"artifacts\", \"attorney\", \"attorney\", \"attorney\", \"attorney\", \"attorney\", \"authorities\", \"authorities\", \"authorities\", \"authorities\", \"authorities\", \"ayotte\", \"ayotte\", \"bahlul\", \"ballot\", \"ballot\", \"ballot\", \"ballot\", \"ballot\", \"ballots\", \"ballots\", \"ballots\", \"ballots\", \"ballots\", \"banc\", \"barbiturate\", \"baroni\", \"baroni\", \"baroni\", \"barrington\", \"bayh\", \"bikila\", \"billion\", \"billion\", \"billion\", \"billion\", \"billion\", \"bismarck\", \"bismarck\", \"bismarck\", \"bison\", \"boeckmann\", \"booths\", \"booz\", \"borges\", \"bourbon\", \"boy\", \"boy\", \"boy\", \"boy\", \"boy\", \"brandt\", \"brotherson\", \"brumbacks\", \"burr\", \"burr\", \"burr\", \"bursten\", \"bus\", \"bus\", \"bus\", \"bus\", \"bus\", \"bystander\", \"bystander\", \"california\", \"california\", \"california\", \"california\", \"california\", \"camp\", \"camp\", \"camp\", \"camp\", \"camp\", \"campaign\", \"campaign\", \"campaign\", \"campaign\", \"campaign\", \"candidate\", \"candidate\", \"candidate\", \"candidate\", \"candidate\", \"cann\", \"cannabis\", \"cannabis\", \"cannonball\", \"care\", \"care\", \"care\", \"care\", \"care\", \"carjacking\", \"carver\", \"case\", \"case\", \"case\", \"case\", \"case\", \"cellars\", \"cents\", \"cents\", \"cents\", \"cents\", \"chappell\", \"chappell\", \"chappell\", \"charged\", \"charged\", \"charged\", \"charged\", \"charged\", \"charges\", \"charges\", \"charges\", \"charges\", \"charges\", \"chillicothe\", \"christie\", \"christie\", \"christie\", \"christie\", \"christie\", \"city\", \"city\", \"city\", \"city\", \"city\", \"clapper\", \"classified\", \"classified\", \"classified\", \"classified\", \"classified\", \"clinton\", \"clinton\", \"clinton\", \"clinton\", \"clinton\", \"closures\", \"closures\", \"closures\", \"closures\", \"colonial\", \"colonial\", \"colonial\", \"colonial\", \"comey\", \"comey\", \"comey\", \"commuter\", \"commuter\", \"commuter\", \"commuter\", \"commuter\", \"companies\", \"companies\", \"companies\", \"companies\", \"companies\", \"company\", \"company\", \"company\", \"company\", \"company\", \"composite\", \"composite\", \"comscore\", \"comstock\", \"construction\", \"construction\", \"construction\", \"construction\", \"construction\", \"consumer\", \"consumer\", \"consumer\", \"consumer\", \"consumers\", \"consumers\", \"consumers\", \"consumers\", \"consumers\", \"copenhaver\", \"corwin\", \"coulthurst\", \"country\", \"country\", \"country\", \"country\", \"country\", \"county\", \"county\", \"county\", \"county\", \"county\", \"court\", \"court\", \"court\", \"court\", \"court\", \"cps\", \"cramsey\", \"crash\", \"crash\", \"crash\", \"crash\", \"crash\", \"crist\", \"crooks\", \"crosstalk\", \"cubs\", \"cubs\", \"cubs\", \"cubs\", \"cubs\", \"curley\", \"dahr\", \"dakota\", \"dakota\", \"dakota\", \"dakota\", \"dakota\", \"death\", \"death\", \"death\", \"death\", \"death\", \"debate\", \"debate\", \"debate\", \"debate\", \"debate\", \"decals\", \"deductible\", \"deforest\", \"deleon\", \"deliberated\", \"democratic\", \"democratic\", \"democratic\", \"democratic\", \"democratic\", \"democrats\", \"democrats\", \"democrats\", \"democrats\", \"democrats\", \"denizens\", \"department\", \"department\", \"department\", \"department\", \"department\", \"deprecation\", \"depreciation\", \"derails\", \"deregulation\", \"desai\", \"descendant\", \"detzner\", \"did\", \"did\", \"did\", \"did\", \"did\", \"dimasi\", \"directv\", \"disarro\", \"disk\", \"domains\", \"donald\", \"donald\", \"donald\", \"donald\", \"donald\", \"dow\", \"dow\", \"dow\", \"dubose\", \"ducey\", \"dunford\", \"dyson\", \"edinburgh\", \"ehrman\", \"election\", \"election\", \"election\", \"election\", \"election\", \"elections\", \"elections\", \"elections\", \"elections\", \"elections\", \"elector\", \"electoral\", \"electoral\", \"electoral\", \"electors\", \"elhassan\", \"elhuzayel\", \"email\", \"email\", \"email\", \"email\", \"email\", \"emails\", \"emails\", \"emails\", \"emails\", \"emails\", \"enrollment\", \"enrollment\", \"epa\", \"epa\", \"epps\", \"eramo\", \"erdely\", \"etp\", \"explosion\", \"explosion\", \"explosion\", \"explosion\", \"fallis\", \"fatally\", \"fatally\", \"fatally\", \"fatally\", \"fatally\", \"fbi\", \"fbi\", \"fbi\", \"fbi\", \"fbi\", \"federal\", \"federal\", \"federal\", \"federal\", \"federal\", \"feingold\", \"feingold\", \"feingold\", \"fieldworks\", \"film\", \"film\", \"film\", \"film\", \"film\", \"fitton\", \"flint\", \"flint\", \"flint\", \"flint\", \"flint\", \"fogle\", \"forces\", \"forces\", \"forces\", \"forces\", \"forces\", \"foval\", \"freightcar\", \"gallery\", \"gallery\", \"gallery\", \"gallery\", \"gang\", \"gang\", \"gang\", \"gang\", \"gang\", \"gas\", \"gas\", \"gas\", \"gas\", \"gas\", \"gawker\", \"ge\", \"genforward\", \"gesell\", \"going\", \"going\", \"going\", \"going\", \"going\", \"gop\", \"gop\", \"gop\", \"gop\", \"gop\", \"gottheimer\", \"government\", \"government\", \"government\", \"government\", \"government\", \"greitens\", \"guilty\", \"guilty\", \"guilty\", \"guilty\", \"guilty\", \"guinta\", \"guo\", \"guo\", \"hacking\", \"hacking\", \"hacking\", \"hacking\", \"hacktivists\", \"haften\", \"hag\", \"hailee\", \"haim\", \"haima\", \"hardison\", \"hare\", \"haubrichs\", \"hayden\", \"hayden\", \"hayden\", \"hayden\", \"heaggan\", \"heaggan\", \"health\", \"health\", \"health\", \"health\", \"health\", \"heck\", \"heck\", \"heck\", \"heck\", \"heck\", \"helmets\", \"helter\", \"hillary\", \"hillary\", \"hillary\", \"hillary\", \"hillary\", \"hoboken\", \"hollingsworth\", \"hombres\", \"horinek\", \"house\", \"house\", \"house\", \"house\", \"house\", \"houthis\", \"huma\", \"huma\", \"huma\", \"hurricane\", \"hurricane\", \"hurricane\", \"hurricane\", \"hurricane\", \"husted\", \"husted\", \"increase\", \"increase\", \"increase\", \"increase\", \"increase\", \"industry\", \"industry\", \"industry\", \"industry\", \"industry\", \"inferno\", \"inferno\", \"inflation\", \"inflation\", \"inflation\", \"inflation\", \"inflators\", \"insurance\", \"insurance\", \"insurance\", \"insurance\", \"insurance\", \"insurer\", \"insurer\", \"insurers\", \"insurers\", \"intelligence\", \"intelligence\", \"intelligence\", \"intelligence\", \"intelligence\", \"interval\", \"iran\", \"iran\", \"iran\", \"iran\", \"iran\", \"iraq\", \"iraq\", \"iraq\", \"iraq\", \"iraq\", \"iraqi\", \"iraqi\", \"iraqi\", \"iraqi\", \"iraqis\", \"irregularities\", \"irregularity\", \"isis\", \"isis\", \"isis\", \"isis\", \"jackie\", \"jackie\", \"jackie\", \"jackie\", \"jackie\", \"jocelyn\", \"jong\", \"judge\", \"judge\", \"judge\", \"judge\", \"judge\", \"juras\", \"jurors\", \"jurors\", \"jurors\", \"jurors\", \"jurors\", \"jury\", \"jury\", \"jury\", \"jury\", \"jury\", \"just\", \"just\", \"just\", \"just\", \"just\", \"kaibab\", \"kalanick\", \"kaloyeros\", \"kane\", \"kaneohe\", \"kapphahn\", \"karan\", \"kary\", \"kasinga\", \"kassy\", \"kathay\", \"katten\", \"kaya\", \"kayal\", \"kayvan\", \"kazwini\", \"kboi\", \"kc\", \"kcc\", \"kcci\", \"keady\", \"keane\", \"keefe\", \"keisha\", \"kenoi\", \"kirchhoff\", \"kirchmeier\", \"kirchmeier\", \"knowledgepanel\", \"kohlhepp\", \"korea\", \"korea\", \"korea\", \"korea\", \"kuenzel\", \"kuster\", \"lace\", \"land\", \"land\", \"land\", \"land\", \"land\", \"lane\", \"lane\", \"lane\", \"lane\", \"lane\", \"lapis\", \"lapland\", \"lard\", \"lars\", \"laszlo\", \"latanya\", \"latching\", \"laterally\", \"latifah\", \"latimer\", \"laufenburger\", \"launcher\", \"launchpads\", \"lauria\", \"laval\", \"lavin\", \"lavonia\", \"law\", \"law\", \"law\", \"law\", \"law\", \"lawler\", \"laysan\", \"lazuli\", \"le\", \"leafs\", \"leake\", \"leal\", \"leanne\", \"lebanese\", \"lebowitz\", \"leeanne\", \"leestma\", \"like\", \"like\", \"like\", \"like\", \"like\", \"lionsgate\", \"lorenz\", \"lun\", \"lunar\", \"lycoming\", \"macmillan\", \"madea\", \"malaria\", \"malice\", \"man\", \"man\", \"man\", \"man\", \"man\", \"manafort\", \"mangano\", \"marijuana\", \"marijuana\", \"marijuana\", \"marijuana\", \"marijuana\", \"market\", \"market\", \"market\", \"market\", \"market\", \"marketplaces\", \"masto\", \"mateen\", \"mcconnell\", \"mcconnell\", \"mcgillivray\", \"mcginty\", \"mcginty\", \"mcginty\", \"mcmullin\", \"mcmullin\", \"mcqueary\", \"meaney\", \"mei\", \"mgp\", \"midazolam\", \"militarily\", \"military\", \"military\", \"military\", \"military\", \"military\", \"militias\", \"million\", \"million\", \"million\", \"million\", \"million\", \"mistrial\", \"moll\", \"mooney\", \"morton\", \"morton\", \"morton\", \"morton\", \"mosul\", \"mosul\", \"mosul\", \"mosul\", \"movie\", \"movie\", \"movie\", \"movie\", \"mr\", \"mr\", \"mr\", \"mr\", \"mr\", \"mrs\", \"mrs\", \"mrs\", \"mrs\", \"mrs\", \"murder\", \"murder\", \"murder\", \"murder\", \"murder\", \"museum\", \"museum\", \"museum\", \"museum\", \"museum\", \"music\", \"music\", \"music\", \"music\", \"music\", \"musician\", \"musician\", \"musician\", \"musician\", \"muy\", \"muzzle\", \"muzzled\", \"mygrandmother\", \"myla\", \"mylan\", \"mythic\", \"nada\", \"nadav\", \"nadon\", \"nairobi\", \"najib\", \"narrated\", \"narrated\", \"narrated\", \"nasdaq\", \"national\", \"national\", \"national\", \"national\", \"national\", \"nevadans\", \"new\", \"new\", \"new\", \"new\", \"new\", \"nominee\", \"nominee\", \"nominee\", \"nominee\", \"nominee\", \"north\", \"north\", \"north\", \"north\", \"north\", \"nsa\", \"ntsb\", \"ntsb\", \"nuclear\", \"nuclear\", \"nuclear\", \"nuclear\", \"nw\", \"oahe\", \"obama\", \"obama\", \"obama\", \"obama\", \"obama\", \"officer\", \"officer\", \"officer\", \"officer\", \"officer\", \"officers\", \"officers\", \"officers\", \"officers\", \"officers\", \"officials\", \"officials\", \"officials\", \"officials\", \"officials\", \"oil\", \"oil\", \"oil\", \"oil\", \"oil\", \"ojeda\", \"old\", \"old\", \"old\", \"old\", \"old\", \"osama\", \"osama\", \"ovarian\", \"panda\", \"panda\", \"pandas\", \"party\", \"party\", \"party\", \"party\", \"party\", \"pay\", \"pay\", \"pay\", \"pay\", \"pay\", \"penguin\", \"penguin\", \"people\", \"people\", \"people\", \"people\", \"people\", \"percent\", \"percent\", \"percent\", \"percent\", \"percent\", \"pino\", \"pipeline\", \"pipeline\", \"pipeline\", \"pipeline\", \"pipeline\", \"pitcock\", \"podesta\", \"podesta\", \"podesta\", \"podesta\", \"police\", \"police\", \"police\", \"police\", \"police\", \"poll\", \"poll\", \"poll\", \"poll\", \"poll\", \"polling\", \"polling\", \"polling\", \"polling\", \"polls\", \"polls\", \"polls\", \"polls\", \"polls\", \"portman\", \"portman\", \"president\", \"president\", \"president\", \"president\", \"president\", \"presidential\", \"presidential\", \"presidential\", \"presidential\", \"presidential\", \"preskey\", \"prices\", \"prices\", \"prices\", \"prices\", \"prices\", \"prison\", \"prison\", \"prison\", \"prison\", \"prison\", \"proposition\", \"proposition\", \"proposition\", \"proposition\", \"prosecutors\", \"prosecutors\", \"prosecutors\", \"prosecutors\", \"prosecutors\", \"protest\", \"protest\", \"protest\", \"protest\", \"protest\", \"protesters\", \"protesters\", \"protesters\", \"protesters\", \"protesters\", \"puppet\", \"puppet\", \"puppies\", \"purged\", \"putin\", \"putin\", \"putin\", \"putin\", \"puu\", \"qatar\", \"quijano\", \"quijano\", \"race\", \"race\", \"race\", \"race\", \"race\", \"rape\", \"rape\", \"rape\", \"rape\", \"rape\", \"raped\", \"raped\", \"raped\", \"raped\", \"raqqa\", \"rate\", \"rate\", \"rate\", \"rate\", \"rate\", \"reacher\", \"realin\", \"rebates\", \"registration\", \"registration\", \"registration\", \"registration\", \"registration\", \"reines\", \"republican\", \"republican\", \"republican\", \"republican\", \"republican\", \"republicans\", \"republicans\", \"republicans\", \"republicans\", \"republicans\", \"reservation\", \"reservation\", \"reservation\", \"rhoden\", \"rnc\", \"roanoke\", \"rock\", \"rock\", \"rock\", \"rock\", \"rock\", \"rohrabacher\", \"russia\", \"russia\", \"russia\", \"russia\", \"russia\", \"russian\", \"russian\", \"russian\", \"russian\", \"russian\", \"russians\", \"russians\", \"russians\", \"ryan\", \"ryan\", \"ryan\", \"ryan\", \"ryan\", \"saakashvili\", \"sacred\", \"sacred\", \"sacred\", \"sacred\", \"sacred\", \"safety\", \"safety\", \"safety\", \"safety\", \"safety\", \"said\", \"said\", \"said\", \"said\", \"said\", \"sales\", \"sales\", \"sales\", \"sales\", \"sales\", \"sampson\", \"samsung\", \"sandusky\", \"sandusky\", \"santoro\", \"say\", \"say\", \"say\", \"say\", \"say\", \"says\", \"says\", \"says\", \"says\", \"says\", \"school\", \"school\", \"school\", \"school\", \"school\", \"schuster\", \"senate\", \"senate\", \"senate\", \"senate\", \"senate\", \"sentence\", \"sentence\", \"sentence\", \"sentence\", \"sentence\", \"septa\", \"septa\", \"server\", \"server\", \"server\", \"server\", \"sexting\", \"sexting\", \"sharion\", \"shark\", \"shark\", \"shearer\", \"sheriff\", \"sheriff\", \"sheriff\", \"sheriff\", \"sheriff\", \"shipwrecks\", \"shmurda\", \"shone\", \"shooting\", \"shooting\", \"shooting\", \"shooting\", \"shooting\", \"shored\", \"shortening\", \"shortens\", \"shot\", \"shot\", \"shot\", \"shot\", \"shot\", \"singer\", \"singer\", \"singer\", \"singer\", \"singer\", \"sioux\", \"sioux\", \"sioux\", \"sioux\", \"sioux\", \"slager\", \"slager\", \"slom\", \"snowden\", \"snowden\", \"songwriter\", \"songwriter\", \"songwriter\", \"sorrentino\", \"sowa\", \"spanier\", \"spartanburg\", \"spillar\", \"spincken\", \"spitzer\", \"sproul\", \"standing\", \"standing\", \"standing\", \"standing\", \"standing\", \"state\", \"state\", \"state\", \"state\", \"state\", \"states\", \"states\", \"states\", \"states\", \"states\", \"stepien\", \"sterilization\", \"steve_wine\", \"steverson\", \"stewarding\", \"sticky\", \"stiffness\", \"stillbirths\", \"storm\", \"storm\", \"storm\", \"storm\", \"storm\", \"stoynoff\", \"stoynoff\", \"strike\", \"strike\", \"strike\", \"strike\", \"strike\", \"stumbo\", \"subflooring\", \"subgroups\", \"subsidy\", \"subways\", \"sunoco\", \"suspect\", \"suspect\", \"suspect\", \"suspect\", \"suspect\", \"syria\", \"syria\", \"syria\", \"syria\", \"syria\", \"tanden\", \"tanden\", \"tax\", \"tax\", \"tax\", \"tax\", \"tax\", \"telescopes\", \"teneo\", \"tensing\", \"teske\", \"theaters\", \"theaters\", \"theaters\", \"theaters\", \"theaters\", \"thune\", \"time\", \"time\", \"time\", \"time\", \"time\", \"toca\", \"today\", \"today\", \"today\", \"today\", \"today\", \"told\", \"told\", \"told\", \"told\", \"told\", \"toomey\", \"toomey\", \"toomey\", \"toro\", \"transit\", \"transit\", \"transit\", \"transit\", \"transit\", \"transportation\", \"transportation\", \"transportation\", \"transportation\", \"transportation\", \"trial\", \"trial\", \"trial\", \"trial\", \"trial\", \"tribal\", \"tribal\", \"tribal\", \"tribal\", \"tribe\", \"tribe\", \"tribe\", \"tribe\", \"tribe\", \"tribunals\", \"trump\", \"trump\", \"trump\", \"trump\", \"trump\", \"tuesday\", \"tuesday\", \"tuesday\", \"tuesday\", \"tuesday\", \"turnout\", \"turnout\", \"turnout\", \"unaffiliated\", \"unclassified\", \"union\", \"union\", \"union\", \"union\", \"union\", \"united\", \"united\", \"united\", \"united\", \"united\", \"unitedhealth\", \"vance\", \"vance\", \"vance\", \"vance\", \"vega\", \"venditto\", \"victim\", \"victim\", \"victim\", \"victim\", \"victim\", \"vides\", \"voeller\", \"vote\", \"vote\", \"vote\", \"vote\", \"vote\", \"voter\", \"voter\", \"voter\", \"voter\", \"voter\", \"voters\", \"voters\", \"voters\", \"voters\", \"voters\", \"votes\", \"votes\", \"votes\", \"votes\", \"votes\", \"voting\", \"voting\", \"voting\", \"voting\", \"voting\", \"walkout\", \"walkout\", \"wallace\", \"wallace\", \"wallace\", \"wallace\", \"wallace\", \"washington\", \"washington\", \"washington\", \"washington\", \"washington\", \"watchers\", \"watchers\", \"watchers\", \"watchers\", \"water\", \"water\", \"water\", \"water\", \"water\", \"wathke\", \"weiner\", \"weiner\", \"wikileaks\", \"wikileaks\", \"wikileaks\", \"wikileaks\", \"wikileaks\", \"wildstein\", \"wildstein\", \"winds\", \"winds\", \"winds\", \"winds\", \"woman\", \"woman\", \"woman\", \"woman\", \"woman\", \"women\", \"women\", \"women\", \"women\", \"women\", \"woodhouse\", \"workers\", \"workers\", \"workers\", \"workers\", \"workers\", \"wyda\", \"year\", \"year\", \"year\", \"year\", \"year\", \"years\", \"years\", \"years\", \"years\", \"years\", \"yemen\", \"yemen\", \"york\", \"york\", \"york\", \"york\", \"york\", \"zampolli\", \"zurixx\", \"zz\", \"z\\u00f3calo\"]}, \"R\": 30};\n",
       "\n",
       "function LDAvis_load_lib(url, callback){\n",
       "  var s = document.createElement('script');\n",
       "  s.src = url;\n",
       "  s.async = true;\n",
       "  s.onreadystatechange = s.onload = callback;\n",
       "  s.onerror = function(){console.warn(\"failed to load library \" + url);};\n",
       "  document.getElementsByTagName(\"head\")[0].appendChild(s);\n",
       "}\n",
       "\n",
       "if(typeof(LDAvis) !== \"undefined\"){\n",
       "   // already loaded: just create the visualization\n",
       "   !function(LDAvis){\n",
       "       new LDAvis(\"#\" + \"ldavis_el272549632615604402787305\", ldavis_el272549632615604402787305_data);\n",
       "   }(LDAvis);\n",
       "}else if(typeof define === \"function\" && define.amd){\n",
       "   // require.js is available: use it to load d3/LDAvis\n",
       "   require.config({paths: {d3: \"https://cdnjs.cloudflare.com/ajax/libs/d3/3.5.5/d3.min\"}});\n",
       "   require([\"d3\"], function(d3){\n",
       "      window.d3 = d3;\n",
       "      LDAvis_load_lib(\"https://cdn.rawgit.com/bmabey/pyLDAvis/files/ldavis.v1.0.0.js\", function(){\n",
       "        new LDAvis(\"#\" + \"ldavis_el272549632615604402787305\", ldavis_el272549632615604402787305_data);\n",
       "      });\n",
       "    });\n",
       "}else{\n",
       "    // require.js not available: dynamically load d3 & LDAvis\n",
       "    LDAvis_load_lib(\"https://cdnjs.cloudflare.com/ajax/libs/d3/3.5.5/d3.min.js\", function(){\n",
       "         LDAvis_load_lib(\"https://cdn.rawgit.com/bmabey/pyLDAvis/files/ldavis.v1.0.0.js\", function(){\n",
       "                 new LDAvis(\"#\" + \"ldavis_el272549632615604402787305\", ldavis_el272549632615604402787305_data);\n",
       "            })\n",
       "         });\n",
       "}\n",
       "</script>"
      ],
      "text/plain": [
       "<IPython.core.display.HTML object>"
      ]
     },
     "execution_count": 20,
     "metadata": {},
     "output_type": "execute_result"
    }
   ],
   "source": [
    "pyLDAvis.display(prepared_data)"
   ]
  },
  {
   "cell_type": "code",
   "execution_count": 21,
   "metadata": {
    "collapsed": true,
    "nbpresent": {
     "id": "227285a2-6cf7-494f-9e85-85c5c606e251"
    }
   },
   "outputs": [],
   "source": [
    "topic_labels = [\"political scandals\", \"infrastructure \", \"justice system\", 'presidential election', \"environmental issues\"]"
   ]
  },
  {
   "cell_type": "markdown",
   "metadata": {},
   "source": [
    "Now that we have finished finding suitable labels for each topic, we can see how the U.S. section in the New York Times can be deconstructed into 5 topics. Recall that that the articles in our NYT corpus range from October 5th to November 11th, also the U.S. section contains about 6000 articles. It is possibe that if we had scraped all U.S. articles from the year 2016 that we might not have arrived at the same topic labels or the same number of topics. There is no established way to find \"correct\" number of topics. The best that we can do is update the labels perodically and use a measure [perplexity](https://en.wikipedia.org/wiki/Perplexity) in selecting the optimum number of topics; perplexity is simply the expnentiated entropy score with base two.\n",
    "\n",
    "Picking the right number of topics in the topic modeling process is similar to picking the right number of clusters for clustering algorithms. Clustering is an unsurpervised process, so we have to rely on metrics like Within Cluster Distance, Silhouette Score, and the Gap Statistic to find the optimum number of clusters. The Gap Statistics in particular is a very useful metric that we can use to help us automate the clustering process. Likelywise, in topic modeling we rely on tools like the data pyLDAviz tool as well as on the perplexity metric to help us find the optimum number of topics. We can use the [perplexity score](https://www.quora.com/What-are-good-ways-of-evaluating-the-topics-generated-by-running-LDA-on-a-corpus) to help automate the topic modeling process. \n",
    "\n",
    "For demostrative purposes, I opted to use the pyLDAviz tool to help illustrate how topic modeling works and the intuition. The LDA model still needs to be optimzed by using the perplexity score, which will be done in future work. For now, we are interested in a proof-of-concept for the named entity search engine. "
   ]
  },
  {
   "cell_type": "markdown",
   "metadata": {
    "collapsed": true,
    "nbpresent": {
     "id": "937c7003-1313-4446-b5ee-b1674dad6e43"
    }
   },
   "source": [
    "![](./topic_chart.png)"
   ]
  },
  {
   "cell_type": "markdown",
   "metadata": {
    "nbpresent": {
     "id": "053d6799-19f1-4ac1-89dd-92efa607847c"
    }
   },
   "source": [
    "\n",
    "### Entity Recognition"
   ]
  },
  {
   "cell_type": "markdown",
   "metadata": {},
   "source": [
    "The named_entity_extraction class has methods to identify and extract named entities, the like that we observed in the police shooting article. It also has methods that count the number of entity appearances in each topic and the number of entity apperances in each article. \n",
    "\n",
    "The NLP theory that is implemented in this class can be found in the **Natural Language Took Kit (NLTK)** book [here](http://www.nltk.org/book_1ed/ch07.html)."
   ]
  },
  {
   "cell_type": "code",
   "execution_count": 111,
   "metadata": {
    "collapsed": false
   },
   "outputs": [],
   "source": [
    "class named_entity_extraction(object):\n",
    "    \n",
    "    def __init__(self, topic_ids,corpus):\n",
    "        \n",
    "        self.topic_ids = topic_ids\n",
    "        self.corpus = corpus\n",
    "        self.doc_ids = list(range(len(corpus)))\n",
    "        self.unique_entity_type = 'persons'\n",
    "        \n",
    "        # each entity from each entity type is stored here\n",
    "        self.entity_results_dict = dict()\n",
    "        # unique entities from self.unique_entity_type are stored here\n",
    "        self.unique_entities_dict = dict()\n",
    "        \n",
    "        # { topic_id : { name_i: count_i  }  }\n",
    "        self.persons_dict = dict()\n",
    "        self.persons_topics_dict  = None\n",
    "        \n",
    "    def get_entities(self):\n",
    "        '''This function identities, tags, and extracts named entites from each doc \n",
    "           in the corpus. The extracted entities are stored in dicts. \n",
    "           \n",
    "           self.entity_results_dict: stores all named entites from each doc\n",
    "           self.unique_entities_dict: sotres unique person named entites from each doc\n",
    "           '''\n",
    "\n",
    "        for topic_id, doc_id, doc in zip(self.topic_ids, self.doc_ids, self.corpus):\n",
    "            \n",
    "            # tokenize doc \n",
    "            self.tokenized = nltk.word_tokenize(doc)\n",
    "            # identify part-of-speech for each token\n",
    "            self.tagged = nltk.pos_tag(self.tokenized)\n",
    "            # identify the entities \n",
    "            self.namedEnt_doc_i = nltk.ne_chunk(self.tagged, binary=False)\n",
    "\n",
    "            for entity in self.namedEnt_doc_i:\n",
    "                # check if token is entities\n",
    "                if isinstance(entity, nltk.tree.Tree):\n",
    "                    self.etext = \" \".join([word for word, tag in entity.leaves()])\n",
    "                    self.label = entity.label()\n",
    "                else:\n",
    "                    continue\n",
    "\n",
    "                if self.label == 'PERSON':\n",
    "                    self.key = 'persons'\n",
    "                elif self.label == 'ORGANIZATION':\n",
    "                    self.key = 'organizations'\n",
    "                elif self.label == 'LOCATION':\n",
    "                    self.key = 'locations'\n",
    "                elif self.label == 'GPE':\n",
    "                    self.key = 'other'\n",
    "                else:\n",
    "                    self.key = None\n",
    "\n",
    "                # if topic is new to results dict, then create a new dict for that topic\n",
    "                if topic_id not in self.entity_results_dict.keys():\n",
    "                    self.entity_results_dict[topic_id] = defaultdict(list)\n",
    "                    \n",
    "                # if topic is new to results dict, then create a new dict for that topic\n",
    "                if topic_id not in self.unique_entities_dict.keys():\n",
    "                    self.unique_entities_dict[topic_id] = defaultdict(set)\n",
    "\n",
    "\n",
    "                # store all types of named entitis\n",
    "                # topic_i : {entity_type: entity}\n",
    "                self.entity_results_dict[topic_id][self.key].append(self.etext.lower()) \n",
    "\n",
    "                # store only person entities\n",
    "                if self.key == self.unique_entity_type:\n",
    "                    # topic_i : {doc_j : (set of entities that appear in doc_j) } \n",
    "                    self.unique_entities_dict[topic_id][doc_id].add(self.etext.lower())\n",
    "        \n",
    "        \n",
    "    def get_name_entity_count(self, entity_type = 'persons'):\n",
    "        '''Returns the count of occurances of each name entity in each topic'''\n",
    "\n",
    "\n",
    "        for topic_id, entity_dict in self.entity_results_dict.items():\n",
    "            self.persons_dict[topic_id] = Counter(self.entity_results_dict[topic_id][entity_type])\n",
    "\n",
    "        return self.persons_dict\n",
    " \n",
    "    def get_entity_topic_count(self):\n",
    "        '''Returns a dict where keys are topic ids and values are sum \n",
    "           of all entities that appear in the topic'''\n",
    "\n",
    "        entity_count_dic = {}\n",
    "        topic_ids = self.entity_results_dict.keys()\n",
    "\n",
    "        self.entity_results_dict_flatten = self.flatten_results(self.entity_results_dict)\n",
    "\n",
    "        for topic_id in topic_ids:\n",
    "            entity_count_dic[topic_id] = len(self.entity_results_dict_flatten[topic_id])\n",
    "\n",
    "        return entity_count_dic\n",
    "    \n",
    "    \n",
    "    \n",
    "    # clean named_entity_results\n",
    "    def flatten_results(self, entity_dict_data):\n",
    "        '''Returns entity dict with flatten values. \n",
    "\n",
    "           The extract entities in the get_entities function returned nested lists\n",
    "           in the dict values. Here we are correcting the format.'''\n",
    "\n",
    "\n",
    "        # make deep copy of dict\n",
    "        # so original dict is not over written\n",
    "        self.entity_dict_flat = copy.deepcopy(entity_dict_data)\n",
    "\n",
    "        topics = self.entity_dict_flat.keys()\n",
    "        for topic in topics:\n",
    "            flattend_values = np.array(list(entity_dict_data[topic].values())).flatten()[0]\n",
    "\n",
    "            self.entity_dict_flat[topic] = flattend_values\n",
    "\n",
    "        return self.entity_dict_flat\n",
    "    \n",
    "    \n",
    "    def invert_nested_dict(data):\n",
    "        '''Returns the inverstion of a nested dictionary. \n",
    "        \n",
    "           Helper function for self.get_entity_topic_occurance'''\n",
    "\n",
    "        flipped = defaultdict(dict)\n",
    "        for key, val in data.items():\n",
    "            for subkey, subval in val.items():\n",
    "                flipped[subkey][key] = subval\n",
    "                \n",
    "        return flipped\n",
    "    \n",
    "    \n",
    "    def get_entity_topic_occurance(self):\n",
    "        '''Returns a nested dictionary with entity as key and {topic:occurance} as the dict value'''\n",
    "        self.persons_topics_dict  = self.get_name_entity_count()\n",
    "        \n",
    "        return invert_nested_dict(self.persons_topics_dict)\n",
    "    "
   ]
  },
  {
   "cell_type": "markdown",
   "metadata": {},
   "source": [
    "### How entity extraction works\n",
    "\n",
    "Let's run through an example document to understand how NLTK's named entity chunker identifies entites. "
   ]
  },
  {
   "cell_type": "code",
   "execution_count": 36,
   "metadata": {
    "collapsed": true
   },
   "outputs": [],
   "source": [
    "example_doc= 'Alexander is a data scientist and lives in Berkeley, California.'\n",
    "tokenized = nltk.word_tokenize(example_doc)\n",
    "tagged = nltk.pos_tag(tokenized)\n",
    "named_entities = nltk.ne_chunk(tagged, binary=False)"
   ]
  },
  {
   "cell_type": "markdown",
   "metadata": {},
   "source": [
    "First let's create an example document with the following simple string. This string contains two named entites: Alexander as a person entity and Berkely, California as a geographic place entity. "
   ]
  },
  {
   "cell_type": "code",
   "execution_count": 46,
   "metadata": {
    "collapsed": false
   },
   "outputs": [
    {
     "name": "stdout",
     "output_type": "stream",
     "text": [
      "Alexander is a data scientist and lives in Berkeley, California.\n"
     ]
    }
   ],
   "source": [
    "print (example_doc)"
   ]
  },
  {
   "cell_type": "markdown",
   "metadata": {},
   "source": [
    "Next we tokenized the example document by spliting the string on each white space. Each of the resulting items in the list are known as tokens. These tokens are known as unigrams, meaning that each token is made up of a single words. A unigram is a special case of an N-gram. We could have chosen to split the string into bigrams or trigrams, however that is unnecessary for this task. "
   ]
  },
  {
   "cell_type": "code",
   "execution_count": 45,
   "metadata": {
    "collapsed": false
   },
   "outputs": [
    {
     "name": "stdout",
     "output_type": "stream",
     "text": [
      "['Alexander', 'is', 'a', 'data', 'scientist', 'and', 'lives', 'in', 'Berkeley', ',', 'California', '.']\n"
     ]
    }
   ],
   "source": [
    "print (tokenized) "
   ]
  },
  {
   "cell_type": "markdown",
   "metadata": {},
   "source": [
    "The unigram tokens are then tagged with their grammatical parts-of-speech (POS)."
   ]
  },
  {
   "cell_type": "code",
   "execution_count": 42,
   "metadata": {
    "collapsed": false
   },
   "outputs": [
    {
     "name": "stdout",
     "output_type": "stream",
     "text": [
      "[('Alexander', 'NNP'),\n",
      " ('is', 'VBZ'),\n",
      " ('a', 'DT'),\n",
      " ('data', 'JJ'),\n",
      " ('scientist', 'NN'),\n",
      " ('and', 'CC'),\n",
      " ('lives', 'NNS'),\n",
      " ('in', 'IN'),\n",
      " ('Berkeley', 'NNP'),\n",
      " (',', ','),\n",
      " ('California', 'NNP'),\n",
      " ('.', '.')]\n"
     ]
    }
   ],
   "source": [
    "pprint (tagged)"
   ]
  },
  {
   "cell_type": "markdown",
   "metadata": {},
   "source": [
    "Finally, the tagged tokens are passed into the named entity chunker. This chunker identifies and labels each named entity using the syntatic structure of the string and the POS. We can see that the chunker correctly identified the person and geographical place entities. "
   ]
  },
  {
   "cell_type": "code",
   "execution_count": 40,
   "metadata": {
    "collapsed": false
   },
   "outputs": [
    {
     "data": {
      "image/png": "[encoded data removed]",
      "text/plain": [
       "Tree('S', [Tree('PERSON', [('Alexander', 'NNP')]), ('is', 'VBZ'), ('a', 'DT'), ('data', 'JJ'), ('scientist', 'NN'), ('and', 'CC'), ('lives', 'NNS'), ('in', 'IN'), Tree('GPE', [('Berkeley', 'NNP')]), (',', ','), Tree('GPE', [('California', 'NNP')]), ('.', '.')])"
      ]
     },
     "execution_count": 40,
     "metadata": {},
     "output_type": "execute_result"
    }
   ],
   "source": [
    "named_entities"
   ]
  },
  {
   "cell_type": "markdown",
   "metadata": {},
   "source": [
    "#### Run named_entity_extraction \n",
    "\n",
    "Now let's identify and extract all named entites from the NYT corpus. This process will take a bit of time. "
   ]
  },
  {
   "cell_type": "code",
   "execution_count": 137,
   "metadata": {
    "collapsed": false
   },
   "outputs": [],
   "source": [
    "# initiate class object\n",
    "extraction_object = named_entity_extraction(topic_ids, \n",
    "                                            US_corpus)"
   ]
  },
  {
   "cell_type": "code",
   "execution_count": 138,
   "metadata": {
    "collapsed": false,
    "scrolled": true
   },
   "outputs": [
    {
     "name": "stdout",
     "output_type": "stream",
     "text": [
      "Total run time: 17.79 minute \n",
      "Each document takes about 0.003312 seconds to find all entities\n"
     ]
    }
   ],
   "source": [
    "start = time()\n",
    "extraction_object.get_entities()\n",
    "end = time()\n",
    "print (  \"Total run time: {:.4} minute \".format((end - start)/60)   )\n",
    "print (\"Each document takes about {:.4} seconds to find all entities\".format((20)/US_corpus.shape[0]) )"
   ]
  },
  {
   "cell_type": "markdown",
   "metadata": {},
   "source": [
    "The named_entity_extraction class returns several data objects that will be very useful for the serach engine. \n",
    "\n",
    "**persons_topics_dict:** the count of occurances of each name entity in each topic.\n",
    "\n",
    "**entity_count_dic:** a dict where keys are topic ids and values are sum of all entities that appear in the topic\n",
    "\n",
    "**entity_topic_occurance:** a nested dictionary with entity as key and {topic:occurance} as the dict value\n",
    "\n",
    "**unique_entities_dict:** a nested dictinary with topic ids as keys and {doc_j : (set of entities that appear in doc_j) } as the dict value\n"
   ]
  },
  {
   "cell_type": "code",
   "execution_count": 139,
   "metadata": {
    "collapsed": false
   },
   "outputs": [],
   "source": [
    "persons_topics_dict = extraction_object.get_name_entity_count(entity_type = 'persons')\n",
    "entity_count_dic = extraction_object.get_entity_topic_count()\n",
    "entity_topic_occurance = extraction_object.get_entity_topic_occurance()\n",
    "topic_ids = extraction_object.topic_ids\n",
    "unique_entities_dict = extraction_object.unique_entities_dict"
   ]
  },
  {
   "cell_type": "markdown",
   "metadata": {},
   "source": [
    "The NLTK named entity chunk works well, but it's not perfect. For instance, it may miss some entities or incorrectly identify  a token as an entity. For these reasons, it is important to cross validate the performance of any chunker that we use. An example of cross validating a chunker can be found in the NLTK book [here](http://www.nltk.org/book_1ed/ch07.html). For our purposes, this is not a major concern. Our primary purpose here is to demonstrate a proof-of-concept. Improving the performance of our chunkers will be a prority in future work. \n",
    "\n",
    "Next, because runing the named_entity_extraction on our modestly sized corpus of ~6000 articles takes about 18 minutes, we want to save our results to file. "
   ]
  },
  {
   "cell_type": "markdown",
   "metadata": {
    "nbpresent": {
     "id": "21bd0558-7c5b-4ba0-9ad5-7477d55e2357"
    }
   },
   "source": [
    "#### Save entity extraction results to file"
   ]
  },
  {
   "cell_type": "code",
   "execution_count": 7,
   "metadata": {
    "collapsed": true,
    "nbpresent": {
     "id": "12a9fc78-7920-4510-a8a7-af05e93d9e79"
    }
   },
   "outputs": [],
   "source": [
    "# with open('persons_topics_dict.pickle', 'wb') as handle:\n",
    "#     pickle.dump(persons_topics_dict, handle)\n",
    "    \n",
    "# with open('entity_count_dic.pickle', 'wb') as handle:\n",
    "#     pickle.dump(entity_count_dic, handle)\n",
    "    \n",
    "# with open('entity_topic_occurance.pickle', 'wb') as handle:\n",
    "#     pickle.dump(entity_topic_occurance, handle)\n",
    "    \n",
    "# with open('topic_ids.pickle', 'wb') as handle:\n",
    "#     pickle.dump(topic_ids, handle)\n",
    "    \n",
    "# with open('unique_entities_dict.pickle', 'wb') as handle:\n",
    "#     pickle.dump(unique_entities_dict, handle)\n",
    "\n",
    "# with open('topic_labels.pickle', 'wb') as handle:\n",
    "#     pickle.dump(topic_labels, handle)"
   ]
  },
  {
   "cell_type": "markdown",
   "metadata": {
    "nbpresent": {
     "id": "d8581023-6981-41ce-a797-97a3bc640e8f"
    }
   },
   "source": [
    "#### Load entity results data"
   ]
  },
  {
   "cell_type": "code",
   "execution_count": 2,
   "metadata": {
    "collapsed": false
   },
   "outputs": [],
   "source": [
    "with open('persons_topics_dict.pickle', 'rb') as handle:\n",
    "    persons_topics_dict = pickle.load(handle)\n",
    "    \n",
    "with open('entity_count_dic.pickle', 'rb') as handle:\n",
    "    entity_count_dic = pickle.load( handle)\n",
    "    \n",
    "with open('entity_topic_occurance.pickle', 'rb') as handle:\n",
    "    entity_topic_occurance = pickle.load(handle)\n",
    "    \n",
    "with open('topic_ids.pickle', 'rb') as handle:\n",
    "    topic_ids = pickle.load(handle)\n",
    "    \n",
    "with open('unique_entities_dict.pickle', 'rb') as handle:\n",
    "    unique_entities_dict = pickle.load(handle)\n",
    "    \n",
    "with open('topic_labels.pickle', 'rb') as handle:\n",
    "    topic_labels = pickle.load(handle)    "
   ]
  },
  {
   "cell_type": "code",
   "execution_count": 4,
   "metadata": {
    "collapsed": false
   },
   "outputs": [],
   "source": [
    "def replace_topic_names_in_dict_keys(dic, topic_label):\n",
    "    for topic_label, num_label in zip(topic_labels, dic.keys()):\n",
    "        dic[topic_label] = dic.pop(num_label)\n",
    "\n",
    "    return dic"
   ]
  },
  {
   "cell_type": "code",
   "execution_count": 5,
   "metadata": {
    "collapsed": false
   },
   "outputs": [],
   "source": [
    "# run only once\n",
    "unique_entities_dict =  replace_topic_names_in_dict_keys(unique_entities_dict, topic_labels)"
   ]
  },
  {
   "cell_type": "code",
   "execution_count": 6,
   "metadata": {
    "collapsed": false
   },
   "outputs": [
    {
     "data": {
      "text/plain": [
       "dict_keys(['justice system', 'environmental issues', 'infrastructure ', 'presidential election', 'political scandals'])"
      ]
     },
     "execution_count": 6,
     "metadata": {},
     "output_type": "execute_result"
    }
   ],
   "source": [
    "unique_entities_dict.keys()"
   ]
  },
  {
   "cell_type": "markdown",
   "metadata": {},
   "source": [
    "## Named Entity Searche Engine "
   ]
  },
  {
   "cell_type": "code",
   "execution_count": 113,
   "metadata": {
    "collapsed": false
   },
   "outputs": [],
   "source": [
    "class entity_topic_occurances(object):\n",
    "    \n",
    "    def __init__(self, query_list, entity_topic_occurance, unique_entities_dict, topic_labels):\n",
    "          \n",
    "        # user's set of person entites\n",
    "        self.query_list = query_list\n",
    "        # dictionary of unique appearances of entites in each doc of each topic passed into dataframe\n",
    "        # {entity : {topic : num_occurances } }\n",
    "        self.entity_topic_occurance_df = pd.DataFrame(entity_topic_occurance).T.fillna(0)\n",
    "        # topic labels named during topic modeling\n",
    "        self.topic_labels = topic_labels\n",
    "        # co-occurance matrix between user passed entities and topics\n",
    "        self.entity_topic_co_occurance_df = self.entity_topic_occurance_df.T[self.query_list].T\n",
    "        # assign topic labels as column names in dataframe\n",
    "        self.entity_topic_co_occurance_df.columns = self.topic_labels\n",
    "        # {topic : {doc_id : set_of_entities } }\n",
    "        self.unique_entities_dict = unique_entities_dict\n",
    "    \n",
    "    def get_entity_topic_co_occurance(self):\n",
    "        '''Returns the entity topic co-occurance dataframe'''\n",
    "        return self.entity_topic_co_occurance_df\n",
    "        \n",
    "        \n",
    "        \n",
    "        \n",
    "    def get_docs_with_co_occurances(self, subset_topic_labels=None):\n",
    "        '''Returns list of doc ids for co-occurances of entites'''\n",
    "\n",
    "        self.co_occurances_doc_ids = []\n",
    "\n",
    "        if subset_topic_labels == None:\n",
    "            self.topic_lables_to_search = self.topic_labels\n",
    "        else:\n",
    "            self.topic_lables_to_search = subset_topic_labels\n",
    "\n",
    "\n",
    "        for topic_label in self.topic_lables_to_search:\n",
    "\n",
    "            for doc_id, set_of_entities in self.unique_entities_dict[topic_label].items():\n",
    "\n",
    "                if set_of_entities.issuperset(self.query_set ):\n",
    "                    self.co_occurances_doc_ids.append(doc_id)\n",
    "\n",
    "        return self.co_occurances_doc_ids\n",
    "    \n",
    "    \n",
    "    def get_num_co_occurances(self,  query_set, n_entities = 2, subset_topic_labels=None):\n",
    "\n",
    "        '''Returns nested dict of entity co-occurances in docs'''\n",
    "\n",
    "        self.co_entity_dict = defaultdict(dict)\n",
    "        \n",
    "\n",
    "        self.query_set = query_set\n",
    "\n",
    "        # create a set of n Choose k pairs for entities\n",
    "        # create every possible pair between the entites \n",
    "        self.entity_pair_combinations = combinations( self.query_set , n_entities)\n",
    "\n",
    "        for co_entities in self.entity_pair_combinations:\n",
    "\n",
    "            self.entity_pairs = set(co_entities)\n",
    "\n",
    "            # for each unique combination of entity pairs, get all doc ids in which they jointly appear\n",
    "            self.co_entity_doc_ids = self.get_docs_with_co_occurances(subset_topic_labels)\n",
    "\n",
    "\n",
    "            # populate nested dict for use in a co-occurance matrix \n",
    "            self.co_entity_dict[co_entities[0]][co_entities[1]] = len(self.co_entity_doc_ids)\n",
    "            self.co_entity_dict[co_entities[1]][co_entities[0]] = len(self.co_entity_doc_ids)\n",
    "\n",
    "        return self.co_entity_dict"
   ]
  },
  {
   "cell_type": "code",
   "execution_count": 114,
   "metadata": {
    "collapsed": true
   },
   "outputs": [],
   "source": [
    "# user creates a query list\n",
    "query_list = ['elon musk', 'bill clinton', 'paul ryan', 'bill maher', 'bernie sanders', 'edward snowden', 'clinton', 'trump']"
   ]
  },
  {
   "cell_type": "code",
   "execution_count": 115,
   "metadata": {
    "collapsed": false
   },
   "outputs": [],
   "source": [
    "# instantiate entity_topic_occurances class\n",
    "occurance_object = entity_topic_occurances(query_list, # user's named entites \n",
    "                                           entity_topic_occurance, # entity-topic-doc occurance\n",
    "                                           unique_entities_dict,  # topic-doc-entity unique occurances\n",
    "                                           topic_labels) # hand labled topic names"
   ]
  },
  {
   "cell_type": "markdown",
   "metadata": {},
   "source": [
    "### Co-Occurance between Entities and Topics"
   ]
  },
  {
   "cell_type": "code",
   "execution_count": 116,
   "metadata": {
    "collapsed": false
   },
   "outputs": [
    {
     "data": {
      "text/html": [
       "<div>\n",
       "<table border=\"1\" class=\"dataframe\">\n",
       "  <thead>\n",
       "    <tr style=\"text-align: right;\">\n",
       "      <th></th>\n",
       "      <th>political scandals</th>\n",
       "      <th>infrastructure</th>\n",
       "      <th>justice system</th>\n",
       "      <th>presidential election</th>\n",
       "      <th>environmental issues</th>\n",
       "    </tr>\n",
       "  </thead>\n",
       "  <tbody>\n",
       "    <tr>\n",
       "      <th>elon musk</th>\n",
       "      <td>0.0</td>\n",
       "      <td>0.0</td>\n",
       "      <td>0.0</td>\n",
       "      <td>1.0</td>\n",
       "      <td>2.0</td>\n",
       "    </tr>\n",
       "    <tr>\n",
       "      <th>bill clinton</th>\n",
       "      <td>7.0</td>\n",
       "      <td>141.0</td>\n",
       "      <td>8.0</td>\n",
       "      <td>183.0</td>\n",
       "      <td>11.0</td>\n",
       "    </tr>\n",
       "    <tr>\n",
       "      <th>paul ryan</th>\n",
       "      <td>0.0</td>\n",
       "      <td>80.0</td>\n",
       "      <td>5.0</td>\n",
       "      <td>9.0</td>\n",
       "      <td>6.0</td>\n",
       "    </tr>\n",
       "    <tr>\n",
       "      <th>bill maher</th>\n",
       "      <td>0.0</td>\n",
       "      <td>3.0</td>\n",
       "      <td>0.0</td>\n",
       "      <td>0.0</td>\n",
       "      <td>0.0</td>\n",
       "    </tr>\n",
       "    <tr>\n",
       "      <th>bernie sanders</th>\n",
       "      <td>0.0</td>\n",
       "      <td>62.0</td>\n",
       "      <td>4.0</td>\n",
       "      <td>65.0</td>\n",
       "      <td>14.0</td>\n",
       "    </tr>\n",
       "    <tr>\n",
       "      <th>edward snowden</th>\n",
       "      <td>0.0</td>\n",
       "      <td>0.0</td>\n",
       "      <td>0.0</td>\n",
       "      <td>8.0</td>\n",
       "      <td>0.0</td>\n",
       "    </tr>\n",
       "    <tr>\n",
       "      <th>clinton</th>\n",
       "      <td>13.0</td>\n",
       "      <td>3669.0</td>\n",
       "      <td>28.0</td>\n",
       "      <td>4567.0</td>\n",
       "      <td>313.0</td>\n",
       "    </tr>\n",
       "    <tr>\n",
       "      <th>trump</th>\n",
       "      <td>49.0</td>\n",
       "      <td>4486.0</td>\n",
       "      <td>10.0</td>\n",
       "      <td>1991.0</td>\n",
       "      <td>248.0</td>\n",
       "    </tr>\n",
       "  </tbody>\n",
       "</table>\n",
       "</div>"
      ],
      "text/plain": [
       "                political scandals  infrastructure   justice system  \\\n",
       "elon musk                      0.0              0.0             0.0   \n",
       "bill clinton                   7.0            141.0             8.0   \n",
       "paul ryan                      0.0             80.0             5.0   \n",
       "bill maher                     0.0              3.0             0.0   \n",
       "bernie sanders                 0.0             62.0             4.0   \n",
       "edward snowden                 0.0              0.0             0.0   \n",
       "clinton                       13.0           3669.0            28.0   \n",
       "trump                         49.0           4486.0            10.0   \n",
       "\n",
       "                presidential election  environmental issues  \n",
       "elon musk                         1.0                   2.0  \n",
       "bill clinton                    183.0                  11.0  \n",
       "paul ryan                         9.0                   6.0  \n",
       "bill maher                        0.0                   0.0  \n",
       "bernie sanders                   65.0                  14.0  \n",
       "edward snowden                    8.0                   0.0  \n",
       "clinton                        4567.0                 313.0  \n",
       "trump                          1991.0                 248.0  "
      ]
     },
     "execution_count": 116,
     "metadata": {},
     "output_type": "execute_result"
    }
   ],
   "source": [
    "entity_topic_co_occurance_df = occurance_object.entity_topic_co_occurance_df\n",
    "entity_topic_co_occurance_df"
   ]
  },
  {
   "cell_type": "code",
   "execution_count": 117,
   "metadata": {
    "collapsed": false
   },
   "outputs": [],
   "source": [
    "def plot_occurances(df, mask=None):\n",
    "    '''Plot occurance matrix has heat map'''\n",
    "    \n",
    "    if mask:\n",
    "        mask = np.zeros_like(df, dtype=np.bool)\n",
    "        mask[np.triu_indices_from(mask)] = True     \n",
    "    \n",
    "    # ploting entity occurance in topics\n",
    "    plt.figure(figsize = (15,6))\n",
    "    sns.heatmap(df, annot=True, mask=mask, fmt=\"g\", linewidths=0.5,cmap='Blues');"
   ]
  },
  {
   "cell_type": "code",
   "execution_count": 118,
   "metadata": {
    "collapsed": false,
    "scrolled": false
   },
   "outputs": [
    {
     "name": "stderr",
     "output_type": "stream",
     "text": [
      "/Users/Alexander/anaconda3/lib/python3.5/site-packages/seaborn/matrix.py:143: DeprecationWarning: elementwise == comparison failed; this will raise an error in the future.\n",
      "  if xticklabels == []:\n",
      "/Users/Alexander/anaconda3/lib/python3.5/site-packages/seaborn/matrix.py:151: DeprecationWarning: elementwise == comparison failed; this will raise an error in the future.\n",
      "  if yticklabels == []:\n"
     ]
    },
    {
     "data": {
      "image/png": "[encoded data removed]",
      "text/plain": [
       "<matplotlib.figure.Figure at 0x118be5f60>"
      ]
     },
     "metadata": {},
     "output_type": "display_data"
    }
   ],
   "source": [
    "plot_occurances(entity_topic_co_occurance_df)"
   ]
  },
  {
   "cell_type": "markdown",
   "metadata": {
    "collapsed": true
   },
   "source": [
    "### Co-Occurances between Entities in Documents"
   ]
  },
  {
   "cell_type": "markdown",
   "metadata": {
    "collapsed": true
   },
   "source": [
    "#### Co-Occurance between Entities in Documents for Corpus"
   ]
  },
  {
   "cell_type": "code",
   "execution_count": 119,
   "metadata": {
    "collapsed": false
   },
   "outputs": [],
   "source": [
    "query_set = set(query_list)"
   ]
  },
  {
   "cell_type": "code",
   "execution_count": 147,
   "metadata": {
    "collapsed": false
   },
   "outputs": [
    {
     "name": "stdout",
     "output_type": "stream",
     "text": [
      "('paul ryan', 'trump')\n",
      "('paul ryan', 'clinton')\n",
      "('trump', 'clinton')\n"
     ]
    }
   ],
   "source": [
    "# debug get_num_co_occurances output\n",
    "for i in combinations(set(( 'trump', \"clinton\", 'paul ryan')), 2):\n",
    "    print (i)"
   ]
  },
  {
   "cell_type": "code",
   "execution_count": 121,
   "metadata": {
    "collapsed": false
   },
   "outputs": [],
   "source": [
    "co_entity_dict = occurance_object.get_num_co_occurances(query_set=query_set)"
   ]
  },
  {
   "cell_type": "code",
   "execution_count": 132,
   "metadata": {
    "collapsed": true
   },
   "outputs": [],
   "source": [
    "# users specifices which co occurances they are interested in\n",
    "query_co_occurances = set(( 'trump', \"clinton\", 'paul ryan'))"
   ]
  },
  {
   "cell_type": "code",
   "execution_count": 133,
   "metadata": {
    "collapsed": false
   },
   "outputs": [
    {
     "data": {
      "text/plain": [
       "defaultdict(dict,\n",
       "            {'clinton': {'paul ryan': 51, 'trump': 51},\n",
       "             'paul ryan': {'clinton': 51, 'trump': 51},\n",
       "             'trump': {'clinton': 51, 'paul ryan': 51}})"
      ]
     },
     "execution_count": 133,
     "metadata": {},
     "output_type": "execute_result"
    }
   ],
   "source": [
    "co_occur_in_docs = occurance_object.get_num_co_occurances(query_co_occurances)\n",
    "co_occur_in_docs"
   ]
  },
  {
   "cell_type": "code",
   "execution_count": 124,
   "metadata": {
    "collapsed": false
   },
   "outputs": [
    {
     "name": "stderr",
     "output_type": "stream",
     "text": [
      "/Users/Alexander/anaconda3/lib/python3.5/site-packages/seaborn/matrix.py:143: DeprecationWarning: elementwise == comparison failed; this will raise an error in the future.\n",
      "  if xticklabels == []:\n",
      "/Users/Alexander/anaconda3/lib/python3.5/site-packages/seaborn/matrix.py:151: DeprecationWarning: elementwise == comparison failed; this will raise an error in the future.\n",
      "  if yticklabels == []:\n"
     ]
    },
    {
     "data": {
      "text/plain": [
       "<matplotlib.axes._subplots.AxesSubplot at 0x11936f748>"
      ]
     },
     "execution_count": 124,
     "metadata": {},
     "output_type": "execute_result"
    },
    {
     "data": {
      "image/png": "[encoded data removed]",
      "text/plain": [
       "<matplotlib.figure.Figure at 0x118c05400>"
      ]
     },
     "metadata": {},
     "output_type": "display_data"
    }
   ],
   "source": [
    "plot_occurances()"
   ]
  },
  {
   "cell_type": "code",
   "execution_count": 125,
   "metadata": {
    "collapsed": false
   },
   "outputs": [
    {
     "ename": "NameError",
     "evalue": "name 'get_num_co_occurances' is not defined",
     "output_type": "error",
     "traceback": [
      "\u001b[0;31m---------------------------------------------------------------------------\u001b[0m",
      "\u001b[0;31mNameError\u001b[0m                                 Traceback (most recent call last)",
      "\u001b[0;32m<ipython-input-125-23c95c8d6ce0>\u001b[0m in \u001b[0;36m<module>\u001b[0;34m()\u001b[0m\n\u001b[0;32m----> 1\u001b[0;31m co_entity_dict, co_entity_doc_ids_list = get_num_co_occurances(user_co_occurance_entities_set, \n\u001b[0m\u001b[1;32m      2\u001b[0m                                                                \u001b[0munique_entities_dict\u001b[0m\u001b[0;34m,\u001b[0m\u001b[0;34m\u001b[0m\u001b[0m\n\u001b[1;32m      3\u001b[0m                                                                \u001b[0mco_occurances_doc_ids\u001b[0m\u001b[0;34m,\u001b[0m\u001b[0;34m\u001b[0m\u001b[0m\n\u001b[1;32m      4\u001b[0m                                                               1)\n",
      "\u001b[0;31mNameError\u001b[0m: name 'get_num_co_occurances' is not defined"
     ]
    }
   ],
   "source": [
    " co_entity_dict, co_entity_doc_ids_list = get_num_co_occurances(user_co_occurance_entities_set, \n",
    "                                                                unique_entities_dict, \n",
    "                                                                co_occurances_doc_ids,\n",
    "                                                               1)"
   ]
  },
  {
   "cell_type": "code",
   "execution_count": 105,
   "metadata": {
    "collapsed": false
   },
   "outputs": [
    {
     "name": "stderr",
     "output_type": "stream",
     "text": [
      "/Users/Alexander/anaconda3/lib/python3.5/site-packages/seaborn/matrix.py:143: DeprecationWarning: elementwise == comparison failed; this will raise an error in the future.\n",
      "  if xticklabels == []:\n",
      "/Users/Alexander/anaconda3/lib/python3.5/site-packages/seaborn/matrix.py:151: DeprecationWarning: elementwise == comparison failed; this will raise an error in the future.\n",
      "  if yticklabels == []:\n"
     ]
    },
    {
     "data": {
      "text/plain": [
       "<matplotlib.axes._subplots.AxesSubplot at 0x11de77d68>"
      ]
     },
     "execution_count": 105,
     "metadata": {},
     "output_type": "execute_result"
    },
    {
     "data": {
      "image/png": "[encoded data removed]",
      "text/plain": [
       "<matplotlib.figure.Figure at 0x11dd15828>"
      ]
     },
     "metadata": {},
     "output_type": "display_data"
    }
   ],
   "source": [
    "mask = np.zeros_like( pd.DataFrame(co_entity_dict).fillna(0), dtype=np.bool)\n",
    "mask[np.triu_indices_from(mask)] = True\n",
    "\n",
    "# co-occurances of entities in docs within the corpus \n",
    "sns.heatmap(pd.DataFrame(co_entity_dict), mask=mask, annot=True, fmt=\"g\", linewidths=0.5,cmap='Blues')"
   ]
  },
  {
   "cell_type": "code",
   "execution_count": null,
   "metadata": {
    "collapsed": true
   },
   "outputs": [],
   "source": []
  },
  {
   "cell_type": "code",
   "execution_count": null,
   "metadata": {
    "collapsed": true
   },
   "outputs": [],
   "source": []
  },
  {
   "cell_type": "markdown",
   "metadata": {},
   "source": [
    "#### Ad-Hoc Queries\n",
    "\n",
    "Find out how many documents contain all of the user's entites. "
   ]
  },
  {
   "cell_type": "code",
   "execution_count": 71,
   "metadata": {
    "collapsed": true
   },
   "outputs": [],
   "source": [
    " co_occurances_doc_ids = get_docs_with_co_occurances(user_co_occurance_entities_set, unique_entities_dict)"
   ]
  },
  {
   "cell_type": "markdown",
   "metadata": {},
   "source": [
    "The user can now pull all the relavent documents from the corpus. "
   ]
  },
  {
   "cell_type": "code",
   "execution_count": 72,
   "metadata": {
    "collapsed": false
   },
   "outputs": [
    {
     "name": "stdout",
     "output_type": "stream",
     "text": [
      "[146, 4887, 4979, 792, 4958]\n"
     ]
    },
    {
     "data": {
      "text/plain": [
       "(None, 9)"
      ]
     },
     "execution_count": 72,
     "metadata": {},
     "output_type": "execute_result"
    }
   ],
   "source": [
    "# bernie and paul and clinton co-occur in all of these docs within the corpus\n",
    "print(co_occurances_doc_ids[0:5]), len(co_occurances_doc_ids)"
   ]
  },
  {
   "cell_type": "code",
   "execution_count": null,
   "metadata": {
    "collapsed": true
   },
   "outputs": [],
   "source": []
  },
  {
   "cell_type": "code",
   "execution_count": null,
   "metadata": {
    "collapsed": true
   },
   "outputs": [],
   "source": []
  },
  {
   "cell_type": "code",
   "execution_count": null,
   "metadata": {
    "collapsed": true
   },
   "outputs": [],
   "source": []
  },
  {
   "cell_type": "code",
   "execution_count": null,
   "metadata": {
    "collapsed": true
   },
   "outputs": [],
   "source": []
  },
  {
   "cell_type": "code",
   "execution_count": null,
   "metadata": {
    "collapsed": true
   },
   "outputs": [],
   "source": []
  }
 ],
 "metadata": {
  "anaconda-cloud": {},
  "kernelspec": {
   "display_name": "Python [conda root]",
   "language": "python",
   "name": "conda-root-py"
  },
  "language_info": {
   "codemirror_mode": {
    "name": "ipython",
    "version": 3
   },
   "file_extension": ".py",
   "mimetype": "text/x-python",
   "name": "python",
   "nbconvert_exporter": "python",
   "pygments_lexer": "ipython3",
   "version": "3.5.2"
  },
  "nbpresent": {
   "slides": {
    "032f06f6-030c-4c83-baa9-12dd8b3af8b3": {
     "id": "032f06f6-030c-4c83-baa9-12dd8b3af8b3",
     "prev": null,
     "regions": {
      "c7c31c19-918a-497f-a282-904e534354aa": {
       "attrs": {
        "height": 0.8,
        "width": 0.8,
        "x": 0.1,
        "y": 0.1
       },
       "content": {
        "cell": "d03ee0cc-9899-4575-813f-57cb3c17aaec",
        "part": "whole"
       },
       "id": "c7c31c19-918a-497f-a282-904e534354aa"
      }
     }
    },
    "0ae7ee44-a6cb-4ec3-8a74-8795e6376141": {
     "id": "0ae7ee44-a6cb-4ec3-8a74-8795e6376141",
     "prev": "30278d37-cfc7-4907-b741-00ba5f3421f6",
     "regions": {
      "883bc066-0f6a-4c25-8ba1-c193c58dfdf5": {
       "attrs": {
        "height": 0.8,
        "width": 0.8,
        "x": 0.1,
        "y": 0.1
       },
       "content": {
        "cell": "29fbef3b-964b-47d5-9a4f-2d2d2c84414e",
        "part": "whole"
       },
       "id": "883bc066-0f6a-4c25-8ba1-c193c58dfdf5"
      }
     }
    },
    "134040a9-1bae-4a10-916a-5d7c17a7fb76": {
     "id": "134040a9-1bae-4a10-916a-5d7c17a7fb76",
     "prev": "b11f1ef3-68e3-4f98-b78f-d9f52972a15d",
     "regions": {
      "18363ece-5acc-4c07-aef1-4fc40ca18d05": {
       "attrs": {
        "height": 0.8,
        "width": 0.8,
        "x": 0.1,
        "y": 0.1
       },
       "content": {
        "cell": "2da9ac4c-6728-48b2-aaa2-4c984963de88",
        "part": "whole"
       },
       "id": "18363ece-5acc-4c07-aef1-4fc40ca18d05"
      }
     }
    },
    "136c8cef-7c64-420e-a195-26644c4ae940": {
     "id": "136c8cef-7c64-420e-a195-26644c4ae940",
     "prev": "41f3cc81-52f7-4fb6-ac4a-4096e81ec02e",
     "regions": {
      "843cfccc-3e5a-4341-ada8-ad53f54ce876": {
       "attrs": {
        "height": 0.8,
        "width": 0.8,
        "x": 0.1,
        "y": 0.1
       },
       "content": {
        "cell": "fdfffd9d-e8ee-4dfc-9142-563a5bf789de",
        "part": "whole"
       },
       "id": "843cfccc-3e5a-4341-ada8-ad53f54ce876"
      }
     }
    },
    "183ff50d-3a62-443d-b22e-c148a7885d84": {
     "id": "183ff50d-3a62-443d-b22e-c148a7885d84",
     "prev": "b52ecd95-1a71-4050-ae02-2aa1e269a929",
     "regions": {
      "f217a4dd-6584-4ed5-b144-018c60fc071e": {
       "attrs": {
        "height": 0.8,
        "width": 0.8,
        "x": 0.1,
        "y": 0.1
       },
       "content": {
        "cell": "799a510b-db5e-4648-8bc8-33ee21c399e3",
        "part": "whole"
       },
       "id": "f217a4dd-6584-4ed5-b144-018c60fc071e"
      }
     }
    },
    "185ba9ff-c947-42ec-983a-a98de7aee5c4": {
     "id": "185ba9ff-c947-42ec-983a-a98de7aee5c4",
     "prev": "655bcc9b-a1c2-4302-959e-d314697c3b44",
     "regions": {
      "33b37008-f697-455f-ab69-7978724ea007": {
       "attrs": {
        "height": 0.8,
        "width": 0.8,
        "x": 0.1,
        "y": 0.1
       },
       "content": {
        "cell": "14a0fb6a-2851-46a5-9fb8-aae0d45ff205",
        "part": "whole"
       },
       "id": "33b37008-f697-455f-ab69-7978724ea007"
      }
     }
    },
    "1b211e3e-4c2d-4cac-af2c-cdfd13606a78": {
     "id": "1b211e3e-4c2d-4cac-af2c-cdfd13606a78",
     "prev": "e05e6b1c-e539-4ecb-98ef-b11faf6be91b",
     "regions": {
      "43947960-f36d-4be1-876c-5250a4edcb3a": {
       "attrs": {
        "height": 0.8,
        "width": 0.8,
        "x": 0.1,
        "y": 0.1
       },
       "content": {
        "cell": "1f158463-1403-4a88-828c-a4bf33e97d46",
        "part": "whole"
       },
       "id": "43947960-f36d-4be1-876c-5250a4edcb3a"
      }
     }
    },
    "1f3ea6ca-5c78-45d6-8adc-27b0968d7d7d": {
     "id": "1f3ea6ca-5c78-45d6-8adc-27b0968d7d7d",
     "prev": "65cccf81-4726-4601-89ea-390fd271eb04",
     "regions": {
      "3c7f56ee-b894-4aa3-8308-65bf35d43f3a": {
       "attrs": {
        "height": 0.8,
        "width": 0.8,
        "x": 0.1,
        "y": 0.1
       },
       "content": {
        "cell": "053d6799-19f1-4ac1-89dd-92efa607847c",
        "part": "whole"
       },
       "id": "3c7f56ee-b894-4aa3-8308-65bf35d43f3a"
      }
     }
    },
    "23104248-23af-45ff-bb44-5f68fc9b6df0": {
     "id": "23104248-23af-45ff-bb44-5f68fc9b6df0",
     "prev": "1b211e3e-4c2d-4cac-af2c-cdfd13606a78",
     "regions": {
      "954e0401-fa4a-4385-962e-bd290c31ad7d": {
       "attrs": {
        "height": 0.8,
        "width": 0.8,
        "x": 0.1,
        "y": 0.1
       },
       "content": {
        "cell": "f02496cf-ad86-4d43-8b12-d2d65e20d27c",
        "part": "whole"
       },
       "id": "954e0401-fa4a-4385-962e-bd290c31ad7d"
      }
     }
    },
    "2c961576-ba21-4d53-8afe-55a6458eb39f": {
     "id": "2c961576-ba21-4d53-8afe-55a6458eb39f",
     "prev": "ed7b61bb-1997-432b-aad4-3b338b9af5d5",
     "regions": {
      "04d6e2a0-9d7c-4f87-bdad-548a88d29ff3": {
       "attrs": {
        "height": 0.8,
        "width": 0.8,
        "x": 0.1,
        "y": 0.1
       },
       "content": {
        "cell": "eef5b468-0dc0-445c-b1e7-58fd28567c1a",
        "part": "whole"
       },
       "id": "04d6e2a0-9d7c-4f87-bdad-548a88d29ff3"
      }
     }
    },
    "30278d37-cfc7-4907-b741-00ba5f3421f6": {
     "id": "30278d37-cfc7-4907-b741-00ba5f3421f6",
     "prev": "183ff50d-3a62-443d-b22e-c148a7885d84",
     "regions": {
      "891f0476-5c21-4f87-a02d-5a4378a8f72a": {
       "attrs": {
        "height": 0.8,
        "width": 0.8,
        "x": 0.1,
        "y": 0.1
       },
       "content": {
        "cell": "987b6f36-1783-414d-90c2-c979ab734f5a",
        "part": "whole"
       },
       "id": "891f0476-5c21-4f87-a02d-5a4378a8f72a"
      }
     }
    },
    "41f3cc81-52f7-4fb6-ac4a-4096e81ec02e": {
     "id": "41f3cc81-52f7-4fb6-ac4a-4096e81ec02e",
     "prev": "ee650823-d6bf-45e3-baf9-36f4afe4fd96",
     "regions": {
      "0ab2d6cc-35ed-4f75-b45a-bf2915712533": {
       "attrs": {
        "height": 0.8,
        "width": 0.8,
        "x": 0.1,
        "y": 0.1
       },
       "content": {
        "cell": "e20eae31-63d3-4215-aa86-4b6e2ed3f2b3",
        "part": "whole"
       },
       "id": "0ab2d6cc-35ed-4f75-b45a-bf2915712533"
      }
     }
    },
    "5f9b4298-0108-4a2b-bffe-c56052514be3": {
     "id": "5f9b4298-0108-4a2b-bffe-c56052514be3",
     "prev": "f85f8355-db64-4e24-b0aa-0fcd4f543e4a",
     "regions": {
      "d5d40f40-6d49-410b-8af1-2851d21f8418": {
       "attrs": {
        "height": 0.8,
        "width": 0.8,
        "x": 0.1,
        "y": 0.1
       },
       "content": {
        "cell": "12a9fc78-7920-4510-a8a7-af05e93d9e79",
        "part": "whole"
       },
       "id": "d5d40f40-6d49-410b-8af1-2851d21f8418"
      }
     }
    },
    "655bcc9b-a1c2-4302-959e-d314697c3b44": {
     "id": "655bcc9b-a1c2-4302-959e-d314697c3b44",
     "prev": "134040a9-1bae-4a10-916a-5d7c17a7fb76",
     "regions": {
      "da0fb5bc-925d-4888-b699-6f7636aa9760": {
       "attrs": {
        "height": 0.8,
        "width": 0.8,
        "x": 0.1,
        "y": 0.1
       },
       "content": {
        "cell": "d8c6fb5f-5655-4f71-a254-fdcdb8725444",
        "part": "whole"
       },
       "id": "da0fb5bc-925d-4888-b699-6f7636aa9760"
      }
     }
    },
    "65cccf81-4726-4601-89ea-390fd271eb04": {
     "id": "65cccf81-4726-4601-89ea-390fd271eb04",
     "prev": "93f22efd-8856-4f53-9c06-00c2d94507da",
     "regions": {
      "e4bab738-99cf-443b-b9a8-2df5ef4eccbe": {
       "attrs": {
        "height": 0.8,
        "width": 0.8,
        "x": 0.1,
        "y": 0.1
       },
       "content": {
        "cell": "c2fa69ca-db89-4eb0-b2d6-9ec4dd33d5a4",
        "part": "whole"
       },
       "id": "e4bab738-99cf-443b-b9a8-2df5ef4eccbe"
      }
     }
    },
    "6e055f55-679e-48b3-ab90-b1464fd88eba": {
     "id": "6e055f55-679e-48b3-ab90-b1464fd88eba",
     "prev": "185ba9ff-c947-42ec-983a-a98de7aee5c4",
     "regions": {
      "5fa08bb9-7cf8-44ef-8d9e-8f5675d94520": {
       "attrs": {
        "height": 0.8,
        "width": 0.8,
        "x": 0.1,
        "y": 0.1
       },
       "content": {
        "cell": "265af97c-a794-4db8-b0a3-19788cab81f2",
        "part": "whole"
       },
       "id": "5fa08bb9-7cf8-44ef-8d9e-8f5675d94520"
      }
     }
    },
    "7d1875dc-7ccd-48c5-bcec-38dc903788dd": {
     "id": "7d1875dc-7ccd-48c5-bcec-38dc903788dd",
     "prev": "23104248-23af-45ff-bb44-5f68fc9b6df0",
     "regions": {
      "0af43bb5-cc7d-4b02-95d9-01c783b1df7b": {
       "attrs": {
        "height": 0.8,
        "width": 0.8,
        "x": 0.1,
        "y": 0.1
       },
       "content": {
        "cell": "d11b23d4-765c-4a34-bbaa-e68b07cf736e",
        "part": "whole"
       },
       "id": "0af43bb5-cc7d-4b02-95d9-01c783b1df7b"
      }
     }
    },
    "8e7c49c5-16cf-4e78-bf22-beac0d6099a8": {
     "id": "8e7c49c5-16cf-4e78-bf22-beac0d6099a8",
     "prev": "b90d7c69-8fbf-4583-99b3-db3d8a84aa24",
     "regions": {
      "22ac1ba9-8dc1-4b02-acc5-2aac5be9aca4": {
       "attrs": {
        "height": 0.8,
        "width": 0.8,
        "x": 0.1,
        "y": 0.1
       },
       "content": {
        "cell": "35474a6f-c057-4a75-a675-0652741e76d0",
        "part": "whole"
       },
       "id": "22ac1ba9-8dc1-4b02-acc5-2aac5be9aca4"
      }
     }
    },
    "93f22efd-8856-4f53-9c06-00c2d94507da": {
     "id": "93f22efd-8856-4f53-9c06-00c2d94507da",
     "prev": "ae4bccc0-fc83-445c-9ea8-aa300e3ad8f3",
     "regions": {
      "a8fe2947-194d-42b0-a340-1be49de26d32": {
       "attrs": {
        "height": 0.8,
        "width": 0.8,
        "x": 0.1,
        "y": 0.1
       },
       "content": {
        "cell": "937c7003-1313-4446-b5ee-b1674dad6e43",
        "part": "whole"
       },
       "id": "a8fe2947-194d-42b0-a340-1be49de26d32"
      }
     }
    },
    "a79c0aff-e06e-4ce3-b094-55946f3050e0": {
     "id": "a79c0aff-e06e-4ce3-b094-55946f3050e0",
     "prev": "2c961576-ba21-4d53-8afe-55a6458eb39f",
     "regions": {
      "63039265-92de-4bd7-aef9-80df9e4fd160": {
       "attrs": {
        "height": 0.8,
        "width": 0.8,
        "x": 0.1,
        "y": 0.1
       },
       "content": {
        "cell": "7351920b-6611-496a-a57f-01cd7fe190f0",
        "part": "whole"
       },
       "id": "63039265-92de-4bd7-aef9-80df9e4fd160"
      }
     }
    },
    "ae4bccc0-fc83-445c-9ea8-aa300e3ad8f3": {
     "id": "ae4bccc0-fc83-445c-9ea8-aa300e3ad8f3",
     "prev": "a79c0aff-e06e-4ce3-b094-55946f3050e0",
     "regions": {
      "3bed958e-b7df-45c6-9413-ae8016dc6275": {
       "attrs": {
        "height": 0.8,
        "width": 0.8,
        "x": 0.1,
        "y": 0.1
       },
       "content": {
        "cell": "227285a2-6cf7-494f-9e85-85c5c606e251",
        "part": "whole"
       },
       "id": "3bed958e-b7df-45c6-9413-ae8016dc6275"
      }
     }
    },
    "b11f1ef3-68e3-4f98-b78f-d9f52972a15d": {
     "id": "b11f1ef3-68e3-4f98-b78f-d9f52972a15d",
     "prev": "136c8cef-7c64-420e-a195-26644c4ae940",
     "regions": {
      "6fdea6ac-9b04-40e7-b856-785693308100": {
       "attrs": {
        "height": 0.8,
        "width": 0.8,
        "x": 0.1,
        "y": 0.1
       },
       "content": {
        "cell": "aed568cd-8017-40e0-8e28-8e7a813cb602",
        "part": "whole"
       },
       "id": "6fdea6ac-9b04-40e7-b856-785693308100"
      }
     }
    },
    "b52ecd95-1a71-4050-ae02-2aa1e269a929": {
     "id": "b52ecd95-1a71-4050-ae02-2aa1e269a929",
     "prev": "ff05e866-5e2d-45b1-acbe-0efcee695257",
     "regions": {
      "52820d49-e0b0-489d-9713-c185f0921344": {
       "attrs": {
        "height": 0.8,
        "width": 0.8,
        "x": 0.1,
        "y": 0.1
       },
       "content": {
        "cell": "ecf938f2-3097-46a0-a9b7-d7c01ff7d94d",
        "part": "whole"
       },
       "id": "52820d49-e0b0-489d-9713-c185f0921344"
      }
     }
    },
    "b90d7c69-8fbf-4583-99b3-db3d8a84aa24": {
     "id": "b90d7c69-8fbf-4583-99b3-db3d8a84aa24",
     "prev": "1f3ea6ca-5c78-45d6-8adc-27b0968d7d7d",
     "regions": {
      "fb8800b4-75c9-44e3-bbd5-6d3cb45e6c80": {
       "attrs": {
        "height": 0.8,
        "width": 0.8,
        "x": 0.1,
        "y": 0.1
       },
       "content": {
        "cell": "f0755788-a0b3-486e-a46f-2bbebe799afd",
        "part": "whole"
       },
       "id": "fb8800b4-75c9-44e3-bbd5-6d3cb45e6c80"
      }
     }
    },
    "e05e6b1c-e539-4ecb-98ef-b11faf6be91b": {
     "id": "e05e6b1c-e539-4ecb-98ef-b11faf6be91b",
     "prev": "032f06f6-030c-4c83-baa9-12dd8b3af8b3",
     "regions": {
      "f34baede-b1ed-483a-8ad5-fa46e63efb4b": {
       "attrs": {
        "height": 0.8,
        "width": 0.8,
        "x": 0.1,
        "y": 0.1
       },
       "content": {
        "cell": "55368403-b95c-47ed-8272-ad7e649842d3",
        "part": "whole"
       },
       "id": "f34baede-b1ed-483a-8ad5-fa46e63efb4b"
      }
     }
    },
    "eaa8b56e-5aeb-49c0-aed5-c684ed341ab2": {
     "id": "eaa8b56e-5aeb-49c0-aed5-c684ed341ab2",
     "prev": "7d1875dc-7ccd-48c5-bcec-38dc903788dd",
     "regions": {
      "cb261485-9bdc-4192-acbc-2cd13e5c3e62": {
       "attrs": {
        "height": 0.8,
        "width": 0.8,
        "x": 0.1,
        "y": 0.1
       },
       "content": {
        "cell": "78284d42-e31f-4173-a5b3-dbe1ab9df346",
        "part": "whole"
       },
       "id": "cb261485-9bdc-4192-acbc-2cd13e5c3e62"
      }
     }
    },
    "ed7b61bb-1997-432b-aad4-3b338b9af5d5": {
     "id": "ed7b61bb-1997-432b-aad4-3b338b9af5d5",
     "prev": "6e055f55-679e-48b3-ab90-b1464fd88eba",
     "regions": {
      "d3da464a-0596-4ec3-a4a0-ecb62dc09ee8": {
       "attrs": {
        "height": 0.8,
        "width": 0.8,
        "x": 0.1,
        "y": 0.1
       },
       "content": {
        "cell": "1e885973-0477-422d-afaa-f068b3b64820",
        "part": "whole"
       },
       "id": "d3da464a-0596-4ec3-a4a0-ecb62dc09ee8"
      }
     }
    },
    "ee650823-d6bf-45e3-baf9-36f4afe4fd96": {
     "id": "ee650823-d6bf-45e3-baf9-36f4afe4fd96",
     "prev": "eaa8b56e-5aeb-49c0-aed5-c684ed341ab2",
     "regions": {
      "b2d4b6c3-e2b6-407c-bce7-febe63d68828": {
       "attrs": {
        "height": 0.8,
        "width": 0.8,
        "x": 0.1,
        "y": 0.1
       },
       "content": {
        "cell": "3801145e-d6b9-444d-b3ec-a68d62e23d93",
        "part": "whole"
       },
       "id": "b2d4b6c3-e2b6-407c-bce7-febe63d68828"
      }
     }
    },
    "f85f8355-db64-4e24-b0aa-0fcd4f543e4a": {
     "id": "f85f8355-db64-4e24-b0aa-0fcd4f543e4a",
     "prev": "8e7c49c5-16cf-4e78-bf22-beac0d6099a8",
     "regions": {
      "291d6aac-a7a8-4532-9634-9b963e7fddaa": {
       "attrs": {
        "height": 0.8,
        "width": 0.8,
        "x": 0.1,
        "y": 0.1
       },
       "content": {
        "cell": "21bd0558-7c5b-4ba0-9ad5-7477d55e2357",
        "part": "whole"
       },
       "id": "291d6aac-a7a8-4532-9634-9b963e7fddaa"
      }
     }
    },
    "ff05e866-5e2d-45b1-acbe-0efcee695257": {
     "id": "ff05e866-5e2d-45b1-acbe-0efcee695257",
     "prev": "5f9b4298-0108-4a2b-bffe-c56052514be3",
     "regions": {
      "339340ed-9655-4409-8676-657f4972baf1": {
       "attrs": {
        "height": 0.8,
        "width": 0.8,
        "x": 0.1,
        "y": 0.1
       },
       "content": {
        "cell": "d8581023-6981-41ce-a797-97a3bc640e8f",
        "part": "whole"
       },
       "id": "339340ed-9655-4409-8676-657f4972baf1"
      }
     }
    }
   },
   "themes": {
    "default": "1dfecaab-6754-48e8-9fea-1c85ecc7466f",
    "theme": {
     "1dfecaab-6754-48e8-9fea-1c85ecc7466f": {
      "backgrounds": {
       "dc7afa04-bf90-40b1-82a5-726e3cff5267": {
        "background-color": "31af15d2-7e15-44c5-ab5e-e04b16a89eff",
        "id": "dc7afa04-bf90-40b1-82a5-726e3cff5267"
       }
      },
      "id": "1dfecaab-6754-48e8-9fea-1c85ecc7466f",
      "palette": {
       "19cc588f-0593-49c9-9f4b-e4d7cc113b1c": {
        "id": "19cc588f-0593-49c9-9f4b-e4d7cc113b1c",
        "rgb": [
         252,
         252,
         252
        ]
       },
       "31af15d2-7e15-44c5-ab5e-e04b16a89eff": {
        "id": "31af15d2-7e15-44c5-ab5e-e04b16a89eff",
        "rgb": [
         68,
         68,
         68
        ]
       },
       "50f92c45-a630-455b-aec3-788680ec7410": {
        "id": "50f92c45-a630-455b-aec3-788680ec7410",
        "rgb": [
         197,
         226,
         245
        ]
       },
       "c5cc3653-2ee1-402a-aba2-7caae1da4f6c": {
        "id": "c5cc3653-2ee1-402a-aba2-7caae1da4f6c",
        "rgb": [
         43,
         126,
         184
        ]
       },
       "efa7f048-9acb-414c-8b04-a26811511a21": {
        "id": "efa7f048-9acb-414c-8b04-a26811511a21",
        "rgb": [
         25.118061674008803,
         73.60176211453744,
         107.4819383259912
        ]
       }
      },
      "rules": {
       "a": {
        "color": "19cc588f-0593-49c9-9f4b-e4d7cc113b1c"
       },
       "blockquote": {
        "color": "50f92c45-a630-455b-aec3-788680ec7410",
        "font-size": 3
       },
       "code": {
        "font-family": "Anonymous Pro"
       },
       "h1": {
        "color": "19cc588f-0593-49c9-9f4b-e4d7cc113b1c",
        "font-family": "Merriweather",
        "font-size": 8
       },
       "h2": {
        "color": "19cc588f-0593-49c9-9f4b-e4d7cc113b1c",
        "font-family": "Merriweather",
        "font-size": 6
       },
       "h3": {
        "color": "50f92c45-a630-455b-aec3-788680ec7410",
        "font-family": "Lato",
        "font-size": 5.5
       },
       "h4": {
        "color": "c5cc3653-2ee1-402a-aba2-7caae1da4f6c",
        "font-family": "Lato",
        "font-size": 5
       },
       "h5": {
        "font-family": "Lato"
       },
       "h6": {
        "font-family": "Lato"
       },
       "h7": {
        "font-family": "Lato"
       },
       "li": {
        "color": "50f92c45-a630-455b-aec3-788680ec7410",
        "font-size": 3.25
       },
       "pre": {
        "font-family": "Anonymous Pro",
        "font-size": 4
       }
      },
      "text-base": {
       "color": "19cc588f-0593-49c9-9f4b-e4d7cc113b1c",
       "font-family": "Lato",
       "font-size": 4
      }
     }
    }
   }
  }
 },
 "nbformat": 4,
 "nbformat_minor": 1
}
